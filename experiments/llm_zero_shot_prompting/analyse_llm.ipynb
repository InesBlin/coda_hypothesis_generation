{
 "cells": [
  {
   "cell_type": "code",
   "execution_count": 267,
   "metadata": {},
   "outputs": [],
   "source": [
    "import os\n",
    "import math\n",
    "import pandas as pd\n",
    "from tqdm import tqdm\n",
    "import numpy as np\n",
    "import plotly.express as px"
   ]
  },
  {
   "cell_type": "code",
   "execution_count": 268,
   "metadata": {},
   "outputs": [],
   "source": [
    "HIGHER_CATEGORIES = {\n",
    "    \"Demographic and Personal Characteristics\": ['AgeVariable', 'EducationVariable', 'EthnicityVariable', \n",
    "                                                'GenderVariable', 'PersonalityVariable', 'HormonesVariable', \n",
    "                                                'ReligiosityVariable'],\n",
    "    \n",
    "    \"Social and Group Dynamics\": ['AcquaintanceVariable', 'Group_SizeVariable', 'LeadershipVariable', \n",
    "                                  'MonitoringVariable', 'MatchingVariable', 'OstracismVariable', \n",
    "                                  'Partner_realVariable', 'Partner_typeVariable', \n",
    "                                  'Intergroup_Competition_Variable', 'Perception_of_the_partner(s)Variable', \n",
    "                                  \"Partner(s)'_strategiesVariable\", 'SymmetryVariable'],\n",
    "    \n",
    "    \"Psychological and Cognitive Factors\": ['Cognitive_loadVariable', 'EmotionsVariable', 'ExpectationsVariable', \n",
    "                                           'Game_ComprehensionVariable', 'Motivational_OrientationVariable', \n",
    "                                           'Preferences_for_Conditional_CooperationVariable', 'State_TrustVariable'],\n",
    "    \n",
    "    \"Game and Experimental Conditions\": ['Behavior_in_the_gameVariable', 'ChoicesVariable', 'Experimental_SettingVariable', \n",
    "                                        'FeedbackVariable', 'FramingVariable', 'Game_DurationVariable', \n",
    "                                        'Game_TypeVariable', 'PeriodVariable', 'SequentialityVariable', \n",
    "                                        'Shadow_of_the_FutureVariable', 'Time_PressureVariable'],\n",
    "    \n",
    "    \"Institutional and Structural Factors\": ['AnchorVariable', 'CriticalityVariable', 'Degree_of_conflicting_interestsVariable', \n",
    "                                            'IncentivesVariable', 'Institutional_ChoiceVariable', 'Institution__Variable', \n",
    "                                            'TaxationVariable'],\n",
    "    \n",
    "    \"Game Types and Scenarios\": ['Public_Goods_GameVariable', 'Resource_Dilemma_GameVariable', \n",
    "                                 'Step-level_Public_Goods_GameVariable'],\n",
    "    \n",
    "    \"Behavioral and Strategic Factors\": ['CommunicationVariable', 'IdentificationVariable', 'Normative_BehaviorVariable', \n",
    "                                        'Partner_typeVariable', 'ReputationVariable', 'SynchronyVariable'],\n",
    "    \n",
    "    \"Control and Influence Mechanisms\": ['PowerVariable', 'PunishmentVariable', 'RewardVariable', 'PrimingVariable'],\n",
    "    \n",
    "    \"Environmental and External Factors\": ['Physical_ProximityVariable', 'UncertaintyVariable', \n",
    "                                          'Shadow_of_the_FutureVariable']\n",
    "}\n",
    "\n",
    "HIGHER_CATEGORIES_R = {y: x for x, l in HIGHER_CATEGORIES.items() for y in l}"
   ]
  },
  {
   "cell_type": "code",
   "execution_count": 269,
   "metadata": {},
   "outputs": [],
   "source": [
    "def type_of_effect(row):\n",
    "    \"\"\" Categorize effect based on its signifiance \"\"\"\n",
    "    if math.isnan(row.ESLower) or math.isnan(row.ESUpper):\n",
    "        if row.ES > -0.2 and row.ES < 0.2:\n",
    "            return 'noEffect'\n",
    "        return 'positive' if row.ES >= 0.2 else 'negative'\n",
    "    if row.ESLower <= 0 <= row.ESUpper:\n",
    "        return 'noEffect'\n",
    "    return 'positive'  if float(row.ES) > 0 else 'negative'\n",
    "\n",
    "def get_output_csv(path, giv):\n",
    "    df = pd.read_csv(path, index_col=0)\n",
    "    df[\"giv\"] = giv\n",
    "    return df \n",
    "\n",
    "def get_input_csv(path):\n",
    "    df = pd.read_csv(path, index_col=0)\n",
    "    tqdm.pandas()\n",
    "    df[\"effect\"] = df.progress_apply(type_of_effect, axis=1)\n",
    "    return df"
   ]
  },
  {
   "cell_type": "code",
   "execution_count": 270,
   "metadata": {},
   "outputs": [
    {
     "name": "stderr",
     "output_type": "stream",
     "text": [
      "  0%|          | 0/4463 [00:00<?, ?it/s]"
     ]
    },
    {
     "name": "stderr",
     "output_type": "stream",
     "text": [
      "100%|██████████| 4463/4463 [00:00<00:00, 30159.73it/s]\n",
      "100%|██████████| 91156/91156 [00:02<00:00, 38292.11it/s]\n",
      "100%|██████████| 846/846 [00:00<00:00, 35698.72it/s]\n"
     ]
    }
   ],
   "source": [
    "THS = [\"regular\", \"study_mod\", \"var_mod\"]\n",
    "DATA_IN = {\n",
    "    th: get_input_csv(f\"../../data/hypotheses/entry/h_{th}_es_d.csv\") for th in THS\n",
    "}"
   ]
  },
  {
   "cell_type": "code",
   "execution_count": 271,
   "metadata": {},
   "outputs": [
    {
     "name": "stdout",
     "output_type": "stream",
     "text": [
      "regular\t# h_data: 4463\t# h_output: 243\n",
      "study_mod\t# h_data: 91156\t# h_output: 290\n",
      "var_mod\t# h_data: 846\t# h_output: 60\n"
     ]
    }
   ],
   "source": [
    "def format_data_out(fo):\n",
    "    files = [x for x in os.listdir(fo) if x.endswith(\".csv\")] \n",
    "    data_out = pd.concat([get_output_csv(path=os.path.join(fo, x), giv=x.replace(\".csv\", \"\")) for x in files], axis=0)\n",
    "    data_out[\"dependent\"]=\"https://data.cooperationdatabank.org/id/dependentvariable/\" + data_out[\"dependent\"]\n",
    "    data_out[\"category\"] = data_out[\"giv\"].apply(lambda x: HIGHER_CATEGORIES_R[x])\n",
    "    return data_out\n",
    "\n",
    "DATA_OUT = {\n",
    "    th: format_data_out(f\"./final/h_{th}_es_d/outputs\") for th in THS\n",
    "}\n",
    "for k, v in DATA_IN.items():\n",
    "    print(f\"{k}\\t# h_data: {v.shape[0]}\\t# h_output: {DATA_OUT[k].shape[0]}\")\n"
   ]
  },
  {
   "cell_type": "code",
   "execution_count": 272,
   "metadata": {},
   "outputs": [
    {
     "name": "stderr",
     "output_type": "stream",
     "text": [
      "100%|██████████| 243/243 [00:01<00:00, 159.30it/s]\n",
      "100%|██████████| 290/290 [00:07<00:00, 38.31it/s]\n",
      "100%|██████████| 60/60 [00:00<00:00, 163.91it/s]\n"
     ]
    },
    {
     "data": {
      "text/html": [
       "<div>\n",
       "<style scoped>\n",
       "    .dataframe tbody tr th:only-of-type {\n",
       "        vertical-align: middle;\n",
       "    }\n",
       "\n",
       "    .dataframe tbody tr th {\n",
       "        vertical-align: top;\n",
       "    }\n",
       "\n",
       "    .dataframe thead th {\n",
       "        text-align: right;\n",
       "    }\n",
       "</style>\n",
       "<table border=\"1\" class=\"dataframe\">\n",
       "  <thead>\n",
       "    <tr style=\"text-align: right;\">\n",
       "      <th></th>\n",
       "      <th>dependent</th>\n",
       "      <th>iv</th>\n",
       "      <th>iv_label</th>\n",
       "      <th>cat_t1</th>\n",
       "      <th>cat_t1_label</th>\n",
       "      <th>cat_t2</th>\n",
       "      <th>cat_t2_label</th>\n",
       "      <th>comparative</th>\n",
       "      <th>giv</th>\n",
       "      <th>category</th>\n",
       "      <th>th</th>\n",
       "      <th>evidence_plus</th>\n",
       "      <th>evidence_minus</th>\n",
       "      <th>acc</th>\n",
       "      <th>diff</th>\n",
       "    </tr>\n",
       "  </thead>\n",
       "  <tbody>\n",
       "    <tr>\n",
       "      <th>4</th>\n",
       "      <td>https://data.cooperationdatabank.org/id/depend...</td>\n",
       "      <td>heterogeneousEthnicity</td>\n",
       "      <td>Heterogeneous ethnicity</td>\n",
       "      <td>False</td>\n",
       "      <td>False</td>\n",
       "      <td>True</td>\n",
       "      <td>True</td>\n",
       "      <td>higher</td>\n",
       "      <td>EthnicityVariable</td>\n",
       "      <td>Demographic and Personal Characteristics</td>\n",
       "      <td>regular</td>\n",
       "      <td>0</td>\n",
       "      <td>0</td>\n",
       "      <td>N/A</td>\n",
       "      <td>0</td>\n",
       "    </tr>\n",
       "    <tr>\n",
       "      <th>0</th>\n",
       "      <td>https://data.cooperationdatabank.org/id/depend...</td>\n",
       "      <td>gameComprehensionLevel</td>\n",
       "      <td>Comprehension of the game level</td>\n",
       "      <td>low</td>\n",
       "      <td>Low</td>\n",
       "      <td>high</td>\n",
       "      <td>High</td>\n",
       "      <td>higher</td>\n",
       "      <td>Game_ComprehensionVariable</td>\n",
       "      <td>Psychological and Cognitive Factors</td>\n",
       "      <td>regular</td>\n",
       "      <td>0</td>\n",
       "      <td>0</td>\n",
       "      <td>N/A</td>\n",
       "      <td>0</td>\n",
       "    </tr>\n",
       "    <tr>\n",
       "      <th>0</th>\n",
       "      <td>https://data.cooperationdatabank.org/id/depend...</td>\n",
       "      <td>rebateorRefund</td>\n",
       "      <td>Rebate vs refund</td>\n",
       "      <td>absent</td>\n",
       "      <td>Absent</td>\n",
       "      <td>full_refund</td>\n",
       "      <td>Full Refund</td>\n",
       "      <td>higher</td>\n",
       "      <td>Institution__Variable</td>\n",
       "      <td>Institutional and Structural Factors</td>\n",
       "      <td>regular</td>\n",
       "      <td>0</td>\n",
       "      <td>2</td>\n",
       "      <td>0.0</td>\n",
       "      <td>-2</td>\n",
       "    </tr>\n",
       "    <tr>\n",
       "      <th>1</th>\n",
       "      <td>https://data.cooperationdatabank.org/id/depend...</td>\n",
       "      <td>feedbackContent</td>\n",
       "      <td>Feedback content</td>\n",
       "      <td>choice</td>\n",
       "      <td>Choice</td>\n",
       "      <td>earnings</td>\n",
       "      <td>Earnings</td>\n",
       "      <td>higher</td>\n",
       "      <td>FeedbackVariable</td>\n",
       "      <td>Game and Experimental Conditions</td>\n",
       "      <td>regular</td>\n",
       "      <td>7</td>\n",
       "      <td>4</td>\n",
       "      <td>0.636364</td>\n",
       "      <td>3</td>\n",
       "    </tr>\n",
       "    <tr>\n",
       "      <th>3</th>\n",
       "      <td>https://data.cooperationdatabank.org/id/depend...</td>\n",
       "      <td>communicationContent</td>\n",
       "      <td>Communication content</td>\n",
       "      <td>irrelevant</td>\n",
       "      <td>Irrelevant</td>\n",
       "      <td>promise</td>\n",
       "      <td>Promise</td>\n",
       "      <td>higher</td>\n",
       "      <td>CommunicationVariable</td>\n",
       "      <td>Behavioral and Strategic Factors</td>\n",
       "      <td>regular</td>\n",
       "      <td>0</td>\n",
       "      <td>3</td>\n",
       "      <td>0.0</td>\n",
       "      <td>-3</td>\n",
       "    </tr>\n",
       "    <tr>\n",
       "      <th>2</th>\n",
       "      <td>https://data.cooperationdatabank.org/id/depend...</td>\n",
       "      <td>matching</td>\n",
       "      <td>Matching</td>\n",
       "      <td>partner</td>\n",
       "      <td>Partner</td>\n",
       "      <td>partner's_choice</td>\n",
       "      <td>Partner's choice</td>\n",
       "      <td>lower</td>\n",
       "      <td>MatchingVariable</td>\n",
       "      <td>Social and Group Dynamics</td>\n",
       "      <td>regular</td>\n",
       "      <td>3</td>\n",
       "      <td>0</td>\n",
       "      <td>1.0</td>\n",
       "      <td>3</td>\n",
       "    </tr>\n",
       "    <tr>\n",
       "      <th>2</th>\n",
       "      <td>https://data.cooperationdatabank.org/id/depend...</td>\n",
       "      <td>conflictIndexLevel</td>\n",
       "      <td>Conflict level</td>\n",
       "      <td>high</td>\n",
       "      <td>High</td>\n",
       "      <td>medium</td>\n",
       "      <td>Medium</td>\n",
       "      <td>higher</td>\n",
       "      <td>Degree_of_conflicting_interestsVariable</td>\n",
       "      <td>Institutional and Structural Factors</td>\n",
       "      <td>regular</td>\n",
       "      <td>9</td>\n",
       "      <td>30</td>\n",
       "      <td>0.230769</td>\n",
       "      <td>-21</td>\n",
       "    </tr>\n",
       "    <tr>\n",
       "      <th>4</th>\n",
       "      <td>https://data.cooperationdatabank.org/id/depend...</td>\n",
       "      <td>preferenceConditionalCooperation</td>\n",
       "      <td>Preference for conditional cooperation</td>\n",
       "      <td>freeriders</td>\n",
       "      <td>Freeriders</td>\n",
       "      <td>hump-shaped_contributors</td>\n",
       "      <td>Hump-shaped contributors</td>\n",
       "      <td>higher</td>\n",
       "      <td>Preferences_for_Conditional_CooperationVariable</td>\n",
       "      <td>Psychological and Cognitive Factors</td>\n",
       "      <td>regular</td>\n",
       "      <td>0</td>\n",
       "      <td>1</td>\n",
       "      <td>0.0</td>\n",
       "      <td>-1</td>\n",
       "    </tr>\n",
       "    <tr>\n",
       "      <th>2</th>\n",
       "      <td>https://data.cooperationdatabank.org/id/depend...</td>\n",
       "      <td>institutionalChoice</td>\n",
       "      <td>Institutional choice</td>\n",
       "      <td>endogenous</td>\n",
       "      <td>Endogenous</td>\n",
       "      <td>exogenous</td>\n",
       "      <td>Exogenous</td>\n",
       "      <td>higher</td>\n",
       "      <td>Institutional_ChoiceVariable</td>\n",
       "      <td>Institutional and Structural Factors</td>\n",
       "      <td>regular</td>\n",
       "      <td>19</td>\n",
       "      <td>7</td>\n",
       "      <td>0.730769</td>\n",
       "      <td>12</td>\n",
       "    </tr>\n",
       "    <tr>\n",
       "      <th>2</th>\n",
       "      <td>https://data.cooperationdatabank.org/id/depend...</td>\n",
       "      <td>emotion</td>\n",
       "      <td>Emotion</td>\n",
       "      <td>guilt</td>\n",
       "      <td>Guilt</td>\n",
       "      <td>neutral</td>\n",
       "      <td>Neutral</td>\n",
       "      <td>higher</td>\n",
       "      <td>EmotionsVariable</td>\n",
       "      <td>Psychological and Cognitive Factors</td>\n",
       "      <td>regular</td>\n",
       "      <td>1</td>\n",
       "      <td>0</td>\n",
       "      <td>1.0</td>\n",
       "      <td>1</td>\n",
       "    </tr>\n",
       "  </tbody>\n",
       "</table>\n",
       "</div>"
      ],
      "text/plain": [
       "                                           dependent  \\\n",
       "4  https://data.cooperationdatabank.org/id/depend...   \n",
       "0  https://data.cooperationdatabank.org/id/depend...   \n",
       "0  https://data.cooperationdatabank.org/id/depend...   \n",
       "1  https://data.cooperationdatabank.org/id/depend...   \n",
       "3  https://data.cooperationdatabank.org/id/depend...   \n",
       "2  https://data.cooperationdatabank.org/id/depend...   \n",
       "2  https://data.cooperationdatabank.org/id/depend...   \n",
       "4  https://data.cooperationdatabank.org/id/depend...   \n",
       "2  https://data.cooperationdatabank.org/id/depend...   \n",
       "2  https://data.cooperationdatabank.org/id/depend...   \n",
       "\n",
       "                                 iv                                iv_label  \\\n",
       "4            heterogeneousEthnicity                 Heterogeneous ethnicity   \n",
       "0            gameComprehensionLevel         Comprehension of the game level   \n",
       "0                    rebateorRefund                        Rebate vs refund   \n",
       "1                   feedbackContent                        Feedback content   \n",
       "3              communicationContent                   Communication content   \n",
       "2                          matching                                Matching   \n",
       "2                conflictIndexLevel                          Conflict level   \n",
       "4  preferenceConditionalCooperation  Preference for conditional cooperation   \n",
       "2               institutionalChoice                    Institutional choice   \n",
       "2                           emotion                                 Emotion   \n",
       "\n",
       "       cat_t1 cat_t1_label                    cat_t2  \\\n",
       "4       False        False                      True   \n",
       "0         low          Low                      high   \n",
       "0      absent       Absent               full_refund   \n",
       "1      choice       Choice                  earnings   \n",
       "3  irrelevant   Irrelevant                   promise   \n",
       "2     partner      Partner          partner's_choice   \n",
       "2        high         High                    medium   \n",
       "4  freeriders   Freeriders  hump-shaped_contributors   \n",
       "2  endogenous   Endogenous                 exogenous   \n",
       "2       guilt        Guilt                   neutral   \n",
       "\n",
       "               cat_t2_label comparative  \\\n",
       "4                      True      higher   \n",
       "0                      High      higher   \n",
       "0               Full Refund      higher   \n",
       "1                  Earnings      higher   \n",
       "3                   Promise      higher   \n",
       "2          Partner's choice       lower   \n",
       "2                    Medium      higher   \n",
       "4  Hump-shaped contributors      higher   \n",
       "2                 Exogenous      higher   \n",
       "2                   Neutral      higher   \n",
       "\n",
       "                                               giv  \\\n",
       "4                                EthnicityVariable   \n",
       "0                       Game_ComprehensionVariable   \n",
       "0                            Institution__Variable   \n",
       "1                                 FeedbackVariable   \n",
       "3                            CommunicationVariable   \n",
       "2                                 MatchingVariable   \n",
       "2          Degree_of_conflicting_interestsVariable   \n",
       "4  Preferences_for_Conditional_CooperationVariable   \n",
       "2                     Institutional_ChoiceVariable   \n",
       "2                                 EmotionsVariable   \n",
       "\n",
       "                                   category       th  evidence_plus  \\\n",
       "4  Demographic and Personal Characteristics  regular              0   \n",
       "0       Psychological and Cognitive Factors  regular              0   \n",
       "0      Institutional and Structural Factors  regular              0   \n",
       "1          Game and Experimental Conditions  regular              7   \n",
       "3          Behavioral and Strategic Factors  regular              0   \n",
       "2                 Social and Group Dynamics  regular              3   \n",
       "2      Institutional and Structural Factors  regular              9   \n",
       "4       Psychological and Cognitive Factors  regular              0   \n",
       "2      Institutional and Structural Factors  regular             19   \n",
       "2       Psychological and Cognitive Factors  regular              1   \n",
       "\n",
       "   evidence_minus       acc  diff  \n",
       "4               0       N/A     0  \n",
       "0               0       N/A     0  \n",
       "0               2       0.0    -2  \n",
       "1               4  0.636364     3  \n",
       "3               3       0.0    -3  \n",
       "2               0       1.0     3  \n",
       "2              30  0.230769   -21  \n",
       "4               1       0.0    -1  \n",
       "2               7  0.730769    12  \n",
       "2               0       1.0     1  "
      ]
     },
     "execution_count": 272,
     "metadata": {},
     "output_type": "execute_result"
    }
   ],
   "source": [
    "def get_evidence_data(cols, data, row):\n",
    "    for col in cols:\n",
    "        data = data[data[col] == row[col]]\n",
    "    return data\n",
    "\n",
    "def get_ratio(cols, data, row):\n",
    "    evidence = get_evidence_data(cols, data, row)\n",
    "    grouped = evidence.groupby('effect').agg({'obs': 'count'}).reset_index()\n",
    "    if row.comparative == \"higher\":  # #pos/#neg\n",
    "        col1, col2 = 'positive', 'negative'\n",
    "    else:  # row.comparative == \"lower\":  # #neg/#pos\n",
    "        col2, col1 = 'positive', 'negative'\n",
    "    row[\"evidence_plus\"] = (list(grouped[grouped.effect==col1].obs.values) + [0])[0]\n",
    "    row[\"evidence_minus\"] = (list(grouped[grouped.effect==col2].obs.values) + [0])[0]\n",
    "    row[\"acc\"] = row[\"evidence_plus\"]/(row[\"evidence_plus\"]+row[\"evidence_minus\"]) if (row[\"evidence_plus\"]+row[\"evidence_minus\"]) else \"N/A\"\n",
    "    row[\"diff\"] = row[\"evidence_plus\"] - row[\"evidence_minus\"]\n",
    "    return row\n",
    "\n",
    "def add_info(df, th):\n",
    "    cols_filter = [\"dependent\"] + [col for col in df.columns if col.endswith(\"_label\")]\n",
    "    tqdm.pandas()\n",
    "    df[\"th\"] = th\n",
    "    df = df.progress_apply(lambda row: get_ratio(cols_filter, DATA_IN[th], row), axis=1)\n",
    "    return df\n",
    "\n",
    "DATA_OUT = {k: add_info(v, k) for k, v in DATA_OUT.items()}\n",
    "DATA_OUT[\"regular\"].sample(10)\n"
   ]
  },
  {
   "cell_type": "code",
   "execution_count": 273,
   "metadata": {},
   "outputs": [
    {
     "data": {
      "text/html": [
       "<div>\n",
       "<style scoped>\n",
       "    .dataframe tbody tr th:only-of-type {\n",
       "        vertical-align: middle;\n",
       "    }\n",
       "\n",
       "    .dataframe tbody tr th {\n",
       "        vertical-align: top;\n",
       "    }\n",
       "\n",
       "    .dataframe thead th {\n",
       "        text-align: right;\n",
       "    }\n",
       "</style>\n",
       "<table border=\"1\" class=\"dataframe\">\n",
       "  <thead>\n",
       "    <tr style=\"text-align: right;\">\n",
       "      <th></th>\n",
       "      <th>giv</th>\n",
       "      <th>category</th>\n",
       "      <th>th</th>\n",
       "      <th>evidence_plus</th>\n",
       "      <th>evidence_minus</th>\n",
       "      <th>acc</th>\n",
       "      <th>diff</th>\n",
       "    </tr>\n",
       "  </thead>\n",
       "  <tbody>\n",
       "    <tr>\n",
       "      <th>2</th>\n",
       "      <td>Game_ComprehensionVariable</td>\n",
       "      <td>Psychological and Cognitive Factors</td>\n",
       "      <td>study_mod</td>\n",
       "      <td>0</td>\n",
       "      <td>0</td>\n",
       "      <td>N/A</td>\n",
       "      <td>0</td>\n",
       "    </tr>\n",
       "    <tr>\n",
       "      <th>4</th>\n",
       "      <td>Public_Goods_GameVariable</td>\n",
       "      <td>Game Types and Scenarios</td>\n",
       "      <td>study_mod</td>\n",
       "      <td>1</td>\n",
       "      <td>3</td>\n",
       "      <td>0.25</td>\n",
       "      <td>-2</td>\n",
       "    </tr>\n",
       "    <tr>\n",
       "      <th>2</th>\n",
       "      <td>PowerVariable</td>\n",
       "      <td>Control and Influence Mechanisms</td>\n",
       "      <td>study_mod</td>\n",
       "      <td>3</td>\n",
       "      <td>2</td>\n",
       "      <td>0.6</td>\n",
       "      <td>1</td>\n",
       "    </tr>\n",
       "  </tbody>\n",
       "</table>\n",
       "</div>"
      ],
      "text/plain": [
       "                          giv                             category         th  \\\n",
       "2  Game_ComprehensionVariable  Psychological and Cognitive Factors  study_mod   \n",
       "4   Public_Goods_GameVariable             Game Types and Scenarios  study_mod   \n",
       "2               PowerVariable     Control and Influence Mechanisms  study_mod   \n",
       "\n",
       "   evidence_plus  evidence_minus   acc  diff  \n",
       "2              0               0   N/A     0  \n",
       "4              1               3  0.25    -2  \n",
       "2              3               2   0.6     1  "
      ]
     },
     "execution_count": 273,
     "metadata": {},
     "output_type": "execute_result"
    }
   ],
   "source": [
    "COLS_KEEP = [\"giv\", \"category\", \"th\", \"evidence_plus\", \"evidence_minus\", \"acc\", \"diff\"]\n",
    "DATA_VIS = pd.concat([v[COLS_KEEP] for _, v in DATA_OUT.items()], axis=0)\n",
    "DATA_VIS.sample(3)"
   ]
  },
  {
   "cell_type": "code",
   "execution_count": 274,
   "metadata": {},
   "outputs": [
    {
     "data": {
      "application/vnd.plotly.v1+json": {
       "config": {
        "plotlyServerURL": "https://plot.ly"
       },
       "data": [
        {
         "customdata": [
          [
           "AcquaintanceVariable"
          ],
          [
           "AgeVariable"
          ],
          [
           "AnchorVariable"
          ],
          [
           "Behavior_in_the_gameVariable"
          ],
          [
           "ChoicesVariable"
          ],
          [
           "Cognitive_loadVariable"
          ],
          [
           "CommunicationVariable"
          ],
          [
           "Degree_of_conflicting_interestsVariable"
          ],
          [
           "EducationVariable"
          ],
          [
           "EmotionsVariable"
          ],
          [
           "EthnicityVariable"
          ],
          [
           "Experimental_SettingVariable"
          ],
          [
           "FeedbackVariable"
          ],
          [
           "FramingVariable"
          ],
          [
           "Game_DurationVariable"
          ],
          [
           "Game_TypeVariable"
          ],
          [
           "GenderVariable"
          ],
          [
           "Group_SizeVariable"
          ],
          [
           "HormonesVariable"
          ],
          [
           "IdentificationVariable"
          ],
          [
           "IncentivesVariable"
          ],
          [
           "Institution__Variable"
          ],
          [
           "Institutional_ChoiceVariable"
          ],
          [
           "Intergroup_Competition_Variable"
          ],
          [
           "LeadershipVariable"
          ],
          [
           "MatchingVariable"
          ],
          [
           "MonitoringVariable"
          ],
          [
           "Motivational_OrientationVariable"
          ],
          [
           "Normative_BehaviorVariable"
          ],
          [
           "OstracismVariable"
          ],
          [
           "Partner(s)'_strategiesVariable"
          ],
          [
           "Partner_typeVariable"
          ],
          [
           "Perception_of_the_partner(s)Variable"
          ],
          [
           "PeriodVariable"
          ],
          [
           "PersonalityVariable"
          ],
          [
           "PowerVariable"
          ],
          [
           "Preferences_for_Conditional_CooperationVariable"
          ],
          [
           "PrimingVariable"
          ],
          [
           "Public_Goods_GameVariable"
          ],
          [
           "PunishmentVariable"
          ],
          [
           "ReligiosityVariable"
          ],
          [
           "ReputationVariable"
          ],
          [
           "Resource_Dilemma_GameVariable"
          ],
          [
           "RewardVariable"
          ],
          [
           "SequentialityVariable"
          ],
          [
           "Shadow_of_the_FutureVariable"
          ],
          [
           "State_TrustVariable"
          ],
          [
           "Step-level_Public_Goods_GameVariable"
          ],
          [
           "SymmetryVariable"
          ],
          [
           "SynchronyVariable"
          ],
          [
           "TaxationVariable"
          ],
          [
           "Time_PressureVariable"
          ],
          [
           "UncertaintyVariable"
          ]
         ],
         "hovertemplate": "th_=regular<br>diff_mean=%{x}<br>diff_cv=%{y}<br>giv_=%{customdata[0]}<extra></extra>",
         "legendgroup": "regular",
         "marker": {
          "color": "rgb(136, 204, 238)",
          "symbol": "circle"
         },
         "mode": "markers",
         "name": "regular",
         "orientation": "h",
         "showlegend": true,
         "type": "scatter",
         "x": [
          1,
          1.5,
          -0.3333333333333333,
          -1.2,
          0.4,
          0,
          -1.4,
          -15,
          -1,
          0,
          -0.8,
          -0.75,
          -0.6,
          7.6,
          -0.2,
          -1.2,
          -2.4,
          7,
          -0.5,
          -3.6,
          2.8,
          -1,
          6,
          6.2,
          0,
          -2,
          0,
          0.2,
          -1.4,
          0,
          -1.6,
          -2.4,
          0.8,
          5.666666666666667,
          1.2,
          0.8,
          -0.4,
          1.2,
          0.6,
          4.4,
          0.3333333333333333,
          0.4,
          -0.2,
          -0.6,
          1.8,
          0,
          0.4,
          1.8,
          -4.4,
          0,
          -4.333333333333333,
          0.6,
          5.6
         ],
         "xaxis": "x",
         "y": [
          1.6733200530681511,
          1.5275252316519465,
          7.483314773547883,
          1.6158932858054431,
          1.2247448713915892,
          "N/A",
          0.7284313590846836,
          0.9825137827701621,
          2.898275349237888,
          "N/A",
          2.669269563007828,
          1.7320508075688774,
          5.01109879279097,
          1.213383356147211,
          3.7416573867739413,
          0.6236095644623236,
          1.6996731711975948,
          1.3702375780893483,
          1,
          1.4550889837454215,
          0.6925256939166186,
          1,
          0.8923543557893895,
          0.7454335489220221,
          "N/A",
          1.9685019685029528,
          "N/A",
          37.20215047547654,
          0.8571428571428572,
          "N/A",
          1.403121520040228,
          1.2247448713915892,
          1.4577379737113254,
          1.4215348204228906,
          1.3333333333333333,
          2.7838821814150108,
          1.2247448713915892,
          1.2247448713915892,
          5.333333333333333,
          2.2754529110516053,
          1.4142135623730951,
          4.898979485566357,
          5.830951894845301,
          6.463573143221772,
          3.5555555555555554,
          "N/A",
          1.9999999999999998,
          0.888888888888889,
          2.3425634048591135,
          "N/A",
          1.0878565864408425,
          1.6996731711975952,
          1.4312474935367054
         ],
         "yaxis": "y"
        },
        {
         "customdata": [
          [
           "AcquaintanceVariable"
          ],
          [
           "AgeVariable"
          ],
          [
           "AnchorVariable"
          ],
          [
           "Behavior_in_the_gameVariable"
          ],
          [
           "ChoicesVariable"
          ],
          [
           "Cognitive_loadVariable"
          ],
          [
           "CommunicationVariable"
          ],
          [
           "CriticalityVariable"
          ],
          [
           "Degree_of_conflicting_interestsVariable"
          ],
          [
           "EducationVariable"
          ],
          [
           "EmotionsVariable"
          ],
          [
           "EthnicityVariable"
          ],
          [
           "ExpectationsVariable"
          ],
          [
           "Experimental_SettingVariable"
          ],
          [
           "FeedbackVariable"
          ],
          [
           "FramingVariable"
          ],
          [
           "Game_ComprehensionVariable"
          ],
          [
           "Game_DurationVariable"
          ],
          [
           "Game_TypeVariable"
          ],
          [
           "GenderVariable"
          ],
          [
           "Group_SizeVariable"
          ],
          [
           "HormonesVariable"
          ],
          [
           "IdentificationVariable"
          ],
          [
           "IncentivesVariable"
          ],
          [
           "Institution__Variable"
          ],
          [
           "Institutional_ChoiceVariable"
          ],
          [
           "Intergroup_Competition_Variable"
          ],
          [
           "LeadershipVariable"
          ],
          [
           "MatchingVariable"
          ],
          [
           "MonitoringVariable"
          ],
          [
           "Motivational_OrientationVariable"
          ],
          [
           "Normative_BehaviorVariable"
          ],
          [
           "OstracismVariable"
          ],
          [
           "Partner(s)'_strategiesVariable"
          ],
          [
           "Partner_realVariable"
          ],
          [
           "Partner_typeVariable"
          ],
          [
           "Perception_of_the_partner(s)Variable"
          ],
          [
           "PeriodVariable"
          ],
          [
           "PersonalityVariable"
          ],
          [
           "Physical_ProximityVariable"
          ],
          [
           "PowerVariable"
          ],
          [
           "Preferences_for_Conditional_CooperationVariable"
          ],
          [
           "PrimingVariable"
          ],
          [
           "Public_Goods_GameVariable"
          ],
          [
           "PunishmentVariable"
          ],
          [
           "ReligiosityVariable"
          ],
          [
           "ReputationVariable"
          ],
          [
           "Resource_Dilemma_GameVariable"
          ],
          [
           "RewardVariable"
          ],
          [
           "SequentialityVariable"
          ],
          [
           "Shadow_of_the_FutureVariable"
          ],
          [
           "State_TrustVariable"
          ],
          [
           "Step-level_Public_Goods_GameVariable"
          ],
          [
           "SymmetryVariable"
          ],
          [
           "SynchronyVariable"
          ],
          [
           "TaxationVariable"
          ],
          [
           "Time_PressureVariable"
          ],
          [
           "UncertaintyVariable"
          ]
         ],
         "hovertemplate": "th_=study_mod<br>diff_mean=%{x}<br>diff_cv=%{y}<br>giv_=%{customdata[0]}<extra></extra>",
         "legendgroup": "study_mod",
         "marker": {
          "color": "rgb(204, 102, 119)",
          "symbol": "circle"
         },
         "mode": "markers",
         "name": "study_mod",
         "orientation": "h",
         "showlegend": true,
         "type": "scatter",
         "x": [
          0,
          2.4,
          -2,
          -0.8,
          1,
          0,
          14,
          -0.6,
          -20.6,
          0,
          2.6,
          -0.2,
          -7,
          0,
          0.4,
          11.2,
          0,
          0,
          -1.8,
          -0.4,
          4.4,
          -0.4,
          -2.8,
          0,
          -1.2,
          5.6,
          0,
          0.4,
          -6.6,
          0,
          3.8,
          -1,
          0,
          -0.4,
          0,
          0,
          0.8,
          -1,
          7.4,
          0,
          1.8,
          0,
          0,
          -1.2,
          0,
          0,
          -1.2,
          1,
          0,
          -3,
          0,
          1,
          1,
          0,
          0,
          -5.6,
          0,
          1.6
         ],
         "xaxis": "x",
         "y": [
          "N/A",
          0.7264831572567789,
          0.4472135954999579,
          2,
          0,
          "N/A",
          1.2904674046441387,
          2.7080128015453204,
          0.7511577139372698,
          "N/A",
          0.8970695222838923,
          2.0000000000000004,
          0.2857142857142857,
          "N/A",
          9.565563234854494,
          0.7709654694615323,
          "N/A",
          "N/A",
          0.22222222222222224,
          1.2247448713915892,
          1.781447085660493,
          1.2247448713915892,
          2,
          "N/A",
          0.8164965809277261,
          0.41649656391752143,
          "N/A",
          2.5495097567963922,
          0.4242424242424243,
          "N/A",
          0.8712076503814131,
          0,
          "N/A",
          8.74642784226795,
          "N/A",
          "N/A",
          1.4577379737113252,
          0,
          0.7814503943135654,
          "N/A",
          0.41573970964154905,
          "N/A",
          "N/A",
          1.9293061504650377,
          "N/A",
          "N/A",
          1.224744871391589,
          0,
          "N/A",
          0.6992058987801011,
          "N/A",
          0,
          0,
          "N/A",
          "N/A",
          1.496594774268355,
          "N/A",
          1.2247448713915892
         ],
         "yaxis": "y"
        },
        {
         "customdata": [
          [
           "ChoicesVariable"
          ],
          [
           "Degree_of_conflicting_interestsVariable"
          ],
          [
           "EthnicityVariable"
          ],
          [
           "FeedbackVariable"
          ],
          [
           "FramingVariable"
          ],
          [
           "GenderVariable"
          ],
          [
           "Group_SizeVariable"
          ],
          [
           "IdentificationVariable"
          ],
          [
           "LeadershipVariable"
          ],
          [
           "MatchingVariable"
          ],
          [
           "Partner(s)'_strategiesVariable"
          ],
          [
           "Public_Goods_GameVariable"
          ],
          [
           "PunishmentVariable"
          ],
          [
           "UncertaintyVariable"
          ]
         ],
         "hovertemplate": "th_=var_mod<br>diff_mean=%{x}<br>diff_cv=%{y}<br>giv_=%{customdata[0]}<extra></extra>",
         "legendgroup": "var_mod",
         "marker": {
          "color": "rgb(221, 204, 119)",
          "symbol": "circle"
         },
         "mode": "markers",
         "name": "var_mod",
         "orientation": "h",
         "showlegend": true,
         "type": "scatter",
         "x": [
          -0.2,
          2.2,
          0,
          0,
          0,
          0,
          -3.8,
          -1.6,
          0.2,
          0,
          0,
          0.2,
          0.5,
          2.2
         ],
         "xaxis": "x",
         "y": [
          2,
          1.4770978917519926,
          "N/A",
          "N/A",
          "N/A",
          "N/A",
          2.0880878341976183,
          0.8477912478906586,
          3.7416573867739413,
          "N/A",
          "N/A",
          2.0000000000000004,
          1.7320508075688772,
          2.5127772656518643
         ],
         "yaxis": "y"
        }
       ],
       "layout": {
        "legend": {
         "title": {
          "text": "th_"
         },
         "tracegroupgap": 0
        },
        "margin": {
         "t": 60
        },
        "template": {
         "data": {
          "bar": [
           {
            "error_x": {
             "color": "#2a3f5f"
            },
            "error_y": {
             "color": "#2a3f5f"
            },
            "marker": {
             "line": {
              "color": "#E5ECF6",
              "width": 0.5
             },
             "pattern": {
              "fillmode": "overlay",
              "size": 10,
              "solidity": 0.2
             }
            },
            "type": "bar"
           }
          ],
          "barpolar": [
           {
            "marker": {
             "line": {
              "color": "#E5ECF6",
              "width": 0.5
             },
             "pattern": {
              "fillmode": "overlay",
              "size": 10,
              "solidity": 0.2
             }
            },
            "type": "barpolar"
           }
          ],
          "carpet": [
           {
            "aaxis": {
             "endlinecolor": "#2a3f5f",
             "gridcolor": "white",
             "linecolor": "white",
             "minorgridcolor": "white",
             "startlinecolor": "#2a3f5f"
            },
            "baxis": {
             "endlinecolor": "#2a3f5f",
             "gridcolor": "white",
             "linecolor": "white",
             "minorgridcolor": "white",
             "startlinecolor": "#2a3f5f"
            },
            "type": "carpet"
           }
          ],
          "choropleth": [
           {
            "colorbar": {
             "outlinewidth": 0,
             "ticks": ""
            },
            "type": "choropleth"
           }
          ],
          "contour": [
           {
            "colorbar": {
             "outlinewidth": 0,
             "ticks": ""
            },
            "colorscale": [
             [
              0,
              "#0d0887"
             ],
             [
              0.1111111111111111,
              "#46039f"
             ],
             [
              0.2222222222222222,
              "#7201a8"
             ],
             [
              0.3333333333333333,
              "#9c179e"
             ],
             [
              0.4444444444444444,
              "#bd3786"
             ],
             [
              0.5555555555555556,
              "#d8576b"
             ],
             [
              0.6666666666666666,
              "#ed7953"
             ],
             [
              0.7777777777777778,
              "#fb9f3a"
             ],
             [
              0.8888888888888888,
              "#fdca26"
             ],
             [
              1,
              "#f0f921"
             ]
            ],
            "type": "contour"
           }
          ],
          "contourcarpet": [
           {
            "colorbar": {
             "outlinewidth": 0,
             "ticks": ""
            },
            "type": "contourcarpet"
           }
          ],
          "heatmap": [
           {
            "colorbar": {
             "outlinewidth": 0,
             "ticks": ""
            },
            "colorscale": [
             [
              0,
              "#0d0887"
             ],
             [
              0.1111111111111111,
              "#46039f"
             ],
             [
              0.2222222222222222,
              "#7201a8"
             ],
             [
              0.3333333333333333,
              "#9c179e"
             ],
             [
              0.4444444444444444,
              "#bd3786"
             ],
             [
              0.5555555555555556,
              "#d8576b"
             ],
             [
              0.6666666666666666,
              "#ed7953"
             ],
             [
              0.7777777777777778,
              "#fb9f3a"
             ],
             [
              0.8888888888888888,
              "#fdca26"
             ],
             [
              1,
              "#f0f921"
             ]
            ],
            "type": "heatmap"
           }
          ],
          "heatmapgl": [
           {
            "colorbar": {
             "outlinewidth": 0,
             "ticks": ""
            },
            "colorscale": [
             [
              0,
              "#0d0887"
             ],
             [
              0.1111111111111111,
              "#46039f"
             ],
             [
              0.2222222222222222,
              "#7201a8"
             ],
             [
              0.3333333333333333,
              "#9c179e"
             ],
             [
              0.4444444444444444,
              "#bd3786"
             ],
             [
              0.5555555555555556,
              "#d8576b"
             ],
             [
              0.6666666666666666,
              "#ed7953"
             ],
             [
              0.7777777777777778,
              "#fb9f3a"
             ],
             [
              0.8888888888888888,
              "#fdca26"
             ],
             [
              1,
              "#f0f921"
             ]
            ],
            "type": "heatmapgl"
           }
          ],
          "histogram": [
           {
            "marker": {
             "pattern": {
              "fillmode": "overlay",
              "size": 10,
              "solidity": 0.2
             }
            },
            "type": "histogram"
           }
          ],
          "histogram2d": [
           {
            "colorbar": {
             "outlinewidth": 0,
             "ticks": ""
            },
            "colorscale": [
             [
              0,
              "#0d0887"
             ],
             [
              0.1111111111111111,
              "#46039f"
             ],
             [
              0.2222222222222222,
              "#7201a8"
             ],
             [
              0.3333333333333333,
              "#9c179e"
             ],
             [
              0.4444444444444444,
              "#bd3786"
             ],
             [
              0.5555555555555556,
              "#d8576b"
             ],
             [
              0.6666666666666666,
              "#ed7953"
             ],
             [
              0.7777777777777778,
              "#fb9f3a"
             ],
             [
              0.8888888888888888,
              "#fdca26"
             ],
             [
              1,
              "#f0f921"
             ]
            ],
            "type": "histogram2d"
           }
          ],
          "histogram2dcontour": [
           {
            "colorbar": {
             "outlinewidth": 0,
             "ticks": ""
            },
            "colorscale": [
             [
              0,
              "#0d0887"
             ],
             [
              0.1111111111111111,
              "#46039f"
             ],
             [
              0.2222222222222222,
              "#7201a8"
             ],
             [
              0.3333333333333333,
              "#9c179e"
             ],
             [
              0.4444444444444444,
              "#bd3786"
             ],
             [
              0.5555555555555556,
              "#d8576b"
             ],
             [
              0.6666666666666666,
              "#ed7953"
             ],
             [
              0.7777777777777778,
              "#fb9f3a"
             ],
             [
              0.8888888888888888,
              "#fdca26"
             ],
             [
              1,
              "#f0f921"
             ]
            ],
            "type": "histogram2dcontour"
           }
          ],
          "mesh3d": [
           {
            "colorbar": {
             "outlinewidth": 0,
             "ticks": ""
            },
            "type": "mesh3d"
           }
          ],
          "parcoords": [
           {
            "line": {
             "colorbar": {
              "outlinewidth": 0,
              "ticks": ""
             }
            },
            "type": "parcoords"
           }
          ],
          "pie": [
           {
            "automargin": true,
            "type": "pie"
           }
          ],
          "scatter": [
           {
            "fillpattern": {
             "fillmode": "overlay",
             "size": 10,
             "solidity": 0.2
            },
            "type": "scatter"
           }
          ],
          "scatter3d": [
           {
            "line": {
             "colorbar": {
              "outlinewidth": 0,
              "ticks": ""
             }
            },
            "marker": {
             "colorbar": {
              "outlinewidth": 0,
              "ticks": ""
             }
            },
            "type": "scatter3d"
           }
          ],
          "scattercarpet": [
           {
            "marker": {
             "colorbar": {
              "outlinewidth": 0,
              "ticks": ""
             }
            },
            "type": "scattercarpet"
           }
          ],
          "scattergeo": [
           {
            "marker": {
             "colorbar": {
              "outlinewidth": 0,
              "ticks": ""
             }
            },
            "type": "scattergeo"
           }
          ],
          "scattergl": [
           {
            "marker": {
             "colorbar": {
              "outlinewidth": 0,
              "ticks": ""
             }
            },
            "type": "scattergl"
           }
          ],
          "scattermapbox": [
           {
            "marker": {
             "colorbar": {
              "outlinewidth": 0,
              "ticks": ""
             }
            },
            "type": "scattermapbox"
           }
          ],
          "scatterpolar": [
           {
            "marker": {
             "colorbar": {
              "outlinewidth": 0,
              "ticks": ""
             }
            },
            "type": "scatterpolar"
           }
          ],
          "scatterpolargl": [
           {
            "marker": {
             "colorbar": {
              "outlinewidth": 0,
              "ticks": ""
             }
            },
            "type": "scatterpolargl"
           }
          ],
          "scatterternary": [
           {
            "marker": {
             "colorbar": {
              "outlinewidth": 0,
              "ticks": ""
             }
            },
            "type": "scatterternary"
           }
          ],
          "surface": [
           {
            "colorbar": {
             "outlinewidth": 0,
             "ticks": ""
            },
            "colorscale": [
             [
              0,
              "#0d0887"
             ],
             [
              0.1111111111111111,
              "#46039f"
             ],
             [
              0.2222222222222222,
              "#7201a8"
             ],
             [
              0.3333333333333333,
              "#9c179e"
             ],
             [
              0.4444444444444444,
              "#bd3786"
             ],
             [
              0.5555555555555556,
              "#d8576b"
             ],
             [
              0.6666666666666666,
              "#ed7953"
             ],
             [
              0.7777777777777778,
              "#fb9f3a"
             ],
             [
              0.8888888888888888,
              "#fdca26"
             ],
             [
              1,
              "#f0f921"
             ]
            ],
            "type": "surface"
           }
          ],
          "table": [
           {
            "cells": {
             "fill": {
              "color": "#EBF0F8"
             },
             "line": {
              "color": "white"
             }
            },
            "header": {
             "fill": {
              "color": "#C8D4E3"
             },
             "line": {
              "color": "white"
             }
            },
            "type": "table"
           }
          ]
         },
         "layout": {
          "annotationdefaults": {
           "arrowcolor": "#2a3f5f",
           "arrowhead": 0,
           "arrowwidth": 1
          },
          "autotypenumbers": "strict",
          "coloraxis": {
           "colorbar": {
            "outlinewidth": 0,
            "ticks": ""
           }
          },
          "colorscale": {
           "diverging": [
            [
             0,
             "#8e0152"
            ],
            [
             0.1,
             "#c51b7d"
            ],
            [
             0.2,
             "#de77ae"
            ],
            [
             0.3,
             "#f1b6da"
            ],
            [
             0.4,
             "#fde0ef"
            ],
            [
             0.5,
             "#f7f7f7"
            ],
            [
             0.6,
             "#e6f5d0"
            ],
            [
             0.7,
             "#b8e186"
            ],
            [
             0.8,
             "#7fbc41"
            ],
            [
             0.9,
             "#4d9221"
            ],
            [
             1,
             "#276419"
            ]
           ],
           "sequential": [
            [
             0,
             "#0d0887"
            ],
            [
             0.1111111111111111,
             "#46039f"
            ],
            [
             0.2222222222222222,
             "#7201a8"
            ],
            [
             0.3333333333333333,
             "#9c179e"
            ],
            [
             0.4444444444444444,
             "#bd3786"
            ],
            [
             0.5555555555555556,
             "#d8576b"
            ],
            [
             0.6666666666666666,
             "#ed7953"
            ],
            [
             0.7777777777777778,
             "#fb9f3a"
            ],
            [
             0.8888888888888888,
             "#fdca26"
            ],
            [
             1,
             "#f0f921"
            ]
           ],
           "sequentialminus": [
            [
             0,
             "#0d0887"
            ],
            [
             0.1111111111111111,
             "#46039f"
            ],
            [
             0.2222222222222222,
             "#7201a8"
            ],
            [
             0.3333333333333333,
             "#9c179e"
            ],
            [
             0.4444444444444444,
             "#bd3786"
            ],
            [
             0.5555555555555556,
             "#d8576b"
            ],
            [
             0.6666666666666666,
             "#ed7953"
            ],
            [
             0.7777777777777778,
             "#fb9f3a"
            ],
            [
             0.8888888888888888,
             "#fdca26"
            ],
            [
             1,
             "#f0f921"
            ]
           ]
          },
          "colorway": [
           "#636efa",
           "#EF553B",
           "#00cc96",
           "#ab63fa",
           "#FFA15A",
           "#19d3f3",
           "#FF6692",
           "#B6E880",
           "#FF97FF",
           "#FECB52"
          ],
          "font": {
           "color": "#2a3f5f"
          },
          "geo": {
           "bgcolor": "white",
           "lakecolor": "white",
           "landcolor": "#E5ECF6",
           "showlakes": true,
           "showland": true,
           "subunitcolor": "white"
          },
          "hoverlabel": {
           "align": "left"
          },
          "hovermode": "closest",
          "mapbox": {
           "style": "light"
          },
          "paper_bgcolor": "white",
          "plot_bgcolor": "#E5ECF6",
          "polar": {
           "angularaxis": {
            "gridcolor": "white",
            "linecolor": "white",
            "ticks": ""
           },
           "bgcolor": "#E5ECF6",
           "radialaxis": {
            "gridcolor": "white",
            "linecolor": "white",
            "ticks": ""
           }
          },
          "scene": {
           "xaxis": {
            "backgroundcolor": "#E5ECF6",
            "gridcolor": "white",
            "gridwidth": 2,
            "linecolor": "white",
            "showbackground": true,
            "ticks": "",
            "zerolinecolor": "white"
           },
           "yaxis": {
            "backgroundcolor": "#E5ECF6",
            "gridcolor": "white",
            "gridwidth": 2,
            "linecolor": "white",
            "showbackground": true,
            "ticks": "",
            "zerolinecolor": "white"
           },
           "zaxis": {
            "backgroundcolor": "#E5ECF6",
            "gridcolor": "white",
            "gridwidth": 2,
            "linecolor": "white",
            "showbackground": true,
            "ticks": "",
            "zerolinecolor": "white"
           }
          },
          "shapedefaults": {
           "line": {
            "color": "#2a3f5f"
           }
          },
          "ternary": {
           "aaxis": {
            "gridcolor": "white",
            "linecolor": "white",
            "ticks": ""
           },
           "baxis": {
            "gridcolor": "white",
            "linecolor": "white",
            "ticks": ""
           },
           "bgcolor": "#E5ECF6",
           "caxis": {
            "gridcolor": "white",
            "linecolor": "white",
            "ticks": ""
           }
          },
          "title": {
           "x": 0.05
          },
          "xaxis": {
           "automargin": true,
           "gridcolor": "white",
           "linecolor": "white",
           "ticks": "",
           "title": {
            "standoff": 15
           },
           "zerolinecolor": "white",
           "zerolinewidth": 2
          },
          "yaxis": {
           "automargin": true,
           "gridcolor": "white",
           "linecolor": "white",
           "ticks": "",
           "title": {
            "standoff": 15
           },
           "zerolinecolor": "white",
           "zerolinewidth": 2
          }
         }
        },
        "xaxis": {
         "anchor": "y",
         "domain": [
          0,
          1
         ],
         "title": {
          "text": "diff_mean"
         }
        },
        "yaxis": {
         "anchor": "x",
         "domain": [
          0,
          1
         ],
         "title": {
          "text": "diff_cv"
         }
        }
       }
      },
      "text/html": [
       "<div>                            <div id=\"db09ec63-9f65-4a36-aa17-76734b59b988\" class=\"plotly-graph-div\" style=\"height:525px; width:100%;\"></div>            <script type=\"text/javascript\">                require([\"plotly\"], function(Plotly) {                    window.PLOTLYENV=window.PLOTLYENV || {};                                    if (document.getElementById(\"db09ec63-9f65-4a36-aa17-76734b59b988\")) {                    Plotly.newPlot(                        \"db09ec63-9f65-4a36-aa17-76734b59b988\",                        [{\"customdata\":[[\"AcquaintanceVariable\"],[\"AgeVariable\"],[\"AnchorVariable\"],[\"Behavior_in_the_gameVariable\"],[\"ChoicesVariable\"],[\"Cognitive_loadVariable\"],[\"CommunicationVariable\"],[\"Degree_of_conflicting_interestsVariable\"],[\"EducationVariable\"],[\"EmotionsVariable\"],[\"EthnicityVariable\"],[\"Experimental_SettingVariable\"],[\"FeedbackVariable\"],[\"FramingVariable\"],[\"Game_DurationVariable\"],[\"Game_TypeVariable\"],[\"GenderVariable\"],[\"Group_SizeVariable\"],[\"HormonesVariable\"],[\"IdentificationVariable\"],[\"IncentivesVariable\"],[\"Institution__Variable\"],[\"Institutional_ChoiceVariable\"],[\"Intergroup_Competition_Variable\"],[\"LeadershipVariable\"],[\"MatchingVariable\"],[\"MonitoringVariable\"],[\"Motivational_OrientationVariable\"],[\"Normative_BehaviorVariable\"],[\"OstracismVariable\"],[\"Partner(s)'_strategiesVariable\"],[\"Partner_typeVariable\"],[\"Perception_of_the_partner(s)Variable\"],[\"PeriodVariable\"],[\"PersonalityVariable\"],[\"PowerVariable\"],[\"Preferences_for_Conditional_CooperationVariable\"],[\"PrimingVariable\"],[\"Public_Goods_GameVariable\"],[\"PunishmentVariable\"],[\"ReligiosityVariable\"],[\"ReputationVariable\"],[\"Resource_Dilemma_GameVariable\"],[\"RewardVariable\"],[\"SequentialityVariable\"],[\"Shadow_of_the_FutureVariable\"],[\"State_TrustVariable\"],[\"Step-level_Public_Goods_GameVariable\"],[\"SymmetryVariable\"],[\"SynchronyVariable\"],[\"TaxationVariable\"],[\"Time_PressureVariable\"],[\"UncertaintyVariable\"]],\"hovertemplate\":\"th_=regular\\u003cbr\\u003ediff_mean=%{x}\\u003cbr\\u003ediff_cv=%{y}\\u003cbr\\u003egiv_=%{customdata[0]}\\u003cextra\\u003e\\u003c\\u002fextra\\u003e\",\"legendgroup\":\"regular\",\"marker\":{\"color\":\"rgb(136, 204, 238)\",\"symbol\":\"circle\"},\"mode\":\"markers\",\"name\":\"regular\",\"orientation\":\"h\",\"showlegend\":true,\"x\":[1.0,1.5,-0.3333333333333333,-1.2,0.4,0.0,-1.4,-15.0,-1.0,0.0,-0.8,-0.75,-0.6,7.6,-0.2,-1.2,-2.4,7.0,-0.5,-3.6,2.8,-1.0,6.0,6.2,0.0,-2.0,0.0,0.2,-1.4,0.0,-1.6,-2.4,0.8,5.666666666666667,1.2,0.8,-0.4,1.2,0.6,4.4,0.3333333333333333,0.4,-0.2,-0.6,1.8,0.0,0.4,1.8,-4.4,0.0,-4.333333333333333,0.6,5.6],\"xaxis\":\"x\",\"y\":[1.6733200530681511,1.5275252316519465,7.483314773547883,1.6158932858054431,1.2247448713915892,\"N\\u002fA\",0.7284313590846836,0.9825137827701621,2.898275349237888,\"N\\u002fA\",2.669269563007828,1.7320508075688774,5.01109879279097,1.213383356147211,3.7416573867739413,0.6236095644623236,1.6996731711975948,1.3702375780893483,1.0,1.4550889837454215,0.6925256939166186,1.0,0.8923543557893895,0.7454335489220221,\"N\\u002fA\",1.9685019685029528,\"N\\u002fA\",37.20215047547654,0.8571428571428572,\"N\\u002fA\",1.403121520040228,1.2247448713915892,1.4577379737113254,1.4215348204228906,1.3333333333333333,2.7838821814150108,1.2247448713915892,1.2247448713915892,5.333333333333333,2.2754529110516053,1.4142135623730951,4.898979485566357,5.830951894845301,6.463573143221772,3.5555555555555554,\"N\\u002fA\",1.9999999999999998,0.888888888888889,2.3425634048591135,\"N\\u002fA\",1.0878565864408425,1.6996731711975952,1.4312474935367054],\"yaxis\":\"y\",\"type\":\"scatter\"},{\"customdata\":[[\"AcquaintanceVariable\"],[\"AgeVariable\"],[\"AnchorVariable\"],[\"Behavior_in_the_gameVariable\"],[\"ChoicesVariable\"],[\"Cognitive_loadVariable\"],[\"CommunicationVariable\"],[\"CriticalityVariable\"],[\"Degree_of_conflicting_interestsVariable\"],[\"EducationVariable\"],[\"EmotionsVariable\"],[\"EthnicityVariable\"],[\"ExpectationsVariable\"],[\"Experimental_SettingVariable\"],[\"FeedbackVariable\"],[\"FramingVariable\"],[\"Game_ComprehensionVariable\"],[\"Game_DurationVariable\"],[\"Game_TypeVariable\"],[\"GenderVariable\"],[\"Group_SizeVariable\"],[\"HormonesVariable\"],[\"IdentificationVariable\"],[\"IncentivesVariable\"],[\"Institution__Variable\"],[\"Institutional_ChoiceVariable\"],[\"Intergroup_Competition_Variable\"],[\"LeadershipVariable\"],[\"MatchingVariable\"],[\"MonitoringVariable\"],[\"Motivational_OrientationVariable\"],[\"Normative_BehaviorVariable\"],[\"OstracismVariable\"],[\"Partner(s)'_strategiesVariable\"],[\"Partner_realVariable\"],[\"Partner_typeVariable\"],[\"Perception_of_the_partner(s)Variable\"],[\"PeriodVariable\"],[\"PersonalityVariable\"],[\"Physical_ProximityVariable\"],[\"PowerVariable\"],[\"Preferences_for_Conditional_CooperationVariable\"],[\"PrimingVariable\"],[\"Public_Goods_GameVariable\"],[\"PunishmentVariable\"],[\"ReligiosityVariable\"],[\"ReputationVariable\"],[\"Resource_Dilemma_GameVariable\"],[\"RewardVariable\"],[\"SequentialityVariable\"],[\"Shadow_of_the_FutureVariable\"],[\"State_TrustVariable\"],[\"Step-level_Public_Goods_GameVariable\"],[\"SymmetryVariable\"],[\"SynchronyVariable\"],[\"TaxationVariable\"],[\"Time_PressureVariable\"],[\"UncertaintyVariable\"]],\"hovertemplate\":\"th_=study_mod\\u003cbr\\u003ediff_mean=%{x}\\u003cbr\\u003ediff_cv=%{y}\\u003cbr\\u003egiv_=%{customdata[0]}\\u003cextra\\u003e\\u003c\\u002fextra\\u003e\",\"legendgroup\":\"study_mod\",\"marker\":{\"color\":\"rgb(204, 102, 119)\",\"symbol\":\"circle\"},\"mode\":\"markers\",\"name\":\"study_mod\",\"orientation\":\"h\",\"showlegend\":true,\"x\":[0.0,2.4,-2.0,-0.8,1.0,0.0,14.0,-0.6,-20.6,0.0,2.6,-0.2,-7.0,0.0,0.4,11.2,0.0,0.0,-1.8,-0.4,4.4,-0.4,-2.8,0.0,-1.2,5.6,0.0,0.4,-6.6,0.0,3.8,-1.0,0.0,-0.4,0.0,0.0,0.8,-1.0,7.4,0.0,1.8,0.0,0.0,-1.2,0.0,0.0,-1.2,1.0,0.0,-3.0,0.0,1.0,1.0,0.0,0.0,-5.6,0.0,1.6],\"xaxis\":\"x\",\"y\":[\"N\\u002fA\",0.7264831572567789,0.4472135954999579,2.0,0.0,\"N\\u002fA\",1.2904674046441387,2.7080128015453204,0.7511577139372698,\"N\\u002fA\",0.8970695222838923,2.0000000000000004,0.2857142857142857,\"N\\u002fA\",9.565563234854494,0.7709654694615323,\"N\\u002fA\",\"N\\u002fA\",0.22222222222222224,1.2247448713915892,1.781447085660493,1.2247448713915892,2.0,\"N\\u002fA\",0.8164965809277261,0.41649656391752143,\"N\\u002fA\",2.5495097567963922,0.4242424242424243,\"N\\u002fA\",0.8712076503814131,0.0,\"N\\u002fA\",8.74642784226795,\"N\\u002fA\",\"N\\u002fA\",1.4577379737113252,0.0,0.7814503943135654,\"N\\u002fA\",0.41573970964154905,\"N\\u002fA\",\"N\\u002fA\",1.9293061504650377,\"N\\u002fA\",\"N\\u002fA\",1.224744871391589,0.0,\"N\\u002fA\",0.6992058987801011,\"N\\u002fA\",0.0,0.0,\"N\\u002fA\",\"N\\u002fA\",1.496594774268355,\"N\\u002fA\",1.2247448713915892],\"yaxis\":\"y\",\"type\":\"scatter\"},{\"customdata\":[[\"ChoicesVariable\"],[\"Degree_of_conflicting_interestsVariable\"],[\"EthnicityVariable\"],[\"FeedbackVariable\"],[\"FramingVariable\"],[\"GenderVariable\"],[\"Group_SizeVariable\"],[\"IdentificationVariable\"],[\"LeadershipVariable\"],[\"MatchingVariable\"],[\"Partner(s)'_strategiesVariable\"],[\"Public_Goods_GameVariable\"],[\"PunishmentVariable\"],[\"UncertaintyVariable\"]],\"hovertemplate\":\"th_=var_mod\\u003cbr\\u003ediff_mean=%{x}\\u003cbr\\u003ediff_cv=%{y}\\u003cbr\\u003egiv_=%{customdata[0]}\\u003cextra\\u003e\\u003c\\u002fextra\\u003e\",\"legendgroup\":\"var_mod\",\"marker\":{\"color\":\"rgb(221, 204, 119)\",\"symbol\":\"circle\"},\"mode\":\"markers\",\"name\":\"var_mod\",\"orientation\":\"h\",\"showlegend\":true,\"x\":[-0.2,2.2,0.0,0.0,0.0,0.0,-3.8,-1.6,0.2,0.0,0.0,0.2,0.5,2.2],\"xaxis\":\"x\",\"y\":[2.0,1.4770978917519926,\"N\\u002fA\",\"N\\u002fA\",\"N\\u002fA\",\"N\\u002fA\",2.0880878341976183,0.8477912478906586,3.7416573867739413,\"N\\u002fA\",\"N\\u002fA\",2.0000000000000004,1.7320508075688772,2.5127772656518643],\"yaxis\":\"y\",\"type\":\"scatter\"}],                        {\"template\":{\"data\":{\"histogram2dcontour\":[{\"type\":\"histogram2dcontour\",\"colorbar\":{\"outlinewidth\":0,\"ticks\":\"\"},\"colorscale\":[[0.0,\"#0d0887\"],[0.1111111111111111,\"#46039f\"],[0.2222222222222222,\"#7201a8\"],[0.3333333333333333,\"#9c179e\"],[0.4444444444444444,\"#bd3786\"],[0.5555555555555556,\"#d8576b\"],[0.6666666666666666,\"#ed7953\"],[0.7777777777777778,\"#fb9f3a\"],[0.8888888888888888,\"#fdca26\"],[1.0,\"#f0f921\"]]}],\"choropleth\":[{\"type\":\"choropleth\",\"colorbar\":{\"outlinewidth\":0,\"ticks\":\"\"}}],\"histogram2d\":[{\"type\":\"histogram2d\",\"colorbar\":{\"outlinewidth\":0,\"ticks\":\"\"},\"colorscale\":[[0.0,\"#0d0887\"],[0.1111111111111111,\"#46039f\"],[0.2222222222222222,\"#7201a8\"],[0.3333333333333333,\"#9c179e\"],[0.4444444444444444,\"#bd3786\"],[0.5555555555555556,\"#d8576b\"],[0.6666666666666666,\"#ed7953\"],[0.7777777777777778,\"#fb9f3a\"],[0.8888888888888888,\"#fdca26\"],[1.0,\"#f0f921\"]]}],\"heatmap\":[{\"type\":\"heatmap\",\"colorbar\":{\"outlinewidth\":0,\"ticks\":\"\"},\"colorscale\":[[0.0,\"#0d0887\"],[0.1111111111111111,\"#46039f\"],[0.2222222222222222,\"#7201a8\"],[0.3333333333333333,\"#9c179e\"],[0.4444444444444444,\"#bd3786\"],[0.5555555555555556,\"#d8576b\"],[0.6666666666666666,\"#ed7953\"],[0.7777777777777778,\"#fb9f3a\"],[0.8888888888888888,\"#fdca26\"],[1.0,\"#f0f921\"]]}],\"heatmapgl\":[{\"type\":\"heatmapgl\",\"colorbar\":{\"outlinewidth\":0,\"ticks\":\"\"},\"colorscale\":[[0.0,\"#0d0887\"],[0.1111111111111111,\"#46039f\"],[0.2222222222222222,\"#7201a8\"],[0.3333333333333333,\"#9c179e\"],[0.4444444444444444,\"#bd3786\"],[0.5555555555555556,\"#d8576b\"],[0.6666666666666666,\"#ed7953\"],[0.7777777777777778,\"#fb9f3a\"],[0.8888888888888888,\"#fdca26\"],[1.0,\"#f0f921\"]]}],\"contourcarpet\":[{\"type\":\"contourcarpet\",\"colorbar\":{\"outlinewidth\":0,\"ticks\":\"\"}}],\"contour\":[{\"type\":\"contour\",\"colorbar\":{\"outlinewidth\":0,\"ticks\":\"\"},\"colorscale\":[[0.0,\"#0d0887\"],[0.1111111111111111,\"#46039f\"],[0.2222222222222222,\"#7201a8\"],[0.3333333333333333,\"#9c179e\"],[0.4444444444444444,\"#bd3786\"],[0.5555555555555556,\"#d8576b\"],[0.6666666666666666,\"#ed7953\"],[0.7777777777777778,\"#fb9f3a\"],[0.8888888888888888,\"#fdca26\"],[1.0,\"#f0f921\"]]}],\"surface\":[{\"type\":\"surface\",\"colorbar\":{\"outlinewidth\":0,\"ticks\":\"\"},\"colorscale\":[[0.0,\"#0d0887\"],[0.1111111111111111,\"#46039f\"],[0.2222222222222222,\"#7201a8\"],[0.3333333333333333,\"#9c179e\"],[0.4444444444444444,\"#bd3786\"],[0.5555555555555556,\"#d8576b\"],[0.6666666666666666,\"#ed7953\"],[0.7777777777777778,\"#fb9f3a\"],[0.8888888888888888,\"#fdca26\"],[1.0,\"#f0f921\"]]}],\"mesh3d\":[{\"type\":\"mesh3d\",\"colorbar\":{\"outlinewidth\":0,\"ticks\":\"\"}}],\"scatter\":[{\"fillpattern\":{\"fillmode\":\"overlay\",\"size\":10,\"solidity\":0.2},\"type\":\"scatter\"}],\"parcoords\":[{\"type\":\"parcoords\",\"line\":{\"colorbar\":{\"outlinewidth\":0,\"ticks\":\"\"}}}],\"scatterpolargl\":[{\"type\":\"scatterpolargl\",\"marker\":{\"colorbar\":{\"outlinewidth\":0,\"ticks\":\"\"}}}],\"bar\":[{\"error_x\":{\"color\":\"#2a3f5f\"},\"error_y\":{\"color\":\"#2a3f5f\"},\"marker\":{\"line\":{\"color\":\"#E5ECF6\",\"width\":0.5},\"pattern\":{\"fillmode\":\"overlay\",\"size\":10,\"solidity\":0.2}},\"type\":\"bar\"}],\"scattergeo\":[{\"type\":\"scattergeo\",\"marker\":{\"colorbar\":{\"outlinewidth\":0,\"ticks\":\"\"}}}],\"scatterpolar\":[{\"type\":\"scatterpolar\",\"marker\":{\"colorbar\":{\"outlinewidth\":0,\"ticks\":\"\"}}}],\"histogram\":[{\"marker\":{\"pattern\":{\"fillmode\":\"overlay\",\"size\":10,\"solidity\":0.2}},\"type\":\"histogram\"}],\"scattergl\":[{\"type\":\"scattergl\",\"marker\":{\"colorbar\":{\"outlinewidth\":0,\"ticks\":\"\"}}}],\"scatter3d\":[{\"type\":\"scatter3d\",\"line\":{\"colorbar\":{\"outlinewidth\":0,\"ticks\":\"\"}},\"marker\":{\"colorbar\":{\"outlinewidth\":0,\"ticks\":\"\"}}}],\"scattermapbox\":[{\"type\":\"scattermapbox\",\"marker\":{\"colorbar\":{\"outlinewidth\":0,\"ticks\":\"\"}}}],\"scatterternary\":[{\"type\":\"scatterternary\",\"marker\":{\"colorbar\":{\"outlinewidth\":0,\"ticks\":\"\"}}}],\"scattercarpet\":[{\"type\":\"scattercarpet\",\"marker\":{\"colorbar\":{\"outlinewidth\":0,\"ticks\":\"\"}}}],\"carpet\":[{\"aaxis\":{\"endlinecolor\":\"#2a3f5f\",\"gridcolor\":\"white\",\"linecolor\":\"white\",\"minorgridcolor\":\"white\",\"startlinecolor\":\"#2a3f5f\"},\"baxis\":{\"endlinecolor\":\"#2a3f5f\",\"gridcolor\":\"white\",\"linecolor\":\"white\",\"minorgridcolor\":\"white\",\"startlinecolor\":\"#2a3f5f\"},\"type\":\"carpet\"}],\"table\":[{\"cells\":{\"fill\":{\"color\":\"#EBF0F8\"},\"line\":{\"color\":\"white\"}},\"header\":{\"fill\":{\"color\":\"#C8D4E3\"},\"line\":{\"color\":\"white\"}},\"type\":\"table\"}],\"barpolar\":[{\"marker\":{\"line\":{\"color\":\"#E5ECF6\",\"width\":0.5},\"pattern\":{\"fillmode\":\"overlay\",\"size\":10,\"solidity\":0.2}},\"type\":\"barpolar\"}],\"pie\":[{\"automargin\":true,\"type\":\"pie\"}]},\"layout\":{\"autotypenumbers\":\"strict\",\"colorway\":[\"#636efa\",\"#EF553B\",\"#00cc96\",\"#ab63fa\",\"#FFA15A\",\"#19d3f3\",\"#FF6692\",\"#B6E880\",\"#FF97FF\",\"#FECB52\"],\"font\":{\"color\":\"#2a3f5f\"},\"hovermode\":\"closest\",\"hoverlabel\":{\"align\":\"left\"},\"paper_bgcolor\":\"white\",\"plot_bgcolor\":\"#E5ECF6\",\"polar\":{\"bgcolor\":\"#E5ECF6\",\"angularaxis\":{\"gridcolor\":\"white\",\"linecolor\":\"white\",\"ticks\":\"\"},\"radialaxis\":{\"gridcolor\":\"white\",\"linecolor\":\"white\",\"ticks\":\"\"}},\"ternary\":{\"bgcolor\":\"#E5ECF6\",\"aaxis\":{\"gridcolor\":\"white\",\"linecolor\":\"white\",\"ticks\":\"\"},\"baxis\":{\"gridcolor\":\"white\",\"linecolor\":\"white\",\"ticks\":\"\"},\"caxis\":{\"gridcolor\":\"white\",\"linecolor\":\"white\",\"ticks\":\"\"}},\"coloraxis\":{\"colorbar\":{\"outlinewidth\":0,\"ticks\":\"\"}},\"colorscale\":{\"sequential\":[[0.0,\"#0d0887\"],[0.1111111111111111,\"#46039f\"],[0.2222222222222222,\"#7201a8\"],[0.3333333333333333,\"#9c179e\"],[0.4444444444444444,\"#bd3786\"],[0.5555555555555556,\"#d8576b\"],[0.6666666666666666,\"#ed7953\"],[0.7777777777777778,\"#fb9f3a\"],[0.8888888888888888,\"#fdca26\"],[1.0,\"#f0f921\"]],\"sequentialminus\":[[0.0,\"#0d0887\"],[0.1111111111111111,\"#46039f\"],[0.2222222222222222,\"#7201a8\"],[0.3333333333333333,\"#9c179e\"],[0.4444444444444444,\"#bd3786\"],[0.5555555555555556,\"#d8576b\"],[0.6666666666666666,\"#ed7953\"],[0.7777777777777778,\"#fb9f3a\"],[0.8888888888888888,\"#fdca26\"],[1.0,\"#f0f921\"]],\"diverging\":[[0,\"#8e0152\"],[0.1,\"#c51b7d\"],[0.2,\"#de77ae\"],[0.3,\"#f1b6da\"],[0.4,\"#fde0ef\"],[0.5,\"#f7f7f7\"],[0.6,\"#e6f5d0\"],[0.7,\"#b8e186\"],[0.8,\"#7fbc41\"],[0.9,\"#4d9221\"],[1,\"#276419\"]]},\"xaxis\":{\"gridcolor\":\"white\",\"linecolor\":\"white\",\"ticks\":\"\",\"title\":{\"standoff\":15},\"zerolinecolor\":\"white\",\"automargin\":true,\"zerolinewidth\":2},\"yaxis\":{\"gridcolor\":\"white\",\"linecolor\":\"white\",\"ticks\":\"\",\"title\":{\"standoff\":15},\"zerolinecolor\":\"white\",\"automargin\":true,\"zerolinewidth\":2},\"scene\":{\"xaxis\":{\"backgroundcolor\":\"#E5ECF6\",\"gridcolor\":\"white\",\"linecolor\":\"white\",\"showbackground\":true,\"ticks\":\"\",\"zerolinecolor\":\"white\",\"gridwidth\":2},\"yaxis\":{\"backgroundcolor\":\"#E5ECF6\",\"gridcolor\":\"white\",\"linecolor\":\"white\",\"showbackground\":true,\"ticks\":\"\",\"zerolinecolor\":\"white\",\"gridwidth\":2},\"zaxis\":{\"backgroundcolor\":\"#E5ECF6\",\"gridcolor\":\"white\",\"linecolor\":\"white\",\"showbackground\":true,\"ticks\":\"\",\"zerolinecolor\":\"white\",\"gridwidth\":2}},\"shapedefaults\":{\"line\":{\"color\":\"#2a3f5f\"}},\"annotationdefaults\":{\"arrowcolor\":\"#2a3f5f\",\"arrowhead\":0,\"arrowwidth\":1},\"geo\":{\"bgcolor\":\"white\",\"landcolor\":\"#E5ECF6\",\"subunitcolor\":\"white\",\"showland\":true,\"showlakes\":true,\"lakecolor\":\"white\"},\"title\":{\"x\":0.05},\"mapbox\":{\"style\":\"light\"}}},\"xaxis\":{\"anchor\":\"y\",\"domain\":[0.0,1.0],\"title\":{\"text\":\"diff_mean\"}},\"yaxis\":{\"anchor\":\"x\",\"domain\":[0.0,1.0],\"title\":{\"text\":\"diff_cv\"}},\"legend\":{\"title\":{\"text\":\"th_\"},\"tracegroupgap\":0},\"margin\":{\"t\":60}},                        {\"responsive\": true}                    ).then(function(){\n",
       "                            \n",
       "var gd = document.getElementById('db09ec63-9f65-4a36-aa17-76734b59b988');\n",
       "var x = new MutationObserver(function (mutations, observer) {{\n",
       "        var display = window.getComputedStyle(gd).display;\n",
       "        if (!display || display === 'none') {{\n",
       "            console.log([gd, 'removed!']);\n",
       "            Plotly.purge(gd);\n",
       "            observer.disconnect();\n",
       "        }}\n",
       "}});\n",
       "\n",
       "// Listen for the removal of the full notebook cells\n",
       "var notebookContainer = gd.closest('#notebook-container');\n",
       "if (notebookContainer) {{\n",
       "    x.observe(notebookContainer, {childList: true});\n",
       "}}\n",
       "\n",
       "// Listen for the clearing of the current output cell\n",
       "var outputEl = gd.closest('.output');\n",
       "if (outputEl) {{\n",
       "    x.observe(outputEl, {childList: true});\n",
       "}}\n",
       "\n",
       "                        })                };                });            </script>        </div>"
      ]
     },
     "metadata": {},
     "output_type": "display_data"
    }
   ],
   "source": [
    "DO_MEAN_VAR = DATA_VIS.groupby([\"th\", \"giv\", \"category\"]).agg({\"diff\": [\"mean\", \"std\", (\"cv\", lambda x: np.std(x)/abs(np.mean(x)) if np.mean(x) else \"N/A\")]}).reset_index()\n",
    "DO_MEAN_VAR.columns = ['_'.join(x) for x in list(DO_MEAN_VAR.columns)]\n",
    "\n",
    "color_palette = px.colors.qualitative.Safe\n",
    "fig = px.scatter(DO_MEAN_VAR.dropna(), x=\"diff_mean\", y=\"diff_cv\", color=\"th_\", hover_data=\"giv_\",\n",
    "                 color_discrete_sequence=color_palette)\n",
    "fig.write_image(\"../visualisations/llm_mean_diff_vs_coeff_var_diff.pdf\", format='pdf')\n",
    "fig.show()"
   ]
  },
  {
   "cell_type": "code",
   "execution_count": 275,
   "metadata": {},
   "outputs": [
    {
     "data": {
      "application/vnd.plotly.v1+json": {
       "config": {
        "plotlyServerURL": "https://plot.ly"
       },
       "data": [
        {
         "alignmentgroup": "True",
         "bingroup": "x",
         "histnorm": "",
         "hovertemplate": "th=regular<br>acc=%{x}<br>=%{y}<extra></extra>",
         "legendgroup": "regular",
         "marker": {
          "color": "rgb(136, 204, 238)",
          "opacity": 0.75,
          "pattern": {
           "shape": ""
          }
         },
         "name": "regular",
         "nbinsx": 30,
         "offsetgroup": "regular",
         "orientation": "v",
         "showlegend": true,
         "type": "histogram",
         "x": [
          "N/A",
          0,
          0,
          "N/A",
          1,
          0,
          0,
          1,
          0.25,
          0,
          "N/A",
          0.125,
          0.8,
          0.3333333333333333,
          "N/A",
          "N/A",
          0,
          1,
          1,
          1,
          "N/A",
          "N/A",
          "N/A",
          1,
          "N/A",
          "N/A",
          0,
          0.5,
          0.8666666666666667,
          0.75,
          0.8947368421052632,
          1,
          0.14285714285714285,
          1,
          0,
          1,
          0.8888888888888888,
          0,
          0.7307692307692307,
          0,
          0,
          0,
          "N/A",
          0,
          0.75,
          0.8,
          0.6428571428571429,
          0.8333333333333334,
          0,
          1,
          1,
          1,
          1,
          0.7272727272727273,
          "N/A",
          1,
          1,
          0,
          1,
          "N/A",
          "N/A",
          "N/A",
          "N/A",
          "N/A",
          0.1346153846153846,
          0.125,
          0.23076923076923078,
          1,
          1,
          1,
          0,
          1,
          "N/A",
          1,
          "N/A",
          "N/A",
          "N/A",
          0,
          0,
          "N/A",
          "N/A",
          "N/A",
          1,
          1,
          0,
          "N/A",
          0.9166666666666666,
          0.5454545454545454,
          0,
          0.75,
          1,
          "N/A",
          "N/A",
          "N/A",
          0.5333333333333333,
          1,
          0.4583333333333333,
          0.2857142857142857,
          0.4444444444444444,
          "N/A",
          "N/A",
          "N/A",
          "N/A",
          "N/A",
          "N/A",
          "N/A",
          "N/A",
          "N/A",
          "N/A",
          1,
          1,
          0,
          1,
          0,
          1,
          0.6363636363636364,
          0.2,
          0.5,
          0,
          0.9615384615384616,
          0.42857142857142855,
          1,
          1,
          1,
          "N/A",
          "N/A",
          "N/A",
          0,
          0,
          0,
          0.875,
          0.25,
          0.6666666666666666,
          "N/A",
          "N/A",
          "N/A",
          1,
          "N/A",
          0,
          "N/A",
          1,
          "N/A",
          0.07692307692307693,
          0,
          0,
          "N/A",
          0,
          1,
          0,
          0.45454545454545453,
          "N/A",
          "N/A",
          0.2,
          0.45454545454545453,
          1,
          1,
          "N/A",
          0,
          0.39285714285714285,
          "N/A",
          0.07142857142857142,
          0,
          0,
          1,
          "N/A",
          "N/A",
          "N/A",
          0,
          0,
          0,
          "N/A",
          "N/A",
          0.4,
          1,
          0.8,
          1,
          0.8,
          "N/A",
          0.5,
          0.38095238095238093,
          "N/A",
          0.6666666666666666,
          "N/A",
          0,
          1,
          "N/A",
          "N/A",
          0,
          0.7142857142857143,
          1,
          "N/A",
          0.6666666666666666,
          0.3333333333333333,
          0.75,
          "N/A",
          0.3235294117647059,
          "N/A",
          "N/A",
          "N/A",
          "N/A",
          0,
          0,
          1,
          0.5,
          "N/A",
          0.5,
          0.25,
          1,
          1,
          "N/A",
          "N/A",
          0.5,
          0,
          0.5,
          0.3333333333333333,
          0.1111111111111111,
          0,
          1,
          1,
          0,
          "N/A",
          "N/A",
          0,
          1,
          1,
          0.3333333333333333,
          0,
          0.9047619047619048,
          1,
          1,
          0,
          0,
          "N/A",
          0.4,
          0,
          0,
          0,
          "N/A",
          0.625,
          0.5625,
          "N/A",
          "N/A",
          "N/A"
         ],
         "xaxis": "x",
         "yaxis": "y"
        },
        {
         "alignmentgroup": "True",
         "bingroup": "x",
         "histnorm": "",
         "hovertemplate": "th=study_mod<br>acc=%{x}<br>=%{y}<extra></extra>",
         "legendgroup": "study_mod",
         "marker": {
          "color": "rgb(204, 102, 119)",
          "opacity": 0.75,
          "pattern": {
           "shape": ""
          }
         },
         "name": "study_mod",
         "nbinsx": 30,
         "offsetgroup": "study_mod",
         "orientation": "v",
         "showlegend": true,
         "type": "histogram",
         "x": [
          "N/A",
          "N/A",
          "N/A",
          "N/A",
          "N/A",
          0,
          0,
          0,
          0,
          0,
          "N/A",
          "N/A",
          "N/A",
          "N/A",
          "N/A",
          "N/A",
          "N/A",
          "N/A",
          "N/A",
          "N/A",
          1,
          1,
          1,
          1,
          1,
          "N/A",
          "N/A",
          "N/A",
          "N/A",
          "N/A",
          "N/A",
          0.8181818181818182,
          0.8571428571428571,
          1,
          0.8571428571428571,
          0,
          1,
          1,
          1,
          1,
          1,
          0.8888888888888888,
          0.8888888888888888,
          0.8888888888888888,
          0.6666666666666666,
          0,
          0,
          0,
          0,
          0,
          "N/A",
          "N/A",
          "N/A",
          "N/A",
          "N/A",
          1,
          1,
          1,
          1,
          1,
          "N/A",
          "N/A",
          "N/A",
          "N/A",
          "N/A",
          1,
          "N/A",
          0,
          0.5,
          1,
          0.6521739130434783,
          0.14,
          0.13043478260869565,
          0.04,
          0,
          1,
          1,
          1,
          1,
          1,
          "N/A",
          "N/A",
          "N/A",
          "N/A",
          "N/A",
          0,
          1,
          "N/A",
          0,
          1,
          0,
          "N/A",
          0,
          0,
          "N/A",
          "N/A",
          0.8333333333333334,
          0.8333333333333334,
          "N/A",
          "N/A",
          "N/A",
          "N/A",
          "N/A",
          "N/A",
          "N/A",
          "N/A",
          0.4444444444444444,
          0,
          "N/A",
          0.5,
          "N/A",
          "N/A",
          "N/A",
          "N/A",
          "N/A",
          "N/A",
          "N/A",
          "N/A",
          "N/A",
          "N/A",
          "N/A",
          "N/A",
          "N/A",
          "N/A",
          "N/A",
          0.2222222222222222,
          "N/A",
          0.6666666666666666,
          0,
          0.25,
          0,
          0.5555555555555556,
          0,
          0.8888888888888888,
          0,
          1,
          1,
          0.5,
          "N/A",
          "N/A",
          "N/A",
          "N/A",
          "N/A",
          "N/A",
          "N/A",
          0,
          "N/A",
          0,
          "N/A",
          "N/A",
          "N/A",
          "N/A",
          "N/A",
          "N/A",
          "N/A",
          "N/A",
          "N/A",
          "N/A",
          "N/A",
          "N/A",
          0,
          "N/A",
          "N/A",
          "N/A",
          "N/A",
          0,
          0.9230769230769231,
          0.1,
          0.09090909090909091,
          0.07692307692307693,
          "N/A",
          "N/A",
          "N/A",
          "N/A",
          "N/A",
          "N/A",
          0.5,
          0.2,
          0,
          1,
          "N/A",
          "N/A",
          "N/A",
          "N/A",
          "N/A",
          "N/A",
          "N/A",
          "N/A",
          "N/A",
          "N/A",
          0.1,
          0,
          0.1,
          0.1,
          0.1,
          0,
          1,
          1,
          0,
          0,
          0.2,
          0.5,
          0,
          0.75,
          0,
          0,
          0,
          0,
          0,
          0,
          "N/A",
          "N/A",
          "N/A",
          "N/A",
          "N/A",
          0.4444444444444444,
          0.4,
          0.38095238095238093,
          0.38095238095238093,
          0.5,
          1,
          0,
          1,
          1,
          1,
          1,
          0.75,
          0.6,
          0.7142857142857143,
          0.6666666666666666,
          "N/A",
          "N/A",
          "N/A",
          "N/A",
          "N/A",
          "N/A",
          "N/A",
          "N/A",
          "N/A",
          "N/A",
          0.3333333333333333,
          0.16666666666666666,
          0,
          "N/A",
          "N/A",
          1,
          "N/A",
          "N/A",
          "N/A",
          1,
          "N/A",
          0.1111111111111111,
          0.5,
          0.5,
          "N/A",
          1,
          1,
          1,
          1,
          1,
          1,
          1,
          1,
          1,
          1,
          0,
          0,
          0,
          0,
          0,
          0,
          0,
          0,
          0,
          0,
          "N/A",
          "N/A",
          "N/A",
          "N/A",
          "N/A",
          0,
          0.8235294117647058,
          0.5,
          0,
          0.8823529411764706,
          1,
          "N/A",
          1,
          1,
          1
         ],
         "xaxis": "x",
         "yaxis": "y"
        },
        {
         "alignmentgroup": "True",
         "bingroup": "x",
         "histnorm": "",
         "hovertemplate": "th=var_mod<br>acc=%{x}<br>=%{y}<extra></extra>",
         "legendgroup": "var_mod",
         "marker": {
          "color": "rgb(221, 204, 119)",
          "opacity": 0.75,
          "pattern": {
           "shape": ""
          }
         },
         "name": "var_mod",
         "nbinsx": 30,
         "offsetgroup": "var_mod",
         "orientation": "v",
         "showlegend": true,
         "type": "histogram",
         "x": [
          "N/A",
          "N/A",
          "N/A",
          "N/A",
          "N/A",
          "N/A",
          "N/A",
          "N/A",
          0,
          "N/A",
          "N/A",
          "N/A",
          1,
          0.5,
          0.5,
          0,
          1,
          0.3333333333333333,
          0.631578947368421,
          0.5555555555555556,
          0.6111111111111112,
          0.6666666666666666,
          1,
          0.75,
          0.5,
          0.35294117647058826,
          0.75,
          "N/A",
          "N/A",
          "N/A",
          "N/A",
          "N/A",
          1,
          "N/A",
          "N/A",
          "N/A",
          "N/A",
          "N/A",
          "N/A",
          "N/A",
          "N/A",
          0.15789473684210525,
          "N/A",
          0.15789473684210525,
          "N/A",
          1,
          1,
          0,
          1,
          1,
          "N/A",
          "N/A",
          1,
          0,
          "N/A",
          "N/A",
          0.25,
          0,
          0.2,
          "N/A"
         ],
         "xaxis": "x",
         "yaxis": "y"
        }
       ],
       "layout": {
        "barmode": "group",
        "legend": {
         "title": {
          "text": "th"
         },
         "tracegroupgap": 0
        },
        "margin": {
         "t": 60
        },
        "template": {
         "data": {
          "bar": [
           {
            "error_x": {
             "color": "#2a3f5f"
            },
            "error_y": {
             "color": "#2a3f5f"
            },
            "marker": {
             "line": {
              "color": "#E5ECF6",
              "width": 0.5
             },
             "pattern": {
              "fillmode": "overlay",
              "size": 10,
              "solidity": 0.2
             }
            },
            "type": "bar"
           }
          ],
          "barpolar": [
           {
            "marker": {
             "line": {
              "color": "#E5ECF6",
              "width": 0.5
             },
             "pattern": {
              "fillmode": "overlay",
              "size": 10,
              "solidity": 0.2
             }
            },
            "type": "barpolar"
           }
          ],
          "carpet": [
           {
            "aaxis": {
             "endlinecolor": "#2a3f5f",
             "gridcolor": "white",
             "linecolor": "white",
             "minorgridcolor": "white",
             "startlinecolor": "#2a3f5f"
            },
            "baxis": {
             "endlinecolor": "#2a3f5f",
             "gridcolor": "white",
             "linecolor": "white",
             "minorgridcolor": "white",
             "startlinecolor": "#2a3f5f"
            },
            "type": "carpet"
           }
          ],
          "choropleth": [
           {
            "colorbar": {
             "outlinewidth": 0,
             "ticks": ""
            },
            "type": "choropleth"
           }
          ],
          "contour": [
           {
            "colorbar": {
             "outlinewidth": 0,
             "ticks": ""
            },
            "colorscale": [
             [
              0,
              "#0d0887"
             ],
             [
              0.1111111111111111,
              "#46039f"
             ],
             [
              0.2222222222222222,
              "#7201a8"
             ],
             [
              0.3333333333333333,
              "#9c179e"
             ],
             [
              0.4444444444444444,
              "#bd3786"
             ],
             [
              0.5555555555555556,
              "#d8576b"
             ],
             [
              0.6666666666666666,
              "#ed7953"
             ],
             [
              0.7777777777777778,
              "#fb9f3a"
             ],
             [
              0.8888888888888888,
              "#fdca26"
             ],
             [
              1,
              "#f0f921"
             ]
            ],
            "type": "contour"
           }
          ],
          "contourcarpet": [
           {
            "colorbar": {
             "outlinewidth": 0,
             "ticks": ""
            },
            "type": "contourcarpet"
           }
          ],
          "heatmap": [
           {
            "colorbar": {
             "outlinewidth": 0,
             "ticks": ""
            },
            "colorscale": [
             [
              0,
              "#0d0887"
             ],
             [
              0.1111111111111111,
              "#46039f"
             ],
             [
              0.2222222222222222,
              "#7201a8"
             ],
             [
              0.3333333333333333,
              "#9c179e"
             ],
             [
              0.4444444444444444,
              "#bd3786"
             ],
             [
              0.5555555555555556,
              "#d8576b"
             ],
             [
              0.6666666666666666,
              "#ed7953"
             ],
             [
              0.7777777777777778,
              "#fb9f3a"
             ],
             [
              0.8888888888888888,
              "#fdca26"
             ],
             [
              1,
              "#f0f921"
             ]
            ],
            "type": "heatmap"
           }
          ],
          "heatmapgl": [
           {
            "colorbar": {
             "outlinewidth": 0,
             "ticks": ""
            },
            "colorscale": [
             [
              0,
              "#0d0887"
             ],
             [
              0.1111111111111111,
              "#46039f"
             ],
             [
              0.2222222222222222,
              "#7201a8"
             ],
             [
              0.3333333333333333,
              "#9c179e"
             ],
             [
              0.4444444444444444,
              "#bd3786"
             ],
             [
              0.5555555555555556,
              "#d8576b"
             ],
             [
              0.6666666666666666,
              "#ed7953"
             ],
             [
              0.7777777777777778,
              "#fb9f3a"
             ],
             [
              0.8888888888888888,
              "#fdca26"
             ],
             [
              1,
              "#f0f921"
             ]
            ],
            "type": "heatmapgl"
           }
          ],
          "histogram": [
           {
            "marker": {
             "pattern": {
              "fillmode": "overlay",
              "size": 10,
              "solidity": 0.2
             }
            },
            "type": "histogram"
           }
          ],
          "histogram2d": [
           {
            "colorbar": {
             "outlinewidth": 0,
             "ticks": ""
            },
            "colorscale": [
             [
              0,
              "#0d0887"
             ],
             [
              0.1111111111111111,
              "#46039f"
             ],
             [
              0.2222222222222222,
              "#7201a8"
             ],
             [
              0.3333333333333333,
              "#9c179e"
             ],
             [
              0.4444444444444444,
              "#bd3786"
             ],
             [
              0.5555555555555556,
              "#d8576b"
             ],
             [
              0.6666666666666666,
              "#ed7953"
             ],
             [
              0.7777777777777778,
              "#fb9f3a"
             ],
             [
              0.8888888888888888,
              "#fdca26"
             ],
             [
              1,
              "#f0f921"
             ]
            ],
            "type": "histogram2d"
           }
          ],
          "histogram2dcontour": [
           {
            "colorbar": {
             "outlinewidth": 0,
             "ticks": ""
            },
            "colorscale": [
             [
              0,
              "#0d0887"
             ],
             [
              0.1111111111111111,
              "#46039f"
             ],
             [
              0.2222222222222222,
              "#7201a8"
             ],
             [
              0.3333333333333333,
              "#9c179e"
             ],
             [
              0.4444444444444444,
              "#bd3786"
             ],
             [
              0.5555555555555556,
              "#d8576b"
             ],
             [
              0.6666666666666666,
              "#ed7953"
             ],
             [
              0.7777777777777778,
              "#fb9f3a"
             ],
             [
              0.8888888888888888,
              "#fdca26"
             ],
             [
              1,
              "#f0f921"
             ]
            ],
            "type": "histogram2dcontour"
           }
          ],
          "mesh3d": [
           {
            "colorbar": {
             "outlinewidth": 0,
             "ticks": ""
            },
            "type": "mesh3d"
           }
          ],
          "parcoords": [
           {
            "line": {
             "colorbar": {
              "outlinewidth": 0,
              "ticks": ""
             }
            },
            "type": "parcoords"
           }
          ],
          "pie": [
           {
            "automargin": true,
            "type": "pie"
           }
          ],
          "scatter": [
           {
            "fillpattern": {
             "fillmode": "overlay",
             "size": 10,
             "solidity": 0.2
            },
            "type": "scatter"
           }
          ],
          "scatter3d": [
           {
            "line": {
             "colorbar": {
              "outlinewidth": 0,
              "ticks": ""
             }
            },
            "marker": {
             "colorbar": {
              "outlinewidth": 0,
              "ticks": ""
             }
            },
            "type": "scatter3d"
           }
          ],
          "scattercarpet": [
           {
            "marker": {
             "colorbar": {
              "outlinewidth": 0,
              "ticks": ""
             }
            },
            "type": "scattercarpet"
           }
          ],
          "scattergeo": [
           {
            "marker": {
             "colorbar": {
              "outlinewidth": 0,
              "ticks": ""
             }
            },
            "type": "scattergeo"
           }
          ],
          "scattergl": [
           {
            "marker": {
             "colorbar": {
              "outlinewidth": 0,
              "ticks": ""
             }
            },
            "type": "scattergl"
           }
          ],
          "scattermapbox": [
           {
            "marker": {
             "colorbar": {
              "outlinewidth": 0,
              "ticks": ""
             }
            },
            "type": "scattermapbox"
           }
          ],
          "scatterpolar": [
           {
            "marker": {
             "colorbar": {
              "outlinewidth": 0,
              "ticks": ""
             }
            },
            "type": "scatterpolar"
           }
          ],
          "scatterpolargl": [
           {
            "marker": {
             "colorbar": {
              "outlinewidth": 0,
              "ticks": ""
             }
            },
            "type": "scatterpolargl"
           }
          ],
          "scatterternary": [
           {
            "marker": {
             "colorbar": {
              "outlinewidth": 0,
              "ticks": ""
             }
            },
            "type": "scatterternary"
           }
          ],
          "surface": [
           {
            "colorbar": {
             "outlinewidth": 0,
             "ticks": ""
            },
            "colorscale": [
             [
              0,
              "#0d0887"
             ],
             [
              0.1111111111111111,
              "#46039f"
             ],
             [
              0.2222222222222222,
              "#7201a8"
             ],
             [
              0.3333333333333333,
              "#9c179e"
             ],
             [
              0.4444444444444444,
              "#bd3786"
             ],
             [
              0.5555555555555556,
              "#d8576b"
             ],
             [
              0.6666666666666666,
              "#ed7953"
             ],
             [
              0.7777777777777778,
              "#fb9f3a"
             ],
             [
              0.8888888888888888,
              "#fdca26"
             ],
             [
              1,
              "#f0f921"
             ]
            ],
            "type": "surface"
           }
          ],
          "table": [
           {
            "cells": {
             "fill": {
              "color": "#EBF0F8"
             },
             "line": {
              "color": "white"
             }
            },
            "header": {
             "fill": {
              "color": "#C8D4E3"
             },
             "line": {
              "color": "white"
             }
            },
            "type": "table"
           }
          ]
         },
         "layout": {
          "annotationdefaults": {
           "arrowcolor": "#2a3f5f",
           "arrowhead": 0,
           "arrowwidth": 1
          },
          "autotypenumbers": "strict",
          "coloraxis": {
           "colorbar": {
            "outlinewidth": 0,
            "ticks": ""
           }
          },
          "colorscale": {
           "diverging": [
            [
             0,
             "#8e0152"
            ],
            [
             0.1,
             "#c51b7d"
            ],
            [
             0.2,
             "#de77ae"
            ],
            [
             0.3,
             "#f1b6da"
            ],
            [
             0.4,
             "#fde0ef"
            ],
            [
             0.5,
             "#f7f7f7"
            ],
            [
             0.6,
             "#e6f5d0"
            ],
            [
             0.7,
             "#b8e186"
            ],
            [
             0.8,
             "#7fbc41"
            ],
            [
             0.9,
             "#4d9221"
            ],
            [
             1,
             "#276419"
            ]
           ],
           "sequential": [
            [
             0,
             "#0d0887"
            ],
            [
             0.1111111111111111,
             "#46039f"
            ],
            [
             0.2222222222222222,
             "#7201a8"
            ],
            [
             0.3333333333333333,
             "#9c179e"
            ],
            [
             0.4444444444444444,
             "#bd3786"
            ],
            [
             0.5555555555555556,
             "#d8576b"
            ],
            [
             0.6666666666666666,
             "#ed7953"
            ],
            [
             0.7777777777777778,
             "#fb9f3a"
            ],
            [
             0.8888888888888888,
             "#fdca26"
            ],
            [
             1,
             "#f0f921"
            ]
           ],
           "sequentialminus": [
            [
             0,
             "#0d0887"
            ],
            [
             0.1111111111111111,
             "#46039f"
            ],
            [
             0.2222222222222222,
             "#7201a8"
            ],
            [
             0.3333333333333333,
             "#9c179e"
            ],
            [
             0.4444444444444444,
             "#bd3786"
            ],
            [
             0.5555555555555556,
             "#d8576b"
            ],
            [
             0.6666666666666666,
             "#ed7953"
            ],
            [
             0.7777777777777778,
             "#fb9f3a"
            ],
            [
             0.8888888888888888,
             "#fdca26"
            ],
            [
             1,
             "#f0f921"
            ]
           ]
          },
          "colorway": [
           "#636efa",
           "#EF553B",
           "#00cc96",
           "#ab63fa",
           "#FFA15A",
           "#19d3f3",
           "#FF6692",
           "#B6E880",
           "#FF97FF",
           "#FECB52"
          ],
          "font": {
           "color": "#2a3f5f"
          },
          "geo": {
           "bgcolor": "white",
           "lakecolor": "white",
           "landcolor": "#E5ECF6",
           "showlakes": true,
           "showland": true,
           "subunitcolor": "white"
          },
          "hoverlabel": {
           "align": "left"
          },
          "hovermode": "closest",
          "mapbox": {
           "style": "light"
          },
          "paper_bgcolor": "white",
          "plot_bgcolor": "#E5ECF6",
          "polar": {
           "angularaxis": {
            "gridcolor": "white",
            "linecolor": "white",
            "ticks": ""
           },
           "bgcolor": "#E5ECF6",
           "radialaxis": {
            "gridcolor": "white",
            "linecolor": "white",
            "ticks": ""
           }
          },
          "scene": {
           "xaxis": {
            "backgroundcolor": "#E5ECF6",
            "gridcolor": "white",
            "gridwidth": 2,
            "linecolor": "white",
            "showbackground": true,
            "ticks": "",
            "zerolinecolor": "white"
           },
           "yaxis": {
            "backgroundcolor": "#E5ECF6",
            "gridcolor": "white",
            "gridwidth": 2,
            "linecolor": "white",
            "showbackground": true,
            "ticks": "",
            "zerolinecolor": "white"
           },
           "zaxis": {
            "backgroundcolor": "#E5ECF6",
            "gridcolor": "white",
            "gridwidth": 2,
            "linecolor": "white",
            "showbackground": true,
            "ticks": "",
            "zerolinecolor": "white"
           }
          },
          "shapedefaults": {
           "line": {
            "color": "#2a3f5f"
           }
          },
          "ternary": {
           "aaxis": {
            "gridcolor": "white",
            "linecolor": "white",
            "ticks": ""
           },
           "baxis": {
            "gridcolor": "white",
            "linecolor": "white",
            "ticks": ""
           },
           "bgcolor": "#E5ECF6",
           "caxis": {
            "gridcolor": "white",
            "linecolor": "white",
            "ticks": ""
           }
          },
          "title": {
           "x": 0.05
          },
          "xaxis": {
           "automargin": true,
           "gridcolor": "white",
           "linecolor": "white",
           "ticks": "",
           "title": {
            "standoff": 15
           },
           "zerolinecolor": "white",
           "zerolinewidth": 2
          },
          "yaxis": {
           "automargin": true,
           "gridcolor": "white",
           "linecolor": "white",
           "ticks": "",
           "title": {
            "standoff": 15
           },
           "zerolinecolor": "white",
           "zerolinewidth": 2
          }
         }
        },
        "xaxis": {
         "anchor": "y",
         "domain": [
          0,
          1
         ],
         "title": {
          "text": "acc"
         }
        },
        "yaxis": {
         "anchor": "x",
         "domain": [
          0,
          1
         ],
         "title": {
          "text": ""
         }
        }
       }
      },
      "text/html": [
       "<div>                            <div id=\"82646417-7cee-411b-965d-c52730cfa1cc\" class=\"plotly-graph-div\" style=\"height:525px; width:100%;\"></div>            <script type=\"text/javascript\">                require([\"plotly\"], function(Plotly) {                    window.PLOTLYENV=window.PLOTLYENV || {};                                    if (document.getElementById(\"82646417-7cee-411b-965d-c52730cfa1cc\")) {                    Plotly.newPlot(                        \"82646417-7cee-411b-965d-c52730cfa1cc\",                        [{\"alignmentgroup\":\"True\",\"bingroup\":\"x\",\"histnorm\":\"\",\"hovertemplate\":\"th=regular\\u003cbr\\u003eacc=%{x}\\u003cbr\\u003e=%{y}\\u003cextra\\u003e\\u003c\\u002fextra\\u003e\",\"legendgroup\":\"regular\",\"marker\":{\"color\":\"rgb(136, 204, 238)\",\"opacity\":0.75,\"pattern\":{\"shape\":\"\"}},\"name\":\"regular\",\"nbinsx\":30,\"offsetgroup\":\"regular\",\"orientation\":\"v\",\"showlegend\":true,\"x\":[\"N\\u002fA\",0.0,0.0,\"N\\u002fA\",1.0,0.0,0.0,1.0,0.25,0.0,\"N\\u002fA\",0.125,0.8,0.3333333333333333,\"N\\u002fA\",\"N\\u002fA\",0.0,1.0,1.0,1.0,\"N\\u002fA\",\"N\\u002fA\",\"N\\u002fA\",1.0,\"N\\u002fA\",\"N\\u002fA\",0.0,0.5,0.8666666666666667,0.75,0.8947368421052632,1.0,0.14285714285714285,1.0,0.0,1.0,0.8888888888888888,0.0,0.7307692307692307,0.0,0.0,0.0,\"N\\u002fA\",0.0,0.75,0.8,0.6428571428571429,0.8333333333333334,0.0,1.0,1.0,1.0,1.0,0.7272727272727273,\"N\\u002fA\",1.0,1.0,0.0,1.0,\"N\\u002fA\",\"N\\u002fA\",\"N\\u002fA\",\"N\\u002fA\",\"N\\u002fA\",0.1346153846153846,0.125,0.23076923076923078,1.0,1.0,1.0,0.0,1.0,\"N\\u002fA\",1.0,\"N\\u002fA\",\"N\\u002fA\",\"N\\u002fA\",0.0,0.0,\"N\\u002fA\",\"N\\u002fA\",\"N\\u002fA\",1.0,1.0,0.0,\"N\\u002fA\",0.9166666666666666,0.5454545454545454,0.0,0.75,1.0,\"N\\u002fA\",\"N\\u002fA\",\"N\\u002fA\",0.5333333333333333,1.0,0.4583333333333333,0.2857142857142857,0.4444444444444444,\"N\\u002fA\",\"N\\u002fA\",\"N\\u002fA\",\"N\\u002fA\",\"N\\u002fA\",\"N\\u002fA\",\"N\\u002fA\",\"N\\u002fA\",\"N\\u002fA\",\"N\\u002fA\",1.0,1.0,0.0,1.0,0.0,1.0,0.6363636363636364,0.2,0.5,0.0,0.9615384615384616,0.42857142857142855,1.0,1.0,1.0,\"N\\u002fA\",\"N\\u002fA\",\"N\\u002fA\",0.0,0.0,0.0,0.875,0.25,0.6666666666666666,\"N\\u002fA\",\"N\\u002fA\",\"N\\u002fA\",1.0,\"N\\u002fA\",0.0,\"N\\u002fA\",1.0,\"N\\u002fA\",0.07692307692307693,0.0,0.0,\"N\\u002fA\",0.0,1.0,0.0,0.45454545454545453,\"N\\u002fA\",\"N\\u002fA\",0.2,0.45454545454545453,1.0,1.0,\"N\\u002fA\",0.0,0.39285714285714285,\"N\\u002fA\",0.07142857142857142,0.0,0.0,1.0,\"N\\u002fA\",\"N\\u002fA\",\"N\\u002fA\",0.0,0.0,0.0,\"N\\u002fA\",\"N\\u002fA\",0.4,1.0,0.8,1.0,0.8,\"N\\u002fA\",0.5,0.38095238095238093,\"N\\u002fA\",0.6666666666666666,\"N\\u002fA\",0.0,1.0,\"N\\u002fA\",\"N\\u002fA\",0.0,0.7142857142857143,1.0,\"N\\u002fA\",0.6666666666666666,0.3333333333333333,0.75,\"N\\u002fA\",0.3235294117647059,\"N\\u002fA\",\"N\\u002fA\",\"N\\u002fA\",\"N\\u002fA\",0.0,0.0,1.0,0.5,\"N\\u002fA\",0.5,0.25,1.0,1.0,\"N\\u002fA\",\"N\\u002fA\",0.5,0.0,0.5,0.3333333333333333,0.1111111111111111,0.0,1.0,1.0,0.0,\"N\\u002fA\",\"N\\u002fA\",0.0,1.0,1.0,0.3333333333333333,0.0,0.9047619047619048,1.0,1.0,0.0,0.0,\"N\\u002fA\",0.4,0.0,0.0,0.0,\"N\\u002fA\",0.625,0.5625,\"N\\u002fA\",\"N\\u002fA\",\"N\\u002fA\"],\"xaxis\":\"x\",\"yaxis\":\"y\",\"type\":\"histogram\"},{\"alignmentgroup\":\"True\",\"bingroup\":\"x\",\"histnorm\":\"\",\"hovertemplate\":\"th=study_mod\\u003cbr\\u003eacc=%{x}\\u003cbr\\u003e=%{y}\\u003cextra\\u003e\\u003c\\u002fextra\\u003e\",\"legendgroup\":\"study_mod\",\"marker\":{\"color\":\"rgb(204, 102, 119)\",\"opacity\":0.75,\"pattern\":{\"shape\":\"\"}},\"name\":\"study_mod\",\"nbinsx\":30,\"offsetgroup\":\"study_mod\",\"orientation\":\"v\",\"showlegend\":true,\"x\":[\"N\\u002fA\",\"N\\u002fA\",\"N\\u002fA\",\"N\\u002fA\",\"N\\u002fA\",0.0,0.0,0.0,0.0,0.0,\"N\\u002fA\",\"N\\u002fA\",\"N\\u002fA\",\"N\\u002fA\",\"N\\u002fA\",\"N\\u002fA\",\"N\\u002fA\",\"N\\u002fA\",\"N\\u002fA\",\"N\\u002fA\",1.0,1.0,1.0,1.0,1.0,\"N\\u002fA\",\"N\\u002fA\",\"N\\u002fA\",\"N\\u002fA\",\"N\\u002fA\",\"N\\u002fA\",0.8181818181818182,0.8571428571428571,1.0,0.8571428571428571,0.0,1.0,1.0,1.0,1.0,1.0,0.8888888888888888,0.8888888888888888,0.8888888888888888,0.6666666666666666,0.0,0.0,0.0,0.0,0.0,\"N\\u002fA\",\"N\\u002fA\",\"N\\u002fA\",\"N\\u002fA\",\"N\\u002fA\",1.0,1.0,1.0,1.0,1.0,\"N\\u002fA\",\"N\\u002fA\",\"N\\u002fA\",\"N\\u002fA\",\"N\\u002fA\",1.0,\"N\\u002fA\",0.0,0.5,1.0,0.6521739130434783,0.14,0.13043478260869565,0.04,0.0,1.0,1.0,1.0,1.0,1.0,\"N\\u002fA\",\"N\\u002fA\",\"N\\u002fA\",\"N\\u002fA\",\"N\\u002fA\",0.0,1.0,\"N\\u002fA\",0.0,1.0,0.0,\"N\\u002fA\",0.0,0.0,\"N\\u002fA\",\"N\\u002fA\",0.8333333333333334,0.8333333333333334,\"N\\u002fA\",\"N\\u002fA\",\"N\\u002fA\",\"N\\u002fA\",\"N\\u002fA\",\"N\\u002fA\",\"N\\u002fA\",\"N\\u002fA\",0.4444444444444444,0.0,\"N\\u002fA\",0.5,\"N\\u002fA\",\"N\\u002fA\",\"N\\u002fA\",\"N\\u002fA\",\"N\\u002fA\",\"N\\u002fA\",\"N\\u002fA\",\"N\\u002fA\",\"N\\u002fA\",\"N\\u002fA\",\"N\\u002fA\",\"N\\u002fA\",\"N\\u002fA\",\"N\\u002fA\",\"N\\u002fA\",0.2222222222222222,\"N\\u002fA\",0.6666666666666666,0.0,0.25,0.0,0.5555555555555556,0.0,0.8888888888888888,0.0,1.0,1.0,0.5,\"N\\u002fA\",\"N\\u002fA\",\"N\\u002fA\",\"N\\u002fA\",\"N\\u002fA\",\"N\\u002fA\",\"N\\u002fA\",0.0,\"N\\u002fA\",0.0,\"N\\u002fA\",\"N\\u002fA\",\"N\\u002fA\",\"N\\u002fA\",\"N\\u002fA\",\"N\\u002fA\",\"N\\u002fA\",\"N\\u002fA\",\"N\\u002fA\",\"N\\u002fA\",\"N\\u002fA\",\"N\\u002fA\",0.0,\"N\\u002fA\",\"N\\u002fA\",\"N\\u002fA\",\"N\\u002fA\",0.0,0.9230769230769231,0.1,0.09090909090909091,0.07692307692307693,\"N\\u002fA\",\"N\\u002fA\",\"N\\u002fA\",\"N\\u002fA\",\"N\\u002fA\",\"N\\u002fA\",0.5,0.2,0.0,1.0,\"N\\u002fA\",\"N\\u002fA\",\"N\\u002fA\",\"N\\u002fA\",\"N\\u002fA\",\"N\\u002fA\",\"N\\u002fA\",\"N\\u002fA\",\"N\\u002fA\",\"N\\u002fA\",0.1,0.0,0.1,0.1,0.1,0.0,1.0,1.0,0.0,0.0,0.2,0.5,0.0,0.75,0.0,0.0,0.0,0.0,0.0,0.0,\"N\\u002fA\",\"N\\u002fA\",\"N\\u002fA\",\"N\\u002fA\",\"N\\u002fA\",0.4444444444444444,0.4,0.38095238095238093,0.38095238095238093,0.5,1.0,0.0,1.0,1.0,1.0,1.0,0.75,0.6,0.7142857142857143,0.6666666666666666,\"N\\u002fA\",\"N\\u002fA\",\"N\\u002fA\",\"N\\u002fA\",\"N\\u002fA\",\"N\\u002fA\",\"N\\u002fA\",\"N\\u002fA\",\"N\\u002fA\",\"N\\u002fA\",0.3333333333333333,0.16666666666666666,0.0,\"N\\u002fA\",\"N\\u002fA\",1.0,\"N\\u002fA\",\"N\\u002fA\",\"N\\u002fA\",1.0,\"N\\u002fA\",0.1111111111111111,0.5,0.5,\"N\\u002fA\",1.0,1.0,1.0,1.0,1.0,1.0,1.0,1.0,1.0,1.0,0.0,0.0,0.0,0.0,0.0,0.0,0.0,0.0,0.0,0.0,\"N\\u002fA\",\"N\\u002fA\",\"N\\u002fA\",\"N\\u002fA\",\"N\\u002fA\",0.0,0.8235294117647058,0.5,0.0,0.8823529411764706,1.0,\"N\\u002fA\",1.0,1.0,1.0],\"xaxis\":\"x\",\"yaxis\":\"y\",\"type\":\"histogram\"},{\"alignmentgroup\":\"True\",\"bingroup\":\"x\",\"histnorm\":\"\",\"hovertemplate\":\"th=var_mod\\u003cbr\\u003eacc=%{x}\\u003cbr\\u003e=%{y}\\u003cextra\\u003e\\u003c\\u002fextra\\u003e\",\"legendgroup\":\"var_mod\",\"marker\":{\"color\":\"rgb(221, 204, 119)\",\"opacity\":0.75,\"pattern\":{\"shape\":\"\"}},\"name\":\"var_mod\",\"nbinsx\":30,\"offsetgroup\":\"var_mod\",\"orientation\":\"v\",\"showlegend\":true,\"x\":[\"N\\u002fA\",\"N\\u002fA\",\"N\\u002fA\",\"N\\u002fA\",\"N\\u002fA\",\"N\\u002fA\",\"N\\u002fA\",\"N\\u002fA\",0.0,\"N\\u002fA\",\"N\\u002fA\",\"N\\u002fA\",1.0,0.5,0.5,0.0,1.0,0.3333333333333333,0.631578947368421,0.5555555555555556,0.6111111111111112,0.6666666666666666,1.0,0.75,0.5,0.35294117647058826,0.75,\"N\\u002fA\",\"N\\u002fA\",\"N\\u002fA\",\"N\\u002fA\",\"N\\u002fA\",1.0,\"N\\u002fA\",\"N\\u002fA\",\"N\\u002fA\",\"N\\u002fA\",\"N\\u002fA\",\"N\\u002fA\",\"N\\u002fA\",\"N\\u002fA\",0.15789473684210525,\"N\\u002fA\",0.15789473684210525,\"N\\u002fA\",1.0,1.0,0.0,1.0,1.0,\"N\\u002fA\",\"N\\u002fA\",1.0,0.0,\"N\\u002fA\",\"N\\u002fA\",0.25,0.0,0.2,\"N\\u002fA\"],\"xaxis\":\"x\",\"yaxis\":\"y\",\"type\":\"histogram\"}],                        {\"template\":{\"data\":{\"histogram2dcontour\":[{\"type\":\"histogram2dcontour\",\"colorbar\":{\"outlinewidth\":0,\"ticks\":\"\"},\"colorscale\":[[0.0,\"#0d0887\"],[0.1111111111111111,\"#46039f\"],[0.2222222222222222,\"#7201a8\"],[0.3333333333333333,\"#9c179e\"],[0.4444444444444444,\"#bd3786\"],[0.5555555555555556,\"#d8576b\"],[0.6666666666666666,\"#ed7953\"],[0.7777777777777778,\"#fb9f3a\"],[0.8888888888888888,\"#fdca26\"],[1.0,\"#f0f921\"]]}],\"choropleth\":[{\"type\":\"choropleth\",\"colorbar\":{\"outlinewidth\":0,\"ticks\":\"\"}}],\"histogram2d\":[{\"type\":\"histogram2d\",\"colorbar\":{\"outlinewidth\":0,\"ticks\":\"\"},\"colorscale\":[[0.0,\"#0d0887\"],[0.1111111111111111,\"#46039f\"],[0.2222222222222222,\"#7201a8\"],[0.3333333333333333,\"#9c179e\"],[0.4444444444444444,\"#bd3786\"],[0.5555555555555556,\"#d8576b\"],[0.6666666666666666,\"#ed7953\"],[0.7777777777777778,\"#fb9f3a\"],[0.8888888888888888,\"#fdca26\"],[1.0,\"#f0f921\"]]}],\"heatmap\":[{\"type\":\"heatmap\",\"colorbar\":{\"outlinewidth\":0,\"ticks\":\"\"},\"colorscale\":[[0.0,\"#0d0887\"],[0.1111111111111111,\"#46039f\"],[0.2222222222222222,\"#7201a8\"],[0.3333333333333333,\"#9c179e\"],[0.4444444444444444,\"#bd3786\"],[0.5555555555555556,\"#d8576b\"],[0.6666666666666666,\"#ed7953\"],[0.7777777777777778,\"#fb9f3a\"],[0.8888888888888888,\"#fdca26\"],[1.0,\"#f0f921\"]]}],\"heatmapgl\":[{\"type\":\"heatmapgl\",\"colorbar\":{\"outlinewidth\":0,\"ticks\":\"\"},\"colorscale\":[[0.0,\"#0d0887\"],[0.1111111111111111,\"#46039f\"],[0.2222222222222222,\"#7201a8\"],[0.3333333333333333,\"#9c179e\"],[0.4444444444444444,\"#bd3786\"],[0.5555555555555556,\"#d8576b\"],[0.6666666666666666,\"#ed7953\"],[0.7777777777777778,\"#fb9f3a\"],[0.8888888888888888,\"#fdca26\"],[1.0,\"#f0f921\"]]}],\"contourcarpet\":[{\"type\":\"contourcarpet\",\"colorbar\":{\"outlinewidth\":0,\"ticks\":\"\"}}],\"contour\":[{\"type\":\"contour\",\"colorbar\":{\"outlinewidth\":0,\"ticks\":\"\"},\"colorscale\":[[0.0,\"#0d0887\"],[0.1111111111111111,\"#46039f\"],[0.2222222222222222,\"#7201a8\"],[0.3333333333333333,\"#9c179e\"],[0.4444444444444444,\"#bd3786\"],[0.5555555555555556,\"#d8576b\"],[0.6666666666666666,\"#ed7953\"],[0.7777777777777778,\"#fb9f3a\"],[0.8888888888888888,\"#fdca26\"],[1.0,\"#f0f921\"]]}],\"surface\":[{\"type\":\"surface\",\"colorbar\":{\"outlinewidth\":0,\"ticks\":\"\"},\"colorscale\":[[0.0,\"#0d0887\"],[0.1111111111111111,\"#46039f\"],[0.2222222222222222,\"#7201a8\"],[0.3333333333333333,\"#9c179e\"],[0.4444444444444444,\"#bd3786\"],[0.5555555555555556,\"#d8576b\"],[0.6666666666666666,\"#ed7953\"],[0.7777777777777778,\"#fb9f3a\"],[0.8888888888888888,\"#fdca26\"],[1.0,\"#f0f921\"]]}],\"mesh3d\":[{\"type\":\"mesh3d\",\"colorbar\":{\"outlinewidth\":0,\"ticks\":\"\"}}],\"scatter\":[{\"fillpattern\":{\"fillmode\":\"overlay\",\"size\":10,\"solidity\":0.2},\"type\":\"scatter\"}],\"parcoords\":[{\"type\":\"parcoords\",\"line\":{\"colorbar\":{\"outlinewidth\":0,\"ticks\":\"\"}}}],\"scatterpolargl\":[{\"type\":\"scatterpolargl\",\"marker\":{\"colorbar\":{\"outlinewidth\":0,\"ticks\":\"\"}}}],\"bar\":[{\"error_x\":{\"color\":\"#2a3f5f\"},\"error_y\":{\"color\":\"#2a3f5f\"},\"marker\":{\"line\":{\"color\":\"#E5ECF6\",\"width\":0.5},\"pattern\":{\"fillmode\":\"overlay\",\"size\":10,\"solidity\":0.2}},\"type\":\"bar\"}],\"scattergeo\":[{\"type\":\"scattergeo\",\"marker\":{\"colorbar\":{\"outlinewidth\":0,\"ticks\":\"\"}}}],\"scatterpolar\":[{\"type\":\"scatterpolar\",\"marker\":{\"colorbar\":{\"outlinewidth\":0,\"ticks\":\"\"}}}],\"histogram\":[{\"marker\":{\"pattern\":{\"fillmode\":\"overlay\",\"size\":10,\"solidity\":0.2}},\"type\":\"histogram\"}],\"scattergl\":[{\"type\":\"scattergl\",\"marker\":{\"colorbar\":{\"outlinewidth\":0,\"ticks\":\"\"}}}],\"scatter3d\":[{\"type\":\"scatter3d\",\"line\":{\"colorbar\":{\"outlinewidth\":0,\"ticks\":\"\"}},\"marker\":{\"colorbar\":{\"outlinewidth\":0,\"ticks\":\"\"}}}],\"scattermapbox\":[{\"type\":\"scattermapbox\",\"marker\":{\"colorbar\":{\"outlinewidth\":0,\"ticks\":\"\"}}}],\"scatterternary\":[{\"type\":\"scatterternary\",\"marker\":{\"colorbar\":{\"outlinewidth\":0,\"ticks\":\"\"}}}],\"scattercarpet\":[{\"type\":\"scattercarpet\",\"marker\":{\"colorbar\":{\"outlinewidth\":0,\"ticks\":\"\"}}}],\"carpet\":[{\"aaxis\":{\"endlinecolor\":\"#2a3f5f\",\"gridcolor\":\"white\",\"linecolor\":\"white\",\"minorgridcolor\":\"white\",\"startlinecolor\":\"#2a3f5f\"},\"baxis\":{\"endlinecolor\":\"#2a3f5f\",\"gridcolor\":\"white\",\"linecolor\":\"white\",\"minorgridcolor\":\"white\",\"startlinecolor\":\"#2a3f5f\"},\"type\":\"carpet\"}],\"table\":[{\"cells\":{\"fill\":{\"color\":\"#EBF0F8\"},\"line\":{\"color\":\"white\"}},\"header\":{\"fill\":{\"color\":\"#C8D4E3\"},\"line\":{\"color\":\"white\"}},\"type\":\"table\"}],\"barpolar\":[{\"marker\":{\"line\":{\"color\":\"#E5ECF6\",\"width\":0.5},\"pattern\":{\"fillmode\":\"overlay\",\"size\":10,\"solidity\":0.2}},\"type\":\"barpolar\"}],\"pie\":[{\"automargin\":true,\"type\":\"pie\"}]},\"layout\":{\"autotypenumbers\":\"strict\",\"colorway\":[\"#636efa\",\"#EF553B\",\"#00cc96\",\"#ab63fa\",\"#FFA15A\",\"#19d3f3\",\"#FF6692\",\"#B6E880\",\"#FF97FF\",\"#FECB52\"],\"font\":{\"color\":\"#2a3f5f\"},\"hovermode\":\"closest\",\"hoverlabel\":{\"align\":\"left\"},\"paper_bgcolor\":\"white\",\"plot_bgcolor\":\"#E5ECF6\",\"polar\":{\"bgcolor\":\"#E5ECF6\",\"angularaxis\":{\"gridcolor\":\"white\",\"linecolor\":\"white\",\"ticks\":\"\"},\"radialaxis\":{\"gridcolor\":\"white\",\"linecolor\":\"white\",\"ticks\":\"\"}},\"ternary\":{\"bgcolor\":\"#E5ECF6\",\"aaxis\":{\"gridcolor\":\"white\",\"linecolor\":\"white\",\"ticks\":\"\"},\"baxis\":{\"gridcolor\":\"white\",\"linecolor\":\"white\",\"ticks\":\"\"},\"caxis\":{\"gridcolor\":\"white\",\"linecolor\":\"white\",\"ticks\":\"\"}},\"coloraxis\":{\"colorbar\":{\"outlinewidth\":0,\"ticks\":\"\"}},\"colorscale\":{\"sequential\":[[0.0,\"#0d0887\"],[0.1111111111111111,\"#46039f\"],[0.2222222222222222,\"#7201a8\"],[0.3333333333333333,\"#9c179e\"],[0.4444444444444444,\"#bd3786\"],[0.5555555555555556,\"#d8576b\"],[0.6666666666666666,\"#ed7953\"],[0.7777777777777778,\"#fb9f3a\"],[0.8888888888888888,\"#fdca26\"],[1.0,\"#f0f921\"]],\"sequentialminus\":[[0.0,\"#0d0887\"],[0.1111111111111111,\"#46039f\"],[0.2222222222222222,\"#7201a8\"],[0.3333333333333333,\"#9c179e\"],[0.4444444444444444,\"#bd3786\"],[0.5555555555555556,\"#d8576b\"],[0.6666666666666666,\"#ed7953\"],[0.7777777777777778,\"#fb9f3a\"],[0.8888888888888888,\"#fdca26\"],[1.0,\"#f0f921\"]],\"diverging\":[[0,\"#8e0152\"],[0.1,\"#c51b7d\"],[0.2,\"#de77ae\"],[0.3,\"#f1b6da\"],[0.4,\"#fde0ef\"],[0.5,\"#f7f7f7\"],[0.6,\"#e6f5d0\"],[0.7,\"#b8e186\"],[0.8,\"#7fbc41\"],[0.9,\"#4d9221\"],[1,\"#276419\"]]},\"xaxis\":{\"gridcolor\":\"white\",\"linecolor\":\"white\",\"ticks\":\"\",\"title\":{\"standoff\":15},\"zerolinecolor\":\"white\",\"automargin\":true,\"zerolinewidth\":2},\"yaxis\":{\"gridcolor\":\"white\",\"linecolor\":\"white\",\"ticks\":\"\",\"title\":{\"standoff\":15},\"zerolinecolor\":\"white\",\"automargin\":true,\"zerolinewidth\":2},\"scene\":{\"xaxis\":{\"backgroundcolor\":\"#E5ECF6\",\"gridcolor\":\"white\",\"linecolor\":\"white\",\"showbackground\":true,\"ticks\":\"\",\"zerolinecolor\":\"white\",\"gridwidth\":2},\"yaxis\":{\"backgroundcolor\":\"#E5ECF6\",\"gridcolor\":\"white\",\"linecolor\":\"white\",\"showbackground\":true,\"ticks\":\"\",\"zerolinecolor\":\"white\",\"gridwidth\":2},\"zaxis\":{\"backgroundcolor\":\"#E5ECF6\",\"gridcolor\":\"white\",\"linecolor\":\"white\",\"showbackground\":true,\"ticks\":\"\",\"zerolinecolor\":\"white\",\"gridwidth\":2}},\"shapedefaults\":{\"line\":{\"color\":\"#2a3f5f\"}},\"annotationdefaults\":{\"arrowcolor\":\"#2a3f5f\",\"arrowhead\":0,\"arrowwidth\":1},\"geo\":{\"bgcolor\":\"white\",\"landcolor\":\"#E5ECF6\",\"subunitcolor\":\"white\",\"showland\":true,\"showlakes\":true,\"lakecolor\":\"white\"},\"title\":{\"x\":0.05},\"mapbox\":{\"style\":\"light\"}}},\"xaxis\":{\"anchor\":\"y\",\"domain\":[0.0,1.0],\"title\":{\"text\":\"acc\"}},\"yaxis\":{\"anchor\":\"x\",\"domain\":[0.0,1.0],\"title\":{\"text\":\"\"}},\"legend\":{\"title\":{\"text\":\"th\"},\"tracegroupgap\":0},\"margin\":{\"t\":60},\"barmode\":\"group\"},                        {\"responsive\": true}                    ).then(function(){\n",
       "                            \n",
       "var gd = document.getElementById('82646417-7cee-411b-965d-c52730cfa1cc');\n",
       "var x = new MutationObserver(function (mutations, observer) {{\n",
       "        var display = window.getComputedStyle(gd).display;\n",
       "        if (!display || display === 'none') {{\n",
       "            console.log([gd, 'removed!']);\n",
       "            Plotly.purge(gd);\n",
       "            observer.disconnect();\n",
       "        }}\n",
       "}});\n",
       "\n",
       "// Listen for the removal of the full notebook cells\n",
       "var notebookContainer = gd.closest('#notebook-container');\n",
       "if (notebookContainer) {{\n",
       "    x.observe(notebookContainer, {childList: true});\n",
       "}}\n",
       "\n",
       "// Listen for the clearing of the current output cell\n",
       "var outputEl = gd.closest('.output');\n",
       "if (outputEl) {{\n",
       "    x.observe(outputEl, {childList: true});\n",
       "}}\n",
       "\n",
       "                        })                };                });            </script>        </div>"
      ]
     },
     "metadata": {},
     "output_type": "display_data"
    }
   ],
   "source": [
    "color_palette = px.colors.qualitative.Safe\n",
    "fig = px.histogram(DATA_VIS, x=\"acc\", histnorm=\"\", nbins=30, color=\"th\",\n",
    "                   color_discrete_sequence=color_palette, opacity=0.75)\n",
    "fig.update_layout(barmode='group')\n",
    "fig.write_image(\"../visualisations/llm_hist_acc.pdf\", format='pdf')\n",
    "fig.show()"
   ]
  },
  {
   "cell_type": "code",
   "execution_count": 276,
   "metadata": {},
   "outputs": [],
   "source": [
    "top = 5\n",
    "pos_dif = DATA_VIS.groupby(\"giv\").agg({\"diff\": \"mean\"}).reset_index().sort_values(by=\"diff\", ascending=False).giv.values[:5]\n",
    "neg_dif = DATA_VIS.groupby(\"giv\").agg({\"diff\": \"mean\"}).reset_index().sort_values(by=\"diff\", ascending=True).giv.values[:5]"
   ]
  },
  {
   "cell_type": "code",
   "execution_count": 277,
   "metadata": {},
   "outputs": [
    {
     "data": {
      "application/vnd.plotly.v1+json": {
       "config": {
        "plotlyServerURL": "https://plot.ly"
       },
       "data": [
        {
         "alignmentgroup": "True",
         "boxpoints": "all",
         "hovertemplate": "th=regular<br>giv=%{x}<br>diff=%{y}<extra></extra>",
         "legendgroup": "regular",
         "marker": {
          "color": "rgb(136, 204, 238)"
         },
         "name": "regular",
         "notched": false,
         "offsetgroup": "regular",
         "orientation": "v",
         "showlegend": true,
         "type": "box",
         "x": [
          "FramingVariable",
          "FramingVariable",
          "FramingVariable",
          "FramingVariable",
          "FramingVariable",
          "Institutional_ChoiceVariable",
          "Institutional_ChoiceVariable",
          "Institutional_ChoiceVariable",
          "UncertaintyVariable",
          "UncertaintyVariable",
          "UncertaintyVariable",
          "UncertaintyVariable",
          "UncertaintyVariable",
          "CommunicationVariable",
          "CommunicationVariable",
          "CommunicationVariable",
          "CommunicationVariable",
          "CommunicationVariable",
          "PersonalityVariable",
          "PersonalityVariable",
          "PersonalityVariable",
          "PersonalityVariable",
          "PersonalityVariable"
         ],
         "x0": " ",
         "xaxis": "x",
         "y": [
          -1,
          0,
          22,
          2,
          15,
          7,
          -1,
          12,
          20,
          1,
          -3,
          8,
          2,
          -1,
          -1,
          -2,
          -3,
          0,
          4,
          2,
          0,
          0,
          0
         ],
         "y0": " ",
         "yaxis": "y"
        },
        {
         "alignmentgroup": "True",
         "boxpoints": "all",
         "hovertemplate": "th=study_mod<br>giv=%{x}<br>diff=%{y}<extra></extra>",
         "legendgroup": "study_mod",
         "marker": {
          "color": "rgb(204, 102, 119)"
         },
         "name": "study_mod",
         "notched": false,
         "offsetgroup": "study_mod",
         "orientation": "v",
         "showlegend": true,
         "type": "box",
         "x": [
          "FramingVariable",
          "FramingVariable",
          "FramingVariable",
          "FramingVariable",
          "FramingVariable",
          "Institutional_ChoiceVariable",
          "Institutional_ChoiceVariable",
          "Institutional_ChoiceVariable",
          "Institutional_ChoiceVariable",
          "Institutional_ChoiceVariable",
          "UncertaintyVariable",
          "UncertaintyVariable",
          "UncertaintyVariable",
          "UncertaintyVariable",
          "UncertaintyVariable",
          "CommunicationVariable",
          "CommunicationVariable",
          "CommunicationVariable",
          "CommunicationVariable",
          "CommunicationVariable",
          "PersonalityVariable",
          "PersonalityVariable",
          "PersonalityVariable",
          "PersonalityVariable",
          "PersonalityVariable"
         ],
         "x0": " ",
         "xaxis": "x",
         "y": [
          0,
          14,
          20,
          2,
          20,
          6,
          7,
          7,
          7,
          1,
          0,
          4,
          4,
          0,
          0,
          -1,
          33,
          0,
          -1,
          39,
          6,
          0,
          10,
          4,
          17
         ],
         "y0": " ",
         "yaxis": "y"
        },
        {
         "alignmentgroup": "True",
         "boxpoints": "all",
         "hovertemplate": "th=var_mod<br>giv=%{x}<br>diff=%{y}<extra></extra>",
         "legendgroup": "var_mod",
         "marker": {
          "color": "rgb(221, 204, 119)"
         },
         "name": "var_mod",
         "notched": false,
         "offsetgroup": "var_mod",
         "orientation": "v",
         "showlegend": true,
         "type": "box",
         "x": [
          "FramingVariable",
          "FramingVariable",
          "UncertaintyVariable",
          "UncertaintyVariable",
          "UncertaintyVariable",
          "UncertaintyVariable",
          "UncertaintyVariable"
         ],
         "x0": " ",
         "xaxis": "x",
         "y": [
          0,
          0,
          12,
          2,
          0,
          -5,
          2
         ],
         "y0": " ",
         "yaxis": "y"
        }
       ],
       "layout": {
        "boxmode": "group",
        "height": 600,
        "legend": {
         "title": {
          "text": "th"
         },
         "tracegroupgap": 0
        },
        "margin": {
         "t": 60
        },
        "showlegend": false,
        "template": {
         "data": {
          "bar": [
           {
            "error_x": {
             "color": "#2a3f5f"
            },
            "error_y": {
             "color": "#2a3f5f"
            },
            "marker": {
             "line": {
              "color": "#E5ECF6",
              "width": 0.5
             },
             "pattern": {
              "fillmode": "overlay",
              "size": 10,
              "solidity": 0.2
             }
            },
            "type": "bar"
           }
          ],
          "barpolar": [
           {
            "marker": {
             "line": {
              "color": "#E5ECF6",
              "width": 0.5
             },
             "pattern": {
              "fillmode": "overlay",
              "size": 10,
              "solidity": 0.2
             }
            },
            "type": "barpolar"
           }
          ],
          "carpet": [
           {
            "aaxis": {
             "endlinecolor": "#2a3f5f",
             "gridcolor": "white",
             "linecolor": "white",
             "minorgridcolor": "white",
             "startlinecolor": "#2a3f5f"
            },
            "baxis": {
             "endlinecolor": "#2a3f5f",
             "gridcolor": "white",
             "linecolor": "white",
             "minorgridcolor": "white",
             "startlinecolor": "#2a3f5f"
            },
            "type": "carpet"
           }
          ],
          "choropleth": [
           {
            "colorbar": {
             "outlinewidth": 0,
             "ticks": ""
            },
            "type": "choropleth"
           }
          ],
          "contour": [
           {
            "colorbar": {
             "outlinewidth": 0,
             "ticks": ""
            },
            "colorscale": [
             [
              0,
              "#0d0887"
             ],
             [
              0.1111111111111111,
              "#46039f"
             ],
             [
              0.2222222222222222,
              "#7201a8"
             ],
             [
              0.3333333333333333,
              "#9c179e"
             ],
             [
              0.4444444444444444,
              "#bd3786"
             ],
             [
              0.5555555555555556,
              "#d8576b"
             ],
             [
              0.6666666666666666,
              "#ed7953"
             ],
             [
              0.7777777777777778,
              "#fb9f3a"
             ],
             [
              0.8888888888888888,
              "#fdca26"
             ],
             [
              1,
              "#f0f921"
             ]
            ],
            "type": "contour"
           }
          ],
          "contourcarpet": [
           {
            "colorbar": {
             "outlinewidth": 0,
             "ticks": ""
            },
            "type": "contourcarpet"
           }
          ],
          "heatmap": [
           {
            "colorbar": {
             "outlinewidth": 0,
             "ticks": ""
            },
            "colorscale": [
             [
              0,
              "#0d0887"
             ],
             [
              0.1111111111111111,
              "#46039f"
             ],
             [
              0.2222222222222222,
              "#7201a8"
             ],
             [
              0.3333333333333333,
              "#9c179e"
             ],
             [
              0.4444444444444444,
              "#bd3786"
             ],
             [
              0.5555555555555556,
              "#d8576b"
             ],
             [
              0.6666666666666666,
              "#ed7953"
             ],
             [
              0.7777777777777778,
              "#fb9f3a"
             ],
             [
              0.8888888888888888,
              "#fdca26"
             ],
             [
              1,
              "#f0f921"
             ]
            ],
            "type": "heatmap"
           }
          ],
          "heatmapgl": [
           {
            "colorbar": {
             "outlinewidth": 0,
             "ticks": ""
            },
            "colorscale": [
             [
              0,
              "#0d0887"
             ],
             [
              0.1111111111111111,
              "#46039f"
             ],
             [
              0.2222222222222222,
              "#7201a8"
             ],
             [
              0.3333333333333333,
              "#9c179e"
             ],
             [
              0.4444444444444444,
              "#bd3786"
             ],
             [
              0.5555555555555556,
              "#d8576b"
             ],
             [
              0.6666666666666666,
              "#ed7953"
             ],
             [
              0.7777777777777778,
              "#fb9f3a"
             ],
             [
              0.8888888888888888,
              "#fdca26"
             ],
             [
              1,
              "#f0f921"
             ]
            ],
            "type": "heatmapgl"
           }
          ],
          "histogram": [
           {
            "marker": {
             "pattern": {
              "fillmode": "overlay",
              "size": 10,
              "solidity": 0.2
             }
            },
            "type": "histogram"
           }
          ],
          "histogram2d": [
           {
            "colorbar": {
             "outlinewidth": 0,
             "ticks": ""
            },
            "colorscale": [
             [
              0,
              "#0d0887"
             ],
             [
              0.1111111111111111,
              "#46039f"
             ],
             [
              0.2222222222222222,
              "#7201a8"
             ],
             [
              0.3333333333333333,
              "#9c179e"
             ],
             [
              0.4444444444444444,
              "#bd3786"
             ],
             [
              0.5555555555555556,
              "#d8576b"
             ],
             [
              0.6666666666666666,
              "#ed7953"
             ],
             [
              0.7777777777777778,
              "#fb9f3a"
             ],
             [
              0.8888888888888888,
              "#fdca26"
             ],
             [
              1,
              "#f0f921"
             ]
            ],
            "type": "histogram2d"
           }
          ],
          "histogram2dcontour": [
           {
            "colorbar": {
             "outlinewidth": 0,
             "ticks": ""
            },
            "colorscale": [
             [
              0,
              "#0d0887"
             ],
             [
              0.1111111111111111,
              "#46039f"
             ],
             [
              0.2222222222222222,
              "#7201a8"
             ],
             [
              0.3333333333333333,
              "#9c179e"
             ],
             [
              0.4444444444444444,
              "#bd3786"
             ],
             [
              0.5555555555555556,
              "#d8576b"
             ],
             [
              0.6666666666666666,
              "#ed7953"
             ],
             [
              0.7777777777777778,
              "#fb9f3a"
             ],
             [
              0.8888888888888888,
              "#fdca26"
             ],
             [
              1,
              "#f0f921"
             ]
            ],
            "type": "histogram2dcontour"
           }
          ],
          "mesh3d": [
           {
            "colorbar": {
             "outlinewidth": 0,
             "ticks": ""
            },
            "type": "mesh3d"
           }
          ],
          "parcoords": [
           {
            "line": {
             "colorbar": {
              "outlinewidth": 0,
              "ticks": ""
             }
            },
            "type": "parcoords"
           }
          ],
          "pie": [
           {
            "automargin": true,
            "type": "pie"
           }
          ],
          "scatter": [
           {
            "fillpattern": {
             "fillmode": "overlay",
             "size": 10,
             "solidity": 0.2
            },
            "type": "scatter"
           }
          ],
          "scatter3d": [
           {
            "line": {
             "colorbar": {
              "outlinewidth": 0,
              "ticks": ""
             }
            },
            "marker": {
             "colorbar": {
              "outlinewidth": 0,
              "ticks": ""
             }
            },
            "type": "scatter3d"
           }
          ],
          "scattercarpet": [
           {
            "marker": {
             "colorbar": {
              "outlinewidth": 0,
              "ticks": ""
             }
            },
            "type": "scattercarpet"
           }
          ],
          "scattergeo": [
           {
            "marker": {
             "colorbar": {
              "outlinewidth": 0,
              "ticks": ""
             }
            },
            "type": "scattergeo"
           }
          ],
          "scattergl": [
           {
            "marker": {
             "colorbar": {
              "outlinewidth": 0,
              "ticks": ""
             }
            },
            "type": "scattergl"
           }
          ],
          "scattermapbox": [
           {
            "marker": {
             "colorbar": {
              "outlinewidth": 0,
              "ticks": ""
             }
            },
            "type": "scattermapbox"
           }
          ],
          "scatterpolar": [
           {
            "marker": {
             "colorbar": {
              "outlinewidth": 0,
              "ticks": ""
             }
            },
            "type": "scatterpolar"
           }
          ],
          "scatterpolargl": [
           {
            "marker": {
             "colorbar": {
              "outlinewidth": 0,
              "ticks": ""
             }
            },
            "type": "scatterpolargl"
           }
          ],
          "scatterternary": [
           {
            "marker": {
             "colorbar": {
              "outlinewidth": 0,
              "ticks": ""
             }
            },
            "type": "scatterternary"
           }
          ],
          "surface": [
           {
            "colorbar": {
             "outlinewidth": 0,
             "ticks": ""
            },
            "colorscale": [
             [
              0,
              "#0d0887"
             ],
             [
              0.1111111111111111,
              "#46039f"
             ],
             [
              0.2222222222222222,
              "#7201a8"
             ],
             [
              0.3333333333333333,
              "#9c179e"
             ],
             [
              0.4444444444444444,
              "#bd3786"
             ],
             [
              0.5555555555555556,
              "#d8576b"
             ],
             [
              0.6666666666666666,
              "#ed7953"
             ],
             [
              0.7777777777777778,
              "#fb9f3a"
             ],
             [
              0.8888888888888888,
              "#fdca26"
             ],
             [
              1,
              "#f0f921"
             ]
            ],
            "type": "surface"
           }
          ],
          "table": [
           {
            "cells": {
             "fill": {
              "color": "#EBF0F8"
             },
             "line": {
              "color": "white"
             }
            },
            "header": {
             "fill": {
              "color": "#C8D4E3"
             },
             "line": {
              "color": "white"
             }
            },
            "type": "table"
           }
          ]
         },
         "layout": {
          "annotationdefaults": {
           "arrowcolor": "#2a3f5f",
           "arrowhead": 0,
           "arrowwidth": 1
          },
          "autotypenumbers": "strict",
          "coloraxis": {
           "colorbar": {
            "outlinewidth": 0,
            "ticks": ""
           }
          },
          "colorscale": {
           "diverging": [
            [
             0,
             "#8e0152"
            ],
            [
             0.1,
             "#c51b7d"
            ],
            [
             0.2,
             "#de77ae"
            ],
            [
             0.3,
             "#f1b6da"
            ],
            [
             0.4,
             "#fde0ef"
            ],
            [
             0.5,
             "#f7f7f7"
            ],
            [
             0.6,
             "#e6f5d0"
            ],
            [
             0.7,
             "#b8e186"
            ],
            [
             0.8,
             "#7fbc41"
            ],
            [
             0.9,
             "#4d9221"
            ],
            [
             1,
             "#276419"
            ]
           ],
           "sequential": [
            [
             0,
             "#0d0887"
            ],
            [
             0.1111111111111111,
             "#46039f"
            ],
            [
             0.2222222222222222,
             "#7201a8"
            ],
            [
             0.3333333333333333,
             "#9c179e"
            ],
            [
             0.4444444444444444,
             "#bd3786"
            ],
            [
             0.5555555555555556,
             "#d8576b"
            ],
            [
             0.6666666666666666,
             "#ed7953"
            ],
            [
             0.7777777777777778,
             "#fb9f3a"
            ],
            [
             0.8888888888888888,
             "#fdca26"
            ],
            [
             1,
             "#f0f921"
            ]
           ],
           "sequentialminus": [
            [
             0,
             "#0d0887"
            ],
            [
             0.1111111111111111,
             "#46039f"
            ],
            [
             0.2222222222222222,
             "#7201a8"
            ],
            [
             0.3333333333333333,
             "#9c179e"
            ],
            [
             0.4444444444444444,
             "#bd3786"
            ],
            [
             0.5555555555555556,
             "#d8576b"
            ],
            [
             0.6666666666666666,
             "#ed7953"
            ],
            [
             0.7777777777777778,
             "#fb9f3a"
            ],
            [
             0.8888888888888888,
             "#fdca26"
            ],
            [
             1,
             "#f0f921"
            ]
           ]
          },
          "colorway": [
           "#636efa",
           "#EF553B",
           "#00cc96",
           "#ab63fa",
           "#FFA15A",
           "#19d3f3",
           "#FF6692",
           "#B6E880",
           "#FF97FF",
           "#FECB52"
          ],
          "font": {
           "color": "#2a3f5f"
          },
          "geo": {
           "bgcolor": "white",
           "lakecolor": "white",
           "landcolor": "#E5ECF6",
           "showlakes": true,
           "showland": true,
           "subunitcolor": "white"
          },
          "hoverlabel": {
           "align": "left"
          },
          "hovermode": "closest",
          "mapbox": {
           "style": "light"
          },
          "paper_bgcolor": "white",
          "plot_bgcolor": "#E5ECF6",
          "polar": {
           "angularaxis": {
            "gridcolor": "white",
            "linecolor": "white",
            "ticks": ""
           },
           "bgcolor": "#E5ECF6",
           "radialaxis": {
            "gridcolor": "white",
            "linecolor": "white",
            "ticks": ""
           }
          },
          "scene": {
           "xaxis": {
            "backgroundcolor": "#E5ECF6",
            "gridcolor": "white",
            "gridwidth": 2,
            "linecolor": "white",
            "showbackground": true,
            "ticks": "",
            "zerolinecolor": "white"
           },
           "yaxis": {
            "backgroundcolor": "#E5ECF6",
            "gridcolor": "white",
            "gridwidth": 2,
            "linecolor": "white",
            "showbackground": true,
            "ticks": "",
            "zerolinecolor": "white"
           },
           "zaxis": {
            "backgroundcolor": "#E5ECF6",
            "gridcolor": "white",
            "gridwidth": 2,
            "linecolor": "white",
            "showbackground": true,
            "ticks": "",
            "zerolinecolor": "white"
           }
          },
          "shapedefaults": {
           "line": {
            "color": "#2a3f5f"
           }
          },
          "ternary": {
           "aaxis": {
            "gridcolor": "white",
            "linecolor": "white",
            "ticks": ""
           },
           "baxis": {
            "gridcolor": "white",
            "linecolor": "white",
            "ticks": ""
           },
           "bgcolor": "#E5ECF6",
           "caxis": {
            "gridcolor": "white",
            "linecolor": "white",
            "ticks": ""
           }
          },
          "title": {
           "x": 0.05
          },
          "xaxis": {
           "automargin": true,
           "gridcolor": "white",
           "linecolor": "white",
           "ticks": "",
           "title": {
            "standoff": 15
           },
           "zerolinecolor": "white",
           "zerolinewidth": 2
          },
          "yaxis": {
           "automargin": true,
           "gridcolor": "white",
           "linecolor": "white",
           "ticks": "",
           "title": {
            "standoff": 15
           },
           "zerolinecolor": "white",
           "zerolinewidth": 2
          }
         }
        },
        "width": 600,
        "xaxis": {
         "anchor": "y",
         "domain": [
          0,
          1
         ],
         "title": {
          "text": "giv"
         }
        },
        "yaxis": {
         "anchor": "x",
         "categoryorder": "total descending",
         "domain": [
          0,
          1
         ],
         "title": {
          "text": "diff"
         }
        }
       }
      },
      "text/html": [
       "<div>                            <div id=\"d8fff2ba-f886-4012-8f02-dada6b896cc0\" class=\"plotly-graph-div\" style=\"height:600px; width:600px;\"></div>            <script type=\"text/javascript\">                require([\"plotly\"], function(Plotly) {                    window.PLOTLYENV=window.PLOTLYENV || {};                                    if (document.getElementById(\"d8fff2ba-f886-4012-8f02-dada6b896cc0\")) {                    Plotly.newPlot(                        \"d8fff2ba-f886-4012-8f02-dada6b896cc0\",                        [{\"alignmentgroup\":\"True\",\"boxpoints\":\"all\",\"hovertemplate\":\"th=regular\\u003cbr\\u003egiv=%{x}\\u003cbr\\u003ediff=%{y}\\u003cextra\\u003e\\u003c\\u002fextra\\u003e\",\"legendgroup\":\"regular\",\"marker\":{\"color\":\"rgb(136, 204, 238)\"},\"name\":\"regular\",\"notched\":false,\"offsetgroup\":\"regular\",\"orientation\":\"v\",\"showlegend\":true,\"x\":[\"FramingVariable\",\"FramingVariable\",\"FramingVariable\",\"FramingVariable\",\"FramingVariable\",\"Institutional_ChoiceVariable\",\"Institutional_ChoiceVariable\",\"Institutional_ChoiceVariable\",\"UncertaintyVariable\",\"UncertaintyVariable\",\"UncertaintyVariable\",\"UncertaintyVariable\",\"UncertaintyVariable\",\"CommunicationVariable\",\"CommunicationVariable\",\"CommunicationVariable\",\"CommunicationVariable\",\"CommunicationVariable\",\"PersonalityVariable\",\"PersonalityVariable\",\"PersonalityVariable\",\"PersonalityVariable\",\"PersonalityVariable\"],\"x0\":\" \",\"xaxis\":\"x\",\"y\":[-1,0,22,2,15,7,-1,12,20,1,-3,8,2,-1,-1,-2,-3,0,4,2,0,0,0],\"y0\":\" \",\"yaxis\":\"y\",\"type\":\"box\"},{\"alignmentgroup\":\"True\",\"boxpoints\":\"all\",\"hovertemplate\":\"th=study_mod\\u003cbr\\u003egiv=%{x}\\u003cbr\\u003ediff=%{y}\\u003cextra\\u003e\\u003c\\u002fextra\\u003e\",\"legendgroup\":\"study_mod\",\"marker\":{\"color\":\"rgb(204, 102, 119)\"},\"name\":\"study_mod\",\"notched\":false,\"offsetgroup\":\"study_mod\",\"orientation\":\"v\",\"showlegend\":true,\"x\":[\"FramingVariable\",\"FramingVariable\",\"FramingVariable\",\"FramingVariable\",\"FramingVariable\",\"Institutional_ChoiceVariable\",\"Institutional_ChoiceVariable\",\"Institutional_ChoiceVariable\",\"Institutional_ChoiceVariable\",\"Institutional_ChoiceVariable\",\"UncertaintyVariable\",\"UncertaintyVariable\",\"UncertaintyVariable\",\"UncertaintyVariable\",\"UncertaintyVariable\",\"CommunicationVariable\",\"CommunicationVariable\",\"CommunicationVariable\",\"CommunicationVariable\",\"CommunicationVariable\",\"PersonalityVariable\",\"PersonalityVariable\",\"PersonalityVariable\",\"PersonalityVariable\",\"PersonalityVariable\"],\"x0\":\" \",\"xaxis\":\"x\",\"y\":[0,14,20,2,20,6,7,7,7,1,0,4,4,0,0,-1,33,0,-1,39,6,0,10,4,17],\"y0\":\" \",\"yaxis\":\"y\",\"type\":\"box\"},{\"alignmentgroup\":\"True\",\"boxpoints\":\"all\",\"hovertemplate\":\"th=var_mod\\u003cbr\\u003egiv=%{x}\\u003cbr\\u003ediff=%{y}\\u003cextra\\u003e\\u003c\\u002fextra\\u003e\",\"legendgroup\":\"var_mod\",\"marker\":{\"color\":\"rgb(221, 204, 119)\"},\"name\":\"var_mod\",\"notched\":false,\"offsetgroup\":\"var_mod\",\"orientation\":\"v\",\"showlegend\":true,\"x\":[\"FramingVariable\",\"FramingVariable\",\"UncertaintyVariable\",\"UncertaintyVariable\",\"UncertaintyVariable\",\"UncertaintyVariable\",\"UncertaintyVariable\"],\"x0\":\" \",\"xaxis\":\"x\",\"y\":[0,0,12,2,0,-5,2],\"y0\":\" \",\"yaxis\":\"y\",\"type\":\"box\"}],                        {\"template\":{\"data\":{\"histogram2dcontour\":[{\"type\":\"histogram2dcontour\",\"colorbar\":{\"outlinewidth\":0,\"ticks\":\"\"},\"colorscale\":[[0.0,\"#0d0887\"],[0.1111111111111111,\"#46039f\"],[0.2222222222222222,\"#7201a8\"],[0.3333333333333333,\"#9c179e\"],[0.4444444444444444,\"#bd3786\"],[0.5555555555555556,\"#d8576b\"],[0.6666666666666666,\"#ed7953\"],[0.7777777777777778,\"#fb9f3a\"],[0.8888888888888888,\"#fdca26\"],[1.0,\"#f0f921\"]]}],\"choropleth\":[{\"type\":\"choropleth\",\"colorbar\":{\"outlinewidth\":0,\"ticks\":\"\"}}],\"histogram2d\":[{\"type\":\"histogram2d\",\"colorbar\":{\"outlinewidth\":0,\"ticks\":\"\"},\"colorscale\":[[0.0,\"#0d0887\"],[0.1111111111111111,\"#46039f\"],[0.2222222222222222,\"#7201a8\"],[0.3333333333333333,\"#9c179e\"],[0.4444444444444444,\"#bd3786\"],[0.5555555555555556,\"#d8576b\"],[0.6666666666666666,\"#ed7953\"],[0.7777777777777778,\"#fb9f3a\"],[0.8888888888888888,\"#fdca26\"],[1.0,\"#f0f921\"]]}],\"heatmap\":[{\"type\":\"heatmap\",\"colorbar\":{\"outlinewidth\":0,\"ticks\":\"\"},\"colorscale\":[[0.0,\"#0d0887\"],[0.1111111111111111,\"#46039f\"],[0.2222222222222222,\"#7201a8\"],[0.3333333333333333,\"#9c179e\"],[0.4444444444444444,\"#bd3786\"],[0.5555555555555556,\"#d8576b\"],[0.6666666666666666,\"#ed7953\"],[0.7777777777777778,\"#fb9f3a\"],[0.8888888888888888,\"#fdca26\"],[1.0,\"#f0f921\"]]}],\"heatmapgl\":[{\"type\":\"heatmapgl\",\"colorbar\":{\"outlinewidth\":0,\"ticks\":\"\"},\"colorscale\":[[0.0,\"#0d0887\"],[0.1111111111111111,\"#46039f\"],[0.2222222222222222,\"#7201a8\"],[0.3333333333333333,\"#9c179e\"],[0.4444444444444444,\"#bd3786\"],[0.5555555555555556,\"#d8576b\"],[0.6666666666666666,\"#ed7953\"],[0.7777777777777778,\"#fb9f3a\"],[0.8888888888888888,\"#fdca26\"],[1.0,\"#f0f921\"]]}],\"contourcarpet\":[{\"type\":\"contourcarpet\",\"colorbar\":{\"outlinewidth\":0,\"ticks\":\"\"}}],\"contour\":[{\"type\":\"contour\",\"colorbar\":{\"outlinewidth\":0,\"ticks\":\"\"},\"colorscale\":[[0.0,\"#0d0887\"],[0.1111111111111111,\"#46039f\"],[0.2222222222222222,\"#7201a8\"],[0.3333333333333333,\"#9c179e\"],[0.4444444444444444,\"#bd3786\"],[0.5555555555555556,\"#d8576b\"],[0.6666666666666666,\"#ed7953\"],[0.7777777777777778,\"#fb9f3a\"],[0.8888888888888888,\"#fdca26\"],[1.0,\"#f0f921\"]]}],\"surface\":[{\"type\":\"surface\",\"colorbar\":{\"outlinewidth\":0,\"ticks\":\"\"},\"colorscale\":[[0.0,\"#0d0887\"],[0.1111111111111111,\"#46039f\"],[0.2222222222222222,\"#7201a8\"],[0.3333333333333333,\"#9c179e\"],[0.4444444444444444,\"#bd3786\"],[0.5555555555555556,\"#d8576b\"],[0.6666666666666666,\"#ed7953\"],[0.7777777777777778,\"#fb9f3a\"],[0.8888888888888888,\"#fdca26\"],[1.0,\"#f0f921\"]]}],\"mesh3d\":[{\"type\":\"mesh3d\",\"colorbar\":{\"outlinewidth\":0,\"ticks\":\"\"}}],\"scatter\":[{\"fillpattern\":{\"fillmode\":\"overlay\",\"size\":10,\"solidity\":0.2},\"type\":\"scatter\"}],\"parcoords\":[{\"type\":\"parcoords\",\"line\":{\"colorbar\":{\"outlinewidth\":0,\"ticks\":\"\"}}}],\"scatterpolargl\":[{\"type\":\"scatterpolargl\",\"marker\":{\"colorbar\":{\"outlinewidth\":0,\"ticks\":\"\"}}}],\"bar\":[{\"error_x\":{\"color\":\"#2a3f5f\"},\"error_y\":{\"color\":\"#2a3f5f\"},\"marker\":{\"line\":{\"color\":\"#E5ECF6\",\"width\":0.5},\"pattern\":{\"fillmode\":\"overlay\",\"size\":10,\"solidity\":0.2}},\"type\":\"bar\"}],\"scattergeo\":[{\"type\":\"scattergeo\",\"marker\":{\"colorbar\":{\"outlinewidth\":0,\"ticks\":\"\"}}}],\"scatterpolar\":[{\"type\":\"scatterpolar\",\"marker\":{\"colorbar\":{\"outlinewidth\":0,\"ticks\":\"\"}}}],\"histogram\":[{\"marker\":{\"pattern\":{\"fillmode\":\"overlay\",\"size\":10,\"solidity\":0.2}},\"type\":\"histogram\"}],\"scattergl\":[{\"type\":\"scattergl\",\"marker\":{\"colorbar\":{\"outlinewidth\":0,\"ticks\":\"\"}}}],\"scatter3d\":[{\"type\":\"scatter3d\",\"line\":{\"colorbar\":{\"outlinewidth\":0,\"ticks\":\"\"}},\"marker\":{\"colorbar\":{\"outlinewidth\":0,\"ticks\":\"\"}}}],\"scattermapbox\":[{\"type\":\"scattermapbox\",\"marker\":{\"colorbar\":{\"outlinewidth\":0,\"ticks\":\"\"}}}],\"scatterternary\":[{\"type\":\"scatterternary\",\"marker\":{\"colorbar\":{\"outlinewidth\":0,\"ticks\":\"\"}}}],\"scattercarpet\":[{\"type\":\"scattercarpet\",\"marker\":{\"colorbar\":{\"outlinewidth\":0,\"ticks\":\"\"}}}],\"carpet\":[{\"aaxis\":{\"endlinecolor\":\"#2a3f5f\",\"gridcolor\":\"white\",\"linecolor\":\"white\",\"minorgridcolor\":\"white\",\"startlinecolor\":\"#2a3f5f\"},\"baxis\":{\"endlinecolor\":\"#2a3f5f\",\"gridcolor\":\"white\",\"linecolor\":\"white\",\"minorgridcolor\":\"white\",\"startlinecolor\":\"#2a3f5f\"},\"type\":\"carpet\"}],\"table\":[{\"cells\":{\"fill\":{\"color\":\"#EBF0F8\"},\"line\":{\"color\":\"white\"}},\"header\":{\"fill\":{\"color\":\"#C8D4E3\"},\"line\":{\"color\":\"white\"}},\"type\":\"table\"}],\"barpolar\":[{\"marker\":{\"line\":{\"color\":\"#E5ECF6\",\"width\":0.5},\"pattern\":{\"fillmode\":\"overlay\",\"size\":10,\"solidity\":0.2}},\"type\":\"barpolar\"}],\"pie\":[{\"automargin\":true,\"type\":\"pie\"}]},\"layout\":{\"autotypenumbers\":\"strict\",\"colorway\":[\"#636efa\",\"#EF553B\",\"#00cc96\",\"#ab63fa\",\"#FFA15A\",\"#19d3f3\",\"#FF6692\",\"#B6E880\",\"#FF97FF\",\"#FECB52\"],\"font\":{\"color\":\"#2a3f5f\"},\"hovermode\":\"closest\",\"hoverlabel\":{\"align\":\"left\"},\"paper_bgcolor\":\"white\",\"plot_bgcolor\":\"#E5ECF6\",\"polar\":{\"bgcolor\":\"#E5ECF6\",\"angularaxis\":{\"gridcolor\":\"white\",\"linecolor\":\"white\",\"ticks\":\"\"},\"radialaxis\":{\"gridcolor\":\"white\",\"linecolor\":\"white\",\"ticks\":\"\"}},\"ternary\":{\"bgcolor\":\"#E5ECF6\",\"aaxis\":{\"gridcolor\":\"white\",\"linecolor\":\"white\",\"ticks\":\"\"},\"baxis\":{\"gridcolor\":\"white\",\"linecolor\":\"white\",\"ticks\":\"\"},\"caxis\":{\"gridcolor\":\"white\",\"linecolor\":\"white\",\"ticks\":\"\"}},\"coloraxis\":{\"colorbar\":{\"outlinewidth\":0,\"ticks\":\"\"}},\"colorscale\":{\"sequential\":[[0.0,\"#0d0887\"],[0.1111111111111111,\"#46039f\"],[0.2222222222222222,\"#7201a8\"],[0.3333333333333333,\"#9c179e\"],[0.4444444444444444,\"#bd3786\"],[0.5555555555555556,\"#d8576b\"],[0.6666666666666666,\"#ed7953\"],[0.7777777777777778,\"#fb9f3a\"],[0.8888888888888888,\"#fdca26\"],[1.0,\"#f0f921\"]],\"sequentialminus\":[[0.0,\"#0d0887\"],[0.1111111111111111,\"#46039f\"],[0.2222222222222222,\"#7201a8\"],[0.3333333333333333,\"#9c179e\"],[0.4444444444444444,\"#bd3786\"],[0.5555555555555556,\"#d8576b\"],[0.6666666666666666,\"#ed7953\"],[0.7777777777777778,\"#fb9f3a\"],[0.8888888888888888,\"#fdca26\"],[1.0,\"#f0f921\"]],\"diverging\":[[0,\"#8e0152\"],[0.1,\"#c51b7d\"],[0.2,\"#de77ae\"],[0.3,\"#f1b6da\"],[0.4,\"#fde0ef\"],[0.5,\"#f7f7f7\"],[0.6,\"#e6f5d0\"],[0.7,\"#b8e186\"],[0.8,\"#7fbc41\"],[0.9,\"#4d9221\"],[1,\"#276419\"]]},\"xaxis\":{\"gridcolor\":\"white\",\"linecolor\":\"white\",\"ticks\":\"\",\"title\":{\"standoff\":15},\"zerolinecolor\":\"white\",\"automargin\":true,\"zerolinewidth\":2},\"yaxis\":{\"gridcolor\":\"white\",\"linecolor\":\"white\",\"ticks\":\"\",\"title\":{\"standoff\":15},\"zerolinecolor\":\"white\",\"automargin\":true,\"zerolinewidth\":2},\"scene\":{\"xaxis\":{\"backgroundcolor\":\"#E5ECF6\",\"gridcolor\":\"white\",\"linecolor\":\"white\",\"showbackground\":true,\"ticks\":\"\",\"zerolinecolor\":\"white\",\"gridwidth\":2},\"yaxis\":{\"backgroundcolor\":\"#E5ECF6\",\"gridcolor\":\"white\",\"linecolor\":\"white\",\"showbackground\":true,\"ticks\":\"\",\"zerolinecolor\":\"white\",\"gridwidth\":2},\"zaxis\":{\"backgroundcolor\":\"#E5ECF6\",\"gridcolor\":\"white\",\"linecolor\":\"white\",\"showbackground\":true,\"ticks\":\"\",\"zerolinecolor\":\"white\",\"gridwidth\":2}},\"shapedefaults\":{\"line\":{\"color\":\"#2a3f5f\"}},\"annotationdefaults\":{\"arrowcolor\":\"#2a3f5f\",\"arrowhead\":0,\"arrowwidth\":1},\"geo\":{\"bgcolor\":\"white\",\"landcolor\":\"#E5ECF6\",\"subunitcolor\":\"white\",\"showland\":true,\"showlakes\":true,\"lakecolor\":\"white\"},\"title\":{\"x\":0.05},\"mapbox\":{\"style\":\"light\"}}},\"xaxis\":{\"anchor\":\"y\",\"domain\":[0.0,1.0],\"title\":{\"text\":\"giv\"}},\"yaxis\":{\"anchor\":\"x\",\"domain\":[0.0,1.0],\"title\":{\"text\":\"diff\"},\"categoryorder\":\"total descending\"},\"legend\":{\"title\":{\"text\":\"th\"},\"tracegroupgap\":0},\"margin\":{\"t\":60},\"boxmode\":\"group\",\"width\":600,\"height\":600,\"showlegend\":false},                        {\"responsive\": true}                    ).then(function(){\n",
       "                            \n",
       "var gd = document.getElementById('d8fff2ba-f886-4012-8f02-dada6b896cc0');\n",
       "var x = new MutationObserver(function (mutations, observer) {{\n",
       "        var display = window.getComputedStyle(gd).display;\n",
       "        if (!display || display === 'none') {{\n",
       "            console.log([gd, 'removed!']);\n",
       "            Plotly.purge(gd);\n",
       "            observer.disconnect();\n",
       "        }}\n",
       "}});\n",
       "\n",
       "// Listen for the removal of the full notebook cells\n",
       "var notebookContainer = gd.closest('#notebook-container');\n",
       "if (notebookContainer) {{\n",
       "    x.observe(notebookContainer, {childList: true});\n",
       "}}\n",
       "\n",
       "// Listen for the clearing of the current output cell\n",
       "var outputEl = gd.closest('.output');\n",
       "if (outputEl) {{\n",
       "    x.observe(outputEl, {childList: true});\n",
       "}}\n",
       "\n",
       "                        })                };                });            </script>        </div>"
      ]
     },
     "metadata": {},
     "output_type": "display_data"
    }
   ],
   "source": [
    "color_palette = px.colors.qualitative.Safe\n",
    "fig = px.box(DATA_VIS[DATA_VIS.giv.isin(pos_dif)], \n",
    "             x=\"giv\", y=\"diff\", color=\"th\", points='all',\n",
    "             color_discrete_sequence=color_palette)\n",
    "fig.update_layout(yaxis={'categoryorder': 'total descending'})\n",
    "fig.update_layout(width=600, height=600, showlegend=False)\n",
    "fig.write_image(\"../visualisations/llm_pos_diff_giv_all.pdf\", format='pdf')\n",
    "fig.show()"
   ]
  },
  {
   "cell_type": "code",
   "execution_count": 278,
   "metadata": {},
   "outputs": [
    {
     "data": {
      "application/vnd.plotly.v1+json": {
       "config": {
        "plotlyServerURL": "https://plot.ly"
       },
       "data": [
        {
         "alignmentgroup": "True",
         "boxpoints": "all",
         "hovertemplate": "th=regular<br>giv=%{x}<br>diff=%{y}<extra></extra>",
         "legendgroup": "regular",
         "marker": {
          "color": "rgb(136, 204, 238)"
         },
         "name": "regular",
         "notched": false,
         "offsetgroup": "regular",
         "orientation": "v",
         "showlegend": true,
         "type": "box",
         "x": [
          "MatchingVariable",
          "MatchingVariable",
          "MatchingVariable",
          "MatchingVariable",
          "Degree_of_conflicting_interestsVariable",
          "Degree_of_conflicting_interestsVariable",
          "Degree_of_conflicting_interestsVariable",
          "Degree_of_conflicting_interestsVariable",
          "Degree_of_conflicting_interestsVariable",
          "TaxationVariable",
          "TaxationVariable",
          "TaxationVariable",
          "ExpectationsVariable",
          "IdentificationVariable",
          "IdentificationVariable",
          "IdentificationVariable",
          "IdentificationVariable",
          "IdentificationVariable"
         ],
         "x0": " ",
         "xaxis": "x",
         "y": [
          -8,
          -1,
          3,
          -2,
          -38,
          -18,
          -21,
          1,
          1,
          -11,
          -1,
          -1,
          -12,
          -1,
          0,
          -2,
          -14,
          -1
         ],
         "y0": " ",
         "yaxis": "y"
        },
        {
         "alignmentgroup": "True",
         "boxpoints": "all",
         "hovertemplate": "th=study_mod<br>giv=%{x}<br>diff=%{y}<extra></extra>",
         "legendgroup": "study_mod",
         "marker": {
          "color": "rgb(204, 102, 119)"
         },
         "name": "study_mod",
         "notched": false,
         "offsetgroup": "study_mod",
         "orientation": "v",
         "showlegend": true,
         "type": "box",
         "x": [
          "MatchingVariable",
          "MatchingVariable",
          "MatchingVariable",
          "MatchingVariable",
          "MatchingVariable",
          "Degree_of_conflicting_interestsVariable",
          "Degree_of_conflicting_interestsVariable",
          "Degree_of_conflicting_interestsVariable",
          "Degree_of_conflicting_interestsVariable",
          "Degree_of_conflicting_interestsVariable",
          "TaxationVariable",
          "TaxationVariable",
          "TaxationVariable",
          "TaxationVariable",
          "TaxationVariable",
          "ExpectationsVariable",
          "ExpectationsVariable",
          "ExpectationsVariable",
          "ExpectationsVariable",
          "ExpectationsVariable",
          "IdentificationVariable",
          "IdentificationVariable",
          "IdentificationVariable",
          "IdentificationVariable",
          "IdentificationVariable"
         ],
         "x0": " ",
         "xaxis": "x",
         "y": [
          -1,
          -8,
          -8,
          -8,
          -8,
          7,
          -36,
          -34,
          -23,
          -17,
          -11,
          11,
          -8,
          -9,
          -11,
          -8,
          -3,
          -8,
          -8,
          -8,
          0,
          -14,
          0,
          0,
          0
         ],
         "y0": " ",
         "yaxis": "y"
        },
        {
         "alignmentgroup": "True",
         "boxpoints": "all",
         "hovertemplate": "th=var_mod<br>giv=%{x}<br>diff=%{y}<extra></extra>",
         "legendgroup": "var_mod",
         "marker": {
          "color": "rgb(221, 204, 119)"
         },
         "name": "var_mod",
         "notched": false,
         "offsetgroup": "var_mod",
         "orientation": "v",
         "showlegend": true,
         "type": "box",
         "x": [
          "MatchingVariable",
          "MatchingVariable",
          "Degree_of_conflicting_interestsVariable",
          "Degree_of_conflicting_interestsVariable",
          "Degree_of_conflicting_interestsVariable",
          "Degree_of_conflicting_interestsVariable",
          "Degree_of_conflicting_interestsVariable",
          "IdentificationVariable",
          "IdentificationVariable",
          "IdentificationVariable",
          "IdentificationVariable",
          "IdentificationVariable"
         ],
         "x0": " ",
         "xaxis": "x",
         "y": [
          0,
          0,
          -4,
          5,
          2,
          4,
          4,
          0,
          -2,
          -3,
          -3,
          0
         ],
         "y0": " ",
         "yaxis": "y"
        }
       ],
       "layout": {
        "boxmode": "group",
        "height": 600,
        "legend": {
         "title": {
          "text": "th"
         },
         "tracegroupgap": 0
        },
        "margin": {
         "t": 60
        },
        "showlegend": false,
        "template": {
         "data": {
          "bar": [
           {
            "error_x": {
             "color": "#2a3f5f"
            },
            "error_y": {
             "color": "#2a3f5f"
            },
            "marker": {
             "line": {
              "color": "#E5ECF6",
              "width": 0.5
             },
             "pattern": {
              "fillmode": "overlay",
              "size": 10,
              "solidity": 0.2
             }
            },
            "type": "bar"
           }
          ],
          "barpolar": [
           {
            "marker": {
             "line": {
              "color": "#E5ECF6",
              "width": 0.5
             },
             "pattern": {
              "fillmode": "overlay",
              "size": 10,
              "solidity": 0.2
             }
            },
            "type": "barpolar"
           }
          ],
          "carpet": [
           {
            "aaxis": {
             "endlinecolor": "#2a3f5f",
             "gridcolor": "white",
             "linecolor": "white",
             "minorgridcolor": "white",
             "startlinecolor": "#2a3f5f"
            },
            "baxis": {
             "endlinecolor": "#2a3f5f",
             "gridcolor": "white",
             "linecolor": "white",
             "minorgridcolor": "white",
             "startlinecolor": "#2a3f5f"
            },
            "type": "carpet"
           }
          ],
          "choropleth": [
           {
            "colorbar": {
             "outlinewidth": 0,
             "ticks": ""
            },
            "type": "choropleth"
           }
          ],
          "contour": [
           {
            "colorbar": {
             "outlinewidth": 0,
             "ticks": ""
            },
            "colorscale": [
             [
              0,
              "#0d0887"
             ],
             [
              0.1111111111111111,
              "#46039f"
             ],
             [
              0.2222222222222222,
              "#7201a8"
             ],
             [
              0.3333333333333333,
              "#9c179e"
             ],
             [
              0.4444444444444444,
              "#bd3786"
             ],
             [
              0.5555555555555556,
              "#d8576b"
             ],
             [
              0.6666666666666666,
              "#ed7953"
             ],
             [
              0.7777777777777778,
              "#fb9f3a"
             ],
             [
              0.8888888888888888,
              "#fdca26"
             ],
             [
              1,
              "#f0f921"
             ]
            ],
            "type": "contour"
           }
          ],
          "contourcarpet": [
           {
            "colorbar": {
             "outlinewidth": 0,
             "ticks": ""
            },
            "type": "contourcarpet"
           }
          ],
          "heatmap": [
           {
            "colorbar": {
             "outlinewidth": 0,
             "ticks": ""
            },
            "colorscale": [
             [
              0,
              "#0d0887"
             ],
             [
              0.1111111111111111,
              "#46039f"
             ],
             [
              0.2222222222222222,
              "#7201a8"
             ],
             [
              0.3333333333333333,
              "#9c179e"
             ],
             [
              0.4444444444444444,
              "#bd3786"
             ],
             [
              0.5555555555555556,
              "#d8576b"
             ],
             [
              0.6666666666666666,
              "#ed7953"
             ],
             [
              0.7777777777777778,
              "#fb9f3a"
             ],
             [
              0.8888888888888888,
              "#fdca26"
             ],
             [
              1,
              "#f0f921"
             ]
            ],
            "type": "heatmap"
           }
          ],
          "heatmapgl": [
           {
            "colorbar": {
             "outlinewidth": 0,
             "ticks": ""
            },
            "colorscale": [
             [
              0,
              "#0d0887"
             ],
             [
              0.1111111111111111,
              "#46039f"
             ],
             [
              0.2222222222222222,
              "#7201a8"
             ],
             [
              0.3333333333333333,
              "#9c179e"
             ],
             [
              0.4444444444444444,
              "#bd3786"
             ],
             [
              0.5555555555555556,
              "#d8576b"
             ],
             [
              0.6666666666666666,
              "#ed7953"
             ],
             [
              0.7777777777777778,
              "#fb9f3a"
             ],
             [
              0.8888888888888888,
              "#fdca26"
             ],
             [
              1,
              "#f0f921"
             ]
            ],
            "type": "heatmapgl"
           }
          ],
          "histogram": [
           {
            "marker": {
             "pattern": {
              "fillmode": "overlay",
              "size": 10,
              "solidity": 0.2
             }
            },
            "type": "histogram"
           }
          ],
          "histogram2d": [
           {
            "colorbar": {
             "outlinewidth": 0,
             "ticks": ""
            },
            "colorscale": [
             [
              0,
              "#0d0887"
             ],
             [
              0.1111111111111111,
              "#46039f"
             ],
             [
              0.2222222222222222,
              "#7201a8"
             ],
             [
              0.3333333333333333,
              "#9c179e"
             ],
             [
              0.4444444444444444,
              "#bd3786"
             ],
             [
              0.5555555555555556,
              "#d8576b"
             ],
             [
              0.6666666666666666,
              "#ed7953"
             ],
             [
              0.7777777777777778,
              "#fb9f3a"
             ],
             [
              0.8888888888888888,
              "#fdca26"
             ],
             [
              1,
              "#f0f921"
             ]
            ],
            "type": "histogram2d"
           }
          ],
          "histogram2dcontour": [
           {
            "colorbar": {
             "outlinewidth": 0,
             "ticks": ""
            },
            "colorscale": [
             [
              0,
              "#0d0887"
             ],
             [
              0.1111111111111111,
              "#46039f"
             ],
             [
              0.2222222222222222,
              "#7201a8"
             ],
             [
              0.3333333333333333,
              "#9c179e"
             ],
             [
              0.4444444444444444,
              "#bd3786"
             ],
             [
              0.5555555555555556,
              "#d8576b"
             ],
             [
              0.6666666666666666,
              "#ed7953"
             ],
             [
              0.7777777777777778,
              "#fb9f3a"
             ],
             [
              0.8888888888888888,
              "#fdca26"
             ],
             [
              1,
              "#f0f921"
             ]
            ],
            "type": "histogram2dcontour"
           }
          ],
          "mesh3d": [
           {
            "colorbar": {
             "outlinewidth": 0,
             "ticks": ""
            },
            "type": "mesh3d"
           }
          ],
          "parcoords": [
           {
            "line": {
             "colorbar": {
              "outlinewidth": 0,
              "ticks": ""
             }
            },
            "type": "parcoords"
           }
          ],
          "pie": [
           {
            "automargin": true,
            "type": "pie"
           }
          ],
          "scatter": [
           {
            "fillpattern": {
             "fillmode": "overlay",
             "size": 10,
             "solidity": 0.2
            },
            "type": "scatter"
           }
          ],
          "scatter3d": [
           {
            "line": {
             "colorbar": {
              "outlinewidth": 0,
              "ticks": ""
             }
            },
            "marker": {
             "colorbar": {
              "outlinewidth": 0,
              "ticks": ""
             }
            },
            "type": "scatter3d"
           }
          ],
          "scattercarpet": [
           {
            "marker": {
             "colorbar": {
              "outlinewidth": 0,
              "ticks": ""
             }
            },
            "type": "scattercarpet"
           }
          ],
          "scattergeo": [
           {
            "marker": {
             "colorbar": {
              "outlinewidth": 0,
              "ticks": ""
             }
            },
            "type": "scattergeo"
           }
          ],
          "scattergl": [
           {
            "marker": {
             "colorbar": {
              "outlinewidth": 0,
              "ticks": ""
             }
            },
            "type": "scattergl"
           }
          ],
          "scattermapbox": [
           {
            "marker": {
             "colorbar": {
              "outlinewidth": 0,
              "ticks": ""
             }
            },
            "type": "scattermapbox"
           }
          ],
          "scatterpolar": [
           {
            "marker": {
             "colorbar": {
              "outlinewidth": 0,
              "ticks": ""
             }
            },
            "type": "scatterpolar"
           }
          ],
          "scatterpolargl": [
           {
            "marker": {
             "colorbar": {
              "outlinewidth": 0,
              "ticks": ""
             }
            },
            "type": "scatterpolargl"
           }
          ],
          "scatterternary": [
           {
            "marker": {
             "colorbar": {
              "outlinewidth": 0,
              "ticks": ""
             }
            },
            "type": "scatterternary"
           }
          ],
          "surface": [
           {
            "colorbar": {
             "outlinewidth": 0,
             "ticks": ""
            },
            "colorscale": [
             [
              0,
              "#0d0887"
             ],
             [
              0.1111111111111111,
              "#46039f"
             ],
             [
              0.2222222222222222,
              "#7201a8"
             ],
             [
              0.3333333333333333,
              "#9c179e"
             ],
             [
              0.4444444444444444,
              "#bd3786"
             ],
             [
              0.5555555555555556,
              "#d8576b"
             ],
             [
              0.6666666666666666,
              "#ed7953"
             ],
             [
              0.7777777777777778,
              "#fb9f3a"
             ],
             [
              0.8888888888888888,
              "#fdca26"
             ],
             [
              1,
              "#f0f921"
             ]
            ],
            "type": "surface"
           }
          ],
          "table": [
           {
            "cells": {
             "fill": {
              "color": "#EBF0F8"
             },
             "line": {
              "color": "white"
             }
            },
            "header": {
             "fill": {
              "color": "#C8D4E3"
             },
             "line": {
              "color": "white"
             }
            },
            "type": "table"
           }
          ]
         },
         "layout": {
          "annotationdefaults": {
           "arrowcolor": "#2a3f5f",
           "arrowhead": 0,
           "arrowwidth": 1
          },
          "autotypenumbers": "strict",
          "coloraxis": {
           "colorbar": {
            "outlinewidth": 0,
            "ticks": ""
           }
          },
          "colorscale": {
           "diverging": [
            [
             0,
             "#8e0152"
            ],
            [
             0.1,
             "#c51b7d"
            ],
            [
             0.2,
             "#de77ae"
            ],
            [
             0.3,
             "#f1b6da"
            ],
            [
             0.4,
             "#fde0ef"
            ],
            [
             0.5,
             "#f7f7f7"
            ],
            [
             0.6,
             "#e6f5d0"
            ],
            [
             0.7,
             "#b8e186"
            ],
            [
             0.8,
             "#7fbc41"
            ],
            [
             0.9,
             "#4d9221"
            ],
            [
             1,
             "#276419"
            ]
           ],
           "sequential": [
            [
             0,
             "#0d0887"
            ],
            [
             0.1111111111111111,
             "#46039f"
            ],
            [
             0.2222222222222222,
             "#7201a8"
            ],
            [
             0.3333333333333333,
             "#9c179e"
            ],
            [
             0.4444444444444444,
             "#bd3786"
            ],
            [
             0.5555555555555556,
             "#d8576b"
            ],
            [
             0.6666666666666666,
             "#ed7953"
            ],
            [
             0.7777777777777778,
             "#fb9f3a"
            ],
            [
             0.8888888888888888,
             "#fdca26"
            ],
            [
             1,
             "#f0f921"
            ]
           ],
           "sequentialminus": [
            [
             0,
             "#0d0887"
            ],
            [
             0.1111111111111111,
             "#46039f"
            ],
            [
             0.2222222222222222,
             "#7201a8"
            ],
            [
             0.3333333333333333,
             "#9c179e"
            ],
            [
             0.4444444444444444,
             "#bd3786"
            ],
            [
             0.5555555555555556,
             "#d8576b"
            ],
            [
             0.6666666666666666,
             "#ed7953"
            ],
            [
             0.7777777777777778,
             "#fb9f3a"
            ],
            [
             0.8888888888888888,
             "#fdca26"
            ],
            [
             1,
             "#f0f921"
            ]
           ]
          },
          "colorway": [
           "#636efa",
           "#EF553B",
           "#00cc96",
           "#ab63fa",
           "#FFA15A",
           "#19d3f3",
           "#FF6692",
           "#B6E880",
           "#FF97FF",
           "#FECB52"
          ],
          "font": {
           "color": "#2a3f5f"
          },
          "geo": {
           "bgcolor": "white",
           "lakecolor": "white",
           "landcolor": "#E5ECF6",
           "showlakes": true,
           "showland": true,
           "subunitcolor": "white"
          },
          "hoverlabel": {
           "align": "left"
          },
          "hovermode": "closest",
          "mapbox": {
           "style": "light"
          },
          "paper_bgcolor": "white",
          "plot_bgcolor": "#E5ECF6",
          "polar": {
           "angularaxis": {
            "gridcolor": "white",
            "linecolor": "white",
            "ticks": ""
           },
           "bgcolor": "#E5ECF6",
           "radialaxis": {
            "gridcolor": "white",
            "linecolor": "white",
            "ticks": ""
           }
          },
          "scene": {
           "xaxis": {
            "backgroundcolor": "#E5ECF6",
            "gridcolor": "white",
            "gridwidth": 2,
            "linecolor": "white",
            "showbackground": true,
            "ticks": "",
            "zerolinecolor": "white"
           },
           "yaxis": {
            "backgroundcolor": "#E5ECF6",
            "gridcolor": "white",
            "gridwidth": 2,
            "linecolor": "white",
            "showbackground": true,
            "ticks": "",
            "zerolinecolor": "white"
           },
           "zaxis": {
            "backgroundcolor": "#E5ECF6",
            "gridcolor": "white",
            "gridwidth": 2,
            "linecolor": "white",
            "showbackground": true,
            "ticks": "",
            "zerolinecolor": "white"
           }
          },
          "shapedefaults": {
           "line": {
            "color": "#2a3f5f"
           }
          },
          "ternary": {
           "aaxis": {
            "gridcolor": "white",
            "linecolor": "white",
            "ticks": ""
           },
           "baxis": {
            "gridcolor": "white",
            "linecolor": "white",
            "ticks": ""
           },
           "bgcolor": "#E5ECF6",
           "caxis": {
            "gridcolor": "white",
            "linecolor": "white",
            "ticks": ""
           }
          },
          "title": {
           "x": 0.05
          },
          "xaxis": {
           "automargin": true,
           "gridcolor": "white",
           "linecolor": "white",
           "ticks": "",
           "title": {
            "standoff": 15
           },
           "zerolinecolor": "white",
           "zerolinewidth": 2
          },
          "yaxis": {
           "automargin": true,
           "gridcolor": "white",
           "linecolor": "white",
           "ticks": "",
           "title": {
            "standoff": 15
           },
           "zerolinecolor": "white",
           "zerolinewidth": 2
          }
         }
        },
        "width": 600,
        "xaxis": {
         "anchor": "y",
         "domain": [
          0,
          1
         ],
         "title": {
          "text": "giv"
         }
        },
        "yaxis": {
         "anchor": "x",
         "categoryorder": "total descending",
         "domain": [
          0,
          1
         ],
         "title": {
          "text": "diff"
         }
        }
       }
      },
      "text/html": [
       "<div>                            <div id=\"cc10471b-bed0-438f-a7b0-57f2aab6c254\" class=\"plotly-graph-div\" style=\"height:600px; width:600px;\"></div>            <script type=\"text/javascript\">                require([\"plotly\"], function(Plotly) {                    window.PLOTLYENV=window.PLOTLYENV || {};                                    if (document.getElementById(\"cc10471b-bed0-438f-a7b0-57f2aab6c254\")) {                    Plotly.newPlot(                        \"cc10471b-bed0-438f-a7b0-57f2aab6c254\",                        [{\"alignmentgroup\":\"True\",\"boxpoints\":\"all\",\"hovertemplate\":\"th=regular\\u003cbr\\u003egiv=%{x}\\u003cbr\\u003ediff=%{y}\\u003cextra\\u003e\\u003c\\u002fextra\\u003e\",\"legendgroup\":\"regular\",\"marker\":{\"color\":\"rgb(136, 204, 238)\"},\"name\":\"regular\",\"notched\":false,\"offsetgroup\":\"regular\",\"orientation\":\"v\",\"showlegend\":true,\"x\":[\"MatchingVariable\",\"MatchingVariable\",\"MatchingVariable\",\"MatchingVariable\",\"Degree_of_conflicting_interestsVariable\",\"Degree_of_conflicting_interestsVariable\",\"Degree_of_conflicting_interestsVariable\",\"Degree_of_conflicting_interestsVariable\",\"Degree_of_conflicting_interestsVariable\",\"TaxationVariable\",\"TaxationVariable\",\"TaxationVariable\",\"ExpectationsVariable\",\"IdentificationVariable\",\"IdentificationVariable\",\"IdentificationVariable\",\"IdentificationVariable\",\"IdentificationVariable\"],\"x0\":\" \",\"xaxis\":\"x\",\"y\":[-8,-1,3,-2,-38,-18,-21,1,1,-11,-1,-1,-12,-1,0,-2,-14,-1],\"y0\":\" \",\"yaxis\":\"y\",\"type\":\"box\"},{\"alignmentgroup\":\"True\",\"boxpoints\":\"all\",\"hovertemplate\":\"th=study_mod\\u003cbr\\u003egiv=%{x}\\u003cbr\\u003ediff=%{y}\\u003cextra\\u003e\\u003c\\u002fextra\\u003e\",\"legendgroup\":\"study_mod\",\"marker\":{\"color\":\"rgb(204, 102, 119)\"},\"name\":\"study_mod\",\"notched\":false,\"offsetgroup\":\"study_mod\",\"orientation\":\"v\",\"showlegend\":true,\"x\":[\"MatchingVariable\",\"MatchingVariable\",\"MatchingVariable\",\"MatchingVariable\",\"MatchingVariable\",\"Degree_of_conflicting_interestsVariable\",\"Degree_of_conflicting_interestsVariable\",\"Degree_of_conflicting_interestsVariable\",\"Degree_of_conflicting_interestsVariable\",\"Degree_of_conflicting_interestsVariable\",\"TaxationVariable\",\"TaxationVariable\",\"TaxationVariable\",\"TaxationVariable\",\"TaxationVariable\",\"ExpectationsVariable\",\"ExpectationsVariable\",\"ExpectationsVariable\",\"ExpectationsVariable\",\"ExpectationsVariable\",\"IdentificationVariable\",\"IdentificationVariable\",\"IdentificationVariable\",\"IdentificationVariable\",\"IdentificationVariable\"],\"x0\":\" \",\"xaxis\":\"x\",\"y\":[-1,-8,-8,-8,-8,7,-36,-34,-23,-17,-11,11,-8,-9,-11,-8,-3,-8,-8,-8,0,-14,0,0,0],\"y0\":\" \",\"yaxis\":\"y\",\"type\":\"box\"},{\"alignmentgroup\":\"True\",\"boxpoints\":\"all\",\"hovertemplate\":\"th=var_mod\\u003cbr\\u003egiv=%{x}\\u003cbr\\u003ediff=%{y}\\u003cextra\\u003e\\u003c\\u002fextra\\u003e\",\"legendgroup\":\"var_mod\",\"marker\":{\"color\":\"rgb(221, 204, 119)\"},\"name\":\"var_mod\",\"notched\":false,\"offsetgroup\":\"var_mod\",\"orientation\":\"v\",\"showlegend\":true,\"x\":[\"MatchingVariable\",\"MatchingVariable\",\"Degree_of_conflicting_interestsVariable\",\"Degree_of_conflicting_interestsVariable\",\"Degree_of_conflicting_interestsVariable\",\"Degree_of_conflicting_interestsVariable\",\"Degree_of_conflicting_interestsVariable\",\"IdentificationVariable\",\"IdentificationVariable\",\"IdentificationVariable\",\"IdentificationVariable\",\"IdentificationVariable\"],\"x0\":\" \",\"xaxis\":\"x\",\"y\":[0,0,-4,5,2,4,4,0,-2,-3,-3,0],\"y0\":\" \",\"yaxis\":\"y\",\"type\":\"box\"}],                        {\"template\":{\"data\":{\"histogram2dcontour\":[{\"type\":\"histogram2dcontour\",\"colorbar\":{\"outlinewidth\":0,\"ticks\":\"\"},\"colorscale\":[[0.0,\"#0d0887\"],[0.1111111111111111,\"#46039f\"],[0.2222222222222222,\"#7201a8\"],[0.3333333333333333,\"#9c179e\"],[0.4444444444444444,\"#bd3786\"],[0.5555555555555556,\"#d8576b\"],[0.6666666666666666,\"#ed7953\"],[0.7777777777777778,\"#fb9f3a\"],[0.8888888888888888,\"#fdca26\"],[1.0,\"#f0f921\"]]}],\"choropleth\":[{\"type\":\"choropleth\",\"colorbar\":{\"outlinewidth\":0,\"ticks\":\"\"}}],\"histogram2d\":[{\"type\":\"histogram2d\",\"colorbar\":{\"outlinewidth\":0,\"ticks\":\"\"},\"colorscale\":[[0.0,\"#0d0887\"],[0.1111111111111111,\"#46039f\"],[0.2222222222222222,\"#7201a8\"],[0.3333333333333333,\"#9c179e\"],[0.4444444444444444,\"#bd3786\"],[0.5555555555555556,\"#d8576b\"],[0.6666666666666666,\"#ed7953\"],[0.7777777777777778,\"#fb9f3a\"],[0.8888888888888888,\"#fdca26\"],[1.0,\"#f0f921\"]]}],\"heatmap\":[{\"type\":\"heatmap\",\"colorbar\":{\"outlinewidth\":0,\"ticks\":\"\"},\"colorscale\":[[0.0,\"#0d0887\"],[0.1111111111111111,\"#46039f\"],[0.2222222222222222,\"#7201a8\"],[0.3333333333333333,\"#9c179e\"],[0.4444444444444444,\"#bd3786\"],[0.5555555555555556,\"#d8576b\"],[0.6666666666666666,\"#ed7953\"],[0.7777777777777778,\"#fb9f3a\"],[0.8888888888888888,\"#fdca26\"],[1.0,\"#f0f921\"]]}],\"heatmapgl\":[{\"type\":\"heatmapgl\",\"colorbar\":{\"outlinewidth\":0,\"ticks\":\"\"},\"colorscale\":[[0.0,\"#0d0887\"],[0.1111111111111111,\"#46039f\"],[0.2222222222222222,\"#7201a8\"],[0.3333333333333333,\"#9c179e\"],[0.4444444444444444,\"#bd3786\"],[0.5555555555555556,\"#d8576b\"],[0.6666666666666666,\"#ed7953\"],[0.7777777777777778,\"#fb9f3a\"],[0.8888888888888888,\"#fdca26\"],[1.0,\"#f0f921\"]]}],\"contourcarpet\":[{\"type\":\"contourcarpet\",\"colorbar\":{\"outlinewidth\":0,\"ticks\":\"\"}}],\"contour\":[{\"type\":\"contour\",\"colorbar\":{\"outlinewidth\":0,\"ticks\":\"\"},\"colorscale\":[[0.0,\"#0d0887\"],[0.1111111111111111,\"#46039f\"],[0.2222222222222222,\"#7201a8\"],[0.3333333333333333,\"#9c179e\"],[0.4444444444444444,\"#bd3786\"],[0.5555555555555556,\"#d8576b\"],[0.6666666666666666,\"#ed7953\"],[0.7777777777777778,\"#fb9f3a\"],[0.8888888888888888,\"#fdca26\"],[1.0,\"#f0f921\"]]}],\"surface\":[{\"type\":\"surface\",\"colorbar\":{\"outlinewidth\":0,\"ticks\":\"\"},\"colorscale\":[[0.0,\"#0d0887\"],[0.1111111111111111,\"#46039f\"],[0.2222222222222222,\"#7201a8\"],[0.3333333333333333,\"#9c179e\"],[0.4444444444444444,\"#bd3786\"],[0.5555555555555556,\"#d8576b\"],[0.6666666666666666,\"#ed7953\"],[0.7777777777777778,\"#fb9f3a\"],[0.8888888888888888,\"#fdca26\"],[1.0,\"#f0f921\"]]}],\"mesh3d\":[{\"type\":\"mesh3d\",\"colorbar\":{\"outlinewidth\":0,\"ticks\":\"\"}}],\"scatter\":[{\"fillpattern\":{\"fillmode\":\"overlay\",\"size\":10,\"solidity\":0.2},\"type\":\"scatter\"}],\"parcoords\":[{\"type\":\"parcoords\",\"line\":{\"colorbar\":{\"outlinewidth\":0,\"ticks\":\"\"}}}],\"scatterpolargl\":[{\"type\":\"scatterpolargl\",\"marker\":{\"colorbar\":{\"outlinewidth\":0,\"ticks\":\"\"}}}],\"bar\":[{\"error_x\":{\"color\":\"#2a3f5f\"},\"error_y\":{\"color\":\"#2a3f5f\"},\"marker\":{\"line\":{\"color\":\"#E5ECF6\",\"width\":0.5},\"pattern\":{\"fillmode\":\"overlay\",\"size\":10,\"solidity\":0.2}},\"type\":\"bar\"}],\"scattergeo\":[{\"type\":\"scattergeo\",\"marker\":{\"colorbar\":{\"outlinewidth\":0,\"ticks\":\"\"}}}],\"scatterpolar\":[{\"type\":\"scatterpolar\",\"marker\":{\"colorbar\":{\"outlinewidth\":0,\"ticks\":\"\"}}}],\"histogram\":[{\"marker\":{\"pattern\":{\"fillmode\":\"overlay\",\"size\":10,\"solidity\":0.2}},\"type\":\"histogram\"}],\"scattergl\":[{\"type\":\"scattergl\",\"marker\":{\"colorbar\":{\"outlinewidth\":0,\"ticks\":\"\"}}}],\"scatter3d\":[{\"type\":\"scatter3d\",\"line\":{\"colorbar\":{\"outlinewidth\":0,\"ticks\":\"\"}},\"marker\":{\"colorbar\":{\"outlinewidth\":0,\"ticks\":\"\"}}}],\"scattermapbox\":[{\"type\":\"scattermapbox\",\"marker\":{\"colorbar\":{\"outlinewidth\":0,\"ticks\":\"\"}}}],\"scatterternary\":[{\"type\":\"scatterternary\",\"marker\":{\"colorbar\":{\"outlinewidth\":0,\"ticks\":\"\"}}}],\"scattercarpet\":[{\"type\":\"scattercarpet\",\"marker\":{\"colorbar\":{\"outlinewidth\":0,\"ticks\":\"\"}}}],\"carpet\":[{\"aaxis\":{\"endlinecolor\":\"#2a3f5f\",\"gridcolor\":\"white\",\"linecolor\":\"white\",\"minorgridcolor\":\"white\",\"startlinecolor\":\"#2a3f5f\"},\"baxis\":{\"endlinecolor\":\"#2a3f5f\",\"gridcolor\":\"white\",\"linecolor\":\"white\",\"minorgridcolor\":\"white\",\"startlinecolor\":\"#2a3f5f\"},\"type\":\"carpet\"}],\"table\":[{\"cells\":{\"fill\":{\"color\":\"#EBF0F8\"},\"line\":{\"color\":\"white\"}},\"header\":{\"fill\":{\"color\":\"#C8D4E3\"},\"line\":{\"color\":\"white\"}},\"type\":\"table\"}],\"barpolar\":[{\"marker\":{\"line\":{\"color\":\"#E5ECF6\",\"width\":0.5},\"pattern\":{\"fillmode\":\"overlay\",\"size\":10,\"solidity\":0.2}},\"type\":\"barpolar\"}],\"pie\":[{\"automargin\":true,\"type\":\"pie\"}]},\"layout\":{\"autotypenumbers\":\"strict\",\"colorway\":[\"#636efa\",\"#EF553B\",\"#00cc96\",\"#ab63fa\",\"#FFA15A\",\"#19d3f3\",\"#FF6692\",\"#B6E880\",\"#FF97FF\",\"#FECB52\"],\"font\":{\"color\":\"#2a3f5f\"},\"hovermode\":\"closest\",\"hoverlabel\":{\"align\":\"left\"},\"paper_bgcolor\":\"white\",\"plot_bgcolor\":\"#E5ECF6\",\"polar\":{\"bgcolor\":\"#E5ECF6\",\"angularaxis\":{\"gridcolor\":\"white\",\"linecolor\":\"white\",\"ticks\":\"\"},\"radialaxis\":{\"gridcolor\":\"white\",\"linecolor\":\"white\",\"ticks\":\"\"}},\"ternary\":{\"bgcolor\":\"#E5ECF6\",\"aaxis\":{\"gridcolor\":\"white\",\"linecolor\":\"white\",\"ticks\":\"\"},\"baxis\":{\"gridcolor\":\"white\",\"linecolor\":\"white\",\"ticks\":\"\"},\"caxis\":{\"gridcolor\":\"white\",\"linecolor\":\"white\",\"ticks\":\"\"}},\"coloraxis\":{\"colorbar\":{\"outlinewidth\":0,\"ticks\":\"\"}},\"colorscale\":{\"sequential\":[[0.0,\"#0d0887\"],[0.1111111111111111,\"#46039f\"],[0.2222222222222222,\"#7201a8\"],[0.3333333333333333,\"#9c179e\"],[0.4444444444444444,\"#bd3786\"],[0.5555555555555556,\"#d8576b\"],[0.6666666666666666,\"#ed7953\"],[0.7777777777777778,\"#fb9f3a\"],[0.8888888888888888,\"#fdca26\"],[1.0,\"#f0f921\"]],\"sequentialminus\":[[0.0,\"#0d0887\"],[0.1111111111111111,\"#46039f\"],[0.2222222222222222,\"#7201a8\"],[0.3333333333333333,\"#9c179e\"],[0.4444444444444444,\"#bd3786\"],[0.5555555555555556,\"#d8576b\"],[0.6666666666666666,\"#ed7953\"],[0.7777777777777778,\"#fb9f3a\"],[0.8888888888888888,\"#fdca26\"],[1.0,\"#f0f921\"]],\"diverging\":[[0,\"#8e0152\"],[0.1,\"#c51b7d\"],[0.2,\"#de77ae\"],[0.3,\"#f1b6da\"],[0.4,\"#fde0ef\"],[0.5,\"#f7f7f7\"],[0.6,\"#e6f5d0\"],[0.7,\"#b8e186\"],[0.8,\"#7fbc41\"],[0.9,\"#4d9221\"],[1,\"#276419\"]]},\"xaxis\":{\"gridcolor\":\"white\",\"linecolor\":\"white\",\"ticks\":\"\",\"title\":{\"standoff\":15},\"zerolinecolor\":\"white\",\"automargin\":true,\"zerolinewidth\":2},\"yaxis\":{\"gridcolor\":\"white\",\"linecolor\":\"white\",\"ticks\":\"\",\"title\":{\"standoff\":15},\"zerolinecolor\":\"white\",\"automargin\":true,\"zerolinewidth\":2},\"scene\":{\"xaxis\":{\"backgroundcolor\":\"#E5ECF6\",\"gridcolor\":\"white\",\"linecolor\":\"white\",\"showbackground\":true,\"ticks\":\"\",\"zerolinecolor\":\"white\",\"gridwidth\":2},\"yaxis\":{\"backgroundcolor\":\"#E5ECF6\",\"gridcolor\":\"white\",\"linecolor\":\"white\",\"showbackground\":true,\"ticks\":\"\",\"zerolinecolor\":\"white\",\"gridwidth\":2},\"zaxis\":{\"backgroundcolor\":\"#E5ECF6\",\"gridcolor\":\"white\",\"linecolor\":\"white\",\"showbackground\":true,\"ticks\":\"\",\"zerolinecolor\":\"white\",\"gridwidth\":2}},\"shapedefaults\":{\"line\":{\"color\":\"#2a3f5f\"}},\"annotationdefaults\":{\"arrowcolor\":\"#2a3f5f\",\"arrowhead\":0,\"arrowwidth\":1},\"geo\":{\"bgcolor\":\"white\",\"landcolor\":\"#E5ECF6\",\"subunitcolor\":\"white\",\"showland\":true,\"showlakes\":true,\"lakecolor\":\"white\"},\"title\":{\"x\":0.05},\"mapbox\":{\"style\":\"light\"}}},\"xaxis\":{\"anchor\":\"y\",\"domain\":[0.0,1.0],\"title\":{\"text\":\"giv\"}},\"yaxis\":{\"anchor\":\"x\",\"domain\":[0.0,1.0],\"title\":{\"text\":\"diff\"},\"categoryorder\":\"total descending\"},\"legend\":{\"title\":{\"text\":\"th\"},\"tracegroupgap\":0},\"margin\":{\"t\":60},\"boxmode\":\"group\",\"width\":600,\"height\":600,\"showlegend\":false},                        {\"responsive\": true}                    ).then(function(){\n",
       "                            \n",
       "var gd = document.getElementById('cc10471b-bed0-438f-a7b0-57f2aab6c254');\n",
       "var x = new MutationObserver(function (mutations, observer) {{\n",
       "        var display = window.getComputedStyle(gd).display;\n",
       "        if (!display || display === 'none') {{\n",
       "            console.log([gd, 'removed!']);\n",
       "            Plotly.purge(gd);\n",
       "            observer.disconnect();\n",
       "        }}\n",
       "}});\n",
       "\n",
       "// Listen for the removal of the full notebook cells\n",
       "var notebookContainer = gd.closest('#notebook-container');\n",
       "if (notebookContainer) {{\n",
       "    x.observe(notebookContainer, {childList: true});\n",
       "}}\n",
       "\n",
       "// Listen for the clearing of the current output cell\n",
       "var outputEl = gd.closest('.output');\n",
       "if (outputEl) {{\n",
       "    x.observe(outputEl, {childList: true});\n",
       "}}\n",
       "\n",
       "                        })                };                });            </script>        </div>"
      ]
     },
     "metadata": {},
     "output_type": "display_data"
    }
   ],
   "source": [
    "color_palette = px.colors.qualitative.Safe\n",
    "fig = px.box(DATA_VIS[DATA_VIS.giv.isin(neg_dif)], \n",
    "             x=\"giv\", y=\"diff\", color=\"th\", points='all',\n",
    "             color_discrete_sequence=color_palette)\n",
    "fig.update_layout(yaxis={'categoryorder': 'total descending'})\n",
    "fig.update_layout(width=600, height=600, showlegend=False)\n",
    "fig.write_image(\"../visualisations/llm_neg_diff_giv_all.pdf\", format='pdf')\n",
    "\n",
    "fig.show()"
   ]
  },
  {
   "cell_type": "code",
   "execution_count": 279,
   "metadata": {},
   "outputs": [],
   "source": [
    "top = 5\n",
    "pos_dif_all = []\n",
    "neg_diff_all = []\n",
    "data_vis_pos = []\n",
    "data_vis_neg = []\n",
    "for th in DATA_VIS.th.unique():\n",
    "    pos_diff = DATA_VIS[DATA_VIS.th==th].groupby(\"giv\").agg({\"diff\": \"mean\"}).reset_index().sort_values(by=\"diff\", ascending=False).giv.values.tolist()[:5]\n",
    "    neg_diff = DATA_VIS[DATA_VIS.th==th].groupby(\"giv\").agg({\"diff\": \"mean\"}).reset_index().sort_values(by=\"diff\", ascending=True).giv.values.tolist()[:5]\n",
    "    data_vis_pos.append(DATA_VIS[(DATA_VIS.th==th) & (DATA_VIS.giv.isin(pos_diff))])\n",
    "    data_vis_neg.append(DATA_VIS[(DATA_VIS.th==th) & (DATA_VIS.giv.isin(neg_diff))])"
   ]
  },
  {
   "cell_type": "code",
   "execution_count": 280,
   "metadata": {},
   "outputs": [
    {
     "data": {
      "application/vnd.plotly.v1+json": {
       "config": {
        "plotlyServerURL": "https://plot.ly"
       },
       "data": [
        {
         "alignmentgroup": "True",
         "boxpoints": "all",
         "hovertemplate": "th=regular<br>giv=%{x}<br>diff=%{y}<extra></extra>",
         "legendgroup": "regular",
         "marker": {
          "color": "rgb(136, 204, 238)"
         },
         "name": "regular",
         "notched": false,
         "offsetgroup": "regular",
         "orientation": "v",
         "showlegend": true,
         "type": "box",
         "x": [
          "FramingVariable",
          "FramingVariable",
          "FramingVariable",
          "FramingVariable",
          "FramingVariable",
          "Institutional_ChoiceVariable",
          "Institutional_ChoiceVariable",
          "Institutional_ChoiceVariable",
          "Group_SizeVariable",
          "Group_SizeVariable",
          "Group_SizeVariable",
          "Group_SizeVariable",
          "Group_SizeVariable",
          "Intergroup_Competition_Variable",
          "Intergroup_Competition_Variable",
          "Intergroup_Competition_Variable",
          "Intergroup_Competition_Variable",
          "Intergroup_Competition_Variable",
          "PeriodVariable",
          "PeriodVariable",
          "PeriodVariable"
         ],
         "x0": " ",
         "xaxis": "x",
         "y": [
          -1,
          0,
          22,
          2,
          15,
          7,
          -1,
          12,
          24,
          -4,
          2,
          3,
          10,
          -1,
          8,
          3,
          12,
          9,
          -1,
          17,
          1
         ],
         "y0": " ",
         "yaxis": "y"
        },
        {
         "alignmentgroup": "True",
         "boxpoints": "all",
         "hovertemplate": "th=study_mod<br>giv=%{x}<br>diff=%{y}<extra></extra>",
         "legendgroup": "study_mod",
         "marker": {
          "color": "rgb(204, 102, 119)"
         },
         "name": "study_mod",
         "notched": false,
         "offsetgroup": "study_mod",
         "orientation": "v",
         "showlegend": true,
         "type": "box",
         "x": [
          "FramingVariable",
          "FramingVariable",
          "FramingVariable",
          "FramingVariable",
          "FramingVariable",
          "Institutional_ChoiceVariable",
          "Institutional_ChoiceVariable",
          "Institutional_ChoiceVariable",
          "Institutional_ChoiceVariable",
          "Institutional_ChoiceVariable",
          "Group_SizeVariable",
          "Group_SizeVariable",
          "Group_SizeVariable",
          "Group_SizeVariable",
          "Group_SizeVariable",
          "CommunicationVariable",
          "CommunicationVariable",
          "CommunicationVariable",
          "CommunicationVariable",
          "CommunicationVariable",
          "PersonalityVariable",
          "PersonalityVariable",
          "PersonalityVariable",
          "PersonalityVariable",
          "PersonalityVariable"
         ],
         "x0": " ",
         "xaxis": "x",
         "y": [
          0,
          14,
          20,
          2,
          20,
          6,
          7,
          7,
          7,
          1,
          2,
          20,
          0,
          0,
          0,
          -1,
          33,
          0,
          -1,
          39,
          6,
          0,
          10,
          4,
          17
         ],
         "y0": " ",
         "yaxis": "y"
        },
        {
         "alignmentgroup": "True",
         "boxpoints": "all",
         "hovertemplate": "th=var_mod<br>giv=%{x}<br>diff=%{y}<extra></extra>",
         "legendgroup": "var_mod",
         "marker": {
          "color": "rgb(221, 204, 119)"
         },
         "name": "var_mod",
         "notched": false,
         "offsetgroup": "var_mod",
         "orientation": "v",
         "showlegend": true,
         "type": "box",
         "x": [
          "LeadershipVariable",
          "LeadershipVariable",
          "LeadershipVariable",
          "LeadershipVariable",
          "LeadershipVariable",
          "Degree_of_conflicting_interestsVariable",
          "Degree_of_conflicting_interestsVariable",
          "Degree_of_conflicting_interestsVariable",
          "Degree_of_conflicting_interestsVariable",
          "Degree_of_conflicting_interestsVariable",
          "UncertaintyVariable",
          "UncertaintyVariable",
          "UncertaintyVariable",
          "UncertaintyVariable",
          "UncertaintyVariable",
          "Public_Goods_GameVariable",
          "Public_Goods_GameVariable",
          "Public_Goods_GameVariable",
          "Public_Goods_GameVariable",
          "Public_Goods_GameVariable",
          "PunishmentVariable",
          "PunishmentVariable",
          "PunishmentVariable",
          "PunishmentVariable"
         ],
         "x0": " ",
         "xaxis": "x",
         "y": [
          1,
          0,
          0,
          -1,
          1,
          -4,
          5,
          2,
          4,
          4,
          12,
          2,
          0,
          -5,
          2,
          1,
          0,
          0,
          0,
          0,
          1,
          -1,
          1,
          1
         ],
         "y0": " ",
         "yaxis": "y"
        }
       ],
       "layout": {
        "boxmode": "group",
        "height": 600,
        "legend": {
         "title": {
          "text": "th"
         },
         "tracegroupgap": 0
        },
        "margin": {
         "t": 60
        },
        "showlegend": false,
        "template": {
         "data": {
          "bar": [
           {
            "error_x": {
             "color": "#2a3f5f"
            },
            "error_y": {
             "color": "#2a3f5f"
            },
            "marker": {
             "line": {
              "color": "#E5ECF6",
              "width": 0.5
             },
             "pattern": {
              "fillmode": "overlay",
              "size": 10,
              "solidity": 0.2
             }
            },
            "type": "bar"
           }
          ],
          "barpolar": [
           {
            "marker": {
             "line": {
              "color": "#E5ECF6",
              "width": 0.5
             },
             "pattern": {
              "fillmode": "overlay",
              "size": 10,
              "solidity": 0.2
             }
            },
            "type": "barpolar"
           }
          ],
          "carpet": [
           {
            "aaxis": {
             "endlinecolor": "#2a3f5f",
             "gridcolor": "white",
             "linecolor": "white",
             "minorgridcolor": "white",
             "startlinecolor": "#2a3f5f"
            },
            "baxis": {
             "endlinecolor": "#2a3f5f",
             "gridcolor": "white",
             "linecolor": "white",
             "minorgridcolor": "white",
             "startlinecolor": "#2a3f5f"
            },
            "type": "carpet"
           }
          ],
          "choropleth": [
           {
            "colorbar": {
             "outlinewidth": 0,
             "ticks": ""
            },
            "type": "choropleth"
           }
          ],
          "contour": [
           {
            "colorbar": {
             "outlinewidth": 0,
             "ticks": ""
            },
            "colorscale": [
             [
              0,
              "#0d0887"
             ],
             [
              0.1111111111111111,
              "#46039f"
             ],
             [
              0.2222222222222222,
              "#7201a8"
             ],
             [
              0.3333333333333333,
              "#9c179e"
             ],
             [
              0.4444444444444444,
              "#bd3786"
             ],
             [
              0.5555555555555556,
              "#d8576b"
             ],
             [
              0.6666666666666666,
              "#ed7953"
             ],
             [
              0.7777777777777778,
              "#fb9f3a"
             ],
             [
              0.8888888888888888,
              "#fdca26"
             ],
             [
              1,
              "#f0f921"
             ]
            ],
            "type": "contour"
           }
          ],
          "contourcarpet": [
           {
            "colorbar": {
             "outlinewidth": 0,
             "ticks": ""
            },
            "type": "contourcarpet"
           }
          ],
          "heatmap": [
           {
            "colorbar": {
             "outlinewidth": 0,
             "ticks": ""
            },
            "colorscale": [
             [
              0,
              "#0d0887"
             ],
             [
              0.1111111111111111,
              "#46039f"
             ],
             [
              0.2222222222222222,
              "#7201a8"
             ],
             [
              0.3333333333333333,
              "#9c179e"
             ],
             [
              0.4444444444444444,
              "#bd3786"
             ],
             [
              0.5555555555555556,
              "#d8576b"
             ],
             [
              0.6666666666666666,
              "#ed7953"
             ],
             [
              0.7777777777777778,
              "#fb9f3a"
             ],
             [
              0.8888888888888888,
              "#fdca26"
             ],
             [
              1,
              "#f0f921"
             ]
            ],
            "type": "heatmap"
           }
          ],
          "heatmapgl": [
           {
            "colorbar": {
             "outlinewidth": 0,
             "ticks": ""
            },
            "colorscale": [
             [
              0,
              "#0d0887"
             ],
             [
              0.1111111111111111,
              "#46039f"
             ],
             [
              0.2222222222222222,
              "#7201a8"
             ],
             [
              0.3333333333333333,
              "#9c179e"
             ],
             [
              0.4444444444444444,
              "#bd3786"
             ],
             [
              0.5555555555555556,
              "#d8576b"
             ],
             [
              0.6666666666666666,
              "#ed7953"
             ],
             [
              0.7777777777777778,
              "#fb9f3a"
             ],
             [
              0.8888888888888888,
              "#fdca26"
             ],
             [
              1,
              "#f0f921"
             ]
            ],
            "type": "heatmapgl"
           }
          ],
          "histogram": [
           {
            "marker": {
             "pattern": {
              "fillmode": "overlay",
              "size": 10,
              "solidity": 0.2
             }
            },
            "type": "histogram"
           }
          ],
          "histogram2d": [
           {
            "colorbar": {
             "outlinewidth": 0,
             "ticks": ""
            },
            "colorscale": [
             [
              0,
              "#0d0887"
             ],
             [
              0.1111111111111111,
              "#46039f"
             ],
             [
              0.2222222222222222,
              "#7201a8"
             ],
             [
              0.3333333333333333,
              "#9c179e"
             ],
             [
              0.4444444444444444,
              "#bd3786"
             ],
             [
              0.5555555555555556,
              "#d8576b"
             ],
             [
              0.6666666666666666,
              "#ed7953"
             ],
             [
              0.7777777777777778,
              "#fb9f3a"
             ],
             [
              0.8888888888888888,
              "#fdca26"
             ],
             [
              1,
              "#f0f921"
             ]
            ],
            "type": "histogram2d"
           }
          ],
          "histogram2dcontour": [
           {
            "colorbar": {
             "outlinewidth": 0,
             "ticks": ""
            },
            "colorscale": [
             [
              0,
              "#0d0887"
             ],
             [
              0.1111111111111111,
              "#46039f"
             ],
             [
              0.2222222222222222,
              "#7201a8"
             ],
             [
              0.3333333333333333,
              "#9c179e"
             ],
             [
              0.4444444444444444,
              "#bd3786"
             ],
             [
              0.5555555555555556,
              "#d8576b"
             ],
             [
              0.6666666666666666,
              "#ed7953"
             ],
             [
              0.7777777777777778,
              "#fb9f3a"
             ],
             [
              0.8888888888888888,
              "#fdca26"
             ],
             [
              1,
              "#f0f921"
             ]
            ],
            "type": "histogram2dcontour"
           }
          ],
          "mesh3d": [
           {
            "colorbar": {
             "outlinewidth": 0,
             "ticks": ""
            },
            "type": "mesh3d"
           }
          ],
          "parcoords": [
           {
            "line": {
             "colorbar": {
              "outlinewidth": 0,
              "ticks": ""
             }
            },
            "type": "parcoords"
           }
          ],
          "pie": [
           {
            "automargin": true,
            "type": "pie"
           }
          ],
          "scatter": [
           {
            "fillpattern": {
             "fillmode": "overlay",
             "size": 10,
             "solidity": 0.2
            },
            "type": "scatter"
           }
          ],
          "scatter3d": [
           {
            "line": {
             "colorbar": {
              "outlinewidth": 0,
              "ticks": ""
             }
            },
            "marker": {
             "colorbar": {
              "outlinewidth": 0,
              "ticks": ""
             }
            },
            "type": "scatter3d"
           }
          ],
          "scattercarpet": [
           {
            "marker": {
             "colorbar": {
              "outlinewidth": 0,
              "ticks": ""
             }
            },
            "type": "scattercarpet"
           }
          ],
          "scattergeo": [
           {
            "marker": {
             "colorbar": {
              "outlinewidth": 0,
              "ticks": ""
             }
            },
            "type": "scattergeo"
           }
          ],
          "scattergl": [
           {
            "marker": {
             "colorbar": {
              "outlinewidth": 0,
              "ticks": ""
             }
            },
            "type": "scattergl"
           }
          ],
          "scattermapbox": [
           {
            "marker": {
             "colorbar": {
              "outlinewidth": 0,
              "ticks": ""
             }
            },
            "type": "scattermapbox"
           }
          ],
          "scatterpolar": [
           {
            "marker": {
             "colorbar": {
              "outlinewidth": 0,
              "ticks": ""
             }
            },
            "type": "scatterpolar"
           }
          ],
          "scatterpolargl": [
           {
            "marker": {
             "colorbar": {
              "outlinewidth": 0,
              "ticks": ""
             }
            },
            "type": "scatterpolargl"
           }
          ],
          "scatterternary": [
           {
            "marker": {
             "colorbar": {
              "outlinewidth": 0,
              "ticks": ""
             }
            },
            "type": "scatterternary"
           }
          ],
          "surface": [
           {
            "colorbar": {
             "outlinewidth": 0,
             "ticks": ""
            },
            "colorscale": [
             [
              0,
              "#0d0887"
             ],
             [
              0.1111111111111111,
              "#46039f"
             ],
             [
              0.2222222222222222,
              "#7201a8"
             ],
             [
              0.3333333333333333,
              "#9c179e"
             ],
             [
              0.4444444444444444,
              "#bd3786"
             ],
             [
              0.5555555555555556,
              "#d8576b"
             ],
             [
              0.6666666666666666,
              "#ed7953"
             ],
             [
              0.7777777777777778,
              "#fb9f3a"
             ],
             [
              0.8888888888888888,
              "#fdca26"
             ],
             [
              1,
              "#f0f921"
             ]
            ],
            "type": "surface"
           }
          ],
          "table": [
           {
            "cells": {
             "fill": {
              "color": "#EBF0F8"
             },
             "line": {
              "color": "white"
             }
            },
            "header": {
             "fill": {
              "color": "#C8D4E3"
             },
             "line": {
              "color": "white"
             }
            },
            "type": "table"
           }
          ]
         },
         "layout": {
          "annotationdefaults": {
           "arrowcolor": "#2a3f5f",
           "arrowhead": 0,
           "arrowwidth": 1
          },
          "autotypenumbers": "strict",
          "coloraxis": {
           "colorbar": {
            "outlinewidth": 0,
            "ticks": ""
           }
          },
          "colorscale": {
           "diverging": [
            [
             0,
             "#8e0152"
            ],
            [
             0.1,
             "#c51b7d"
            ],
            [
             0.2,
             "#de77ae"
            ],
            [
             0.3,
             "#f1b6da"
            ],
            [
             0.4,
             "#fde0ef"
            ],
            [
             0.5,
             "#f7f7f7"
            ],
            [
             0.6,
             "#e6f5d0"
            ],
            [
             0.7,
             "#b8e186"
            ],
            [
             0.8,
             "#7fbc41"
            ],
            [
             0.9,
             "#4d9221"
            ],
            [
             1,
             "#276419"
            ]
           ],
           "sequential": [
            [
             0,
             "#0d0887"
            ],
            [
             0.1111111111111111,
             "#46039f"
            ],
            [
             0.2222222222222222,
             "#7201a8"
            ],
            [
             0.3333333333333333,
             "#9c179e"
            ],
            [
             0.4444444444444444,
             "#bd3786"
            ],
            [
             0.5555555555555556,
             "#d8576b"
            ],
            [
             0.6666666666666666,
             "#ed7953"
            ],
            [
             0.7777777777777778,
             "#fb9f3a"
            ],
            [
             0.8888888888888888,
             "#fdca26"
            ],
            [
             1,
             "#f0f921"
            ]
           ],
           "sequentialminus": [
            [
             0,
             "#0d0887"
            ],
            [
             0.1111111111111111,
             "#46039f"
            ],
            [
             0.2222222222222222,
             "#7201a8"
            ],
            [
             0.3333333333333333,
             "#9c179e"
            ],
            [
             0.4444444444444444,
             "#bd3786"
            ],
            [
             0.5555555555555556,
             "#d8576b"
            ],
            [
             0.6666666666666666,
             "#ed7953"
            ],
            [
             0.7777777777777778,
             "#fb9f3a"
            ],
            [
             0.8888888888888888,
             "#fdca26"
            ],
            [
             1,
             "#f0f921"
            ]
           ]
          },
          "colorway": [
           "#636efa",
           "#EF553B",
           "#00cc96",
           "#ab63fa",
           "#FFA15A",
           "#19d3f3",
           "#FF6692",
           "#B6E880",
           "#FF97FF",
           "#FECB52"
          ],
          "font": {
           "color": "#2a3f5f"
          },
          "geo": {
           "bgcolor": "white",
           "lakecolor": "white",
           "landcolor": "#E5ECF6",
           "showlakes": true,
           "showland": true,
           "subunitcolor": "white"
          },
          "hoverlabel": {
           "align": "left"
          },
          "hovermode": "closest",
          "mapbox": {
           "style": "light"
          },
          "paper_bgcolor": "white",
          "plot_bgcolor": "#E5ECF6",
          "polar": {
           "angularaxis": {
            "gridcolor": "white",
            "linecolor": "white",
            "ticks": ""
           },
           "bgcolor": "#E5ECF6",
           "radialaxis": {
            "gridcolor": "white",
            "linecolor": "white",
            "ticks": ""
           }
          },
          "scene": {
           "xaxis": {
            "backgroundcolor": "#E5ECF6",
            "gridcolor": "white",
            "gridwidth": 2,
            "linecolor": "white",
            "showbackground": true,
            "ticks": "",
            "zerolinecolor": "white"
           },
           "yaxis": {
            "backgroundcolor": "#E5ECF6",
            "gridcolor": "white",
            "gridwidth": 2,
            "linecolor": "white",
            "showbackground": true,
            "ticks": "",
            "zerolinecolor": "white"
           },
           "zaxis": {
            "backgroundcolor": "#E5ECF6",
            "gridcolor": "white",
            "gridwidth": 2,
            "linecolor": "white",
            "showbackground": true,
            "ticks": "",
            "zerolinecolor": "white"
           }
          },
          "shapedefaults": {
           "line": {
            "color": "#2a3f5f"
           }
          },
          "ternary": {
           "aaxis": {
            "gridcolor": "white",
            "linecolor": "white",
            "ticks": ""
           },
           "baxis": {
            "gridcolor": "white",
            "linecolor": "white",
            "ticks": ""
           },
           "bgcolor": "#E5ECF6",
           "caxis": {
            "gridcolor": "white",
            "linecolor": "white",
            "ticks": ""
           }
          },
          "title": {
           "x": 0.05
          },
          "xaxis": {
           "automargin": true,
           "gridcolor": "white",
           "linecolor": "white",
           "ticks": "",
           "title": {
            "standoff": 15
           },
           "zerolinecolor": "white",
           "zerolinewidth": 2
          },
          "yaxis": {
           "automargin": true,
           "gridcolor": "white",
           "linecolor": "white",
           "ticks": "",
           "title": {
            "standoff": 15
           },
           "zerolinecolor": "white",
           "zerolinewidth": 2
          }
         }
        },
        "width": 600,
        "xaxis": {
         "anchor": "y",
         "domain": [
          0,
          1
         ],
         "title": {
          "text": "giv"
         }
        },
        "yaxis": {
         "anchor": "x",
         "categoryorder": "total descending",
         "domain": [
          0,
          1
         ],
         "title": {
          "text": "diff"
         }
        }
       }
      },
      "text/html": [
       "<div>                            <div id=\"3d2a1484-7e54-423e-acb5-522a052c8510\" class=\"plotly-graph-div\" style=\"height:600px; width:600px;\"></div>            <script type=\"text/javascript\">                require([\"plotly\"], function(Plotly) {                    window.PLOTLYENV=window.PLOTLYENV || {};                                    if (document.getElementById(\"3d2a1484-7e54-423e-acb5-522a052c8510\")) {                    Plotly.newPlot(                        \"3d2a1484-7e54-423e-acb5-522a052c8510\",                        [{\"alignmentgroup\":\"True\",\"boxpoints\":\"all\",\"hovertemplate\":\"th=regular\\u003cbr\\u003egiv=%{x}\\u003cbr\\u003ediff=%{y}\\u003cextra\\u003e\\u003c\\u002fextra\\u003e\",\"legendgroup\":\"regular\",\"marker\":{\"color\":\"rgb(136, 204, 238)\"},\"name\":\"regular\",\"notched\":false,\"offsetgroup\":\"regular\",\"orientation\":\"v\",\"showlegend\":true,\"x\":[\"FramingVariable\",\"FramingVariable\",\"FramingVariable\",\"FramingVariable\",\"FramingVariable\",\"Institutional_ChoiceVariable\",\"Institutional_ChoiceVariable\",\"Institutional_ChoiceVariable\",\"Group_SizeVariable\",\"Group_SizeVariable\",\"Group_SizeVariable\",\"Group_SizeVariable\",\"Group_SizeVariable\",\"Intergroup_Competition_Variable\",\"Intergroup_Competition_Variable\",\"Intergroup_Competition_Variable\",\"Intergroup_Competition_Variable\",\"Intergroup_Competition_Variable\",\"PeriodVariable\",\"PeriodVariable\",\"PeriodVariable\"],\"x0\":\" \",\"xaxis\":\"x\",\"y\":[-1,0,22,2,15,7,-1,12,24,-4,2,3,10,-1,8,3,12,9,-1,17,1],\"y0\":\" \",\"yaxis\":\"y\",\"type\":\"box\"},{\"alignmentgroup\":\"True\",\"boxpoints\":\"all\",\"hovertemplate\":\"th=study_mod\\u003cbr\\u003egiv=%{x}\\u003cbr\\u003ediff=%{y}\\u003cextra\\u003e\\u003c\\u002fextra\\u003e\",\"legendgroup\":\"study_mod\",\"marker\":{\"color\":\"rgb(204, 102, 119)\"},\"name\":\"study_mod\",\"notched\":false,\"offsetgroup\":\"study_mod\",\"orientation\":\"v\",\"showlegend\":true,\"x\":[\"FramingVariable\",\"FramingVariable\",\"FramingVariable\",\"FramingVariable\",\"FramingVariable\",\"Institutional_ChoiceVariable\",\"Institutional_ChoiceVariable\",\"Institutional_ChoiceVariable\",\"Institutional_ChoiceVariable\",\"Institutional_ChoiceVariable\",\"Group_SizeVariable\",\"Group_SizeVariable\",\"Group_SizeVariable\",\"Group_SizeVariable\",\"Group_SizeVariable\",\"CommunicationVariable\",\"CommunicationVariable\",\"CommunicationVariable\",\"CommunicationVariable\",\"CommunicationVariable\",\"PersonalityVariable\",\"PersonalityVariable\",\"PersonalityVariable\",\"PersonalityVariable\",\"PersonalityVariable\"],\"x0\":\" \",\"xaxis\":\"x\",\"y\":[0,14,20,2,20,6,7,7,7,1,2,20,0,0,0,-1,33,0,-1,39,6,0,10,4,17],\"y0\":\" \",\"yaxis\":\"y\",\"type\":\"box\"},{\"alignmentgroup\":\"True\",\"boxpoints\":\"all\",\"hovertemplate\":\"th=var_mod\\u003cbr\\u003egiv=%{x}\\u003cbr\\u003ediff=%{y}\\u003cextra\\u003e\\u003c\\u002fextra\\u003e\",\"legendgroup\":\"var_mod\",\"marker\":{\"color\":\"rgb(221, 204, 119)\"},\"name\":\"var_mod\",\"notched\":false,\"offsetgroup\":\"var_mod\",\"orientation\":\"v\",\"showlegend\":true,\"x\":[\"LeadershipVariable\",\"LeadershipVariable\",\"LeadershipVariable\",\"LeadershipVariable\",\"LeadershipVariable\",\"Degree_of_conflicting_interestsVariable\",\"Degree_of_conflicting_interestsVariable\",\"Degree_of_conflicting_interestsVariable\",\"Degree_of_conflicting_interestsVariable\",\"Degree_of_conflicting_interestsVariable\",\"UncertaintyVariable\",\"UncertaintyVariable\",\"UncertaintyVariable\",\"UncertaintyVariable\",\"UncertaintyVariable\",\"Public_Goods_GameVariable\",\"Public_Goods_GameVariable\",\"Public_Goods_GameVariable\",\"Public_Goods_GameVariable\",\"Public_Goods_GameVariable\",\"PunishmentVariable\",\"PunishmentVariable\",\"PunishmentVariable\",\"PunishmentVariable\"],\"x0\":\" \",\"xaxis\":\"x\",\"y\":[1,0,0,-1,1,-4,5,2,4,4,12,2,0,-5,2,1,0,0,0,0,1,-1,1,1],\"y0\":\" \",\"yaxis\":\"y\",\"type\":\"box\"}],                        {\"template\":{\"data\":{\"histogram2dcontour\":[{\"type\":\"histogram2dcontour\",\"colorbar\":{\"outlinewidth\":0,\"ticks\":\"\"},\"colorscale\":[[0.0,\"#0d0887\"],[0.1111111111111111,\"#46039f\"],[0.2222222222222222,\"#7201a8\"],[0.3333333333333333,\"#9c179e\"],[0.4444444444444444,\"#bd3786\"],[0.5555555555555556,\"#d8576b\"],[0.6666666666666666,\"#ed7953\"],[0.7777777777777778,\"#fb9f3a\"],[0.8888888888888888,\"#fdca26\"],[1.0,\"#f0f921\"]]}],\"choropleth\":[{\"type\":\"choropleth\",\"colorbar\":{\"outlinewidth\":0,\"ticks\":\"\"}}],\"histogram2d\":[{\"type\":\"histogram2d\",\"colorbar\":{\"outlinewidth\":0,\"ticks\":\"\"},\"colorscale\":[[0.0,\"#0d0887\"],[0.1111111111111111,\"#46039f\"],[0.2222222222222222,\"#7201a8\"],[0.3333333333333333,\"#9c179e\"],[0.4444444444444444,\"#bd3786\"],[0.5555555555555556,\"#d8576b\"],[0.6666666666666666,\"#ed7953\"],[0.7777777777777778,\"#fb9f3a\"],[0.8888888888888888,\"#fdca26\"],[1.0,\"#f0f921\"]]}],\"heatmap\":[{\"type\":\"heatmap\",\"colorbar\":{\"outlinewidth\":0,\"ticks\":\"\"},\"colorscale\":[[0.0,\"#0d0887\"],[0.1111111111111111,\"#46039f\"],[0.2222222222222222,\"#7201a8\"],[0.3333333333333333,\"#9c179e\"],[0.4444444444444444,\"#bd3786\"],[0.5555555555555556,\"#d8576b\"],[0.6666666666666666,\"#ed7953\"],[0.7777777777777778,\"#fb9f3a\"],[0.8888888888888888,\"#fdca26\"],[1.0,\"#f0f921\"]]}],\"heatmapgl\":[{\"type\":\"heatmapgl\",\"colorbar\":{\"outlinewidth\":0,\"ticks\":\"\"},\"colorscale\":[[0.0,\"#0d0887\"],[0.1111111111111111,\"#46039f\"],[0.2222222222222222,\"#7201a8\"],[0.3333333333333333,\"#9c179e\"],[0.4444444444444444,\"#bd3786\"],[0.5555555555555556,\"#d8576b\"],[0.6666666666666666,\"#ed7953\"],[0.7777777777777778,\"#fb9f3a\"],[0.8888888888888888,\"#fdca26\"],[1.0,\"#f0f921\"]]}],\"contourcarpet\":[{\"type\":\"contourcarpet\",\"colorbar\":{\"outlinewidth\":0,\"ticks\":\"\"}}],\"contour\":[{\"type\":\"contour\",\"colorbar\":{\"outlinewidth\":0,\"ticks\":\"\"},\"colorscale\":[[0.0,\"#0d0887\"],[0.1111111111111111,\"#46039f\"],[0.2222222222222222,\"#7201a8\"],[0.3333333333333333,\"#9c179e\"],[0.4444444444444444,\"#bd3786\"],[0.5555555555555556,\"#d8576b\"],[0.6666666666666666,\"#ed7953\"],[0.7777777777777778,\"#fb9f3a\"],[0.8888888888888888,\"#fdca26\"],[1.0,\"#f0f921\"]]}],\"surface\":[{\"type\":\"surface\",\"colorbar\":{\"outlinewidth\":0,\"ticks\":\"\"},\"colorscale\":[[0.0,\"#0d0887\"],[0.1111111111111111,\"#46039f\"],[0.2222222222222222,\"#7201a8\"],[0.3333333333333333,\"#9c179e\"],[0.4444444444444444,\"#bd3786\"],[0.5555555555555556,\"#d8576b\"],[0.6666666666666666,\"#ed7953\"],[0.7777777777777778,\"#fb9f3a\"],[0.8888888888888888,\"#fdca26\"],[1.0,\"#f0f921\"]]}],\"mesh3d\":[{\"type\":\"mesh3d\",\"colorbar\":{\"outlinewidth\":0,\"ticks\":\"\"}}],\"scatter\":[{\"fillpattern\":{\"fillmode\":\"overlay\",\"size\":10,\"solidity\":0.2},\"type\":\"scatter\"}],\"parcoords\":[{\"type\":\"parcoords\",\"line\":{\"colorbar\":{\"outlinewidth\":0,\"ticks\":\"\"}}}],\"scatterpolargl\":[{\"type\":\"scatterpolargl\",\"marker\":{\"colorbar\":{\"outlinewidth\":0,\"ticks\":\"\"}}}],\"bar\":[{\"error_x\":{\"color\":\"#2a3f5f\"},\"error_y\":{\"color\":\"#2a3f5f\"},\"marker\":{\"line\":{\"color\":\"#E5ECF6\",\"width\":0.5},\"pattern\":{\"fillmode\":\"overlay\",\"size\":10,\"solidity\":0.2}},\"type\":\"bar\"}],\"scattergeo\":[{\"type\":\"scattergeo\",\"marker\":{\"colorbar\":{\"outlinewidth\":0,\"ticks\":\"\"}}}],\"scatterpolar\":[{\"type\":\"scatterpolar\",\"marker\":{\"colorbar\":{\"outlinewidth\":0,\"ticks\":\"\"}}}],\"histogram\":[{\"marker\":{\"pattern\":{\"fillmode\":\"overlay\",\"size\":10,\"solidity\":0.2}},\"type\":\"histogram\"}],\"scattergl\":[{\"type\":\"scattergl\",\"marker\":{\"colorbar\":{\"outlinewidth\":0,\"ticks\":\"\"}}}],\"scatter3d\":[{\"type\":\"scatter3d\",\"line\":{\"colorbar\":{\"outlinewidth\":0,\"ticks\":\"\"}},\"marker\":{\"colorbar\":{\"outlinewidth\":0,\"ticks\":\"\"}}}],\"scattermapbox\":[{\"type\":\"scattermapbox\",\"marker\":{\"colorbar\":{\"outlinewidth\":0,\"ticks\":\"\"}}}],\"scatterternary\":[{\"type\":\"scatterternary\",\"marker\":{\"colorbar\":{\"outlinewidth\":0,\"ticks\":\"\"}}}],\"scattercarpet\":[{\"type\":\"scattercarpet\",\"marker\":{\"colorbar\":{\"outlinewidth\":0,\"ticks\":\"\"}}}],\"carpet\":[{\"aaxis\":{\"endlinecolor\":\"#2a3f5f\",\"gridcolor\":\"white\",\"linecolor\":\"white\",\"minorgridcolor\":\"white\",\"startlinecolor\":\"#2a3f5f\"},\"baxis\":{\"endlinecolor\":\"#2a3f5f\",\"gridcolor\":\"white\",\"linecolor\":\"white\",\"minorgridcolor\":\"white\",\"startlinecolor\":\"#2a3f5f\"},\"type\":\"carpet\"}],\"table\":[{\"cells\":{\"fill\":{\"color\":\"#EBF0F8\"},\"line\":{\"color\":\"white\"}},\"header\":{\"fill\":{\"color\":\"#C8D4E3\"},\"line\":{\"color\":\"white\"}},\"type\":\"table\"}],\"barpolar\":[{\"marker\":{\"line\":{\"color\":\"#E5ECF6\",\"width\":0.5},\"pattern\":{\"fillmode\":\"overlay\",\"size\":10,\"solidity\":0.2}},\"type\":\"barpolar\"}],\"pie\":[{\"automargin\":true,\"type\":\"pie\"}]},\"layout\":{\"autotypenumbers\":\"strict\",\"colorway\":[\"#636efa\",\"#EF553B\",\"#00cc96\",\"#ab63fa\",\"#FFA15A\",\"#19d3f3\",\"#FF6692\",\"#B6E880\",\"#FF97FF\",\"#FECB52\"],\"font\":{\"color\":\"#2a3f5f\"},\"hovermode\":\"closest\",\"hoverlabel\":{\"align\":\"left\"},\"paper_bgcolor\":\"white\",\"plot_bgcolor\":\"#E5ECF6\",\"polar\":{\"bgcolor\":\"#E5ECF6\",\"angularaxis\":{\"gridcolor\":\"white\",\"linecolor\":\"white\",\"ticks\":\"\"},\"radialaxis\":{\"gridcolor\":\"white\",\"linecolor\":\"white\",\"ticks\":\"\"}},\"ternary\":{\"bgcolor\":\"#E5ECF6\",\"aaxis\":{\"gridcolor\":\"white\",\"linecolor\":\"white\",\"ticks\":\"\"},\"baxis\":{\"gridcolor\":\"white\",\"linecolor\":\"white\",\"ticks\":\"\"},\"caxis\":{\"gridcolor\":\"white\",\"linecolor\":\"white\",\"ticks\":\"\"}},\"coloraxis\":{\"colorbar\":{\"outlinewidth\":0,\"ticks\":\"\"}},\"colorscale\":{\"sequential\":[[0.0,\"#0d0887\"],[0.1111111111111111,\"#46039f\"],[0.2222222222222222,\"#7201a8\"],[0.3333333333333333,\"#9c179e\"],[0.4444444444444444,\"#bd3786\"],[0.5555555555555556,\"#d8576b\"],[0.6666666666666666,\"#ed7953\"],[0.7777777777777778,\"#fb9f3a\"],[0.8888888888888888,\"#fdca26\"],[1.0,\"#f0f921\"]],\"sequentialminus\":[[0.0,\"#0d0887\"],[0.1111111111111111,\"#46039f\"],[0.2222222222222222,\"#7201a8\"],[0.3333333333333333,\"#9c179e\"],[0.4444444444444444,\"#bd3786\"],[0.5555555555555556,\"#d8576b\"],[0.6666666666666666,\"#ed7953\"],[0.7777777777777778,\"#fb9f3a\"],[0.8888888888888888,\"#fdca26\"],[1.0,\"#f0f921\"]],\"diverging\":[[0,\"#8e0152\"],[0.1,\"#c51b7d\"],[0.2,\"#de77ae\"],[0.3,\"#f1b6da\"],[0.4,\"#fde0ef\"],[0.5,\"#f7f7f7\"],[0.6,\"#e6f5d0\"],[0.7,\"#b8e186\"],[0.8,\"#7fbc41\"],[0.9,\"#4d9221\"],[1,\"#276419\"]]},\"xaxis\":{\"gridcolor\":\"white\",\"linecolor\":\"white\",\"ticks\":\"\",\"title\":{\"standoff\":15},\"zerolinecolor\":\"white\",\"automargin\":true,\"zerolinewidth\":2},\"yaxis\":{\"gridcolor\":\"white\",\"linecolor\":\"white\",\"ticks\":\"\",\"title\":{\"standoff\":15},\"zerolinecolor\":\"white\",\"automargin\":true,\"zerolinewidth\":2},\"scene\":{\"xaxis\":{\"backgroundcolor\":\"#E5ECF6\",\"gridcolor\":\"white\",\"linecolor\":\"white\",\"showbackground\":true,\"ticks\":\"\",\"zerolinecolor\":\"white\",\"gridwidth\":2},\"yaxis\":{\"backgroundcolor\":\"#E5ECF6\",\"gridcolor\":\"white\",\"linecolor\":\"white\",\"showbackground\":true,\"ticks\":\"\",\"zerolinecolor\":\"white\",\"gridwidth\":2},\"zaxis\":{\"backgroundcolor\":\"#E5ECF6\",\"gridcolor\":\"white\",\"linecolor\":\"white\",\"showbackground\":true,\"ticks\":\"\",\"zerolinecolor\":\"white\",\"gridwidth\":2}},\"shapedefaults\":{\"line\":{\"color\":\"#2a3f5f\"}},\"annotationdefaults\":{\"arrowcolor\":\"#2a3f5f\",\"arrowhead\":0,\"arrowwidth\":1},\"geo\":{\"bgcolor\":\"white\",\"landcolor\":\"#E5ECF6\",\"subunitcolor\":\"white\",\"showland\":true,\"showlakes\":true,\"lakecolor\":\"white\"},\"title\":{\"x\":0.05},\"mapbox\":{\"style\":\"light\"}}},\"xaxis\":{\"anchor\":\"y\",\"domain\":[0.0,1.0],\"title\":{\"text\":\"giv\"}},\"yaxis\":{\"anchor\":\"x\",\"domain\":[0.0,1.0],\"title\":{\"text\":\"diff\"},\"categoryorder\":\"total descending\"},\"legend\":{\"title\":{\"text\":\"th\"},\"tracegroupgap\":0},\"margin\":{\"t\":60},\"boxmode\":\"group\",\"width\":600,\"height\":600,\"showlegend\":false},                        {\"responsive\": true}                    ).then(function(){\n",
       "                            \n",
       "var gd = document.getElementById('3d2a1484-7e54-423e-acb5-522a052c8510');\n",
       "var x = new MutationObserver(function (mutations, observer) {{\n",
       "        var display = window.getComputedStyle(gd).display;\n",
       "        if (!display || display === 'none') {{\n",
       "            console.log([gd, 'removed!']);\n",
       "            Plotly.purge(gd);\n",
       "            observer.disconnect();\n",
       "        }}\n",
       "}});\n",
       "\n",
       "// Listen for the removal of the full notebook cells\n",
       "var notebookContainer = gd.closest('#notebook-container');\n",
       "if (notebookContainer) {{\n",
       "    x.observe(notebookContainer, {childList: true});\n",
       "}}\n",
       "\n",
       "// Listen for the clearing of the current output cell\n",
       "var outputEl = gd.closest('.output');\n",
       "if (outputEl) {{\n",
       "    x.observe(outputEl, {childList: true});\n",
       "}}\n",
       "\n",
       "                        })                };                });            </script>        </div>"
      ]
     },
     "metadata": {},
     "output_type": "display_data"
    }
   ],
   "source": [
    "color_palette = px.colors.qualitative.Safe\n",
    "fig = px.box(pd.concat(data_vis_pos, axis=0), \n",
    "             x=\"giv\", y=\"diff\", color=\"th\", points='all',\n",
    "             color_discrete_sequence=color_palette)\n",
    "fig.update_layout(yaxis={'categoryorder': 'total descending'})\n",
    "fig.update_layout(width=600, height=600, showlegend=False)\n",
    "fig.write_image(\"../visualisations/llm_pos_diff_giv_distinct_per_th.pdf\", format='pdf')\n",
    "fig.show()"
   ]
  },
  {
   "cell_type": "code",
   "execution_count": 281,
   "metadata": {},
   "outputs": [
    {
     "data": {
      "application/vnd.plotly.v1+json": {
       "config": {
        "plotlyServerURL": "https://plot.ly"
       },
       "data": [
        {
         "alignmentgroup": "True",
         "boxpoints": "all",
         "hovertemplate": "th=regular<br>giv=%{x}<br>diff=%{y}<extra></extra>",
         "legendgroup": "regular",
         "marker": {
          "color": "rgb(136, 204, 238)"
         },
         "name": "regular",
         "notched": false,
         "offsetgroup": "regular",
         "orientation": "v",
         "showlegend": true,
         "type": "box",
         "x": [
          "Degree_of_conflicting_interestsVariable",
          "Degree_of_conflicting_interestsVariable",
          "Degree_of_conflicting_interestsVariable",
          "Degree_of_conflicting_interestsVariable",
          "Degree_of_conflicting_interestsVariable",
          "TaxationVariable",
          "TaxationVariable",
          "TaxationVariable",
          "ExpectationsVariable",
          "SymmetryVariable",
          "SymmetryVariable",
          "SymmetryVariable",
          "SymmetryVariable",
          "SymmetryVariable",
          "IdentificationVariable",
          "IdentificationVariable",
          "IdentificationVariable",
          "IdentificationVariable",
          "IdentificationVariable"
         ],
         "x0": " ",
         "xaxis": "x",
         "y": [
          -38,
          -18,
          -21,
          1,
          1,
          -11,
          -1,
          -1,
          -12,
          -4,
          6,
          0,
          -24,
          0,
          -1,
          0,
          -2,
          -14,
          -1
         ],
         "y0": " ",
         "yaxis": "y"
        },
        {
         "alignmentgroup": "True",
         "boxpoints": "all",
         "hovertemplate": "th=study_mod<br>giv=%{x}<br>diff=%{y}<extra></extra>",
         "legendgroup": "study_mod",
         "marker": {
          "color": "rgb(204, 102, 119)"
         },
         "name": "study_mod",
         "notched": false,
         "offsetgroup": "study_mod",
         "orientation": "v",
         "showlegend": true,
         "type": "box",
         "x": [
          "MatchingVariable",
          "MatchingVariable",
          "MatchingVariable",
          "MatchingVariable",
          "MatchingVariable",
          "Degree_of_conflicting_interestsVariable",
          "Degree_of_conflicting_interestsVariable",
          "Degree_of_conflicting_interestsVariable",
          "Degree_of_conflicting_interestsVariable",
          "Degree_of_conflicting_interestsVariable",
          "TaxationVariable",
          "TaxationVariable",
          "TaxationVariable",
          "TaxationVariable",
          "TaxationVariable",
          "ExpectationsVariable",
          "ExpectationsVariable",
          "ExpectationsVariable",
          "ExpectationsVariable",
          "ExpectationsVariable",
          "SequentialityVariable",
          "SequentialityVariable",
          "SequentialityVariable",
          "SequentialityVariable",
          "SequentialityVariable"
         ],
         "x0": " ",
         "xaxis": "x",
         "y": [
          -1,
          -8,
          -8,
          -8,
          -8,
          7,
          -36,
          -34,
          -23,
          -17,
          -11,
          11,
          -8,
          -9,
          -11,
          -8,
          -3,
          -8,
          -8,
          -8,
          -1,
          -4,
          -5,
          -5,
          0
         ],
         "y0": " ",
         "yaxis": "y"
        },
        {
         "alignmentgroup": "True",
         "boxpoints": "all",
         "hovertemplate": "th=var_mod<br>giv=%{x}<br>diff=%{y}<extra></extra>",
         "legendgroup": "var_mod",
         "marker": {
          "color": "rgb(221, 204, 119)"
         },
         "name": "var_mod",
         "notched": false,
         "offsetgroup": "var_mod",
         "orientation": "v",
         "showlegend": true,
         "type": "box",
         "x": [
          "Game_DurationVariable",
          "EducationVariable",
          "ChoicesVariable",
          "ChoicesVariable",
          "ChoicesVariable",
          "ChoicesVariable",
          "ChoicesVariable",
          "Group_SizeVariable",
          "Group_SizeVariable",
          "Group_SizeVariable",
          "Group_SizeVariable",
          "Group_SizeVariable",
          "IdentificationVariable",
          "IdentificationVariable",
          "IdentificationVariable",
          "IdentificationVariable",
          "IdentificationVariable"
         ],
         "x0": " ",
         "xaxis": "x",
         "y": [
          0,
          0,
          0,
          0,
          0,
          0,
          -1,
          -13,
          0,
          -13,
          0,
          7,
          0,
          -2,
          -3,
          -3,
          0
         ],
         "y0": " ",
         "yaxis": "y"
        }
       ],
       "layout": {
        "boxmode": "group",
        "height": 600,
        "legend": {
         "title": {
          "text": "th"
         },
         "tracegroupgap": 0
        },
        "margin": {
         "t": 60
        },
        "showlegend": false,
        "template": {
         "data": {
          "bar": [
           {
            "error_x": {
             "color": "#2a3f5f"
            },
            "error_y": {
             "color": "#2a3f5f"
            },
            "marker": {
             "line": {
              "color": "#E5ECF6",
              "width": 0.5
             },
             "pattern": {
              "fillmode": "overlay",
              "size": 10,
              "solidity": 0.2
             }
            },
            "type": "bar"
           }
          ],
          "barpolar": [
           {
            "marker": {
             "line": {
              "color": "#E5ECF6",
              "width": 0.5
             },
             "pattern": {
              "fillmode": "overlay",
              "size": 10,
              "solidity": 0.2
             }
            },
            "type": "barpolar"
           }
          ],
          "carpet": [
           {
            "aaxis": {
             "endlinecolor": "#2a3f5f",
             "gridcolor": "white",
             "linecolor": "white",
             "minorgridcolor": "white",
             "startlinecolor": "#2a3f5f"
            },
            "baxis": {
             "endlinecolor": "#2a3f5f",
             "gridcolor": "white",
             "linecolor": "white",
             "minorgridcolor": "white",
             "startlinecolor": "#2a3f5f"
            },
            "type": "carpet"
           }
          ],
          "choropleth": [
           {
            "colorbar": {
             "outlinewidth": 0,
             "ticks": ""
            },
            "type": "choropleth"
           }
          ],
          "contour": [
           {
            "colorbar": {
             "outlinewidth": 0,
             "ticks": ""
            },
            "colorscale": [
             [
              0,
              "#0d0887"
             ],
             [
              0.1111111111111111,
              "#46039f"
             ],
             [
              0.2222222222222222,
              "#7201a8"
             ],
             [
              0.3333333333333333,
              "#9c179e"
             ],
             [
              0.4444444444444444,
              "#bd3786"
             ],
             [
              0.5555555555555556,
              "#d8576b"
             ],
             [
              0.6666666666666666,
              "#ed7953"
             ],
             [
              0.7777777777777778,
              "#fb9f3a"
             ],
             [
              0.8888888888888888,
              "#fdca26"
             ],
             [
              1,
              "#f0f921"
             ]
            ],
            "type": "contour"
           }
          ],
          "contourcarpet": [
           {
            "colorbar": {
             "outlinewidth": 0,
             "ticks": ""
            },
            "type": "contourcarpet"
           }
          ],
          "heatmap": [
           {
            "colorbar": {
             "outlinewidth": 0,
             "ticks": ""
            },
            "colorscale": [
             [
              0,
              "#0d0887"
             ],
             [
              0.1111111111111111,
              "#46039f"
             ],
             [
              0.2222222222222222,
              "#7201a8"
             ],
             [
              0.3333333333333333,
              "#9c179e"
             ],
             [
              0.4444444444444444,
              "#bd3786"
             ],
             [
              0.5555555555555556,
              "#d8576b"
             ],
             [
              0.6666666666666666,
              "#ed7953"
             ],
             [
              0.7777777777777778,
              "#fb9f3a"
             ],
             [
              0.8888888888888888,
              "#fdca26"
             ],
             [
              1,
              "#f0f921"
             ]
            ],
            "type": "heatmap"
           }
          ],
          "heatmapgl": [
           {
            "colorbar": {
             "outlinewidth": 0,
             "ticks": ""
            },
            "colorscale": [
             [
              0,
              "#0d0887"
             ],
             [
              0.1111111111111111,
              "#46039f"
             ],
             [
              0.2222222222222222,
              "#7201a8"
             ],
             [
              0.3333333333333333,
              "#9c179e"
             ],
             [
              0.4444444444444444,
              "#bd3786"
             ],
             [
              0.5555555555555556,
              "#d8576b"
             ],
             [
              0.6666666666666666,
              "#ed7953"
             ],
             [
              0.7777777777777778,
              "#fb9f3a"
             ],
             [
              0.8888888888888888,
              "#fdca26"
             ],
             [
              1,
              "#f0f921"
             ]
            ],
            "type": "heatmapgl"
           }
          ],
          "histogram": [
           {
            "marker": {
             "pattern": {
              "fillmode": "overlay",
              "size": 10,
              "solidity": 0.2
             }
            },
            "type": "histogram"
           }
          ],
          "histogram2d": [
           {
            "colorbar": {
             "outlinewidth": 0,
             "ticks": ""
            },
            "colorscale": [
             [
              0,
              "#0d0887"
             ],
             [
              0.1111111111111111,
              "#46039f"
             ],
             [
              0.2222222222222222,
              "#7201a8"
             ],
             [
              0.3333333333333333,
              "#9c179e"
             ],
             [
              0.4444444444444444,
              "#bd3786"
             ],
             [
              0.5555555555555556,
              "#d8576b"
             ],
             [
              0.6666666666666666,
              "#ed7953"
             ],
             [
              0.7777777777777778,
              "#fb9f3a"
             ],
             [
              0.8888888888888888,
              "#fdca26"
             ],
             [
              1,
              "#f0f921"
             ]
            ],
            "type": "histogram2d"
           }
          ],
          "histogram2dcontour": [
           {
            "colorbar": {
             "outlinewidth": 0,
             "ticks": ""
            },
            "colorscale": [
             [
              0,
              "#0d0887"
             ],
             [
              0.1111111111111111,
              "#46039f"
             ],
             [
              0.2222222222222222,
              "#7201a8"
             ],
             [
              0.3333333333333333,
              "#9c179e"
             ],
             [
              0.4444444444444444,
              "#bd3786"
             ],
             [
              0.5555555555555556,
              "#d8576b"
             ],
             [
              0.6666666666666666,
              "#ed7953"
             ],
             [
              0.7777777777777778,
              "#fb9f3a"
             ],
             [
              0.8888888888888888,
              "#fdca26"
             ],
             [
              1,
              "#f0f921"
             ]
            ],
            "type": "histogram2dcontour"
           }
          ],
          "mesh3d": [
           {
            "colorbar": {
             "outlinewidth": 0,
             "ticks": ""
            },
            "type": "mesh3d"
           }
          ],
          "parcoords": [
           {
            "line": {
             "colorbar": {
              "outlinewidth": 0,
              "ticks": ""
             }
            },
            "type": "parcoords"
           }
          ],
          "pie": [
           {
            "automargin": true,
            "type": "pie"
           }
          ],
          "scatter": [
           {
            "fillpattern": {
             "fillmode": "overlay",
             "size": 10,
             "solidity": 0.2
            },
            "type": "scatter"
           }
          ],
          "scatter3d": [
           {
            "line": {
             "colorbar": {
              "outlinewidth": 0,
              "ticks": ""
             }
            },
            "marker": {
             "colorbar": {
              "outlinewidth": 0,
              "ticks": ""
             }
            },
            "type": "scatter3d"
           }
          ],
          "scattercarpet": [
           {
            "marker": {
             "colorbar": {
              "outlinewidth": 0,
              "ticks": ""
             }
            },
            "type": "scattercarpet"
           }
          ],
          "scattergeo": [
           {
            "marker": {
             "colorbar": {
              "outlinewidth": 0,
              "ticks": ""
             }
            },
            "type": "scattergeo"
           }
          ],
          "scattergl": [
           {
            "marker": {
             "colorbar": {
              "outlinewidth": 0,
              "ticks": ""
             }
            },
            "type": "scattergl"
           }
          ],
          "scattermapbox": [
           {
            "marker": {
             "colorbar": {
              "outlinewidth": 0,
              "ticks": ""
             }
            },
            "type": "scattermapbox"
           }
          ],
          "scatterpolar": [
           {
            "marker": {
             "colorbar": {
              "outlinewidth": 0,
              "ticks": ""
             }
            },
            "type": "scatterpolar"
           }
          ],
          "scatterpolargl": [
           {
            "marker": {
             "colorbar": {
              "outlinewidth": 0,
              "ticks": ""
             }
            },
            "type": "scatterpolargl"
           }
          ],
          "scatterternary": [
           {
            "marker": {
             "colorbar": {
              "outlinewidth": 0,
              "ticks": ""
             }
            },
            "type": "scatterternary"
           }
          ],
          "surface": [
           {
            "colorbar": {
             "outlinewidth": 0,
             "ticks": ""
            },
            "colorscale": [
             [
              0,
              "#0d0887"
             ],
             [
              0.1111111111111111,
              "#46039f"
             ],
             [
              0.2222222222222222,
              "#7201a8"
             ],
             [
              0.3333333333333333,
              "#9c179e"
             ],
             [
              0.4444444444444444,
              "#bd3786"
             ],
             [
              0.5555555555555556,
              "#d8576b"
             ],
             [
              0.6666666666666666,
              "#ed7953"
             ],
             [
              0.7777777777777778,
              "#fb9f3a"
             ],
             [
              0.8888888888888888,
              "#fdca26"
             ],
             [
              1,
              "#f0f921"
             ]
            ],
            "type": "surface"
           }
          ],
          "table": [
           {
            "cells": {
             "fill": {
              "color": "#EBF0F8"
             },
             "line": {
              "color": "white"
             }
            },
            "header": {
             "fill": {
              "color": "#C8D4E3"
             },
             "line": {
              "color": "white"
             }
            },
            "type": "table"
           }
          ]
         },
         "layout": {
          "annotationdefaults": {
           "arrowcolor": "#2a3f5f",
           "arrowhead": 0,
           "arrowwidth": 1
          },
          "autotypenumbers": "strict",
          "coloraxis": {
           "colorbar": {
            "outlinewidth": 0,
            "ticks": ""
           }
          },
          "colorscale": {
           "diverging": [
            [
             0,
             "#8e0152"
            ],
            [
             0.1,
             "#c51b7d"
            ],
            [
             0.2,
             "#de77ae"
            ],
            [
             0.3,
             "#f1b6da"
            ],
            [
             0.4,
             "#fde0ef"
            ],
            [
             0.5,
             "#f7f7f7"
            ],
            [
             0.6,
             "#e6f5d0"
            ],
            [
             0.7,
             "#b8e186"
            ],
            [
             0.8,
             "#7fbc41"
            ],
            [
             0.9,
             "#4d9221"
            ],
            [
             1,
             "#276419"
            ]
           ],
           "sequential": [
            [
             0,
             "#0d0887"
            ],
            [
             0.1111111111111111,
             "#46039f"
            ],
            [
             0.2222222222222222,
             "#7201a8"
            ],
            [
             0.3333333333333333,
             "#9c179e"
            ],
            [
             0.4444444444444444,
             "#bd3786"
            ],
            [
             0.5555555555555556,
             "#d8576b"
            ],
            [
             0.6666666666666666,
             "#ed7953"
            ],
            [
             0.7777777777777778,
             "#fb9f3a"
            ],
            [
             0.8888888888888888,
             "#fdca26"
            ],
            [
             1,
             "#f0f921"
            ]
           ],
           "sequentialminus": [
            [
             0,
             "#0d0887"
            ],
            [
             0.1111111111111111,
             "#46039f"
            ],
            [
             0.2222222222222222,
             "#7201a8"
            ],
            [
             0.3333333333333333,
             "#9c179e"
            ],
            [
             0.4444444444444444,
             "#bd3786"
            ],
            [
             0.5555555555555556,
             "#d8576b"
            ],
            [
             0.6666666666666666,
             "#ed7953"
            ],
            [
             0.7777777777777778,
             "#fb9f3a"
            ],
            [
             0.8888888888888888,
             "#fdca26"
            ],
            [
             1,
             "#f0f921"
            ]
           ]
          },
          "colorway": [
           "#636efa",
           "#EF553B",
           "#00cc96",
           "#ab63fa",
           "#FFA15A",
           "#19d3f3",
           "#FF6692",
           "#B6E880",
           "#FF97FF",
           "#FECB52"
          ],
          "font": {
           "color": "#2a3f5f"
          },
          "geo": {
           "bgcolor": "white",
           "lakecolor": "white",
           "landcolor": "#E5ECF6",
           "showlakes": true,
           "showland": true,
           "subunitcolor": "white"
          },
          "hoverlabel": {
           "align": "left"
          },
          "hovermode": "closest",
          "mapbox": {
           "style": "light"
          },
          "paper_bgcolor": "white",
          "plot_bgcolor": "#E5ECF6",
          "polar": {
           "angularaxis": {
            "gridcolor": "white",
            "linecolor": "white",
            "ticks": ""
           },
           "bgcolor": "#E5ECF6",
           "radialaxis": {
            "gridcolor": "white",
            "linecolor": "white",
            "ticks": ""
           }
          },
          "scene": {
           "xaxis": {
            "backgroundcolor": "#E5ECF6",
            "gridcolor": "white",
            "gridwidth": 2,
            "linecolor": "white",
            "showbackground": true,
            "ticks": "",
            "zerolinecolor": "white"
           },
           "yaxis": {
            "backgroundcolor": "#E5ECF6",
            "gridcolor": "white",
            "gridwidth": 2,
            "linecolor": "white",
            "showbackground": true,
            "ticks": "",
            "zerolinecolor": "white"
           },
           "zaxis": {
            "backgroundcolor": "#E5ECF6",
            "gridcolor": "white",
            "gridwidth": 2,
            "linecolor": "white",
            "showbackground": true,
            "ticks": "",
            "zerolinecolor": "white"
           }
          },
          "shapedefaults": {
           "line": {
            "color": "#2a3f5f"
           }
          },
          "ternary": {
           "aaxis": {
            "gridcolor": "white",
            "linecolor": "white",
            "ticks": ""
           },
           "baxis": {
            "gridcolor": "white",
            "linecolor": "white",
            "ticks": ""
           },
           "bgcolor": "#E5ECF6",
           "caxis": {
            "gridcolor": "white",
            "linecolor": "white",
            "ticks": ""
           }
          },
          "title": {
           "x": 0.05
          },
          "xaxis": {
           "automargin": true,
           "gridcolor": "white",
           "linecolor": "white",
           "ticks": "",
           "title": {
            "standoff": 15
           },
           "zerolinecolor": "white",
           "zerolinewidth": 2
          },
          "yaxis": {
           "automargin": true,
           "gridcolor": "white",
           "linecolor": "white",
           "ticks": "",
           "title": {
            "standoff": 15
           },
           "zerolinecolor": "white",
           "zerolinewidth": 2
          }
         }
        },
        "width": 600,
        "xaxis": {
         "anchor": "y",
         "domain": [
          0,
          1
         ],
         "title": {
          "text": "giv"
         }
        },
        "yaxis": {
         "anchor": "x",
         "categoryorder": "total descending",
         "domain": [
          0,
          1
         ],
         "title": {
          "text": "diff"
         }
        }
       }
      },
      "text/html": [
       "<div>                            <div id=\"2bb826d9-610e-49df-906b-b2646d8f3794\" class=\"plotly-graph-div\" style=\"height:600px; width:600px;\"></div>            <script type=\"text/javascript\">                require([\"plotly\"], function(Plotly) {                    window.PLOTLYENV=window.PLOTLYENV || {};                                    if (document.getElementById(\"2bb826d9-610e-49df-906b-b2646d8f3794\")) {                    Plotly.newPlot(                        \"2bb826d9-610e-49df-906b-b2646d8f3794\",                        [{\"alignmentgroup\":\"True\",\"boxpoints\":\"all\",\"hovertemplate\":\"th=regular\\u003cbr\\u003egiv=%{x}\\u003cbr\\u003ediff=%{y}\\u003cextra\\u003e\\u003c\\u002fextra\\u003e\",\"legendgroup\":\"regular\",\"marker\":{\"color\":\"rgb(136, 204, 238)\"},\"name\":\"regular\",\"notched\":false,\"offsetgroup\":\"regular\",\"orientation\":\"v\",\"showlegend\":true,\"x\":[\"Degree_of_conflicting_interestsVariable\",\"Degree_of_conflicting_interestsVariable\",\"Degree_of_conflicting_interestsVariable\",\"Degree_of_conflicting_interestsVariable\",\"Degree_of_conflicting_interestsVariable\",\"TaxationVariable\",\"TaxationVariable\",\"TaxationVariable\",\"ExpectationsVariable\",\"SymmetryVariable\",\"SymmetryVariable\",\"SymmetryVariable\",\"SymmetryVariable\",\"SymmetryVariable\",\"IdentificationVariable\",\"IdentificationVariable\",\"IdentificationVariable\",\"IdentificationVariable\",\"IdentificationVariable\"],\"x0\":\" \",\"xaxis\":\"x\",\"y\":[-38,-18,-21,1,1,-11,-1,-1,-12,-4,6,0,-24,0,-1,0,-2,-14,-1],\"y0\":\" \",\"yaxis\":\"y\",\"type\":\"box\"},{\"alignmentgroup\":\"True\",\"boxpoints\":\"all\",\"hovertemplate\":\"th=study_mod\\u003cbr\\u003egiv=%{x}\\u003cbr\\u003ediff=%{y}\\u003cextra\\u003e\\u003c\\u002fextra\\u003e\",\"legendgroup\":\"study_mod\",\"marker\":{\"color\":\"rgb(204, 102, 119)\"},\"name\":\"study_mod\",\"notched\":false,\"offsetgroup\":\"study_mod\",\"orientation\":\"v\",\"showlegend\":true,\"x\":[\"MatchingVariable\",\"MatchingVariable\",\"MatchingVariable\",\"MatchingVariable\",\"MatchingVariable\",\"Degree_of_conflicting_interestsVariable\",\"Degree_of_conflicting_interestsVariable\",\"Degree_of_conflicting_interestsVariable\",\"Degree_of_conflicting_interestsVariable\",\"Degree_of_conflicting_interestsVariable\",\"TaxationVariable\",\"TaxationVariable\",\"TaxationVariable\",\"TaxationVariable\",\"TaxationVariable\",\"ExpectationsVariable\",\"ExpectationsVariable\",\"ExpectationsVariable\",\"ExpectationsVariable\",\"ExpectationsVariable\",\"SequentialityVariable\",\"SequentialityVariable\",\"SequentialityVariable\",\"SequentialityVariable\",\"SequentialityVariable\"],\"x0\":\" \",\"xaxis\":\"x\",\"y\":[-1,-8,-8,-8,-8,7,-36,-34,-23,-17,-11,11,-8,-9,-11,-8,-3,-8,-8,-8,-1,-4,-5,-5,0],\"y0\":\" \",\"yaxis\":\"y\",\"type\":\"box\"},{\"alignmentgroup\":\"True\",\"boxpoints\":\"all\",\"hovertemplate\":\"th=var_mod\\u003cbr\\u003egiv=%{x}\\u003cbr\\u003ediff=%{y}\\u003cextra\\u003e\\u003c\\u002fextra\\u003e\",\"legendgroup\":\"var_mod\",\"marker\":{\"color\":\"rgb(221, 204, 119)\"},\"name\":\"var_mod\",\"notched\":false,\"offsetgroup\":\"var_mod\",\"orientation\":\"v\",\"showlegend\":true,\"x\":[\"Game_DurationVariable\",\"EducationVariable\",\"ChoicesVariable\",\"ChoicesVariable\",\"ChoicesVariable\",\"ChoicesVariable\",\"ChoicesVariable\",\"Group_SizeVariable\",\"Group_SizeVariable\",\"Group_SizeVariable\",\"Group_SizeVariable\",\"Group_SizeVariable\",\"IdentificationVariable\",\"IdentificationVariable\",\"IdentificationVariable\",\"IdentificationVariable\",\"IdentificationVariable\"],\"x0\":\" \",\"xaxis\":\"x\",\"y\":[0,0,0,0,0,0,-1,-13,0,-13,0,7,0,-2,-3,-3,0],\"y0\":\" \",\"yaxis\":\"y\",\"type\":\"box\"}],                        {\"template\":{\"data\":{\"histogram2dcontour\":[{\"type\":\"histogram2dcontour\",\"colorbar\":{\"outlinewidth\":0,\"ticks\":\"\"},\"colorscale\":[[0.0,\"#0d0887\"],[0.1111111111111111,\"#46039f\"],[0.2222222222222222,\"#7201a8\"],[0.3333333333333333,\"#9c179e\"],[0.4444444444444444,\"#bd3786\"],[0.5555555555555556,\"#d8576b\"],[0.6666666666666666,\"#ed7953\"],[0.7777777777777778,\"#fb9f3a\"],[0.8888888888888888,\"#fdca26\"],[1.0,\"#f0f921\"]]}],\"choropleth\":[{\"type\":\"choropleth\",\"colorbar\":{\"outlinewidth\":0,\"ticks\":\"\"}}],\"histogram2d\":[{\"type\":\"histogram2d\",\"colorbar\":{\"outlinewidth\":0,\"ticks\":\"\"},\"colorscale\":[[0.0,\"#0d0887\"],[0.1111111111111111,\"#46039f\"],[0.2222222222222222,\"#7201a8\"],[0.3333333333333333,\"#9c179e\"],[0.4444444444444444,\"#bd3786\"],[0.5555555555555556,\"#d8576b\"],[0.6666666666666666,\"#ed7953\"],[0.7777777777777778,\"#fb9f3a\"],[0.8888888888888888,\"#fdca26\"],[1.0,\"#f0f921\"]]}],\"heatmap\":[{\"type\":\"heatmap\",\"colorbar\":{\"outlinewidth\":0,\"ticks\":\"\"},\"colorscale\":[[0.0,\"#0d0887\"],[0.1111111111111111,\"#46039f\"],[0.2222222222222222,\"#7201a8\"],[0.3333333333333333,\"#9c179e\"],[0.4444444444444444,\"#bd3786\"],[0.5555555555555556,\"#d8576b\"],[0.6666666666666666,\"#ed7953\"],[0.7777777777777778,\"#fb9f3a\"],[0.8888888888888888,\"#fdca26\"],[1.0,\"#f0f921\"]]}],\"heatmapgl\":[{\"type\":\"heatmapgl\",\"colorbar\":{\"outlinewidth\":0,\"ticks\":\"\"},\"colorscale\":[[0.0,\"#0d0887\"],[0.1111111111111111,\"#46039f\"],[0.2222222222222222,\"#7201a8\"],[0.3333333333333333,\"#9c179e\"],[0.4444444444444444,\"#bd3786\"],[0.5555555555555556,\"#d8576b\"],[0.6666666666666666,\"#ed7953\"],[0.7777777777777778,\"#fb9f3a\"],[0.8888888888888888,\"#fdca26\"],[1.0,\"#f0f921\"]]}],\"contourcarpet\":[{\"type\":\"contourcarpet\",\"colorbar\":{\"outlinewidth\":0,\"ticks\":\"\"}}],\"contour\":[{\"type\":\"contour\",\"colorbar\":{\"outlinewidth\":0,\"ticks\":\"\"},\"colorscale\":[[0.0,\"#0d0887\"],[0.1111111111111111,\"#46039f\"],[0.2222222222222222,\"#7201a8\"],[0.3333333333333333,\"#9c179e\"],[0.4444444444444444,\"#bd3786\"],[0.5555555555555556,\"#d8576b\"],[0.6666666666666666,\"#ed7953\"],[0.7777777777777778,\"#fb9f3a\"],[0.8888888888888888,\"#fdca26\"],[1.0,\"#f0f921\"]]}],\"surface\":[{\"type\":\"surface\",\"colorbar\":{\"outlinewidth\":0,\"ticks\":\"\"},\"colorscale\":[[0.0,\"#0d0887\"],[0.1111111111111111,\"#46039f\"],[0.2222222222222222,\"#7201a8\"],[0.3333333333333333,\"#9c179e\"],[0.4444444444444444,\"#bd3786\"],[0.5555555555555556,\"#d8576b\"],[0.6666666666666666,\"#ed7953\"],[0.7777777777777778,\"#fb9f3a\"],[0.8888888888888888,\"#fdca26\"],[1.0,\"#f0f921\"]]}],\"mesh3d\":[{\"type\":\"mesh3d\",\"colorbar\":{\"outlinewidth\":0,\"ticks\":\"\"}}],\"scatter\":[{\"fillpattern\":{\"fillmode\":\"overlay\",\"size\":10,\"solidity\":0.2},\"type\":\"scatter\"}],\"parcoords\":[{\"type\":\"parcoords\",\"line\":{\"colorbar\":{\"outlinewidth\":0,\"ticks\":\"\"}}}],\"scatterpolargl\":[{\"type\":\"scatterpolargl\",\"marker\":{\"colorbar\":{\"outlinewidth\":0,\"ticks\":\"\"}}}],\"bar\":[{\"error_x\":{\"color\":\"#2a3f5f\"},\"error_y\":{\"color\":\"#2a3f5f\"},\"marker\":{\"line\":{\"color\":\"#E5ECF6\",\"width\":0.5},\"pattern\":{\"fillmode\":\"overlay\",\"size\":10,\"solidity\":0.2}},\"type\":\"bar\"}],\"scattergeo\":[{\"type\":\"scattergeo\",\"marker\":{\"colorbar\":{\"outlinewidth\":0,\"ticks\":\"\"}}}],\"scatterpolar\":[{\"type\":\"scatterpolar\",\"marker\":{\"colorbar\":{\"outlinewidth\":0,\"ticks\":\"\"}}}],\"histogram\":[{\"marker\":{\"pattern\":{\"fillmode\":\"overlay\",\"size\":10,\"solidity\":0.2}},\"type\":\"histogram\"}],\"scattergl\":[{\"type\":\"scattergl\",\"marker\":{\"colorbar\":{\"outlinewidth\":0,\"ticks\":\"\"}}}],\"scatter3d\":[{\"type\":\"scatter3d\",\"line\":{\"colorbar\":{\"outlinewidth\":0,\"ticks\":\"\"}},\"marker\":{\"colorbar\":{\"outlinewidth\":0,\"ticks\":\"\"}}}],\"scattermapbox\":[{\"type\":\"scattermapbox\",\"marker\":{\"colorbar\":{\"outlinewidth\":0,\"ticks\":\"\"}}}],\"scatterternary\":[{\"type\":\"scatterternary\",\"marker\":{\"colorbar\":{\"outlinewidth\":0,\"ticks\":\"\"}}}],\"scattercarpet\":[{\"type\":\"scattercarpet\",\"marker\":{\"colorbar\":{\"outlinewidth\":0,\"ticks\":\"\"}}}],\"carpet\":[{\"aaxis\":{\"endlinecolor\":\"#2a3f5f\",\"gridcolor\":\"white\",\"linecolor\":\"white\",\"minorgridcolor\":\"white\",\"startlinecolor\":\"#2a3f5f\"},\"baxis\":{\"endlinecolor\":\"#2a3f5f\",\"gridcolor\":\"white\",\"linecolor\":\"white\",\"minorgridcolor\":\"white\",\"startlinecolor\":\"#2a3f5f\"},\"type\":\"carpet\"}],\"table\":[{\"cells\":{\"fill\":{\"color\":\"#EBF0F8\"},\"line\":{\"color\":\"white\"}},\"header\":{\"fill\":{\"color\":\"#C8D4E3\"},\"line\":{\"color\":\"white\"}},\"type\":\"table\"}],\"barpolar\":[{\"marker\":{\"line\":{\"color\":\"#E5ECF6\",\"width\":0.5},\"pattern\":{\"fillmode\":\"overlay\",\"size\":10,\"solidity\":0.2}},\"type\":\"barpolar\"}],\"pie\":[{\"automargin\":true,\"type\":\"pie\"}]},\"layout\":{\"autotypenumbers\":\"strict\",\"colorway\":[\"#636efa\",\"#EF553B\",\"#00cc96\",\"#ab63fa\",\"#FFA15A\",\"#19d3f3\",\"#FF6692\",\"#B6E880\",\"#FF97FF\",\"#FECB52\"],\"font\":{\"color\":\"#2a3f5f\"},\"hovermode\":\"closest\",\"hoverlabel\":{\"align\":\"left\"},\"paper_bgcolor\":\"white\",\"plot_bgcolor\":\"#E5ECF6\",\"polar\":{\"bgcolor\":\"#E5ECF6\",\"angularaxis\":{\"gridcolor\":\"white\",\"linecolor\":\"white\",\"ticks\":\"\"},\"radialaxis\":{\"gridcolor\":\"white\",\"linecolor\":\"white\",\"ticks\":\"\"}},\"ternary\":{\"bgcolor\":\"#E5ECF6\",\"aaxis\":{\"gridcolor\":\"white\",\"linecolor\":\"white\",\"ticks\":\"\"},\"baxis\":{\"gridcolor\":\"white\",\"linecolor\":\"white\",\"ticks\":\"\"},\"caxis\":{\"gridcolor\":\"white\",\"linecolor\":\"white\",\"ticks\":\"\"}},\"coloraxis\":{\"colorbar\":{\"outlinewidth\":0,\"ticks\":\"\"}},\"colorscale\":{\"sequential\":[[0.0,\"#0d0887\"],[0.1111111111111111,\"#46039f\"],[0.2222222222222222,\"#7201a8\"],[0.3333333333333333,\"#9c179e\"],[0.4444444444444444,\"#bd3786\"],[0.5555555555555556,\"#d8576b\"],[0.6666666666666666,\"#ed7953\"],[0.7777777777777778,\"#fb9f3a\"],[0.8888888888888888,\"#fdca26\"],[1.0,\"#f0f921\"]],\"sequentialminus\":[[0.0,\"#0d0887\"],[0.1111111111111111,\"#46039f\"],[0.2222222222222222,\"#7201a8\"],[0.3333333333333333,\"#9c179e\"],[0.4444444444444444,\"#bd3786\"],[0.5555555555555556,\"#d8576b\"],[0.6666666666666666,\"#ed7953\"],[0.7777777777777778,\"#fb9f3a\"],[0.8888888888888888,\"#fdca26\"],[1.0,\"#f0f921\"]],\"diverging\":[[0,\"#8e0152\"],[0.1,\"#c51b7d\"],[0.2,\"#de77ae\"],[0.3,\"#f1b6da\"],[0.4,\"#fde0ef\"],[0.5,\"#f7f7f7\"],[0.6,\"#e6f5d0\"],[0.7,\"#b8e186\"],[0.8,\"#7fbc41\"],[0.9,\"#4d9221\"],[1,\"#276419\"]]},\"xaxis\":{\"gridcolor\":\"white\",\"linecolor\":\"white\",\"ticks\":\"\",\"title\":{\"standoff\":15},\"zerolinecolor\":\"white\",\"automargin\":true,\"zerolinewidth\":2},\"yaxis\":{\"gridcolor\":\"white\",\"linecolor\":\"white\",\"ticks\":\"\",\"title\":{\"standoff\":15},\"zerolinecolor\":\"white\",\"automargin\":true,\"zerolinewidth\":2},\"scene\":{\"xaxis\":{\"backgroundcolor\":\"#E5ECF6\",\"gridcolor\":\"white\",\"linecolor\":\"white\",\"showbackground\":true,\"ticks\":\"\",\"zerolinecolor\":\"white\",\"gridwidth\":2},\"yaxis\":{\"backgroundcolor\":\"#E5ECF6\",\"gridcolor\":\"white\",\"linecolor\":\"white\",\"showbackground\":true,\"ticks\":\"\",\"zerolinecolor\":\"white\",\"gridwidth\":2},\"zaxis\":{\"backgroundcolor\":\"#E5ECF6\",\"gridcolor\":\"white\",\"linecolor\":\"white\",\"showbackground\":true,\"ticks\":\"\",\"zerolinecolor\":\"white\",\"gridwidth\":2}},\"shapedefaults\":{\"line\":{\"color\":\"#2a3f5f\"}},\"annotationdefaults\":{\"arrowcolor\":\"#2a3f5f\",\"arrowhead\":0,\"arrowwidth\":1},\"geo\":{\"bgcolor\":\"white\",\"landcolor\":\"#E5ECF6\",\"subunitcolor\":\"white\",\"showland\":true,\"showlakes\":true,\"lakecolor\":\"white\"},\"title\":{\"x\":0.05},\"mapbox\":{\"style\":\"light\"}}},\"xaxis\":{\"anchor\":\"y\",\"domain\":[0.0,1.0],\"title\":{\"text\":\"giv\"}},\"yaxis\":{\"anchor\":\"x\",\"domain\":[0.0,1.0],\"title\":{\"text\":\"diff\"},\"categoryorder\":\"total descending\"},\"legend\":{\"title\":{\"text\":\"th\"},\"tracegroupgap\":0},\"margin\":{\"t\":60},\"boxmode\":\"group\",\"width\":600,\"height\":600,\"showlegend\":false},                        {\"responsive\": true}                    ).then(function(){\n",
       "                            \n",
       "var gd = document.getElementById('2bb826d9-610e-49df-906b-b2646d8f3794');\n",
       "var x = new MutationObserver(function (mutations, observer) {{\n",
       "        var display = window.getComputedStyle(gd).display;\n",
       "        if (!display || display === 'none') {{\n",
       "            console.log([gd, 'removed!']);\n",
       "            Plotly.purge(gd);\n",
       "            observer.disconnect();\n",
       "        }}\n",
       "}});\n",
       "\n",
       "// Listen for the removal of the full notebook cells\n",
       "var notebookContainer = gd.closest('#notebook-container');\n",
       "if (notebookContainer) {{\n",
       "    x.observe(notebookContainer, {childList: true});\n",
       "}}\n",
       "\n",
       "// Listen for the clearing of the current output cell\n",
       "var outputEl = gd.closest('.output');\n",
       "if (outputEl) {{\n",
       "    x.observe(outputEl, {childList: true});\n",
       "}}\n",
       "\n",
       "                        })                };                });            </script>        </div>"
      ]
     },
     "metadata": {},
     "output_type": "display_data"
    }
   ],
   "source": [
    "color_palette = px.colors.qualitative.Safe\n",
    "fig = px.box(pd.concat(data_vis_neg, axis=0), \n",
    "             x=\"giv\", y=\"diff\", color=\"th\", points='all',\n",
    "             color_discrete_sequence=color_palette)\n",
    "fig.update_layout(yaxis={'categoryorder': 'total descending'})\n",
    "fig.update_layout(width=600, height=600, showlegend=False)\n",
    "fig.write_image(\"../visualisations/llm_neg_diff_giv_distinct_per_th.pdf\", format='pdf')\n",
    "fig.show()"
   ]
  },
  {
   "cell_type": "code",
   "execution_count": null,
   "metadata": {},
   "outputs": [],
   "source": []
  }
 ],
 "metadata": {
  "kernelspec": {
   "display_name": "coda_narratives",
   "language": "python",
   "name": "python3"
  },
  "language_info": {
   "codemirror_mode": {
    "name": "ipython",
    "version": 3
   },
   "file_extension": ".py",
   "mimetype": "text/x-python",
   "name": "python",
   "nbconvert_exporter": "python",
   "pygments_lexer": "ipython3",
   "version": "3.10.8"
  }
 },
 "nbformat": 4,
 "nbformat_minor": 2
}
