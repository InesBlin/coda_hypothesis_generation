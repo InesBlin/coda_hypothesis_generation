{
 "cells": [
  {
   "cell_type": "markdown",
   "metadata": {},
   "source": [
    "# Choosing User Studies GIV \n",
    "\n",
    "Based on quantitative criteria"
   ]
  },
  {
   "cell_type": "code",
   "execution_count": 18,
   "metadata": {},
   "outputs": [],
   "source": [
    "import os\n",
    "import json\n",
    "import random\n",
    "import textwrap\n",
    "import pandas as pd\n",
    "import plotly.express as px\n",
    "from IPython.display import display\n",
    "from kglab.helpers.kg_query import run_query\n",
    "from kglab.helpers.variables import HEADERS_CSV"
   ]
  },
  {
   "cell_type": "markdown",
   "metadata": {},
   "source": [
    "## Parameters \n",
    "Only change the `HYPOTHESIS` variable, can be one of the followings:\n",
    "[`regular`, `study_mod`, `variable_mod`]"
   ]
  },
  {
   "cell_type": "code",
   "execution_count": 19,
   "metadata": {},
   "outputs": [
    {
     "data": {
      "text/plain": [
       "{'classification': './classification/final/h_regular_es_d/outputs',\n",
       " 'llm_zero_shot_prompting': './llm_zero_shot_prompting/final/h_regular_es_d/outputs',\n",
       " 'anyburl': './anyburl/final/h_regular_es_d/outputs'}"
      ]
     },
     "execution_count": 19,
     "metadata": {},
     "output_type": "execute_result"
    }
   ],
   "source": [
    "HYPOTHESIS = \"regular\"\n",
    "ES = \"d\"\n",
    "METHODS = [\"classification\", \"llm_zero_shot_prompting\", \"anyburl\"]\n",
    "FOLDERS = {\n",
    "    m: f\"./{m}/final/h_{HYPOTHESIS}_es_{ES}/outputs\" for m in METHODS\n",
    "}\n",
    "FOLDERS"
   ]
  },
  {
   "cell_type": "markdown",
   "metadata": {},
   "source": [
    "## GIV where there is at least 5 hypotheses for each of the 3 methods"
   ]
  },
  {
   "cell_type": "code",
   "execution_count": 20,
   "metadata": {},
   "outputs": [
    {
     "data": {
      "text/html": [
       "<div>\n",
       "<style scoped>\n",
       "    .dataframe tbody tr th:only-of-type {\n",
       "        vertical-align: middle;\n",
       "    }\n",
       "\n",
       "    .dataframe tbody tr th {\n",
       "        vertical-align: top;\n",
       "    }\n",
       "\n",
       "    .dataframe thead th {\n",
       "        text-align: right;\n",
       "    }\n",
       "</style>\n",
       "<table border=\"1\" class=\"dataframe\">\n",
       "  <thead>\n",
       "    <tr style=\"text-align: right;\">\n",
       "      <th></th>\n",
       "      <th>method</th>\n",
       "      <th>giv</th>\n",
       "      <th>nb</th>\n",
       "    </tr>\n",
       "  </thead>\n",
       "  <tbody>\n",
       "    <tr>\n",
       "      <th>0</th>\n",
       "      <td>classification</td>\n",
       "      <td>Game_DurationVariable</td>\n",
       "      <td>1</td>\n",
       "    </tr>\n",
       "    <tr>\n",
       "      <th>1</th>\n",
       "      <td>classification</td>\n",
       "      <td>MatchingVariable</td>\n",
       "      <td>3</td>\n",
       "    </tr>\n",
       "    <tr>\n",
       "      <th>2</th>\n",
       "      <td>classification</td>\n",
       "      <td>EducationVariable</td>\n",
       "      <td>2</td>\n",
       "    </tr>\n",
       "    <tr>\n",
       "      <th>3</th>\n",
       "      <td>classification</td>\n",
       "      <td>AcquaintanceVariable</td>\n",
       "      <td>2</td>\n",
       "    </tr>\n",
       "    <tr>\n",
       "      <th>4</th>\n",
       "      <td>classification</td>\n",
       "      <td>ChoicesVariable</td>\n",
       "      <td>1</td>\n",
       "    </tr>\n",
       "  </tbody>\n",
       "</table>\n",
       "</div>"
      ],
      "text/plain": [
       "           method                    giv  nb\n",
       "0  classification  Game_DurationVariable   1\n",
       "1  classification       MatchingVariable   3\n",
       "2  classification      EducationVariable   2\n",
       "3  classification   AcquaintanceVariable   2\n",
       "4  classification        ChoicesVariable   1"
      ]
     },
     "execution_count": 20,
     "metadata": {},
     "output_type": "execute_result"
    }
   ],
   "source": [
    "def get_nb_h(method, folder):\n",
    "    \"\"\" Get nb of hypotheses per method per giv \"\"\"\n",
    "    files = [x for x in os.listdir(folder) if x.endswith(\".csv\")]\n",
    "    res = []\n",
    "    for f in files:\n",
    "        data = pd.read_csv(os.path.join(folder, f), index_col=0)\n",
    "        res.append((method, f.replace(\".csv\", \"\"), data.shape[0]))\n",
    "    return pd.DataFrame(res, columns=[\"method\", \"giv\", \"nb\"])\n",
    "\n",
    "info_h = pd.concat([get_nb_h(m, f) for m, f in FOLDERS.items()])\n",
    "info_h.head(5)"
   ]
  },
  {
   "cell_type": "code",
   "execution_count": 21,
   "metadata": {},
   "outputs": [
    {
     "data": {
      "application/vnd.plotly.v1+json": {
       "config": {
        "plotlyServerURL": "https://plot.ly"
       },
       "data": [
        {
         "alignmentgroup": "True",
         "bingroup": "x",
         "hovertemplate": "method=classification<br>nb=%{x}<br>count=%{y}<extra></extra>",
         "legendgroup": "classification",
         "marker": {
          "color": "#636efa",
          "pattern": {
           "shape": ""
          }
         },
         "name": "classification",
         "nbinsx": 50,
         "offsetgroup": "classification",
         "orientation": "v",
         "showlegend": true,
         "type": "histogram",
         "x": [
          1,
          3,
          2,
          2,
          1,
          10,
          4,
          4,
          3,
          3,
          3,
          2,
          5,
          15,
          1,
          2,
          3,
          11,
          18,
          13,
          12,
          11,
          1,
          28,
          1,
          2,
          2,
          11,
          10,
          2,
          2,
          2,
          1,
          6,
          4,
          4,
          4,
          2,
          8,
          2,
          17,
          2,
          3,
          3,
          2,
          3,
          14
         ],
         "xaxis": "x",
         "yaxis": "y"
        },
        {
         "alignmentgroup": "True",
         "bingroup": "x",
         "hovertemplate": "method=llm_zero_shot_prompting<br>nb=%{x}<br>count=%{y}<extra></extra>",
         "legendgroup": "llm_zero_shot_prompting",
         "marker": {
          "color": "#EF553B",
          "pattern": {
           "shape": ""
          }
         },
         "name": "llm_zero_shot_prompting",
         "nbinsx": 50,
         "offsetgroup": "llm_zero_shot_prompting",
         "orientation": "v",
         "showlegend": true,
         "type": "histogram",
         "x": [
          5,
          4,
          5,
          5,
          5,
          2,
          5,
          5,
          3,
          5,
          5,
          5,
          5,
          5,
          5,
          5,
          5,
          5,
          2,
          5,
          3,
          5,
          5,
          3,
          2,
          5,
          5,
          5,
          1,
          4,
          5,
          3,
          5,
          3,
          4,
          5,
          5,
          1,
          1,
          5,
          1,
          5,
          5,
          5,
          5,
          5,
          5,
          5,
          5,
          5,
          5,
          4,
          5,
          3,
          3,
          1,
          5,
          5
         ],
         "xaxis": "x",
         "yaxis": "y"
        },
        {
         "alignmentgroup": "True",
         "bingroup": "x",
         "hovertemplate": "method=anyburl<br>nb=%{x}<br>count=%{y}<extra></extra>",
         "legendgroup": "anyburl",
         "marker": {
          "color": "#00cc96",
          "pattern": {
           "shape": ""
          }
         },
         "name": "anyburl",
         "nbinsx": 50,
         "offsetgroup": "anyburl",
         "orientation": "v",
         "showlegend": true,
         "type": "histogram",
         "x": [
          2,
          2,
          1,
          1,
          13,
          4,
          3,
          2,
          4,
          3,
          2,
          11,
          14,
          1,
          2,
          9,
          2,
          21,
          2,
          1,
          18,
          12,
          10,
          28,
          2,
          1,
          1,
          10,
          9,
          1,
          1,
          1,
          2,
          5,
          6,
          2,
          3,
          8,
          1,
          8,
          1,
          16,
          1,
          1,
          3,
          2,
          17,
          12
         ],
         "xaxis": "x",
         "yaxis": "y"
        }
       ],
       "layout": {
        "barmode": "relative",
        "legend": {
         "title": {
          "text": "method"
         },
         "tracegroupgap": 0
        },
        "margin": {
         "t": 60
        },
        "template": {
         "data": {
          "bar": [
           {
            "error_x": {
             "color": "#2a3f5f"
            },
            "error_y": {
             "color": "#2a3f5f"
            },
            "marker": {
             "line": {
              "color": "#E5ECF6",
              "width": 0.5
             },
             "pattern": {
              "fillmode": "overlay",
              "size": 10,
              "solidity": 0.2
             }
            },
            "type": "bar"
           }
          ],
          "barpolar": [
           {
            "marker": {
             "line": {
              "color": "#E5ECF6",
              "width": 0.5
             },
             "pattern": {
              "fillmode": "overlay",
              "size": 10,
              "solidity": 0.2
             }
            },
            "type": "barpolar"
           }
          ],
          "carpet": [
           {
            "aaxis": {
             "endlinecolor": "#2a3f5f",
             "gridcolor": "white",
             "linecolor": "white",
             "minorgridcolor": "white",
             "startlinecolor": "#2a3f5f"
            },
            "baxis": {
             "endlinecolor": "#2a3f5f",
             "gridcolor": "white",
             "linecolor": "white",
             "minorgridcolor": "white",
             "startlinecolor": "#2a3f5f"
            },
            "type": "carpet"
           }
          ],
          "choropleth": [
           {
            "colorbar": {
             "outlinewidth": 0,
             "ticks": ""
            },
            "type": "choropleth"
           }
          ],
          "contour": [
           {
            "colorbar": {
             "outlinewidth": 0,
             "ticks": ""
            },
            "colorscale": [
             [
              0,
              "#0d0887"
             ],
             [
              0.1111111111111111,
              "#46039f"
             ],
             [
              0.2222222222222222,
              "#7201a8"
             ],
             [
              0.3333333333333333,
              "#9c179e"
             ],
             [
              0.4444444444444444,
              "#bd3786"
             ],
             [
              0.5555555555555556,
              "#d8576b"
             ],
             [
              0.6666666666666666,
              "#ed7953"
             ],
             [
              0.7777777777777778,
              "#fb9f3a"
             ],
             [
              0.8888888888888888,
              "#fdca26"
             ],
             [
              1,
              "#f0f921"
             ]
            ],
            "type": "contour"
           }
          ],
          "contourcarpet": [
           {
            "colorbar": {
             "outlinewidth": 0,
             "ticks": ""
            },
            "type": "contourcarpet"
           }
          ],
          "heatmap": [
           {
            "colorbar": {
             "outlinewidth": 0,
             "ticks": ""
            },
            "colorscale": [
             [
              0,
              "#0d0887"
             ],
             [
              0.1111111111111111,
              "#46039f"
             ],
             [
              0.2222222222222222,
              "#7201a8"
             ],
             [
              0.3333333333333333,
              "#9c179e"
             ],
             [
              0.4444444444444444,
              "#bd3786"
             ],
             [
              0.5555555555555556,
              "#d8576b"
             ],
             [
              0.6666666666666666,
              "#ed7953"
             ],
             [
              0.7777777777777778,
              "#fb9f3a"
             ],
             [
              0.8888888888888888,
              "#fdca26"
             ],
             [
              1,
              "#f0f921"
             ]
            ],
            "type": "heatmap"
           }
          ],
          "heatmapgl": [
           {
            "colorbar": {
             "outlinewidth": 0,
             "ticks": ""
            },
            "colorscale": [
             [
              0,
              "#0d0887"
             ],
             [
              0.1111111111111111,
              "#46039f"
             ],
             [
              0.2222222222222222,
              "#7201a8"
             ],
             [
              0.3333333333333333,
              "#9c179e"
             ],
             [
              0.4444444444444444,
              "#bd3786"
             ],
             [
              0.5555555555555556,
              "#d8576b"
             ],
             [
              0.6666666666666666,
              "#ed7953"
             ],
             [
              0.7777777777777778,
              "#fb9f3a"
             ],
             [
              0.8888888888888888,
              "#fdca26"
             ],
             [
              1,
              "#f0f921"
             ]
            ],
            "type": "heatmapgl"
           }
          ],
          "histogram": [
           {
            "marker": {
             "pattern": {
              "fillmode": "overlay",
              "size": 10,
              "solidity": 0.2
             }
            },
            "type": "histogram"
           }
          ],
          "histogram2d": [
           {
            "colorbar": {
             "outlinewidth": 0,
             "ticks": ""
            },
            "colorscale": [
             [
              0,
              "#0d0887"
             ],
             [
              0.1111111111111111,
              "#46039f"
             ],
             [
              0.2222222222222222,
              "#7201a8"
             ],
             [
              0.3333333333333333,
              "#9c179e"
             ],
             [
              0.4444444444444444,
              "#bd3786"
             ],
             [
              0.5555555555555556,
              "#d8576b"
             ],
             [
              0.6666666666666666,
              "#ed7953"
             ],
             [
              0.7777777777777778,
              "#fb9f3a"
             ],
             [
              0.8888888888888888,
              "#fdca26"
             ],
             [
              1,
              "#f0f921"
             ]
            ],
            "type": "histogram2d"
           }
          ],
          "histogram2dcontour": [
           {
            "colorbar": {
             "outlinewidth": 0,
             "ticks": ""
            },
            "colorscale": [
             [
              0,
              "#0d0887"
             ],
             [
              0.1111111111111111,
              "#46039f"
             ],
             [
              0.2222222222222222,
              "#7201a8"
             ],
             [
              0.3333333333333333,
              "#9c179e"
             ],
             [
              0.4444444444444444,
              "#bd3786"
             ],
             [
              0.5555555555555556,
              "#d8576b"
             ],
             [
              0.6666666666666666,
              "#ed7953"
             ],
             [
              0.7777777777777778,
              "#fb9f3a"
             ],
             [
              0.8888888888888888,
              "#fdca26"
             ],
             [
              1,
              "#f0f921"
             ]
            ],
            "type": "histogram2dcontour"
           }
          ],
          "mesh3d": [
           {
            "colorbar": {
             "outlinewidth": 0,
             "ticks": ""
            },
            "type": "mesh3d"
           }
          ],
          "parcoords": [
           {
            "line": {
             "colorbar": {
              "outlinewidth": 0,
              "ticks": ""
             }
            },
            "type": "parcoords"
           }
          ],
          "pie": [
           {
            "automargin": true,
            "type": "pie"
           }
          ],
          "scatter": [
           {
            "fillpattern": {
             "fillmode": "overlay",
             "size": 10,
             "solidity": 0.2
            },
            "type": "scatter"
           }
          ],
          "scatter3d": [
           {
            "line": {
             "colorbar": {
              "outlinewidth": 0,
              "ticks": ""
             }
            },
            "marker": {
             "colorbar": {
              "outlinewidth": 0,
              "ticks": ""
             }
            },
            "type": "scatter3d"
           }
          ],
          "scattercarpet": [
           {
            "marker": {
             "colorbar": {
              "outlinewidth": 0,
              "ticks": ""
             }
            },
            "type": "scattercarpet"
           }
          ],
          "scattergeo": [
           {
            "marker": {
             "colorbar": {
              "outlinewidth": 0,
              "ticks": ""
             }
            },
            "type": "scattergeo"
           }
          ],
          "scattergl": [
           {
            "marker": {
             "colorbar": {
              "outlinewidth": 0,
              "ticks": ""
             }
            },
            "type": "scattergl"
           }
          ],
          "scattermapbox": [
           {
            "marker": {
             "colorbar": {
              "outlinewidth": 0,
              "ticks": ""
             }
            },
            "type": "scattermapbox"
           }
          ],
          "scatterpolar": [
           {
            "marker": {
             "colorbar": {
              "outlinewidth": 0,
              "ticks": ""
             }
            },
            "type": "scatterpolar"
           }
          ],
          "scatterpolargl": [
           {
            "marker": {
             "colorbar": {
              "outlinewidth": 0,
              "ticks": ""
             }
            },
            "type": "scatterpolargl"
           }
          ],
          "scatterternary": [
           {
            "marker": {
             "colorbar": {
              "outlinewidth": 0,
              "ticks": ""
             }
            },
            "type": "scatterternary"
           }
          ],
          "surface": [
           {
            "colorbar": {
             "outlinewidth": 0,
             "ticks": ""
            },
            "colorscale": [
             [
              0,
              "#0d0887"
             ],
             [
              0.1111111111111111,
              "#46039f"
             ],
             [
              0.2222222222222222,
              "#7201a8"
             ],
             [
              0.3333333333333333,
              "#9c179e"
             ],
             [
              0.4444444444444444,
              "#bd3786"
             ],
             [
              0.5555555555555556,
              "#d8576b"
             ],
             [
              0.6666666666666666,
              "#ed7953"
             ],
             [
              0.7777777777777778,
              "#fb9f3a"
             ],
             [
              0.8888888888888888,
              "#fdca26"
             ],
             [
              1,
              "#f0f921"
             ]
            ],
            "type": "surface"
           }
          ],
          "table": [
           {
            "cells": {
             "fill": {
              "color": "#EBF0F8"
             },
             "line": {
              "color": "white"
             }
            },
            "header": {
             "fill": {
              "color": "#C8D4E3"
             },
             "line": {
              "color": "white"
             }
            },
            "type": "table"
           }
          ]
         },
         "layout": {
          "annotationdefaults": {
           "arrowcolor": "#2a3f5f",
           "arrowhead": 0,
           "arrowwidth": 1
          },
          "autotypenumbers": "strict",
          "coloraxis": {
           "colorbar": {
            "outlinewidth": 0,
            "ticks": ""
           }
          },
          "colorscale": {
           "diverging": [
            [
             0,
             "#8e0152"
            ],
            [
             0.1,
             "#c51b7d"
            ],
            [
             0.2,
             "#de77ae"
            ],
            [
             0.3,
             "#f1b6da"
            ],
            [
             0.4,
             "#fde0ef"
            ],
            [
             0.5,
             "#f7f7f7"
            ],
            [
             0.6,
             "#e6f5d0"
            ],
            [
             0.7,
             "#b8e186"
            ],
            [
             0.8,
             "#7fbc41"
            ],
            [
             0.9,
             "#4d9221"
            ],
            [
             1,
             "#276419"
            ]
           ],
           "sequential": [
            [
             0,
             "#0d0887"
            ],
            [
             0.1111111111111111,
             "#46039f"
            ],
            [
             0.2222222222222222,
             "#7201a8"
            ],
            [
             0.3333333333333333,
             "#9c179e"
            ],
            [
             0.4444444444444444,
             "#bd3786"
            ],
            [
             0.5555555555555556,
             "#d8576b"
            ],
            [
             0.6666666666666666,
             "#ed7953"
            ],
            [
             0.7777777777777778,
             "#fb9f3a"
            ],
            [
             0.8888888888888888,
             "#fdca26"
            ],
            [
             1,
             "#f0f921"
            ]
           ],
           "sequentialminus": [
            [
             0,
             "#0d0887"
            ],
            [
             0.1111111111111111,
             "#46039f"
            ],
            [
             0.2222222222222222,
             "#7201a8"
            ],
            [
             0.3333333333333333,
             "#9c179e"
            ],
            [
             0.4444444444444444,
             "#bd3786"
            ],
            [
             0.5555555555555556,
             "#d8576b"
            ],
            [
             0.6666666666666666,
             "#ed7953"
            ],
            [
             0.7777777777777778,
             "#fb9f3a"
            ],
            [
             0.8888888888888888,
             "#fdca26"
            ],
            [
             1,
             "#f0f921"
            ]
           ]
          },
          "colorway": [
           "#636efa",
           "#EF553B",
           "#00cc96",
           "#ab63fa",
           "#FFA15A",
           "#19d3f3",
           "#FF6692",
           "#B6E880",
           "#FF97FF",
           "#FECB52"
          ],
          "font": {
           "color": "#2a3f5f"
          },
          "geo": {
           "bgcolor": "white",
           "lakecolor": "white",
           "landcolor": "#E5ECF6",
           "showlakes": true,
           "showland": true,
           "subunitcolor": "white"
          },
          "hoverlabel": {
           "align": "left"
          },
          "hovermode": "closest",
          "mapbox": {
           "style": "light"
          },
          "paper_bgcolor": "white",
          "plot_bgcolor": "#E5ECF6",
          "polar": {
           "angularaxis": {
            "gridcolor": "white",
            "linecolor": "white",
            "ticks": ""
           },
           "bgcolor": "#E5ECF6",
           "radialaxis": {
            "gridcolor": "white",
            "linecolor": "white",
            "ticks": ""
           }
          },
          "scene": {
           "xaxis": {
            "backgroundcolor": "#E5ECF6",
            "gridcolor": "white",
            "gridwidth": 2,
            "linecolor": "white",
            "showbackground": true,
            "ticks": "",
            "zerolinecolor": "white"
           },
           "yaxis": {
            "backgroundcolor": "#E5ECF6",
            "gridcolor": "white",
            "gridwidth": 2,
            "linecolor": "white",
            "showbackground": true,
            "ticks": "",
            "zerolinecolor": "white"
           },
           "zaxis": {
            "backgroundcolor": "#E5ECF6",
            "gridcolor": "white",
            "gridwidth": 2,
            "linecolor": "white",
            "showbackground": true,
            "ticks": "",
            "zerolinecolor": "white"
           }
          },
          "shapedefaults": {
           "line": {
            "color": "#2a3f5f"
           }
          },
          "ternary": {
           "aaxis": {
            "gridcolor": "white",
            "linecolor": "white",
            "ticks": ""
           },
           "baxis": {
            "gridcolor": "white",
            "linecolor": "white",
            "ticks": ""
           },
           "bgcolor": "#E5ECF6",
           "caxis": {
            "gridcolor": "white",
            "linecolor": "white",
            "ticks": ""
           }
          },
          "title": {
           "x": 0.05
          },
          "xaxis": {
           "automargin": true,
           "gridcolor": "white",
           "linecolor": "white",
           "ticks": "",
           "title": {
            "standoff": 15
           },
           "zerolinecolor": "white",
           "zerolinewidth": 2
          },
          "yaxis": {
           "automargin": true,
           "gridcolor": "white",
           "linecolor": "white",
           "ticks": "",
           "title": {
            "standoff": 15
           },
           "zerolinecolor": "white",
           "zerolinewidth": 2
          }
         }
        },
        "xaxis": {
         "anchor": "y",
         "domain": [
          0,
          1
         ],
         "title": {
          "text": "nb"
         }
        },
        "yaxis": {
         "anchor": "x",
         "domain": [
          0,
          1
         ],
         "title": {
          "text": "count"
         }
        }
       }
      },
      "text/html": [
       "<div>                            <div id=\"f36eb9da-3877-4f64-92cb-25af6af77f7c\" class=\"plotly-graph-div\" style=\"height:525px; width:100%;\"></div>            <script type=\"text/javascript\">                require([\"plotly\"], function(Plotly) {                    window.PLOTLYENV=window.PLOTLYENV || {};                                    if (document.getElementById(\"f36eb9da-3877-4f64-92cb-25af6af77f7c\")) {                    Plotly.newPlot(                        \"f36eb9da-3877-4f64-92cb-25af6af77f7c\",                        [{\"alignmentgroup\":\"True\",\"bingroup\":\"x\",\"hovertemplate\":\"method=classification\\u003cbr\\u003enb=%{x}\\u003cbr\\u003ecount=%{y}\\u003cextra\\u003e\\u003c\\u002fextra\\u003e\",\"legendgroup\":\"classification\",\"marker\":{\"color\":\"#636efa\",\"pattern\":{\"shape\":\"\"}},\"name\":\"classification\",\"nbinsx\":50,\"offsetgroup\":\"classification\",\"orientation\":\"v\",\"showlegend\":true,\"x\":[1,3,2,2,1,10,4,4,3,3,3,2,5,15,1,2,3,11,18,13,12,11,1,28,1,2,2,11,10,2,2,2,1,6,4,4,4,2,8,2,17,2,3,3,2,3,14],\"xaxis\":\"x\",\"yaxis\":\"y\",\"type\":\"histogram\"},{\"alignmentgroup\":\"True\",\"bingroup\":\"x\",\"hovertemplate\":\"method=llm_zero_shot_prompting\\u003cbr\\u003enb=%{x}\\u003cbr\\u003ecount=%{y}\\u003cextra\\u003e\\u003c\\u002fextra\\u003e\",\"legendgroup\":\"llm_zero_shot_prompting\",\"marker\":{\"color\":\"#EF553B\",\"pattern\":{\"shape\":\"\"}},\"name\":\"llm_zero_shot_prompting\",\"nbinsx\":50,\"offsetgroup\":\"llm_zero_shot_prompting\",\"orientation\":\"v\",\"showlegend\":true,\"x\":[5,4,5,5,5,2,5,5,3,5,5,5,5,5,5,5,5,5,2,5,3,5,5,3,2,5,5,5,1,4,5,3,5,3,4,5,5,1,1,5,1,5,5,5,5,5,5,5,5,5,5,4,5,3,3,1,5,5],\"xaxis\":\"x\",\"yaxis\":\"y\",\"type\":\"histogram\"},{\"alignmentgroup\":\"True\",\"bingroup\":\"x\",\"hovertemplate\":\"method=anyburl\\u003cbr\\u003enb=%{x}\\u003cbr\\u003ecount=%{y}\\u003cextra\\u003e\\u003c\\u002fextra\\u003e\",\"legendgroup\":\"anyburl\",\"marker\":{\"color\":\"#00cc96\",\"pattern\":{\"shape\":\"\"}},\"name\":\"anyburl\",\"nbinsx\":50,\"offsetgroup\":\"anyburl\",\"orientation\":\"v\",\"showlegend\":true,\"x\":[2,2,1,1,13,4,3,2,4,3,2,11,14,1,2,9,2,21,2,1,18,12,10,28,2,1,1,10,9,1,1,1,2,5,6,2,3,8,1,8,1,16,1,1,3,2,17,12],\"xaxis\":\"x\",\"yaxis\":\"y\",\"type\":\"histogram\"}],                        {\"template\":{\"data\":{\"histogram2dcontour\":[{\"type\":\"histogram2dcontour\",\"colorbar\":{\"outlinewidth\":0,\"ticks\":\"\"},\"colorscale\":[[0.0,\"#0d0887\"],[0.1111111111111111,\"#46039f\"],[0.2222222222222222,\"#7201a8\"],[0.3333333333333333,\"#9c179e\"],[0.4444444444444444,\"#bd3786\"],[0.5555555555555556,\"#d8576b\"],[0.6666666666666666,\"#ed7953\"],[0.7777777777777778,\"#fb9f3a\"],[0.8888888888888888,\"#fdca26\"],[1.0,\"#f0f921\"]]}],\"choropleth\":[{\"type\":\"choropleth\",\"colorbar\":{\"outlinewidth\":0,\"ticks\":\"\"}}],\"histogram2d\":[{\"type\":\"histogram2d\",\"colorbar\":{\"outlinewidth\":0,\"ticks\":\"\"},\"colorscale\":[[0.0,\"#0d0887\"],[0.1111111111111111,\"#46039f\"],[0.2222222222222222,\"#7201a8\"],[0.3333333333333333,\"#9c179e\"],[0.4444444444444444,\"#bd3786\"],[0.5555555555555556,\"#d8576b\"],[0.6666666666666666,\"#ed7953\"],[0.7777777777777778,\"#fb9f3a\"],[0.8888888888888888,\"#fdca26\"],[1.0,\"#f0f921\"]]}],\"heatmap\":[{\"type\":\"heatmap\",\"colorbar\":{\"outlinewidth\":0,\"ticks\":\"\"},\"colorscale\":[[0.0,\"#0d0887\"],[0.1111111111111111,\"#46039f\"],[0.2222222222222222,\"#7201a8\"],[0.3333333333333333,\"#9c179e\"],[0.4444444444444444,\"#bd3786\"],[0.5555555555555556,\"#d8576b\"],[0.6666666666666666,\"#ed7953\"],[0.7777777777777778,\"#fb9f3a\"],[0.8888888888888888,\"#fdca26\"],[1.0,\"#f0f921\"]]}],\"heatmapgl\":[{\"type\":\"heatmapgl\",\"colorbar\":{\"outlinewidth\":0,\"ticks\":\"\"},\"colorscale\":[[0.0,\"#0d0887\"],[0.1111111111111111,\"#46039f\"],[0.2222222222222222,\"#7201a8\"],[0.3333333333333333,\"#9c179e\"],[0.4444444444444444,\"#bd3786\"],[0.5555555555555556,\"#d8576b\"],[0.6666666666666666,\"#ed7953\"],[0.7777777777777778,\"#fb9f3a\"],[0.8888888888888888,\"#fdca26\"],[1.0,\"#f0f921\"]]}],\"contourcarpet\":[{\"type\":\"contourcarpet\",\"colorbar\":{\"outlinewidth\":0,\"ticks\":\"\"}}],\"contour\":[{\"type\":\"contour\",\"colorbar\":{\"outlinewidth\":0,\"ticks\":\"\"},\"colorscale\":[[0.0,\"#0d0887\"],[0.1111111111111111,\"#46039f\"],[0.2222222222222222,\"#7201a8\"],[0.3333333333333333,\"#9c179e\"],[0.4444444444444444,\"#bd3786\"],[0.5555555555555556,\"#d8576b\"],[0.6666666666666666,\"#ed7953\"],[0.7777777777777778,\"#fb9f3a\"],[0.8888888888888888,\"#fdca26\"],[1.0,\"#f0f921\"]]}],\"surface\":[{\"type\":\"surface\",\"colorbar\":{\"outlinewidth\":0,\"ticks\":\"\"},\"colorscale\":[[0.0,\"#0d0887\"],[0.1111111111111111,\"#46039f\"],[0.2222222222222222,\"#7201a8\"],[0.3333333333333333,\"#9c179e\"],[0.4444444444444444,\"#bd3786\"],[0.5555555555555556,\"#d8576b\"],[0.6666666666666666,\"#ed7953\"],[0.7777777777777778,\"#fb9f3a\"],[0.8888888888888888,\"#fdca26\"],[1.0,\"#f0f921\"]]}],\"mesh3d\":[{\"type\":\"mesh3d\",\"colorbar\":{\"outlinewidth\":0,\"ticks\":\"\"}}],\"scatter\":[{\"fillpattern\":{\"fillmode\":\"overlay\",\"size\":10,\"solidity\":0.2},\"type\":\"scatter\"}],\"parcoords\":[{\"type\":\"parcoords\",\"line\":{\"colorbar\":{\"outlinewidth\":0,\"ticks\":\"\"}}}],\"scatterpolargl\":[{\"type\":\"scatterpolargl\",\"marker\":{\"colorbar\":{\"outlinewidth\":0,\"ticks\":\"\"}}}],\"bar\":[{\"error_x\":{\"color\":\"#2a3f5f\"},\"error_y\":{\"color\":\"#2a3f5f\"},\"marker\":{\"line\":{\"color\":\"#E5ECF6\",\"width\":0.5},\"pattern\":{\"fillmode\":\"overlay\",\"size\":10,\"solidity\":0.2}},\"type\":\"bar\"}],\"scattergeo\":[{\"type\":\"scattergeo\",\"marker\":{\"colorbar\":{\"outlinewidth\":0,\"ticks\":\"\"}}}],\"scatterpolar\":[{\"type\":\"scatterpolar\",\"marker\":{\"colorbar\":{\"outlinewidth\":0,\"ticks\":\"\"}}}],\"histogram\":[{\"marker\":{\"pattern\":{\"fillmode\":\"overlay\",\"size\":10,\"solidity\":0.2}},\"type\":\"histogram\"}],\"scattergl\":[{\"type\":\"scattergl\",\"marker\":{\"colorbar\":{\"outlinewidth\":0,\"ticks\":\"\"}}}],\"scatter3d\":[{\"type\":\"scatter3d\",\"line\":{\"colorbar\":{\"outlinewidth\":0,\"ticks\":\"\"}},\"marker\":{\"colorbar\":{\"outlinewidth\":0,\"ticks\":\"\"}}}],\"scattermapbox\":[{\"type\":\"scattermapbox\",\"marker\":{\"colorbar\":{\"outlinewidth\":0,\"ticks\":\"\"}}}],\"scatterternary\":[{\"type\":\"scatterternary\",\"marker\":{\"colorbar\":{\"outlinewidth\":0,\"ticks\":\"\"}}}],\"scattercarpet\":[{\"type\":\"scattercarpet\",\"marker\":{\"colorbar\":{\"outlinewidth\":0,\"ticks\":\"\"}}}],\"carpet\":[{\"aaxis\":{\"endlinecolor\":\"#2a3f5f\",\"gridcolor\":\"white\",\"linecolor\":\"white\",\"minorgridcolor\":\"white\",\"startlinecolor\":\"#2a3f5f\"},\"baxis\":{\"endlinecolor\":\"#2a3f5f\",\"gridcolor\":\"white\",\"linecolor\":\"white\",\"minorgridcolor\":\"white\",\"startlinecolor\":\"#2a3f5f\"},\"type\":\"carpet\"}],\"table\":[{\"cells\":{\"fill\":{\"color\":\"#EBF0F8\"},\"line\":{\"color\":\"white\"}},\"header\":{\"fill\":{\"color\":\"#C8D4E3\"},\"line\":{\"color\":\"white\"}},\"type\":\"table\"}],\"barpolar\":[{\"marker\":{\"line\":{\"color\":\"#E5ECF6\",\"width\":0.5},\"pattern\":{\"fillmode\":\"overlay\",\"size\":10,\"solidity\":0.2}},\"type\":\"barpolar\"}],\"pie\":[{\"automargin\":true,\"type\":\"pie\"}]},\"layout\":{\"autotypenumbers\":\"strict\",\"colorway\":[\"#636efa\",\"#EF553B\",\"#00cc96\",\"#ab63fa\",\"#FFA15A\",\"#19d3f3\",\"#FF6692\",\"#B6E880\",\"#FF97FF\",\"#FECB52\"],\"font\":{\"color\":\"#2a3f5f\"},\"hovermode\":\"closest\",\"hoverlabel\":{\"align\":\"left\"},\"paper_bgcolor\":\"white\",\"plot_bgcolor\":\"#E5ECF6\",\"polar\":{\"bgcolor\":\"#E5ECF6\",\"angularaxis\":{\"gridcolor\":\"white\",\"linecolor\":\"white\",\"ticks\":\"\"},\"radialaxis\":{\"gridcolor\":\"white\",\"linecolor\":\"white\",\"ticks\":\"\"}},\"ternary\":{\"bgcolor\":\"#E5ECF6\",\"aaxis\":{\"gridcolor\":\"white\",\"linecolor\":\"white\",\"ticks\":\"\"},\"baxis\":{\"gridcolor\":\"white\",\"linecolor\":\"white\",\"ticks\":\"\"},\"caxis\":{\"gridcolor\":\"white\",\"linecolor\":\"white\",\"ticks\":\"\"}},\"coloraxis\":{\"colorbar\":{\"outlinewidth\":0,\"ticks\":\"\"}},\"colorscale\":{\"sequential\":[[0.0,\"#0d0887\"],[0.1111111111111111,\"#46039f\"],[0.2222222222222222,\"#7201a8\"],[0.3333333333333333,\"#9c179e\"],[0.4444444444444444,\"#bd3786\"],[0.5555555555555556,\"#d8576b\"],[0.6666666666666666,\"#ed7953\"],[0.7777777777777778,\"#fb9f3a\"],[0.8888888888888888,\"#fdca26\"],[1.0,\"#f0f921\"]],\"sequentialminus\":[[0.0,\"#0d0887\"],[0.1111111111111111,\"#46039f\"],[0.2222222222222222,\"#7201a8\"],[0.3333333333333333,\"#9c179e\"],[0.4444444444444444,\"#bd3786\"],[0.5555555555555556,\"#d8576b\"],[0.6666666666666666,\"#ed7953\"],[0.7777777777777778,\"#fb9f3a\"],[0.8888888888888888,\"#fdca26\"],[1.0,\"#f0f921\"]],\"diverging\":[[0,\"#8e0152\"],[0.1,\"#c51b7d\"],[0.2,\"#de77ae\"],[0.3,\"#f1b6da\"],[0.4,\"#fde0ef\"],[0.5,\"#f7f7f7\"],[0.6,\"#e6f5d0\"],[0.7,\"#b8e186\"],[0.8,\"#7fbc41\"],[0.9,\"#4d9221\"],[1,\"#276419\"]]},\"xaxis\":{\"gridcolor\":\"white\",\"linecolor\":\"white\",\"ticks\":\"\",\"title\":{\"standoff\":15},\"zerolinecolor\":\"white\",\"automargin\":true,\"zerolinewidth\":2},\"yaxis\":{\"gridcolor\":\"white\",\"linecolor\":\"white\",\"ticks\":\"\",\"title\":{\"standoff\":15},\"zerolinecolor\":\"white\",\"automargin\":true,\"zerolinewidth\":2},\"scene\":{\"xaxis\":{\"backgroundcolor\":\"#E5ECF6\",\"gridcolor\":\"white\",\"linecolor\":\"white\",\"showbackground\":true,\"ticks\":\"\",\"zerolinecolor\":\"white\",\"gridwidth\":2},\"yaxis\":{\"backgroundcolor\":\"#E5ECF6\",\"gridcolor\":\"white\",\"linecolor\":\"white\",\"showbackground\":true,\"ticks\":\"\",\"zerolinecolor\":\"white\",\"gridwidth\":2},\"zaxis\":{\"backgroundcolor\":\"#E5ECF6\",\"gridcolor\":\"white\",\"linecolor\":\"white\",\"showbackground\":true,\"ticks\":\"\",\"zerolinecolor\":\"white\",\"gridwidth\":2}},\"shapedefaults\":{\"line\":{\"color\":\"#2a3f5f\"}},\"annotationdefaults\":{\"arrowcolor\":\"#2a3f5f\",\"arrowhead\":0,\"arrowwidth\":1},\"geo\":{\"bgcolor\":\"white\",\"landcolor\":\"#E5ECF6\",\"subunitcolor\":\"white\",\"showland\":true,\"showlakes\":true,\"lakecolor\":\"white\"},\"title\":{\"x\":0.05},\"mapbox\":{\"style\":\"light\"}}},\"xaxis\":{\"anchor\":\"y\",\"domain\":[0.0,1.0],\"title\":{\"text\":\"nb\"}},\"yaxis\":{\"anchor\":\"x\",\"domain\":[0.0,1.0],\"title\":{\"text\":\"count\"}},\"legend\":{\"title\":{\"text\":\"method\"},\"tracegroupgap\":0},\"margin\":{\"t\":60},\"barmode\":\"relative\"},                        {\"responsive\": true}                    ).then(function(){\n",
       "                            \n",
       "var gd = document.getElementById('f36eb9da-3877-4f64-92cb-25af6af77f7c');\n",
       "var x = new MutationObserver(function (mutations, observer) {{\n",
       "        var display = window.getComputedStyle(gd).display;\n",
       "        if (!display || display === 'none') {{\n",
       "            console.log([gd, 'removed!']);\n",
       "            Plotly.purge(gd);\n",
       "            observer.disconnect();\n",
       "        }}\n",
       "}});\n",
       "\n",
       "// Listen for the removal of the full notebook cells\n",
       "var notebookContainer = gd.closest('#notebook-container');\n",
       "if (notebookContainer) {{\n",
       "    x.observe(notebookContainer, {childList: true});\n",
       "}}\n",
       "\n",
       "// Listen for the clearing of the current output cell\n",
       "var outputEl = gd.closest('.output');\n",
       "if (outputEl) {{\n",
       "    x.observe(outputEl, {childList: true});\n",
       "}}\n",
       "\n",
       "                        })                };                });            </script>        </div>"
      ]
     },
     "metadata": {},
     "output_type": "display_data"
    }
   ],
   "source": [
    "fig = px.histogram(info_h, x=\"nb\", color=\"method\", nbins=50)\n",
    "fig.show()"
   ]
  },
  {
   "cell_type": "code",
   "execution_count": 22,
   "metadata": {},
   "outputs": [
    {
     "name": "stdout",
     "output_type": "stream",
     "text": [
      "Total method+h: 153\n",
      "Total method+h (# h >= 5): 72\n",
      "Total giv (# h >= 5 | # m = 3): 15\n"
     ]
    },
    {
     "data": {
      "text/html": [
       "<div>\n",
       "<style scoped>\n",
       "    .dataframe tbody tr th:only-of-type {\n",
       "        vertical-align: middle;\n",
       "    }\n",
       "\n",
       "    .dataframe tbody tr th {\n",
       "        vertical-align: top;\n",
       "    }\n",
       "\n",
       "    .dataframe thead th {\n",
       "        text-align: right;\n",
       "    }\n",
       "</style>\n",
       "<table border=\"1\" class=\"dataframe\">\n",
       "  <thead>\n",
       "    <tr style=\"text-align: right;\">\n",
       "      <th></th>\n",
       "      <th>giv_</th>\n",
       "      <th>method_nunique</th>\n",
       "      <th>nb_min</th>\n",
       "      <th>nb_mean</th>\n",
       "      <th>nb_max</th>\n",
       "    </tr>\n",
       "  </thead>\n",
       "  <tbody>\n",
       "    <tr>\n",
       "      <th>4</th>\n",
       "      <td>Degree_of_conflicting_interestsVariable</td>\n",
       "      <td>3</td>\n",
       "      <td>5</td>\n",
       "      <td>11.333333</td>\n",
       "      <td>15</td>\n",
       "    </tr>\n",
       "    <tr>\n",
       "      <th>8</th>\n",
       "      <td>FeedbackVariable</td>\n",
       "      <td>3</td>\n",
       "      <td>5</td>\n",
       "      <td>9.666667</td>\n",
       "      <td>12</td>\n",
       "    </tr>\n",
       "    <tr>\n",
       "      <th>9</th>\n",
       "      <td>FramingVariable</td>\n",
       "      <td>3</td>\n",
       "      <td>5</td>\n",
       "      <td>9.333333</td>\n",
       "      <td>13</td>\n",
       "    </tr>\n",
       "    <tr>\n",
       "      <th>12</th>\n",
       "      <td>GenderVariable</td>\n",
       "      <td>3</td>\n",
       "      <td>5</td>\n",
       "      <td>14.666667</td>\n",
       "      <td>21</td>\n",
       "    </tr>\n",
       "    <tr>\n",
       "      <th>13</th>\n",
       "      <td>Group_SizeVariable</td>\n",
       "      <td>3</td>\n",
       "      <td>5</td>\n",
       "      <td>8.666667</td>\n",
       "      <td>11</td>\n",
       "    </tr>\n",
       "    <tr>\n",
       "      <th>14</th>\n",
       "      <td>IdentificationVariable</td>\n",
       "      <td>3</td>\n",
       "      <td>5</td>\n",
       "      <td>12.666667</td>\n",
       "      <td>17</td>\n",
       "    </tr>\n",
       "    <tr>\n",
       "      <th>16</th>\n",
       "      <td>Intergroup_Competition_Variable</td>\n",
       "      <td>3</td>\n",
       "      <td>5</td>\n",
       "      <td>5.333333</td>\n",
       "      <td>6</td>\n",
       "    </tr>\n",
       "    <tr>\n",
       "      <th>17</th>\n",
       "      <td>LeadershipVariable</td>\n",
       "      <td>3</td>\n",
       "      <td>5</td>\n",
       "      <td>7.000000</td>\n",
       "      <td>11</td>\n",
       "    </tr>\n",
       "    <tr>\n",
       "      <th>21</th>\n",
       "      <td>Partner(s)'_strategiesVariable</td>\n",
       "      <td>3</td>\n",
       "      <td>5</td>\n",
       "      <td>8.666667</td>\n",
       "      <td>11</td>\n",
       "    </tr>\n",
       "    <tr>\n",
       "      <th>24</th>\n",
       "      <td>PersonalityVariable</td>\n",
       "      <td>3</td>\n",
       "      <td>5</td>\n",
       "      <td>10.333333</td>\n",
       "      <td>14</td>\n",
       "    </tr>\n",
       "    <tr>\n",
       "      <th>28</th>\n",
       "      <td>Public_Goods_GameVariable</td>\n",
       "      <td>3</td>\n",
       "      <td>5</td>\n",
       "      <td>12.000000</td>\n",
       "      <td>18</td>\n",
       "    </tr>\n",
       "    <tr>\n",
       "      <th>29</th>\n",
       "      <td>PunishmentVariable</td>\n",
       "      <td>3</td>\n",
       "      <td>5</td>\n",
       "      <td>20.333333</td>\n",
       "      <td>28</td>\n",
       "    </tr>\n",
       "    <tr>\n",
       "      <th>30</th>\n",
       "      <td>ReputationVariable</td>\n",
       "      <td>3</td>\n",
       "      <td>5</td>\n",
       "      <td>7.000000</td>\n",
       "      <td>8</td>\n",
       "    </tr>\n",
       "    <tr>\n",
       "      <th>32</th>\n",
       "      <td>RewardVariable</td>\n",
       "      <td>3</td>\n",
       "      <td>5</td>\n",
       "      <td>8.000000</td>\n",
       "      <td>10</td>\n",
       "    </tr>\n",
       "    <tr>\n",
       "      <th>38</th>\n",
       "      <td>UncertaintyVariable</td>\n",
       "      <td>3</td>\n",
       "      <td>5</td>\n",
       "      <td>8.333333</td>\n",
       "      <td>11</td>\n",
       "    </tr>\n",
       "  </tbody>\n",
       "</table>\n",
       "</div>"
      ],
      "text/plain": [
       "                                       giv_  method_nunique  nb_min  \\\n",
       "4   Degree_of_conflicting_interestsVariable               3       5   \n",
       "8                          FeedbackVariable               3       5   \n",
       "9                           FramingVariable               3       5   \n",
       "12                           GenderVariable               3       5   \n",
       "13                       Group_SizeVariable               3       5   \n",
       "14                   IdentificationVariable               3       5   \n",
       "16          Intergroup_Competition_Variable               3       5   \n",
       "17                       LeadershipVariable               3       5   \n",
       "21           Partner(s)'_strategiesVariable               3       5   \n",
       "24                      PersonalityVariable               3       5   \n",
       "28                Public_Goods_GameVariable               3       5   \n",
       "29                       PunishmentVariable               3       5   \n",
       "30                       ReputationVariable               3       5   \n",
       "32                           RewardVariable               3       5   \n",
       "38                      UncertaintyVariable               3       5   \n",
       "\n",
       "      nb_mean  nb_max  \n",
       "4   11.333333      15  \n",
       "8    9.666667      12  \n",
       "9    9.333333      13  \n",
       "12  14.666667      21  \n",
       "13   8.666667      11  \n",
       "14  12.666667      17  \n",
       "16   5.333333       6  \n",
       "17   7.000000      11  \n",
       "21   8.666667      11  \n",
       "24  10.333333      14  \n",
       "28  12.000000      18  \n",
       "29  20.333333      28  \n",
       "30   7.000000       8  \n",
       "32   8.000000      10  \n",
       "38   8.333333      11  "
      ]
     },
     "metadata": {},
     "output_type": "display_data"
    }
   ],
   "source": [
    "info_giv_method = info_h[info_h.nb >= 5].groupby(\"giv\").agg({\"method\": \"nunique\", \"nb\": [\"min\", \"mean\", \"max\"]}).reset_index()\n",
    "info_giv_method.columns = [\"_\".join(x) for x in info_giv_method.columns]\n",
    "print(f\"Total method+h: {info_h.shape[0]}\")\n",
    "print(f\"Total method+h (# h >= 5): {info_h[info_h.nb >= 5].shape[0]}\")\n",
    "print(f\"Total giv (# h >= 5 | # m = 3): {info_giv_method[info_giv_method.method_nunique == 3].shape[0]}\")\n",
    "display(info_giv_method[info_giv_method.method_nunique == 3])\n",
    "# fig = px.histogram(info_giv_method, x=\"method_nunique\", color=\"giv_\", nbins=3)\n",
    "# fig.show()"
   ]
  },
  {
   "cell_type": "code",
   "execution_count": 23,
   "metadata": {},
   "outputs": [
    {
     "data": {
      "text/plain": [
       "array(['Degree_of_conflicting_interestsVariable', 'FeedbackVariable',\n",
       "       'FramingVariable', 'GenderVariable', 'Group_SizeVariable',\n",
       "       'IdentificationVariable', 'Intergroup_Competition_Variable',\n",
       "       'LeadershipVariable', \"Partner(s)'_strategiesVariable\",\n",
       "       'PersonalityVariable', 'Public_Goods_GameVariable',\n",
       "       'PunishmentVariable', 'ReputationVariable', 'RewardVariable',\n",
       "       'UncertaintyVariable'], dtype=object)"
      ]
     },
     "execution_count": 23,
     "metadata": {},
     "output_type": "execute_result"
    }
   ],
   "source": [
    "filtered_giv = info_giv_method[info_giv_method.method_nunique == 3].giv_.values\n",
    "filtered_giv"
   ]
  },
  {
   "cell_type": "markdown",
   "metadata": {},
   "source": [
    "## GIV from ontology information"
   ]
  },
  {
   "cell_type": "code",
   "execution_count": 24,
   "metadata": {},
   "outputs": [],
   "source": [
    "with open(\"./cat_moderators.json\", \"r\", encoding=\"utf-8\") as openfile:\n",
    "    cat_mods = json.load(openfile)"
   ]
  },
  {
   "cell_type": "code",
   "execution_count": 25,
   "metadata": {},
   "outputs": [
    {
     "data": {
      "text/html": [
       "<div>\n",
       "<style scoped>\n",
       "    .dataframe tbody tr th:only-of-type {\n",
       "        vertical-align: middle;\n",
       "    }\n",
       "\n",
       "    .dataframe tbody tr th {\n",
       "        vertical-align: top;\n",
       "    }\n",
       "\n",
       "    .dataframe thead th {\n",
       "        text-align: right;\n",
       "    }\n",
       "</style>\n",
       "<table border=\"1\" class=\"dataframe\">\n",
       "  <thead>\n",
       "    <tr style=\"text-align: right;\">\n",
       "      <th></th>\n",
       "      <th>subject</th>\n",
       "      <th>predicate</th>\n",
       "      <th>object</th>\n",
       "      <th>tm</th>\n",
       "    </tr>\n",
       "  </thead>\n",
       "  <tbody>\n",
       "    <tr>\n",
       "      <th>224744</th>\n",
       "      <td>https://data.cooperationdatabank.org/vocab/pro...</td>\n",
       "      <td>http://www.w3.org/2000/01/rdf-schema#subProper...</td>\n",
       "      <td>https://data.cooperationdatabank.org/vocab/pro...</td>\n",
       "      <td>categorical</td>\n",
       "    </tr>\n",
       "    <tr>\n",
       "      <th>224756</th>\n",
       "      <td>https://data.cooperationdatabank.org/vocab/pro...</td>\n",
       "      <td>http://www.w3.org/2000/01/rdf-schema#subProper...</td>\n",
       "      <td>https://data.cooperationdatabank.org/vocab/pro...</td>\n",
       "      <td>categorical</td>\n",
       "    </tr>\n",
       "    <tr>\n",
       "      <th>224760</th>\n",
       "      <td>https://data.cooperationdatabank.org/vocab/pro...</td>\n",
       "      <td>http://www.w3.org/2000/01/rdf-schema#subProper...</td>\n",
       "      <td>https://data.cooperationdatabank.org/vocab/pro...</td>\n",
       "      <td>categorical</td>\n",
       "    </tr>\n",
       "  </tbody>\n",
       "</table>\n",
       "</div>"
      ],
      "text/plain": [
       "                                                  subject  \\\n",
       "224744  https://data.cooperationdatabank.org/vocab/pro...   \n",
       "224756  https://data.cooperationdatabank.org/vocab/pro...   \n",
       "224760  https://data.cooperationdatabank.org/vocab/pro...   \n",
       "\n",
       "                                                predicate  \\\n",
       "224744  http://www.w3.org/2000/01/rdf-schema#subProper...   \n",
       "224756  http://www.w3.org/2000/01/rdf-schema#subProper...   \n",
       "224760  http://www.w3.org/2000/01/rdf-schema#subProper...   \n",
       "\n",
       "                                                   object           tm  \n",
       "224744  https://data.cooperationdatabank.org/vocab/pro...  categorical  \n",
       "224756  https://data.cooperationdatabank.org/vocab/pro...  categorical  \n",
       "224760  https://data.cooperationdatabank.org/vocab/pro...  categorical  "
      ]
     },
     "execution_count": 25,
     "metadata": {},
     "output_type": "execute_result"
    }
   ],
   "source": [
    "df = pd.read_csv(\"../data/coda_kg.csv\")\n",
    "df = df[df.predicate.str.endswith(\"subPropertyOf\")]\n",
    "df = df[df.subject != df.object]\n",
    "df = df[df['object'].apply(lambda x: any(x.endswith(suffix) for suffix in filtered_giv))]\n",
    "df[\"tm\"] = df[\"subject\"].apply(lambda x: cat_mods[x])\n",
    "df = df[df.tm == \"categorical\"]\n",
    "df.head(3)"
   ]
  },
  {
   "cell_type": "code",
   "execution_count": 26,
   "metadata": {},
   "outputs": [
    {
     "data": {
      "text/html": [
       "<div>\n",
       "<style scoped>\n",
       "    .dataframe tbody tr th:only-of-type {\n",
       "        vertical-align: middle;\n",
       "    }\n",
       "\n",
       "    .dataframe tbody tr th {\n",
       "        vertical-align: top;\n",
       "    }\n",
       "\n",
       "    .dataframe thead th {\n",
       "        text-align: right;\n",
       "    }\n",
       "</style>\n",
       "<table border=\"1\" class=\"dataframe\">\n",
       "  <thead>\n",
       "    <tr style=\"text-align: right;\">\n",
       "      <th></th>\n",
       "      <th>object</th>\n",
       "      <th>subject</th>\n",
       "    </tr>\n",
       "  </thead>\n",
       "  <tbody>\n",
       "    <tr>\n",
       "      <th>6</th>\n",
       "      <td>Intergroup_Competition_Variable</td>\n",
       "      <td>1</td>\n",
       "    </tr>\n",
       "    <tr>\n",
       "      <th>0</th>\n",
       "      <td>Degree_of_conflicting_interestsVariable</td>\n",
       "      <td>2</td>\n",
       "    </tr>\n",
       "    <tr>\n",
       "      <th>15</th>\n",
       "      <td>UncertaintyVariable</td>\n",
       "      <td>2</td>\n",
       "    </tr>\n",
       "    <tr>\n",
       "      <th>3</th>\n",
       "      <td>GenderVariable</td>\n",
       "      <td>3</td>\n",
       "    </tr>\n",
       "    <tr>\n",
       "      <th>4</th>\n",
       "      <td>Group_SizeVariable</td>\n",
       "      <td>3</td>\n",
       "    </tr>\n",
       "    <tr>\n",
       "      <th>14</th>\n",
       "      <td>Step-level_Public_Goods_GameVariable</td>\n",
       "      <td>3</td>\n",
       "    </tr>\n",
       "    <tr>\n",
       "      <th>8</th>\n",
       "      <td>Partner(s)'_strategiesVariable</td>\n",
       "      <td>3</td>\n",
       "    </tr>\n",
       "    <tr>\n",
       "      <th>1</th>\n",
       "      <td>FeedbackVariable</td>\n",
       "      <td>3</td>\n",
       "    </tr>\n",
       "    <tr>\n",
       "      <th>12</th>\n",
       "      <td>ReputationVariable</td>\n",
       "      <td>5</td>\n",
       "    </tr>\n",
       "    <tr>\n",
       "      <th>9</th>\n",
       "      <td>PersonalityVariable</td>\n",
       "      <td>5</td>\n",
       "    </tr>\n",
       "    <tr>\n",
       "      <th>2</th>\n",
       "      <td>FramingVariable</td>\n",
       "      <td>5</td>\n",
       "    </tr>\n",
       "    <tr>\n",
       "      <th>7</th>\n",
       "      <td>LeadershipVariable</td>\n",
       "      <td>6</td>\n",
       "    </tr>\n",
       "    <tr>\n",
       "      <th>5</th>\n",
       "      <td>IdentificationVariable</td>\n",
       "      <td>7</td>\n",
       "    </tr>\n",
       "    <tr>\n",
       "      <th>13</th>\n",
       "      <td>RewardVariable</td>\n",
       "      <td>7</td>\n",
       "    </tr>\n",
       "    <tr>\n",
       "      <th>11</th>\n",
       "      <td>PunishmentVariable</td>\n",
       "      <td>8</td>\n",
       "    </tr>\n",
       "    <tr>\n",
       "      <th>10</th>\n",
       "      <td>Public_Goods_GameVariable</td>\n",
       "      <td>10</td>\n",
       "    </tr>\n",
       "  </tbody>\n",
       "</table>\n",
       "</div>"
      ],
      "text/plain": [
       "                                     object  subject\n",
       "6           Intergroup_Competition_Variable        1\n",
       "0   Degree_of_conflicting_interestsVariable        2\n",
       "15                      UncertaintyVariable        2\n",
       "3                            GenderVariable        3\n",
       "4                        Group_SizeVariable        3\n",
       "14     Step-level_Public_Goods_GameVariable        3\n",
       "8            Partner(s)'_strategiesVariable        3\n",
       "1                          FeedbackVariable        3\n",
       "12                       ReputationVariable        5\n",
       "9                       PersonalityVariable        5\n",
       "2                           FramingVariable        5\n",
       "7                        LeadershipVariable        6\n",
       "5                    IdentificationVariable        7\n",
       "13                           RewardVariable        7\n",
       "11                       PunishmentVariable        8\n",
       "10                Public_Goods_GameVariable       10"
      ]
     },
     "execution_count": 26,
     "metadata": {},
     "output_type": "execute_result"
    }
   ],
   "source": [
    "df[\"object\"] = df[\"object\"].apply(lambda x: x.split(\"/\")[-1])\n",
    "df.groupby(\"object\").agg({\"subject\": \"nunique\"}).reset_index().sort_values(by=\"subject\")"
   ]
  },
  {
   "cell_type": "code",
   "execution_count": 27,
   "metadata": {},
   "outputs": [
    {
     "data": {
      "text/html": [
       "<div>\n",
       "<style scoped>\n",
       "    .dataframe tbody tr th:only-of-type {\n",
       "        vertical-align: middle;\n",
       "    }\n",
       "\n",
       "    .dataframe tbody tr th {\n",
       "        vertical-align: top;\n",
       "    }\n",
       "\n",
       "    .dataframe thead th {\n",
       "        text-align: right;\n",
       "    }\n",
       "</style>\n",
       "<table border=\"1\" class=\"dataframe\">\n",
       "  <thead>\n",
       "    <tr style=\"text-align: right;\">\n",
       "      <th></th>\n",
       "      <th>giv_</th>\n",
       "      <th>nb_min</th>\n",
       "      <th>nb_mean</th>\n",
       "      <th>nb_max</th>\n",
       "      <th>subject</th>\n",
       "    </tr>\n",
       "  </thead>\n",
       "  <tbody>\n",
       "    <tr>\n",
       "      <th>6</th>\n",
       "      <td>Intergroup_Competition_Variable</td>\n",
       "      <td>5</td>\n",
       "      <td>5.333333</td>\n",
       "      <td>6</td>\n",
       "      <td>1</td>\n",
       "    </tr>\n",
       "    <tr>\n",
       "      <th>15</th>\n",
       "      <td>UncertaintyVariable</td>\n",
       "      <td>5</td>\n",
       "      <td>8.333333</td>\n",
       "      <td>11</td>\n",
       "      <td>2</td>\n",
       "    </tr>\n",
       "    <tr>\n",
       "      <th>0</th>\n",
       "      <td>Degree_of_conflicting_interestsVariable</td>\n",
       "      <td>5</td>\n",
       "      <td>11.333333</td>\n",
       "      <td>15</td>\n",
       "      <td>2</td>\n",
       "    </tr>\n",
       "    <tr>\n",
       "      <th>14</th>\n",
       "      <td>Step-level_Public_Goods_GameVariable</td>\n",
       "      <td>5</td>\n",
       "      <td>5.000000</td>\n",
       "      <td>5</td>\n",
       "      <td>3</td>\n",
       "    </tr>\n",
       "    <tr>\n",
       "      <th>4</th>\n",
       "      <td>Group_SizeVariable</td>\n",
       "      <td>5</td>\n",
       "      <td>8.666667</td>\n",
       "      <td>11</td>\n",
       "      <td>3</td>\n",
       "    </tr>\n",
       "    <tr>\n",
       "      <th>8</th>\n",
       "      <td>Partner(s)'_strategiesVariable</td>\n",
       "      <td>5</td>\n",
       "      <td>8.666667</td>\n",
       "      <td>11</td>\n",
       "      <td>3</td>\n",
       "    </tr>\n",
       "    <tr>\n",
       "      <th>1</th>\n",
       "      <td>FeedbackVariable</td>\n",
       "      <td>5</td>\n",
       "      <td>9.666667</td>\n",
       "      <td>12</td>\n",
       "      <td>3</td>\n",
       "    </tr>\n",
       "    <tr>\n",
       "      <th>3</th>\n",
       "      <td>GenderVariable</td>\n",
       "      <td>5</td>\n",
       "      <td>14.666667</td>\n",
       "      <td>21</td>\n",
       "      <td>3</td>\n",
       "    </tr>\n",
       "    <tr>\n",
       "      <th>12</th>\n",
       "      <td>ReputationVariable</td>\n",
       "      <td>5</td>\n",
       "      <td>7.000000</td>\n",
       "      <td>8</td>\n",
       "      <td>5</td>\n",
       "    </tr>\n",
       "    <tr>\n",
       "      <th>2</th>\n",
       "      <td>FramingVariable</td>\n",
       "      <td>5</td>\n",
       "      <td>9.333333</td>\n",
       "      <td>13</td>\n",
       "      <td>5</td>\n",
       "    </tr>\n",
       "    <tr>\n",
       "      <th>9</th>\n",
       "      <td>PersonalityVariable</td>\n",
       "      <td>5</td>\n",
       "      <td>10.333333</td>\n",
       "      <td>14</td>\n",
       "      <td>5</td>\n",
       "    </tr>\n",
       "    <tr>\n",
       "      <th>7</th>\n",
       "      <td>LeadershipVariable</td>\n",
       "      <td>5</td>\n",
       "      <td>7.000000</td>\n",
       "      <td>11</td>\n",
       "      <td>6</td>\n",
       "    </tr>\n",
       "    <tr>\n",
       "      <th>13</th>\n",
       "      <td>RewardVariable</td>\n",
       "      <td>5</td>\n",
       "      <td>8.000000</td>\n",
       "      <td>10</td>\n",
       "      <td>7</td>\n",
       "    </tr>\n",
       "    <tr>\n",
       "      <th>5</th>\n",
       "      <td>IdentificationVariable</td>\n",
       "      <td>5</td>\n",
       "      <td>12.666667</td>\n",
       "      <td>17</td>\n",
       "      <td>7</td>\n",
       "    </tr>\n",
       "    <tr>\n",
       "      <th>11</th>\n",
       "      <td>PunishmentVariable</td>\n",
       "      <td>5</td>\n",
       "      <td>20.333333</td>\n",
       "      <td>28</td>\n",
       "      <td>8</td>\n",
       "    </tr>\n",
       "    <tr>\n",
       "      <th>10</th>\n",
       "      <td>Public_Goods_GameVariable</td>\n",
       "      <td>5</td>\n",
       "      <td>12.000000</td>\n",
       "      <td>18</td>\n",
       "      <td>10</td>\n",
       "    </tr>\n",
       "  </tbody>\n",
       "</table>\n",
       "</div>"
      ],
      "text/plain": [
       "                                       giv_  nb_min    nb_mean  nb_max  \\\n",
       "6           Intergroup_Competition_Variable       5   5.333333       6   \n",
       "15                      UncertaintyVariable       5   8.333333      11   \n",
       "0   Degree_of_conflicting_interestsVariable       5  11.333333      15   \n",
       "14     Step-level_Public_Goods_GameVariable       5   5.000000       5   \n",
       "4                        Group_SizeVariable       5   8.666667      11   \n",
       "8            Partner(s)'_strategiesVariable       5   8.666667      11   \n",
       "1                          FeedbackVariable       5   9.666667      12   \n",
       "3                            GenderVariable       5  14.666667      21   \n",
       "12                       ReputationVariable       5   7.000000       8   \n",
       "2                           FramingVariable       5   9.333333      13   \n",
       "9                       PersonalityVariable       5  10.333333      14   \n",
       "7                        LeadershipVariable       5   7.000000      11   \n",
       "13                           RewardVariable       5   8.000000      10   \n",
       "5                    IdentificationVariable       5  12.666667      17   \n",
       "11                       PunishmentVariable       5  20.333333      28   \n",
       "10                Public_Goods_GameVariable       5  12.000000      18   \n",
       "\n",
       "    subject  \n",
       "6         1  \n",
       "15        2  \n",
       "0         2  \n",
       "14        3  \n",
       "4         3  \n",
       "8         3  \n",
       "1         3  \n",
       "3         3  \n",
       "12        5  \n",
       "2         5  \n",
       "9         5  \n",
       "7         6  \n",
       "13        7  \n",
       "5         7  \n",
       "11        8  \n",
       "10       10  "
      ]
     },
     "execution_count": 27,
     "metadata": {},
     "output_type": "execute_result"
    }
   ],
   "source": [
    "ont_info = df.groupby(\"object\").agg({\"subject\": \"nunique\"}).reset_index().sort_values(by=\"subject\")\n",
    "pd.merge(info_giv_method, ont_info, left_on='giv_', right_on='object', how='inner').drop(columns=['method_nunique', 'object']).sort_values(by=['subject', 'nb_mean'])"
   ]
  },
  {
   "cell_type": "markdown",
   "metadata": {},
   "source": [
    "## Final GIVs\n",
    "\n",
    "We consider the categorical moderators only, to align with our training data.\n",
    "\n",
    "For `var_mod`: the ones with the least hypotheses, since you need two specific independent variables -> picking one where there is a lot of options from the ontology (7 siv)\n",
    "* `LeadershipVariable`\n",
    "* `IdentificationVariable`\n",
    "\n",
    "For `study_mod`: there are 16 categorical study moderators, which represent many options already. So we prefer to take a GIV with fewer options in the ontology 3 siv)\n",
    "* `GenderVariable`\n",
    "* `IncentivesVariable`\n",
    "\n",
    "For `regular`: medium-level (5 siv)\n",
    "* `ReputationVariable`\n",
    "* `PersonalityVariable`"
   ]
  },
  {
   "cell_type": "code",
   "execution_count": 28,
   "metadata": {},
   "outputs": [],
   "source": [
    "SPARQL_ENDPOINT = \"http://localhost:7200/repositories/coda\"\n",
    "# Query to get the documentation for regular/variable moderators\n",
    "QUERY_TEMPLATE = \"\"\"\n",
    "PREFIX rdfs: <http://www.w3.org/2000/01/rdf-schema#>\n",
    "PREFIX dc: <http://purl.org/dc/terms/>\n",
    "PREFIX rdf: <http://www.w3.org/1999/02/22-rdf-syntax-ns#>\n",
    "SELECT ?iv_label ?iv_des ?siv_label ?siv_des WHERE {\n",
    "    ?iv rdfs:subPropertyOf <https://data.cooperationdatabank.org/vocab/prop/[giv_var]> ;\n",
    "        rdfs:label ?iv_label ;\n",
    "        dc:description ?iv_des ;\n",
    "        rdfs:range ?range .\n",
    "    OPTIONAL {\n",
    "        ?siv rdf:type ?range ;\n",
    "         rdfs:label ?siv_label ;\n",
    "         dc:description ?siv_des .\n",
    "    }\n",
    "    \n",
    "}\n",
    "\"\"\"\n",
    "QUERY_STUDY = \"\"\"\n",
    "PREFIX cc: <https://data.cooperationdatabank.org/vocab/class/>\n",
    "PREFIX cp: <https://data.cooperationdatabank.org/vocab/prop/>\n",
    "PREFIX rdfs: <http://www.w3.org/2000/01/rdf-schema#>\n",
    "PREFIX rdf: <http://www.w3.org/1999/02/22-rdf-syntax-ns#>\n",
    "PREFIX owl: <http://www.w3.org/2002/07/owl#>\n",
    "PREFIX dct: <http://purl.org/dc/terms/>\n",
    "PREFIX xml: <http://www.w3.org/2001/XMLSchema#>\n",
    "select distinct ?study_mod ?study_mod_des ?val ?val_des where { \n",
    "\t?study_mod rdfs:domain cc:Study ;\n",
    "               rdfs:range ?range .\n",
    "               #rdf:type owl:DatatypeProperty .\n",
    "\tOPTIONAL {?study_mod dct:description ?study_mod_des .}\n",
    "    FILTER (?study_mod NOT IN (cp:comments, cp:descriptionIV, cp:label, cp:type, cp:otherVariables, cp:reportsEffect, cp:studyOtherDilemmaType, cp:studySequentiality))\n",
    "            FILTER (?range NOT IN (cc:ValueRange, xml:double, xml:integer))\n",
    "    ?study ?study_mod ?val .\n",
    "    OPTIONAL {?val dct:description ?val_des .}\n",
    "} \n",
    "\"\"\"\n",
    "# GIV_VARS\n",
    "\n",
    "GIV_VAR = [\n",
    "    \"ReputationVariable\", \"PersonalityVariable\",  # regular\n",
    "    \"LeadershipVariable\", \"IdentificationVariable\",  # var_mod\n",
    "    \"GenderVariable\", \"IncentivesVariable\",  # study_mod\n",
    "]"
   ]
  },
  {
   "cell_type": "code",
   "execution_count": 29,
   "metadata": {},
   "outputs": [],
   "source": [
    "# for giv in GIV_VAR:\n",
    "#     print(QUERY_TEMPLATE.replace(\"[giv_var]\", giv))\n",
    "#     df_des = run_query(query=QUERY_TEMPLATE.replace(\"[giv_var]\", giv),\n",
    "#                        sparql_endpoint=SPARQL_ENDPOINT,\n",
    "#                        headers=HEADERS_CSV)"
   ]
  },
  {
   "cell_type": "code",
   "execution_count": 30,
   "metadata": {},
   "outputs": [
    {
     "data": {
      "text/html": [
       "<div>\n",
       "<style scoped>\n",
       "    .dataframe tbody tr th:only-of-type {\n",
       "        vertical-align: middle;\n",
       "    }\n",
       "\n",
       "    .dataframe tbody tr th {\n",
       "        vertical-align: top;\n",
       "    }\n",
       "\n",
       "    .dataframe thead th {\n",
       "        text-align: right;\n",
       "    }\n",
       "</style>\n",
       "<table border=\"1\" class=\"dataframe\">\n",
       "  <thead>\n",
       "    <tr style=\"text-align: right;\">\n",
       "      <th></th>\n",
       "      <th>th</th>\n",
       "      <th>giv</th>\n",
       "      <th>m</th>\n",
       "      <th>i_orig</th>\n",
       "      <th>i_shuffled</th>\n",
       "      <th>h</th>\n",
       "    </tr>\n",
       "  </thead>\n",
       "  <tbody>\n",
       "    <tr>\n",
       "      <th>4</th>\n",
       "      <td>regular</td>\n",
       "      <td>PersonalityVariable</td>\n",
       "      <td>anyburl</td>\n",
       "      <td>4</td>\n",
       "      <td>0</td>\n",
       "      <td>Cooperation is significantly lower when svo ty...</td>\n",
       "    </tr>\n",
       "    <tr>\n",
       "      <th>1</th>\n",
       "      <td>regular</td>\n",
       "      <td>PersonalityVariable</td>\n",
       "      <td>classification</td>\n",
       "      <td>1</td>\n",
       "      <td>2</td>\n",
       "      <td>Cooperation is significantly lower when svo ty...</td>\n",
       "    </tr>\n",
       "    <tr>\n",
       "      <th>4</th>\n",
       "      <td>regular</td>\n",
       "      <td>ReputationVariable</td>\n",
       "      <td>anyburl</td>\n",
       "      <td>4</td>\n",
       "      <td>3</td>\n",
       "      <td>Cooperation is significantly lower when partne...</td>\n",
       "    </tr>\n",
       "  </tbody>\n",
       "</table>\n",
       "</div>"
      ],
      "text/plain": [
       "        th                  giv               m i_orig i_shuffled  \\\n",
       "4  regular  PersonalityVariable         anyburl      4          0   \n",
       "1  regular  PersonalityVariable  classification      1          2   \n",
       "4  regular   ReputationVariable         anyburl      4          3   \n",
       "\n",
       "                                                   h  \n",
       "4  Cooperation is significantly lower when svo ty...  \n",
       "1  Cooperation is significantly lower when svo ty...  \n",
       "4  Cooperation is significantly lower when partne...  "
      ]
     },
     "execution_count": 30,
     "metadata": {},
     "output_type": "execute_result"
    }
   ],
   "source": [
    "## Retrieving hypotheses\n",
    "NB = 2\n",
    "I_TO_M = {}\n",
    "for index, method in enumerate(METHODS):\n",
    "    for _ in range(NB):\n",
    "        curr_index = max(I_TO_M.keys()) + 1 if I_TO_M else 0\n",
    "        I_TO_M.update({curr_index: method})\n",
    "COLS = [\"th\", \"giv\", \"m\", \"i_orig\", \"i_shuffled\", \"h\"]\n",
    "DF_H = pd.DataFrame(columns=COLS)\n",
    "\n",
    "for (th, giv) in [\n",
    "    ('regular', 'ReputationVariable'), ('regular', 'PersonalityVariable'),\n",
    "    ('var_mod', 'LeadershipVariable'), ('var_mod', 'IdentificationVariable'),\n",
    "    ('study_mod', 'GenderVariable'), ('study_mod', 'IncentivesVariable'),\n",
    "]:\n",
    "    files = [f\"./{m}/final/h_{th}_es_d/outputs/{giv}.txt\" for m in METHODS]\n",
    "    h = []\n",
    "    for f in files:\n",
    "        lines = open(f, 'r', encoding='utf-8').readlines()[:NB]\n",
    "        h.extend([x.replace(\"\\n\", \"\") for x in lines])\n",
    "    indexes = list(range(NB*len(METHODS)))\n",
    "    random.shuffle(indexes)\n",
    "    mapping = {val: index for index, val in enumerate(indexes)}\n",
    "    df = pd.DataFrame([(th, giv, I_TO_M[val], val, mapping[val], h[val]) for val in sorted(I_TO_M.keys())], columns=COLS)\n",
    "    DF_H = pd.concat([DF_H, df])\n",
    "\n",
    "DF_H.to_csv(\"./user_studies/hypotheses.csv\")\n",
    "DF_H.sample(3)"
   ]
  },
  {
   "cell_type": "code",
   "execution_count": 31,
   "metadata": {},
   "outputs": [
    {
     "data": {
      "text/plain": [
       "Index(['th', 'giv', 'm', 'i_orig', 'i_shuffled', 'h'], dtype='object')"
      ]
     },
     "execution_count": 31,
     "metadata": {},
     "output_type": "execute_result"
    }
   ],
   "source": [
    "DF_H.columns"
   ]
  },
  {
   "cell_type": "code",
   "execution_count": 32,
   "metadata": {},
   "outputs": [],
   "source": [
    "f_helper = open(\"./user_studies/hyposeses_form.txt\", \"w\", encoding=\"utf-8\")\n",
    "for th in DF_H.th.unique():\n",
    "    curr_df = DF_H[DF_H.th == th]\n",
    "    for giv in curr_df.giv.unique():\n",
    "        h_df = curr_df[curr_df.giv == giv].sort_values(by=\"i_shuffled\")\n",
    "        f_helper.write(f\"{th} | {giv}\"+ \"\\n\\n\" + '\\n'.join(h_df.h.values) + \"\\n==========\\n\")\n",
    "f_helper.close()"
   ]
  },
  {
   "cell_type": "markdown",
   "metadata": {},
   "source": []
  }
 ],
 "metadata": {
  "kernelspec": {
   "display_name": "coda_narratives",
   "language": "python",
   "name": "python3"
  },
  "language_info": {
   "codemirror_mode": {
    "name": "ipython",
    "version": 3
   },
   "file_extension": ".py",
   "mimetype": "text/x-python",
   "name": "python",
   "nbconvert_exporter": "python",
   "pygments_lexer": "ipython3",
   "version": "3.10.8"
  }
 },
 "nbformat": 4,
 "nbformat_minor": 2
}
