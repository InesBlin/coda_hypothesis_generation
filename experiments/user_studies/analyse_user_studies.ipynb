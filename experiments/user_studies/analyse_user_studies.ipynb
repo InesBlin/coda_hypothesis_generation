{
 "cells": [
  {
   "cell_type": "markdown",
   "metadata": {},
   "source": [
    "# Analysing results of user studies"
   ]
  },
  {
   "cell_type": "markdown",
   "metadata": {},
   "source": [
    "## All responses"
   ]
  },
  {
   "cell_type": "code",
   "execution_count": 77,
   "metadata": {},
   "outputs": [],
   "source": [
    "import re\n",
    "import pandas as pd\n",
    "import plotly.express as px\n",
    "from agreement.utils.kernels import linear_kernel, quadratic_kernel\n",
    "from agreement.utils.transform import pivot_table_frequency\n",
    "from agreement.metrics import cohens_kappa, krippendorffs_alpha\n",
    "\n",
    "H_ORDER = [\n",
    "    \"regular_ReputationVariable\", \"regular_PersonalityVariable\",\n",
    "    \"study_mod_GenderVariable\", \"study_mod_IncentivesVariable\",\n",
    "    \"var_mod_LeadershipVariable\", \"var_mod_IdentificationVariable\"]\n",
    "TEMPLATES_REGEX = {\n",
    "    \"regular\": [\n",
    "        r\"cooperation is significantly (.+) when (.+) is (.+) compared to when (.+) is (.+)\\.\",\n",
    "        r\"cooperation is significantly (.+) when (.+) is (.+) compared to when (.+) is (.+)\"\n",
    "    ],\n",
    "    \"study_mod\": [\n",
    "        r\"when comparing studies where (.+) is (.+) and studies where (.+) is (.+), cooperation is significantly (.+) when (.+) is (.+) compared to when (.+) has another value.\",\n",
    "        r\"when comparing studies where (.+) is (.+) and studies where (.+) is (.+), cooperation is significantly (.+) when (.+) is (.+) compared to when (.+) is .+\",\n",
    "        r\"when comparing studies where (.+) is (.+) and studies where (.+) is (.+), cooperation is significantly (.+) when (.+) was (.+) compared to when (.+) was .+\",\n",
    "        r\"when comparing studies where (.+) is (.+) and studies where (.+) is (.+), cooperation is significantly (.+) when (.+) was (.+) than when (.+) was .+\"\n",
    "    ],\n",
    "    \"var_mod\": [\n",
    "        r\"when comparing studies where (.+) is (.+) and studies where (.+) is (.+), cooperation from studies involving (.+) as (.+) is significantly (.+) than cooperation from studies involving (.+) as (.+).\",\n",
    "        r\"when comparing studies where (.+) is (.+) and studies where (.+) is (.+), cooperation from (.+) as (.+) is significantly (.+) than cooperation from studies involving (.+) as (.+).\",\n",
    "        r\"when comparing studies where (.+) is (.+) and studies where (.+) is (.+), cooperation from studies involving (.+) as (.+) is (.+) than studies involving (.+) as (.+).\"\n",
    "    ]\n",
    "}\n",
    "TEMPLATES_VAR = {\n",
    "    \"regular\": [\"comparative\", \"siv\", \"sivv1\", \"siv\", \"sivv2\"],\n",
    "    \"study_mod\": [\"siv\", \"sivv1\", \"siv\", \"sivv2\", \"comparative\", \"mod\", \"mod_val\", \"mod\"],\n",
    "    \"var_mod\": [\"siv\", \"sivv1\", \"siv\", \"sivv2\", \"mod1\", \"mod\", \"comparative\", \"mod2\", \"mod\"],\n",
    "}\n",
    "COLS_VAR = [\"comparative\", \"siv\", \"sivv1\", \"sivv2\", \"mod\", \"mod_val\", \"mod1\", \"mod2\"]\n",
    "COLS_ALL_H = [\"A\", \"B\", \"C\", \"D\", \"E\"] + [f\"H{i}\" for i in range(6)]"
   ]
  },
  {
   "cell_type": "code",
   "execution_count": 23,
   "metadata": {},
   "outputs": [
    {
     "data": {
      "text/html": [
       "<div>\n",
       "<style scoped>\n",
       "    .dataframe tbody tr th:only-of-type {\n",
       "        vertical-align: middle;\n",
       "    }\n",
       "\n",
       "    .dataframe tbody tr th {\n",
       "        vertical-align: top;\n",
       "    }\n",
       "\n",
       "    .dataframe thead th {\n",
       "        text-align: right;\n",
       "    }\n",
       "</style>\n",
       "<table border=\"1\" class=\"dataframe\">\n",
       "  <thead>\n",
       "    <tr style=\"text-align: right;\">\n",
       "      <th></th>\n",
       "      <th>Please formulate the top 5 hypotheses that are the most relevant or interesting to investigate. Use the \"Templated Hypothesis\" as a reference. Each hypothesis should come with a score from 1 to 5, with 1 being the lowest and 5 the best. You should use only some of the concepts that are provided in the tab and that you think are the most relevant.\\n\\nYour answer should be similar to:\\n```output\\nA- First hypothesis (score)\\nB- Second hypothesis (score)\\nC- Third hypothesis (score)\\nD- Fourth hypothesis (score)\\nE- Fifth hypothesis (score)\\n```</th>\n",
       "      <th>Please rank the following 6 hypotheses on a scale of 1 to 5, in terms of relevance or interestingness to investigate. 1 is the worst score and 5 the best. [H1: Cooperation is significantly higher when anonymity manipulation is low compared to when anonymity manipulation is medium.]</th>\n",
       "      <th>Please rank the following 6 hypotheses on a scale of 1 to 5, in terms of relevance or interestingness to investigate. 1 is the worst score and 5 the best. [H2: Cooperation  is significantly higher when Knowledge of partner's prior behavior is cooperative compared to when Knowledge of partner's prior behavior is absent.]</th>\n",
       "      <th>Please rank the following 6 hypotheses on a scale of 1 to 5, in terms of relevance or interestingness to investigate. 1 is the worst score and 5 the best. [H3: Cooperation is significantly lower when knowledge of partner's prior behavior is absent compared to when knowledge of partner's prior behavior is present.]</th>\n",
       "      <th>Please rank the following 6 hypotheses on a scale of 1 to 5, in terms of relevance or interestingness to investigate. 1 is the worst score and 5 the best. [H4: Cooperation is significantly lower when partner selection is present compared to when partner selection is absent.]</th>\n",
       "      <th>Please rank the following 6 hypotheses on a scale of 1 to 5, in terms of relevance or interestingness to investigate. 1 is the worst score and 5 the best. [H5: Cooperation  is significantly higher when Knowledge of partner's prior behavior is cooperative compared to when Knowledge of partner's prior behavior is noncooperative.]</th>\n",
       "      <th>Please rank the following 6 hypotheses on a scale of 1 to 5, in terms of relevance or interestingness to investigate. 1 is the worst score and 5 the best. [H6: Cooperation is significantly lower when anonymity manipulation is low compared to when anonymity manipulation is medium.]</th>\n",
       "      <th>Please rank all the hypotheses, from the best one (rank = 1) to the worst one (rank = 11). The hypotheses contain the 5 hypotheses you generated, and the 6 generated by AI methods. [A]</th>\n",
       "      <th>Please rank all the hypotheses, from the best one (rank = 1) to the worst one (rank = 11). The hypotheses contain the 5 hypotheses you generated, and the 6 generated by AI methods. [B]</th>\n",
       "      <th>Please rank all the hypotheses, from the best one (rank = 1) to the worst one (rank = 11). The hypotheses contain the 5 hypotheses you generated, and the 6 generated by AI methods. [C]</th>\n",
       "      <th>...</th>\n",
       "      <th>Please rank all the hypotheses, from the best one (rank = 1) to the worst one (rank = 11). The hypotheses contain the 5 hypotheses you generated, and the 6 generated by AI methods. [C].5</th>\n",
       "      <th>Please rank all the hypotheses, from the best one (rank = 1) to the worst one (rank = 11). The hypotheses contain the 5 hypotheses you generated, and the 6 generated by AI methods. [D].5</th>\n",
       "      <th>Please rank all the hypotheses, from the best one (rank = 1) to the worst one (rank = 11). The hypotheses contain the 5 hypotheses you generated, and the 6 generated by AI methods. [E].5</th>\n",
       "      <th>Please rank all the hypotheses, from the best one (rank = 1) to the worst one (rank = 11). The hypotheses contain the 5 hypotheses you generated, and the 6 generated by AI methods. [H1].5</th>\n",
       "      <th>Please rank all the hypotheses, from the best one (rank = 1) to the worst one (rank = 11). The hypotheses contain the 5 hypotheses you generated, and the 6 generated by AI methods. [H2].5</th>\n",
       "      <th>Please rank all the hypotheses, from the best one (rank = 1) to the worst one (rank = 11). The hypotheses contain the 5 hypotheses you generated, and the 6 generated by AI methods. [H3].5</th>\n",
       "      <th>Please rank all the hypotheses, from the best one (rank = 1) to the worst one (rank = 11). The hypotheses contain the 5 hypotheses you generated, and the 6 generated by AI methods. [H4].5</th>\n",
       "      <th>Please rank all the hypotheses, from the best one (rank = 1) to the worst one (rank = 11). The hypotheses contain the 5 hypotheses you generated, and the 6 generated by AI methods. [H5].5</th>\n",
       "      <th>Please rank all the hypotheses, from the best one (rank = 1) to the worst one (rank = 11). The hypotheses contain the 5 hypotheses you generated, and the 6 generated by AI methods. [H6].5</th>\n",
       "      <th>user_id</th>\n",
       "    </tr>\n",
       "  </thead>\n",
       "  <tbody>\n",
       "    <tr>\n",
       "      <th>0</th>\n",
       "      <td>A- Cooperation is significantly higer when Ano...</td>\n",
       "      <td>3</td>\n",
       "      <td>2</td>\n",
       "      <td>4</td>\n",
       "      <td>5</td>\n",
       "      <td>1</td>\n",
       "      <td>4</td>\n",
       "      <td>7</td>\n",
       "      <td>2</td>\n",
       "      <td>8</td>\n",
       "      <td>...</td>\n",
       "      <td>2</td>\n",
       "      <td>6</td>\n",
       "      <td>4</td>\n",
       "      <td>3</td>\n",
       "      <td>1</td>\n",
       "      <td>9</td>\n",
       "      <td>5</td>\n",
       "      <td>7</td>\n",
       "      <td>8</td>\n",
       "      <td>0</td>\n",
       "    </tr>\n",
       "    <tr>\n",
       "      <th>1</th>\n",
       "      <td>A- Cooperation is significantly higher when go...</td>\n",
       "      <td>2</td>\n",
       "      <td>1</td>\n",
       "      <td>4</td>\n",
       "      <td>2</td>\n",
       "      <td>3</td>\n",
       "      <td>4</td>\n",
       "      <td>8</td>\n",
       "      <td>7</td>\n",
       "      <td>1</td>\n",
       "      <td>...</td>\n",
       "      <td>3</td>\n",
       "      <td>5</td>\n",
       "      <td>7</td>\n",
       "      <td>4</td>\n",
       "      <td>8</td>\n",
       "      <td>10</td>\n",
       "      <td>9</td>\n",
       "      <td>11</td>\n",
       "      <td>6</td>\n",
       "      <td>1</td>\n",
       "    </tr>\n",
       "    <tr>\n",
       "      <th>2</th>\n",
       "      <td>A-\\tCooperation is significantly higher when A...</td>\n",
       "      <td>3</td>\n",
       "      <td>4</td>\n",
       "      <td>1</td>\n",
       "      <td>1</td>\n",
       "      <td>4</td>\n",
       "      <td>1</td>\n",
       "      <td>3</td>\n",
       "      <td>8</td>\n",
       "      <td>2</td>\n",
       "      <td>...</td>\n",
       "      <td>3</td>\n",
       "      <td>4</td>\n",
       "      <td>8</td>\n",
       "      <td>9</td>\n",
       "      <td>10</td>\n",
       "      <td>5</td>\n",
       "      <td>6</td>\n",
       "      <td>11</td>\n",
       "      <td>7</td>\n",
       "      <td>2</td>\n",
       "    </tr>\n",
       "  </tbody>\n",
       "</table>\n",
       "<p>3 rows × 109 columns</p>\n",
       "</div>"
      ],
      "text/plain": [
       "  Please formulate the top 5 hypotheses that are the most relevant or interesting to investigate. Use the \"Templated Hypothesis\" as a reference. Each hypothesis should come with a score from 1 to 5, with 1 being the lowest and 5 the best. You should use only some of the concepts that are provided in the tab and that you think are the most relevant.\\n\\nYour answer should be similar to:\\n```output\\nA- First hypothesis (score)\\nB- Second hypothesis (score)\\nC- Third hypothesis (score)\\nD- Fourth hypothesis (score)\\nE- Fifth hypothesis (score)\\n```  \\\n",
       "0  A- Cooperation is significantly higer when Ano...                                                                                                                                                                                                                                                                                                                                                                                                                                                                                                                     \n",
       "1  A- Cooperation is significantly higher when go...                                                                                                                                                                                                                                                                                                                                                                                                                                                                                                                     \n",
       "2  A-\\tCooperation is significantly higher when A...                                                                                                                                                                                                                                                                                                                                                                                                                                                                                                                     \n",
       "\n",
       "   Please rank the following 6 hypotheses on a scale of 1 to 5, in terms of relevance or interestingness to investigate. 1 is the worst score and 5 the best. [H1: Cooperation is significantly higher when anonymity manipulation is low compared to when anonymity manipulation is medium.]  \\\n",
       "0                                                  3                                                                                                                                                                                                                                            \n",
       "1                                                  2                                                                                                                                                                                                                                            \n",
       "2                                                  3                                                                                                                                                                                                                                            \n",
       "\n",
       "   Please rank the following 6 hypotheses on a scale of 1 to 5, in terms of relevance or interestingness to investigate. 1 is the worst score and 5 the best. [H2: Cooperation  is significantly higher when Knowledge of partner's prior behavior is cooperative compared to when Knowledge of partner's prior behavior is absent.]  \\\n",
       "0                                                  2                                                                                                                                                                                                                                                                                   \n",
       "1                                                  1                                                                                                                                                                                                                                                                                   \n",
       "2                                                  4                                                                                                                                                                                                                                                                                   \n",
       "\n",
       "   Please rank the following 6 hypotheses on a scale of 1 to 5, in terms of relevance or interestingness to investigate. 1 is the worst score and 5 the best. [H3: Cooperation is significantly lower when knowledge of partner's prior behavior is absent compared to when knowledge of partner's prior behavior is present.]  \\\n",
       "0                                                  4                                                                                                                                                                                                                                                                             \n",
       "1                                                  4                                                                                                                                                                                                                                                                             \n",
       "2                                                  1                                                                                                                                                                                                                                                                             \n",
       "\n",
       "   Please rank the following 6 hypotheses on a scale of 1 to 5, in terms of relevance or interestingness to investigate. 1 is the worst score and 5 the best. [H4: Cooperation is significantly lower when partner selection is present compared to when partner selection is absent.]  \\\n",
       "0                                                  5                                                                                                                                                                                                                                     \n",
       "1                                                  2                                                                                                                                                                                                                                     \n",
       "2                                                  1                                                                                                                                                                                                                                     \n",
       "\n",
       "   Please rank the following 6 hypotheses on a scale of 1 to 5, in terms of relevance or interestingness to investigate. 1 is the worst score and 5 the best. [H5: Cooperation  is significantly higher when Knowledge of partner's prior behavior is cooperative compared to when Knowledge of partner's prior behavior is noncooperative.]  \\\n",
       "0                                                  1                                                                                                                                                                                                                                                                                           \n",
       "1                                                  3                                                                                                                                                                                                                                                                                           \n",
       "2                                                  4                                                                                                                                                                                                                                                                                           \n",
       "\n",
       "   Please rank the following 6 hypotheses on a scale of 1 to 5, in terms of relevance or interestingness to investigate. 1 is the worst score and 5 the best. [H6: Cooperation is significantly lower when anonymity manipulation is low compared to when anonymity manipulation is medium.]  \\\n",
       "0                                                  4                                                                                                                                                                                                                                           \n",
       "1                                                  4                                                                                                                                                                                                                                           \n",
       "2                                                  1                                                                                                                                                                                                                                           \n",
       "\n",
       "   Please rank all the hypotheses, from the best one (rank = 1) to the worst one (rank = 11). The hypotheses contain the 5 hypotheses you generated, and the 6 generated by AI methods. [A]  \\\n",
       "0                                                  7                                                                                                                                          \n",
       "1                                                  8                                                                                                                                          \n",
       "2                                                  3                                                                                                                                          \n",
       "\n",
       "   Please rank all the hypotheses, from the best one (rank = 1) to the worst one (rank = 11). The hypotheses contain the 5 hypotheses you generated, and the 6 generated by AI methods. [B]  \\\n",
       "0                                                  2                                                                                                                                          \n",
       "1                                                  7                                                                                                                                          \n",
       "2                                                  8                                                                                                                                          \n",
       "\n",
       "   Please rank all the hypotheses, from the best one (rank = 1) to the worst one (rank = 11). The hypotheses contain the 5 hypotheses you generated, and the 6 generated by AI methods. [C]  \\\n",
       "0                                                  8                                                                                                                                          \n",
       "1                                                  1                                                                                                                                          \n",
       "2                                                  2                                                                                                                                          \n",
       "\n",
       "   ...  \\\n",
       "0  ...   \n",
       "1  ...   \n",
       "2  ...   \n",
       "\n",
       "   Please rank all the hypotheses, from the best one (rank = 1) to the worst one (rank = 11). The hypotheses contain the 5 hypotheses you generated, and the 6 generated by AI methods. [C].5  \\\n",
       "0                                                  2                                                                                                                                            \n",
       "1                                                  3                                                                                                                                            \n",
       "2                                                  3                                                                                                                                            \n",
       "\n",
       "   Please rank all the hypotheses, from the best one (rank = 1) to the worst one (rank = 11). The hypotheses contain the 5 hypotheses you generated, and the 6 generated by AI methods. [D].5  \\\n",
       "0                                                  6                                                                                                                                            \n",
       "1                                                  5                                                                                                                                            \n",
       "2                                                  4                                                                                                                                            \n",
       "\n",
       "   Please rank all the hypotheses, from the best one (rank = 1) to the worst one (rank = 11). The hypotheses contain the 5 hypotheses you generated, and the 6 generated by AI methods. [E].5  \\\n",
       "0                                                  4                                                                                                                                            \n",
       "1                                                  7                                                                                                                                            \n",
       "2                                                  8                                                                                                                                            \n",
       "\n",
       "   Please rank all the hypotheses, from the best one (rank = 1) to the worst one (rank = 11). The hypotheses contain the 5 hypotheses you generated, and the 6 generated by AI methods. [H1].5  \\\n",
       "0                                                  3                                                                                                                                             \n",
       "1                                                  4                                                                                                                                             \n",
       "2                                                  9                                                                                                                                             \n",
       "\n",
       "   Please rank all the hypotheses, from the best one (rank = 1) to the worst one (rank = 11). The hypotheses contain the 5 hypotheses you generated, and the 6 generated by AI methods. [H2].5  \\\n",
       "0                                                  1                                                                                                                                             \n",
       "1                                                  8                                                                                                                                             \n",
       "2                                                 10                                                                                                                                             \n",
       "\n",
       "   Please rank all the hypotheses, from the best one (rank = 1) to the worst one (rank = 11). The hypotheses contain the 5 hypotheses you generated, and the 6 generated by AI methods. [H3].5  \\\n",
       "0                                                  9                                                                                                                                             \n",
       "1                                                 10                                                                                                                                             \n",
       "2                                                  5                                                                                                                                             \n",
       "\n",
       "   Please rank all the hypotheses, from the best one (rank = 1) to the worst one (rank = 11). The hypotheses contain the 5 hypotheses you generated, and the 6 generated by AI methods. [H4].5  \\\n",
       "0                                                  5                                                                                                                                             \n",
       "1                                                  9                                                                                                                                             \n",
       "2                                                  6                                                                                                                                             \n",
       "\n",
       "   Please rank all the hypotheses, from the best one (rank = 1) to the worst one (rank = 11). The hypotheses contain the 5 hypotheses you generated, and the 6 generated by AI methods. [H5].5  \\\n",
       "0                                                  7                                                                                                                                             \n",
       "1                                                 11                                                                                                                                             \n",
       "2                                                 11                                                                                                                                             \n",
       "\n",
       "  Please rank all the hypotheses, from the best one (rank = 1) to the worst one (rank = 11). The hypotheses contain the 5 hypotheses you generated, and the 6 generated by AI methods. [H6].5  \\\n",
       "0                                                  8                                                                                                                                            \n",
       "1                                                  6                                                                                                                                            \n",
       "2                                                  7                                                                                                                                            \n",
       "\n",
       "   user_id  \n",
       "0        0  \n",
       "1        1  \n",
       "2        2  \n",
       "\n",
       "[3 rows x 109 columns]"
      ]
     },
     "execution_count": 23,
     "metadata": {},
     "output_type": "execute_result"
    }
   ],
   "source": [
    "all_results = pd.read_csv(\"../../user_study_responses.csv\")\n",
    "all_results = all_results[[x for x in all_results.columns[1:-8]]]\n",
    "all_results[\"user_id\"] = all_results.index\n",
    "all_results.head(3)"
   ]
  },
  {
   "cell_type": "markdown",
   "metadata": {},
   "source": [
    "## Human-generated hypotheses"
   ]
  },
  {
   "cell_type": "code",
   "execution_count": 24,
   "metadata": {},
   "outputs": [
    {
     "data": {
      "text/html": [
       "<div>\n",
       "<style scoped>\n",
       "    .dataframe tbody tr th:only-of-type {\n",
       "        vertical-align: middle;\n",
       "    }\n",
       "\n",
       "    .dataframe tbody tr th {\n",
       "        vertical-align: top;\n",
       "    }\n",
       "\n",
       "    .dataframe thead th {\n",
       "        text-align: right;\n",
       "    }\n",
       "</style>\n",
       "<table border=\"1\" class=\"dataframe\">\n",
       "  <thead>\n",
       "    <tr style=\"text-align: right;\">\n",
       "      <th></th>\n",
       "      <th>hypothesis</th>\n",
       "      <th>user_id</th>\n",
       "      <th>th</th>\n",
       "      <th>m</th>\n",
       "      <th>giv</th>\n",
       "      <th>i_shuffled</th>\n",
       "      <th>comparative</th>\n",
       "      <th>siv</th>\n",
       "      <th>sivv1</th>\n",
       "      <th>sivv2</th>\n",
       "      <th>mod</th>\n",
       "      <th>mod_val</th>\n",
       "      <th>mod1</th>\n",
       "      <th>mod2</th>\n",
       "      <th>score</th>\n",
       "    </tr>\n",
       "  </thead>\n",
       "  <tbody>\n",
       "    <tr>\n",
       "      <th>84</th>\n",
       "      <td>when comparing studies where group type is exp...</td>\n",
       "      <td>1</td>\n",
       "      <td>var_mod</td>\n",
       "      <td>human</td>\n",
       "      <td>IdentificationVariable</td>\n",
       "      <td>E</td>\n",
       "      <td>higher</td>\n",
       "      <td>group type</td>\n",
       "      <td>experimentally induced group</td>\n",
       "      <td>natural group</td>\n",
       "      <td>partner's group membership</td>\n",
       "      <td>None</td>\n",
       "      <td>in-group</td>\n",
       "      <td>outgroup</td>\n",
       "      <td>3.0</td>\n",
       "    </tr>\n",
       "    <tr>\n",
       "      <th>13</th>\n",
       "      <td>cooperation is significantly higher when knowl...</td>\n",
       "      <td>2</td>\n",
       "      <td>regular</td>\n",
       "      <td>human</td>\n",
       "      <td>ReputationVariable</td>\n",
       "      <td>D</td>\n",
       "      <td>higher</td>\n",
       "      <td>knowledge of partner's prior behavior</td>\n",
       "      <td>cooperative</td>\n",
       "      <td>noncooperative</td>\n",
       "      <td>None</td>\n",
       "      <td>None</td>\n",
       "      <td>None</td>\n",
       "      <td>None</td>\n",
       "      <td>4.0</td>\n",
       "    </tr>\n",
       "    <tr>\n",
       "      <th>29</th>\n",
       "      <td>cooperation is significantly higher when svo t...</td>\n",
       "      <td>2</td>\n",
       "      <td>regular</td>\n",
       "      <td>human</td>\n",
       "      <td>PersonalityVariable</td>\n",
       "      <td>E</td>\n",
       "      <td>higher</td>\n",
       "      <td>svo type</td>\n",
       "      <td>altruist</td>\n",
       "      <td>individualist</td>\n",
       "      <td>None</td>\n",
       "      <td>None</td>\n",
       "      <td>None</td>\n",
       "      <td>None</td>\n",
       "      <td>3.0</td>\n",
       "    </tr>\n",
       "  </tbody>\n",
       "</table>\n",
       "</div>"
      ],
      "text/plain": [
       "                                           hypothesis user_id       th      m  \\\n",
       "84  when comparing studies where group type is exp...       1  var_mod  human   \n",
       "13  cooperation is significantly higher when knowl...       2  regular  human   \n",
       "29  cooperation is significantly higher when svo t...       2  regular  human   \n",
       "\n",
       "                       giv i_shuffled comparative  \\\n",
       "84  IdentificationVariable          E      higher   \n",
       "13      ReputationVariable          D      higher   \n",
       "29     PersonalityVariable          E      higher   \n",
       "\n",
       "                                      siv                         sivv1  \\\n",
       "84                             group type  experimentally induced group   \n",
       "13  knowledge of partner's prior behavior                   cooperative   \n",
       "29                               svo type                      altruist   \n",
       "\n",
       "             sivv2                         mod mod_val      mod1      mod2  \\\n",
       "84   natural group  partner's group membership    None  in-group  outgroup   \n",
       "13  noncooperative                        None    None      None      None   \n",
       "29   individualist                        None    None      None      None   \n",
       "\n",
       "    score  \n",
       "84    3.0  \n",
       "13    4.0  \n",
       "29    3.0  "
      ]
     },
     "execution_count": 24,
     "metadata": {},
     "output_type": "execute_result"
    }
   ],
   "source": [
    "human_h_start_col = \"Please formulate the top 5 hypotheses that are the most relevant or interesting to investigate.\"\n",
    "human_h_orig = all_results[[x for x in all_results.columns if x.startswith(human_h_start_col)]]\n",
    "human_h_orig.columns = H_ORDER\n",
    "human_h = pd.DataFrame(columns=[\"hypothesis\", \"user_id\", \"th\", \"m\", \"giv\", \"i_shuffled\"] + COLS_VAR)\n",
    "\n",
    "def preprocess_h(text, pattern):\n",
    "    \"\"\" Pre-processing hypotheses (sometimes there is a difference across writings) \"\"\"\n",
    "    text = re.sub(pattern, '', text) \\\n",
    "        .replace(\". .\", \".\").lower().replace(\"higer\", \"higher\") \\\n",
    "            .replace(\" .\", \".\").replace(\"’\", \"'\").strip()\n",
    "    to_replace = [\n",
    "        (\"knowledge of the partner's behavior\", \"knowledge of partner's prior behavior\"),\n",
    "        (\"participant's gender is known\", \"partner's gender is known\")\n",
    "    ]\n",
    "    for old, new in to_replace:\n",
    "        text = text.replace(old, new)\n",
    "    return text\n",
    "\n",
    "def update_row(row, val):\n",
    "    \"\"\" Add info to df \"\"\"\n",
    "    th = \"_\".join(val.split(\"_\")[:-1])\n",
    "    row[\"th\"] = th\n",
    "    row[\"m\"] = \"human\"\n",
    "    row[\"giv\"] = val.split(\"_\")[-1]\n",
    "    row[\"i_shuffled\"] = str(row[\"hypothesis\"].split(\"-\")[0])\n",
    "    row[\"hypothesis\"] = \"-\".join(row[\"hypothesis\"].split(\"-\")[1:]).strip()\n",
    "    pattern = r'\\((\\d+)\\)'\n",
    "    score = re.search(pattern, row[\"hypothesis\"])\n",
    "    if score:\n",
    "        row[\"score\"] = int(score.group(1))\n",
    "    else:\n",
    "        row[\"score\"] = None\n",
    "    row[\"hypothesis\"] = preprocess_h(row[\"hypothesis\"], pattern)\n",
    "    \n",
    "    for regex in TEMPLATES_REGEX[th]:\n",
    "        matches = list(re.finditer(regex, row[\"hypothesis\"], re.MULTILINE))\n",
    "        if matches:\n",
    "            grouped = list(matches)[0].groups()\n",
    "            vals = {var: grouped[index] for index, var in enumerate(TEMPLATES_VAR[th])}\n",
    "            for col in COLS_VAR:\n",
    "                row[col] = vals.get(col, None)\n",
    "            break\n",
    "\n",
    "    return row\n",
    "\n",
    "for val in H_ORDER:\n",
    "    human_h_orig.loc[:, val] = human_h_orig[val].apply(lambda x: [y for y in x.split(\"\\n\") if y])\n",
    "    curr_df = human_h_orig[[val]].explode(val).rename(columns={val: \"hypothesis\"})\n",
    "    curr_df[\"user_id\"] = curr_df.index\n",
    "    curr_df = curr_df.apply(lambda row: update_row(row, val), axis=1)\n",
    "    human_h = pd.concat([human_h, curr_df])\n",
    "\n",
    "human_h.reset_index(drop=True).sample(3)"
   ]
  },
  {
   "cell_type": "code",
   "execution_count": 26,
   "metadata": {},
   "outputs": [
    {
     "data": {
      "text/html": [
       "<div>\n",
       "<style scoped>\n",
       "    .dataframe tbody tr th:only-of-type {\n",
       "        vertical-align: middle;\n",
       "    }\n",
       "\n",
       "    .dataframe tbody tr th {\n",
       "        vertical-align: top;\n",
       "    }\n",
       "\n",
       "    .dataframe thead th {\n",
       "        text-align: right;\n",
       "    }\n",
       "</style>\n",
       "<table border=\"1\" class=\"dataframe\">\n",
       "  <thead>\n",
       "    <tr style=\"text-align: right;\">\n",
       "      <th></th>\n",
       "      <th>hypothesis</th>\n",
       "      <th>user_id</th>\n",
       "      <th>th</th>\n",
       "      <th>m</th>\n",
       "      <th>giv</th>\n",
       "      <th>i_shuffled</th>\n",
       "      <th>comparative</th>\n",
       "      <th>siv</th>\n",
       "      <th>sivv1</th>\n",
       "      <th>sivv2</th>\n",
       "      <th>mod</th>\n",
       "      <th>mod_val</th>\n",
       "      <th>mod1</th>\n",
       "      <th>mod2</th>\n",
       "      <th>score</th>\n",
       "    </tr>\n",
       "  </thead>\n",
       "  <tbody>\n",
       "  </tbody>\n",
       "</table>\n",
       "</div>"
      ],
      "text/plain": [
       "Empty DataFrame\n",
       "Columns: [hypothesis, user_id, th, m, giv, i_shuffled, comparative, siv, sivv1, sivv2, mod, mod_val, mod1, mod2, score]\n",
       "Index: []"
      ]
     },
     "execution_count": 26,
     "metadata": {},
     "output_type": "execute_result"
    }
   ],
   "source": [
    "human_h[human_h.comparative.isna()]"
   ]
  },
  {
   "cell_type": "code",
   "execution_count": 27,
   "metadata": {},
   "outputs": [
    {
     "data": {
      "text/html": [
       "<div>\n",
       "<style scoped>\n",
       "    .dataframe tbody tr th:only-of-type {\n",
       "        vertical-align: middle;\n",
       "    }\n",
       "\n",
       "    .dataframe tbody tr th {\n",
       "        vertical-align: top;\n",
       "    }\n",
       "\n",
       "    .dataframe thead th {\n",
       "        text-align: right;\n",
       "    }\n",
       "</style>\n",
       "<table border=\"1\" class=\"dataframe\">\n",
       "  <thead>\n",
       "    <tr style=\"text-align: right;\">\n",
       "      <th></th>\n",
       "      <th>user_id</th>\n",
       "      <th>comparative</th>\n",
       "      <th>hypothesis</th>\n",
       "    </tr>\n",
       "  </thead>\n",
       "  <tbody>\n",
       "    <tr>\n",
       "      <th>0</th>\n",
       "      <td>0</td>\n",
       "      <td>higher</td>\n",
       "      <td>26</td>\n",
       "    </tr>\n",
       "    <tr>\n",
       "      <th>1</th>\n",
       "      <td>0</td>\n",
       "      <td>lower</td>\n",
       "      <td>4</td>\n",
       "    </tr>\n",
       "    <tr>\n",
       "      <th>2</th>\n",
       "      <td>1</td>\n",
       "      <td>higher</td>\n",
       "      <td>23</td>\n",
       "    </tr>\n",
       "    <tr>\n",
       "      <th>3</th>\n",
       "      <td>1</td>\n",
       "      <td>lower</td>\n",
       "      <td>7</td>\n",
       "    </tr>\n",
       "    <tr>\n",
       "      <th>4</th>\n",
       "      <td>2</td>\n",
       "      <td>higher</td>\n",
       "      <td>30</td>\n",
       "    </tr>\n",
       "  </tbody>\n",
       "</table>\n",
       "</div>"
      ],
      "text/plain": [
       "   user_id comparative  hypothesis\n",
       "0        0      higher          26\n",
       "1        0       lower           4\n",
       "2        1      higher          23\n",
       "3        1       lower           7\n",
       "4        2      higher          30"
      ]
     },
     "execution_count": 27,
     "metadata": {},
     "output_type": "execute_result"
    }
   ],
   "source": [
    "human_h.groupby([\"user_id\", \"comparative\"]).agg({\"hypothesis\": \"count\"}).reset_index()"
   ]
  },
  {
   "cell_type": "code",
   "execution_count": 32,
   "metadata": {},
   "outputs": [
    {
     "name": "stdout",
     "output_type": "stream",
     "text": [
      "\n",
      "On average, participants used the comparative ``higher'' 13.3 more times than ``lower'', resulting in 79  and 12 hypotheses with the comparative ``higher'' and ``lower'' respectively.\n",
      "\n"
     ]
    }
   ],
   "source": [
    "df_comparative = human_h.groupby([\"user_id\", \"comparative\"]).agg({\"hypothesis\": \"count\"}).reset_index().pivot_table(index='user_id', columns='comparative').fillna(1)\n",
    "df_comparative.columns = [x[1] for x in df_comparative.columns]\n",
    "df_comparative[\"div\"] = df_comparative[\"higher\"] / df_comparative[\"lower\"]\n",
    "df_comparative.reset_index(drop=True)\n",
    "\n",
    "des = f\"\"\"\n",
    "On average, participants used the comparative ``higher'' {round(df_comparative[\"div\"].mean(), 1)} more times than ``lower'', resulting in {int(df_comparative[\"higher\"].sum()):,}  and {int(df_comparative[\"lower\"].sum()):,} hypotheses with the comparative ``higher'' and ``lower'' respectively.\n",
    "\"\"\"\n",
    "print(des)"
   ]
  },
  {
   "cell_type": "code",
   "execution_count": 471,
   "metadata": {},
   "outputs": [
    {
     "data": {
      "text/html": [
       "<div>\n",
       "<style scoped>\n",
       "    .dataframe tbody tr th:only-of-type {\n",
       "        vertical-align: middle;\n",
       "    }\n",
       "\n",
       "    .dataframe tbody tr th {\n",
       "        vertical-align: top;\n",
       "    }\n",
       "\n",
       "    .dataframe thead th {\n",
       "        text-align: right;\n",
       "    }\n",
       "</style>\n",
       "<table border=\"1\" class=\"dataframe\">\n",
       "  <thead>\n",
       "    <tr style=\"text-align: right;\">\n",
       "      <th></th>\n",
       "      <th>hypothesis</th>\n",
       "      <th>user_id</th>\n",
       "      <th>th</th>\n",
       "      <th>m</th>\n",
       "      <th>giv</th>\n",
       "      <th>i_shuffled</th>\n",
       "      <th>comparative</th>\n",
       "      <th>siv</th>\n",
       "      <th>sivv1</th>\n",
       "      <th>sivv2</th>\n",
       "      <th>mod</th>\n",
       "      <th>mod_val</th>\n",
       "      <th>mod1</th>\n",
       "      <th>mod2</th>\n",
       "      <th>score</th>\n",
       "    </tr>\n",
       "  </thead>\n",
       "  <tbody>\n",
       "    <tr>\n",
       "      <th>0</th>\n",
       "      <td>when comparing studies where identification le...</td>\n",
       "      <td>0</td>\n",
       "      <td>var_mod</td>\n",
       "      <td>human</td>\n",
       "      <td>IdentificationVariable</td>\n",
       "      <td>A</td>\n",
       "      <td>higher</td>\n",
       "      <td>identification level</td>\n",
       "      <td>low</td>\n",
       "      <td>high</td>\n",
       "      <td>group type</td>\n",
       "      <td>None</td>\n",
       "      <td>natural group</td>\n",
       "      <td>experimentally induced group</td>\n",
       "      <td>1.0</td>\n",
       "    </tr>\n",
       "    <tr>\n",
       "      <th>0</th>\n",
       "      <td>when comparing studies where leadership is tru...</td>\n",
       "      <td>0</td>\n",
       "      <td>var_mod</td>\n",
       "      <td>human</td>\n",
       "      <td>LeadershipVariable</td>\n",
       "      <td>B</td>\n",
       "      <td>higher</td>\n",
       "      <td>leadership</td>\n",
       "      <td>true</td>\n",
       "      <td>false</td>\n",
       "      <td>leader's characteristic</td>\n",
       "      <td>None</td>\n",
       "      <td>strong</td>\n",
       "      <td>weak</td>\n",
       "      <td>3.0</td>\n",
       "    </tr>\n",
       "    <tr>\n",
       "      <th>1</th>\n",
       "      <td>when comparing studies where leadership is tru...</td>\n",
       "      <td>1</td>\n",
       "      <td>var_mod</td>\n",
       "      <td>human</td>\n",
       "      <td>LeadershipVariable</td>\n",
       "      <td>A</td>\n",
       "      <td>higher</td>\n",
       "      <td>leadership</td>\n",
       "      <td>true</td>\n",
       "      <td>false</td>\n",
       "      <td>endogenous leadership</td>\n",
       "      <td>None</td>\n",
       "      <td>endogenous</td>\n",
       "      <td>exogenous</td>\n",
       "      <td>4.0</td>\n",
       "    </tr>\n",
       "  </tbody>\n",
       "</table>\n",
       "</div>"
      ],
      "text/plain": [
       "                                          hypothesis user_id       th      m  \\\n",
       "0  when comparing studies where identification le...       0  var_mod  human   \n",
       "0  when comparing studies where leadership is tru...       0  var_mod  human   \n",
       "1  when comparing studies where leadership is tru...       1  var_mod  human   \n",
       "\n",
       "                      giv i_shuffled comparative                   siv sivv1  \\\n",
       "0  IdentificationVariable          A      higher  identification level   low   \n",
       "0      LeadershipVariable          B      higher            leadership  true   \n",
       "1      LeadershipVariable          A      higher            leadership  true   \n",
       "\n",
       "   sivv2                      mod mod_val           mod1  \\\n",
       "0   high               group type    None  natural group   \n",
       "0  false  leader's characteristic    None         strong   \n",
       "1  false    endogenous leadership    None     endogenous   \n",
       "\n",
       "                           mod2  score  \n",
       "0  experimentally induced group    1.0  \n",
       "0                          weak    3.0  \n",
       "1                     exogenous    4.0  "
      ]
     },
     "execution_count": 471,
     "metadata": {},
     "output_type": "execute_result"
    }
   ],
   "source": [
    "human_h.sample(3)"
   ]
  },
  {
   "cell_type": "code",
   "execution_count": 34,
   "metadata": {},
   "outputs": [
    {
     "name": "stdout",
     "output_type": "stream",
     "text": [
      "\n",
      "On average, participants rated their hypotheses with a score of 3.7.\n",
      "\n"
     ]
    }
   ],
   "source": [
    "print(f\"\"\"\n",
    "On average, participants rated their hypotheses with a score of {round(human_h.groupby(\"user_id\").agg({\"score\": \"mean\"}).score.mean(), 1)}.\n",
    "\"\"\")"
   ]
  },
  {
   "cell_type": "code",
   "execution_count": 35,
   "metadata": {},
   "outputs": [
    {
     "data": {
      "application/vnd.plotly.v1+json": {
       "config": {
        "plotlyServerURL": "https://plot.ly"
       },
       "data": [
        {
         "alignmentgroup": "True",
         "bingroup": "x",
         "histnorm": "",
         "hovertemplate": "th=regular<br>nb=%{x}<br>=%{y}<extra></extra>",
         "legendgroup": "regular",
         "marker": {
          "color": "rgb(136, 204, 238)",
          "opacity": 0.75,
          "pattern": {
           "shape": ""
          }
         },
         "name": "regular",
         "nbinsx": 3,
         "offsetgroup": "regular",
         "orientation": "v",
         "showlegend": true,
         "type": "histogram",
         "x": [
          2,
          1,
          1,
          1,
          3,
          1,
          1,
          1,
          1,
          1,
          1,
          1,
          1,
          3,
          1,
          3,
          1,
          1,
          1,
          2,
          1,
          1
         ],
         "xaxis": "x",
         "yaxis": "y"
        },
        {
         "alignmentgroup": "True",
         "bingroup": "x",
         "histnorm": "",
         "hovertemplate": "th=study_mod<br>nb=%{x}<br>=%{y}<extra></extra>",
         "legendgroup": "study_mod",
         "marker": {
          "color": "rgb(204, 102, 119)",
          "opacity": 0.75,
          "pattern": {
           "shape": ""
          }
         },
         "name": "study_mod",
         "nbinsx": 3,
         "offsetgroup": "study_mod",
         "orientation": "v",
         "showlegend": true,
         "type": "histogram",
         "x": [
          1,
          1,
          1,
          1,
          1,
          1,
          1,
          1,
          1,
          1,
          1,
          1,
          1,
          1,
          1,
          1,
          1,
          1,
          1,
          1,
          1,
          1,
          1,
          1,
          2,
          1,
          1,
          1,
          1
         ],
         "xaxis": "x",
         "yaxis": "y"
        },
        {
         "alignmentgroup": "True",
         "bingroup": "x",
         "histnorm": "",
         "hovertemplate": "th=var_mod<br>nb=%{x}<br>=%{y}<extra></extra>",
         "legendgroup": "var_mod",
         "marker": {
          "color": "rgb(221, 204, 119)",
          "opacity": 0.75,
          "pattern": {
           "shape": ""
          }
         },
         "name": "var_mod",
         "nbinsx": 3,
         "offsetgroup": "var_mod",
         "orientation": "v",
         "showlegend": true,
         "type": "histogram",
         "x": [
          1,
          1,
          1,
          1,
          1,
          1,
          1,
          1,
          1,
          1,
          1,
          1,
          1,
          1,
          1,
          1,
          1,
          1,
          1,
          1,
          1,
          1,
          1,
          1,
          1,
          1,
          1,
          1,
          1,
          1
         ],
         "xaxis": "x",
         "yaxis": "y"
        }
       ],
       "layout": {
        "barmode": "group",
        "legend": {
         "title": {
          "text": "th"
         },
         "tracegroupgap": 0
        },
        "margin": {
         "t": 60
        },
        "template": {
         "data": {
          "bar": [
           {
            "error_x": {
             "color": "#2a3f5f"
            },
            "error_y": {
             "color": "#2a3f5f"
            },
            "marker": {
             "line": {
              "color": "#E5ECF6",
              "width": 0.5
             },
             "pattern": {
              "fillmode": "overlay",
              "size": 10,
              "solidity": 0.2
             }
            },
            "type": "bar"
           }
          ],
          "barpolar": [
           {
            "marker": {
             "line": {
              "color": "#E5ECF6",
              "width": 0.5
             },
             "pattern": {
              "fillmode": "overlay",
              "size": 10,
              "solidity": 0.2
             }
            },
            "type": "barpolar"
           }
          ],
          "carpet": [
           {
            "aaxis": {
             "endlinecolor": "#2a3f5f",
             "gridcolor": "white",
             "linecolor": "white",
             "minorgridcolor": "white",
             "startlinecolor": "#2a3f5f"
            },
            "baxis": {
             "endlinecolor": "#2a3f5f",
             "gridcolor": "white",
             "linecolor": "white",
             "minorgridcolor": "white",
             "startlinecolor": "#2a3f5f"
            },
            "type": "carpet"
           }
          ],
          "choropleth": [
           {
            "colorbar": {
             "outlinewidth": 0,
             "ticks": ""
            },
            "type": "choropleth"
           }
          ],
          "contour": [
           {
            "colorbar": {
             "outlinewidth": 0,
             "ticks": ""
            },
            "colorscale": [
             [
              0,
              "#0d0887"
             ],
             [
              0.1111111111111111,
              "#46039f"
             ],
             [
              0.2222222222222222,
              "#7201a8"
             ],
             [
              0.3333333333333333,
              "#9c179e"
             ],
             [
              0.4444444444444444,
              "#bd3786"
             ],
             [
              0.5555555555555556,
              "#d8576b"
             ],
             [
              0.6666666666666666,
              "#ed7953"
             ],
             [
              0.7777777777777778,
              "#fb9f3a"
             ],
             [
              0.8888888888888888,
              "#fdca26"
             ],
             [
              1,
              "#f0f921"
             ]
            ],
            "type": "contour"
           }
          ],
          "contourcarpet": [
           {
            "colorbar": {
             "outlinewidth": 0,
             "ticks": ""
            },
            "type": "contourcarpet"
           }
          ],
          "heatmap": [
           {
            "colorbar": {
             "outlinewidth": 0,
             "ticks": ""
            },
            "colorscale": [
             [
              0,
              "#0d0887"
             ],
             [
              0.1111111111111111,
              "#46039f"
             ],
             [
              0.2222222222222222,
              "#7201a8"
             ],
             [
              0.3333333333333333,
              "#9c179e"
             ],
             [
              0.4444444444444444,
              "#bd3786"
             ],
             [
              0.5555555555555556,
              "#d8576b"
             ],
             [
              0.6666666666666666,
              "#ed7953"
             ],
             [
              0.7777777777777778,
              "#fb9f3a"
             ],
             [
              0.8888888888888888,
              "#fdca26"
             ],
             [
              1,
              "#f0f921"
             ]
            ],
            "type": "heatmap"
           }
          ],
          "heatmapgl": [
           {
            "colorbar": {
             "outlinewidth": 0,
             "ticks": ""
            },
            "colorscale": [
             [
              0,
              "#0d0887"
             ],
             [
              0.1111111111111111,
              "#46039f"
             ],
             [
              0.2222222222222222,
              "#7201a8"
             ],
             [
              0.3333333333333333,
              "#9c179e"
             ],
             [
              0.4444444444444444,
              "#bd3786"
             ],
             [
              0.5555555555555556,
              "#d8576b"
             ],
             [
              0.6666666666666666,
              "#ed7953"
             ],
             [
              0.7777777777777778,
              "#fb9f3a"
             ],
             [
              0.8888888888888888,
              "#fdca26"
             ],
             [
              1,
              "#f0f921"
             ]
            ],
            "type": "heatmapgl"
           }
          ],
          "histogram": [
           {
            "marker": {
             "pattern": {
              "fillmode": "overlay",
              "size": 10,
              "solidity": 0.2
             }
            },
            "type": "histogram"
           }
          ],
          "histogram2d": [
           {
            "colorbar": {
             "outlinewidth": 0,
             "ticks": ""
            },
            "colorscale": [
             [
              0,
              "#0d0887"
             ],
             [
              0.1111111111111111,
              "#46039f"
             ],
             [
              0.2222222222222222,
              "#7201a8"
             ],
             [
              0.3333333333333333,
              "#9c179e"
             ],
             [
              0.4444444444444444,
              "#bd3786"
             ],
             [
              0.5555555555555556,
              "#d8576b"
             ],
             [
              0.6666666666666666,
              "#ed7953"
             ],
             [
              0.7777777777777778,
              "#fb9f3a"
             ],
             [
              0.8888888888888888,
              "#fdca26"
             ],
             [
              1,
              "#f0f921"
             ]
            ],
            "type": "histogram2d"
           }
          ],
          "histogram2dcontour": [
           {
            "colorbar": {
             "outlinewidth": 0,
             "ticks": ""
            },
            "colorscale": [
             [
              0,
              "#0d0887"
             ],
             [
              0.1111111111111111,
              "#46039f"
             ],
             [
              0.2222222222222222,
              "#7201a8"
             ],
             [
              0.3333333333333333,
              "#9c179e"
             ],
             [
              0.4444444444444444,
              "#bd3786"
             ],
             [
              0.5555555555555556,
              "#d8576b"
             ],
             [
              0.6666666666666666,
              "#ed7953"
             ],
             [
              0.7777777777777778,
              "#fb9f3a"
             ],
             [
              0.8888888888888888,
              "#fdca26"
             ],
             [
              1,
              "#f0f921"
             ]
            ],
            "type": "histogram2dcontour"
           }
          ],
          "mesh3d": [
           {
            "colorbar": {
             "outlinewidth": 0,
             "ticks": ""
            },
            "type": "mesh3d"
           }
          ],
          "parcoords": [
           {
            "line": {
             "colorbar": {
              "outlinewidth": 0,
              "ticks": ""
             }
            },
            "type": "parcoords"
           }
          ],
          "pie": [
           {
            "automargin": true,
            "type": "pie"
           }
          ],
          "scatter": [
           {
            "fillpattern": {
             "fillmode": "overlay",
             "size": 10,
             "solidity": 0.2
            },
            "type": "scatter"
           }
          ],
          "scatter3d": [
           {
            "line": {
             "colorbar": {
              "outlinewidth": 0,
              "ticks": ""
             }
            },
            "marker": {
             "colorbar": {
              "outlinewidth": 0,
              "ticks": ""
             }
            },
            "type": "scatter3d"
           }
          ],
          "scattercarpet": [
           {
            "marker": {
             "colorbar": {
              "outlinewidth": 0,
              "ticks": ""
             }
            },
            "type": "scattercarpet"
           }
          ],
          "scattergeo": [
           {
            "marker": {
             "colorbar": {
              "outlinewidth": 0,
              "ticks": ""
             }
            },
            "type": "scattergeo"
           }
          ],
          "scattergl": [
           {
            "marker": {
             "colorbar": {
              "outlinewidth": 0,
              "ticks": ""
             }
            },
            "type": "scattergl"
           }
          ],
          "scattermapbox": [
           {
            "marker": {
             "colorbar": {
              "outlinewidth": 0,
              "ticks": ""
             }
            },
            "type": "scattermapbox"
           }
          ],
          "scatterpolar": [
           {
            "marker": {
             "colorbar": {
              "outlinewidth": 0,
              "ticks": ""
             }
            },
            "type": "scatterpolar"
           }
          ],
          "scatterpolargl": [
           {
            "marker": {
             "colorbar": {
              "outlinewidth": 0,
              "ticks": ""
             }
            },
            "type": "scatterpolargl"
           }
          ],
          "scatterternary": [
           {
            "marker": {
             "colorbar": {
              "outlinewidth": 0,
              "ticks": ""
             }
            },
            "type": "scatterternary"
           }
          ],
          "surface": [
           {
            "colorbar": {
             "outlinewidth": 0,
             "ticks": ""
            },
            "colorscale": [
             [
              0,
              "#0d0887"
             ],
             [
              0.1111111111111111,
              "#46039f"
             ],
             [
              0.2222222222222222,
              "#7201a8"
             ],
             [
              0.3333333333333333,
              "#9c179e"
             ],
             [
              0.4444444444444444,
              "#bd3786"
             ],
             [
              0.5555555555555556,
              "#d8576b"
             ],
             [
              0.6666666666666666,
              "#ed7953"
             ],
             [
              0.7777777777777778,
              "#fb9f3a"
             ],
             [
              0.8888888888888888,
              "#fdca26"
             ],
             [
              1,
              "#f0f921"
             ]
            ],
            "type": "surface"
           }
          ],
          "table": [
           {
            "cells": {
             "fill": {
              "color": "#EBF0F8"
             },
             "line": {
              "color": "white"
             }
            },
            "header": {
             "fill": {
              "color": "#C8D4E3"
             },
             "line": {
              "color": "white"
             }
            },
            "type": "table"
           }
          ]
         },
         "layout": {
          "annotationdefaults": {
           "arrowcolor": "#2a3f5f",
           "arrowhead": 0,
           "arrowwidth": 1
          },
          "autotypenumbers": "strict",
          "coloraxis": {
           "colorbar": {
            "outlinewidth": 0,
            "ticks": ""
           }
          },
          "colorscale": {
           "diverging": [
            [
             0,
             "#8e0152"
            ],
            [
             0.1,
             "#c51b7d"
            ],
            [
             0.2,
             "#de77ae"
            ],
            [
             0.3,
             "#f1b6da"
            ],
            [
             0.4,
             "#fde0ef"
            ],
            [
             0.5,
             "#f7f7f7"
            ],
            [
             0.6,
             "#e6f5d0"
            ],
            [
             0.7,
             "#b8e186"
            ],
            [
             0.8,
             "#7fbc41"
            ],
            [
             0.9,
             "#4d9221"
            ],
            [
             1,
             "#276419"
            ]
           ],
           "sequential": [
            [
             0,
             "#0d0887"
            ],
            [
             0.1111111111111111,
             "#46039f"
            ],
            [
             0.2222222222222222,
             "#7201a8"
            ],
            [
             0.3333333333333333,
             "#9c179e"
            ],
            [
             0.4444444444444444,
             "#bd3786"
            ],
            [
             0.5555555555555556,
             "#d8576b"
            ],
            [
             0.6666666666666666,
             "#ed7953"
            ],
            [
             0.7777777777777778,
             "#fb9f3a"
            ],
            [
             0.8888888888888888,
             "#fdca26"
            ],
            [
             1,
             "#f0f921"
            ]
           ],
           "sequentialminus": [
            [
             0,
             "#0d0887"
            ],
            [
             0.1111111111111111,
             "#46039f"
            ],
            [
             0.2222222222222222,
             "#7201a8"
            ],
            [
             0.3333333333333333,
             "#9c179e"
            ],
            [
             0.4444444444444444,
             "#bd3786"
            ],
            [
             0.5555555555555556,
             "#d8576b"
            ],
            [
             0.6666666666666666,
             "#ed7953"
            ],
            [
             0.7777777777777778,
             "#fb9f3a"
            ],
            [
             0.8888888888888888,
             "#fdca26"
            ],
            [
             1,
             "#f0f921"
            ]
           ]
          },
          "colorway": [
           "#636efa",
           "#EF553B",
           "#00cc96",
           "#ab63fa",
           "#FFA15A",
           "#19d3f3",
           "#FF6692",
           "#B6E880",
           "#FF97FF",
           "#FECB52"
          ],
          "font": {
           "color": "#2a3f5f"
          },
          "geo": {
           "bgcolor": "white",
           "lakecolor": "white",
           "landcolor": "#E5ECF6",
           "showlakes": true,
           "showland": true,
           "subunitcolor": "white"
          },
          "hoverlabel": {
           "align": "left"
          },
          "hovermode": "closest",
          "mapbox": {
           "style": "light"
          },
          "paper_bgcolor": "white",
          "plot_bgcolor": "#E5ECF6",
          "polar": {
           "angularaxis": {
            "gridcolor": "white",
            "linecolor": "white",
            "ticks": ""
           },
           "bgcolor": "#E5ECF6",
           "radialaxis": {
            "gridcolor": "white",
            "linecolor": "white",
            "ticks": ""
           }
          },
          "scene": {
           "xaxis": {
            "backgroundcolor": "#E5ECF6",
            "gridcolor": "white",
            "gridwidth": 2,
            "linecolor": "white",
            "showbackground": true,
            "ticks": "",
            "zerolinecolor": "white"
           },
           "yaxis": {
            "backgroundcolor": "#E5ECF6",
            "gridcolor": "white",
            "gridwidth": 2,
            "linecolor": "white",
            "showbackground": true,
            "ticks": "",
            "zerolinecolor": "white"
           },
           "zaxis": {
            "backgroundcolor": "#E5ECF6",
            "gridcolor": "white",
            "gridwidth": 2,
            "linecolor": "white",
            "showbackground": true,
            "ticks": "",
            "zerolinecolor": "white"
           }
          },
          "shapedefaults": {
           "line": {
            "color": "#2a3f5f"
           }
          },
          "ternary": {
           "aaxis": {
            "gridcolor": "white",
            "linecolor": "white",
            "ticks": ""
           },
           "baxis": {
            "gridcolor": "white",
            "linecolor": "white",
            "ticks": ""
           },
           "bgcolor": "#E5ECF6",
           "caxis": {
            "gridcolor": "white",
            "linecolor": "white",
            "ticks": ""
           }
          },
          "title": {
           "x": 0.05
          },
          "xaxis": {
           "automargin": true,
           "gridcolor": "white",
           "linecolor": "white",
           "ticks": "",
           "title": {
            "standoff": 15
           },
           "zerolinecolor": "white",
           "zerolinewidth": 2
          },
          "yaxis": {
           "automargin": true,
           "gridcolor": "white",
           "linecolor": "white",
           "ticks": "",
           "title": {
            "standoff": 15
           },
           "zerolinecolor": "white",
           "zerolinewidth": 2
          }
         }
        },
        "xaxis": {
         "anchor": "y",
         "domain": [
          0,
          1
         ],
         "title": {
          "text": "nb"
         }
        },
        "yaxis": {
         "anchor": "x",
         "domain": [
          0,
          1
         ],
         "title": {
          "text": ""
         }
        }
       }
      }
     },
     "metadata": {},
     "output_type": "display_data"
    }
   ],
   "source": [
    "df_hist = pd.DataFrame(columns=[\"th\", \"nb\"])\n",
    "for th in TEMPLATES_VAR.keys():\n",
    "    vals = human_h[human_h.th == th].groupby(TEMPLATES_VAR[th]).agg({\"user_id\": \"nunique\"}).user_id.values\n",
    "    curr_df = pd.DataFrame({\"th\": th, \"nb\": vals}, columns=[\"th\", \"nb\"])\n",
    "    df_hist = pd.concat([df_hist, curr_df])\n",
    "\n",
    "color_palette = px.colors.qualitative.Safe\n",
    "fig = px.histogram(df_hist, x=\"nb\", histnorm=\"\", nbins=human_h.user_id.unique().shape[0], color=\"th\",\n",
    "                   color_discrete_sequence=color_palette, opacity=0.75)\n",
    "fig.update_layout(barmode='group')\n",
    "fig.write_image(\"../visualisations/user_studies_common_h.pdf\", format='pdf')\n",
    "fig.show()"
   ]
  },
  {
   "cell_type": "code",
   "execution_count": 36,
   "metadata": {},
   "outputs": [
    {
     "data": {
      "application/vnd.plotly.v1+json": {
       "config": {
        "plotlyServerURL": "https://plot.ly"
       },
       "data": [
        {
         "alignmentgroup": "True",
         "bingroup": "x",
         "histnorm": "",
         "hovertemplate": "th=regular<br>user_id=%{x}<br>=%{y}<extra></extra>",
         "legendgroup": "regular",
         "marker": {
          "color": "rgb(136, 204, 238)",
          "opacity": 0.75,
          "pattern": {
           "shape": ""
          }
         },
         "name": "regular",
         "nbinsx": 3,
         "offsetgroup": "regular",
         "orientation": "v",
         "showlegend": true,
         "type": "histogram",
         "x": [
          3,
          1,
          3,
          1,
          2,
          1,
          3,
          3,
          2,
          3,
          1
         ],
         "xaxis": "x",
         "yaxis": "y"
        },
        {
         "alignmentgroup": "True",
         "bingroup": "x",
         "histnorm": "",
         "hovertemplate": "th=study_mod<br>user_id=%{x}<br>=%{y}<extra></extra>",
         "legendgroup": "study_mod",
         "marker": {
          "color": "rgb(204, 102, 119)",
          "opacity": 0.75,
          "pattern": {
           "shape": ""
          }
         },
         "name": "study_mod",
         "nbinsx": 3,
         "offsetgroup": "study_mod",
         "orientation": "v",
         "showlegend": true,
         "type": "histogram",
         "x": [
          2,
          1,
          2,
          2,
          2,
          2,
          2
         ],
         "xaxis": "x",
         "yaxis": "y"
        },
        {
         "alignmentgroup": "True",
         "bingroup": "x",
         "histnorm": "",
         "hovertemplate": "th=var_mod<br>user_id=%{x}<br>=%{y}<extra></extra>",
         "legendgroup": "var_mod",
         "marker": {
          "color": "rgb(221, 204, 119)",
          "opacity": 0.75,
          "pattern": {
           "shape": ""
          }
         },
         "name": "var_mod",
         "nbinsx": 3,
         "offsetgroup": "var_mod",
         "orientation": "v",
         "showlegend": true,
         "type": "histogram",
         "x": [
          1,
          1,
          2,
          2,
          1,
          2,
          1,
          2
         ],
         "xaxis": "x",
         "yaxis": "y"
        }
       ],
       "layout": {
        "barmode": "group",
        "legend": {
         "title": {
          "text": "th"
         },
         "tracegroupgap": 0
        },
        "margin": {
         "t": 60
        },
        "template": {
         "data": {
          "bar": [
           {
            "error_x": {
             "color": "#2a3f5f"
            },
            "error_y": {
             "color": "#2a3f5f"
            },
            "marker": {
             "line": {
              "color": "#E5ECF6",
              "width": 0.5
             },
             "pattern": {
              "fillmode": "overlay",
              "size": 10,
              "solidity": 0.2
             }
            },
            "type": "bar"
           }
          ],
          "barpolar": [
           {
            "marker": {
             "line": {
              "color": "#E5ECF6",
              "width": 0.5
             },
             "pattern": {
              "fillmode": "overlay",
              "size": 10,
              "solidity": 0.2
             }
            },
            "type": "barpolar"
           }
          ],
          "carpet": [
           {
            "aaxis": {
             "endlinecolor": "#2a3f5f",
             "gridcolor": "white",
             "linecolor": "white",
             "minorgridcolor": "white",
             "startlinecolor": "#2a3f5f"
            },
            "baxis": {
             "endlinecolor": "#2a3f5f",
             "gridcolor": "white",
             "linecolor": "white",
             "minorgridcolor": "white",
             "startlinecolor": "#2a3f5f"
            },
            "type": "carpet"
           }
          ],
          "choropleth": [
           {
            "colorbar": {
             "outlinewidth": 0,
             "ticks": ""
            },
            "type": "choropleth"
           }
          ],
          "contour": [
           {
            "colorbar": {
             "outlinewidth": 0,
             "ticks": ""
            },
            "colorscale": [
             [
              0,
              "#0d0887"
             ],
             [
              0.1111111111111111,
              "#46039f"
             ],
             [
              0.2222222222222222,
              "#7201a8"
             ],
             [
              0.3333333333333333,
              "#9c179e"
             ],
             [
              0.4444444444444444,
              "#bd3786"
             ],
             [
              0.5555555555555556,
              "#d8576b"
             ],
             [
              0.6666666666666666,
              "#ed7953"
             ],
             [
              0.7777777777777778,
              "#fb9f3a"
             ],
             [
              0.8888888888888888,
              "#fdca26"
             ],
             [
              1,
              "#f0f921"
             ]
            ],
            "type": "contour"
           }
          ],
          "contourcarpet": [
           {
            "colorbar": {
             "outlinewidth": 0,
             "ticks": ""
            },
            "type": "contourcarpet"
           }
          ],
          "heatmap": [
           {
            "colorbar": {
             "outlinewidth": 0,
             "ticks": ""
            },
            "colorscale": [
             [
              0,
              "#0d0887"
             ],
             [
              0.1111111111111111,
              "#46039f"
             ],
             [
              0.2222222222222222,
              "#7201a8"
             ],
             [
              0.3333333333333333,
              "#9c179e"
             ],
             [
              0.4444444444444444,
              "#bd3786"
             ],
             [
              0.5555555555555556,
              "#d8576b"
             ],
             [
              0.6666666666666666,
              "#ed7953"
             ],
             [
              0.7777777777777778,
              "#fb9f3a"
             ],
             [
              0.8888888888888888,
              "#fdca26"
             ],
             [
              1,
              "#f0f921"
             ]
            ],
            "type": "heatmap"
           }
          ],
          "heatmapgl": [
           {
            "colorbar": {
             "outlinewidth": 0,
             "ticks": ""
            },
            "colorscale": [
             [
              0,
              "#0d0887"
             ],
             [
              0.1111111111111111,
              "#46039f"
             ],
             [
              0.2222222222222222,
              "#7201a8"
             ],
             [
              0.3333333333333333,
              "#9c179e"
             ],
             [
              0.4444444444444444,
              "#bd3786"
             ],
             [
              0.5555555555555556,
              "#d8576b"
             ],
             [
              0.6666666666666666,
              "#ed7953"
             ],
             [
              0.7777777777777778,
              "#fb9f3a"
             ],
             [
              0.8888888888888888,
              "#fdca26"
             ],
             [
              1,
              "#f0f921"
             ]
            ],
            "type": "heatmapgl"
           }
          ],
          "histogram": [
           {
            "marker": {
             "pattern": {
              "fillmode": "overlay",
              "size": 10,
              "solidity": 0.2
             }
            },
            "type": "histogram"
           }
          ],
          "histogram2d": [
           {
            "colorbar": {
             "outlinewidth": 0,
             "ticks": ""
            },
            "colorscale": [
             [
              0,
              "#0d0887"
             ],
             [
              0.1111111111111111,
              "#46039f"
             ],
             [
              0.2222222222222222,
              "#7201a8"
             ],
             [
              0.3333333333333333,
              "#9c179e"
             ],
             [
              0.4444444444444444,
              "#bd3786"
             ],
             [
              0.5555555555555556,
              "#d8576b"
             ],
             [
              0.6666666666666666,
              "#ed7953"
             ],
             [
              0.7777777777777778,
              "#fb9f3a"
             ],
             [
              0.8888888888888888,
              "#fdca26"
             ],
             [
              1,
              "#f0f921"
             ]
            ],
            "type": "histogram2d"
           }
          ],
          "histogram2dcontour": [
           {
            "colorbar": {
             "outlinewidth": 0,
             "ticks": ""
            },
            "colorscale": [
             [
              0,
              "#0d0887"
             ],
             [
              0.1111111111111111,
              "#46039f"
             ],
             [
              0.2222222222222222,
              "#7201a8"
             ],
             [
              0.3333333333333333,
              "#9c179e"
             ],
             [
              0.4444444444444444,
              "#bd3786"
             ],
             [
              0.5555555555555556,
              "#d8576b"
             ],
             [
              0.6666666666666666,
              "#ed7953"
             ],
             [
              0.7777777777777778,
              "#fb9f3a"
             ],
             [
              0.8888888888888888,
              "#fdca26"
             ],
             [
              1,
              "#f0f921"
             ]
            ],
            "type": "histogram2dcontour"
           }
          ],
          "mesh3d": [
           {
            "colorbar": {
             "outlinewidth": 0,
             "ticks": ""
            },
            "type": "mesh3d"
           }
          ],
          "parcoords": [
           {
            "line": {
             "colorbar": {
              "outlinewidth": 0,
              "ticks": ""
             }
            },
            "type": "parcoords"
           }
          ],
          "pie": [
           {
            "automargin": true,
            "type": "pie"
           }
          ],
          "scatter": [
           {
            "fillpattern": {
             "fillmode": "overlay",
             "size": 10,
             "solidity": 0.2
            },
            "type": "scatter"
           }
          ],
          "scatter3d": [
           {
            "line": {
             "colorbar": {
              "outlinewidth": 0,
              "ticks": ""
             }
            },
            "marker": {
             "colorbar": {
              "outlinewidth": 0,
              "ticks": ""
             }
            },
            "type": "scatter3d"
           }
          ],
          "scattercarpet": [
           {
            "marker": {
             "colorbar": {
              "outlinewidth": 0,
              "ticks": ""
             }
            },
            "type": "scattercarpet"
           }
          ],
          "scattergeo": [
           {
            "marker": {
             "colorbar": {
              "outlinewidth": 0,
              "ticks": ""
             }
            },
            "type": "scattergeo"
           }
          ],
          "scattergl": [
           {
            "marker": {
             "colorbar": {
              "outlinewidth": 0,
              "ticks": ""
             }
            },
            "type": "scattergl"
           }
          ],
          "scattermapbox": [
           {
            "marker": {
             "colorbar": {
              "outlinewidth": 0,
              "ticks": ""
             }
            },
            "type": "scattermapbox"
           }
          ],
          "scatterpolar": [
           {
            "marker": {
             "colorbar": {
              "outlinewidth": 0,
              "ticks": ""
             }
            },
            "type": "scatterpolar"
           }
          ],
          "scatterpolargl": [
           {
            "marker": {
             "colorbar": {
              "outlinewidth": 0,
              "ticks": ""
             }
            },
            "type": "scatterpolargl"
           }
          ],
          "scatterternary": [
           {
            "marker": {
             "colorbar": {
              "outlinewidth": 0,
              "ticks": ""
             }
            },
            "type": "scatterternary"
           }
          ],
          "surface": [
           {
            "colorbar": {
             "outlinewidth": 0,
             "ticks": ""
            },
            "colorscale": [
             [
              0,
              "#0d0887"
             ],
             [
              0.1111111111111111,
              "#46039f"
             ],
             [
              0.2222222222222222,
              "#7201a8"
             ],
             [
              0.3333333333333333,
              "#9c179e"
             ],
             [
              0.4444444444444444,
              "#bd3786"
             ],
             [
              0.5555555555555556,
              "#d8576b"
             ],
             [
              0.6666666666666666,
              "#ed7953"
             ],
             [
              0.7777777777777778,
              "#fb9f3a"
             ],
             [
              0.8888888888888888,
              "#fdca26"
             ],
             [
              1,
              "#f0f921"
             ]
            ],
            "type": "surface"
           }
          ],
          "table": [
           {
            "cells": {
             "fill": {
              "color": "#EBF0F8"
             },
             "line": {
              "color": "white"
             }
            },
            "header": {
             "fill": {
              "color": "#C8D4E3"
             },
             "line": {
              "color": "white"
             }
            },
            "type": "table"
           }
          ]
         },
         "layout": {
          "annotationdefaults": {
           "arrowcolor": "#2a3f5f",
           "arrowhead": 0,
           "arrowwidth": 1
          },
          "autotypenumbers": "strict",
          "coloraxis": {
           "colorbar": {
            "outlinewidth": 0,
            "ticks": ""
           }
          },
          "colorscale": {
           "diverging": [
            [
             0,
             "#8e0152"
            ],
            [
             0.1,
             "#c51b7d"
            ],
            [
             0.2,
             "#de77ae"
            ],
            [
             0.3,
             "#f1b6da"
            ],
            [
             0.4,
             "#fde0ef"
            ],
            [
             0.5,
             "#f7f7f7"
            ],
            [
             0.6,
             "#e6f5d0"
            ],
            [
             0.7,
             "#b8e186"
            ],
            [
             0.8,
             "#7fbc41"
            ],
            [
             0.9,
             "#4d9221"
            ],
            [
             1,
             "#276419"
            ]
           ],
           "sequential": [
            [
             0,
             "#0d0887"
            ],
            [
             0.1111111111111111,
             "#46039f"
            ],
            [
             0.2222222222222222,
             "#7201a8"
            ],
            [
             0.3333333333333333,
             "#9c179e"
            ],
            [
             0.4444444444444444,
             "#bd3786"
            ],
            [
             0.5555555555555556,
             "#d8576b"
            ],
            [
             0.6666666666666666,
             "#ed7953"
            ],
            [
             0.7777777777777778,
             "#fb9f3a"
            ],
            [
             0.8888888888888888,
             "#fdca26"
            ],
            [
             1,
             "#f0f921"
            ]
           ],
           "sequentialminus": [
            [
             0,
             "#0d0887"
            ],
            [
             0.1111111111111111,
             "#46039f"
            ],
            [
             0.2222222222222222,
             "#7201a8"
            ],
            [
             0.3333333333333333,
             "#9c179e"
            ],
            [
             0.4444444444444444,
             "#bd3786"
            ],
            [
             0.5555555555555556,
             "#d8576b"
            ],
            [
             0.6666666666666666,
             "#ed7953"
            ],
            [
             0.7777777777777778,
             "#fb9f3a"
            ],
            [
             0.8888888888888888,
             "#fdca26"
            ],
            [
             1,
             "#f0f921"
            ]
           ]
          },
          "colorway": [
           "#636efa",
           "#EF553B",
           "#00cc96",
           "#ab63fa",
           "#FFA15A",
           "#19d3f3",
           "#FF6692",
           "#B6E880",
           "#FF97FF",
           "#FECB52"
          ],
          "font": {
           "color": "#2a3f5f"
          },
          "geo": {
           "bgcolor": "white",
           "lakecolor": "white",
           "landcolor": "#E5ECF6",
           "showlakes": true,
           "showland": true,
           "subunitcolor": "white"
          },
          "hoverlabel": {
           "align": "left"
          },
          "hovermode": "closest",
          "mapbox": {
           "style": "light"
          },
          "paper_bgcolor": "white",
          "plot_bgcolor": "#E5ECF6",
          "polar": {
           "angularaxis": {
            "gridcolor": "white",
            "linecolor": "white",
            "ticks": ""
           },
           "bgcolor": "#E5ECF6",
           "radialaxis": {
            "gridcolor": "white",
            "linecolor": "white",
            "ticks": ""
           }
          },
          "scene": {
           "xaxis": {
            "backgroundcolor": "#E5ECF6",
            "gridcolor": "white",
            "gridwidth": 2,
            "linecolor": "white",
            "showbackground": true,
            "ticks": "",
            "zerolinecolor": "white"
           },
           "yaxis": {
            "backgroundcolor": "#E5ECF6",
            "gridcolor": "white",
            "gridwidth": 2,
            "linecolor": "white",
            "showbackground": true,
            "ticks": "",
            "zerolinecolor": "white"
           },
           "zaxis": {
            "backgroundcolor": "#E5ECF6",
            "gridcolor": "white",
            "gridwidth": 2,
            "linecolor": "white",
            "showbackground": true,
            "ticks": "",
            "zerolinecolor": "white"
           }
          },
          "shapedefaults": {
           "line": {
            "color": "#2a3f5f"
           }
          },
          "ternary": {
           "aaxis": {
            "gridcolor": "white",
            "linecolor": "white",
            "ticks": ""
           },
           "baxis": {
            "gridcolor": "white",
            "linecolor": "white",
            "ticks": ""
           },
           "bgcolor": "#E5ECF6",
           "caxis": {
            "gridcolor": "white",
            "linecolor": "white",
            "ticks": ""
           }
          },
          "title": {
           "x": 0.05
          },
          "xaxis": {
           "automargin": true,
           "gridcolor": "white",
           "linecolor": "white",
           "ticks": "",
           "title": {
            "standoff": 15
           },
           "zerolinecolor": "white",
           "zerolinewidth": 2
          },
          "yaxis": {
           "automargin": true,
           "gridcolor": "white",
           "linecolor": "white",
           "ticks": "",
           "title": {
            "standoff": 15
           },
           "zerolinecolor": "white",
           "zerolinewidth": 2
          }
         }
        },
        "xaxis": {
         "anchor": "y",
         "domain": [
          0,
          1
         ],
         "title": {
          "text": "user_id"
         }
        },
        "yaxis": {
         "anchor": "x",
         "domain": [
          0,
          1
         ],
         "title": {
          "text": ""
         }
        }
       }
      }
     },
     "metadata": {},
     "output_type": "display_data"
    }
   ],
   "source": [
    "color_palette = px.colors.qualitative.Safe\n",
    "fig = px.histogram(\n",
    "    human_h.groupby([\"th\", \"siv\"]).agg({\"user_id\": \"nunique\"}).reset_index(),\n",
    "    x=\"user_id\", histnorm=\"\", nbins=human_h.user_id.unique().shape[0], color=\"th\",\n",
    "    color_discrete_sequence=color_palette, opacity=0.75)\n",
    "fig.update_layout(barmode='group')\n",
    "fig.write_image(\"../visualisations/user_studies_common_siv.pdf\", format='pdf')\n",
    "fig.show()"
   ]
  },
  {
   "cell_type": "code",
   "execution_count": 37,
   "metadata": {},
   "outputs": [
    {
     "data": {
      "application/vnd.plotly.v1+json": {
       "config": {
        "plotlyServerURL": "https://plot.ly"
       },
       "data": [
        {
         "alignmentgroup": "True",
         "bingroup": "x",
         "histnorm": "",
         "hovertemplate": "th=study_mod<br>user_id=%{x}<br>=%{y}<extra></extra>",
         "legendgroup": "study_mod",
         "marker": {
          "color": "rgb(136, 204, 238)",
          "opacity": 0.75,
          "pattern": {
           "shape": ""
          }
         },
         "name": "study_mod",
         "nbinsx": 3,
         "offsetgroup": "study_mod",
         "orientation": "v",
         "showlegend": true,
         "type": "histogram",
         "x": [
          1,
          1,
          3,
          1,
          1,
          1,
          2,
          2,
          1,
          3,
          2,
          3,
          1,
          1
         ],
         "xaxis": "x",
         "yaxis": "y"
        },
        {
         "alignmentgroup": "True",
         "bingroup": "x",
         "histnorm": "",
         "hovertemplate": "th=var_mod<br>user_id=%{x}<br>=%{y}<extra></extra>",
         "legendgroup": "var_mod",
         "marker": {
          "color": "rgb(204, 102, 119)",
          "opacity": 0.75,
          "pattern": {
           "shape": ""
          }
         },
         "name": "var_mod",
         "nbinsx": 3,
         "offsetgroup": "var_mod",
         "orientation": "v",
         "showlegend": true,
         "type": "histogram",
         "x": [
          1,
          2,
          1,
          2,
          1,
          1,
          1,
          1,
          1,
          1,
          1,
          1,
          2,
          2
         ],
         "xaxis": "x",
         "yaxis": "y"
        }
       ],
       "layout": {
        "barmode": "group",
        "legend": {
         "title": {
          "text": "th"
         },
         "tracegroupgap": 0
        },
        "margin": {
         "t": 60
        },
        "template": {
         "data": {
          "bar": [
           {
            "error_x": {
             "color": "#2a3f5f"
            },
            "error_y": {
             "color": "#2a3f5f"
            },
            "marker": {
             "line": {
              "color": "#E5ECF6",
              "width": 0.5
             },
             "pattern": {
              "fillmode": "overlay",
              "size": 10,
              "solidity": 0.2
             }
            },
            "type": "bar"
           }
          ],
          "barpolar": [
           {
            "marker": {
             "line": {
              "color": "#E5ECF6",
              "width": 0.5
             },
             "pattern": {
              "fillmode": "overlay",
              "size": 10,
              "solidity": 0.2
             }
            },
            "type": "barpolar"
           }
          ],
          "carpet": [
           {
            "aaxis": {
             "endlinecolor": "#2a3f5f",
             "gridcolor": "white",
             "linecolor": "white",
             "minorgridcolor": "white",
             "startlinecolor": "#2a3f5f"
            },
            "baxis": {
             "endlinecolor": "#2a3f5f",
             "gridcolor": "white",
             "linecolor": "white",
             "minorgridcolor": "white",
             "startlinecolor": "#2a3f5f"
            },
            "type": "carpet"
           }
          ],
          "choropleth": [
           {
            "colorbar": {
             "outlinewidth": 0,
             "ticks": ""
            },
            "type": "choropleth"
           }
          ],
          "contour": [
           {
            "colorbar": {
             "outlinewidth": 0,
             "ticks": ""
            },
            "colorscale": [
             [
              0,
              "#0d0887"
             ],
             [
              0.1111111111111111,
              "#46039f"
             ],
             [
              0.2222222222222222,
              "#7201a8"
             ],
             [
              0.3333333333333333,
              "#9c179e"
             ],
             [
              0.4444444444444444,
              "#bd3786"
             ],
             [
              0.5555555555555556,
              "#d8576b"
             ],
             [
              0.6666666666666666,
              "#ed7953"
             ],
             [
              0.7777777777777778,
              "#fb9f3a"
             ],
             [
              0.8888888888888888,
              "#fdca26"
             ],
             [
              1,
              "#f0f921"
             ]
            ],
            "type": "contour"
           }
          ],
          "contourcarpet": [
           {
            "colorbar": {
             "outlinewidth": 0,
             "ticks": ""
            },
            "type": "contourcarpet"
           }
          ],
          "heatmap": [
           {
            "colorbar": {
             "outlinewidth": 0,
             "ticks": ""
            },
            "colorscale": [
             [
              0,
              "#0d0887"
             ],
             [
              0.1111111111111111,
              "#46039f"
             ],
             [
              0.2222222222222222,
              "#7201a8"
             ],
             [
              0.3333333333333333,
              "#9c179e"
             ],
             [
              0.4444444444444444,
              "#bd3786"
             ],
             [
              0.5555555555555556,
              "#d8576b"
             ],
             [
              0.6666666666666666,
              "#ed7953"
             ],
             [
              0.7777777777777778,
              "#fb9f3a"
             ],
             [
              0.8888888888888888,
              "#fdca26"
             ],
             [
              1,
              "#f0f921"
             ]
            ],
            "type": "heatmap"
           }
          ],
          "heatmapgl": [
           {
            "colorbar": {
             "outlinewidth": 0,
             "ticks": ""
            },
            "colorscale": [
             [
              0,
              "#0d0887"
             ],
             [
              0.1111111111111111,
              "#46039f"
             ],
             [
              0.2222222222222222,
              "#7201a8"
             ],
             [
              0.3333333333333333,
              "#9c179e"
             ],
             [
              0.4444444444444444,
              "#bd3786"
             ],
             [
              0.5555555555555556,
              "#d8576b"
             ],
             [
              0.6666666666666666,
              "#ed7953"
             ],
             [
              0.7777777777777778,
              "#fb9f3a"
             ],
             [
              0.8888888888888888,
              "#fdca26"
             ],
             [
              1,
              "#f0f921"
             ]
            ],
            "type": "heatmapgl"
           }
          ],
          "histogram": [
           {
            "marker": {
             "pattern": {
              "fillmode": "overlay",
              "size": 10,
              "solidity": 0.2
             }
            },
            "type": "histogram"
           }
          ],
          "histogram2d": [
           {
            "colorbar": {
             "outlinewidth": 0,
             "ticks": ""
            },
            "colorscale": [
             [
              0,
              "#0d0887"
             ],
             [
              0.1111111111111111,
              "#46039f"
             ],
             [
              0.2222222222222222,
              "#7201a8"
             ],
             [
              0.3333333333333333,
              "#9c179e"
             ],
             [
              0.4444444444444444,
              "#bd3786"
             ],
             [
              0.5555555555555556,
              "#d8576b"
             ],
             [
              0.6666666666666666,
              "#ed7953"
             ],
             [
              0.7777777777777778,
              "#fb9f3a"
             ],
             [
              0.8888888888888888,
              "#fdca26"
             ],
             [
              1,
              "#f0f921"
             ]
            ],
            "type": "histogram2d"
           }
          ],
          "histogram2dcontour": [
           {
            "colorbar": {
             "outlinewidth": 0,
             "ticks": ""
            },
            "colorscale": [
             [
              0,
              "#0d0887"
             ],
             [
              0.1111111111111111,
              "#46039f"
             ],
             [
              0.2222222222222222,
              "#7201a8"
             ],
             [
              0.3333333333333333,
              "#9c179e"
             ],
             [
              0.4444444444444444,
              "#bd3786"
             ],
             [
              0.5555555555555556,
              "#d8576b"
             ],
             [
              0.6666666666666666,
              "#ed7953"
             ],
             [
              0.7777777777777778,
              "#fb9f3a"
             ],
             [
              0.8888888888888888,
              "#fdca26"
             ],
             [
              1,
              "#f0f921"
             ]
            ],
            "type": "histogram2dcontour"
           }
          ],
          "mesh3d": [
           {
            "colorbar": {
             "outlinewidth": 0,
             "ticks": ""
            },
            "type": "mesh3d"
           }
          ],
          "parcoords": [
           {
            "line": {
             "colorbar": {
              "outlinewidth": 0,
              "ticks": ""
             }
            },
            "type": "parcoords"
           }
          ],
          "pie": [
           {
            "automargin": true,
            "type": "pie"
           }
          ],
          "scatter": [
           {
            "fillpattern": {
             "fillmode": "overlay",
             "size": 10,
             "solidity": 0.2
            },
            "type": "scatter"
           }
          ],
          "scatter3d": [
           {
            "line": {
             "colorbar": {
              "outlinewidth": 0,
              "ticks": ""
             }
            },
            "marker": {
             "colorbar": {
              "outlinewidth": 0,
              "ticks": ""
             }
            },
            "type": "scatter3d"
           }
          ],
          "scattercarpet": [
           {
            "marker": {
             "colorbar": {
              "outlinewidth": 0,
              "ticks": ""
             }
            },
            "type": "scattercarpet"
           }
          ],
          "scattergeo": [
           {
            "marker": {
             "colorbar": {
              "outlinewidth": 0,
              "ticks": ""
             }
            },
            "type": "scattergeo"
           }
          ],
          "scattergl": [
           {
            "marker": {
             "colorbar": {
              "outlinewidth": 0,
              "ticks": ""
             }
            },
            "type": "scattergl"
           }
          ],
          "scattermapbox": [
           {
            "marker": {
             "colorbar": {
              "outlinewidth": 0,
              "ticks": ""
             }
            },
            "type": "scattermapbox"
           }
          ],
          "scatterpolar": [
           {
            "marker": {
             "colorbar": {
              "outlinewidth": 0,
              "ticks": ""
             }
            },
            "type": "scatterpolar"
           }
          ],
          "scatterpolargl": [
           {
            "marker": {
             "colorbar": {
              "outlinewidth": 0,
              "ticks": ""
             }
            },
            "type": "scatterpolargl"
           }
          ],
          "scatterternary": [
           {
            "marker": {
             "colorbar": {
              "outlinewidth": 0,
              "ticks": ""
             }
            },
            "type": "scatterternary"
           }
          ],
          "surface": [
           {
            "colorbar": {
             "outlinewidth": 0,
             "ticks": ""
            },
            "colorscale": [
             [
              0,
              "#0d0887"
             ],
             [
              0.1111111111111111,
              "#46039f"
             ],
             [
              0.2222222222222222,
              "#7201a8"
             ],
             [
              0.3333333333333333,
              "#9c179e"
             ],
             [
              0.4444444444444444,
              "#bd3786"
             ],
             [
              0.5555555555555556,
              "#d8576b"
             ],
             [
              0.6666666666666666,
              "#ed7953"
             ],
             [
              0.7777777777777778,
              "#fb9f3a"
             ],
             [
              0.8888888888888888,
              "#fdca26"
             ],
             [
              1,
              "#f0f921"
             ]
            ],
            "type": "surface"
           }
          ],
          "table": [
           {
            "cells": {
             "fill": {
              "color": "#EBF0F8"
             },
             "line": {
              "color": "white"
             }
            },
            "header": {
             "fill": {
              "color": "#C8D4E3"
             },
             "line": {
              "color": "white"
             }
            },
            "type": "table"
           }
          ]
         },
         "layout": {
          "annotationdefaults": {
           "arrowcolor": "#2a3f5f",
           "arrowhead": 0,
           "arrowwidth": 1
          },
          "autotypenumbers": "strict",
          "coloraxis": {
           "colorbar": {
            "outlinewidth": 0,
            "ticks": ""
           }
          },
          "colorscale": {
           "diverging": [
            [
             0,
             "#8e0152"
            ],
            [
             0.1,
             "#c51b7d"
            ],
            [
             0.2,
             "#de77ae"
            ],
            [
             0.3,
             "#f1b6da"
            ],
            [
             0.4,
             "#fde0ef"
            ],
            [
             0.5,
             "#f7f7f7"
            ],
            [
             0.6,
             "#e6f5d0"
            ],
            [
             0.7,
             "#b8e186"
            ],
            [
             0.8,
             "#7fbc41"
            ],
            [
             0.9,
             "#4d9221"
            ],
            [
             1,
             "#276419"
            ]
           ],
           "sequential": [
            [
             0,
             "#0d0887"
            ],
            [
             0.1111111111111111,
             "#46039f"
            ],
            [
             0.2222222222222222,
             "#7201a8"
            ],
            [
             0.3333333333333333,
             "#9c179e"
            ],
            [
             0.4444444444444444,
             "#bd3786"
            ],
            [
             0.5555555555555556,
             "#d8576b"
            ],
            [
             0.6666666666666666,
             "#ed7953"
            ],
            [
             0.7777777777777778,
             "#fb9f3a"
            ],
            [
             0.8888888888888888,
             "#fdca26"
            ],
            [
             1,
             "#f0f921"
            ]
           ],
           "sequentialminus": [
            [
             0,
             "#0d0887"
            ],
            [
             0.1111111111111111,
             "#46039f"
            ],
            [
             0.2222222222222222,
             "#7201a8"
            ],
            [
             0.3333333333333333,
             "#9c179e"
            ],
            [
             0.4444444444444444,
             "#bd3786"
            ],
            [
             0.5555555555555556,
             "#d8576b"
            ],
            [
             0.6666666666666666,
             "#ed7953"
            ],
            [
             0.7777777777777778,
             "#fb9f3a"
            ],
            [
             0.8888888888888888,
             "#fdca26"
            ],
            [
             1,
             "#f0f921"
            ]
           ]
          },
          "colorway": [
           "#636efa",
           "#EF553B",
           "#00cc96",
           "#ab63fa",
           "#FFA15A",
           "#19d3f3",
           "#FF6692",
           "#B6E880",
           "#FF97FF",
           "#FECB52"
          ],
          "font": {
           "color": "#2a3f5f"
          },
          "geo": {
           "bgcolor": "white",
           "lakecolor": "white",
           "landcolor": "#E5ECF6",
           "showlakes": true,
           "showland": true,
           "subunitcolor": "white"
          },
          "hoverlabel": {
           "align": "left"
          },
          "hovermode": "closest",
          "mapbox": {
           "style": "light"
          },
          "paper_bgcolor": "white",
          "plot_bgcolor": "#E5ECF6",
          "polar": {
           "angularaxis": {
            "gridcolor": "white",
            "linecolor": "white",
            "ticks": ""
           },
           "bgcolor": "#E5ECF6",
           "radialaxis": {
            "gridcolor": "white",
            "linecolor": "white",
            "ticks": ""
           }
          },
          "scene": {
           "xaxis": {
            "backgroundcolor": "#E5ECF6",
            "gridcolor": "white",
            "gridwidth": 2,
            "linecolor": "white",
            "showbackground": true,
            "ticks": "",
            "zerolinecolor": "white"
           },
           "yaxis": {
            "backgroundcolor": "#E5ECF6",
            "gridcolor": "white",
            "gridwidth": 2,
            "linecolor": "white",
            "showbackground": true,
            "ticks": "",
            "zerolinecolor": "white"
           },
           "zaxis": {
            "backgroundcolor": "#E5ECF6",
            "gridcolor": "white",
            "gridwidth": 2,
            "linecolor": "white",
            "showbackground": true,
            "ticks": "",
            "zerolinecolor": "white"
           }
          },
          "shapedefaults": {
           "line": {
            "color": "#2a3f5f"
           }
          },
          "ternary": {
           "aaxis": {
            "gridcolor": "white",
            "linecolor": "white",
            "ticks": ""
           },
           "baxis": {
            "gridcolor": "white",
            "linecolor": "white",
            "ticks": ""
           },
           "bgcolor": "#E5ECF6",
           "caxis": {
            "gridcolor": "white",
            "linecolor": "white",
            "ticks": ""
           }
          },
          "title": {
           "x": 0.05
          },
          "xaxis": {
           "automargin": true,
           "gridcolor": "white",
           "linecolor": "white",
           "ticks": "",
           "title": {
            "standoff": 15
           },
           "zerolinecolor": "white",
           "zerolinewidth": 2
          },
          "yaxis": {
           "automargin": true,
           "gridcolor": "white",
           "linecolor": "white",
           "ticks": "",
           "title": {
            "standoff": 15
           },
           "zerolinecolor": "white",
           "zerolinewidth": 2
          }
         }
        },
        "xaxis": {
         "anchor": "y",
         "domain": [
          0,
          1
         ],
         "title": {
          "text": "user_id"
         }
        },
        "yaxis": {
         "anchor": "x",
         "domain": [
          0,
          1
         ],
         "title": {
          "text": ""
         }
        }
       }
      }
     },
     "metadata": {},
     "output_type": "display_data"
    }
   ],
   "source": [
    "color_palette = px.colors.qualitative.Safe\n",
    "fig = px.histogram(\n",
    "    human_h.groupby([\"th\", \"mod\"]).agg({\"user_id\": \"nunique\"}).reset_index(),\n",
    "    x=\"user_id\", histnorm=\"\", nbins=human_h.user_id.unique().shape[0], color=\"th\",\n",
    "    color_discrete_sequence=color_palette, opacity=0.75)\n",
    "fig.update_layout(barmode='group')\n",
    "fig.write_image(\"../visualisations/user_studies_common_mod.pdf\", format='pdf')\n",
    "fig.show()"
   ]
  },
  {
   "cell_type": "markdown",
   "metadata": {},
   "source": [
    "## AI-generated hypotheses"
   ]
  },
  {
   "cell_type": "code",
   "execution_count": 86,
   "metadata": {},
   "outputs": [
    {
     "data": {
      "text/html": [
       "<div>\n",
       "<style scoped>\n",
       "    .dataframe tbody tr th:only-of-type {\n",
       "        vertical-align: middle;\n",
       "    }\n",
       "\n",
       "    .dataframe tbody tr th {\n",
       "        vertical-align: top;\n",
       "    }\n",
       "\n",
       "    .dataframe thead th {\n",
       "        text-align: right;\n",
       "    }\n",
       "</style>\n",
       "<table border=\"1\" class=\"dataframe\">\n",
       "  <thead>\n",
       "    <tr style=\"text-align: right;\">\n",
       "      <th></th>\n",
       "      <th>user_id</th>\n",
       "      <th>score</th>\n",
       "      <th>th</th>\n",
       "      <th>giv</th>\n",
       "      <th>i_shuffled</th>\n",
       "      <th>m</th>\n",
       "      <th>i_orig</th>\n",
       "      <th>h</th>\n",
       "    </tr>\n",
       "  </thead>\n",
       "  <tbody>\n",
       "    <tr>\n",
       "      <th>103</th>\n",
       "      <td>1</td>\n",
       "      <td>2</td>\n",
       "      <td>var_mod</td>\n",
       "      <td>IdentificationVariable</td>\n",
       "      <td>4</td>\n",
       "      <td>llm_zero_shot_prompting</td>\n",
       "      <td>2</td>\n",
       "      <td>When comparing studies where Knowledge of grou...</td>\n",
       "    </tr>\n",
       "    <tr>\n",
       "      <th>23</th>\n",
       "      <td>2</td>\n",
       "      <td>3</td>\n",
       "      <td>regular</td>\n",
       "      <td>PersonalityVariable</td>\n",
       "      <td>1</td>\n",
       "      <td>anyburl</td>\n",
       "      <td>5</td>\n",
       "      <td>Cooperation is significantly lower when svo ty...</td>\n",
       "    </tr>\n",
       "    <tr>\n",
       "      <th>60</th>\n",
       "      <td>0</td>\n",
       "      <td>1</td>\n",
       "      <td>study_mod</td>\n",
       "      <td>IncentivesVariable</td>\n",
       "      <td>2</td>\n",
       "      <td>anyburl</td>\n",
       "      <td>5</td>\n",
       "      <td>When comparing studies where game incentive is...</td>\n",
       "    </tr>\n",
       "  </tbody>\n",
       "</table>\n",
       "</div>"
      ],
      "text/plain": [
       "    user_id score         th                     giv i_shuffled  \\\n",
       "103       1     2    var_mod  IdentificationVariable          4   \n",
       "23        2     3    regular     PersonalityVariable          1   \n",
       "60        0     1  study_mod      IncentivesVariable          2   \n",
       "\n",
       "                           m  i_orig  \\\n",
       "103  llm_zero_shot_prompting       2   \n",
       "23                   anyburl       5   \n",
       "60                   anyburl       5   \n",
       "\n",
       "                                                     h  \n",
       "103  When comparing studies where Knowledge of grou...  \n",
       "23   Cooperation is significantly lower when svo ty...  \n",
       "60   When comparing studies where game incentive is...  "
      ]
     },
     "execution_count": 86,
     "metadata": {},
     "output_type": "execute_result"
    }
   ],
   "source": [
    "ai_h_start_col = \"Please rank the following 6 hypotheses on a scale of 1 to 5\"\n",
    "ai_h_orig = all_results[[x for x in all_results.columns if x.startswith(ai_h_start_col)]]\n",
    "ai_h_orig.columns = [f\"{ho}_{i}\" for ho in H_ORDER for i in range(6)]\n",
    "\n",
    "ai_h = pd.DataFrame(columns=[\"user_id\", \"score\", \"th\", \"giv\", \"i_shuffled\"])\n",
    "\n",
    "def update_row_ai(row, val):\n",
    "    th = \"_\".join(val.split(\"_\")[:-1])\n",
    "    row[\"th\"] = th\n",
    "    row[\"giv\"] = val.split(\"_\")[-1]\n",
    "    return row\n",
    "\n",
    "for ho in H_ORDER:\n",
    "    for i in range(6):\n",
    "        curr_df = ai_h_orig[[f\"{ho}_{i}\"]].rename(columns={f\"{ho}_{i}\": \"score\"})\n",
    "        curr_df[\"user_id\"] = curr_df.index\n",
    "        curr_df[\"i_shuffled\"] = str(i)\n",
    "        curr_df = curr_df.apply(lambda row: update_row_ai(row, ho), axis=1)\n",
    "        ai_h = pd.concat([ai_h, curr_df])\n",
    "    \n",
    "ai_h = ai_h.reset_index(drop=True)\n",
    "ai_h_metadata = pd.read_csv(\"hypotheses.csv\", index_col=0)\n",
    "ai_h_metadata.i_shuffled = ai_h_metadata.i_shuffled.astype(str)\n",
    "ai_h = pd.merge(ai_h, ai_h_metadata, on=['th', 'giv', 'i_shuffled'], how='left')\n",
    "ai_h.sample(3)"
   ]
  },
  {
   "cell_type": "code",
   "execution_count": 87,
   "metadata": {},
   "outputs": [
    {
     "name": "stdout",
     "output_type": "stream",
     "text": [
      "0.21509925154572074 0.3069275682499605\n"
     ]
    },
    {
     "name": "stderr",
     "output_type": "stream",
     "text": [
      "/var/folders/p9/2gjyjx2x3pjb2m5w91srfdq40000gp/T/ipykernel_5695/2384889223.py:2: SettingWithCopyWarning:\n",
      "\n",
      "\n",
      "A value is trying to be set on a copy of a slice from a DataFrame.\n",
      "Try using .loc[row_indexer,col_indexer] = value instead\n",
      "\n",
      "See the caveats in the documentation: https://pandas.pydata.org/pandas-docs/stable/user_guide/indexing.html#returning-a-view-versus-a-copy\n",
      "\n"
     ]
    }
   ],
   "source": [
    "data_agreement = ai_h[[\"th\", \"giv\", \"i_shuffled\", \"m\", \"score\", \"user_id\"]]\n",
    "data_agreement[\"q_id\"] = data_agreement[\"th\"] + '_' + data_agreement[\"giv\"] + '_' + \\\n",
    "    data_agreement[\"i_shuffled\"] + '_' + data_agreement[\"m\"]\n",
    "data_agreement = data_agreement[[\"q_id\", \"user_id\", \"score\"]].values\n",
    "\n",
    "questions_answers_table = pivot_table_frequency(data_agreement[:, 0], data_agreement[:, 2])\n",
    "users_answers_table = pivot_table_frequency(data_agreement[:, 1], data_agreement[:, 2])\n",
    "\n",
    "kappa = cohens_kappa(questions_answers_table, users_answers_table)\n",
    "weighted_kappa = cohens_kappa(questions_answers_table, users_answers_table, weights_kernel=quadratic_kernel)\n",
    "print(kappa, weighted_kappa)\n"
   ]
  },
  {
   "cell_type": "code",
   "execution_count": 88,
   "metadata": {},
   "outputs": [
    {
     "data": {
      "application/vnd.plotly.v1+json": {
       "config": {
        "plotlyServerURL": "https://plot.ly"
       },
       "data": [
        {
         "alignmentgroup": "True",
         "boxpoints": "all",
         "hovertemplate": "m=classification<br>th=%{x}<br>score=%{y}<extra></extra>",
         "legendgroup": "classification",
         "marker": {
          "color": "rgb(136, 204, 238)"
         },
         "name": "classification",
         "notched": false,
         "offsetgroup": "classification",
         "orientation": "v",
         "showlegend": true,
         "type": "box",
         "x": [
          "regular",
          "regular",
          "regular",
          "regular",
          "regular",
          "regular",
          "regular",
          "regular",
          "regular",
          "regular",
          "regular",
          "regular",
          "study_mod",
          "study_mod",
          "study_mod",
          "study_mod",
          "study_mod",
          "study_mod",
          "study_mod",
          "study_mod",
          "study_mod",
          "study_mod",
          "study_mod",
          "study_mod",
          "var_mod",
          "var_mod",
          "var_mod",
          "var_mod",
          "var_mod",
          "var_mod",
          "var_mod",
          "var_mod",
          "var_mod",
          "var_mod",
          "var_mod",
          "var_mod"
         ],
         "x0": " ",
         "xaxis": "x",
         "y": [
          3,
          2,
          3,
          4,
          4,
          1,
          3,
          3,
          3,
          4,
          3,
          4,
          1,
          1,
          1,
          2,
          2,
          2,
          1,
          1,
          1,
          1,
          1,
          1,
          4,
          2,
          1,
          4,
          2,
          1,
          2,
          3,
          5,
          4,
          3,
          5
         ],
         "y0": " ",
         "yaxis": "y"
        },
        {
         "alignmentgroup": "True",
         "boxpoints": "all",
         "hovertemplate": "m=llm_zero_shot_prompting<br>th=%{x}<br>score=%{y}<extra></extra>",
         "legendgroup": "llm_zero_shot_prompting",
         "marker": {
          "color": "rgb(204, 102, 119)"
         },
         "name": "llm_zero_shot_prompting",
         "notched": false,
         "offsetgroup": "llm_zero_shot_prompting",
         "orientation": "v",
         "showlegend": true,
         "type": "box",
         "x": [
          "regular",
          "regular",
          "regular",
          "regular",
          "regular",
          "regular",
          "regular",
          "regular",
          "regular",
          "regular",
          "regular",
          "regular",
          "study_mod",
          "study_mod",
          "study_mod",
          "study_mod",
          "study_mod",
          "study_mod",
          "study_mod",
          "study_mod",
          "study_mod",
          "study_mod",
          "study_mod",
          "study_mod",
          "var_mod",
          "var_mod",
          "var_mod",
          "var_mod",
          "var_mod",
          "var_mod",
          "var_mod",
          "var_mod",
          "var_mod",
          "var_mod",
          "var_mod",
          "var_mod"
         ],
         "x0": " ",
         "xaxis": "x",
         "y": [
          2,
          1,
          4,
          1,
          3,
          4,
          2,
          2,
          1,
          2,
          2,
          1,
          2,
          2,
          1,
          4,
          3,
          1,
          4,
          4,
          3,
          4,
          4,
          3,
          2,
          2,
          1,
          4,
          2,
          1,
          5,
          3,
          2,
          3,
          2,
          2
         ],
         "y0": " ",
         "yaxis": "y"
        },
        {
         "alignmentgroup": "True",
         "boxpoints": "all",
         "hovertemplate": "m=anyburl<br>th=%{x}<br>score=%{y}<extra></extra>",
         "legendgroup": "anyburl",
         "marker": {
          "color": "rgb(221, 204, 119)"
         },
         "name": "anyburl",
         "notched": false,
         "offsetgroup": "anyburl",
         "orientation": "v",
         "showlegend": true,
         "type": "box",
         "x": [
          "regular",
          "regular",
          "regular",
          "regular",
          "regular",
          "regular",
          "regular",
          "regular",
          "regular",
          "regular",
          "regular",
          "regular",
          "study_mod",
          "study_mod",
          "study_mod",
          "study_mod",
          "study_mod",
          "study_mod",
          "study_mod",
          "study_mod",
          "study_mod",
          "study_mod",
          "study_mod",
          "study_mod",
          "var_mod",
          "var_mod",
          "var_mod",
          "var_mod",
          "var_mod",
          "var_mod",
          "var_mod",
          "var_mod",
          "var_mod",
          "var_mod",
          "var_mod",
          "var_mod"
         ],
         "x0": " ",
         "xaxis": "x",
         "y": [
          5,
          2,
          1,
          4,
          4,
          1,
          2,
          2,
          1,
          3,
          3,
          3,
          1,
          1,
          1,
          3,
          1,
          1,
          3,
          4,
          1,
          1,
          1,
          1,
          2,
          4,
          1,
          2,
          2,
          1,
          4,
          4,
          4,
          3,
          4,
          5
         ],
         "y0": " ",
         "yaxis": "y"
        }
       ],
       "layout": {
        "boxmode": "group",
        "legend": {
         "title": {
          "text": "m"
         },
         "tracegroupgap": 0
        },
        "margin": {
         "t": 60
        },
        "template": {
         "data": {
          "bar": [
           {
            "error_x": {
             "color": "#2a3f5f"
            },
            "error_y": {
             "color": "#2a3f5f"
            },
            "marker": {
             "line": {
              "color": "#E5ECF6",
              "width": 0.5
             },
             "pattern": {
              "fillmode": "overlay",
              "size": 10,
              "solidity": 0.2
             }
            },
            "type": "bar"
           }
          ],
          "barpolar": [
           {
            "marker": {
             "line": {
              "color": "#E5ECF6",
              "width": 0.5
             },
             "pattern": {
              "fillmode": "overlay",
              "size": 10,
              "solidity": 0.2
             }
            },
            "type": "barpolar"
           }
          ],
          "carpet": [
           {
            "aaxis": {
             "endlinecolor": "#2a3f5f",
             "gridcolor": "white",
             "linecolor": "white",
             "minorgridcolor": "white",
             "startlinecolor": "#2a3f5f"
            },
            "baxis": {
             "endlinecolor": "#2a3f5f",
             "gridcolor": "white",
             "linecolor": "white",
             "minorgridcolor": "white",
             "startlinecolor": "#2a3f5f"
            },
            "type": "carpet"
           }
          ],
          "choropleth": [
           {
            "colorbar": {
             "outlinewidth": 0,
             "ticks": ""
            },
            "type": "choropleth"
           }
          ],
          "contour": [
           {
            "colorbar": {
             "outlinewidth": 0,
             "ticks": ""
            },
            "colorscale": [
             [
              0,
              "#0d0887"
             ],
             [
              0.1111111111111111,
              "#46039f"
             ],
             [
              0.2222222222222222,
              "#7201a8"
             ],
             [
              0.3333333333333333,
              "#9c179e"
             ],
             [
              0.4444444444444444,
              "#bd3786"
             ],
             [
              0.5555555555555556,
              "#d8576b"
             ],
             [
              0.6666666666666666,
              "#ed7953"
             ],
             [
              0.7777777777777778,
              "#fb9f3a"
             ],
             [
              0.8888888888888888,
              "#fdca26"
             ],
             [
              1,
              "#f0f921"
             ]
            ],
            "type": "contour"
           }
          ],
          "contourcarpet": [
           {
            "colorbar": {
             "outlinewidth": 0,
             "ticks": ""
            },
            "type": "contourcarpet"
           }
          ],
          "heatmap": [
           {
            "colorbar": {
             "outlinewidth": 0,
             "ticks": ""
            },
            "colorscale": [
             [
              0,
              "#0d0887"
             ],
             [
              0.1111111111111111,
              "#46039f"
             ],
             [
              0.2222222222222222,
              "#7201a8"
             ],
             [
              0.3333333333333333,
              "#9c179e"
             ],
             [
              0.4444444444444444,
              "#bd3786"
             ],
             [
              0.5555555555555556,
              "#d8576b"
             ],
             [
              0.6666666666666666,
              "#ed7953"
             ],
             [
              0.7777777777777778,
              "#fb9f3a"
             ],
             [
              0.8888888888888888,
              "#fdca26"
             ],
             [
              1,
              "#f0f921"
             ]
            ],
            "type": "heatmap"
           }
          ],
          "heatmapgl": [
           {
            "colorbar": {
             "outlinewidth": 0,
             "ticks": ""
            },
            "colorscale": [
             [
              0,
              "#0d0887"
             ],
             [
              0.1111111111111111,
              "#46039f"
             ],
             [
              0.2222222222222222,
              "#7201a8"
             ],
             [
              0.3333333333333333,
              "#9c179e"
             ],
             [
              0.4444444444444444,
              "#bd3786"
             ],
             [
              0.5555555555555556,
              "#d8576b"
             ],
             [
              0.6666666666666666,
              "#ed7953"
             ],
             [
              0.7777777777777778,
              "#fb9f3a"
             ],
             [
              0.8888888888888888,
              "#fdca26"
             ],
             [
              1,
              "#f0f921"
             ]
            ],
            "type": "heatmapgl"
           }
          ],
          "histogram": [
           {
            "marker": {
             "pattern": {
              "fillmode": "overlay",
              "size": 10,
              "solidity": 0.2
             }
            },
            "type": "histogram"
           }
          ],
          "histogram2d": [
           {
            "colorbar": {
             "outlinewidth": 0,
             "ticks": ""
            },
            "colorscale": [
             [
              0,
              "#0d0887"
             ],
             [
              0.1111111111111111,
              "#46039f"
             ],
             [
              0.2222222222222222,
              "#7201a8"
             ],
             [
              0.3333333333333333,
              "#9c179e"
             ],
             [
              0.4444444444444444,
              "#bd3786"
             ],
             [
              0.5555555555555556,
              "#d8576b"
             ],
             [
              0.6666666666666666,
              "#ed7953"
             ],
             [
              0.7777777777777778,
              "#fb9f3a"
             ],
             [
              0.8888888888888888,
              "#fdca26"
             ],
             [
              1,
              "#f0f921"
             ]
            ],
            "type": "histogram2d"
           }
          ],
          "histogram2dcontour": [
           {
            "colorbar": {
             "outlinewidth": 0,
             "ticks": ""
            },
            "colorscale": [
             [
              0,
              "#0d0887"
             ],
             [
              0.1111111111111111,
              "#46039f"
             ],
             [
              0.2222222222222222,
              "#7201a8"
             ],
             [
              0.3333333333333333,
              "#9c179e"
             ],
             [
              0.4444444444444444,
              "#bd3786"
             ],
             [
              0.5555555555555556,
              "#d8576b"
             ],
             [
              0.6666666666666666,
              "#ed7953"
             ],
             [
              0.7777777777777778,
              "#fb9f3a"
             ],
             [
              0.8888888888888888,
              "#fdca26"
             ],
             [
              1,
              "#f0f921"
             ]
            ],
            "type": "histogram2dcontour"
           }
          ],
          "mesh3d": [
           {
            "colorbar": {
             "outlinewidth": 0,
             "ticks": ""
            },
            "type": "mesh3d"
           }
          ],
          "parcoords": [
           {
            "line": {
             "colorbar": {
              "outlinewidth": 0,
              "ticks": ""
             }
            },
            "type": "parcoords"
           }
          ],
          "pie": [
           {
            "automargin": true,
            "type": "pie"
           }
          ],
          "scatter": [
           {
            "fillpattern": {
             "fillmode": "overlay",
             "size": 10,
             "solidity": 0.2
            },
            "type": "scatter"
           }
          ],
          "scatter3d": [
           {
            "line": {
             "colorbar": {
              "outlinewidth": 0,
              "ticks": ""
             }
            },
            "marker": {
             "colorbar": {
              "outlinewidth": 0,
              "ticks": ""
             }
            },
            "type": "scatter3d"
           }
          ],
          "scattercarpet": [
           {
            "marker": {
             "colorbar": {
              "outlinewidth": 0,
              "ticks": ""
             }
            },
            "type": "scattercarpet"
           }
          ],
          "scattergeo": [
           {
            "marker": {
             "colorbar": {
              "outlinewidth": 0,
              "ticks": ""
             }
            },
            "type": "scattergeo"
           }
          ],
          "scattergl": [
           {
            "marker": {
             "colorbar": {
              "outlinewidth": 0,
              "ticks": ""
             }
            },
            "type": "scattergl"
           }
          ],
          "scattermapbox": [
           {
            "marker": {
             "colorbar": {
              "outlinewidth": 0,
              "ticks": ""
             }
            },
            "type": "scattermapbox"
           }
          ],
          "scatterpolar": [
           {
            "marker": {
             "colorbar": {
              "outlinewidth": 0,
              "ticks": ""
             }
            },
            "type": "scatterpolar"
           }
          ],
          "scatterpolargl": [
           {
            "marker": {
             "colorbar": {
              "outlinewidth": 0,
              "ticks": ""
             }
            },
            "type": "scatterpolargl"
           }
          ],
          "scatterternary": [
           {
            "marker": {
             "colorbar": {
              "outlinewidth": 0,
              "ticks": ""
             }
            },
            "type": "scatterternary"
           }
          ],
          "surface": [
           {
            "colorbar": {
             "outlinewidth": 0,
             "ticks": ""
            },
            "colorscale": [
             [
              0,
              "#0d0887"
             ],
             [
              0.1111111111111111,
              "#46039f"
             ],
             [
              0.2222222222222222,
              "#7201a8"
             ],
             [
              0.3333333333333333,
              "#9c179e"
             ],
             [
              0.4444444444444444,
              "#bd3786"
             ],
             [
              0.5555555555555556,
              "#d8576b"
             ],
             [
              0.6666666666666666,
              "#ed7953"
             ],
             [
              0.7777777777777778,
              "#fb9f3a"
             ],
             [
              0.8888888888888888,
              "#fdca26"
             ],
             [
              1,
              "#f0f921"
             ]
            ],
            "type": "surface"
           }
          ],
          "table": [
           {
            "cells": {
             "fill": {
              "color": "#EBF0F8"
             },
             "line": {
              "color": "white"
             }
            },
            "header": {
             "fill": {
              "color": "#C8D4E3"
             },
             "line": {
              "color": "white"
             }
            },
            "type": "table"
           }
          ]
         },
         "layout": {
          "annotationdefaults": {
           "arrowcolor": "#2a3f5f",
           "arrowhead": 0,
           "arrowwidth": 1
          },
          "autotypenumbers": "strict",
          "coloraxis": {
           "colorbar": {
            "outlinewidth": 0,
            "ticks": ""
           }
          },
          "colorscale": {
           "diverging": [
            [
             0,
             "#8e0152"
            ],
            [
             0.1,
             "#c51b7d"
            ],
            [
             0.2,
             "#de77ae"
            ],
            [
             0.3,
             "#f1b6da"
            ],
            [
             0.4,
             "#fde0ef"
            ],
            [
             0.5,
             "#f7f7f7"
            ],
            [
             0.6,
             "#e6f5d0"
            ],
            [
             0.7,
             "#b8e186"
            ],
            [
             0.8,
             "#7fbc41"
            ],
            [
             0.9,
             "#4d9221"
            ],
            [
             1,
             "#276419"
            ]
           ],
           "sequential": [
            [
             0,
             "#0d0887"
            ],
            [
             0.1111111111111111,
             "#46039f"
            ],
            [
             0.2222222222222222,
             "#7201a8"
            ],
            [
             0.3333333333333333,
             "#9c179e"
            ],
            [
             0.4444444444444444,
             "#bd3786"
            ],
            [
             0.5555555555555556,
             "#d8576b"
            ],
            [
             0.6666666666666666,
             "#ed7953"
            ],
            [
             0.7777777777777778,
             "#fb9f3a"
            ],
            [
             0.8888888888888888,
             "#fdca26"
            ],
            [
             1,
             "#f0f921"
            ]
           ],
           "sequentialminus": [
            [
             0,
             "#0d0887"
            ],
            [
             0.1111111111111111,
             "#46039f"
            ],
            [
             0.2222222222222222,
             "#7201a8"
            ],
            [
             0.3333333333333333,
             "#9c179e"
            ],
            [
             0.4444444444444444,
             "#bd3786"
            ],
            [
             0.5555555555555556,
             "#d8576b"
            ],
            [
             0.6666666666666666,
             "#ed7953"
            ],
            [
             0.7777777777777778,
             "#fb9f3a"
            ],
            [
             0.8888888888888888,
             "#fdca26"
            ],
            [
             1,
             "#f0f921"
            ]
           ]
          },
          "colorway": [
           "#636efa",
           "#EF553B",
           "#00cc96",
           "#ab63fa",
           "#FFA15A",
           "#19d3f3",
           "#FF6692",
           "#B6E880",
           "#FF97FF",
           "#FECB52"
          ],
          "font": {
           "color": "#2a3f5f"
          },
          "geo": {
           "bgcolor": "white",
           "lakecolor": "white",
           "landcolor": "#E5ECF6",
           "showlakes": true,
           "showland": true,
           "subunitcolor": "white"
          },
          "hoverlabel": {
           "align": "left"
          },
          "hovermode": "closest",
          "mapbox": {
           "style": "light"
          },
          "paper_bgcolor": "white",
          "plot_bgcolor": "#E5ECF6",
          "polar": {
           "angularaxis": {
            "gridcolor": "white",
            "linecolor": "white",
            "ticks": ""
           },
           "bgcolor": "#E5ECF6",
           "radialaxis": {
            "gridcolor": "white",
            "linecolor": "white",
            "ticks": ""
           }
          },
          "scene": {
           "xaxis": {
            "backgroundcolor": "#E5ECF6",
            "gridcolor": "white",
            "gridwidth": 2,
            "linecolor": "white",
            "showbackground": true,
            "ticks": "",
            "zerolinecolor": "white"
           },
           "yaxis": {
            "backgroundcolor": "#E5ECF6",
            "gridcolor": "white",
            "gridwidth": 2,
            "linecolor": "white",
            "showbackground": true,
            "ticks": "",
            "zerolinecolor": "white"
           },
           "zaxis": {
            "backgroundcolor": "#E5ECF6",
            "gridcolor": "white",
            "gridwidth": 2,
            "linecolor": "white",
            "showbackground": true,
            "ticks": "",
            "zerolinecolor": "white"
           }
          },
          "shapedefaults": {
           "line": {
            "color": "#2a3f5f"
           }
          },
          "ternary": {
           "aaxis": {
            "gridcolor": "white",
            "linecolor": "white",
            "ticks": ""
           },
           "baxis": {
            "gridcolor": "white",
            "linecolor": "white",
            "ticks": ""
           },
           "bgcolor": "#E5ECF6",
           "caxis": {
            "gridcolor": "white",
            "linecolor": "white",
            "ticks": ""
           }
          },
          "title": {
           "x": 0.05
          },
          "xaxis": {
           "automargin": true,
           "gridcolor": "white",
           "linecolor": "white",
           "ticks": "",
           "title": {
            "standoff": 15
           },
           "zerolinecolor": "white",
           "zerolinewidth": 2
          },
          "yaxis": {
           "automargin": true,
           "gridcolor": "white",
           "linecolor": "white",
           "ticks": "",
           "title": {
            "standoff": 15
           },
           "zerolinecolor": "white",
           "zerolinewidth": 2
          }
         }
        },
        "title": {
         "text": "Distribution of Scores by Model and Type of Hypothesis"
        },
        "xaxis": {
         "anchor": "y",
         "domain": [
          0,
          1
         ],
         "title": {
          "text": "th"
         }
        },
        "yaxis": {
         "anchor": "x",
         "domain": [
          0,
          1
         ],
         "title": {
          "text": "score"
         }
        }
       }
      }
     },
     "metadata": {},
     "output_type": "display_data"
    }
   ],
   "source": [
    "color_palette = px.colors.qualitative.Safe\n",
    "fig = px.box(ai_h, x='th', y='score', color='m', points='all',\n",
    "             #labels={'Score': 'Scores', 'Model': 'Models', 'Type of Hypothesis': 'Type of Hypothesis'}\n",
    "             color_discrete_sequence=color_palette\n",
    "             )\n",
    "fig.update_layout(title='Distribution of Scores by Model and Type of Hypothesis')\n",
    "fig.write_image(\"../visualisations/user_studies_ai_h_scores.pdf\", format='pdf')\n",
    "fig.show()"
   ]
  },
  {
   "cell_type": "code",
   "execution_count": 105,
   "metadata": {},
   "outputs": [
    {
     "data": {
      "application/vnd.plotly.v1+json": {
       "config": {
        "plotlyServerURL": "https://plot.ly"
       },
       "data": [
        {
         "alignmentgroup": "True",
         "boxpoints": "all",
         "hovertemplate": "m=anyburl<br>th=%{x}<br>score=%{y}<extra></extra>",
         "legendgroup": "anyburl",
         "marker": {
          "color": "rgb(136, 204, 238)"
         },
         "name": "anyburl",
         "notched": false,
         "offsetgroup": "anyburl",
         "orientation": "v",
         "showlegend": true,
         "type": "box",
         "x": [
          "regular",
          "regular",
          "regular",
          "regular",
          "study_mod",
          "study_mod",
          "study_mod",
          "study_mod",
          "var_mod",
          "var_mod",
          "var_mod",
          "var_mod"
         ],
         "x0": " ",
         "xaxis": "x",
         "y": [
          1.6666666666666667,
          3,
          2.6666666666666665,
          3,
          1,
          1.6666666666666667,
          2.6666666666666665,
          1,
          4,
          4,
          2.3333333333333335,
          1.6666666666666667
         ],
         "y0": " ",
         "yaxis": "y"
        },
        {
         "alignmentgroup": "True",
         "boxpoints": "all",
         "hovertemplate": "m=classification<br>th=%{x}<br>score=%{y}<extra></extra>",
         "legendgroup": "classification",
         "marker": {
          "color": "rgb(204, 102, 119)"
         },
         "name": "classification",
         "notched": false,
         "offsetgroup": "classification",
         "orientation": "v",
         "showlegend": true,
         "type": "box",
         "x": [
          "regular",
          "regular",
          "regular",
          "regular",
          "study_mod",
          "study_mod",
          "study_mod",
          "study_mod",
          "var_mod",
          "var_mod",
          "var_mod",
          "var_mod"
         ],
         "x0": " ",
         "xaxis": "x",
         "y": [
          3,
          3.6666666666666665,
          2.6666666666666665,
          3,
          1,
          2,
          1,
          1,
          3.3333333333333335,
          4,
          2.3333333333333335,
          2.3333333333333335
         ],
         "y0": " ",
         "yaxis": "y"
        },
        {
         "alignmentgroup": "True",
         "boxpoints": "all",
         "hovertemplate": "m=llm_zero_shot_prompting<br>th=%{x}<br>score=%{y}<extra></extra>",
         "legendgroup": "llm_zero_shot_prompting",
         "marker": {
          "color": "rgb(221, 204, 119)"
         },
         "name": "llm_zero_shot_prompting",
         "notched": false,
         "offsetgroup": "llm_zero_shot_prompting",
         "orientation": "v",
         "showlegend": true,
         "type": "box",
         "x": [
          "regular",
          "regular",
          "regular",
          "regular",
          "study_mod",
          "study_mod",
          "study_mod",
          "study_mod",
          "var_mod",
          "var_mod",
          "var_mod",
          "var_mod"
         ],
         "x0": " ",
         "xaxis": "x",
         "y": [
          1.6666666666666667,
          1.6666666666666667,
          2.3333333333333335,
          2.6666666666666665,
          1.6666666666666667,
          2.6666666666666665,
          3.6666666666666665,
          3.6666666666666665,
          3.3333333333333335,
          2.3333333333333335,
          1.6666666666666667,
          2.3333333333333335
         ],
         "y0": " ",
         "yaxis": "y"
        },
        {
         "alignmentgroup": "True",
         "boxpoints": "all",
         "hovertemplate": "m=human<br>th=%{x}<br>score=%{y}<extra></extra>",
         "legendgroup": "human",
         "marker": {
          "color": "rgb(17, 119, 51)"
         },
         "name": "human",
         "notched": false,
         "offsetgroup": "human",
         "orientation": "v",
         "showlegend": true,
         "type": "box",
         "x": [
          "regular",
          "regular",
          "regular",
          "regular",
          "regular",
          "regular",
          "regular",
          "regular",
          "regular",
          "regular",
          "study_mod",
          "study_mod",
          "study_mod",
          "study_mod",
          "study_mod",
          "study_mod",
          "study_mod",
          "study_mod",
          "study_mod",
          "study_mod",
          "var_mod",
          "var_mod",
          "var_mod",
          "var_mod",
          "var_mod",
          "var_mod",
          "var_mod",
          "var_mod",
          "var_mod",
          "var_mod"
         ],
         "x0": " ",
         "xaxis": "x",
         "y": [
          3,
          3.3333333333333335,
          3.6666666666666665,
          3.6666666666666665,
          4,
          3.3333333333333335,
          3.6666666666666665,
          3.6666666666666665,
          2.6666666666666665,
          4.333333333333333,
          3.3333333333333335,
          4,
          3.3333333333333335,
          3.6666666666666665,
          4,
          3.3333333333333335,
          4.666666666666667,
          4,
          3.6666666666666665,
          2.6666666666666665,
          3.6666666666666665,
          4,
          4.666666666666667,
          4,
          3.6666666666666665,
          3.6666666666666665,
          4.333333333333333,
          4.333333333333333,
          2.6666666666666665,
          4
         ],
         "y0": " ",
         "yaxis": "y"
        }
       ],
       "layout": {
        "boxmode": "group",
        "legend": {
         "title": {
          "text": "m"
         },
         "tracegroupgap": 0
        },
        "margin": {
         "t": 60
        },
        "template": {
         "data": {
          "bar": [
           {
            "error_x": {
             "color": "#2a3f5f"
            },
            "error_y": {
             "color": "#2a3f5f"
            },
            "marker": {
             "line": {
              "color": "#E5ECF6",
              "width": 0.5
             },
             "pattern": {
              "fillmode": "overlay",
              "size": 10,
              "solidity": 0.2
             }
            },
            "type": "bar"
           }
          ],
          "barpolar": [
           {
            "marker": {
             "line": {
              "color": "#E5ECF6",
              "width": 0.5
             },
             "pattern": {
              "fillmode": "overlay",
              "size": 10,
              "solidity": 0.2
             }
            },
            "type": "barpolar"
           }
          ],
          "carpet": [
           {
            "aaxis": {
             "endlinecolor": "#2a3f5f",
             "gridcolor": "white",
             "linecolor": "white",
             "minorgridcolor": "white",
             "startlinecolor": "#2a3f5f"
            },
            "baxis": {
             "endlinecolor": "#2a3f5f",
             "gridcolor": "white",
             "linecolor": "white",
             "minorgridcolor": "white",
             "startlinecolor": "#2a3f5f"
            },
            "type": "carpet"
           }
          ],
          "choropleth": [
           {
            "colorbar": {
             "outlinewidth": 0,
             "ticks": ""
            },
            "type": "choropleth"
           }
          ],
          "contour": [
           {
            "colorbar": {
             "outlinewidth": 0,
             "ticks": ""
            },
            "colorscale": [
             [
              0,
              "#0d0887"
             ],
             [
              0.1111111111111111,
              "#46039f"
             ],
             [
              0.2222222222222222,
              "#7201a8"
             ],
             [
              0.3333333333333333,
              "#9c179e"
             ],
             [
              0.4444444444444444,
              "#bd3786"
             ],
             [
              0.5555555555555556,
              "#d8576b"
             ],
             [
              0.6666666666666666,
              "#ed7953"
             ],
             [
              0.7777777777777778,
              "#fb9f3a"
             ],
             [
              0.8888888888888888,
              "#fdca26"
             ],
             [
              1,
              "#f0f921"
             ]
            ],
            "type": "contour"
           }
          ],
          "contourcarpet": [
           {
            "colorbar": {
             "outlinewidth": 0,
             "ticks": ""
            },
            "type": "contourcarpet"
           }
          ],
          "heatmap": [
           {
            "colorbar": {
             "outlinewidth": 0,
             "ticks": ""
            },
            "colorscale": [
             [
              0,
              "#0d0887"
             ],
             [
              0.1111111111111111,
              "#46039f"
             ],
             [
              0.2222222222222222,
              "#7201a8"
             ],
             [
              0.3333333333333333,
              "#9c179e"
             ],
             [
              0.4444444444444444,
              "#bd3786"
             ],
             [
              0.5555555555555556,
              "#d8576b"
             ],
             [
              0.6666666666666666,
              "#ed7953"
             ],
             [
              0.7777777777777778,
              "#fb9f3a"
             ],
             [
              0.8888888888888888,
              "#fdca26"
             ],
             [
              1,
              "#f0f921"
             ]
            ],
            "type": "heatmap"
           }
          ],
          "heatmapgl": [
           {
            "colorbar": {
             "outlinewidth": 0,
             "ticks": ""
            },
            "colorscale": [
             [
              0,
              "#0d0887"
             ],
             [
              0.1111111111111111,
              "#46039f"
             ],
             [
              0.2222222222222222,
              "#7201a8"
             ],
             [
              0.3333333333333333,
              "#9c179e"
             ],
             [
              0.4444444444444444,
              "#bd3786"
             ],
             [
              0.5555555555555556,
              "#d8576b"
             ],
             [
              0.6666666666666666,
              "#ed7953"
             ],
             [
              0.7777777777777778,
              "#fb9f3a"
             ],
             [
              0.8888888888888888,
              "#fdca26"
             ],
             [
              1,
              "#f0f921"
             ]
            ],
            "type": "heatmapgl"
           }
          ],
          "histogram": [
           {
            "marker": {
             "pattern": {
              "fillmode": "overlay",
              "size": 10,
              "solidity": 0.2
             }
            },
            "type": "histogram"
           }
          ],
          "histogram2d": [
           {
            "colorbar": {
             "outlinewidth": 0,
             "ticks": ""
            },
            "colorscale": [
             [
              0,
              "#0d0887"
             ],
             [
              0.1111111111111111,
              "#46039f"
             ],
             [
              0.2222222222222222,
              "#7201a8"
             ],
             [
              0.3333333333333333,
              "#9c179e"
             ],
             [
              0.4444444444444444,
              "#bd3786"
             ],
             [
              0.5555555555555556,
              "#d8576b"
             ],
             [
              0.6666666666666666,
              "#ed7953"
             ],
             [
              0.7777777777777778,
              "#fb9f3a"
             ],
             [
              0.8888888888888888,
              "#fdca26"
             ],
             [
              1,
              "#f0f921"
             ]
            ],
            "type": "histogram2d"
           }
          ],
          "histogram2dcontour": [
           {
            "colorbar": {
             "outlinewidth": 0,
             "ticks": ""
            },
            "colorscale": [
             [
              0,
              "#0d0887"
             ],
             [
              0.1111111111111111,
              "#46039f"
             ],
             [
              0.2222222222222222,
              "#7201a8"
             ],
             [
              0.3333333333333333,
              "#9c179e"
             ],
             [
              0.4444444444444444,
              "#bd3786"
             ],
             [
              0.5555555555555556,
              "#d8576b"
             ],
             [
              0.6666666666666666,
              "#ed7953"
             ],
             [
              0.7777777777777778,
              "#fb9f3a"
             ],
             [
              0.8888888888888888,
              "#fdca26"
             ],
             [
              1,
              "#f0f921"
             ]
            ],
            "type": "histogram2dcontour"
           }
          ],
          "mesh3d": [
           {
            "colorbar": {
             "outlinewidth": 0,
             "ticks": ""
            },
            "type": "mesh3d"
           }
          ],
          "parcoords": [
           {
            "line": {
             "colorbar": {
              "outlinewidth": 0,
              "ticks": ""
             }
            },
            "type": "parcoords"
           }
          ],
          "pie": [
           {
            "automargin": true,
            "type": "pie"
           }
          ],
          "scatter": [
           {
            "fillpattern": {
             "fillmode": "overlay",
             "size": 10,
             "solidity": 0.2
            },
            "type": "scatter"
           }
          ],
          "scatter3d": [
           {
            "line": {
             "colorbar": {
              "outlinewidth": 0,
              "ticks": ""
             }
            },
            "marker": {
             "colorbar": {
              "outlinewidth": 0,
              "ticks": ""
             }
            },
            "type": "scatter3d"
           }
          ],
          "scattercarpet": [
           {
            "marker": {
             "colorbar": {
              "outlinewidth": 0,
              "ticks": ""
             }
            },
            "type": "scattercarpet"
           }
          ],
          "scattergeo": [
           {
            "marker": {
             "colorbar": {
              "outlinewidth": 0,
              "ticks": ""
             }
            },
            "type": "scattergeo"
           }
          ],
          "scattergl": [
           {
            "marker": {
             "colorbar": {
              "outlinewidth": 0,
              "ticks": ""
             }
            },
            "type": "scattergl"
           }
          ],
          "scattermapbox": [
           {
            "marker": {
             "colorbar": {
              "outlinewidth": 0,
              "ticks": ""
             }
            },
            "type": "scattermapbox"
           }
          ],
          "scatterpolar": [
           {
            "marker": {
             "colorbar": {
              "outlinewidth": 0,
              "ticks": ""
             }
            },
            "type": "scatterpolar"
           }
          ],
          "scatterpolargl": [
           {
            "marker": {
             "colorbar": {
              "outlinewidth": 0,
              "ticks": ""
             }
            },
            "type": "scatterpolargl"
           }
          ],
          "scatterternary": [
           {
            "marker": {
             "colorbar": {
              "outlinewidth": 0,
              "ticks": ""
             }
            },
            "type": "scatterternary"
           }
          ],
          "surface": [
           {
            "colorbar": {
             "outlinewidth": 0,
             "ticks": ""
            },
            "colorscale": [
             [
              0,
              "#0d0887"
             ],
             [
              0.1111111111111111,
              "#46039f"
             ],
             [
              0.2222222222222222,
              "#7201a8"
             ],
             [
              0.3333333333333333,
              "#9c179e"
             ],
             [
              0.4444444444444444,
              "#bd3786"
             ],
             [
              0.5555555555555556,
              "#d8576b"
             ],
             [
              0.6666666666666666,
              "#ed7953"
             ],
             [
              0.7777777777777778,
              "#fb9f3a"
             ],
             [
              0.8888888888888888,
              "#fdca26"
             ],
             [
              1,
              "#f0f921"
             ]
            ],
            "type": "surface"
           }
          ],
          "table": [
           {
            "cells": {
             "fill": {
              "color": "#EBF0F8"
             },
             "line": {
              "color": "white"
             }
            },
            "header": {
             "fill": {
              "color": "#C8D4E3"
             },
             "line": {
              "color": "white"
             }
            },
            "type": "table"
           }
          ]
         },
         "layout": {
          "annotationdefaults": {
           "arrowcolor": "#2a3f5f",
           "arrowhead": 0,
           "arrowwidth": 1
          },
          "autotypenumbers": "strict",
          "coloraxis": {
           "colorbar": {
            "outlinewidth": 0,
            "ticks": ""
           }
          },
          "colorscale": {
           "diverging": [
            [
             0,
             "#8e0152"
            ],
            [
             0.1,
             "#c51b7d"
            ],
            [
             0.2,
             "#de77ae"
            ],
            [
             0.3,
             "#f1b6da"
            ],
            [
             0.4,
             "#fde0ef"
            ],
            [
             0.5,
             "#f7f7f7"
            ],
            [
             0.6,
             "#e6f5d0"
            ],
            [
             0.7,
             "#b8e186"
            ],
            [
             0.8,
             "#7fbc41"
            ],
            [
             0.9,
             "#4d9221"
            ],
            [
             1,
             "#276419"
            ]
           ],
           "sequential": [
            [
             0,
             "#0d0887"
            ],
            [
             0.1111111111111111,
             "#46039f"
            ],
            [
             0.2222222222222222,
             "#7201a8"
            ],
            [
             0.3333333333333333,
             "#9c179e"
            ],
            [
             0.4444444444444444,
             "#bd3786"
            ],
            [
             0.5555555555555556,
             "#d8576b"
            ],
            [
             0.6666666666666666,
             "#ed7953"
            ],
            [
             0.7777777777777778,
             "#fb9f3a"
            ],
            [
             0.8888888888888888,
             "#fdca26"
            ],
            [
             1,
             "#f0f921"
            ]
           ],
           "sequentialminus": [
            [
             0,
             "#0d0887"
            ],
            [
             0.1111111111111111,
             "#46039f"
            ],
            [
             0.2222222222222222,
             "#7201a8"
            ],
            [
             0.3333333333333333,
             "#9c179e"
            ],
            [
             0.4444444444444444,
             "#bd3786"
            ],
            [
             0.5555555555555556,
             "#d8576b"
            ],
            [
             0.6666666666666666,
             "#ed7953"
            ],
            [
             0.7777777777777778,
             "#fb9f3a"
            ],
            [
             0.8888888888888888,
             "#fdca26"
            ],
            [
             1,
             "#f0f921"
            ]
           ]
          },
          "colorway": [
           "#636efa",
           "#EF553B",
           "#00cc96",
           "#ab63fa",
           "#FFA15A",
           "#19d3f3",
           "#FF6692",
           "#B6E880",
           "#FF97FF",
           "#FECB52"
          ],
          "font": {
           "color": "#2a3f5f"
          },
          "geo": {
           "bgcolor": "white",
           "lakecolor": "white",
           "landcolor": "#E5ECF6",
           "showlakes": true,
           "showland": true,
           "subunitcolor": "white"
          },
          "hoverlabel": {
           "align": "left"
          },
          "hovermode": "closest",
          "mapbox": {
           "style": "light"
          },
          "paper_bgcolor": "white",
          "plot_bgcolor": "#E5ECF6",
          "polar": {
           "angularaxis": {
            "gridcolor": "white",
            "linecolor": "white",
            "ticks": ""
           },
           "bgcolor": "#E5ECF6",
           "radialaxis": {
            "gridcolor": "white",
            "linecolor": "white",
            "ticks": ""
           }
          },
          "scene": {
           "xaxis": {
            "backgroundcolor": "#E5ECF6",
            "gridcolor": "white",
            "gridwidth": 2,
            "linecolor": "white",
            "showbackground": true,
            "ticks": "",
            "zerolinecolor": "white"
           },
           "yaxis": {
            "backgroundcolor": "#E5ECF6",
            "gridcolor": "white",
            "gridwidth": 2,
            "linecolor": "white",
            "showbackground": true,
            "ticks": "",
            "zerolinecolor": "white"
           },
           "zaxis": {
            "backgroundcolor": "#E5ECF6",
            "gridcolor": "white",
            "gridwidth": 2,
            "linecolor": "white",
            "showbackground": true,
            "ticks": "",
            "zerolinecolor": "white"
           }
          },
          "shapedefaults": {
           "line": {
            "color": "#2a3f5f"
           }
          },
          "ternary": {
           "aaxis": {
            "gridcolor": "white",
            "linecolor": "white",
            "ticks": ""
           },
           "baxis": {
            "gridcolor": "white",
            "linecolor": "white",
            "ticks": ""
           },
           "bgcolor": "#E5ECF6",
           "caxis": {
            "gridcolor": "white",
            "linecolor": "white",
            "ticks": ""
           }
          },
          "title": {
           "x": 0.05
          },
          "xaxis": {
           "automargin": true,
           "gridcolor": "white",
           "linecolor": "white",
           "ticks": "",
           "title": {
            "standoff": 15
           },
           "zerolinecolor": "white",
           "zerolinewidth": 2
          },
          "yaxis": {
           "automargin": true,
           "gridcolor": "white",
           "linecolor": "white",
           "ticks": "",
           "title": {
            "standoff": 15
           },
           "zerolinecolor": "white",
           "zerolinewidth": 2
          }
         }
        },
        "title": {
         "text": "Distribution of Scores by Model and Type of Hypothesis"
        },
        "xaxis": {
         "anchor": "y",
         "domain": [
          0,
          1
         ],
         "title": {
          "text": "th"
         }
        },
        "yaxis": {
         "anchor": "x",
         "domain": [
          0,
          1
         ],
         "title": {
          "text": "score"
         }
        }
       }
      }
     },
     "metadata": {},
     "output_type": "display_data"
    }
   ],
   "source": [
    "color_palette = px.colors.qualitative.Safe\n",
    "columns = [\"user_id\", \"score\", \"th\", \"giv\", \"i_shuffled\", \"m\"]\n",
    "df_score_h_ai_human = pd.concat([human_h[columns], ai_h[columns]])\n",
    "\n",
    "fig = px.box(df_score_h_ai_human.groupby([\"th\", \"giv\", \"i_shuffled\", \"m\"]).agg({\"score\": \"mean\"}).reset_index(), x='th', y='score', color='m', points='all',\n",
    "             #labels={'Score': 'Scores', 'Model': 'Models', 'Type of Hypothesis': 'Type of Hypothesis'}\n",
    "             color_discrete_sequence=color_palette\n",
    "             )\n",
    "fig.update_layout(title='Distribution of Scores by Model and Type of Hypothesis')\n",
    "fig.write_image(\"../visualisations/user_studies_ai_human_h_scores_mean.pdf\", format='pdf')\n",
    "fig.show()"
   ]
  },
  {
   "cell_type": "code",
   "execution_count": 89,
   "metadata": {},
   "outputs": [
    {
     "data": {
      "application/vnd.plotly.v1+json": {
       "config": {
        "plotlyServerURL": "https://plot.ly"
       },
       "data": [
        {
         "alignmentgroup": "True",
         "boxpoints": "all",
         "hovertemplate": "m=human<br>th=%{x}<br>score=%{y}<extra></extra>",
         "legendgroup": "human",
         "marker": {
          "color": "rgb(136, 204, 238)"
         },
         "name": "human",
         "notched": false,
         "offsetgroup": "human",
         "orientation": "v",
         "showlegend": true,
         "type": "box",
         "x": [
          "regular",
          "regular",
          "regular",
          "regular",
          "regular",
          "regular",
          "regular",
          "regular",
          "regular",
          "regular",
          "regular",
          "regular",
          "regular",
          "regular",
          "regular",
          "regular",
          "regular",
          "regular",
          "regular",
          "regular",
          "regular",
          "regular",
          "regular",
          "regular",
          "regular",
          "regular",
          "regular",
          "regular",
          "regular",
          "regular",
          "study_mod",
          "study_mod",
          "study_mod",
          "study_mod",
          "study_mod",
          "study_mod",
          "study_mod",
          "study_mod",
          "study_mod",
          "study_mod",
          "study_mod",
          "study_mod",
          "study_mod",
          "study_mod",
          "study_mod",
          "study_mod",
          "study_mod",
          "study_mod",
          "study_mod",
          "study_mod",
          "study_mod",
          "study_mod",
          "study_mod",
          "study_mod",
          "study_mod",
          "study_mod",
          "study_mod",
          "study_mod",
          "study_mod",
          "study_mod",
          "var_mod",
          "var_mod",
          "var_mod",
          "var_mod",
          "var_mod",
          "var_mod",
          "var_mod",
          "var_mod",
          "var_mod",
          "var_mod",
          "var_mod",
          "var_mod",
          "var_mod",
          "var_mod",
          "var_mod",
          "var_mod",
          "var_mod",
          "var_mod",
          "var_mod",
          "var_mod",
          "var_mod",
          "var_mod",
          "var_mod",
          "var_mod",
          "var_mod",
          "var_mod",
          "var_mod",
          "var_mod",
          "var_mod",
          "var_mod"
         ],
         "x0": " ",
         "xaxis": "x",
         "y": [
          3,
          5,
          2,
          1,
          4,
          2,
          3,
          4,
          3,
          4,
          5,
          3,
          5,
          4,
          5,
          1,
          2,
          4,
          3,
          5,
          3,
          3,
          3,
          4,
          4,
          5,
          5,
          4,
          4,
          3,
          1,
          4,
          2,
          3,
          5,
          4,
          3,
          3,
          4,
          3,
          5,
          5,
          5,
          4,
          4,
          1,
          5,
          4,
          3,
          2,
          4,
          4,
          3,
          4,
          2,
          5,
          5,
          5,
          4,
          4,
          2,
          3,
          4,
          1,
          5,
          4,
          5,
          4,
          3,
          3,
          5,
          5,
          5,
          4,
          4,
          1,
          2,
          5,
          3,
          4,
          5,
          5,
          4,
          4,
          3,
          5,
          5,
          5,
          5,
          4
         ],
         "y0": " ",
         "yaxis": "y"
        },
        {
         "alignmentgroup": "True",
         "boxpoints": "all",
         "hovertemplate": "m=classification<br>th=%{x}<br>score=%{y}<extra></extra>",
         "legendgroup": "classification",
         "marker": {
          "color": "rgb(204, 102, 119)"
         },
         "name": "classification",
         "notched": false,
         "offsetgroup": "classification",
         "orientation": "v",
         "showlegend": true,
         "type": "box",
         "x": [
          "regular",
          "regular",
          "regular",
          "regular",
          "regular",
          "regular",
          "regular",
          "regular",
          "regular",
          "regular",
          "regular",
          "regular",
          "study_mod",
          "study_mod",
          "study_mod",
          "study_mod",
          "study_mod",
          "study_mod",
          "study_mod",
          "study_mod",
          "study_mod",
          "study_mod",
          "study_mod",
          "study_mod",
          "var_mod",
          "var_mod",
          "var_mod",
          "var_mod",
          "var_mod",
          "var_mod",
          "var_mod",
          "var_mod",
          "var_mod",
          "var_mod",
          "var_mod",
          "var_mod"
         ],
         "x0": " ",
         "xaxis": "x",
         "y": [
          3,
          2,
          3,
          4,
          4,
          1,
          3,
          3,
          3,
          4,
          3,
          4,
          1,
          1,
          1,
          2,
          2,
          2,
          1,
          1,
          1,
          1,
          1,
          1,
          4,
          2,
          1,
          4,
          2,
          1,
          2,
          3,
          5,
          4,
          3,
          5
         ],
         "y0": " ",
         "yaxis": "y"
        },
        {
         "alignmentgroup": "True",
         "boxpoints": "all",
         "hovertemplate": "m=llm_zero_shot_prompting<br>th=%{x}<br>score=%{y}<extra></extra>",
         "legendgroup": "llm_zero_shot_prompting",
         "marker": {
          "color": "rgb(221, 204, 119)"
         },
         "name": "llm_zero_shot_prompting",
         "notched": false,
         "offsetgroup": "llm_zero_shot_prompting",
         "orientation": "v",
         "showlegend": true,
         "type": "box",
         "x": [
          "regular",
          "regular",
          "regular",
          "regular",
          "regular",
          "regular",
          "regular",
          "regular",
          "regular",
          "regular",
          "regular",
          "regular",
          "study_mod",
          "study_mod",
          "study_mod",
          "study_mod",
          "study_mod",
          "study_mod",
          "study_mod",
          "study_mod",
          "study_mod",
          "study_mod",
          "study_mod",
          "study_mod",
          "var_mod",
          "var_mod",
          "var_mod",
          "var_mod",
          "var_mod",
          "var_mod",
          "var_mod",
          "var_mod",
          "var_mod",
          "var_mod",
          "var_mod",
          "var_mod"
         ],
         "x0": " ",
         "xaxis": "x",
         "y": [
          2,
          1,
          4,
          1,
          3,
          4,
          2,
          2,
          1,
          2,
          2,
          1,
          2,
          2,
          1,
          4,
          3,
          1,
          4,
          4,
          3,
          4,
          4,
          3,
          2,
          2,
          1,
          4,
          2,
          1,
          5,
          3,
          2,
          3,
          2,
          2
         ],
         "y0": " ",
         "yaxis": "y"
        },
        {
         "alignmentgroup": "True",
         "boxpoints": "all",
         "hovertemplate": "m=anyburl<br>th=%{x}<br>score=%{y}<extra></extra>",
         "legendgroup": "anyburl",
         "marker": {
          "color": "rgb(17, 119, 51)"
         },
         "name": "anyburl",
         "notched": false,
         "offsetgroup": "anyburl",
         "orientation": "v",
         "showlegend": true,
         "type": "box",
         "x": [
          "regular",
          "regular",
          "regular",
          "regular",
          "regular",
          "regular",
          "regular",
          "regular",
          "regular",
          "regular",
          "regular",
          "regular",
          "study_mod",
          "study_mod",
          "study_mod",
          "study_mod",
          "study_mod",
          "study_mod",
          "study_mod",
          "study_mod",
          "study_mod",
          "study_mod",
          "study_mod",
          "study_mod",
          "var_mod",
          "var_mod",
          "var_mod",
          "var_mod",
          "var_mod",
          "var_mod",
          "var_mod",
          "var_mod",
          "var_mod",
          "var_mod",
          "var_mod",
          "var_mod"
         ],
         "x0": " ",
         "xaxis": "x",
         "y": [
          5,
          2,
          1,
          4,
          4,
          1,
          2,
          2,
          1,
          3,
          3,
          3,
          1,
          1,
          1,
          3,
          1,
          1,
          3,
          4,
          1,
          1,
          1,
          1,
          2,
          4,
          1,
          2,
          2,
          1,
          4,
          4,
          4,
          3,
          4,
          5
         ],
         "y0": " ",
         "yaxis": "y"
        }
       ],
       "layout": {
        "boxmode": "group",
        "legend": {
         "title": {
          "text": "m"
         },
         "tracegroupgap": 0
        },
        "margin": {
         "t": 60
        },
        "template": {
         "data": {
          "bar": [
           {
            "error_x": {
             "color": "#2a3f5f"
            },
            "error_y": {
             "color": "#2a3f5f"
            },
            "marker": {
             "line": {
              "color": "#E5ECF6",
              "width": 0.5
             },
             "pattern": {
              "fillmode": "overlay",
              "size": 10,
              "solidity": 0.2
             }
            },
            "type": "bar"
           }
          ],
          "barpolar": [
           {
            "marker": {
             "line": {
              "color": "#E5ECF6",
              "width": 0.5
             },
             "pattern": {
              "fillmode": "overlay",
              "size": 10,
              "solidity": 0.2
             }
            },
            "type": "barpolar"
           }
          ],
          "carpet": [
           {
            "aaxis": {
             "endlinecolor": "#2a3f5f",
             "gridcolor": "white",
             "linecolor": "white",
             "minorgridcolor": "white",
             "startlinecolor": "#2a3f5f"
            },
            "baxis": {
             "endlinecolor": "#2a3f5f",
             "gridcolor": "white",
             "linecolor": "white",
             "minorgridcolor": "white",
             "startlinecolor": "#2a3f5f"
            },
            "type": "carpet"
           }
          ],
          "choropleth": [
           {
            "colorbar": {
             "outlinewidth": 0,
             "ticks": ""
            },
            "type": "choropleth"
           }
          ],
          "contour": [
           {
            "colorbar": {
             "outlinewidth": 0,
             "ticks": ""
            },
            "colorscale": [
             [
              0,
              "#0d0887"
             ],
             [
              0.1111111111111111,
              "#46039f"
             ],
             [
              0.2222222222222222,
              "#7201a8"
             ],
             [
              0.3333333333333333,
              "#9c179e"
             ],
             [
              0.4444444444444444,
              "#bd3786"
             ],
             [
              0.5555555555555556,
              "#d8576b"
             ],
             [
              0.6666666666666666,
              "#ed7953"
             ],
             [
              0.7777777777777778,
              "#fb9f3a"
             ],
             [
              0.8888888888888888,
              "#fdca26"
             ],
             [
              1,
              "#f0f921"
             ]
            ],
            "type": "contour"
           }
          ],
          "contourcarpet": [
           {
            "colorbar": {
             "outlinewidth": 0,
             "ticks": ""
            },
            "type": "contourcarpet"
           }
          ],
          "heatmap": [
           {
            "colorbar": {
             "outlinewidth": 0,
             "ticks": ""
            },
            "colorscale": [
             [
              0,
              "#0d0887"
             ],
             [
              0.1111111111111111,
              "#46039f"
             ],
             [
              0.2222222222222222,
              "#7201a8"
             ],
             [
              0.3333333333333333,
              "#9c179e"
             ],
             [
              0.4444444444444444,
              "#bd3786"
             ],
             [
              0.5555555555555556,
              "#d8576b"
             ],
             [
              0.6666666666666666,
              "#ed7953"
             ],
             [
              0.7777777777777778,
              "#fb9f3a"
             ],
             [
              0.8888888888888888,
              "#fdca26"
             ],
             [
              1,
              "#f0f921"
             ]
            ],
            "type": "heatmap"
           }
          ],
          "heatmapgl": [
           {
            "colorbar": {
             "outlinewidth": 0,
             "ticks": ""
            },
            "colorscale": [
             [
              0,
              "#0d0887"
             ],
             [
              0.1111111111111111,
              "#46039f"
             ],
             [
              0.2222222222222222,
              "#7201a8"
             ],
             [
              0.3333333333333333,
              "#9c179e"
             ],
             [
              0.4444444444444444,
              "#bd3786"
             ],
             [
              0.5555555555555556,
              "#d8576b"
             ],
             [
              0.6666666666666666,
              "#ed7953"
             ],
             [
              0.7777777777777778,
              "#fb9f3a"
             ],
             [
              0.8888888888888888,
              "#fdca26"
             ],
             [
              1,
              "#f0f921"
             ]
            ],
            "type": "heatmapgl"
           }
          ],
          "histogram": [
           {
            "marker": {
             "pattern": {
              "fillmode": "overlay",
              "size": 10,
              "solidity": 0.2
             }
            },
            "type": "histogram"
           }
          ],
          "histogram2d": [
           {
            "colorbar": {
             "outlinewidth": 0,
             "ticks": ""
            },
            "colorscale": [
             [
              0,
              "#0d0887"
             ],
             [
              0.1111111111111111,
              "#46039f"
             ],
             [
              0.2222222222222222,
              "#7201a8"
             ],
             [
              0.3333333333333333,
              "#9c179e"
             ],
             [
              0.4444444444444444,
              "#bd3786"
             ],
             [
              0.5555555555555556,
              "#d8576b"
             ],
             [
              0.6666666666666666,
              "#ed7953"
             ],
             [
              0.7777777777777778,
              "#fb9f3a"
             ],
             [
              0.8888888888888888,
              "#fdca26"
             ],
             [
              1,
              "#f0f921"
             ]
            ],
            "type": "histogram2d"
           }
          ],
          "histogram2dcontour": [
           {
            "colorbar": {
             "outlinewidth": 0,
             "ticks": ""
            },
            "colorscale": [
             [
              0,
              "#0d0887"
             ],
             [
              0.1111111111111111,
              "#46039f"
             ],
             [
              0.2222222222222222,
              "#7201a8"
             ],
             [
              0.3333333333333333,
              "#9c179e"
             ],
             [
              0.4444444444444444,
              "#bd3786"
             ],
             [
              0.5555555555555556,
              "#d8576b"
             ],
             [
              0.6666666666666666,
              "#ed7953"
             ],
             [
              0.7777777777777778,
              "#fb9f3a"
             ],
             [
              0.8888888888888888,
              "#fdca26"
             ],
             [
              1,
              "#f0f921"
             ]
            ],
            "type": "histogram2dcontour"
           }
          ],
          "mesh3d": [
           {
            "colorbar": {
             "outlinewidth": 0,
             "ticks": ""
            },
            "type": "mesh3d"
           }
          ],
          "parcoords": [
           {
            "line": {
             "colorbar": {
              "outlinewidth": 0,
              "ticks": ""
             }
            },
            "type": "parcoords"
           }
          ],
          "pie": [
           {
            "automargin": true,
            "type": "pie"
           }
          ],
          "scatter": [
           {
            "fillpattern": {
             "fillmode": "overlay",
             "size": 10,
             "solidity": 0.2
            },
            "type": "scatter"
           }
          ],
          "scatter3d": [
           {
            "line": {
             "colorbar": {
              "outlinewidth": 0,
              "ticks": ""
             }
            },
            "marker": {
             "colorbar": {
              "outlinewidth": 0,
              "ticks": ""
             }
            },
            "type": "scatter3d"
           }
          ],
          "scattercarpet": [
           {
            "marker": {
             "colorbar": {
              "outlinewidth": 0,
              "ticks": ""
             }
            },
            "type": "scattercarpet"
           }
          ],
          "scattergeo": [
           {
            "marker": {
             "colorbar": {
              "outlinewidth": 0,
              "ticks": ""
             }
            },
            "type": "scattergeo"
           }
          ],
          "scattergl": [
           {
            "marker": {
             "colorbar": {
              "outlinewidth": 0,
              "ticks": ""
             }
            },
            "type": "scattergl"
           }
          ],
          "scattermapbox": [
           {
            "marker": {
             "colorbar": {
              "outlinewidth": 0,
              "ticks": ""
             }
            },
            "type": "scattermapbox"
           }
          ],
          "scatterpolar": [
           {
            "marker": {
             "colorbar": {
              "outlinewidth": 0,
              "ticks": ""
             }
            },
            "type": "scatterpolar"
           }
          ],
          "scatterpolargl": [
           {
            "marker": {
             "colorbar": {
              "outlinewidth": 0,
              "ticks": ""
             }
            },
            "type": "scatterpolargl"
           }
          ],
          "scatterternary": [
           {
            "marker": {
             "colorbar": {
              "outlinewidth": 0,
              "ticks": ""
             }
            },
            "type": "scatterternary"
           }
          ],
          "surface": [
           {
            "colorbar": {
             "outlinewidth": 0,
             "ticks": ""
            },
            "colorscale": [
             [
              0,
              "#0d0887"
             ],
             [
              0.1111111111111111,
              "#46039f"
             ],
             [
              0.2222222222222222,
              "#7201a8"
             ],
             [
              0.3333333333333333,
              "#9c179e"
             ],
             [
              0.4444444444444444,
              "#bd3786"
             ],
             [
              0.5555555555555556,
              "#d8576b"
             ],
             [
              0.6666666666666666,
              "#ed7953"
             ],
             [
              0.7777777777777778,
              "#fb9f3a"
             ],
             [
              0.8888888888888888,
              "#fdca26"
             ],
             [
              1,
              "#f0f921"
             ]
            ],
            "type": "surface"
           }
          ],
          "table": [
           {
            "cells": {
             "fill": {
              "color": "#EBF0F8"
             },
             "line": {
              "color": "white"
             }
            },
            "header": {
             "fill": {
              "color": "#C8D4E3"
             },
             "line": {
              "color": "white"
             }
            },
            "type": "table"
           }
          ]
         },
         "layout": {
          "annotationdefaults": {
           "arrowcolor": "#2a3f5f",
           "arrowhead": 0,
           "arrowwidth": 1
          },
          "autotypenumbers": "strict",
          "coloraxis": {
           "colorbar": {
            "outlinewidth": 0,
            "ticks": ""
           }
          },
          "colorscale": {
           "diverging": [
            [
             0,
             "#8e0152"
            ],
            [
             0.1,
             "#c51b7d"
            ],
            [
             0.2,
             "#de77ae"
            ],
            [
             0.3,
             "#f1b6da"
            ],
            [
             0.4,
             "#fde0ef"
            ],
            [
             0.5,
             "#f7f7f7"
            ],
            [
             0.6,
             "#e6f5d0"
            ],
            [
             0.7,
             "#b8e186"
            ],
            [
             0.8,
             "#7fbc41"
            ],
            [
             0.9,
             "#4d9221"
            ],
            [
             1,
             "#276419"
            ]
           ],
           "sequential": [
            [
             0,
             "#0d0887"
            ],
            [
             0.1111111111111111,
             "#46039f"
            ],
            [
             0.2222222222222222,
             "#7201a8"
            ],
            [
             0.3333333333333333,
             "#9c179e"
            ],
            [
             0.4444444444444444,
             "#bd3786"
            ],
            [
             0.5555555555555556,
             "#d8576b"
            ],
            [
             0.6666666666666666,
             "#ed7953"
            ],
            [
             0.7777777777777778,
             "#fb9f3a"
            ],
            [
             0.8888888888888888,
             "#fdca26"
            ],
            [
             1,
             "#f0f921"
            ]
           ],
           "sequentialminus": [
            [
             0,
             "#0d0887"
            ],
            [
             0.1111111111111111,
             "#46039f"
            ],
            [
             0.2222222222222222,
             "#7201a8"
            ],
            [
             0.3333333333333333,
             "#9c179e"
            ],
            [
             0.4444444444444444,
             "#bd3786"
            ],
            [
             0.5555555555555556,
             "#d8576b"
            ],
            [
             0.6666666666666666,
             "#ed7953"
            ],
            [
             0.7777777777777778,
             "#fb9f3a"
            ],
            [
             0.8888888888888888,
             "#fdca26"
            ],
            [
             1,
             "#f0f921"
            ]
           ]
          },
          "colorway": [
           "#636efa",
           "#EF553B",
           "#00cc96",
           "#ab63fa",
           "#FFA15A",
           "#19d3f3",
           "#FF6692",
           "#B6E880",
           "#FF97FF",
           "#FECB52"
          ],
          "font": {
           "color": "#2a3f5f"
          },
          "geo": {
           "bgcolor": "white",
           "lakecolor": "white",
           "landcolor": "#E5ECF6",
           "showlakes": true,
           "showland": true,
           "subunitcolor": "white"
          },
          "hoverlabel": {
           "align": "left"
          },
          "hovermode": "closest",
          "mapbox": {
           "style": "light"
          },
          "paper_bgcolor": "white",
          "plot_bgcolor": "#E5ECF6",
          "polar": {
           "angularaxis": {
            "gridcolor": "white",
            "linecolor": "white",
            "ticks": ""
           },
           "bgcolor": "#E5ECF6",
           "radialaxis": {
            "gridcolor": "white",
            "linecolor": "white",
            "ticks": ""
           }
          },
          "scene": {
           "xaxis": {
            "backgroundcolor": "#E5ECF6",
            "gridcolor": "white",
            "gridwidth": 2,
            "linecolor": "white",
            "showbackground": true,
            "ticks": "",
            "zerolinecolor": "white"
           },
           "yaxis": {
            "backgroundcolor": "#E5ECF6",
            "gridcolor": "white",
            "gridwidth": 2,
            "linecolor": "white",
            "showbackground": true,
            "ticks": "",
            "zerolinecolor": "white"
           },
           "zaxis": {
            "backgroundcolor": "#E5ECF6",
            "gridcolor": "white",
            "gridwidth": 2,
            "linecolor": "white",
            "showbackground": true,
            "ticks": "",
            "zerolinecolor": "white"
           }
          },
          "shapedefaults": {
           "line": {
            "color": "#2a3f5f"
           }
          },
          "ternary": {
           "aaxis": {
            "gridcolor": "white",
            "linecolor": "white",
            "ticks": ""
           },
           "baxis": {
            "gridcolor": "white",
            "linecolor": "white",
            "ticks": ""
           },
           "bgcolor": "#E5ECF6",
           "caxis": {
            "gridcolor": "white",
            "linecolor": "white",
            "ticks": ""
           }
          },
          "title": {
           "x": 0.05
          },
          "xaxis": {
           "automargin": true,
           "gridcolor": "white",
           "linecolor": "white",
           "ticks": "",
           "title": {
            "standoff": 15
           },
           "zerolinecolor": "white",
           "zerolinewidth": 2
          },
          "yaxis": {
           "automargin": true,
           "gridcolor": "white",
           "linecolor": "white",
           "ticks": "",
           "title": {
            "standoff": 15
           },
           "zerolinecolor": "white",
           "zerolinewidth": 2
          }
         }
        },
        "title": {
         "text": "Distribution of Scores by Model and Type of Hypothesis"
        },
        "xaxis": {
         "anchor": "y",
         "domain": [
          0,
          1
         ],
         "title": {
          "text": "th"
         }
        },
        "yaxis": {
         "anchor": "x",
         "domain": [
          0,
          1
         ],
         "title": {
          "text": "score"
         }
        }
       }
      }
     },
     "metadata": {},
     "output_type": "display_data"
    }
   ],
   "source": [
    "color_palette = px.colors.qualitative.Safe\n",
    "columns = [\"user_id\", \"score\", \"th\", \"giv\", \"i_shuffled\", \"m\"]\n",
    "df_score_h_ai_human = pd.concat([human_h[columns], ai_h[columns]])\n",
    "\n",
    "fig = px.box(df_score_h_ai_human, x='th', y='score', color='m', points='all',\n",
    "             #labels={'Score': 'Scores', 'Model': 'Models', 'Type of Hypothesis': 'Type of Hypothesis'}\n",
    "             color_discrete_sequence=color_palette\n",
    "             )\n",
    "fig.update_layout(title='Distribution of Scores by Model and Type of Hypothesis')\n",
    "fig.write_image(\"../visualisations/user_studies_ai_human_h_scores.pdf\", format='pdf')\n",
    "fig.show()"
   ]
  },
  {
   "cell_type": "markdown",
   "metadata": {},
   "source": [
    "## Comparing human-generated hypotheses and ai-generated hypotheses"
   ]
  },
  {
   "cell_type": "code",
   "execution_count": 90,
   "metadata": {},
   "outputs": [
    {
     "data": {
      "text/html": [
       "<div>\n",
       "<style scoped>\n",
       "    .dataframe tbody tr th:only-of-type {\n",
       "        vertical-align: middle;\n",
       "    }\n",
       "\n",
       "    .dataframe tbody tr th {\n",
       "        vertical-align: top;\n",
       "    }\n",
       "\n",
       "    .dataframe thead th {\n",
       "        text-align: right;\n",
       "    }\n",
       "</style>\n",
       "<table border=\"1\" class=\"dataframe\">\n",
       "  <thead>\n",
       "    <tr style=\"text-align: right;\">\n",
       "      <th></th>\n",
       "      <th>regular_ReputationVariable_A</th>\n",
       "      <th>regular_ReputationVariable_B</th>\n",
       "      <th>regular_ReputationVariable_C</th>\n",
       "      <th>regular_ReputationVariable_D</th>\n",
       "      <th>regular_ReputationVariable_E</th>\n",
       "      <th>regular_ReputationVariable_H0</th>\n",
       "      <th>regular_ReputationVariable_H1</th>\n",
       "      <th>regular_ReputationVariable_H2</th>\n",
       "      <th>regular_ReputationVariable_H3</th>\n",
       "      <th>regular_ReputationVariable_H4</th>\n",
       "      <th>...</th>\n",
       "      <th>var_mod_IdentificationVariable_B</th>\n",
       "      <th>var_mod_IdentificationVariable_C</th>\n",
       "      <th>var_mod_IdentificationVariable_D</th>\n",
       "      <th>var_mod_IdentificationVariable_E</th>\n",
       "      <th>var_mod_IdentificationVariable_H0</th>\n",
       "      <th>var_mod_IdentificationVariable_H1</th>\n",
       "      <th>var_mod_IdentificationVariable_H2</th>\n",
       "      <th>var_mod_IdentificationVariable_H3</th>\n",
       "      <th>var_mod_IdentificationVariable_H4</th>\n",
       "      <th>var_mod_IdentificationVariable_H5</th>\n",
       "    </tr>\n",
       "  </thead>\n",
       "  <tbody>\n",
       "    <tr>\n",
       "      <th>0</th>\n",
       "      <td>7</td>\n",
       "      <td>2</td>\n",
       "      <td>8</td>\n",
       "      <td>11</td>\n",
       "      <td>5</td>\n",
       "      <td>6</td>\n",
       "      <td>9</td>\n",
       "      <td>3</td>\n",
       "      <td>1</td>\n",
       "      <td>10</td>\n",
       "      <td>...</td>\n",
       "      <td>10</td>\n",
       "      <td>2</td>\n",
       "      <td>6</td>\n",
       "      <td>4</td>\n",
       "      <td>3</td>\n",
       "      <td>1</td>\n",
       "      <td>9</td>\n",
       "      <td>5</td>\n",
       "      <td>7</td>\n",
       "      <td>8</td>\n",
       "    </tr>\n",
       "    <tr>\n",
       "      <th>1</th>\n",
       "      <td>8</td>\n",
       "      <td>7</td>\n",
       "      <td>1</td>\n",
       "      <td>5</td>\n",
       "      <td>3</td>\n",
       "      <td>10</td>\n",
       "      <td>11</td>\n",
       "      <td>2</td>\n",
       "      <td>9</td>\n",
       "      <td>6</td>\n",
       "      <td>...</td>\n",
       "      <td>2</td>\n",
       "      <td>3</td>\n",
       "      <td>5</td>\n",
       "      <td>7</td>\n",
       "      <td>4</td>\n",
       "      <td>8</td>\n",
       "      <td>10</td>\n",
       "      <td>9</td>\n",
       "      <td>11</td>\n",
       "      <td>6</td>\n",
       "    </tr>\n",
       "    <tr>\n",
       "      <th>2</th>\n",
       "      <td>3</td>\n",
       "      <td>8</td>\n",
       "      <td>2</td>\n",
       "      <td>5</td>\n",
       "      <td>1</td>\n",
       "      <td>6</td>\n",
       "      <td>7</td>\n",
       "      <td>9</td>\n",
       "      <td>10</td>\n",
       "      <td>4</td>\n",
       "      <td>...</td>\n",
       "      <td>2</td>\n",
       "      <td>3</td>\n",
       "      <td>4</td>\n",
       "      <td>8</td>\n",
       "      <td>9</td>\n",
       "      <td>10</td>\n",
       "      <td>5</td>\n",
       "      <td>6</td>\n",
       "      <td>11</td>\n",
       "      <td>7</td>\n",
       "    </tr>\n",
       "  </tbody>\n",
       "</table>\n",
       "<p>3 rows × 66 columns</p>\n",
       "</div>"
      ],
      "text/plain": [
       "   regular_ReputationVariable_A  regular_ReputationVariable_B  \\\n",
       "0                             7                             2   \n",
       "1                             8                             7   \n",
       "2                             3                             8   \n",
       "\n",
       "   regular_ReputationVariable_C  regular_ReputationVariable_D  \\\n",
       "0                             8                            11   \n",
       "1                             1                             5   \n",
       "2                             2                             5   \n",
       "\n",
       "   regular_ReputationVariable_E  regular_ReputationVariable_H0  \\\n",
       "0                             5                              6   \n",
       "1                             3                             10   \n",
       "2                             1                              6   \n",
       "\n",
       "   regular_ReputationVariable_H1  regular_ReputationVariable_H2  \\\n",
       "0                              9                              3   \n",
       "1                             11                              2   \n",
       "2                              7                              9   \n",
       "\n",
       "   regular_ReputationVariable_H3  regular_ReputationVariable_H4  ...  \\\n",
       "0                              1                             10  ...   \n",
       "1                              9                              6  ...   \n",
       "2                             10                              4  ...   \n",
       "\n",
       "   var_mod_IdentificationVariable_B  var_mod_IdentificationVariable_C  \\\n",
       "0                                10                                 2   \n",
       "1                                 2                                 3   \n",
       "2                                 2                                 3   \n",
       "\n",
       "   var_mod_IdentificationVariable_D  var_mod_IdentificationVariable_E  \\\n",
       "0                                 6                                 4   \n",
       "1                                 5                                 7   \n",
       "2                                 4                                 8   \n",
       "\n",
       "   var_mod_IdentificationVariable_H0  var_mod_IdentificationVariable_H1  \\\n",
       "0                                  3                                  1   \n",
       "1                                  4                                  8   \n",
       "2                                  9                                 10   \n",
       "\n",
       "   var_mod_IdentificationVariable_H2  var_mod_IdentificationVariable_H3  \\\n",
       "0                                  9                                  5   \n",
       "1                                 10                                  9   \n",
       "2                                  5                                  6   \n",
       "\n",
       "   var_mod_IdentificationVariable_H4  var_mod_IdentificationVariable_H5  \n",
       "0                                  7                                  8  \n",
       "1                                 11                                  6  \n",
       "2                                 11                                  7  \n",
       "\n",
       "[3 rows x 66 columns]"
      ]
     },
     "execution_count": 90,
     "metadata": {},
     "output_type": "execute_result"
    }
   ],
   "source": [
    "comparison_h_start_col = \"Please rank all the hypotheses, from the best one (rank = 1) to the worst one (rank = 11).\"\n",
    "comparison_h_orig = all_results[[x for x in all_results.columns if x.startswith(comparison_h_start_col)]]\n",
    "comparison_h_orig.columns = [f\"{ho}_{col}\" for ho in H_ORDER for col in COLS_ALL_H]\n",
    "comparison_h_orig"
   ]
  },
  {
   "cell_type": "code",
   "execution_count": 91,
   "metadata": {},
   "outputs": [
    {
     "data": {
      "text/html": [
       "<div>\n",
       "<style scoped>\n",
       "    .dataframe tbody tr th:only-of-type {\n",
       "        vertical-align: middle;\n",
       "    }\n",
       "\n",
       "    .dataframe tbody tr th {\n",
       "        vertical-align: top;\n",
       "    }\n",
       "\n",
       "    .dataframe thead th {\n",
       "        text-align: right;\n",
       "    }\n",
       "</style>\n",
       "<table border=\"1\" class=\"dataframe\">\n",
       "  <thead>\n",
       "    <tr style=\"text-align: right;\">\n",
       "      <th></th>\n",
       "      <th>user_id</th>\n",
       "      <th>rank</th>\n",
       "      <th>th</th>\n",
       "      <th>giv</th>\n",
       "      <th>i_shuffled</th>\n",
       "      <th>m</th>\n",
       "      <th>i_orig</th>\n",
       "      <th>h</th>\n",
       "    </tr>\n",
       "  </thead>\n",
       "  <tbody>\n",
       "    <tr>\n",
       "      <th>120</th>\n",
       "      <td>0</td>\n",
       "      <td>10</td>\n",
       "      <td>study_mod</td>\n",
       "      <td>IncentivesVariable</td>\n",
       "      <td>2</td>\n",
       "      <td>anyburl</td>\n",
       "      <td>5.0</td>\n",
       "      <td>When comparing studies where game incentive is...</td>\n",
       "    </tr>\n",
       "    <tr>\n",
       "      <th>119</th>\n",
       "      <td>2</td>\n",
       "      <td>9</td>\n",
       "      <td>study_mod</td>\n",
       "      <td>IncentivesVariable</td>\n",
       "      <td>1</td>\n",
       "      <td>classification</td>\n",
       "      <td>0.0</td>\n",
       "      <td>When comparing studies where game incentive is...</td>\n",
       "    </tr>\n",
       "    <tr>\n",
       "      <th>121</th>\n",
       "      <td>1</td>\n",
       "      <td>10</td>\n",
       "      <td>study_mod</td>\n",
       "      <td>IncentivesVariable</td>\n",
       "      <td>2</td>\n",
       "      <td>anyburl</td>\n",
       "      <td>5.0</td>\n",
       "      <td>When comparing studies where game incentive is...</td>\n",
       "    </tr>\n",
       "  </tbody>\n",
       "</table>\n",
       "</div>"
      ],
      "text/plain": [
       "    user_id rank         th                 giv i_shuffled               m  \\\n",
       "120       0   10  study_mod  IncentivesVariable          2         anyburl   \n",
       "119       2    9  study_mod  IncentivesVariable          1  classification   \n",
       "121       1   10  study_mod  IncentivesVariable          2         anyburl   \n",
       "\n",
       "     i_orig                                                  h  \n",
       "120     5.0  When comparing studies where game incentive is...  \n",
       "119     0.0  When comparing studies where game incentive is...  \n",
       "121     5.0  When comparing studies where game incentive is...  "
      ]
     },
     "execution_count": 91,
     "metadata": {},
     "output_type": "execute_result"
    }
   ],
   "source": [
    "comparison_h = pd.DataFrame(columns=[\"user_id\", \"rank\", \"th\", \"giv\", \"i_shuffled\"])\n",
    "\n",
    "def update_row_ai(row, val):\n",
    "    th = \"_\".join(val.split(\"_\")[:-1])\n",
    "    row[\"th\"] = th\n",
    "    row[\"giv\"] = val.split(\"_\")[-1]\n",
    "    return row\n",
    "\n",
    "for ho in H_ORDER:\n",
    "    for i in COLS_ALL_H:\n",
    "        curr_df = comparison_h_orig[[f\"{ho}_{i}\"]].rename(columns={f\"{ho}_{i}\": \"rank\"})\n",
    "        curr_df[\"user_id\"] = curr_df.index\n",
    "        curr_df[\"i_shuffled\"] = i.replace(\"H\", \"\")\n",
    "        curr_df = curr_df.apply(lambda row: update_row_ai(row, ho), axis=1)\n",
    "        comparison_h = pd.concat([comparison_h, curr_df])\n",
    "    \n",
    "comparison_h = comparison_h.reset_index(drop=True)\n",
    "ai_h_metadata.i_shuffled = ai_h_metadata.i_shuffled.astype(str)\n",
    "comparison_h = pd.merge(comparison_h, ai_h_metadata, on=['th', 'giv', 'i_shuffled'], how='left')\n",
    "comparison_h[\"m\"] = comparison_h[\"m\"].fillna(\"human\")\n",
    "comparison_h.sample(3)"
   ]
  },
  {
   "cell_type": "code",
   "execution_count": 92,
   "metadata": {},
   "outputs": [
    {
     "name": "stdout",
     "output_type": "stream",
     "text": [
      "0.10000000000000002 0.3080808080808087\n"
     ]
    },
    {
     "name": "stderr",
     "output_type": "stream",
     "text": [
      "/var/folders/p9/2gjyjx2x3pjb2m5w91srfdq40000gp/T/ipykernel_5695/1180842718.py:2: SettingWithCopyWarning:\n",
      "\n",
      "\n",
      "A value is trying to be set on a copy of a slice from a DataFrame.\n",
      "Try using .loc[row_indexer,col_indexer] = value instead\n",
      "\n",
      "See the caveats in the documentation: https://pandas.pydata.org/pandas-docs/stable/user_guide/indexing.html#returning-a-view-versus-a-copy\n",
      "\n"
     ]
    }
   ],
   "source": [
    "data_agreement = comparison_h[[\"th\", \"giv\", \"i_shuffled\", \"m\", \"rank\", \"user_id\"]]\n",
    "data_agreement[\"q_id\"] = data_agreement[\"th\"] + '_' + data_agreement[\"giv\"] + '_' + \\\n",
    "    data_agreement[\"i_shuffled\"] + '_' + data_agreement[\"m\"]\n",
    "data_agreement = data_agreement[[\"q_id\", \"user_id\", \"rank\"]].values\n",
    "\n",
    "questions_answers_table = pivot_table_frequency(data_agreement[:, 0], data_agreement[:, 2])\n",
    "users_answers_table = pivot_table_frequency(data_agreement[:, 1], data_agreement[:, 2])\n",
    "\n",
    "kappa = cohens_kappa(questions_answers_table, users_answers_table)\n",
    "weighted_kappa = cohens_kappa(questions_answers_table, users_answers_table, weights_kernel=quadratic_kernel)\n",
    "print(kappa, weighted_kappa)\n"
   ]
  },
  {
   "cell_type": "code",
   "execution_count": 97,
   "metadata": {},
   "outputs": [
    {
     "data": {
      "text/html": [
       "<div>\n",
       "<style scoped>\n",
       "    .dataframe tbody tr th:only-of-type {\n",
       "        vertical-align: middle;\n",
       "    }\n",
       "\n",
       "    .dataframe tbody tr th {\n",
       "        vertical-align: top;\n",
       "    }\n",
       "\n",
       "    .dataframe thead th {\n",
       "        text-align: right;\n",
       "    }\n",
       "</style>\n",
       "<table border=\"1\" class=\"dataframe\">\n",
       "  <thead>\n",
       "    <tr style=\"text-align: right;\">\n",
       "      <th></th>\n",
       "      <th>th</th>\n",
       "      <th>giv</th>\n",
       "      <th>i_shuffled</th>\n",
       "      <th>m</th>\n",
       "      <th>rank</th>\n",
       "    </tr>\n",
       "  </thead>\n",
       "  <tbody>\n",
       "    <tr>\n",
       "      <th>0</th>\n",
       "      <td>regular</td>\n",
       "      <td>PersonalityVariable</td>\n",
       "      <td>0</td>\n",
       "      <td>anyburl</td>\n",
       "      <td>10.333333</td>\n",
       "    </tr>\n",
       "    <tr>\n",
       "      <th>1</th>\n",
       "      <td>regular</td>\n",
       "      <td>PersonalityVariable</td>\n",
       "      <td>1</td>\n",
       "      <td>anyburl</td>\n",
       "      <td>5.666667</td>\n",
       "    </tr>\n",
       "    <tr>\n",
       "      <th>2</th>\n",
       "      <td>regular</td>\n",
       "      <td>PersonalityVariable</td>\n",
       "      <td>2</td>\n",
       "      <td>classification</td>\n",
       "      <td>7.333333</td>\n",
       "    </tr>\n",
       "    <tr>\n",
       "      <th>3</th>\n",
       "      <td>regular</td>\n",
       "      <td>PersonalityVariable</td>\n",
       "      <td>3</td>\n",
       "      <td>llm_zero_shot_prompting</td>\n",
       "      <td>8.666667</td>\n",
       "    </tr>\n",
       "    <tr>\n",
       "      <th>4</th>\n",
       "      <td>regular</td>\n",
       "      <td>PersonalityVariable</td>\n",
       "      <td>4</td>\n",
       "      <td>llm_zero_shot_prompting</td>\n",
       "      <td>10.333333</td>\n",
       "    </tr>\n",
       "    <tr>\n",
       "      <th>...</th>\n",
       "      <td>...</td>\n",
       "      <td>...</td>\n",
       "      <td>...</td>\n",
       "      <td>...</td>\n",
       "      <td>...</td>\n",
       "    </tr>\n",
       "    <tr>\n",
       "      <th>61</th>\n",
       "      <td>var_mod</td>\n",
       "      <td>LeadershipVariable</td>\n",
       "      <td>A</td>\n",
       "      <td>human</td>\n",
       "      <td>4.0</td>\n",
       "    </tr>\n",
       "    <tr>\n",
       "      <th>62</th>\n",
       "      <td>var_mod</td>\n",
       "      <td>LeadershipVariable</td>\n",
       "      <td>B</td>\n",
       "      <td>human</td>\n",
       "      <td>3.0</td>\n",
       "    </tr>\n",
       "    <tr>\n",
       "      <th>63</th>\n",
       "      <td>var_mod</td>\n",
       "      <td>LeadershipVariable</td>\n",
       "      <td>C</td>\n",
       "      <td>human</td>\n",
       "      <td>2.333333</td>\n",
       "    </tr>\n",
       "    <tr>\n",
       "      <th>64</th>\n",
       "      <td>var_mod</td>\n",
       "      <td>LeadershipVariable</td>\n",
       "      <td>D</td>\n",
       "      <td>human</td>\n",
       "      <td>6.666667</td>\n",
       "    </tr>\n",
       "    <tr>\n",
       "      <th>65</th>\n",
       "      <td>var_mod</td>\n",
       "      <td>LeadershipVariable</td>\n",
       "      <td>E</td>\n",
       "      <td>human</td>\n",
       "      <td>4.0</td>\n",
       "    </tr>\n",
       "  </tbody>\n",
       "</table>\n",
       "<p>66 rows × 5 columns</p>\n",
       "</div>"
      ],
      "text/plain": [
       "         th                  giv i_shuffled                        m  \\\n",
       "0   regular  PersonalityVariable          0                  anyburl   \n",
       "1   regular  PersonalityVariable          1                  anyburl   \n",
       "2   regular  PersonalityVariable          2           classification   \n",
       "3   regular  PersonalityVariable          3  llm_zero_shot_prompting   \n",
       "4   regular  PersonalityVariable          4  llm_zero_shot_prompting   \n",
       "..      ...                  ...        ...                      ...   \n",
       "61  var_mod   LeadershipVariable          A                    human   \n",
       "62  var_mod   LeadershipVariable          B                    human   \n",
       "63  var_mod   LeadershipVariable          C                    human   \n",
       "64  var_mod   LeadershipVariable          D                    human   \n",
       "65  var_mod   LeadershipVariable          E                    human   \n",
       "\n",
       "         rank  \n",
       "0   10.333333  \n",
       "1    5.666667  \n",
       "2    7.333333  \n",
       "3    8.666667  \n",
       "4   10.333333  \n",
       "..        ...  \n",
       "61        4.0  \n",
       "62        3.0  \n",
       "63   2.333333  \n",
       "64   6.666667  \n",
       "65        4.0  \n",
       "\n",
       "[66 rows x 5 columns]"
      ]
     },
     "execution_count": 97,
     "metadata": {},
     "output_type": "execute_result"
    }
   ],
   "source": [
    "comparison_h.groupby([\"th\", \"giv\", \"i_shuffled\", \"m\"]).agg({\"rank\": \"mean\"}).reset_index()"
   ]
  },
  {
   "cell_type": "code",
   "execution_count": 103,
   "metadata": {},
   "outputs": [
    {
     "data": {
      "application/vnd.plotly.v1+json": {
       "config": {
        "plotlyServerURL": "https://plot.ly"
       },
       "data": [
        {
         "alignmentgroup": "True",
         "boxpoints": "all",
         "hovertemplate": "m=anyburl<br>th=%{x}<br>rank=%{y}<extra></extra>",
         "legendgroup": "anyburl",
         "marker": {
          "color": "rgb(136, 204, 238)"
         },
         "name": "anyburl",
         "notched": false,
         "offsetgroup": "anyburl",
         "orientation": "v",
         "showlegend": true,
         "type": "box",
         "x": [
          "regular",
          "regular",
          "regular",
          "regular",
          "study_mod",
          "study_mod",
          "study_mod",
          "study_mod",
          "var_mod",
          "var_mod",
          "var_mod",
          "var_mod"
         ],
         "x0": " ",
         "xaxis": "x",
         "y": [
          10.333333333333334,
          5.666666666666667,
          6.666666666666667,
          6.333333333333333,
          10.333333333333334,
          9,
          5.666666666666667,
          10,
          5.333333333333333,
          7,
          5.666666666666667,
          8.333333333333334
         ],
         "y0": " ",
         "yaxis": "y"
        },
        {
         "alignmentgroup": "True",
         "boxpoints": "all",
         "hovertemplate": "m=classification<br>th=%{x}<br>rank=%{y}<extra></extra>",
         "legendgroup": "classification",
         "marker": {
          "color": "rgb(204, 102, 119)"
         },
         "name": "classification",
         "notched": false,
         "offsetgroup": "classification",
         "orientation": "v",
         "showlegend": true,
         "type": "box",
         "x": [
          "regular",
          "regular",
          "regular",
          "regular",
          "study_mod",
          "study_mod",
          "study_mod",
          "study_mod",
          "var_mod",
          "var_mod",
          "var_mod",
          "var_mod"
         ],
         "x0": " ",
         "xaxis": "x",
         "y": [
          7.333333333333333,
          5,
          7.333333333333333,
          4.666666666666667,
          8.333333333333334,
          7,
          9,
          11,
          8,
          6.666666666666667,
          7,
          8
         ],
         "y0": " ",
         "yaxis": "y"
        },
        {
         "alignmentgroup": "True",
         "boxpoints": "all",
         "hovertemplate": "m=llm_zero_shot_prompting<br>th=%{x}<br>rank=%{y}<extra></extra>",
         "legendgroup": "llm_zero_shot_prompting",
         "marker": {
          "color": "rgb(221, 204, 119)"
         },
         "name": "llm_zero_shot_prompting",
         "notched": false,
         "offsetgroup": "llm_zero_shot_prompting",
         "orientation": "v",
         "showlegend": true,
         "type": "box",
         "x": [
          "regular",
          "regular",
          "regular",
          "regular",
          "study_mod",
          "study_mod",
          "study_mod",
          "study_mod",
          "var_mod",
          "var_mod",
          "var_mod",
          "var_mod"
         ],
         "x0": " ",
         "xaxis": "x",
         "y": [
          8.666666666666666,
          10.333333333333334,
          9,
          6.666666666666667,
          8.333333333333334,
          5.666666666666667,
          4.666666666666667,
          5.666666666666667,
          6.333333333333333,
          9.666666666666666,
          8,
          9
         ],
         "y0": " ",
         "yaxis": "y"
        },
        {
         "alignmentgroup": "True",
         "boxpoints": "all",
         "hovertemplate": "m=human<br>th=%{x}<br>rank=%{y}<extra></extra>",
         "legendgroup": "human",
         "marker": {
          "color": "rgb(17, 119, 51)"
         },
         "name": "human",
         "notched": false,
         "offsetgroup": "human",
         "orientation": "v",
         "showlegend": true,
         "type": "box",
         "x": [
          "regular",
          "regular",
          "regular",
          "regular",
          "regular",
          "regular",
          "regular",
          "regular",
          "regular",
          "regular",
          "study_mod",
          "study_mod",
          "study_mod",
          "study_mod",
          "study_mod",
          "study_mod",
          "study_mod",
          "study_mod",
          "study_mod",
          "study_mod",
          "var_mod",
          "var_mod",
          "var_mod",
          "var_mod",
          "var_mod",
          "var_mod",
          "var_mod",
          "var_mod",
          "var_mod",
          "var_mod"
         ],
         "x0": " ",
         "xaxis": "x",
         "y": [
          5,
          4.666666666666667,
          3,
          3.3333333333333335,
          2.6666666666666665,
          6,
          5.666666666666667,
          3.6666666666666665,
          7,
          3,
          3.3333333333333335,
          2.6666666666666665,
          4,
          3.3333333333333335,
          4,
          3.3333333333333335,
          1.6666666666666667,
          4,
          4.333333333333333,
          6.666666666666667,
          4.333333333333333,
          4.666666666666667,
          2.6666666666666665,
          5,
          6.333333333333333,
          4,
          3,
          2.3333333333333335,
          6.666666666666667,
          4
         ],
         "y0": " ",
         "yaxis": "y"
        }
       ],
       "layout": {
        "boxmode": "group",
        "legend": {
         "title": {
          "text": "m"
         },
         "tracegroupgap": 0
        },
        "margin": {
         "t": 60
        },
        "template": {
         "data": {
          "bar": [
           {
            "error_x": {
             "color": "#2a3f5f"
            },
            "error_y": {
             "color": "#2a3f5f"
            },
            "marker": {
             "line": {
              "color": "#E5ECF6",
              "width": 0.5
             },
             "pattern": {
              "fillmode": "overlay",
              "size": 10,
              "solidity": 0.2
             }
            },
            "type": "bar"
           }
          ],
          "barpolar": [
           {
            "marker": {
             "line": {
              "color": "#E5ECF6",
              "width": 0.5
             },
             "pattern": {
              "fillmode": "overlay",
              "size": 10,
              "solidity": 0.2
             }
            },
            "type": "barpolar"
           }
          ],
          "carpet": [
           {
            "aaxis": {
             "endlinecolor": "#2a3f5f",
             "gridcolor": "white",
             "linecolor": "white",
             "minorgridcolor": "white",
             "startlinecolor": "#2a3f5f"
            },
            "baxis": {
             "endlinecolor": "#2a3f5f",
             "gridcolor": "white",
             "linecolor": "white",
             "minorgridcolor": "white",
             "startlinecolor": "#2a3f5f"
            },
            "type": "carpet"
           }
          ],
          "choropleth": [
           {
            "colorbar": {
             "outlinewidth": 0,
             "ticks": ""
            },
            "type": "choropleth"
           }
          ],
          "contour": [
           {
            "colorbar": {
             "outlinewidth": 0,
             "ticks": ""
            },
            "colorscale": [
             [
              0,
              "#0d0887"
             ],
             [
              0.1111111111111111,
              "#46039f"
             ],
             [
              0.2222222222222222,
              "#7201a8"
             ],
             [
              0.3333333333333333,
              "#9c179e"
             ],
             [
              0.4444444444444444,
              "#bd3786"
             ],
             [
              0.5555555555555556,
              "#d8576b"
             ],
             [
              0.6666666666666666,
              "#ed7953"
             ],
             [
              0.7777777777777778,
              "#fb9f3a"
             ],
             [
              0.8888888888888888,
              "#fdca26"
             ],
             [
              1,
              "#f0f921"
             ]
            ],
            "type": "contour"
           }
          ],
          "contourcarpet": [
           {
            "colorbar": {
             "outlinewidth": 0,
             "ticks": ""
            },
            "type": "contourcarpet"
           }
          ],
          "heatmap": [
           {
            "colorbar": {
             "outlinewidth": 0,
             "ticks": ""
            },
            "colorscale": [
             [
              0,
              "#0d0887"
             ],
             [
              0.1111111111111111,
              "#46039f"
             ],
             [
              0.2222222222222222,
              "#7201a8"
             ],
             [
              0.3333333333333333,
              "#9c179e"
             ],
             [
              0.4444444444444444,
              "#bd3786"
             ],
             [
              0.5555555555555556,
              "#d8576b"
             ],
             [
              0.6666666666666666,
              "#ed7953"
             ],
             [
              0.7777777777777778,
              "#fb9f3a"
             ],
             [
              0.8888888888888888,
              "#fdca26"
             ],
             [
              1,
              "#f0f921"
             ]
            ],
            "type": "heatmap"
           }
          ],
          "heatmapgl": [
           {
            "colorbar": {
             "outlinewidth": 0,
             "ticks": ""
            },
            "colorscale": [
             [
              0,
              "#0d0887"
             ],
             [
              0.1111111111111111,
              "#46039f"
             ],
             [
              0.2222222222222222,
              "#7201a8"
             ],
             [
              0.3333333333333333,
              "#9c179e"
             ],
             [
              0.4444444444444444,
              "#bd3786"
             ],
             [
              0.5555555555555556,
              "#d8576b"
             ],
             [
              0.6666666666666666,
              "#ed7953"
             ],
             [
              0.7777777777777778,
              "#fb9f3a"
             ],
             [
              0.8888888888888888,
              "#fdca26"
             ],
             [
              1,
              "#f0f921"
             ]
            ],
            "type": "heatmapgl"
           }
          ],
          "histogram": [
           {
            "marker": {
             "pattern": {
              "fillmode": "overlay",
              "size": 10,
              "solidity": 0.2
             }
            },
            "type": "histogram"
           }
          ],
          "histogram2d": [
           {
            "colorbar": {
             "outlinewidth": 0,
             "ticks": ""
            },
            "colorscale": [
             [
              0,
              "#0d0887"
             ],
             [
              0.1111111111111111,
              "#46039f"
             ],
             [
              0.2222222222222222,
              "#7201a8"
             ],
             [
              0.3333333333333333,
              "#9c179e"
             ],
             [
              0.4444444444444444,
              "#bd3786"
             ],
             [
              0.5555555555555556,
              "#d8576b"
             ],
             [
              0.6666666666666666,
              "#ed7953"
             ],
             [
              0.7777777777777778,
              "#fb9f3a"
             ],
             [
              0.8888888888888888,
              "#fdca26"
             ],
             [
              1,
              "#f0f921"
             ]
            ],
            "type": "histogram2d"
           }
          ],
          "histogram2dcontour": [
           {
            "colorbar": {
             "outlinewidth": 0,
             "ticks": ""
            },
            "colorscale": [
             [
              0,
              "#0d0887"
             ],
             [
              0.1111111111111111,
              "#46039f"
             ],
             [
              0.2222222222222222,
              "#7201a8"
             ],
             [
              0.3333333333333333,
              "#9c179e"
             ],
             [
              0.4444444444444444,
              "#bd3786"
             ],
             [
              0.5555555555555556,
              "#d8576b"
             ],
             [
              0.6666666666666666,
              "#ed7953"
             ],
             [
              0.7777777777777778,
              "#fb9f3a"
             ],
             [
              0.8888888888888888,
              "#fdca26"
             ],
             [
              1,
              "#f0f921"
             ]
            ],
            "type": "histogram2dcontour"
           }
          ],
          "mesh3d": [
           {
            "colorbar": {
             "outlinewidth": 0,
             "ticks": ""
            },
            "type": "mesh3d"
           }
          ],
          "parcoords": [
           {
            "line": {
             "colorbar": {
              "outlinewidth": 0,
              "ticks": ""
             }
            },
            "type": "parcoords"
           }
          ],
          "pie": [
           {
            "automargin": true,
            "type": "pie"
           }
          ],
          "scatter": [
           {
            "fillpattern": {
             "fillmode": "overlay",
             "size": 10,
             "solidity": 0.2
            },
            "type": "scatter"
           }
          ],
          "scatter3d": [
           {
            "line": {
             "colorbar": {
              "outlinewidth": 0,
              "ticks": ""
             }
            },
            "marker": {
             "colorbar": {
              "outlinewidth": 0,
              "ticks": ""
             }
            },
            "type": "scatter3d"
           }
          ],
          "scattercarpet": [
           {
            "marker": {
             "colorbar": {
              "outlinewidth": 0,
              "ticks": ""
             }
            },
            "type": "scattercarpet"
           }
          ],
          "scattergeo": [
           {
            "marker": {
             "colorbar": {
              "outlinewidth": 0,
              "ticks": ""
             }
            },
            "type": "scattergeo"
           }
          ],
          "scattergl": [
           {
            "marker": {
             "colorbar": {
              "outlinewidth": 0,
              "ticks": ""
             }
            },
            "type": "scattergl"
           }
          ],
          "scattermapbox": [
           {
            "marker": {
             "colorbar": {
              "outlinewidth": 0,
              "ticks": ""
             }
            },
            "type": "scattermapbox"
           }
          ],
          "scatterpolar": [
           {
            "marker": {
             "colorbar": {
              "outlinewidth": 0,
              "ticks": ""
             }
            },
            "type": "scatterpolar"
           }
          ],
          "scatterpolargl": [
           {
            "marker": {
             "colorbar": {
              "outlinewidth": 0,
              "ticks": ""
             }
            },
            "type": "scatterpolargl"
           }
          ],
          "scatterternary": [
           {
            "marker": {
             "colorbar": {
              "outlinewidth": 0,
              "ticks": ""
             }
            },
            "type": "scatterternary"
           }
          ],
          "surface": [
           {
            "colorbar": {
             "outlinewidth": 0,
             "ticks": ""
            },
            "colorscale": [
             [
              0,
              "#0d0887"
             ],
             [
              0.1111111111111111,
              "#46039f"
             ],
             [
              0.2222222222222222,
              "#7201a8"
             ],
             [
              0.3333333333333333,
              "#9c179e"
             ],
             [
              0.4444444444444444,
              "#bd3786"
             ],
             [
              0.5555555555555556,
              "#d8576b"
             ],
             [
              0.6666666666666666,
              "#ed7953"
             ],
             [
              0.7777777777777778,
              "#fb9f3a"
             ],
             [
              0.8888888888888888,
              "#fdca26"
             ],
             [
              1,
              "#f0f921"
             ]
            ],
            "type": "surface"
           }
          ],
          "table": [
           {
            "cells": {
             "fill": {
              "color": "#EBF0F8"
             },
             "line": {
              "color": "white"
             }
            },
            "header": {
             "fill": {
              "color": "#C8D4E3"
             },
             "line": {
              "color": "white"
             }
            },
            "type": "table"
           }
          ]
         },
         "layout": {
          "annotationdefaults": {
           "arrowcolor": "#2a3f5f",
           "arrowhead": 0,
           "arrowwidth": 1
          },
          "autotypenumbers": "strict",
          "coloraxis": {
           "colorbar": {
            "outlinewidth": 0,
            "ticks": ""
           }
          },
          "colorscale": {
           "diverging": [
            [
             0,
             "#8e0152"
            ],
            [
             0.1,
             "#c51b7d"
            ],
            [
             0.2,
             "#de77ae"
            ],
            [
             0.3,
             "#f1b6da"
            ],
            [
             0.4,
             "#fde0ef"
            ],
            [
             0.5,
             "#f7f7f7"
            ],
            [
             0.6,
             "#e6f5d0"
            ],
            [
             0.7,
             "#b8e186"
            ],
            [
             0.8,
             "#7fbc41"
            ],
            [
             0.9,
             "#4d9221"
            ],
            [
             1,
             "#276419"
            ]
           ],
           "sequential": [
            [
             0,
             "#0d0887"
            ],
            [
             0.1111111111111111,
             "#46039f"
            ],
            [
             0.2222222222222222,
             "#7201a8"
            ],
            [
             0.3333333333333333,
             "#9c179e"
            ],
            [
             0.4444444444444444,
             "#bd3786"
            ],
            [
             0.5555555555555556,
             "#d8576b"
            ],
            [
             0.6666666666666666,
             "#ed7953"
            ],
            [
             0.7777777777777778,
             "#fb9f3a"
            ],
            [
             0.8888888888888888,
             "#fdca26"
            ],
            [
             1,
             "#f0f921"
            ]
           ],
           "sequentialminus": [
            [
             0,
             "#0d0887"
            ],
            [
             0.1111111111111111,
             "#46039f"
            ],
            [
             0.2222222222222222,
             "#7201a8"
            ],
            [
             0.3333333333333333,
             "#9c179e"
            ],
            [
             0.4444444444444444,
             "#bd3786"
            ],
            [
             0.5555555555555556,
             "#d8576b"
            ],
            [
             0.6666666666666666,
             "#ed7953"
            ],
            [
             0.7777777777777778,
             "#fb9f3a"
            ],
            [
             0.8888888888888888,
             "#fdca26"
            ],
            [
             1,
             "#f0f921"
            ]
           ]
          },
          "colorway": [
           "#636efa",
           "#EF553B",
           "#00cc96",
           "#ab63fa",
           "#FFA15A",
           "#19d3f3",
           "#FF6692",
           "#B6E880",
           "#FF97FF",
           "#FECB52"
          ],
          "font": {
           "color": "#2a3f5f"
          },
          "geo": {
           "bgcolor": "white",
           "lakecolor": "white",
           "landcolor": "#E5ECF6",
           "showlakes": true,
           "showland": true,
           "subunitcolor": "white"
          },
          "hoverlabel": {
           "align": "left"
          },
          "hovermode": "closest",
          "mapbox": {
           "style": "light"
          },
          "paper_bgcolor": "white",
          "plot_bgcolor": "#E5ECF6",
          "polar": {
           "angularaxis": {
            "gridcolor": "white",
            "linecolor": "white",
            "ticks": ""
           },
           "bgcolor": "#E5ECF6",
           "radialaxis": {
            "gridcolor": "white",
            "linecolor": "white",
            "ticks": ""
           }
          },
          "scene": {
           "xaxis": {
            "backgroundcolor": "#E5ECF6",
            "gridcolor": "white",
            "gridwidth": 2,
            "linecolor": "white",
            "showbackground": true,
            "ticks": "",
            "zerolinecolor": "white"
           },
           "yaxis": {
            "backgroundcolor": "#E5ECF6",
            "gridcolor": "white",
            "gridwidth": 2,
            "linecolor": "white",
            "showbackground": true,
            "ticks": "",
            "zerolinecolor": "white"
           },
           "zaxis": {
            "backgroundcolor": "#E5ECF6",
            "gridcolor": "white",
            "gridwidth": 2,
            "linecolor": "white",
            "showbackground": true,
            "ticks": "",
            "zerolinecolor": "white"
           }
          },
          "shapedefaults": {
           "line": {
            "color": "#2a3f5f"
           }
          },
          "ternary": {
           "aaxis": {
            "gridcolor": "white",
            "linecolor": "white",
            "ticks": ""
           },
           "baxis": {
            "gridcolor": "white",
            "linecolor": "white",
            "ticks": ""
           },
           "bgcolor": "#E5ECF6",
           "caxis": {
            "gridcolor": "white",
            "linecolor": "white",
            "ticks": ""
           }
          },
          "title": {
           "x": 0.05
          },
          "xaxis": {
           "automargin": true,
           "gridcolor": "white",
           "linecolor": "white",
           "ticks": "",
           "title": {
            "standoff": 15
           },
           "zerolinecolor": "white",
           "zerolinewidth": 2
          },
          "yaxis": {
           "automargin": true,
           "gridcolor": "white",
           "linecolor": "white",
           "ticks": "",
           "title": {
            "standoff": 15
           },
           "zerolinecolor": "white",
           "zerolinewidth": 2
          }
         }
        },
        "title": {
         "text": "Distribution of Scores by Model and Type of Hypothesis"
        },
        "xaxis": {
         "anchor": "y",
         "domain": [
          0,
          1
         ],
         "title": {
          "text": "th"
         }
        },
        "yaxis": {
         "anchor": "x",
         "domain": [
          0,
          1
         ],
         "title": {
          "text": "rank"
         }
        }
       }
      }
     },
     "metadata": {},
     "output_type": "display_data"
    }
   ],
   "source": [
    "color_palette = px.colors.qualitative.Safe\n",
    "fig = px.box(comparison_h.groupby([\"th\", \"giv\", \"i_shuffled\", \"m\"]).agg({\"rank\": \"mean\"}).reset_index(), x='th', y='rank', color='m', points='all',\n",
    "             #labels={'Score': 'Scores', 'Model': 'Models', 'Type of Hypothesis': 'Type of Hypothesis'}\n",
    "             color_discrete_sequence=color_palette\n",
    "             )\n",
    "fig.update_layout(title='Distribution of Scores by Model and Type of Hypothesis')\n",
    "fig.write_image(\"../visualisations/user_studies_ai_human_h_ranks_mean.pdf\", format='pdf')\n",
    "fig.show()"
   ]
  },
  {
   "cell_type": "code",
   "execution_count": 93,
   "metadata": {},
   "outputs": [
    {
     "data": {
      "application/vnd.plotly.v1+json": {
       "config": {
        "plotlyServerURL": "https://plot.ly"
       },
       "data": [
        {
         "alignmentgroup": "True",
         "boxpoints": "all",
         "hovertemplate": "m=human<br>th=%{x}<br>rank=%{y}<extra></extra>",
         "legendgroup": "human",
         "marker": {
          "color": "rgb(136, 204, 238)"
         },
         "name": "human",
         "notched": false,
         "offsetgroup": "human",
         "orientation": "v",
         "showlegend": true,
         "type": "box",
         "x": [
          "regular",
          "regular",
          "regular",
          "regular",
          "regular",
          "regular",
          "regular",
          "regular",
          "regular",
          "regular",
          "regular",
          "regular",
          "regular",
          "regular",
          "regular",
          "regular",
          "regular",
          "regular",
          "regular",
          "regular",
          "regular",
          "regular",
          "regular",
          "regular",
          "regular",
          "regular",
          "regular",
          "regular",
          "regular",
          "regular",
          "study_mod",
          "study_mod",
          "study_mod",
          "study_mod",
          "study_mod",
          "study_mod",
          "study_mod",
          "study_mod",
          "study_mod",
          "study_mod",
          "study_mod",
          "study_mod",
          "study_mod",
          "study_mod",
          "study_mod",
          "study_mod",
          "study_mod",
          "study_mod",
          "study_mod",
          "study_mod",
          "study_mod",
          "study_mod",
          "study_mod",
          "study_mod",
          "study_mod",
          "study_mod",
          "study_mod",
          "study_mod",
          "study_mod",
          "study_mod",
          "var_mod",
          "var_mod",
          "var_mod",
          "var_mod",
          "var_mod",
          "var_mod",
          "var_mod",
          "var_mod",
          "var_mod",
          "var_mod",
          "var_mod",
          "var_mod",
          "var_mod",
          "var_mod",
          "var_mod",
          "var_mod",
          "var_mod",
          "var_mod",
          "var_mod",
          "var_mod",
          "var_mod",
          "var_mod",
          "var_mod",
          "var_mod",
          "var_mod",
          "var_mod",
          "var_mod",
          "var_mod",
          "var_mod",
          "var_mod"
         ],
         "x0": " ",
         "xaxis": "x",
         "y": [
          7,
          8,
          3,
          2,
          7,
          8,
          8,
          1,
          2,
          11,
          5,
          5,
          5,
          3,
          1,
          9,
          5,
          1,
          8,
          4,
          2,
          3,
          3,
          3,
          5,
          1,
          4,
          1,
          2,
          5,
          8,
          1,
          1,
          2,
          4,
          2,
          6,
          3,
          3,
          4,
          2,
          4,
          1,
          6,
          5,
          8,
          1,
          1,
          1,
          2,
          2,
          2,
          7,
          3,
          5,
          4,
          4,
          7,
          8,
          5,
          7,
          4,
          1,
          6,
          1,
          2,
          2,
          2,
          3,
          11,
          5,
          4,
          1,
          6,
          5,
          11,
          1,
          1,
          10,
          2,
          2,
          2,
          3,
          3,
          6,
          5,
          4,
          4,
          7,
          8
         ],
         "y0": " ",
         "yaxis": "y"
        },
        {
         "alignmentgroup": "True",
         "boxpoints": "all",
         "hovertemplate": "m=classification<br>th=%{x}<br>rank=%{y}<extra></extra>",
         "legendgroup": "classification",
         "marker": {
          "color": "rgb(204, 102, 119)"
         },
         "name": "classification",
         "notched": false,
         "offsetgroup": "classification",
         "orientation": "v",
         "showlegend": true,
         "type": "box",
         "x": [
          "regular",
          "regular",
          "regular",
          "regular",
          "regular",
          "regular",
          "regular",
          "regular",
          "regular",
          "regular",
          "regular",
          "regular",
          "study_mod",
          "study_mod",
          "study_mod",
          "study_mod",
          "study_mod",
          "study_mod",
          "study_mod",
          "study_mod",
          "study_mod",
          "study_mod",
          "study_mod",
          "study_mod",
          "var_mod",
          "var_mod",
          "var_mod",
          "var_mod",
          "var_mod",
          "var_mod",
          "var_mod",
          "var_mod",
          "var_mod",
          "var_mod",
          "var_mod",
          "var_mod"
         ],
         "x0": " ",
         "xaxis": "x",
         "y": [
          6,
          10,
          6,
          3,
          2,
          9,
          6,
          8,
          8,
          2,
          6,
          7,
          9,
          9,
          7,
          7,
          8,
          6,
          9,
          9,
          9,
          11,
          11,
          11,
          3,
          9,
          9,
          4,
          10,
          10,
          9,
          10,
          5,
          5,
          9,
          6
         ],
         "y0": " ",
         "yaxis": "y"
        },
        {
         "alignmentgroup": "True",
         "boxpoints": "all",
         "hovertemplate": "m=llm_zero_shot_prompting<br>th=%{x}<br>rank=%{y}<extra></extra>",
         "legendgroup": "llm_zero_shot_prompting",
         "marker": {
          "color": "rgb(221, 204, 119)"
         },
         "name": "llm_zero_shot_prompting",
         "notched": false,
         "offsetgroup": "llm_zero_shot_prompting",
         "orientation": "v",
         "showlegend": true,
         "type": "box",
         "x": [
          "regular",
          "regular",
          "regular",
          "regular",
          "regular",
          "regular",
          "regular",
          "regular",
          "regular",
          "regular",
          "regular",
          "regular",
          "study_mod",
          "study_mod",
          "study_mod",
          "study_mod",
          "study_mod",
          "study_mod",
          "study_mod",
          "study_mod",
          "study_mod",
          "study_mod",
          "study_mod",
          "study_mod",
          "var_mod",
          "var_mod",
          "var_mod",
          "var_mod",
          "var_mod",
          "var_mod",
          "var_mod",
          "var_mod",
          "var_mod",
          "var_mod",
          "var_mod",
          "var_mod"
         ],
         "x0": " ",
         "xaxis": "x",
         "y": [
          9,
          11,
          7,
          10,
          6,
          4,
          7,
          9,
          10,
          10,
          10,
          11,
          10,
          7,
          8,
          3,
          5,
          9,
          3,
          5,
          6,
          4,
          6,
          7,
          9,
          8,
          7,
          5,
          11,
          11,
          1,
          8,
          10,
          7,
          11,
          11
         ],
         "y0": " ",
         "yaxis": "y"
        },
        {
         "alignmentgroup": "True",
         "boxpoints": "all",
         "hovertemplate": "m=anyburl<br>th=%{x}<br>rank=%{y}<extra></extra>",
         "legendgroup": "anyburl",
         "marker": {
          "color": "rgb(17, 119, 51)"
         },
         "name": "anyburl",
         "notched": false,
         "offsetgroup": "anyburl",
         "orientation": "v",
         "showlegend": true,
         "type": "box",
         "x": [
          "regular",
          "regular",
          "regular",
          "regular",
          "regular",
          "regular",
          "regular",
          "regular",
          "regular",
          "regular",
          "regular",
          "regular",
          "study_mod",
          "study_mod",
          "study_mod",
          "study_mod",
          "study_mod",
          "study_mod",
          "study_mod",
          "study_mod",
          "study_mod",
          "study_mod",
          "study_mod",
          "study_mod",
          "var_mod",
          "var_mod",
          "var_mod",
          "var_mod",
          "var_mod",
          "var_mod",
          "var_mod",
          "var_mod",
          "var_mod",
          "var_mod",
          "var_mod",
          "var_mod"
         ],
         "x0": " ",
         "xaxis": "x",
         "y": [
          1,
          9,
          10,
          4,
          4,
          11,
          11,
          11,
          9,
          4,
          7,
          6,
          11,
          10,
          10,
          5,
          11,
          11,
          6,
          3,
          8,
          10,
          10,
          10,
          8,
          3,
          6,
          10,
          7,
          8,
          3,
          4,
          9,
          8,
          6,
          7
         ],
         "y0": " ",
         "yaxis": "y"
        }
       ],
       "layout": {
        "boxmode": "group",
        "legend": {
         "title": {
          "text": "m"
         },
         "tracegroupgap": 0
        },
        "margin": {
         "t": 60
        },
        "template": {
         "data": {
          "bar": [
           {
            "error_x": {
             "color": "#2a3f5f"
            },
            "error_y": {
             "color": "#2a3f5f"
            },
            "marker": {
             "line": {
              "color": "#E5ECF6",
              "width": 0.5
             },
             "pattern": {
              "fillmode": "overlay",
              "size": 10,
              "solidity": 0.2
             }
            },
            "type": "bar"
           }
          ],
          "barpolar": [
           {
            "marker": {
             "line": {
              "color": "#E5ECF6",
              "width": 0.5
             },
             "pattern": {
              "fillmode": "overlay",
              "size": 10,
              "solidity": 0.2
             }
            },
            "type": "barpolar"
           }
          ],
          "carpet": [
           {
            "aaxis": {
             "endlinecolor": "#2a3f5f",
             "gridcolor": "white",
             "linecolor": "white",
             "minorgridcolor": "white",
             "startlinecolor": "#2a3f5f"
            },
            "baxis": {
             "endlinecolor": "#2a3f5f",
             "gridcolor": "white",
             "linecolor": "white",
             "minorgridcolor": "white",
             "startlinecolor": "#2a3f5f"
            },
            "type": "carpet"
           }
          ],
          "choropleth": [
           {
            "colorbar": {
             "outlinewidth": 0,
             "ticks": ""
            },
            "type": "choropleth"
           }
          ],
          "contour": [
           {
            "colorbar": {
             "outlinewidth": 0,
             "ticks": ""
            },
            "colorscale": [
             [
              0,
              "#0d0887"
             ],
             [
              0.1111111111111111,
              "#46039f"
             ],
             [
              0.2222222222222222,
              "#7201a8"
             ],
             [
              0.3333333333333333,
              "#9c179e"
             ],
             [
              0.4444444444444444,
              "#bd3786"
             ],
             [
              0.5555555555555556,
              "#d8576b"
             ],
             [
              0.6666666666666666,
              "#ed7953"
             ],
             [
              0.7777777777777778,
              "#fb9f3a"
             ],
             [
              0.8888888888888888,
              "#fdca26"
             ],
             [
              1,
              "#f0f921"
             ]
            ],
            "type": "contour"
           }
          ],
          "contourcarpet": [
           {
            "colorbar": {
             "outlinewidth": 0,
             "ticks": ""
            },
            "type": "contourcarpet"
           }
          ],
          "heatmap": [
           {
            "colorbar": {
             "outlinewidth": 0,
             "ticks": ""
            },
            "colorscale": [
             [
              0,
              "#0d0887"
             ],
             [
              0.1111111111111111,
              "#46039f"
             ],
             [
              0.2222222222222222,
              "#7201a8"
             ],
             [
              0.3333333333333333,
              "#9c179e"
             ],
             [
              0.4444444444444444,
              "#bd3786"
             ],
             [
              0.5555555555555556,
              "#d8576b"
             ],
             [
              0.6666666666666666,
              "#ed7953"
             ],
             [
              0.7777777777777778,
              "#fb9f3a"
             ],
             [
              0.8888888888888888,
              "#fdca26"
             ],
             [
              1,
              "#f0f921"
             ]
            ],
            "type": "heatmap"
           }
          ],
          "heatmapgl": [
           {
            "colorbar": {
             "outlinewidth": 0,
             "ticks": ""
            },
            "colorscale": [
             [
              0,
              "#0d0887"
             ],
             [
              0.1111111111111111,
              "#46039f"
             ],
             [
              0.2222222222222222,
              "#7201a8"
             ],
             [
              0.3333333333333333,
              "#9c179e"
             ],
             [
              0.4444444444444444,
              "#bd3786"
             ],
             [
              0.5555555555555556,
              "#d8576b"
             ],
             [
              0.6666666666666666,
              "#ed7953"
             ],
             [
              0.7777777777777778,
              "#fb9f3a"
             ],
             [
              0.8888888888888888,
              "#fdca26"
             ],
             [
              1,
              "#f0f921"
             ]
            ],
            "type": "heatmapgl"
           }
          ],
          "histogram": [
           {
            "marker": {
             "pattern": {
              "fillmode": "overlay",
              "size": 10,
              "solidity": 0.2
             }
            },
            "type": "histogram"
           }
          ],
          "histogram2d": [
           {
            "colorbar": {
             "outlinewidth": 0,
             "ticks": ""
            },
            "colorscale": [
             [
              0,
              "#0d0887"
             ],
             [
              0.1111111111111111,
              "#46039f"
             ],
             [
              0.2222222222222222,
              "#7201a8"
             ],
             [
              0.3333333333333333,
              "#9c179e"
             ],
             [
              0.4444444444444444,
              "#bd3786"
             ],
             [
              0.5555555555555556,
              "#d8576b"
             ],
             [
              0.6666666666666666,
              "#ed7953"
             ],
             [
              0.7777777777777778,
              "#fb9f3a"
             ],
             [
              0.8888888888888888,
              "#fdca26"
             ],
             [
              1,
              "#f0f921"
             ]
            ],
            "type": "histogram2d"
           }
          ],
          "histogram2dcontour": [
           {
            "colorbar": {
             "outlinewidth": 0,
             "ticks": ""
            },
            "colorscale": [
             [
              0,
              "#0d0887"
             ],
             [
              0.1111111111111111,
              "#46039f"
             ],
             [
              0.2222222222222222,
              "#7201a8"
             ],
             [
              0.3333333333333333,
              "#9c179e"
             ],
             [
              0.4444444444444444,
              "#bd3786"
             ],
             [
              0.5555555555555556,
              "#d8576b"
             ],
             [
              0.6666666666666666,
              "#ed7953"
             ],
             [
              0.7777777777777778,
              "#fb9f3a"
             ],
             [
              0.8888888888888888,
              "#fdca26"
             ],
             [
              1,
              "#f0f921"
             ]
            ],
            "type": "histogram2dcontour"
           }
          ],
          "mesh3d": [
           {
            "colorbar": {
             "outlinewidth": 0,
             "ticks": ""
            },
            "type": "mesh3d"
           }
          ],
          "parcoords": [
           {
            "line": {
             "colorbar": {
              "outlinewidth": 0,
              "ticks": ""
             }
            },
            "type": "parcoords"
           }
          ],
          "pie": [
           {
            "automargin": true,
            "type": "pie"
           }
          ],
          "scatter": [
           {
            "fillpattern": {
             "fillmode": "overlay",
             "size": 10,
             "solidity": 0.2
            },
            "type": "scatter"
           }
          ],
          "scatter3d": [
           {
            "line": {
             "colorbar": {
              "outlinewidth": 0,
              "ticks": ""
             }
            },
            "marker": {
             "colorbar": {
              "outlinewidth": 0,
              "ticks": ""
             }
            },
            "type": "scatter3d"
           }
          ],
          "scattercarpet": [
           {
            "marker": {
             "colorbar": {
              "outlinewidth": 0,
              "ticks": ""
             }
            },
            "type": "scattercarpet"
           }
          ],
          "scattergeo": [
           {
            "marker": {
             "colorbar": {
              "outlinewidth": 0,
              "ticks": ""
             }
            },
            "type": "scattergeo"
           }
          ],
          "scattergl": [
           {
            "marker": {
             "colorbar": {
              "outlinewidth": 0,
              "ticks": ""
             }
            },
            "type": "scattergl"
           }
          ],
          "scattermapbox": [
           {
            "marker": {
             "colorbar": {
              "outlinewidth": 0,
              "ticks": ""
             }
            },
            "type": "scattermapbox"
           }
          ],
          "scatterpolar": [
           {
            "marker": {
             "colorbar": {
              "outlinewidth": 0,
              "ticks": ""
             }
            },
            "type": "scatterpolar"
           }
          ],
          "scatterpolargl": [
           {
            "marker": {
             "colorbar": {
              "outlinewidth": 0,
              "ticks": ""
             }
            },
            "type": "scatterpolargl"
           }
          ],
          "scatterternary": [
           {
            "marker": {
             "colorbar": {
              "outlinewidth": 0,
              "ticks": ""
             }
            },
            "type": "scatterternary"
           }
          ],
          "surface": [
           {
            "colorbar": {
             "outlinewidth": 0,
             "ticks": ""
            },
            "colorscale": [
             [
              0,
              "#0d0887"
             ],
             [
              0.1111111111111111,
              "#46039f"
             ],
             [
              0.2222222222222222,
              "#7201a8"
             ],
             [
              0.3333333333333333,
              "#9c179e"
             ],
             [
              0.4444444444444444,
              "#bd3786"
             ],
             [
              0.5555555555555556,
              "#d8576b"
             ],
             [
              0.6666666666666666,
              "#ed7953"
             ],
             [
              0.7777777777777778,
              "#fb9f3a"
             ],
             [
              0.8888888888888888,
              "#fdca26"
             ],
             [
              1,
              "#f0f921"
             ]
            ],
            "type": "surface"
           }
          ],
          "table": [
           {
            "cells": {
             "fill": {
              "color": "#EBF0F8"
             },
             "line": {
              "color": "white"
             }
            },
            "header": {
             "fill": {
              "color": "#C8D4E3"
             },
             "line": {
              "color": "white"
             }
            },
            "type": "table"
           }
          ]
         },
         "layout": {
          "annotationdefaults": {
           "arrowcolor": "#2a3f5f",
           "arrowhead": 0,
           "arrowwidth": 1
          },
          "autotypenumbers": "strict",
          "coloraxis": {
           "colorbar": {
            "outlinewidth": 0,
            "ticks": ""
           }
          },
          "colorscale": {
           "diverging": [
            [
             0,
             "#8e0152"
            ],
            [
             0.1,
             "#c51b7d"
            ],
            [
             0.2,
             "#de77ae"
            ],
            [
             0.3,
             "#f1b6da"
            ],
            [
             0.4,
             "#fde0ef"
            ],
            [
             0.5,
             "#f7f7f7"
            ],
            [
             0.6,
             "#e6f5d0"
            ],
            [
             0.7,
             "#b8e186"
            ],
            [
             0.8,
             "#7fbc41"
            ],
            [
             0.9,
             "#4d9221"
            ],
            [
             1,
             "#276419"
            ]
           ],
           "sequential": [
            [
             0,
             "#0d0887"
            ],
            [
             0.1111111111111111,
             "#46039f"
            ],
            [
             0.2222222222222222,
             "#7201a8"
            ],
            [
             0.3333333333333333,
             "#9c179e"
            ],
            [
             0.4444444444444444,
             "#bd3786"
            ],
            [
             0.5555555555555556,
             "#d8576b"
            ],
            [
             0.6666666666666666,
             "#ed7953"
            ],
            [
             0.7777777777777778,
             "#fb9f3a"
            ],
            [
             0.8888888888888888,
             "#fdca26"
            ],
            [
             1,
             "#f0f921"
            ]
           ],
           "sequentialminus": [
            [
             0,
             "#0d0887"
            ],
            [
             0.1111111111111111,
             "#46039f"
            ],
            [
             0.2222222222222222,
             "#7201a8"
            ],
            [
             0.3333333333333333,
             "#9c179e"
            ],
            [
             0.4444444444444444,
             "#bd3786"
            ],
            [
             0.5555555555555556,
             "#d8576b"
            ],
            [
             0.6666666666666666,
             "#ed7953"
            ],
            [
             0.7777777777777778,
             "#fb9f3a"
            ],
            [
             0.8888888888888888,
             "#fdca26"
            ],
            [
             1,
             "#f0f921"
            ]
           ]
          },
          "colorway": [
           "#636efa",
           "#EF553B",
           "#00cc96",
           "#ab63fa",
           "#FFA15A",
           "#19d3f3",
           "#FF6692",
           "#B6E880",
           "#FF97FF",
           "#FECB52"
          ],
          "font": {
           "color": "#2a3f5f"
          },
          "geo": {
           "bgcolor": "white",
           "lakecolor": "white",
           "landcolor": "#E5ECF6",
           "showlakes": true,
           "showland": true,
           "subunitcolor": "white"
          },
          "hoverlabel": {
           "align": "left"
          },
          "hovermode": "closest",
          "mapbox": {
           "style": "light"
          },
          "paper_bgcolor": "white",
          "plot_bgcolor": "#E5ECF6",
          "polar": {
           "angularaxis": {
            "gridcolor": "white",
            "linecolor": "white",
            "ticks": ""
           },
           "bgcolor": "#E5ECF6",
           "radialaxis": {
            "gridcolor": "white",
            "linecolor": "white",
            "ticks": ""
           }
          },
          "scene": {
           "xaxis": {
            "backgroundcolor": "#E5ECF6",
            "gridcolor": "white",
            "gridwidth": 2,
            "linecolor": "white",
            "showbackground": true,
            "ticks": "",
            "zerolinecolor": "white"
           },
           "yaxis": {
            "backgroundcolor": "#E5ECF6",
            "gridcolor": "white",
            "gridwidth": 2,
            "linecolor": "white",
            "showbackground": true,
            "ticks": "",
            "zerolinecolor": "white"
           },
           "zaxis": {
            "backgroundcolor": "#E5ECF6",
            "gridcolor": "white",
            "gridwidth": 2,
            "linecolor": "white",
            "showbackground": true,
            "ticks": "",
            "zerolinecolor": "white"
           }
          },
          "shapedefaults": {
           "line": {
            "color": "#2a3f5f"
           }
          },
          "ternary": {
           "aaxis": {
            "gridcolor": "white",
            "linecolor": "white",
            "ticks": ""
           },
           "baxis": {
            "gridcolor": "white",
            "linecolor": "white",
            "ticks": ""
           },
           "bgcolor": "#E5ECF6",
           "caxis": {
            "gridcolor": "white",
            "linecolor": "white",
            "ticks": ""
           }
          },
          "title": {
           "x": 0.05
          },
          "xaxis": {
           "automargin": true,
           "gridcolor": "white",
           "linecolor": "white",
           "ticks": "",
           "title": {
            "standoff": 15
           },
           "zerolinecolor": "white",
           "zerolinewidth": 2
          },
          "yaxis": {
           "automargin": true,
           "gridcolor": "white",
           "linecolor": "white",
           "ticks": "",
           "title": {
            "standoff": 15
           },
           "zerolinecolor": "white",
           "zerolinewidth": 2
          }
         }
        },
        "title": {
         "text": "Distribution of Scores by Model and Type of Hypothesis"
        },
        "xaxis": {
         "anchor": "y",
         "domain": [
          0,
          1
         ],
         "title": {
          "text": "th"
         }
        },
        "yaxis": {
         "anchor": "x",
         "domain": [
          0,
          1
         ],
         "title": {
          "text": "rank"
         }
        }
       }
      }
     },
     "metadata": {},
     "output_type": "display_data"
    }
   ],
   "source": [
    "color_palette = px.colors.qualitative.Safe\n",
    "fig = px.box(comparison_h, x='th', y='rank', color='m', points='all',\n",
    "             #labels={'Score': 'Scores', 'Model': 'Models', 'Type of Hypothesis': 'Type of Hypothesis'}\n",
    "             color_discrete_sequence=color_palette\n",
    "             )\n",
    "fig.update_layout(title='Distribution of Scores by Model and Type of Hypothesis')\n",
    "fig.write_image(\"../visualisations/user_studies_ai_human_h_ranks.pdf\", format='pdf')\n",
    "fig.show()"
   ]
  },
  {
   "cell_type": "code",
   "execution_count": 94,
   "metadata": {},
   "outputs": [
    {
     "data": {
      "text/html": [
       "<div>\n",
       "<style scoped>\n",
       "    .dataframe tbody tr th:only-of-type {\n",
       "        vertical-align: middle;\n",
       "    }\n",
       "\n",
       "    .dataframe tbody tr th {\n",
       "        vertical-align: top;\n",
       "    }\n",
       "\n",
       "    .dataframe thead th {\n",
       "        text-align: right;\n",
       "    }\n",
       "</style>\n",
       "<table border=\"1\" class=\"dataframe\">\n",
       "  <thead>\n",
       "    <tr style=\"text-align: right;\">\n",
       "      <th></th>\n",
       "      <th>rank_regular</th>\n",
       "      <th>rank_study_mod</th>\n",
       "      <th>rank_var_mod</th>\n",
       "      <th>score_regular</th>\n",
       "      <th>score_study_mod</th>\n",
       "      <th>score_var_mod</th>\n",
       "    </tr>\n",
       "    <tr>\n",
       "      <th>m</th>\n",
       "      <th></th>\n",
       "      <th></th>\n",
       "      <th></th>\n",
       "      <th></th>\n",
       "      <th></th>\n",
       "      <th></th>\n",
       "    </tr>\n",
       "  </thead>\n",
       "  <tbody>\n",
       "    <tr>\n",
       "      <th>anyburl</th>\n",
       "      <td>7.25</td>\n",
       "      <td>8.75</td>\n",
       "      <td>6.583333</td>\n",
       "      <td>2.583333</td>\n",
       "      <td>1.583333</td>\n",
       "      <td>3.0</td>\n",
       "    </tr>\n",
       "    <tr>\n",
       "      <th>classification</th>\n",
       "      <td>6.083333</td>\n",
       "      <td>8.833333</td>\n",
       "      <td>7.416667</td>\n",
       "      <td>3.083333</td>\n",
       "      <td>1.25</td>\n",
       "      <td>3.0</td>\n",
       "    </tr>\n",
       "    <tr>\n",
       "      <th>human</th>\n",
       "      <td>4.4</td>\n",
       "      <td>3.733333</td>\n",
       "      <td>4.3</td>\n",
       "      <td>3.533333</td>\n",
       "      <td>3.666667</td>\n",
       "      <td>3.9</td>\n",
       "    </tr>\n",
       "    <tr>\n",
       "      <th>llm_zero_shot_prompting</th>\n",
       "      <td>8.666667</td>\n",
       "      <td>6.083333</td>\n",
       "      <td>8.25</td>\n",
       "      <td>2.083333</td>\n",
       "      <td>2.916667</td>\n",
       "      <td>2.416667</td>\n",
       "    </tr>\n",
       "  </tbody>\n",
       "</table>\n",
       "</div>"
      ],
      "text/plain": [
       "                        rank_regular rank_study_mod rank_var_mod  \\\n",
       "m                                                                  \n",
       "anyburl                         7.25           8.75     6.583333   \n",
       "classification              6.083333       8.833333     7.416667   \n",
       "human                            4.4       3.733333          4.3   \n",
       "llm_zero_shot_prompting     8.666667       6.083333         8.25   \n",
       "\n",
       "                        score_regular score_study_mod score_var_mod  \n",
       "m                                                                    \n",
       "anyburl                      2.583333        1.583333           3.0  \n",
       "classification               3.083333            1.25           3.0  \n",
       "human                        3.533333        3.666667           3.9  \n",
       "llm_zero_shot_prompting      2.083333        2.916667      2.416667  "
      ]
     },
     "execution_count": 94,
     "metadata": {},
     "output_type": "execute_result"
    }
   ],
   "source": [
    "columns = ['th', 'giv', 'm', 'user_id', 'i_shuffled']\n",
    "data_table = pd.merge(comparison_h[columns + ['rank']], df_score_h_ai_human[columns + ['score']], on=columns, how='left').groupby([\"m\", \"th\"]).agg({\"score\": \"mean\", \"rank\": \"mean\"}).reset_index().pivot_table(index=\"m\", columns=\"th\")\n",
    "data_table.columns = [\"_\".join(x) for x in data_table.columns]\n",
    "data_table"
   ]
  },
  {
   "cell_type": "code",
   "execution_count": 95,
   "metadata": {},
   "outputs": [
    {
     "name": "stdout",
     "output_type": "stream",
     "text": [
      "human & 3.5 & 4.4 & 3.7 & 3.7 & 3.9 & 4.3\\\\ \n",
      "classification & 3.1 & 6.1 & 1.2 & 8.8 & 3.0 & 7.4\\\\ \n",
      "anyburl & 2.6 & 7.2 & 1.6 & 8.8 & 3.0 & 6.6\\\\ \n",
      "llm & 2.1 & 8.7 & 2.9 & 6.1 & 2.4 & 8.2\\\\ \n",
      "\n"
     ]
    }
   ],
   "source": [
    "def get_data_overleaf(df):\n",
    "    res = []\n",
    "    for model in [\"human\", \"classification\", \"anyburl\", \"llm_zero_shot_prompting\"]:\n",
    "        curr_res = [model.split(\"_\")[0]]\n",
    "        curr_df = df[df.index==model]\n",
    "        for th in [\"regular\", \"study_mod\", \"var_mod\"]:\n",
    "            for metric in [\"score\", \"rank\"]:\n",
    "                curr_res.append(str(round(curr_df[f\"{metric}_{th}\"].values[0], 1)))\n",
    "        res.append(\" & \".join(curr_res))\n",
    "    return \"\\\\\\\\ \\n\".join(res) + \"\\\\\\\\ \\n\"\n",
    "\n",
    "print(get_data_overleaf(data_table))"
   ]
  },
  {
   "cell_type": "code",
   "execution_count": null,
   "metadata": {},
   "outputs": [],
   "source": []
  }
 ],
 "metadata": {
  "kernelspec": {
   "display_name": "coda_narratives",
   "language": "python",
   "name": "python3"
  },
  "language_info": {
   "codemirror_mode": {
    "name": "ipython",
    "version": 3
   },
   "file_extension": ".py",
   "mimetype": "text/x-python",
   "name": "python",
   "nbconvert_exporter": "python",
   "pygments_lexer": "ipython3",
   "version": "3.10.8"
  }
 },
 "nbformat": 4,
 "nbformat_minor": 2
}
