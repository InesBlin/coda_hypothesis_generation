{
 "cells": [
  {
   "cell_type": "markdown",
   "metadata": {},
   "source": [
    "# Analysing results of user studies"
   ]
  },
  {
   "cell_type": "markdown",
   "metadata": {},
   "source": [
    "## All responses"
   ]
  },
  {
   "cell_type": "code",
   "execution_count": 21,
   "metadata": {},
   "outputs": [],
   "source": [
    "import re\n",
    "import pandas as pd\n",
    "import plotly.express as px\n",
    "from agreement.utils.kernels import linear_kernel, quadratic_kernel\n",
    "from agreement.utils.transform import pivot_table_frequency\n",
    "from agreement.metrics import cohens_kappa, krippendorffs_alpha\n",
    "\n",
    "H_ORDER = [\n",
    "    \"regular_ReputationVariable\", \"regular_PersonalityVariable\",\n",
    "    \"study_mod_GenderVariable\", \"study_mod_IncentivesVariable\",\n",
    "    \"var_mod_LeadershipVariable\", \"var_mod_IdentificationVariable\"]\n",
    "TEMPLATES_REGEX = {\n",
    "    \"regular\": [\n",
    "        r\"cooperation is significantly (.+) when (.+) is (.+) compared to when (.+) is (.+)\\.\",\n",
    "        r\"cooperation is significantly (.+) when (.+) is (.+) compared to when (.+) is (.+)\"\n",
    "    ],\n",
    "    \"study_mod\": [\n",
    "        r\"when comparing studies where (.+) is (.+) and studies where (.+) is (.+), cooperation is significantly (.+) when (.+) is (.+) compared to when (.+) has another value.\",\n",
    "        r\"when comparing studies where (.+) is (.+) and studies where (.+) is (.+), cooperation is significantly (.+) when (.+) is (.+) compared to when (.+) is .+\",\n",
    "        r\"when comparing studies where (.+) is (.+) and studies where (.+) is (.+), cooperation is significantly (.+) when (.+) was (.+) compared to when (.+) was .+\",\n",
    "        r\"when comparing studies where (.+) is (.+) and studies where (.+) is (.+), cooperation is significantly (.+) when (.+) was (.+) than when (.+) was .+\",\n",
    "        r\"when comparing studies where (.+) is (.+) and where (.+) is (.+), cooperation is significantly (.+) when (.+) is (.+) compared to when (.+) has another value.\",\n",
    "        r\"when comparing studies where (.+) is (.+) and studies where (.+) is (.+), .+ is (.+) when (.+) is (.+) compared to when (.+) is .+\"\n",
    "    ],\n",
    "    \"var_mod\": [\n",
    "        r\"when comparing studies where (.+) is (.+) and studies where (.+) is (.+), cooperation from studies involving (.+) as (.+) is significantly (.+) than cooperation from studies involving (.+) as (.+).\",\n",
    "        r\"when comparing studies where (.+) is (.+) and studies where (.+) is (.+), cooperation from (.+) as (.+) is significantly (.+) than cooperation from studies involving (.+) as (.+).\",\n",
    "        r\"when comparing studies where (.+) is (.+) and studies where (.+) is (.+), cooperation from studies involving (.+) as (.+) is (.+) than studies involving (.+) as (.+).\",\n",
    "        r\"when comparing studies where (.+) is (.+) and studies where (.+) is (.+), .+ is (.+) when (.+) is (.+) compared to when (.+) is (.+)\"\n",
    "    ]\n",
    "}\n",
    "TEMPLATES_VAR = {\n",
    "    \"regular\": [\"comparative\", \"siv\", \"sivv1\", \"siv\", \"sivv2\"],\n",
    "    \"study_mod\": [\"siv\", \"sivv1\", \"siv\", \"sivv2\", \"comparative\", \"mod\", \"mod_val\", \"mod\"],\n",
    "    \"var_mod\": [\"siv\", \"sivv1\", \"siv\", \"sivv2\", \"mod1\", \"mod\", \"comparative\", \"mod2\", \"mod\"],\n",
    "}\n",
    "COLS_VAR = [\"comparative\", \"siv\", \"sivv1\", \"sivv2\", \"mod\", \"mod_val\", \"mod1\", \"mod2\"]\n",
    "COLS_ALL_H = [\"A\", \"B\", \"C\", \"D\", \"E\"] + [f\"H{i}\" for i in range(6)]"
   ]
  },
  {
   "cell_type": "code",
   "execution_count": 22,
   "metadata": {},
   "outputs": [],
   "source": [
    "SAFE_COLORS = px.colors.qualitative.Safe\n",
    "COLOR_PALETTE = {\n",
    "    'human': SAFE_COLORS[0],            # blue\n",
    "    'classification': SAFE_COLORS[1],   # red\n",
    "    'llm_zero_shot_prompting': SAFE_COLORS[2], # yellow\n",
    "    'anyburl': SAFE_COLORS[3],           # green,\n",
    "    'regular': SAFE_COLORS[0],\n",
    "    'study_mod': SAFE_COLORS[1], \n",
    "    'var_mod': SAFE_COLORS[2]\n",
    "}"
   ]
  },
  {
   "cell_type": "code",
   "execution_count": 23,
   "metadata": {},
   "outputs": [
    {
     "data": {
      "text/html": [
       "<div>\n",
       "<style scoped>\n",
       "    .dataframe tbody tr th:only-of-type {\n",
       "        vertical-align: middle;\n",
       "    }\n",
       "\n",
       "    .dataframe tbody tr th {\n",
       "        vertical-align: top;\n",
       "    }\n",
       "\n",
       "    .dataframe thead th {\n",
       "        text-align: right;\n",
       "    }\n",
       "</style>\n",
       "<table border=\"1\" class=\"dataframe\">\n",
       "  <thead>\n",
       "    <tr style=\"text-align: right;\">\n",
       "      <th></th>\n",
       "      <th>Please formulate the top 5 hypotheses that are the most relevant or interesting to investigate. Use the \"Templated Hypothesis\" as a reference. Each hypothesis should come with a score from 1 to 5, with 1 being the lowest and 5 the best. You should use only some of the concepts that are provided in the tab and that you think are the most relevant.\\n\\nYour answer should be similar to:\\n```output\\nA- First hypothesis (score)\\nB- Second hypothesis (score)\\nC- Third hypothesis (score)\\nD- Fourth hypothesis (score)\\nE- Fifth hypothesis (score)\\n```</th>\n",
       "      <th>Please rank the following 6 hypotheses on a scale of 1 to 5, in terms of relevance or interestingness to investigate. 1 is the worst score and 5 the best. [H1: Cooperation is significantly higher when anonymity manipulation is low compared to when anonymity manipulation is medium.]</th>\n",
       "      <th>Please rank the following 6 hypotheses on a scale of 1 to 5, in terms of relevance or interestingness to investigate. 1 is the worst score and 5 the best. [H2: Cooperation  is significantly higher when Knowledge of partner's prior behavior is cooperative compared to when Knowledge of partner's prior behavior is absent.]</th>\n",
       "      <th>Please rank the following 6 hypotheses on a scale of 1 to 5, in terms of relevance or interestingness to investigate. 1 is the worst score and 5 the best. [H3: Cooperation is significantly lower when knowledge of partner's prior behavior is absent compared to when knowledge of partner's prior behavior is present.]</th>\n",
       "      <th>Please rank the following 6 hypotheses on a scale of 1 to 5, in terms of relevance or interestingness to investigate. 1 is the worst score and 5 the best. [H4: Cooperation is significantly lower when partner selection is present compared to when partner selection is absent.]</th>\n",
       "      <th>Please rank the following 6 hypotheses on a scale of 1 to 5, in terms of relevance or interestingness to investigate. 1 is the worst score and 5 the best. [H5: Cooperation  is significantly higher when Knowledge of partner's prior behavior is cooperative compared to when Knowledge of partner's prior behavior is noncooperative.]</th>\n",
       "      <th>Please rank the following 6 hypotheses on a scale of 1 to 5, in terms of relevance or interestingness to investigate. 1 is the worst score and 5 the best. [H6: Cooperation is significantly lower when anonymity manipulation is low compared to when anonymity manipulation is medium.]</th>\n",
       "      <th>Please rank all the hypotheses, from the best one (rank = 1) to the worst one (rank = 11). The hypotheses contain the 5 hypotheses you generated, and the 6 generated by AI methods. [A]</th>\n",
       "      <th>Please rank all the hypotheses, from the best one (rank = 1) to the worst one (rank = 11). The hypotheses contain the 5 hypotheses you generated, and the 6 generated by AI methods. [B]</th>\n",
       "      <th>Please rank all the hypotheses, from the best one (rank = 1) to the worst one (rank = 11). The hypotheses contain the 5 hypotheses you generated, and the 6 generated by AI methods. [C]</th>\n",
       "      <th>...</th>\n",
       "      <th>Please rank all the hypotheses, from the best one (rank = 1) to the worst one (rank = 11). The hypotheses contain the 5 hypotheses you generated, and the 6 generated by AI methods. [C].5</th>\n",
       "      <th>Please rank all the hypotheses, from the best one (rank = 1) to the worst one (rank = 11). The hypotheses contain the 5 hypotheses you generated, and the 6 generated by AI methods. [D].5</th>\n",
       "      <th>Please rank all the hypotheses, from the best one (rank = 1) to the worst one (rank = 11). The hypotheses contain the 5 hypotheses you generated, and the 6 generated by AI methods. [E].5</th>\n",
       "      <th>Please rank all the hypotheses, from the best one (rank = 1) to the worst one (rank = 11). The hypotheses contain the 5 hypotheses you generated, and the 6 generated by AI methods. [H1].5</th>\n",
       "      <th>Please rank all the hypotheses, from the best one (rank = 1) to the worst one (rank = 11). The hypotheses contain the 5 hypotheses you generated, and the 6 generated by AI methods. [H2].5</th>\n",
       "      <th>Please rank all the hypotheses, from the best one (rank = 1) to the worst one (rank = 11). The hypotheses contain the 5 hypotheses you generated, and the 6 generated by AI methods. [H3].5</th>\n",
       "      <th>Please rank all the hypotheses, from the best one (rank = 1) to the worst one (rank = 11). The hypotheses contain the 5 hypotheses you generated, and the 6 generated by AI methods. [H4].5</th>\n",
       "      <th>Please rank all the hypotheses, from the best one (rank = 1) to the worst one (rank = 11). The hypotheses contain the 5 hypotheses you generated, and the 6 generated by AI methods. [H5].5</th>\n",
       "      <th>Please rank all the hypotheses, from the best one (rank = 1) to the worst one (rank = 11). The hypotheses contain the 5 hypotheses you generated, and the 6 generated by AI methods. [H6].5</th>\n",
       "      <th>user_id</th>\n",
       "    </tr>\n",
       "  </thead>\n",
       "  <tbody>\n",
       "    <tr>\n",
       "      <th>0</th>\n",
       "      <td>A- Cooperation is significantly higer when Ano...</td>\n",
       "      <td>3</td>\n",
       "      <td>2</td>\n",
       "      <td>4</td>\n",
       "      <td>5</td>\n",
       "      <td>1</td>\n",
       "      <td>4</td>\n",
       "      <td>7</td>\n",
       "      <td>2</td>\n",
       "      <td>8</td>\n",
       "      <td>...</td>\n",
       "      <td>2</td>\n",
       "      <td>6</td>\n",
       "      <td>4</td>\n",
       "      <td>3</td>\n",
       "      <td>1</td>\n",
       "      <td>9</td>\n",
       "      <td>5</td>\n",
       "      <td>7</td>\n",
       "      <td>8</td>\n",
       "      <td>0</td>\n",
       "    </tr>\n",
       "    <tr>\n",
       "      <th>1</th>\n",
       "      <td>A- Cooperation is significantly higher when go...</td>\n",
       "      <td>2</td>\n",
       "      <td>1</td>\n",
       "      <td>4</td>\n",
       "      <td>2</td>\n",
       "      <td>3</td>\n",
       "      <td>4</td>\n",
       "      <td>8</td>\n",
       "      <td>7</td>\n",
       "      <td>1</td>\n",
       "      <td>...</td>\n",
       "      <td>3</td>\n",
       "      <td>5</td>\n",
       "      <td>7</td>\n",
       "      <td>4</td>\n",
       "      <td>8</td>\n",
       "      <td>10</td>\n",
       "      <td>9</td>\n",
       "      <td>11</td>\n",
       "      <td>6</td>\n",
       "      <td>1</td>\n",
       "    </tr>\n",
       "    <tr>\n",
       "      <th>2</th>\n",
       "      <td>A-\\tCooperation is significantly higher when A...</td>\n",
       "      <td>3</td>\n",
       "      <td>4</td>\n",
       "      <td>1</td>\n",
       "      <td>1</td>\n",
       "      <td>4</td>\n",
       "      <td>1</td>\n",
       "      <td>3</td>\n",
       "      <td>8</td>\n",
       "      <td>2</td>\n",
       "      <td>...</td>\n",
       "      <td>3</td>\n",
       "      <td>4</td>\n",
       "      <td>8</td>\n",
       "      <td>9</td>\n",
       "      <td>10</td>\n",
       "      <td>5</td>\n",
       "      <td>6</td>\n",
       "      <td>11</td>\n",
       "      <td>7</td>\n",
       "      <td>2</td>\n",
       "    </tr>\n",
       "  </tbody>\n",
       "</table>\n",
       "<p>3 rows × 109 columns</p>\n",
       "</div>"
      ],
      "text/plain": [
       "  Please formulate the top 5 hypotheses that are the most relevant or interesting to investigate. Use the \"Templated Hypothesis\" as a reference. Each hypothesis should come with a score from 1 to 5, with 1 being the lowest and 5 the best. You should use only some of the concepts that are provided in the tab and that you think are the most relevant.\\n\\nYour answer should be similar to:\\n```output\\nA- First hypothesis (score)\\nB- Second hypothesis (score)\\nC- Third hypothesis (score)\\nD- Fourth hypothesis (score)\\nE- Fifth hypothesis (score)\\n```  \\\n",
       "0  A- Cooperation is significantly higer when Ano...                                                                                                                                                                                                                                                                                                                                                                                                                                                                                                                     \n",
       "1  A- Cooperation is significantly higher when go...                                                                                                                                                                                                                                                                                                                                                                                                                                                                                                                     \n",
       "2  A-\\tCooperation is significantly higher when A...                                                                                                                                                                                                                                                                                                                                                                                                                                                                                                                     \n",
       "\n",
       "   Please rank the following 6 hypotheses on a scale of 1 to 5, in terms of relevance or interestingness to investigate. 1 is the worst score and 5 the best. [H1: Cooperation is significantly higher when anonymity manipulation is low compared to when anonymity manipulation is medium.]  \\\n",
       "0                                                  3                                                                                                                                                                                                                                            \n",
       "1                                                  2                                                                                                                                                                                                                                            \n",
       "2                                                  3                                                                                                                                                                                                                                            \n",
       "\n",
       "   Please rank the following 6 hypotheses on a scale of 1 to 5, in terms of relevance or interestingness to investigate. 1 is the worst score and 5 the best. [H2: Cooperation  is significantly higher when Knowledge of partner's prior behavior is cooperative compared to when Knowledge of partner's prior behavior is absent.]  \\\n",
       "0                                                  2                                                                                                                                                                                                                                                                                   \n",
       "1                                                  1                                                                                                                                                                                                                                                                                   \n",
       "2                                                  4                                                                                                                                                                                                                                                                                   \n",
       "\n",
       "   Please rank the following 6 hypotheses on a scale of 1 to 5, in terms of relevance or interestingness to investigate. 1 is the worst score and 5 the best. [H3: Cooperation is significantly lower when knowledge of partner's prior behavior is absent compared to when knowledge of partner's prior behavior is present.]  \\\n",
       "0                                                  4                                                                                                                                                                                                                                                                             \n",
       "1                                                  4                                                                                                                                                                                                                                                                             \n",
       "2                                                  1                                                                                                                                                                                                                                                                             \n",
       "\n",
       "   Please rank the following 6 hypotheses on a scale of 1 to 5, in terms of relevance or interestingness to investigate. 1 is the worst score and 5 the best. [H4: Cooperation is significantly lower when partner selection is present compared to when partner selection is absent.]  \\\n",
       "0                                                  5                                                                                                                                                                                                                                     \n",
       "1                                                  2                                                                                                                                                                                                                                     \n",
       "2                                                  1                                                                                                                                                                                                                                     \n",
       "\n",
       "   Please rank the following 6 hypotheses on a scale of 1 to 5, in terms of relevance or interestingness to investigate. 1 is the worst score and 5 the best. [H5: Cooperation  is significantly higher when Knowledge of partner's prior behavior is cooperative compared to when Knowledge of partner's prior behavior is noncooperative.]  \\\n",
       "0                                                  1                                                                                                                                                                                                                                                                                           \n",
       "1                                                  3                                                                                                                                                                                                                                                                                           \n",
       "2                                                  4                                                                                                                                                                                                                                                                                           \n",
       "\n",
       "   Please rank the following 6 hypotheses on a scale of 1 to 5, in terms of relevance or interestingness to investigate. 1 is the worst score and 5 the best. [H6: Cooperation is significantly lower when anonymity manipulation is low compared to when anonymity manipulation is medium.]  \\\n",
       "0                                                  4                                                                                                                                                                                                                                           \n",
       "1                                                  4                                                                                                                                                                                                                                           \n",
       "2                                                  1                                                                                                                                                                                                                                           \n",
       "\n",
       "   Please rank all the hypotheses, from the best one (rank = 1) to the worst one (rank = 11). The hypotheses contain the 5 hypotheses you generated, and the 6 generated by AI methods. [A]  \\\n",
       "0                                                  7                                                                                                                                          \n",
       "1                                                  8                                                                                                                                          \n",
       "2                                                  3                                                                                                                                          \n",
       "\n",
       "   Please rank all the hypotheses, from the best one (rank = 1) to the worst one (rank = 11). The hypotheses contain the 5 hypotheses you generated, and the 6 generated by AI methods. [B]  \\\n",
       "0                                                  2                                                                                                                                          \n",
       "1                                                  7                                                                                                                                          \n",
       "2                                                  8                                                                                                                                          \n",
       "\n",
       "   Please rank all the hypotheses, from the best one (rank = 1) to the worst one (rank = 11). The hypotheses contain the 5 hypotheses you generated, and the 6 generated by AI methods. [C]  \\\n",
       "0                                                  8                                                                                                                                          \n",
       "1                                                  1                                                                                                                                          \n",
       "2                                                  2                                                                                                                                          \n",
       "\n",
       "   ...  \\\n",
       "0  ...   \n",
       "1  ...   \n",
       "2  ...   \n",
       "\n",
       "   Please rank all the hypotheses, from the best one (rank = 1) to the worst one (rank = 11). The hypotheses contain the 5 hypotheses you generated, and the 6 generated by AI methods. [C].5  \\\n",
       "0                                                  2                                                                                                                                            \n",
       "1                                                  3                                                                                                                                            \n",
       "2                                                  3                                                                                                                                            \n",
       "\n",
       "   Please rank all the hypotheses, from the best one (rank = 1) to the worst one (rank = 11). The hypotheses contain the 5 hypotheses you generated, and the 6 generated by AI methods. [D].5  \\\n",
       "0                                                  6                                                                                                                                            \n",
       "1                                                  5                                                                                                                                            \n",
       "2                                                  4                                                                                                                                            \n",
       "\n",
       "   Please rank all the hypotheses, from the best one (rank = 1) to the worst one (rank = 11). The hypotheses contain the 5 hypotheses you generated, and the 6 generated by AI methods. [E].5  \\\n",
       "0                                                  4                                                                                                                                            \n",
       "1                                                  7                                                                                                                                            \n",
       "2                                                  8                                                                                                                                            \n",
       "\n",
       "   Please rank all the hypotheses, from the best one (rank = 1) to the worst one (rank = 11). The hypotheses contain the 5 hypotheses you generated, and the 6 generated by AI methods. [H1].5  \\\n",
       "0                                                  3                                                                                                                                             \n",
       "1                                                  4                                                                                                                                             \n",
       "2                                                  9                                                                                                                                             \n",
       "\n",
       "   Please rank all the hypotheses, from the best one (rank = 1) to the worst one (rank = 11). The hypotheses contain the 5 hypotheses you generated, and the 6 generated by AI methods. [H2].5  \\\n",
       "0                                                  1                                                                                                                                             \n",
       "1                                                  8                                                                                                                                             \n",
       "2                                                 10                                                                                                                                             \n",
       "\n",
       "   Please rank all the hypotheses, from the best one (rank = 1) to the worst one (rank = 11). The hypotheses contain the 5 hypotheses you generated, and the 6 generated by AI methods. [H3].5  \\\n",
       "0                                                  9                                                                                                                                             \n",
       "1                                                 10                                                                                                                                             \n",
       "2                                                  5                                                                                                                                             \n",
       "\n",
       "   Please rank all the hypotheses, from the best one (rank = 1) to the worst one (rank = 11). The hypotheses contain the 5 hypotheses you generated, and the 6 generated by AI methods. [H4].5  \\\n",
       "0                                                  5                                                                                                                                             \n",
       "1                                                  9                                                                                                                                             \n",
       "2                                                  6                                                                                                                                             \n",
       "\n",
       "   Please rank all the hypotheses, from the best one (rank = 1) to the worst one (rank = 11). The hypotheses contain the 5 hypotheses you generated, and the 6 generated by AI methods. [H5].5  \\\n",
       "0                                                  7                                                                                                                                             \n",
       "1                                                 11                                                                                                                                             \n",
       "2                                                 11                                                                                                                                             \n",
       "\n",
       "  Please rank all the hypotheses, from the best one (rank = 1) to the worst one (rank = 11). The hypotheses contain the 5 hypotheses you generated, and the 6 generated by AI methods. [H6].5  \\\n",
       "0                                                  8                                                                                                                                            \n",
       "1                                                  6                                                                                                                                            \n",
       "2                                                  7                                                                                                                                            \n",
       "\n",
       "   user_id  \n",
       "0        0  \n",
       "1        1  \n",
       "2        2  \n",
       "\n",
       "[3 rows x 109 columns]"
      ]
     },
     "execution_count": 23,
     "metadata": {},
     "output_type": "execute_result"
    }
   ],
   "source": [
    "all_results = pd.read_csv(\"../../user_study_responses.csv\")\n",
    "all_results = all_results[[x for x in all_results.columns[1:-8]]]\n",
    "all_results[\"user_id\"] = all_results.index\n",
    "all_results.head(3)"
   ]
  },
  {
   "cell_type": "markdown",
   "metadata": {},
   "source": [
    "## Human-generated hypotheses"
   ]
  },
  {
   "cell_type": "markdown",
   "metadata": {},
   "source": [
    "### Generic"
   ]
  },
  {
   "cell_type": "code",
   "execution_count": 24,
   "metadata": {},
   "outputs": [
    {
     "data": {
      "text/html": [
       "<div>\n",
       "<style scoped>\n",
       "    .dataframe tbody tr th:only-of-type {\n",
       "        vertical-align: middle;\n",
       "    }\n",
       "\n",
       "    .dataframe tbody tr th {\n",
       "        vertical-align: top;\n",
       "    }\n",
       "\n",
       "    .dataframe thead th {\n",
       "        text-align: right;\n",
       "    }\n",
       "</style>\n",
       "<table border=\"1\" class=\"dataframe\">\n",
       "  <thead>\n",
       "    <tr style=\"text-align: right;\">\n",
       "      <th></th>\n",
       "      <th>hypothesis</th>\n",
       "      <th>user_id</th>\n",
       "      <th>th</th>\n",
       "      <th>m</th>\n",
       "      <th>giv</th>\n",
       "      <th>i_shuffled</th>\n",
       "      <th>comparative</th>\n",
       "      <th>siv</th>\n",
       "      <th>sivv1</th>\n",
       "      <th>sivv2</th>\n",
       "      <th>mod</th>\n",
       "      <th>mod_val</th>\n",
       "      <th>mod1</th>\n",
       "      <th>mod2</th>\n",
       "      <th>score</th>\n",
       "    </tr>\n",
       "  </thead>\n",
       "  <tbody>\n",
       "    <tr>\n",
       "      <th>86</th>\n",
       "      <td>when comparing studies where game incentive is...</td>\n",
       "      <td>2</td>\n",
       "      <td>study_mod</td>\n",
       "      <td>human</td>\n",
       "      <td>IncentivesVariable</td>\n",
       "      <td>B</td>\n",
       "      <td>higher</td>\n",
       "      <td>game incentive</td>\n",
       "      <td>monetary</td>\n",
       "      <td>hypothetical</td>\n",
       "      <td>one-shot vs repeated</td>\n",
       "      <td>repeated</td>\n",
       "      <td>None</td>\n",
       "      <td>None</td>\n",
       "      <td>5.0</td>\n",
       "    </tr>\n",
       "    <tr>\n",
       "      <th>82</th>\n",
       "      <td>when comparing studies where lottery incentive...</td>\n",
       "      <td>1</td>\n",
       "      <td>study_mod</td>\n",
       "      <td>human</td>\n",
       "      <td>IncentivesVariable</td>\n",
       "      <td>C</td>\n",
       "      <td>lower</td>\n",
       "      <td>lottery incentive</td>\n",
       "      <td>true</td>\n",
       "      <td>false</td>\n",
       "      <td>acquaintance</td>\n",
       "      <td>strangers</td>\n",
       "      <td>None</td>\n",
       "      <td>None</td>\n",
       "      <td>3.0</td>\n",
       "    </tr>\n",
       "    <tr>\n",
       "      <th>57</th>\n",
       "      <td>when comparing studies where partner's gender ...</td>\n",
       "      <td>1</td>\n",
       "      <td>study_mod</td>\n",
       "      <td>human</td>\n",
       "      <td>GenderVariable</td>\n",
       "      <td>C</td>\n",
       "      <td>higher</td>\n",
       "      <td>partner's gender is known</td>\n",
       "      <td>true</td>\n",
       "      <td>false</td>\n",
       "      <td>matching</td>\n",
       "      <td>partner</td>\n",
       "      <td>None</td>\n",
       "      <td>None</td>\n",
       "      <td>3.0</td>\n",
       "    </tr>\n",
       "  </tbody>\n",
       "</table>\n",
       "</div>"
      ],
      "text/plain": [
       "                                           hypothesis user_id         th  \\\n",
       "86  when comparing studies where game incentive is...       2  study_mod   \n",
       "82  when comparing studies where lottery incentive...       1  study_mod   \n",
       "57  when comparing studies where partner's gender ...       1  study_mod   \n",
       "\n",
       "        m                 giv i_shuffled comparative  \\\n",
       "86  human  IncentivesVariable          B      higher   \n",
       "82  human  IncentivesVariable          C       lower   \n",
       "57  human      GenderVariable          C      higher   \n",
       "\n",
       "                          siv     sivv1         sivv2                   mod  \\\n",
       "86             game incentive  monetary  hypothetical  one-shot vs repeated   \n",
       "82          lottery incentive      true         false          acquaintance   \n",
       "57  partner's gender is known      true         false              matching   \n",
       "\n",
       "      mod_val  mod1  mod2  score  \n",
       "86   repeated  None  None    5.0  \n",
       "82  strangers  None  None    3.0  \n",
       "57    partner  None  None    3.0  "
      ]
     },
     "execution_count": 24,
     "metadata": {},
     "output_type": "execute_result"
    }
   ],
   "source": [
    "human_h_start_col = \"Please formulate the top 5 hypotheses that are the most relevant or interesting to investigate.\"\n",
    "human_h_orig = all_results[[x for x in all_results.columns if x.startswith(human_h_start_col)]]\n",
    "human_h_orig.columns = H_ORDER\n",
    "human_h = pd.DataFrame(columns=[\"hypothesis\", \"user_id\", \"th\", \"m\", \"giv\", \"i_shuffled\"] + COLS_VAR)\n",
    "\n",
    "def preprocess_h(text, pattern):\n",
    "    \"\"\" Pre-processing hypotheses (sometimes there is a difference across writings) \"\"\"\n",
    "    text = text.replace(\"\\\\t\", \" \")\n",
    "    text = re.sub(pattern, '', text) \\\n",
    "        .replace(\". .\", \".\").lower().replace(\"higer\", \"higher\") \\\n",
    "            .replace(\" .\", \".\").replace(\"’\", \"'\").strip()\n",
    "    to_replace = [\n",
    "        (\"knowledge of the partner's behavior\", \"knowledge of partner's prior behavior\"),\n",
    "        (\"participant's gender is known\", \"partner's gender is known\"),\n",
    "        ('game incentives', 'game incentive'),\n",
    "        (\"leader's behaviour\", \"leader's behavior\"),\n",
    "        ('non-cooperative', 'noncooperative'),\n",
    "        ('endogenous leadershi', 'endogenous leadership'),\n",
    "        ('entitativity leve', 'entitativity level'),\n",
    "        ('group typ', 'group type'),\n",
    "        ('identification leve', 'identification level'),\n",
    "        ('knowledge of group membershi', 'knowledge of group membership'),\n",
    "        ('leadership assignment rul', 'leadership assignment rule'),\n",
    "        (\"leader's assignment rul\", 'leadership assignment rule'),\n",
    "        (\"leader's characteristi\", \"leader's characteristic\"),\n",
    "        ('leadership rol', 'leadership role'),\n",
    "        ('in-group', 'ingroup'),\n",
    "        (\"academic\", \"academic discipline\"),\n",
    "        (\"academic discipline discipline\", \"academic discipline\")\n",
    "    ]\n",
    "    for old, new in to_replace:\n",
    "        text = text.replace(old, new)\n",
    "    return text\n",
    "\n",
    "def format_h(text):\n",
    "    for letter in [\"A\", \"B\", \"C\", \"D\", \"E\"]:\n",
    "        text = text.replace(f\"({letter})\", f\"{letter}-\")\n",
    "    return text\n",
    "\n",
    "def update_row(row, val):\n",
    "    \"\"\" Add info to df \"\"\"\n",
    "    th = \"_\".join(val.split(\"_\")[:-1])\n",
    "    row[\"th\"] = th\n",
    "    row[\"m\"] = \"human\"\n",
    "    row[\"giv\"] = val.split(\"_\")[-1]\n",
    "    row[\"i_shuffled\"] = str(row[\"hypothesis\"].split(\"-\")[0])\n",
    "    row[\"hypothesis\"] = \"-\".join(row[\"hypothesis\"].split(\"-\")[1:]).strip()\n",
    "    pattern = r'\\((\\d+)\\)'\n",
    "    score = re.search(pattern, row[\"hypothesis\"])\n",
    "    if score:\n",
    "        row[\"score\"] = int(score.group(1))\n",
    "    else:\n",
    "        row[\"score\"] = None\n",
    "    row[\"hypothesis\"] = preprocess_h(row[\"hypothesis\"], pattern)\n",
    "    \n",
    "    for regex in TEMPLATES_REGEX[th]:\n",
    "        matches = list(re.finditer(regex, row[\"hypothesis\"], re.MULTILINE))\n",
    "        if matches:\n",
    "            grouped = list(matches)[0].groups()\n",
    "            vals = {var: grouped[index] for index, var in enumerate(TEMPLATES_VAR[th])}\n",
    "            for col in COLS_VAR:\n",
    "                row[col] = vals.get(col, None)\n",
    "            break\n",
    "\n",
    "    return row\n",
    "\n",
    "for val in H_ORDER:\n",
    "    human_h_orig.loc[:, val] = human_h_orig[val].apply(lambda x: [format_h(y) for y in x.split(\"\\n\") if y])\n",
    "    curr_df = human_h_orig[[val]].explode(val).rename(columns={val: \"hypothesis\"})\n",
    "    curr_df[\"user_id\"] = curr_df.index\n",
    "    curr_df = curr_df.apply(lambda row: update_row(row, val), axis=1)\n",
    "    human_h = pd.concat([human_h, curr_df])\n",
    "\n",
    "human_h.reset_index(drop=True).sample(3)"
   ]
  },
  {
   "cell_type": "code",
   "execution_count": 25,
   "metadata": {},
   "outputs": [
    {
     "data": {
      "text/html": [
       "<div>\n",
       "<style scoped>\n",
       "    .dataframe tbody tr th:only-of-type {\n",
       "        vertical-align: middle;\n",
       "    }\n",
       "\n",
       "    .dataframe tbody tr th {\n",
       "        vertical-align: top;\n",
       "    }\n",
       "\n",
       "    .dataframe thead th {\n",
       "        text-align: right;\n",
       "    }\n",
       "</style>\n",
       "<table border=\"1\" class=\"dataframe\">\n",
       "  <thead>\n",
       "    <tr style=\"text-align: right;\">\n",
       "      <th></th>\n",
       "      <th>hypothesis</th>\n",
       "      <th>user_id</th>\n",
       "      <th>th</th>\n",
       "      <th>m</th>\n",
       "      <th>giv</th>\n",
       "      <th>i_shuffled</th>\n",
       "      <th>comparative</th>\n",
       "      <th>siv</th>\n",
       "      <th>sivv1</th>\n",
       "      <th>sivv2</th>\n",
       "      <th>mod</th>\n",
       "      <th>mod_val</th>\n",
       "      <th>mod1</th>\n",
       "      <th>mod2</th>\n",
       "      <th>score</th>\n",
       "    </tr>\n",
       "  </thead>\n",
       "  <tbody>\n",
       "  </tbody>\n",
       "</table>\n",
       "</div>"
      ],
      "text/plain": [
       "Empty DataFrame\n",
       "Columns: [hypothesis, user_id, th, m, giv, i_shuffled, comparative, siv, sivv1, sivv2, mod, mod_val, mod1, mod2, score]\n",
       "Index: []"
      ]
     },
     "execution_count": 25,
     "metadata": {},
     "output_type": "execute_result"
    }
   ],
   "source": [
    "human_h[human_h.comparative.isna()]"
   ]
  },
  {
   "cell_type": "code",
   "execution_count": 26,
   "metadata": {},
   "outputs": [
    {
     "data": {
      "text/html": [
       "<div>\n",
       "<style scoped>\n",
       "    .dataframe tbody tr th:only-of-type {\n",
       "        vertical-align: middle;\n",
       "    }\n",
       "\n",
       "    .dataframe tbody tr th {\n",
       "        vertical-align: top;\n",
       "    }\n",
       "\n",
       "    .dataframe thead th {\n",
       "        text-align: right;\n",
       "    }\n",
       "</style>\n",
       "<table border=\"1\" class=\"dataframe\">\n",
       "  <thead>\n",
       "    <tr style=\"text-align: right;\">\n",
       "      <th></th>\n",
       "      <th>hypothesis</th>\n",
       "      <th>user_id</th>\n",
       "      <th>th</th>\n",
       "      <th>m</th>\n",
       "      <th>giv</th>\n",
       "      <th>i_shuffled</th>\n",
       "      <th>comparative</th>\n",
       "      <th>siv</th>\n",
       "      <th>sivv1</th>\n",
       "      <th>sivv2</th>\n",
       "      <th>mod</th>\n",
       "      <th>mod_val</th>\n",
       "      <th>mod1</th>\n",
       "      <th>mod2</th>\n",
       "      <th>score</th>\n",
       "    </tr>\n",
       "  </thead>\n",
       "  <tbody>\n",
       "    <tr>\n",
       "      <th>4</th>\n",
       "      <td>when comparing studies where leadership is tru...</td>\n",
       "      <td>4</td>\n",
       "      <td>var_mod</td>\n",
       "      <td>human</td>\n",
       "      <td>LeadershipVariable</td>\n",
       "      <td>A</td>\n",
       "      <td>elected</td>\n",
       "      <td>leadership</td>\n",
       "      <td>true</td>\n",
       "      <td>false</td>\n",
       "      <td>random appointment</td>\n",
       "      <td>None</td>\n",
       "      <td>larger</td>\n",
       "      <td>leadership assignment rulee</td>\n",
       "      <td>5.0</td>\n",
       "    </tr>\n",
       "  </tbody>\n",
       "</table>\n",
       "</div>"
      ],
      "text/plain": [
       "                                          hypothesis user_id       th      m  \\\n",
       "4  when comparing studies where leadership is tru...       4  var_mod  human   \n",
       "\n",
       "                  giv i_shuffled comparative         siv sivv1  sivv2  \\\n",
       "4  LeadershipVariable          A     elected  leadership  true  false   \n",
       "\n",
       "                  mod mod_val    mod1                         mod2  score  \n",
       "4  random appointment    None  larger  leadership assignment rulee    5.0  "
      ]
     },
     "execution_count": 26,
     "metadata": {},
     "output_type": "execute_result"
    }
   ],
   "source": [
    "human_h[human_h.comparative==\"elected\"]"
   ]
  },
  {
   "cell_type": "code",
   "execution_count": 27,
   "metadata": {},
   "outputs": [
    {
     "data": {
      "text/plain": [
       "array(['when comparing studies where leadership is true and studies where leadership is false, the treatment effect [true - false] is larger when leadership assignment rulee is elected compared to when leadership assignment rulee is random appointment'],\n",
       "      dtype=object)"
      ]
     },
     "execution_count": 27,
     "metadata": {},
     "output_type": "execute_result"
    }
   ],
   "source": [
    "human_h[human_h.comparative==\"elected\"].hypothesis.values"
   ]
  },
  {
   "cell_type": "code",
   "execution_count": 28,
   "metadata": {},
   "outputs": [
    {
     "data": {
      "text/plain": [
       "array(['higher', 'lower', 'smaller', 'larger', 'elected', 'ingroup',\n",
       "       'cooperative', 'strong', 'rotating', 'common', 'high',\n",
       "       'natural group'], dtype=object)"
      ]
     },
     "execution_count": 28,
     "metadata": {},
     "output_type": "execute_result"
    }
   ],
   "source": [
    "human_h.comparative.unique()"
   ]
  },
  {
   "cell_type": "code",
   "execution_count": 29,
   "metadata": {},
   "outputs": [
    {
     "data": {
      "text/html": [
       "<div>\n",
       "<style scoped>\n",
       "    .dataframe tbody tr th:only-of-type {\n",
       "        vertical-align: middle;\n",
       "    }\n",
       "\n",
       "    .dataframe tbody tr th {\n",
       "        vertical-align: top;\n",
       "    }\n",
       "\n",
       "    .dataframe thead th {\n",
       "        text-align: right;\n",
       "    }\n",
       "</style>\n",
       "<table border=\"1\" class=\"dataframe\">\n",
       "  <thead>\n",
       "    <tr style=\"text-align: right;\">\n",
       "      <th></th>\n",
       "      <th>user_id</th>\n",
       "      <th>comparative</th>\n",
       "      <th>hypothesis</th>\n",
       "    </tr>\n",
       "  </thead>\n",
       "  <tbody>\n",
       "    <tr>\n",
       "      <th>0</th>\n",
       "      <td>0</td>\n",
       "      <td>higher</td>\n",
       "      <td>26</td>\n",
       "    </tr>\n",
       "    <tr>\n",
       "      <th>1</th>\n",
       "      <td>0</td>\n",
       "      <td>lower</td>\n",
       "      <td>4</td>\n",
       "    </tr>\n",
       "    <tr>\n",
       "      <th>2</th>\n",
       "      <td>1</td>\n",
       "      <td>higher</td>\n",
       "      <td>23</td>\n",
       "    </tr>\n",
       "    <tr>\n",
       "      <th>3</th>\n",
       "      <td>1</td>\n",
       "      <td>lower</td>\n",
       "      <td>7</td>\n",
       "    </tr>\n",
       "    <tr>\n",
       "      <th>4</th>\n",
       "      <td>2</td>\n",
       "      <td>higher</td>\n",
       "      <td>30</td>\n",
       "    </tr>\n",
       "    <tr>\n",
       "      <th>5</th>\n",
       "      <td>3</td>\n",
       "      <td>higher</td>\n",
       "      <td>27</td>\n",
       "    </tr>\n",
       "    <tr>\n",
       "      <th>6</th>\n",
       "      <td>3</td>\n",
       "      <td>lower</td>\n",
       "      <td>3</td>\n",
       "    </tr>\n",
       "    <tr>\n",
       "      <th>7</th>\n",
       "      <td>4</td>\n",
       "      <td>higher</td>\n",
       "      <td>19</td>\n",
       "    </tr>\n",
       "    <tr>\n",
       "      <th>8</th>\n",
       "      <td>4</td>\n",
       "      <td>larger</td>\n",
       "      <td>10</td>\n",
       "    </tr>\n",
       "    <tr>\n",
       "      <th>9</th>\n",
       "      <td>4</td>\n",
       "      <td>lower</td>\n",
       "      <td>1</td>\n",
       "    </tr>\n",
       "  </tbody>\n",
       "</table>\n",
       "</div>"
      ],
      "text/plain": [
       "   user_id comparative  hypothesis\n",
       "0        0      higher          26\n",
       "1        0       lower           4\n",
       "2        1      higher          23\n",
       "3        1       lower           7\n",
       "4        2      higher          30\n",
       "5        3      higher          27\n",
       "6        3       lower           3\n",
       "7        4      higher          19\n",
       "8        4      larger          10\n",
       "9        4       lower           1"
      ]
     },
     "execution_count": 29,
     "metadata": {},
     "output_type": "execute_result"
    }
   ],
   "source": [
    "mappings = {\"smaller\": \"lower\", \"larger\": \"higher\"}\n",
    "no_swap_cols = [col for col in human_h.columns if col not in [\"comparative\", \"mod\", \"mod1\", \"mod\", \"mod2\"] + list(mappings.keys())]\n",
    "human_h[\"comparative\"] = human_h[\"comparative\"].apply(lambda x: mappings.get(x, x))\n",
    "\n",
    "def swap_row(row):\n",
    "    if row[\"comparative\"] not in [\"higher\", \"lower\"]:\n",
    "        new_row = {x: row[x] for x in no_swap_cols}\n",
    "        new_row.update({\n",
    "            'comparative': row['mod1'],\n",
    "            'mod': row['mod'],\n",
    "            'mod1': row['comparative'],\n",
    "            'mod': row['mod2'],\n",
    "            'mod2': row['mod']})\n",
    "        return pd.Series(new_row)\n",
    "    return row\n",
    "\n",
    "human_h = human_h.apply(swap_row, axis=1)\n",
    "human_h.groupby([\"user_id\", \"comparative\"]).agg({\"hypothesis\": \"count\"}).reset_index()"
   ]
  },
  {
   "cell_type": "code",
   "execution_count": 30,
   "metadata": {},
   "outputs": [
    {
     "name": "stdout",
     "output_type": "stream",
     "text": [
      "\n",
      "On average, participants used the comparative ``higher'' 13.6 more times than ``lower'', resulting in 125  and 16 hypotheses with the comparative ``higher'' and ``lower'' respectively.\n",
      "\n"
     ]
    }
   ],
   "source": [
    "df_comparative = human_h.groupby([\"user_id\", \"comparative\"]).agg({\"hypothesis\": \"count\"}).reset_index().pivot_table(index='user_id', columns='comparative').fillna(1)\n",
    "df_comparative.columns = [x[1] for x in df_comparative.columns]\n",
    "df_comparative[\"div\"] = df_comparative[\"higher\"] / df_comparative[\"lower\"]\n",
    "df_comparative.reset_index(drop=True)\n",
    "\n",
    "des = f\"\"\"\n",
    "On average, participants used the comparative ``higher'' {round(df_comparative[\"div\"].mean(), 1)} more times than ``lower'', resulting in {int(df_comparative[\"higher\"].sum()):,}  and {int(df_comparative[\"lower\"].sum()):,} hypotheses with the comparative ``higher'' and ``lower'' respectively.\n",
    "\"\"\"\n",
    "print(des)"
   ]
  },
  {
   "cell_type": "code",
   "execution_count": 31,
   "metadata": {},
   "outputs": [
    {
     "data": {
      "text/html": [
       "<div>\n",
       "<style scoped>\n",
       "    .dataframe tbody tr th:only-of-type {\n",
       "        vertical-align: middle;\n",
       "    }\n",
       "\n",
       "    .dataframe tbody tr th {\n",
       "        vertical-align: top;\n",
       "    }\n",
       "\n",
       "    .dataframe thead th {\n",
       "        text-align: right;\n",
       "    }\n",
       "</style>\n",
       "<table border=\"1\" class=\"dataframe\">\n",
       "  <thead>\n",
       "    <tr style=\"text-align: right;\">\n",
       "      <th></th>\n",
       "      <th>comparative</th>\n",
       "      <th>giv</th>\n",
       "      <th>hypothesis</th>\n",
       "      <th>i_shuffled</th>\n",
       "      <th>m</th>\n",
       "      <th>mod</th>\n",
       "      <th>mod1</th>\n",
       "      <th>mod2</th>\n",
       "      <th>mod_val</th>\n",
       "      <th>score</th>\n",
       "      <th>siv</th>\n",
       "      <th>sivv1</th>\n",
       "      <th>sivv2</th>\n",
       "      <th>th</th>\n",
       "      <th>user_id</th>\n",
       "    </tr>\n",
       "  </thead>\n",
       "  <tbody>\n",
       "    <tr>\n",
       "      <th>2</th>\n",
       "      <td>higher</td>\n",
       "      <td>IncentivesVariable</td>\n",
       "      <td>when comparing studies where game incentive is...</td>\n",
       "      <td>B</td>\n",
       "      <td>human</td>\n",
       "      <td>one-shot vs repeated</td>\n",
       "      <td>None</td>\n",
       "      <td>None</td>\n",
       "      <td>repeated</td>\n",
       "      <td>5.0</td>\n",
       "      <td>game incentive</td>\n",
       "      <td>monetary</td>\n",
       "      <td>hypothetical</td>\n",
       "      <td>study_mod</td>\n",
       "      <td>2</td>\n",
       "    </tr>\n",
       "    <tr>\n",
       "      <th>1</th>\n",
       "      <td>higher</td>\n",
       "      <td>PersonalityVariable</td>\n",
       "      <td>cooperation is significantly higher when indiv...</td>\n",
       "      <td>E</td>\n",
       "      <td>human</td>\n",
       "      <td>None</td>\n",
       "      <td>None</td>\n",
       "      <td>None</td>\n",
       "      <td>None</td>\n",
       "      <td>4.0</td>\n",
       "      <td>individual difference</td>\n",
       "      <td>locus of control</td>\n",
       "      <td>aggression</td>\n",
       "      <td>regular</td>\n",
       "      <td>1</td>\n",
       "    </tr>\n",
       "    <tr>\n",
       "      <th>3</th>\n",
       "      <td>higher</td>\n",
       "      <td>LeadershipVariable</td>\n",
       "      <td>when comparing studies where leader's behavior...</td>\n",
       "      <td>3</td>\n",
       "      <td>human</td>\n",
       "      <td>leadership role</td>\n",
       "      <td>leader</td>\n",
       "      <td>follower</td>\n",
       "      <td>None</td>\n",
       "      <td>4.0</td>\n",
       "      <td>leader's behavior</td>\n",
       "      <td>cooperative</td>\n",
       "      <td>noncooperative</td>\n",
       "      <td>var_mod</td>\n",
       "      <td>3</td>\n",
       "    </tr>\n",
       "  </tbody>\n",
       "</table>\n",
       "</div>"
      ],
      "text/plain": [
       "  comparative                  giv  \\\n",
       "2      higher   IncentivesVariable   \n",
       "1      higher  PersonalityVariable   \n",
       "3      higher   LeadershipVariable   \n",
       "\n",
       "                                          hypothesis i_shuffled      m  \\\n",
       "2  when comparing studies where game incentive is...          B  human   \n",
       "1  cooperation is significantly higher when indiv...          E  human   \n",
       "3  when comparing studies where leader's behavior...          3  human   \n",
       "\n",
       "                    mod    mod1      mod2   mod_val  score  \\\n",
       "2  one-shot vs repeated    None      None  repeated    5.0   \n",
       "1                  None    None      None      None    4.0   \n",
       "3       leadership role  leader  follower      None    4.0   \n",
       "\n",
       "                     siv             sivv1           sivv2         th  user_id  \n",
       "2         game incentive          monetary    hypothetical  study_mod        2  \n",
       "1  individual difference  locus of control      aggression    regular        1  \n",
       "3      leader's behavior       cooperative  noncooperative    var_mod        3  "
      ]
     },
     "execution_count": 31,
     "metadata": {},
     "output_type": "execute_result"
    }
   ],
   "source": [
    "human_h.sample(3)"
   ]
  },
  {
   "cell_type": "code",
   "execution_count": 32,
   "metadata": {},
   "outputs": [
    {
     "name": "stdout",
     "output_type": "stream",
     "text": [
      "\n",
      "On average, participants rated their hypotheses with a score of 3.9.\n",
      "\n"
     ]
    }
   ],
   "source": [
    "print(f\"\"\"\n",
    "On average, participants rated their hypotheses with a score of {round(human_h.groupby(\"user_id\").agg({\"score\": \"mean\"}).score.mean(), 1)}.\n",
    "\"\"\")"
   ]
  },
  {
   "cell_type": "markdown",
   "metadata": {},
   "source": [
    "### Analysis of Hypothesis"
   ]
  },
  {
   "cell_type": "code",
   "execution_count": 33,
   "metadata": {},
   "outputs": [
    {
     "data": {
      "application/vnd.plotly.v1+json": {
       "config": {
        "plotlyServerURL": "https://plot.ly"
       },
       "data": [
        {
         "alignmentgroup": "True",
         "bingroup": "x",
         "histnorm": "",
         "hovertemplate": "th=regular<br>nb=%{x}<br>=%{y}<extra></extra>",
         "legendgroup": "regular",
         "marker": {
          "color": "rgb(136, 204, 238)",
          "opacity": 0.75,
          "pattern": {
           "shape": ""
          }
         },
         "name": "regular",
         "nbinsx": 5,
         "offsetgroup": "regular",
         "orientation": "v",
         "showlegend": true,
         "type": "histogram",
         "x": [
          3,
          1,
          1,
          1,
          1,
          5,
          1,
          1,
          1,
          1,
          1,
          1,
          1,
          1,
          5,
          3,
          5,
          1,
          1,
          2,
          1,
          1,
          1,
          4,
          2,
          1,
          1,
          1,
          1
         ],
         "xaxis": "x",
         "yaxis": "y"
        },
        {
         "alignmentgroup": "True",
         "bingroup": "x",
         "histnorm": "",
         "hovertemplate": "th=study_mod<br>nb=%{x}<br>=%{y}<extra></extra>",
         "legendgroup": "study_mod",
         "marker": {
          "color": "rgb(204, 102, 119)",
          "opacity": 0.75,
          "pattern": {
           "shape": ""
          }
         },
         "name": "study_mod",
         "nbinsx": 5,
         "offsetgroup": "study_mod",
         "orientation": "v",
         "showlegend": true,
         "type": "histogram",
         "x": [
          1,
          1,
          1,
          1,
          1,
          1,
          1,
          1,
          1,
          1,
          1,
          2,
          1,
          2,
          1,
          1,
          1,
          1,
          1,
          1,
          1,
          1,
          1,
          1,
          1,
          1,
          1,
          1,
          1,
          1,
          1,
          1,
          1,
          1,
          1,
          1,
          1,
          1,
          1,
          1,
          1,
          1,
          2,
          1,
          1,
          1,
          1
         ],
         "xaxis": "x",
         "yaxis": "y"
        },
        {
         "alignmentgroup": "True",
         "bingroup": "x",
         "histnorm": "",
         "hovertemplate": "th=var_mod<br>nb=%{x}<br>=%{y}<extra></extra>",
         "legendgroup": "var_mod",
         "marker": {
          "color": "rgb(221, 204, 119)",
          "opacity": 0.75,
          "pattern": {
           "shape": ""
          }
         },
         "name": "var_mod",
         "nbinsx": 5,
         "offsetgroup": "var_mod",
         "orientation": "v",
         "showlegend": true,
         "type": "histogram",
         "x": [
          1,
          1,
          1,
          1,
          1,
          1,
          1,
          1,
          1,
          1,
          1,
          1,
          1,
          1,
          1,
          1,
          2,
          1,
          2,
          1,
          1,
          1,
          1,
          1,
          1,
          1,
          1,
          1,
          1,
          1,
          1,
          1,
          1,
          1,
          1,
          1,
          1,
          1,
          1,
          1,
          1,
          1,
          1,
          1,
          1,
          1,
          1,
          1
         ],
         "xaxis": "x",
         "yaxis": "y"
        }
       ],
       "layout": {
        "barmode": "group",
        "legend": {
         "title": {
          "text": "th"
         },
         "tracegroupgap": 0
        },
        "margin": {
         "t": 60
        },
        "template": {
         "data": {
          "bar": [
           {
            "error_x": {
             "color": "#2a3f5f"
            },
            "error_y": {
             "color": "#2a3f5f"
            },
            "marker": {
             "line": {
              "color": "#E5ECF6",
              "width": 0.5
             },
             "pattern": {
              "fillmode": "overlay",
              "size": 10,
              "solidity": 0.2
             }
            },
            "type": "bar"
           }
          ],
          "barpolar": [
           {
            "marker": {
             "line": {
              "color": "#E5ECF6",
              "width": 0.5
             },
             "pattern": {
              "fillmode": "overlay",
              "size": 10,
              "solidity": 0.2
             }
            },
            "type": "barpolar"
           }
          ],
          "carpet": [
           {
            "aaxis": {
             "endlinecolor": "#2a3f5f",
             "gridcolor": "white",
             "linecolor": "white",
             "minorgridcolor": "white",
             "startlinecolor": "#2a3f5f"
            },
            "baxis": {
             "endlinecolor": "#2a3f5f",
             "gridcolor": "white",
             "linecolor": "white",
             "minorgridcolor": "white",
             "startlinecolor": "#2a3f5f"
            },
            "type": "carpet"
           }
          ],
          "choropleth": [
           {
            "colorbar": {
             "outlinewidth": 0,
             "ticks": ""
            },
            "type": "choropleth"
           }
          ],
          "contour": [
           {
            "colorbar": {
             "outlinewidth": 0,
             "ticks": ""
            },
            "colorscale": [
             [
              0,
              "#0d0887"
             ],
             [
              0.1111111111111111,
              "#46039f"
             ],
             [
              0.2222222222222222,
              "#7201a8"
             ],
             [
              0.3333333333333333,
              "#9c179e"
             ],
             [
              0.4444444444444444,
              "#bd3786"
             ],
             [
              0.5555555555555556,
              "#d8576b"
             ],
             [
              0.6666666666666666,
              "#ed7953"
             ],
             [
              0.7777777777777778,
              "#fb9f3a"
             ],
             [
              0.8888888888888888,
              "#fdca26"
             ],
             [
              1,
              "#f0f921"
             ]
            ],
            "type": "contour"
           }
          ],
          "contourcarpet": [
           {
            "colorbar": {
             "outlinewidth": 0,
             "ticks": ""
            },
            "type": "contourcarpet"
           }
          ],
          "heatmap": [
           {
            "colorbar": {
             "outlinewidth": 0,
             "ticks": ""
            },
            "colorscale": [
             [
              0,
              "#0d0887"
             ],
             [
              0.1111111111111111,
              "#46039f"
             ],
             [
              0.2222222222222222,
              "#7201a8"
             ],
             [
              0.3333333333333333,
              "#9c179e"
             ],
             [
              0.4444444444444444,
              "#bd3786"
             ],
             [
              0.5555555555555556,
              "#d8576b"
             ],
             [
              0.6666666666666666,
              "#ed7953"
             ],
             [
              0.7777777777777778,
              "#fb9f3a"
             ],
             [
              0.8888888888888888,
              "#fdca26"
             ],
             [
              1,
              "#f0f921"
             ]
            ],
            "type": "heatmap"
           }
          ],
          "heatmapgl": [
           {
            "colorbar": {
             "outlinewidth": 0,
             "ticks": ""
            },
            "colorscale": [
             [
              0,
              "#0d0887"
             ],
             [
              0.1111111111111111,
              "#46039f"
             ],
             [
              0.2222222222222222,
              "#7201a8"
             ],
             [
              0.3333333333333333,
              "#9c179e"
             ],
             [
              0.4444444444444444,
              "#bd3786"
             ],
             [
              0.5555555555555556,
              "#d8576b"
             ],
             [
              0.6666666666666666,
              "#ed7953"
             ],
             [
              0.7777777777777778,
              "#fb9f3a"
             ],
             [
              0.8888888888888888,
              "#fdca26"
             ],
             [
              1,
              "#f0f921"
             ]
            ],
            "type": "heatmapgl"
           }
          ],
          "histogram": [
           {
            "marker": {
             "pattern": {
              "fillmode": "overlay",
              "size": 10,
              "solidity": 0.2
             }
            },
            "type": "histogram"
           }
          ],
          "histogram2d": [
           {
            "colorbar": {
             "outlinewidth": 0,
             "ticks": ""
            },
            "colorscale": [
             [
              0,
              "#0d0887"
             ],
             [
              0.1111111111111111,
              "#46039f"
             ],
             [
              0.2222222222222222,
              "#7201a8"
             ],
             [
              0.3333333333333333,
              "#9c179e"
             ],
             [
              0.4444444444444444,
              "#bd3786"
             ],
             [
              0.5555555555555556,
              "#d8576b"
             ],
             [
              0.6666666666666666,
              "#ed7953"
             ],
             [
              0.7777777777777778,
              "#fb9f3a"
             ],
             [
              0.8888888888888888,
              "#fdca26"
             ],
             [
              1,
              "#f0f921"
             ]
            ],
            "type": "histogram2d"
           }
          ],
          "histogram2dcontour": [
           {
            "colorbar": {
             "outlinewidth": 0,
             "ticks": ""
            },
            "colorscale": [
             [
              0,
              "#0d0887"
             ],
             [
              0.1111111111111111,
              "#46039f"
             ],
             [
              0.2222222222222222,
              "#7201a8"
             ],
             [
              0.3333333333333333,
              "#9c179e"
             ],
             [
              0.4444444444444444,
              "#bd3786"
             ],
             [
              0.5555555555555556,
              "#d8576b"
             ],
             [
              0.6666666666666666,
              "#ed7953"
             ],
             [
              0.7777777777777778,
              "#fb9f3a"
             ],
             [
              0.8888888888888888,
              "#fdca26"
             ],
             [
              1,
              "#f0f921"
             ]
            ],
            "type": "histogram2dcontour"
           }
          ],
          "mesh3d": [
           {
            "colorbar": {
             "outlinewidth": 0,
             "ticks": ""
            },
            "type": "mesh3d"
           }
          ],
          "parcoords": [
           {
            "line": {
             "colorbar": {
              "outlinewidth": 0,
              "ticks": ""
             }
            },
            "type": "parcoords"
           }
          ],
          "pie": [
           {
            "automargin": true,
            "type": "pie"
           }
          ],
          "scatter": [
           {
            "fillpattern": {
             "fillmode": "overlay",
             "size": 10,
             "solidity": 0.2
            },
            "type": "scatter"
           }
          ],
          "scatter3d": [
           {
            "line": {
             "colorbar": {
              "outlinewidth": 0,
              "ticks": ""
             }
            },
            "marker": {
             "colorbar": {
              "outlinewidth": 0,
              "ticks": ""
             }
            },
            "type": "scatter3d"
           }
          ],
          "scattercarpet": [
           {
            "marker": {
             "colorbar": {
              "outlinewidth": 0,
              "ticks": ""
             }
            },
            "type": "scattercarpet"
           }
          ],
          "scattergeo": [
           {
            "marker": {
             "colorbar": {
              "outlinewidth": 0,
              "ticks": ""
             }
            },
            "type": "scattergeo"
           }
          ],
          "scattergl": [
           {
            "marker": {
             "colorbar": {
              "outlinewidth": 0,
              "ticks": ""
             }
            },
            "type": "scattergl"
           }
          ],
          "scattermapbox": [
           {
            "marker": {
             "colorbar": {
              "outlinewidth": 0,
              "ticks": ""
             }
            },
            "type": "scattermapbox"
           }
          ],
          "scatterpolar": [
           {
            "marker": {
             "colorbar": {
              "outlinewidth": 0,
              "ticks": ""
             }
            },
            "type": "scatterpolar"
           }
          ],
          "scatterpolargl": [
           {
            "marker": {
             "colorbar": {
              "outlinewidth": 0,
              "ticks": ""
             }
            },
            "type": "scatterpolargl"
           }
          ],
          "scatterternary": [
           {
            "marker": {
             "colorbar": {
              "outlinewidth": 0,
              "ticks": ""
             }
            },
            "type": "scatterternary"
           }
          ],
          "surface": [
           {
            "colorbar": {
             "outlinewidth": 0,
             "ticks": ""
            },
            "colorscale": [
             [
              0,
              "#0d0887"
             ],
             [
              0.1111111111111111,
              "#46039f"
             ],
             [
              0.2222222222222222,
              "#7201a8"
             ],
             [
              0.3333333333333333,
              "#9c179e"
             ],
             [
              0.4444444444444444,
              "#bd3786"
             ],
             [
              0.5555555555555556,
              "#d8576b"
             ],
             [
              0.6666666666666666,
              "#ed7953"
             ],
             [
              0.7777777777777778,
              "#fb9f3a"
             ],
             [
              0.8888888888888888,
              "#fdca26"
             ],
             [
              1,
              "#f0f921"
             ]
            ],
            "type": "surface"
           }
          ],
          "table": [
           {
            "cells": {
             "fill": {
              "color": "#EBF0F8"
             },
             "line": {
              "color": "white"
             }
            },
            "header": {
             "fill": {
              "color": "#C8D4E3"
             },
             "line": {
              "color": "white"
             }
            },
            "type": "table"
           }
          ]
         },
         "layout": {
          "annotationdefaults": {
           "arrowcolor": "#2a3f5f",
           "arrowhead": 0,
           "arrowwidth": 1
          },
          "autotypenumbers": "strict",
          "coloraxis": {
           "colorbar": {
            "outlinewidth": 0,
            "ticks": ""
           }
          },
          "colorscale": {
           "diverging": [
            [
             0,
             "#8e0152"
            ],
            [
             0.1,
             "#c51b7d"
            ],
            [
             0.2,
             "#de77ae"
            ],
            [
             0.3,
             "#f1b6da"
            ],
            [
             0.4,
             "#fde0ef"
            ],
            [
             0.5,
             "#f7f7f7"
            ],
            [
             0.6,
             "#e6f5d0"
            ],
            [
             0.7,
             "#b8e186"
            ],
            [
             0.8,
             "#7fbc41"
            ],
            [
             0.9,
             "#4d9221"
            ],
            [
             1,
             "#276419"
            ]
           ],
           "sequential": [
            [
             0,
             "#0d0887"
            ],
            [
             0.1111111111111111,
             "#46039f"
            ],
            [
             0.2222222222222222,
             "#7201a8"
            ],
            [
             0.3333333333333333,
             "#9c179e"
            ],
            [
             0.4444444444444444,
             "#bd3786"
            ],
            [
             0.5555555555555556,
             "#d8576b"
            ],
            [
             0.6666666666666666,
             "#ed7953"
            ],
            [
             0.7777777777777778,
             "#fb9f3a"
            ],
            [
             0.8888888888888888,
             "#fdca26"
            ],
            [
             1,
             "#f0f921"
            ]
           ],
           "sequentialminus": [
            [
             0,
             "#0d0887"
            ],
            [
             0.1111111111111111,
             "#46039f"
            ],
            [
             0.2222222222222222,
             "#7201a8"
            ],
            [
             0.3333333333333333,
             "#9c179e"
            ],
            [
             0.4444444444444444,
             "#bd3786"
            ],
            [
             0.5555555555555556,
             "#d8576b"
            ],
            [
             0.6666666666666666,
             "#ed7953"
            ],
            [
             0.7777777777777778,
             "#fb9f3a"
            ],
            [
             0.8888888888888888,
             "#fdca26"
            ],
            [
             1,
             "#f0f921"
            ]
           ]
          },
          "colorway": [
           "#636efa",
           "#EF553B",
           "#00cc96",
           "#ab63fa",
           "#FFA15A",
           "#19d3f3",
           "#FF6692",
           "#B6E880",
           "#FF97FF",
           "#FECB52"
          ],
          "font": {
           "color": "#2a3f5f"
          },
          "geo": {
           "bgcolor": "white",
           "lakecolor": "white",
           "landcolor": "#E5ECF6",
           "showlakes": true,
           "showland": true,
           "subunitcolor": "white"
          },
          "hoverlabel": {
           "align": "left"
          },
          "hovermode": "closest",
          "mapbox": {
           "style": "light"
          },
          "paper_bgcolor": "white",
          "plot_bgcolor": "#E5ECF6",
          "polar": {
           "angularaxis": {
            "gridcolor": "white",
            "linecolor": "white",
            "ticks": ""
           },
           "bgcolor": "#E5ECF6",
           "radialaxis": {
            "gridcolor": "white",
            "linecolor": "white",
            "ticks": ""
           }
          },
          "scene": {
           "xaxis": {
            "backgroundcolor": "#E5ECF6",
            "gridcolor": "white",
            "gridwidth": 2,
            "linecolor": "white",
            "showbackground": true,
            "ticks": "",
            "zerolinecolor": "white"
           },
           "yaxis": {
            "backgroundcolor": "#E5ECF6",
            "gridcolor": "white",
            "gridwidth": 2,
            "linecolor": "white",
            "showbackground": true,
            "ticks": "",
            "zerolinecolor": "white"
           },
           "zaxis": {
            "backgroundcolor": "#E5ECF6",
            "gridcolor": "white",
            "gridwidth": 2,
            "linecolor": "white",
            "showbackground": true,
            "ticks": "",
            "zerolinecolor": "white"
           }
          },
          "shapedefaults": {
           "line": {
            "color": "#2a3f5f"
           }
          },
          "ternary": {
           "aaxis": {
            "gridcolor": "white",
            "linecolor": "white",
            "ticks": ""
           },
           "baxis": {
            "gridcolor": "white",
            "linecolor": "white",
            "ticks": ""
           },
           "bgcolor": "#E5ECF6",
           "caxis": {
            "gridcolor": "white",
            "linecolor": "white",
            "ticks": ""
           }
          },
          "title": {
           "x": 0.05
          },
          "xaxis": {
           "automargin": true,
           "gridcolor": "white",
           "linecolor": "white",
           "ticks": "",
           "title": {
            "standoff": 15
           },
           "zerolinecolor": "white",
           "zerolinewidth": 2
          },
          "yaxis": {
           "automargin": true,
           "gridcolor": "white",
           "linecolor": "white",
           "ticks": "",
           "title": {
            "standoff": 15
           },
           "zerolinecolor": "white",
           "zerolinewidth": 2
          }
         }
        },
        "xaxis": {
         "anchor": "y",
         "domain": [
          0,
          1
         ],
         "title": {
          "text": "nb"
         }
        },
        "yaxis": {
         "anchor": "x",
         "domain": [
          0,
          1
         ],
         "title": {
          "text": ""
         }
        }
       }
      }
     },
     "metadata": {},
     "output_type": "display_data"
    }
   ],
   "source": [
    "df_hist = pd.DataFrame(columns=[\"th\", \"nb\"])\n",
    "for th in TEMPLATES_VAR.keys():\n",
    "    vals = human_h[human_h.th == th].groupby(TEMPLATES_VAR[th]).agg({\"user_id\": \"nunique\"}).user_id.values\n",
    "    curr_df = pd.DataFrame({\"th\": th, \"nb\": vals}, columns=[\"th\", \"nb\"])\n",
    "    df_hist = pd.concat([df_hist, curr_df])\n",
    "\n",
    "fig = px.histogram(df_hist, x=\"nb\", histnorm=\"\", nbins=human_h.user_id.unique().shape[0], color=\"th\",\n",
    "                   color_discrete_map=COLOR_PALETTE, opacity=0.75)\n",
    "fig.update_layout(barmode='group')\n",
    "fig.write_image(\"../visualisations/user_studies_common_h.pdf\", format='pdf')\n",
    "fig.show()"
   ]
  },
  {
   "cell_type": "code",
   "execution_count": 59,
   "metadata": {},
   "outputs": [
    {
     "data": {
      "application/vnd.plotly.v1+json": {
       "config": {
        "plotlyServerURL": "https://plot.ly"
       },
       "data": [
        {
         "alignmentgroup": "True",
         "bingroup": "x",
         "histnorm": "",
         "hovertemplate": "th=regular<br>user_id=%{x}<br>=%{y}<extra></extra>",
         "legendgroup": "regular",
         "marker": {
          "color": "rgb(136, 204, 238)",
          "opacity": 0.75,
          "pattern": {
           "shape": ""
          }
         },
         "name": "regular",
         "nbinsx": 5,
         "offsetgroup": "regular",
         "orientation": "v",
         "showlegend": true,
         "type": "histogram",
         "x": [
          5,
          1,
          1,
          1,
          5,
          1,
          2,
          1,
          5,
          5,
          2,
          5,
          2
         ],
         "xaxis": "x",
         "yaxis": "y"
        },
        {
         "alignmentgroup": "True",
         "bingroup": "x",
         "histnorm": "",
         "hovertemplate": "th=study_mod<br>user_id=%{x}<br>=%{y}<extra></extra>",
         "legendgroup": "study_mod",
         "marker": {
          "color": "rgb(204, 102, 119)",
          "opacity": 0.75,
          "pattern": {
           "shape": ""
          }
         },
         "name": "study_mod",
         "nbinsx": 5,
         "offsetgroup": "study_mod",
         "orientation": "v",
         "showlegend": true,
         "type": "histogram",
         "x": [
          1,
          5,
          3,
          2,
          3,
          1,
          2,
          2
         ],
         "xaxis": "x",
         "yaxis": "y"
        },
        {
         "alignmentgroup": "True",
         "bingroup": "x",
         "histnorm": "",
         "hovertemplate": "th=var_mod<br>user_id=%{x}<br>=%{y}<extra></extra>",
         "legendgroup": "var_mod",
         "marker": {
          "color": "rgb(221, 204, 119)",
          "opacity": 0.75,
          "pattern": {
           "shape": ""
          }
         },
         "name": "var_mod",
         "nbinsx": 5,
         "offsetgroup": "var_mod",
         "orientation": "v",
         "showlegend": true,
         "type": "histogram",
         "x": [
          1,
          2,
          2,
          4,
          3,
          1,
          3
         ],
         "xaxis": "x",
         "yaxis": "y"
        }
       ],
       "layout": {
        "barmode": "group",
        "legend": {
         "title": {
          "text": "th"
         },
         "tracegroupgap": 0
        },
        "margin": {
         "t": 60
        },
        "template": {
         "data": {
          "bar": [
           {
            "error_x": {
             "color": "#2a3f5f"
            },
            "error_y": {
             "color": "#2a3f5f"
            },
            "marker": {
             "line": {
              "color": "#E5ECF6",
              "width": 0.5
             },
             "pattern": {
              "fillmode": "overlay",
              "size": 10,
              "solidity": 0.2
             }
            },
            "type": "bar"
           }
          ],
          "barpolar": [
           {
            "marker": {
             "line": {
              "color": "#E5ECF6",
              "width": 0.5
             },
             "pattern": {
              "fillmode": "overlay",
              "size": 10,
              "solidity": 0.2
             }
            },
            "type": "barpolar"
           }
          ],
          "carpet": [
           {
            "aaxis": {
             "endlinecolor": "#2a3f5f",
             "gridcolor": "white",
             "linecolor": "white",
             "minorgridcolor": "white",
             "startlinecolor": "#2a3f5f"
            },
            "baxis": {
             "endlinecolor": "#2a3f5f",
             "gridcolor": "white",
             "linecolor": "white",
             "minorgridcolor": "white",
             "startlinecolor": "#2a3f5f"
            },
            "type": "carpet"
           }
          ],
          "choropleth": [
           {
            "colorbar": {
             "outlinewidth": 0,
             "ticks": ""
            },
            "type": "choropleth"
           }
          ],
          "contour": [
           {
            "colorbar": {
             "outlinewidth": 0,
             "ticks": ""
            },
            "colorscale": [
             [
              0,
              "#0d0887"
             ],
             [
              0.1111111111111111,
              "#46039f"
             ],
             [
              0.2222222222222222,
              "#7201a8"
             ],
             [
              0.3333333333333333,
              "#9c179e"
             ],
             [
              0.4444444444444444,
              "#bd3786"
             ],
             [
              0.5555555555555556,
              "#d8576b"
             ],
             [
              0.6666666666666666,
              "#ed7953"
             ],
             [
              0.7777777777777778,
              "#fb9f3a"
             ],
             [
              0.8888888888888888,
              "#fdca26"
             ],
             [
              1,
              "#f0f921"
             ]
            ],
            "type": "contour"
           }
          ],
          "contourcarpet": [
           {
            "colorbar": {
             "outlinewidth": 0,
             "ticks": ""
            },
            "type": "contourcarpet"
           }
          ],
          "heatmap": [
           {
            "colorbar": {
             "outlinewidth": 0,
             "ticks": ""
            },
            "colorscale": [
             [
              0,
              "#0d0887"
             ],
             [
              0.1111111111111111,
              "#46039f"
             ],
             [
              0.2222222222222222,
              "#7201a8"
             ],
             [
              0.3333333333333333,
              "#9c179e"
             ],
             [
              0.4444444444444444,
              "#bd3786"
             ],
             [
              0.5555555555555556,
              "#d8576b"
             ],
             [
              0.6666666666666666,
              "#ed7953"
             ],
             [
              0.7777777777777778,
              "#fb9f3a"
             ],
             [
              0.8888888888888888,
              "#fdca26"
             ],
             [
              1,
              "#f0f921"
             ]
            ],
            "type": "heatmap"
           }
          ],
          "heatmapgl": [
           {
            "colorbar": {
             "outlinewidth": 0,
             "ticks": ""
            },
            "colorscale": [
             [
              0,
              "#0d0887"
             ],
             [
              0.1111111111111111,
              "#46039f"
             ],
             [
              0.2222222222222222,
              "#7201a8"
             ],
             [
              0.3333333333333333,
              "#9c179e"
             ],
             [
              0.4444444444444444,
              "#bd3786"
             ],
             [
              0.5555555555555556,
              "#d8576b"
             ],
             [
              0.6666666666666666,
              "#ed7953"
             ],
             [
              0.7777777777777778,
              "#fb9f3a"
             ],
             [
              0.8888888888888888,
              "#fdca26"
             ],
             [
              1,
              "#f0f921"
             ]
            ],
            "type": "heatmapgl"
           }
          ],
          "histogram": [
           {
            "marker": {
             "pattern": {
              "fillmode": "overlay",
              "size": 10,
              "solidity": 0.2
             }
            },
            "type": "histogram"
           }
          ],
          "histogram2d": [
           {
            "colorbar": {
             "outlinewidth": 0,
             "ticks": ""
            },
            "colorscale": [
             [
              0,
              "#0d0887"
             ],
             [
              0.1111111111111111,
              "#46039f"
             ],
             [
              0.2222222222222222,
              "#7201a8"
             ],
             [
              0.3333333333333333,
              "#9c179e"
             ],
             [
              0.4444444444444444,
              "#bd3786"
             ],
             [
              0.5555555555555556,
              "#d8576b"
             ],
             [
              0.6666666666666666,
              "#ed7953"
             ],
             [
              0.7777777777777778,
              "#fb9f3a"
             ],
             [
              0.8888888888888888,
              "#fdca26"
             ],
             [
              1,
              "#f0f921"
             ]
            ],
            "type": "histogram2d"
           }
          ],
          "histogram2dcontour": [
           {
            "colorbar": {
             "outlinewidth": 0,
             "ticks": ""
            },
            "colorscale": [
             [
              0,
              "#0d0887"
             ],
             [
              0.1111111111111111,
              "#46039f"
             ],
             [
              0.2222222222222222,
              "#7201a8"
             ],
             [
              0.3333333333333333,
              "#9c179e"
             ],
             [
              0.4444444444444444,
              "#bd3786"
             ],
             [
              0.5555555555555556,
              "#d8576b"
             ],
             [
              0.6666666666666666,
              "#ed7953"
             ],
             [
              0.7777777777777778,
              "#fb9f3a"
             ],
             [
              0.8888888888888888,
              "#fdca26"
             ],
             [
              1,
              "#f0f921"
             ]
            ],
            "type": "histogram2dcontour"
           }
          ],
          "mesh3d": [
           {
            "colorbar": {
             "outlinewidth": 0,
             "ticks": ""
            },
            "type": "mesh3d"
           }
          ],
          "parcoords": [
           {
            "line": {
             "colorbar": {
              "outlinewidth": 0,
              "ticks": ""
             }
            },
            "type": "parcoords"
           }
          ],
          "pie": [
           {
            "automargin": true,
            "type": "pie"
           }
          ],
          "scatter": [
           {
            "fillpattern": {
             "fillmode": "overlay",
             "size": 10,
             "solidity": 0.2
            },
            "type": "scatter"
           }
          ],
          "scatter3d": [
           {
            "line": {
             "colorbar": {
              "outlinewidth": 0,
              "ticks": ""
             }
            },
            "marker": {
             "colorbar": {
              "outlinewidth": 0,
              "ticks": ""
             }
            },
            "type": "scatter3d"
           }
          ],
          "scattercarpet": [
           {
            "marker": {
             "colorbar": {
              "outlinewidth": 0,
              "ticks": ""
             }
            },
            "type": "scattercarpet"
           }
          ],
          "scattergeo": [
           {
            "marker": {
             "colorbar": {
              "outlinewidth": 0,
              "ticks": ""
             }
            },
            "type": "scattergeo"
           }
          ],
          "scattergl": [
           {
            "marker": {
             "colorbar": {
              "outlinewidth": 0,
              "ticks": ""
             }
            },
            "type": "scattergl"
           }
          ],
          "scattermapbox": [
           {
            "marker": {
             "colorbar": {
              "outlinewidth": 0,
              "ticks": ""
             }
            },
            "type": "scattermapbox"
           }
          ],
          "scatterpolar": [
           {
            "marker": {
             "colorbar": {
              "outlinewidth": 0,
              "ticks": ""
             }
            },
            "type": "scatterpolar"
           }
          ],
          "scatterpolargl": [
           {
            "marker": {
             "colorbar": {
              "outlinewidth": 0,
              "ticks": ""
             }
            },
            "type": "scatterpolargl"
           }
          ],
          "scatterternary": [
           {
            "marker": {
             "colorbar": {
              "outlinewidth": 0,
              "ticks": ""
             }
            },
            "type": "scatterternary"
           }
          ],
          "surface": [
           {
            "colorbar": {
             "outlinewidth": 0,
             "ticks": ""
            },
            "colorscale": [
             [
              0,
              "#0d0887"
             ],
             [
              0.1111111111111111,
              "#46039f"
             ],
             [
              0.2222222222222222,
              "#7201a8"
             ],
             [
              0.3333333333333333,
              "#9c179e"
             ],
             [
              0.4444444444444444,
              "#bd3786"
             ],
             [
              0.5555555555555556,
              "#d8576b"
             ],
             [
              0.6666666666666666,
              "#ed7953"
             ],
             [
              0.7777777777777778,
              "#fb9f3a"
             ],
             [
              0.8888888888888888,
              "#fdca26"
             ],
             [
              1,
              "#f0f921"
             ]
            ],
            "type": "surface"
           }
          ],
          "table": [
           {
            "cells": {
             "fill": {
              "color": "#EBF0F8"
             },
             "line": {
              "color": "white"
             }
            },
            "header": {
             "fill": {
              "color": "#C8D4E3"
             },
             "line": {
              "color": "white"
             }
            },
            "type": "table"
           }
          ]
         },
         "layout": {
          "annotationdefaults": {
           "arrowcolor": "#2a3f5f",
           "arrowhead": 0,
           "arrowwidth": 1
          },
          "autotypenumbers": "strict",
          "coloraxis": {
           "colorbar": {
            "outlinewidth": 0,
            "ticks": ""
           }
          },
          "colorscale": {
           "diverging": [
            [
             0,
             "#8e0152"
            ],
            [
             0.1,
             "#c51b7d"
            ],
            [
             0.2,
             "#de77ae"
            ],
            [
             0.3,
             "#f1b6da"
            ],
            [
             0.4,
             "#fde0ef"
            ],
            [
             0.5,
             "#f7f7f7"
            ],
            [
             0.6,
             "#e6f5d0"
            ],
            [
             0.7,
             "#b8e186"
            ],
            [
             0.8,
             "#7fbc41"
            ],
            [
             0.9,
             "#4d9221"
            ],
            [
             1,
             "#276419"
            ]
           ],
           "sequential": [
            [
             0,
             "#0d0887"
            ],
            [
             0.1111111111111111,
             "#46039f"
            ],
            [
             0.2222222222222222,
             "#7201a8"
            ],
            [
             0.3333333333333333,
             "#9c179e"
            ],
            [
             0.4444444444444444,
             "#bd3786"
            ],
            [
             0.5555555555555556,
             "#d8576b"
            ],
            [
             0.6666666666666666,
             "#ed7953"
            ],
            [
             0.7777777777777778,
             "#fb9f3a"
            ],
            [
             0.8888888888888888,
             "#fdca26"
            ],
            [
             1,
             "#f0f921"
            ]
           ],
           "sequentialminus": [
            [
             0,
             "#0d0887"
            ],
            [
             0.1111111111111111,
             "#46039f"
            ],
            [
             0.2222222222222222,
             "#7201a8"
            ],
            [
             0.3333333333333333,
             "#9c179e"
            ],
            [
             0.4444444444444444,
             "#bd3786"
            ],
            [
             0.5555555555555556,
             "#d8576b"
            ],
            [
             0.6666666666666666,
             "#ed7953"
            ],
            [
             0.7777777777777778,
             "#fb9f3a"
            ],
            [
             0.8888888888888888,
             "#fdca26"
            ],
            [
             1,
             "#f0f921"
            ]
           ]
          },
          "colorway": [
           "#636efa",
           "#EF553B",
           "#00cc96",
           "#ab63fa",
           "#FFA15A",
           "#19d3f3",
           "#FF6692",
           "#B6E880",
           "#FF97FF",
           "#FECB52"
          ],
          "font": {
           "color": "#2a3f5f"
          },
          "geo": {
           "bgcolor": "white",
           "lakecolor": "white",
           "landcolor": "#E5ECF6",
           "showlakes": true,
           "showland": true,
           "subunitcolor": "white"
          },
          "hoverlabel": {
           "align": "left"
          },
          "hovermode": "closest",
          "mapbox": {
           "style": "light"
          },
          "paper_bgcolor": "white",
          "plot_bgcolor": "#E5ECF6",
          "polar": {
           "angularaxis": {
            "gridcolor": "white",
            "linecolor": "white",
            "ticks": ""
           },
           "bgcolor": "#E5ECF6",
           "radialaxis": {
            "gridcolor": "white",
            "linecolor": "white",
            "ticks": ""
           }
          },
          "scene": {
           "xaxis": {
            "backgroundcolor": "#E5ECF6",
            "gridcolor": "white",
            "gridwidth": 2,
            "linecolor": "white",
            "showbackground": true,
            "ticks": "",
            "zerolinecolor": "white"
           },
           "yaxis": {
            "backgroundcolor": "#E5ECF6",
            "gridcolor": "white",
            "gridwidth": 2,
            "linecolor": "white",
            "showbackground": true,
            "ticks": "",
            "zerolinecolor": "white"
           },
           "zaxis": {
            "backgroundcolor": "#E5ECF6",
            "gridcolor": "white",
            "gridwidth": 2,
            "linecolor": "white",
            "showbackground": true,
            "ticks": "",
            "zerolinecolor": "white"
           }
          },
          "shapedefaults": {
           "line": {
            "color": "#2a3f5f"
           }
          },
          "ternary": {
           "aaxis": {
            "gridcolor": "white",
            "linecolor": "white",
            "ticks": ""
           },
           "baxis": {
            "gridcolor": "white",
            "linecolor": "white",
            "ticks": ""
           },
           "bgcolor": "#E5ECF6",
           "caxis": {
            "gridcolor": "white",
            "linecolor": "white",
            "ticks": ""
           }
          },
          "title": {
           "x": 0.05
          },
          "xaxis": {
           "automargin": true,
           "gridcolor": "white",
           "linecolor": "white",
           "ticks": "",
           "title": {
            "standoff": 15
           },
           "zerolinecolor": "white",
           "zerolinewidth": 2
          },
          "yaxis": {
           "automargin": true,
           "gridcolor": "white",
           "linecolor": "white",
           "ticks": "",
           "title": {
            "standoff": 15
           },
           "zerolinecolor": "white",
           "zerolinewidth": 2
          }
         }
        },
        "xaxis": {
         "anchor": "y",
         "domain": [
          0,
          1
         ],
         "title": {
          "text": "user_id"
         }
        },
        "yaxis": {
         "anchor": "x",
         "domain": [
          0,
          1
         ],
         "title": {
          "text": ""
         }
        }
       }
      }
     },
     "metadata": {},
     "output_type": "display_data"
    }
   ],
   "source": [
    "fig = px.histogram(\n",
    "    human_h.groupby([\"th\", \"siv\"]).agg({\"user_id\": \"nunique\"}).reset_index(),\n",
    "    x=\"user_id\", histnorm=\"\", nbins=human_h.user_id.unique().shape[0], color=\"th\",\n",
    "    color_discrete_map=COLOR_PALETTE, opacity=0.75)\n",
    "fig.update_layout(barmode='group')\n",
    "fig.write_image(\"../visualisations/user_studies_common_siv.pdf\", format='pdf')\n",
    "fig.show()"
   ]
  },
  {
   "cell_type": "code",
   "execution_count": 58,
   "metadata": {},
   "outputs": [
    {
     "data": {
      "application/vnd.plotly.v1+json": {
       "config": {
        "plotlyServerURL": "https://plot.ly"
       },
       "data": [
        {
         "alignmentgroup": "True",
         "bingroup": "x",
         "histnorm": "",
         "hovertemplate": "th=study_mod<br>user_id=%{x}<br>=%{y}<extra></extra>",
         "legendgroup": "study_mod",
         "marker": {
          "color": "rgb(204, 102, 119)",
          "opacity": 0.75,
          "pattern": {
           "shape": ""
          }
         },
         "name": "study_mod",
         "nbinsx": 5,
         "offsetgroup": "study_mod",
         "orientation": "v",
         "showlegend": true,
         "type": "histogram",
         "x": [
          3,
          3,
          1,
          2,
          3,
          1,
          4,
          2,
          1,
          1,
          4,
          2,
          1,
          5,
          2,
          1,
          1
         ],
         "xaxis": "x",
         "yaxis": "y"
        },
        {
         "alignmentgroup": "True",
         "bingroup": "x",
         "histnorm": "",
         "hovertemplate": "th=var_mod<br>user_id=%{x}<br>=%{y}<extra></extra>",
         "legendgroup": "var_mod",
         "marker": {
          "color": "rgb(221, 204, 119)",
          "opacity": 0.75,
          "pattern": {
           "shape": ""
          }
         },
         "name": "var_mod",
         "nbinsx": 5,
         "offsetgroup": "var_mod",
         "orientation": "v",
         "showlegend": true,
         "type": "histogram",
         "x": [
          2,
          2,
          1,
          4,
          1,
          3,
          1,
          2,
          1,
          2,
          2,
          2,
          3,
          2,
          1,
          1,
          3
         ],
         "xaxis": "x",
         "yaxis": "y"
        }
       ],
       "layout": {
        "barmode": "group",
        "legend": {
         "title": {
          "text": "th"
         },
         "tracegroupgap": 0
        },
        "margin": {
         "t": 60
        },
        "template": {
         "data": {
          "bar": [
           {
            "error_x": {
             "color": "#2a3f5f"
            },
            "error_y": {
             "color": "#2a3f5f"
            },
            "marker": {
             "line": {
              "color": "#E5ECF6",
              "width": 0.5
             },
             "pattern": {
              "fillmode": "overlay",
              "size": 10,
              "solidity": 0.2
             }
            },
            "type": "bar"
           }
          ],
          "barpolar": [
           {
            "marker": {
             "line": {
              "color": "#E5ECF6",
              "width": 0.5
             },
             "pattern": {
              "fillmode": "overlay",
              "size": 10,
              "solidity": 0.2
             }
            },
            "type": "barpolar"
           }
          ],
          "carpet": [
           {
            "aaxis": {
             "endlinecolor": "#2a3f5f",
             "gridcolor": "white",
             "linecolor": "white",
             "minorgridcolor": "white",
             "startlinecolor": "#2a3f5f"
            },
            "baxis": {
             "endlinecolor": "#2a3f5f",
             "gridcolor": "white",
             "linecolor": "white",
             "minorgridcolor": "white",
             "startlinecolor": "#2a3f5f"
            },
            "type": "carpet"
           }
          ],
          "choropleth": [
           {
            "colorbar": {
             "outlinewidth": 0,
             "ticks": ""
            },
            "type": "choropleth"
           }
          ],
          "contour": [
           {
            "colorbar": {
             "outlinewidth": 0,
             "ticks": ""
            },
            "colorscale": [
             [
              0,
              "#0d0887"
             ],
             [
              0.1111111111111111,
              "#46039f"
             ],
             [
              0.2222222222222222,
              "#7201a8"
             ],
             [
              0.3333333333333333,
              "#9c179e"
             ],
             [
              0.4444444444444444,
              "#bd3786"
             ],
             [
              0.5555555555555556,
              "#d8576b"
             ],
             [
              0.6666666666666666,
              "#ed7953"
             ],
             [
              0.7777777777777778,
              "#fb9f3a"
             ],
             [
              0.8888888888888888,
              "#fdca26"
             ],
             [
              1,
              "#f0f921"
             ]
            ],
            "type": "contour"
           }
          ],
          "contourcarpet": [
           {
            "colorbar": {
             "outlinewidth": 0,
             "ticks": ""
            },
            "type": "contourcarpet"
           }
          ],
          "heatmap": [
           {
            "colorbar": {
             "outlinewidth": 0,
             "ticks": ""
            },
            "colorscale": [
             [
              0,
              "#0d0887"
             ],
             [
              0.1111111111111111,
              "#46039f"
             ],
             [
              0.2222222222222222,
              "#7201a8"
             ],
             [
              0.3333333333333333,
              "#9c179e"
             ],
             [
              0.4444444444444444,
              "#bd3786"
             ],
             [
              0.5555555555555556,
              "#d8576b"
             ],
             [
              0.6666666666666666,
              "#ed7953"
             ],
             [
              0.7777777777777778,
              "#fb9f3a"
             ],
             [
              0.8888888888888888,
              "#fdca26"
             ],
             [
              1,
              "#f0f921"
             ]
            ],
            "type": "heatmap"
           }
          ],
          "heatmapgl": [
           {
            "colorbar": {
             "outlinewidth": 0,
             "ticks": ""
            },
            "colorscale": [
             [
              0,
              "#0d0887"
             ],
             [
              0.1111111111111111,
              "#46039f"
             ],
             [
              0.2222222222222222,
              "#7201a8"
             ],
             [
              0.3333333333333333,
              "#9c179e"
             ],
             [
              0.4444444444444444,
              "#bd3786"
             ],
             [
              0.5555555555555556,
              "#d8576b"
             ],
             [
              0.6666666666666666,
              "#ed7953"
             ],
             [
              0.7777777777777778,
              "#fb9f3a"
             ],
             [
              0.8888888888888888,
              "#fdca26"
             ],
             [
              1,
              "#f0f921"
             ]
            ],
            "type": "heatmapgl"
           }
          ],
          "histogram": [
           {
            "marker": {
             "pattern": {
              "fillmode": "overlay",
              "size": 10,
              "solidity": 0.2
             }
            },
            "type": "histogram"
           }
          ],
          "histogram2d": [
           {
            "colorbar": {
             "outlinewidth": 0,
             "ticks": ""
            },
            "colorscale": [
             [
              0,
              "#0d0887"
             ],
             [
              0.1111111111111111,
              "#46039f"
             ],
             [
              0.2222222222222222,
              "#7201a8"
             ],
             [
              0.3333333333333333,
              "#9c179e"
             ],
             [
              0.4444444444444444,
              "#bd3786"
             ],
             [
              0.5555555555555556,
              "#d8576b"
             ],
             [
              0.6666666666666666,
              "#ed7953"
             ],
             [
              0.7777777777777778,
              "#fb9f3a"
             ],
             [
              0.8888888888888888,
              "#fdca26"
             ],
             [
              1,
              "#f0f921"
             ]
            ],
            "type": "histogram2d"
           }
          ],
          "histogram2dcontour": [
           {
            "colorbar": {
             "outlinewidth": 0,
             "ticks": ""
            },
            "colorscale": [
             [
              0,
              "#0d0887"
             ],
             [
              0.1111111111111111,
              "#46039f"
             ],
             [
              0.2222222222222222,
              "#7201a8"
             ],
             [
              0.3333333333333333,
              "#9c179e"
             ],
             [
              0.4444444444444444,
              "#bd3786"
             ],
             [
              0.5555555555555556,
              "#d8576b"
             ],
             [
              0.6666666666666666,
              "#ed7953"
             ],
             [
              0.7777777777777778,
              "#fb9f3a"
             ],
             [
              0.8888888888888888,
              "#fdca26"
             ],
             [
              1,
              "#f0f921"
             ]
            ],
            "type": "histogram2dcontour"
           }
          ],
          "mesh3d": [
           {
            "colorbar": {
             "outlinewidth": 0,
             "ticks": ""
            },
            "type": "mesh3d"
           }
          ],
          "parcoords": [
           {
            "line": {
             "colorbar": {
              "outlinewidth": 0,
              "ticks": ""
             }
            },
            "type": "parcoords"
           }
          ],
          "pie": [
           {
            "automargin": true,
            "type": "pie"
           }
          ],
          "scatter": [
           {
            "fillpattern": {
             "fillmode": "overlay",
             "size": 10,
             "solidity": 0.2
            },
            "type": "scatter"
           }
          ],
          "scatter3d": [
           {
            "line": {
             "colorbar": {
              "outlinewidth": 0,
              "ticks": ""
             }
            },
            "marker": {
             "colorbar": {
              "outlinewidth": 0,
              "ticks": ""
             }
            },
            "type": "scatter3d"
           }
          ],
          "scattercarpet": [
           {
            "marker": {
             "colorbar": {
              "outlinewidth": 0,
              "ticks": ""
             }
            },
            "type": "scattercarpet"
           }
          ],
          "scattergeo": [
           {
            "marker": {
             "colorbar": {
              "outlinewidth": 0,
              "ticks": ""
             }
            },
            "type": "scattergeo"
           }
          ],
          "scattergl": [
           {
            "marker": {
             "colorbar": {
              "outlinewidth": 0,
              "ticks": ""
             }
            },
            "type": "scattergl"
           }
          ],
          "scattermapbox": [
           {
            "marker": {
             "colorbar": {
              "outlinewidth": 0,
              "ticks": ""
             }
            },
            "type": "scattermapbox"
           }
          ],
          "scatterpolar": [
           {
            "marker": {
             "colorbar": {
              "outlinewidth": 0,
              "ticks": ""
             }
            },
            "type": "scatterpolar"
           }
          ],
          "scatterpolargl": [
           {
            "marker": {
             "colorbar": {
              "outlinewidth": 0,
              "ticks": ""
             }
            },
            "type": "scatterpolargl"
           }
          ],
          "scatterternary": [
           {
            "marker": {
             "colorbar": {
              "outlinewidth": 0,
              "ticks": ""
             }
            },
            "type": "scatterternary"
           }
          ],
          "surface": [
           {
            "colorbar": {
             "outlinewidth": 0,
             "ticks": ""
            },
            "colorscale": [
             [
              0,
              "#0d0887"
             ],
             [
              0.1111111111111111,
              "#46039f"
             ],
             [
              0.2222222222222222,
              "#7201a8"
             ],
             [
              0.3333333333333333,
              "#9c179e"
             ],
             [
              0.4444444444444444,
              "#bd3786"
             ],
             [
              0.5555555555555556,
              "#d8576b"
             ],
             [
              0.6666666666666666,
              "#ed7953"
             ],
             [
              0.7777777777777778,
              "#fb9f3a"
             ],
             [
              0.8888888888888888,
              "#fdca26"
             ],
             [
              1,
              "#f0f921"
             ]
            ],
            "type": "surface"
           }
          ],
          "table": [
           {
            "cells": {
             "fill": {
              "color": "#EBF0F8"
             },
             "line": {
              "color": "white"
             }
            },
            "header": {
             "fill": {
              "color": "#C8D4E3"
             },
             "line": {
              "color": "white"
             }
            },
            "type": "table"
           }
          ]
         },
         "layout": {
          "annotationdefaults": {
           "arrowcolor": "#2a3f5f",
           "arrowhead": 0,
           "arrowwidth": 1
          },
          "autotypenumbers": "strict",
          "coloraxis": {
           "colorbar": {
            "outlinewidth": 0,
            "ticks": ""
           }
          },
          "colorscale": {
           "diverging": [
            [
             0,
             "#8e0152"
            ],
            [
             0.1,
             "#c51b7d"
            ],
            [
             0.2,
             "#de77ae"
            ],
            [
             0.3,
             "#f1b6da"
            ],
            [
             0.4,
             "#fde0ef"
            ],
            [
             0.5,
             "#f7f7f7"
            ],
            [
             0.6,
             "#e6f5d0"
            ],
            [
             0.7,
             "#b8e186"
            ],
            [
             0.8,
             "#7fbc41"
            ],
            [
             0.9,
             "#4d9221"
            ],
            [
             1,
             "#276419"
            ]
           ],
           "sequential": [
            [
             0,
             "#0d0887"
            ],
            [
             0.1111111111111111,
             "#46039f"
            ],
            [
             0.2222222222222222,
             "#7201a8"
            ],
            [
             0.3333333333333333,
             "#9c179e"
            ],
            [
             0.4444444444444444,
             "#bd3786"
            ],
            [
             0.5555555555555556,
             "#d8576b"
            ],
            [
             0.6666666666666666,
             "#ed7953"
            ],
            [
             0.7777777777777778,
             "#fb9f3a"
            ],
            [
             0.8888888888888888,
             "#fdca26"
            ],
            [
             1,
             "#f0f921"
            ]
           ],
           "sequentialminus": [
            [
             0,
             "#0d0887"
            ],
            [
             0.1111111111111111,
             "#46039f"
            ],
            [
             0.2222222222222222,
             "#7201a8"
            ],
            [
             0.3333333333333333,
             "#9c179e"
            ],
            [
             0.4444444444444444,
             "#bd3786"
            ],
            [
             0.5555555555555556,
             "#d8576b"
            ],
            [
             0.6666666666666666,
             "#ed7953"
            ],
            [
             0.7777777777777778,
             "#fb9f3a"
            ],
            [
             0.8888888888888888,
             "#fdca26"
            ],
            [
             1,
             "#f0f921"
            ]
           ]
          },
          "colorway": [
           "#636efa",
           "#EF553B",
           "#00cc96",
           "#ab63fa",
           "#FFA15A",
           "#19d3f3",
           "#FF6692",
           "#B6E880",
           "#FF97FF",
           "#FECB52"
          ],
          "font": {
           "color": "#2a3f5f"
          },
          "geo": {
           "bgcolor": "white",
           "lakecolor": "white",
           "landcolor": "#E5ECF6",
           "showlakes": true,
           "showland": true,
           "subunitcolor": "white"
          },
          "hoverlabel": {
           "align": "left"
          },
          "hovermode": "closest",
          "mapbox": {
           "style": "light"
          },
          "paper_bgcolor": "white",
          "plot_bgcolor": "#E5ECF6",
          "polar": {
           "angularaxis": {
            "gridcolor": "white",
            "linecolor": "white",
            "ticks": ""
           },
           "bgcolor": "#E5ECF6",
           "radialaxis": {
            "gridcolor": "white",
            "linecolor": "white",
            "ticks": ""
           }
          },
          "scene": {
           "xaxis": {
            "backgroundcolor": "#E5ECF6",
            "gridcolor": "white",
            "gridwidth": 2,
            "linecolor": "white",
            "showbackground": true,
            "ticks": "",
            "zerolinecolor": "white"
           },
           "yaxis": {
            "backgroundcolor": "#E5ECF6",
            "gridcolor": "white",
            "gridwidth": 2,
            "linecolor": "white",
            "showbackground": true,
            "ticks": "",
            "zerolinecolor": "white"
           },
           "zaxis": {
            "backgroundcolor": "#E5ECF6",
            "gridcolor": "white",
            "gridwidth": 2,
            "linecolor": "white",
            "showbackground": true,
            "ticks": "",
            "zerolinecolor": "white"
           }
          },
          "shapedefaults": {
           "line": {
            "color": "#2a3f5f"
           }
          },
          "ternary": {
           "aaxis": {
            "gridcolor": "white",
            "linecolor": "white",
            "ticks": ""
           },
           "baxis": {
            "gridcolor": "white",
            "linecolor": "white",
            "ticks": ""
           },
           "bgcolor": "#E5ECF6",
           "caxis": {
            "gridcolor": "white",
            "linecolor": "white",
            "ticks": ""
           }
          },
          "title": {
           "x": 0.05
          },
          "xaxis": {
           "automargin": true,
           "gridcolor": "white",
           "linecolor": "white",
           "ticks": "",
           "title": {
            "standoff": 15
           },
           "zerolinecolor": "white",
           "zerolinewidth": 2
          },
          "yaxis": {
           "automargin": true,
           "gridcolor": "white",
           "linecolor": "white",
           "ticks": "",
           "title": {
            "standoff": 15
           },
           "zerolinecolor": "white",
           "zerolinewidth": 2
          }
         }
        },
        "xaxis": {
         "anchor": "y",
         "domain": [
          0,
          1
         ],
         "title": {
          "text": "user_id"
         }
        },
        "yaxis": {
         "anchor": "x",
         "domain": [
          0,
          1
         ],
         "title": {
          "text": ""
         }
        }
       }
      }
     },
     "metadata": {},
     "output_type": "display_data"
    }
   ],
   "source": [
    "color_palette = px.colors.qualitative.Safe\n",
    "fig = px.histogram(\n",
    "    human_h.groupby([\"th\", \"mod\"]).agg({\"user_id\": \"nunique\"}).reset_index(),\n",
    "    x=\"user_id\", histnorm=\"\", nbins=human_h.user_id.unique().shape[0], color=\"th\",\n",
    "    color_discrete_map=COLOR_PALETTE, opacity=0.75)\n",
    "fig.update_layout(barmode='group')\n",
    "fig.write_image(\"../visualisations/user_studies_common_mod.pdf\", format='pdf')\n",
    "fig.show()"
   ]
  },
  {
   "cell_type": "code",
   "execution_count": 36,
   "metadata": {},
   "outputs": [
    {
     "data": {
      "text/html": [
       "<div>\n",
       "<style scoped>\n",
       "    .dataframe tbody tr th:only-of-type {\n",
       "        vertical-align: middle;\n",
       "    }\n",
       "\n",
       "    .dataframe tbody tr th {\n",
       "        vertical-align: top;\n",
       "    }\n",
       "\n",
       "    .dataframe thead th {\n",
       "        text-align: right;\n",
       "    }\n",
       "</style>\n",
       "<table border=\"1\" class=\"dataframe\">\n",
       "  <thead>\n",
       "    <tr style=\"text-align: right;\">\n",
       "      <th></th>\n",
       "      <th>hypothesis</th>\n",
       "    </tr>\n",
       "    <tr>\n",
       "      <th>siv</th>\n",
       "      <th></th>\n",
       "    </tr>\n",
       "  </thead>\n",
       "  <tbody>\n",
       "    <tr>\n",
       "      <th>game incentive</th>\n",
       "      <td>18</td>\n",
       "    </tr>\n",
       "    <tr>\n",
       "      <th>leader's behavior</th>\n",
       "      <td>15</td>\n",
       "    </tr>\n",
       "    <tr>\n",
       "      <th>gender</th>\n",
       "      <td>13</td>\n",
       "    </tr>\n",
       "    <tr>\n",
       "      <th>svo type</th>\n",
       "      <td>11</td>\n",
       "    </tr>\n",
       "    <tr>\n",
       "      <th>partner's group membership</th>\n",
       "      <td>11</td>\n",
       "    </tr>\n",
       "    <tr>\n",
       "      <th>knowledge of partner's prior behavior</th>\n",
       "      <td>9</td>\n",
       "    </tr>\n",
       "    <tr>\n",
       "      <th>leadership</th>\n",
       "      <td>8</td>\n",
       "    </tr>\n",
       "    <tr>\n",
       "      <th>identification levell</th>\n",
       "      <td>7</td>\n",
       "    </tr>\n",
       "    <tr>\n",
       "      <th>anonymity manipulation</th>\n",
       "      <td>6</td>\n",
       "    </tr>\n",
       "    <tr>\n",
       "      <th>gossip</th>\n",
       "      <td>5</td>\n",
       "    </tr>\n",
       "    <tr>\n",
       "      <th>partner selection</th>\n",
       "      <td>5</td>\n",
       "    </tr>\n",
       "    <tr>\n",
       "      <th>individual difference</th>\n",
       "      <td>5</td>\n",
       "    </tr>\n",
       "    <tr>\n",
       "      <th>partner's gender is known</th>\n",
       "      <td>4</td>\n",
       "    </tr>\n",
       "    <tr>\n",
       "      <th>lottery incentive</th>\n",
       "      <td>4</td>\n",
       "    </tr>\n",
       "    <tr>\n",
       "      <th>knowledge of group membershipp</th>\n",
       "      <td>4</td>\n",
       "    </tr>\n",
       "    <tr>\n",
       "      <th>heterogeneous gender</th>\n",
       "      <td>3</td>\n",
       "    </tr>\n",
       "    <tr>\n",
       "      <th>one-shot vs repeated</th>\n",
       "      <td>3</td>\n",
       "    </tr>\n",
       "    <tr>\n",
       "      <th>group typee</th>\n",
       "      <td>3</td>\n",
       "    </tr>\n",
       "    <tr>\n",
       "      <th>show-up fee</th>\n",
       "      <td>3</td>\n",
       "    </tr>\n",
       "    <tr>\n",
       "      <th>leadership rolee</th>\n",
       "      <td>2</td>\n",
       "    </tr>\n",
       "    <tr>\n",
       "      <th>continuous vs step-level public goods</th>\n",
       "      <td>2</td>\n",
       "    </tr>\n",
       "    <tr>\n",
       "      <th>psychopathology</th>\n",
       "      <td>2</td>\n",
       "    </tr>\n",
       "    <tr>\n",
       "      <th>trust propensity</th>\n",
       "      <td>2</td>\n",
       "    </tr>\n",
       "    <tr>\n",
       "      <th>competitiveness</th>\n",
       "      <td>1</td>\n",
       "    </tr>\n",
       "    <tr>\n",
       "      <th>individual difference level</th>\n",
       "      <td>1</td>\n",
       "    </tr>\n",
       "    <tr>\n",
       "      <th>honesty-humility</th>\n",
       "      <td>1</td>\n",
       "    </tr>\n",
       "    <tr>\n",
       "      <th>empathy</th>\n",
       "      <td>1</td>\n",
       "    </tr>\n",
       "    <tr>\n",
       "      <th>concern for others</th>\n",
       "      <td>1</td>\n",
       "    </tr>\n",
       "  </tbody>\n",
       "</table>\n",
       "</div>"
      ],
      "text/plain": [
       "                                       hypothesis\n",
       "siv                                              \n",
       "game incentive                                 18\n",
       "leader's behavior                              15\n",
       "gender                                         13\n",
       "svo type                                       11\n",
       "partner's group membership                     11\n",
       "knowledge of partner's prior behavior           9\n",
       "leadership                                      8\n",
       "identification levell                           7\n",
       "anonymity manipulation                          6\n",
       "gossip                                          5\n",
       "partner selection                               5\n",
       "individual difference                           5\n",
       "partner's gender is known                       4\n",
       "lottery incentive                               4\n",
       "knowledge of group membershipp                  4\n",
       "heterogeneous gender                            3\n",
       "one-shot vs repeated                            3\n",
       "group typee                                     3\n",
       "show-up fee                                     3\n",
       "leadership rolee                                2\n",
       "continuous vs step-level public goods           2\n",
       "psychopathology                                 2\n",
       "trust propensity                                2\n",
       "competitiveness                                 1\n",
       "individual difference level                     1\n",
       "honesty-humility                                1\n",
       "empathy                                         1\n",
       "concern for others                              1"
      ]
     },
     "execution_count": 36,
     "metadata": {},
     "output_type": "execute_result"
    }
   ],
   "source": [
    "human_h.groupby([\"siv\"]).agg({\"hypothesis\": \"count\"}).sort_values(by=\"hypothesis\", ascending=False)"
   ]
  },
  {
   "cell_type": "code",
   "execution_count": 37,
   "metadata": {},
   "outputs": [
    {
     "data": {
      "text/html": [
       "<div>\n",
       "<style scoped>\n",
       "    .dataframe tbody tr th:only-of-type {\n",
       "        vertical-align: middle;\n",
       "    }\n",
       "\n",
       "    .dataframe tbody tr th {\n",
       "        vertical-align: top;\n",
       "    }\n",
       "\n",
       "    .dataframe thead th {\n",
       "        text-align: right;\n",
       "    }\n",
       "</style>\n",
       "<table border=\"1\" class=\"dataframe\">\n",
       "  <thead>\n",
       "    <tr style=\"text-align: right;\">\n",
       "      <th></th>\n",
       "      <th>hypothesis</th>\n",
       "    </tr>\n",
       "    <tr>\n",
       "      <th>mod</th>\n",
       "      <th></th>\n",
       "    </tr>\n",
       "  </thead>\n",
       "  <tbody>\n",
       "    <tr>\n",
       "      <th>leader's characteristicc</th>\n",
       "      <td>9</td>\n",
       "    </tr>\n",
       "    <tr>\n",
       "      <th>sanction</th>\n",
       "      <td>8</td>\n",
       "    </tr>\n",
       "    <tr>\n",
       "      <th>partner's group membership</th>\n",
       "      <td>6</td>\n",
       "    </tr>\n",
       "    <tr>\n",
       "      <th>discussion</th>\n",
       "      <td>5</td>\n",
       "    </tr>\n",
       "    <tr>\n",
       "      <th>matching</th>\n",
       "      <td>5</td>\n",
       "    </tr>\n",
       "    <tr>\n",
       "      <th>entitativity levell</th>\n",
       "      <td>5</td>\n",
       "    </tr>\n",
       "    <tr>\n",
       "      <th>leader's characteristic</th>\n",
       "      <td>5</td>\n",
       "    </tr>\n",
       "    <tr>\n",
       "      <th>academic discipline</th>\n",
       "      <td>4</td>\n",
       "    </tr>\n",
       "    <tr>\n",
       "      <th>group typee</th>\n",
       "      <td>4</td>\n",
       "    </tr>\n",
       "    <tr>\n",
       "      <th>game incentive</th>\n",
       "      <td>4</td>\n",
       "    </tr>\n",
       "    <tr>\n",
       "      <th>acquaintance</th>\n",
       "      <td>4</td>\n",
       "    </tr>\n",
       "    <tr>\n",
       "      <th>recruitment method</th>\n",
       "      <td>3</td>\n",
       "    </tr>\n",
       "    <tr>\n",
       "      <th>one-shot vs repeated</th>\n",
       "      <td>3</td>\n",
       "    </tr>\n",
       "    <tr>\n",
       "      <th>knowledge of group membershipp</th>\n",
       "      <td>3</td>\n",
       "    </tr>\n",
       "    <tr>\n",
       "      <th>game type</th>\n",
       "      <td>3</td>\n",
       "    </tr>\n",
       "    <tr>\n",
       "      <th>deception</th>\n",
       "      <td>3</td>\n",
       "    </tr>\n",
       "    <tr>\n",
       "      <th>endogenous leadershipp</th>\n",
       "      <td>2</td>\n",
       "    </tr>\n",
       "    <tr>\n",
       "      <th>knowledge of group membership</th>\n",
       "      <td>2</td>\n",
       "    </tr>\n",
       "    <tr>\n",
       "      <th>show-up fee</th>\n",
       "      <td>2</td>\n",
       "    </tr>\n",
       "    <tr>\n",
       "      <th>leader's behavior</th>\n",
       "      <td>2</td>\n",
       "    </tr>\n",
       "    <tr>\n",
       "      <th>leadership assignment rule</th>\n",
       "      <td>2</td>\n",
       "    </tr>\n",
       "    <tr>\n",
       "      <th>leadership assignment rulee</th>\n",
       "      <td>2</td>\n",
       "    </tr>\n",
       "    <tr>\n",
       "      <th>identification levell</th>\n",
       "      <td>2</td>\n",
       "    </tr>\n",
       "    <tr>\n",
       "      <th>endogenous leadership</th>\n",
       "      <td>2</td>\n",
       "    </tr>\n",
       "    <tr>\n",
       "      <th>identification level</th>\n",
       "      <td>1</td>\n",
       "    </tr>\n",
       "    <tr>\n",
       "      <th>student sample</th>\n",
       "      <td>1</td>\n",
       "    </tr>\n",
       "    <tr>\n",
       "      <th>continuous vs step-level public goods</th>\n",
       "      <td>1</td>\n",
       "    </tr>\n",
       "    <tr>\n",
       "      <th>leadership role</th>\n",
       "      <td>1</td>\n",
       "    </tr>\n",
       "    <tr>\n",
       "      <th>entitativity level</th>\n",
       "      <td>1</td>\n",
       "    </tr>\n",
       "    <tr>\n",
       "      <th>lottery incentive</th>\n",
       "      <td>1</td>\n",
       "    </tr>\n",
       "    <tr>\n",
       "      <th>experimental setting</th>\n",
       "      <td>1</td>\n",
       "    </tr>\n",
       "    <tr>\n",
       "      <th>known endgame</th>\n",
       "      <td>1</td>\n",
       "    </tr>\n",
       "    <tr>\n",
       "      <th>group type</th>\n",
       "      <td>1</td>\n",
       "    </tr>\n",
       "    <tr>\n",
       "      <th>symmetry</th>\n",
       "      <td>1</td>\n",
       "    </tr>\n",
       "  </tbody>\n",
       "</table>\n",
       "</div>"
      ],
      "text/plain": [
       "                                       hypothesis\n",
       "mod                                              \n",
       "leader's characteristicc                        9\n",
       "sanction                                        8\n",
       "partner's group membership                      6\n",
       "discussion                                      5\n",
       "matching                                        5\n",
       "entitativity levell                             5\n",
       "leader's characteristic                         5\n",
       "academic discipline                             4\n",
       "group typee                                     4\n",
       "game incentive                                  4\n",
       "acquaintance                                    4\n",
       "recruitment method                              3\n",
       "one-shot vs repeated                            3\n",
       "knowledge of group membershipp                  3\n",
       "game type                                       3\n",
       "deception                                       3\n",
       "endogenous leadershipp                          2\n",
       "knowledge of group membership                   2\n",
       "show-up fee                                     2\n",
       "leader's behavior                               2\n",
       "leadership assignment rule                      2\n",
       "leadership assignment rulee                     2\n",
       "identification levell                           2\n",
       "endogenous leadership                           2\n",
       "identification level                            1\n",
       "student sample                                  1\n",
       "continuous vs step-level public goods           1\n",
       "leadership role                                 1\n",
       "entitativity level                              1\n",
       "lottery incentive                               1\n",
       "experimental setting                            1\n",
       "known endgame                                   1\n",
       "group type                                      1\n",
       "symmetry                                        1"
      ]
     },
     "execution_count": 37,
     "metadata": {},
     "output_type": "execute_result"
    }
   ],
   "source": [
    "human_h.groupby([\"mod\"]).agg({\"hypothesis\": \"count\"}).sort_values(by=\"hypothesis\", ascending=False)"
   ]
  },
  {
   "cell_type": "markdown",
   "metadata": {},
   "source": [
    "## AI-generated hypotheses"
   ]
  },
  {
   "cell_type": "code",
   "execution_count": 38,
   "metadata": {},
   "outputs": [
    {
     "data": {
      "text/html": [
       "<div>\n",
       "<style scoped>\n",
       "    .dataframe tbody tr th:only-of-type {\n",
       "        vertical-align: middle;\n",
       "    }\n",
       "\n",
       "    .dataframe tbody tr th {\n",
       "        vertical-align: top;\n",
       "    }\n",
       "\n",
       "    .dataframe thead th {\n",
       "        text-align: right;\n",
       "    }\n",
       "</style>\n",
       "<table border=\"1\" class=\"dataframe\">\n",
       "  <thead>\n",
       "    <tr style=\"text-align: right;\">\n",
       "      <th></th>\n",
       "      <th>comparative</th>\n",
       "      <th>giv</th>\n",
       "      <th>hypothesis</th>\n",
       "      <th>i_orig</th>\n",
       "      <th>i_shuffled</th>\n",
       "      <th>m</th>\n",
       "      <th>mod</th>\n",
       "      <th>mod1</th>\n",
       "      <th>mod2</th>\n",
       "      <th>mod_val</th>\n",
       "      <th>score</th>\n",
       "      <th>siv</th>\n",
       "      <th>sivv1</th>\n",
       "      <th>sivv2</th>\n",
       "      <th>th</th>\n",
       "      <th>user_id</th>\n",
       "    </tr>\n",
       "  </thead>\n",
       "  <tbody>\n",
       "    <tr>\n",
       "      <th>69</th>\n",
       "      <td>lower</td>\n",
       "      <td>GenderVariable</td>\n",
       "      <td>when comparing studies where gender is female ...</td>\n",
       "      <td>1</td>\n",
       "      <td>1</td>\n",
       "      <td>classification</td>\n",
       "      <td>acquaintance</td>\n",
       "      <td>None</td>\n",
       "      <td>None</td>\n",
       "      <td>acquaintance</td>\n",
       "      <td>2</td>\n",
       "      <td>gender</td>\n",
       "      <td>female</td>\n",
       "      <td>male</td>\n",
       "      <td>study_mod</td>\n",
       "      <td>4</td>\n",
       "    </tr>\n",
       "    <tr>\n",
       "      <th>86</th>\n",
       "      <td>higher</td>\n",
       "      <td>GenderVariable</td>\n",
       "      <td>when comparing studies where gender is female ...</td>\n",
       "      <td>4</td>\n",
       "      <td>5</td>\n",
       "      <td>anyburl</td>\n",
       "      <td>has country</td>\n",
       "      <td>None</td>\n",
       "      <td>None</td>\n",
       "      <td>can</td>\n",
       "      <td>1</td>\n",
       "      <td>gender</td>\n",
       "      <td>female</td>\n",
       "      <td>male</td>\n",
       "      <td>study_mod</td>\n",
       "      <td>1</td>\n",
       "    </tr>\n",
       "    <tr>\n",
       "      <th>94</th>\n",
       "      <td>lower</td>\n",
       "      <td>IncentivesVariable</td>\n",
       "      <td>when comparing studies where game incentive is...</td>\n",
       "      <td>4</td>\n",
       "      <td>0</td>\n",
       "      <td>anyburl</td>\n",
       "      <td>has country</td>\n",
       "      <td>None</td>\n",
       "      <td>None</td>\n",
       "      <td>usa</td>\n",
       "      <td>1</td>\n",
       "      <td>game incentive</td>\n",
       "      <td>monetary</td>\n",
       "      <td>non-monetary material</td>\n",
       "      <td>study_mod</td>\n",
       "      <td>4</td>\n",
       "    </tr>\n",
       "  </tbody>\n",
       "</table>\n",
       "</div>"
      ],
      "text/plain": [
       "   comparative                 giv  \\\n",
       "69       lower      GenderVariable   \n",
       "86      higher      GenderVariable   \n",
       "94       lower  IncentivesVariable   \n",
       "\n",
       "                                           hypothesis  i_orig i_shuffled  \\\n",
       "69  when comparing studies where gender is female ...       1          1   \n",
       "86  when comparing studies where gender is female ...       4          5   \n",
       "94  when comparing studies where game incentive is...       4          0   \n",
       "\n",
       "                 m           mod  mod1  mod2       mod_val  score  \\\n",
       "69  classification  acquaintance  None  None  acquaintance      2   \n",
       "86         anyburl   has country  None  None           can      1   \n",
       "94         anyburl   has country  None  None           usa      1   \n",
       "\n",
       "               siv     sivv1                  sivv2         th  user_id  \n",
       "69          gender    female                   male  study_mod        4  \n",
       "86          gender    female                   male  study_mod        1  \n",
       "94  game incentive  monetary  non-monetary material  study_mod        4  "
      ]
     },
     "execution_count": 38,
     "metadata": {},
     "output_type": "execute_result"
    }
   ],
   "source": [
    "ai_h_start_col = \"Please rank the following 6 hypotheses on a scale of 1 to 5\"\n",
    "ai_h_orig = all_results[[x for x in all_results.columns if x.startswith(ai_h_start_col)]]\n",
    "ai_h_orig.columns = [f\"{ho}_{i}\" for ho in H_ORDER for i in range(6)]\n",
    "\n",
    "ai_h = pd.DataFrame(columns=[\"user_id\", \"score\", \"th\", \"giv\", \"i_shuffled\"])\n",
    "\n",
    "def update_row_ai(row, val):\n",
    "    th = \"_\".join(val.split(\"_\")[:-1])\n",
    "    row[\"th\"] = th\n",
    "    row[\"giv\"] = val.split(\"_\")[-1]\n",
    "\n",
    "    return row\n",
    "\n",
    "def update_row_ai_2(row):\n",
    "    row[\"h\"] = row[\"h\"].lower()\n",
    "    th = row[\"th\"]\n",
    "    for regex in TEMPLATES_REGEX[th]:\n",
    "        matches = list(re.finditer(regex, row[\"h\"], re.MULTILINE))\n",
    "        if matches:\n",
    "            grouped = list(matches)[0].groups()\n",
    "            vals = {var: grouped[index] for index, var in enumerate(TEMPLATES_VAR[th])}\n",
    "            for col in COLS_VAR:\n",
    "                row[col] = vals.get(col, None)\n",
    "            break\n",
    "\n",
    "    return row\n",
    "\n",
    "for ho in H_ORDER:\n",
    "    for i in range(6):\n",
    "        curr_df = ai_h_orig[[f\"{ho}_{i}\"]].rename(columns={f\"{ho}_{i}\": \"score\"})\n",
    "        curr_df[\"user_id\"] = curr_df.index\n",
    "        curr_df[\"i_shuffled\"] = str(i)\n",
    "        curr_df = curr_df.apply(lambda row: update_row_ai(row, ho), axis=1)\n",
    "        ai_h = pd.concat([ai_h, curr_df])\n",
    "    \n",
    "ai_h = ai_h.reset_index(drop=True)\n",
    "ai_h_metadata = pd.read_csv(\"hypotheses.csv\", index_col=0)\n",
    "ai_h_metadata.i_shuffled = ai_h_metadata.i_shuffled.astype(str)\n",
    "ai_h = pd.merge(ai_h, ai_h_metadata, on=['th', 'giv', 'i_shuffled'], how='left')\n",
    "ai_h = ai_h.apply(update_row_ai_2, axis=1).rename(columns={\"h\": \"hypothesis\"})\n",
    "ai_h.sample(3)"
   ]
  },
  {
   "cell_type": "code",
   "execution_count": 39,
   "metadata": {},
   "outputs": [
    {
     "name": "stderr",
     "output_type": "stream",
     "text": [
      "/var/folders/p9/2gjyjx2x3pjb2m5w91srfdq40000gp/T/ipykernel_41946/411892951.py:17: FutureWarning:\n",
      "\n",
      "The behavior of DataFrame concatenation with empty or all-NA entries is deprecated. In a future version, this will no longer exclude empty or all-NA columns when determining the result dtypes. To retain the old behavior, exclude the relevant entries before the concat operation.\n",
      "\n"
     ]
    },
    {
     "data": {
      "text/html": [
       "<div>\n",
       "<style scoped>\n",
       "    .dataframe tbody tr th:only-of-type {\n",
       "        vertical-align: middle;\n",
       "    }\n",
       "\n",
       "    .dataframe tbody tr th {\n",
       "        vertical-align: top;\n",
       "    }\n",
       "\n",
       "    .dataframe thead th {\n",
       "        text-align: right;\n",
       "    }\n",
       "</style>\n",
       "<table border=\"1\" class=\"dataframe\">\n",
       "  <thead>\n",
       "    <tr style=\"text-align: right;\">\n",
       "      <th></th>\n",
       "      <th>name</th>\n",
       "      <th>type</th>\n",
       "      <th>h_nb</th>\n",
       "      <th>h_perc</th>\n",
       "      <th>m</th>\n",
       "    </tr>\n",
       "  </thead>\n",
       "  <tbody>\n",
       "    <tr>\n",
       "      <th>0</th>\n",
       "      <td>anonymity manipulation</td>\n",
       "      <td>siv</td>\n",
       "      <td>2</td>\n",
       "      <td>5.555556</td>\n",
       "      <td>ai</td>\n",
       "    </tr>\n",
       "    <tr>\n",
       "      <th>1</th>\n",
       "      <td>game incentive</td>\n",
       "      <td>siv</td>\n",
       "      <td>6</td>\n",
       "      <td>16.666667</td>\n",
       "      <td>ai</td>\n",
       "    </tr>\n",
       "    <tr>\n",
       "      <th>2</th>\n",
       "      <td>gender</td>\n",
       "      <td>siv</td>\n",
       "      <td>4</td>\n",
       "      <td>11.111111</td>\n",
       "      <td>ai</td>\n",
       "    </tr>\n",
       "    <tr>\n",
       "      <th>3</th>\n",
       "      <td>heterogeneous gender</td>\n",
       "      <td>siv</td>\n",
       "      <td>2</td>\n",
       "      <td>5.555556</td>\n",
       "      <td>ai</td>\n",
       "    </tr>\n",
       "    <tr>\n",
       "      <th>4</th>\n",
       "      <td>identification level</td>\n",
       "      <td>siv</td>\n",
       "      <td>2</td>\n",
       "      <td>5.555556</td>\n",
       "      <td>ai</td>\n",
       "    </tr>\n",
       "    <tr>\n",
       "      <th>...</th>\n",
       "      <td>...</td>\n",
       "      <td>...</td>\n",
       "      <td>...</td>\n",
       "      <td>...</td>\n",
       "      <td>...</td>\n",
       "    </tr>\n",
       "    <tr>\n",
       "      <th>29</th>\n",
       "      <td>recruitment method</td>\n",
       "      <td>mod</td>\n",
       "      <td>3</td>\n",
       "      <td>2.000000</td>\n",
       "      <td>human</td>\n",
       "    </tr>\n",
       "    <tr>\n",
       "      <th>30</th>\n",
       "      <td>sanction</td>\n",
       "      <td>mod</td>\n",
       "      <td>8</td>\n",
       "      <td>5.333333</td>\n",
       "      <td>human</td>\n",
       "    </tr>\n",
       "    <tr>\n",
       "      <th>31</th>\n",
       "      <td>show-up fee</td>\n",
       "      <td>mod</td>\n",
       "      <td>2</td>\n",
       "      <td>1.333333</td>\n",
       "      <td>human</td>\n",
       "    </tr>\n",
       "    <tr>\n",
       "      <th>32</th>\n",
       "      <td>student sample</td>\n",
       "      <td>mod</td>\n",
       "      <td>1</td>\n",
       "      <td>0.666667</td>\n",
       "      <td>human</td>\n",
       "    </tr>\n",
       "    <tr>\n",
       "      <th>33</th>\n",
       "      <td>symmetry</td>\n",
       "      <td>mod</td>\n",
       "      <td>1</td>\n",
       "      <td>0.666667</td>\n",
       "      <td>human</td>\n",
       "    </tr>\n",
       "  </tbody>\n",
       "</table>\n",
       "<p>84 rows × 5 columns</p>\n",
       "</div>"
      ],
      "text/plain": [
       "                      name type h_nb     h_perc      m\n",
       "0   anonymity manipulation  siv    2   5.555556     ai\n",
       "1           game incentive  siv    6  16.666667     ai\n",
       "2                   gender  siv    4  11.111111     ai\n",
       "3     heterogeneous gender  siv    2   5.555556     ai\n",
       "4     identification level  siv    2   5.555556     ai\n",
       "..                     ...  ...  ...        ...    ...\n",
       "29      recruitment method  mod    3   2.000000  human\n",
       "30                sanction  mod    8   5.333333  human\n",
       "31             show-up fee  mod    2   1.333333  human\n",
       "32          student sample  mod    1   0.666667  human\n",
       "33                symmetry  mod    1   0.666667  human\n",
       "\n",
       "[84 rows x 5 columns]"
      ]
     },
     "execution_count": 39,
     "metadata": {},
     "output_type": "execute_result"
    }
   ],
   "source": [
    "df_comparison_siv_mod = pd.DataFrame(columns=[\"name\", \"type\", \"h_nb\", \"h_perc\", \"m\"])\n",
    "\n",
    "def helper(x):\n",
    "    if x[-1] == x[-2] and not x.endswith(\"fee\"):\n",
    "        return x[:-1]\n",
    "    return x\n",
    "\n",
    "for df, m in [(ai_h[ai_h.user_id==0], \"ai\"), (human_h, \"human\")]:\n",
    "    nb = df.shape[0]\n",
    "    for t in [\"siv\", \"mod\"]:\n",
    "        curr_df = df.groupby([t]).agg({\"hypothesis\": \"count\"}).reset_index() \\\n",
    "            .rename(columns={t: \"name\", \"hypothesis\": \"h_nb\"})\n",
    "        curr_df[\"name\"] = curr_df[\"name\"].apply(helper)\n",
    "        curr_df[\"type\"] = t\n",
    "        curr_df[\"h_perc\"] = 100 * curr_df[\"h_nb\"] / nb\n",
    "        curr_df[\"m\"] = m\n",
    "        df_comparison_siv_mod = pd.concat([df_comparison_siv_mod, curr_df])\n",
    "df_comparison_siv_mod"
   ]
  },
  {
   "cell_type": "code",
   "execution_count": 71,
   "metadata": {},
   "outputs": [
    {
     "data": {
      "text/html": [
       "<div>\n",
       "<style scoped>\n",
       "    .dataframe tbody tr th:only-of-type {\n",
       "        vertical-align: middle;\n",
       "    }\n",
       "\n",
       "    .dataframe tbody tr th {\n",
       "        vertical-align: top;\n",
       "    }\n",
       "\n",
       "    .dataframe thead th {\n",
       "        text-align: right;\n",
       "    }\n",
       "</style>\n",
       "<table border=\"1\" class=\"dataframe\">\n",
       "  <thead>\n",
       "    <tr style=\"text-align: right;\">\n",
       "      <th></th>\n",
       "      <th>name</th>\n",
       "      <th>type</th>\n",
       "      <th>h_nb</th>\n",
       "      <th>h_perc</th>\n",
       "      <th>m</th>\n",
       "    </tr>\n",
       "  </thead>\n",
       "  <tbody>\n",
       "    <tr>\n",
       "      <th>2</th>\n",
       "      <td>gender</td>\n",
       "      <td>siv</td>\n",
       "      <td>4</td>\n",
       "      <td>11.111111</td>\n",
       "      <td>ai</td>\n",
       "    </tr>\n",
       "    <tr>\n",
       "      <th>6</th>\n",
       "      <td>gender</td>\n",
       "      <td>siv</td>\n",
       "      <td>13</td>\n",
       "      <td>8.666667</td>\n",
       "      <td>human</td>\n",
       "    </tr>\n",
       "  </tbody>\n",
       "</table>\n",
       "</div>"
      ],
      "text/plain": [
       "     name type h_nb     h_perc      m\n",
       "2  gender  siv    4  11.111111     ai\n",
       "6  gender  siv   13   8.666667  human"
      ]
     },
     "execution_count": 71,
     "metadata": {},
     "output_type": "execute_result"
    }
   ],
   "source": [
    "df_comparison_siv_mod[df_comparison_siv_mod.name==\"gender\"]"
   ]
  },
  {
   "cell_type": "code",
   "execution_count": 40,
   "metadata": {},
   "outputs": [
    {
     "data": {
      "text/html": [
       "<div>\n",
       "<style scoped>\n",
       "    .dataframe tbody tr th:only-of-type {\n",
       "        vertical-align: middle;\n",
       "    }\n",
       "\n",
       "    .dataframe tbody tr th {\n",
       "        vertical-align: top;\n",
       "    }\n",
       "\n",
       "    .dataframe thead th {\n",
       "        text-align: right;\n",
       "    }\n",
       "</style>\n",
       "<table border=\"1\" class=\"dataframe\">\n",
       "  <thead>\n",
       "    <tr style=\"text-align: right;\">\n",
       "      <th>m</th>\n",
       "      <th>name</th>\n",
       "      <th>type</th>\n",
       "      <th>ai</th>\n",
       "      <th>human</th>\n",
       "      <th>diff</th>\n",
       "    </tr>\n",
       "  </thead>\n",
       "  <tbody>\n",
       "    <tr>\n",
       "      <th>24</th>\n",
       "      <td>identification level</td>\n",
       "      <td>siv</td>\n",
       "      <td>5.555556</td>\n",
       "      <td>4.666667</td>\n",
       "      <td>0.888889</td>\n",
       "    </tr>\n",
       "    <tr>\n",
       "      <th>2</th>\n",
       "      <td>anonymity manipulation</td>\n",
       "      <td>siv</td>\n",
       "      <td>5.555556</td>\n",
       "      <td>4.000000</td>\n",
       "      <td>1.555556</td>\n",
       "    </tr>\n",
       "    <tr>\n",
       "      <th>47</th>\n",
       "      <td>partner's group membership</td>\n",
       "      <td>siv</td>\n",
       "      <td>5.555556</td>\n",
       "      <td>7.333333</td>\n",
       "      <td>1.777778</td>\n",
       "    </tr>\n",
       "    <tr>\n",
       "      <th>16</th>\n",
       "      <td>gender</td>\n",
       "      <td>siv</td>\n",
       "      <td>11.111111</td>\n",
       "      <td>8.666667</td>\n",
       "      <td>2.444444</td>\n",
       "    </tr>\n",
       "    <tr>\n",
       "      <th>13</th>\n",
       "      <td>game incentive</td>\n",
       "      <td>mod</td>\n",
       "      <td>5.555556</td>\n",
       "      <td>2.666667</td>\n",
       "      <td>2.888889</td>\n",
       "    </tr>\n",
       "    <tr>\n",
       "      <th>28</th>\n",
       "      <td>knowledge of group membership</td>\n",
       "      <td>siv</td>\n",
       "      <td>5.555556</td>\n",
       "      <td>2.666667</td>\n",
       "      <td>2.888889</td>\n",
       "    </tr>\n",
       "    <tr>\n",
       "      <th>29</th>\n",
       "      <td>knowledge of partner's prior behavior</td>\n",
       "      <td>siv</td>\n",
       "      <td>2.777778</td>\n",
       "      <td>6.000000</td>\n",
       "      <td>3.222222</td>\n",
       "    </tr>\n",
       "    <tr>\n",
       "      <th>21</th>\n",
       "      <td>heterogeneous gender</td>\n",
       "      <td>siv</td>\n",
       "      <td>5.555556</td>\n",
       "      <td>2.000000</td>\n",
       "      <td>3.555556</td>\n",
       "    </tr>\n",
       "    <tr>\n",
       "      <th>33</th>\n",
       "      <td>leader's characteristic</td>\n",
       "      <td>mod</td>\n",
       "      <td>8.333333</td>\n",
       "      <td>4.666667</td>\n",
       "      <td>3.666667</td>\n",
       "    </tr>\n",
       "    <tr>\n",
       "      <th>55</th>\n",
       "      <td>svo type</td>\n",
       "      <td>siv</td>\n",
       "      <td>11.111111</td>\n",
       "      <td>7.333333</td>\n",
       "      <td>3.777778</td>\n",
       "    </tr>\n",
       "    <tr>\n",
       "      <th>14</th>\n",
       "      <td>game incentive</td>\n",
       "      <td>siv</td>\n",
       "      <td>16.666667</td>\n",
       "      <td>12.000000</td>\n",
       "      <td>4.666667</td>\n",
       "    </tr>\n",
       "    <tr>\n",
       "      <th>56</th>\n",
       "      <td>symmetry</td>\n",
       "      <td>mod</td>\n",
       "      <td>5.555556</td>\n",
       "      <td>0.666667</td>\n",
       "      <td>4.888889</td>\n",
       "    </tr>\n",
       "    <tr>\n",
       "      <th>34</th>\n",
       "      <td>leadership</td>\n",
       "      <td>siv</td>\n",
       "      <td>0.000000</td>\n",
       "      <td>5.333333</td>\n",
       "      <td>5.333333</td>\n",
       "    </tr>\n",
       "    <tr>\n",
       "      <th>50</th>\n",
       "      <td>sanction</td>\n",
       "      <td>mod</td>\n",
       "      <td>0.000000</td>\n",
       "      <td>5.333333</td>\n",
       "      <td>5.333333</td>\n",
       "    </tr>\n",
       "    <tr>\n",
       "      <th>20</th>\n",
       "      <td>has country</td>\n",
       "      <td>mod</td>\n",
       "      <td>5.555556</td>\n",
       "      <td>0.000000</td>\n",
       "      <td>5.555556</td>\n",
       "    </tr>\n",
       "    <tr>\n",
       "      <th>10</th>\n",
       "      <td>endogenous leadership</td>\n",
       "      <td>mod</td>\n",
       "      <td>8.333333</td>\n",
       "      <td>1.333333</td>\n",
       "      <td>7.000000</td>\n",
       "    </tr>\n",
       "    <tr>\n",
       "      <th>46</th>\n",
       "      <td>partner's group membership</td>\n",
       "      <td>mod</td>\n",
       "      <td>11.111111</td>\n",
       "      <td>4.000000</td>\n",
       "      <td>7.111111</td>\n",
       "    </tr>\n",
       "    <tr>\n",
       "      <th>32</th>\n",
       "      <td>leader's behavior</td>\n",
       "      <td>siv</td>\n",
       "      <td>0.000000</td>\n",
       "      <td>10.000000</td>\n",
       "      <td>10.000000</td>\n",
       "    </tr>\n",
       "    <tr>\n",
       "      <th>53</th>\n",
       "      <td>source of country or region</td>\n",
       "      <td>mod</td>\n",
       "      <td>11.111111</td>\n",
       "      <td>0.000000</td>\n",
       "      <td>11.111111</td>\n",
       "    </tr>\n",
       "    <tr>\n",
       "      <th>36</th>\n",
       "      <td>leadership assignment rule</td>\n",
       "      <td>siv</td>\n",
       "      <td>16.666667</td>\n",
       "      <td>0.000000</td>\n",
       "      <td>16.666667</td>\n",
       "    </tr>\n",
       "  </tbody>\n",
       "</table>\n",
       "</div>"
      ],
      "text/plain": [
       "m                                    name type         ai      human  \\\n",
       "24                   identification level  siv   5.555556   4.666667   \n",
       "2                  anonymity manipulation  siv   5.555556   4.000000   \n",
       "47             partner's group membership  siv   5.555556   7.333333   \n",
       "16                                 gender  siv  11.111111   8.666667   \n",
       "13                         game incentive  mod   5.555556   2.666667   \n",
       "28          knowledge of group membership  siv   5.555556   2.666667   \n",
       "29  knowledge of partner's prior behavior  siv   2.777778   6.000000   \n",
       "21                   heterogeneous gender  siv   5.555556   2.000000   \n",
       "33                leader's characteristic  mod   8.333333   4.666667   \n",
       "55                               svo type  siv  11.111111   7.333333   \n",
       "14                         game incentive  siv  16.666667  12.000000   \n",
       "56                               symmetry  mod   5.555556   0.666667   \n",
       "34                             leadership  siv   0.000000   5.333333   \n",
       "50                               sanction  mod   0.000000   5.333333   \n",
       "20                            has country  mod   5.555556   0.000000   \n",
       "10                  endogenous leadership  mod   8.333333   1.333333   \n",
       "46             partner's group membership  mod  11.111111   4.000000   \n",
       "32                      leader's behavior  siv   0.000000  10.000000   \n",
       "53            source of country or region  mod  11.111111   0.000000   \n",
       "36             leadership assignment rule  siv  16.666667   0.000000   \n",
       "\n",
       "m        diff  \n",
       "24   0.888889  \n",
       "2    1.555556  \n",
       "47   1.777778  \n",
       "16   2.444444  \n",
       "13   2.888889  \n",
       "28   2.888889  \n",
       "29   3.222222  \n",
       "21   3.555556  \n",
       "33   3.666667  \n",
       "55   3.777778  \n",
       "14   4.666667  \n",
       "56   4.888889  \n",
       "34   5.333333  \n",
       "50   5.333333  \n",
       "20   5.555556  \n",
       "10   7.000000  \n",
       "46   7.111111  \n",
       "32  10.000000  \n",
       "53  11.111111  \n",
       "36  16.666667  "
      ]
     },
     "execution_count": 40,
     "metadata": {},
     "output_type": "execute_result"
    }
   ],
   "source": [
    "df_comparison_siv_mod_pivot = df_comparison_siv_mod.pivot_table(index=['name', 'type'], columns='m', values='h_perc').reset_index().fillna(0)\n",
    "df_comparison_siv_mod_pivot[\"diff\"] = abs(df_comparison_siv_mod_pivot[\"ai\"]-df_comparison_siv_mod_pivot[\"human\"])\n",
    "df_comparison_siv_mod_pivot[(df_comparison_siv_mod_pivot.ai>5) | (df_comparison_siv_mod_pivot.human>5)].sort_values(by=\"diff\")"
   ]
  },
  {
   "cell_type": "code",
   "execution_count": 41,
   "metadata": {},
   "outputs": [
    {
     "data": {
      "text/html": [
       "<div>\n",
       "<style scoped>\n",
       "    .dataframe tbody tr th:only-of-type {\n",
       "        vertical-align: middle;\n",
       "    }\n",
       "\n",
       "    .dataframe tbody tr th {\n",
       "        vertical-align: top;\n",
       "    }\n",
       "\n",
       "    .dataframe thead th {\n",
       "        text-align: right;\n",
       "    }\n",
       "</style>\n",
       "<table border=\"1\" class=\"dataframe\">\n",
       "  <thead>\n",
       "    <tr style=\"text-align: right;\">\n",
       "      <th></th>\n",
       "      <th>hypothesis</th>\n",
       "    </tr>\n",
       "    <tr>\n",
       "      <th>siv</th>\n",
       "      <th></th>\n",
       "    </tr>\n",
       "  </thead>\n",
       "  <tbody>\n",
       "    <tr>\n",
       "      <th>game incentive</th>\n",
       "      <td>6</td>\n",
       "    </tr>\n",
       "    <tr>\n",
       "      <th>leadership assignment rule</th>\n",
       "      <td>6</td>\n",
       "    </tr>\n",
       "    <tr>\n",
       "      <th>gender</th>\n",
       "      <td>4</td>\n",
       "    </tr>\n",
       "    <tr>\n",
       "      <th>svo type</th>\n",
       "      <td>4</td>\n",
       "    </tr>\n",
       "    <tr>\n",
       "      <th>anonymity manipulation</th>\n",
       "      <td>2</td>\n",
       "    </tr>\n",
       "    <tr>\n",
       "      <th>heterogeneous gender</th>\n",
       "      <td>2</td>\n",
       "    </tr>\n",
       "    <tr>\n",
       "      <th>identification level</th>\n",
       "      <td>2</td>\n",
       "    </tr>\n",
       "    <tr>\n",
       "      <th>knowledge of group membership</th>\n",
       "      <td>2</td>\n",
       "    </tr>\n",
       "    <tr>\n",
       "      <th>partner's group membership</th>\n",
       "      <td>2</td>\n",
       "    </tr>\n",
       "    <tr>\n",
       "      <th>knowledge of partner's prior behavior</th>\n",
       "      <td>1</td>\n",
       "    </tr>\n",
       "    <tr>\n",
       "      <th>partner selection</th>\n",
       "      <td>1</td>\n",
       "    </tr>\n",
       "  </tbody>\n",
       "</table>\n",
       "</div>"
      ],
      "text/plain": [
       "                                       hypothesis\n",
       "siv                                              \n",
       "game incentive                                  6\n",
       "leadership assignment rule                      6\n",
       "gender                                          4\n",
       "svo type                                        4\n",
       "anonymity manipulation                          2\n",
       "heterogeneous gender                            2\n",
       "identification level                            2\n",
       "knowledge of group membership                   2\n",
       "partner's group membership                      2\n",
       "knowledge of partner's prior behavior           1\n",
       "partner selection                               1"
      ]
     },
     "execution_count": 41,
     "metadata": {},
     "output_type": "execute_result"
    }
   ],
   "source": [
    "ai_h[ai_h.user_id==0].groupby([\"siv\"]).agg({\"hypothesis\": \"count\"}).sort_values(by=\"hypothesis\", ascending=False)"
   ]
  },
  {
   "cell_type": "code",
   "execution_count": 43,
   "metadata": {},
   "outputs": [
    {
     "data": {
      "text/html": [
       "<div>\n",
       "<style scoped>\n",
       "    .dataframe tbody tr th:only-of-type {\n",
       "        vertical-align: middle;\n",
       "    }\n",
       "\n",
       "    .dataframe tbody tr th {\n",
       "        vertical-align: top;\n",
       "    }\n",
       "\n",
       "    .dataframe thead th {\n",
       "        text-align: right;\n",
       "    }\n",
       "</style>\n",
       "<table border=\"1\" class=\"dataframe\">\n",
       "  <thead>\n",
       "    <tr style=\"text-align: right;\">\n",
       "      <th></th>\n",
       "      <th>hypothesis</th>\n",
       "    </tr>\n",
       "    <tr>\n",
       "      <th>mod</th>\n",
       "      <th></th>\n",
       "    </tr>\n",
       "  </thead>\n",
       "  <tbody>\n",
       "    <tr>\n",
       "      <th>partner's group membership</th>\n",
       "      <td>4</td>\n",
       "    </tr>\n",
       "    <tr>\n",
       "      <th>source of country or region</th>\n",
       "      <td>4</td>\n",
       "    </tr>\n",
       "    <tr>\n",
       "      <th>endogenous leadership</th>\n",
       "      <td>3</td>\n",
       "    </tr>\n",
       "    <tr>\n",
       "      <th>leader's characteristic</th>\n",
       "      <td>3</td>\n",
       "    </tr>\n",
       "    <tr>\n",
       "      <th>game incentive</th>\n",
       "      <td>2</td>\n",
       "    </tr>\n",
       "    <tr>\n",
       "      <th>has country</th>\n",
       "      <td>2</td>\n",
       "    </tr>\n",
       "    <tr>\n",
       "      <th>symmetry</th>\n",
       "      <td>2</td>\n",
       "    </tr>\n",
       "    <tr>\n",
       "      <th>acquaintance</th>\n",
       "      <td>1</td>\n",
       "    </tr>\n",
       "    <tr>\n",
       "      <th>identification level</th>\n",
       "      <td>1</td>\n",
       "    </tr>\n",
       "    <tr>\n",
       "      <th>knowledge of group membership</th>\n",
       "      <td>1</td>\n",
       "    </tr>\n",
       "    <tr>\n",
       "      <th>recruitment method</th>\n",
       "      <td>1</td>\n",
       "    </tr>\n",
       "  </tbody>\n",
       "</table>\n",
       "</div>"
      ],
      "text/plain": [
       "                               hypothesis\n",
       "mod                                      \n",
       "partner's group membership              4\n",
       "source of country or region             4\n",
       "endogenous leadership                   3\n",
       "leader's characteristic                 3\n",
       "game incentive                          2\n",
       "has country                             2\n",
       "symmetry                                2\n",
       "acquaintance                            1\n",
       "identification level                    1\n",
       "knowledge of group membership           1\n",
       "recruitment method                      1"
      ]
     },
     "execution_count": 43,
     "metadata": {},
     "output_type": "execute_result"
    }
   ],
   "source": [
    "ai_h[ai_h.user_id==0].groupby([\"mod\"]).agg({\"hypothesis\": \"count\"}).sort_values(by=\"hypothesis\", ascending=False)"
   ]
  },
  {
   "cell_type": "code",
   "execution_count": 44,
   "metadata": {},
   "outputs": [
    {
     "name": "stdout",
     "output_type": "stream",
     "text": [
      "0.1463670126654604 0.28631741253350035\n"
     ]
    },
    {
     "name": "stderr",
     "output_type": "stream",
     "text": [
      "/var/folders/p9/2gjyjx2x3pjb2m5w91srfdq40000gp/T/ipykernel_41946/2384889223.py:2: SettingWithCopyWarning:\n",
      "\n",
      "\n",
      "A value is trying to be set on a copy of a slice from a DataFrame.\n",
      "Try using .loc[row_indexer,col_indexer] = value instead\n",
      "\n",
      "See the caveats in the documentation: https://pandas.pydata.org/pandas-docs/stable/user_guide/indexing.html#returning-a-view-versus-a-copy\n",
      "\n"
     ]
    }
   ],
   "source": [
    "data_agreement = ai_h[[\"th\", \"giv\", \"i_shuffled\", \"m\", \"score\", \"user_id\"]]\n",
    "data_agreement[\"q_id\"] = data_agreement[\"th\"] + '_' + data_agreement[\"giv\"] + '_' + \\\n",
    "    data_agreement[\"i_shuffled\"] + '_' + data_agreement[\"m\"]\n",
    "data_agreement = data_agreement[[\"q_id\", \"user_id\", \"score\"]].values\n",
    "\n",
    "questions_answers_table = pivot_table_frequency(data_agreement[:, 0], data_agreement[:, 2])\n",
    "users_answers_table = pivot_table_frequency(data_agreement[:, 1], data_agreement[:, 2])\n",
    "\n",
    "kappa = cohens_kappa(questions_answers_table, users_answers_table)\n",
    "weighted_kappa = cohens_kappa(questions_answers_table, users_answers_table, weights_kernel=quadratic_kernel)\n",
    "print(kappa, weighted_kappa)\n"
   ]
  },
  {
   "cell_type": "code",
   "execution_count": 45,
   "metadata": {},
   "outputs": [
    {
     "data": {
      "application/vnd.plotly.v1+json": {
       "config": {
        "plotlyServerURL": "https://plot.ly"
       },
       "data": [
        {
         "alignmentgroup": "True",
         "boxpoints": "all",
         "hovertemplate": "m=classification<br>th=%{x}<br>score=%{y}<extra></extra>",
         "legendgroup": "classification",
         "marker": {
          "color": "rgb(204, 102, 119)"
         },
         "name": "classification",
         "notched": false,
         "offsetgroup": "classification",
         "orientation": "v",
         "showlegend": true,
         "type": "box",
         "x": [
          "regular",
          "regular",
          "regular",
          "regular",
          "regular",
          "regular",
          "regular",
          "regular",
          "regular",
          "regular",
          "regular",
          "regular",
          "regular",
          "regular",
          "regular",
          "regular",
          "regular",
          "regular",
          "regular",
          "regular",
          "study_mod",
          "study_mod",
          "study_mod",
          "study_mod",
          "study_mod",
          "study_mod",
          "study_mod",
          "study_mod",
          "study_mod",
          "study_mod",
          "study_mod",
          "study_mod",
          "study_mod",
          "study_mod",
          "study_mod",
          "study_mod",
          "study_mod",
          "study_mod",
          "study_mod",
          "study_mod",
          "var_mod",
          "var_mod",
          "var_mod",
          "var_mod",
          "var_mod",
          "var_mod",
          "var_mod",
          "var_mod",
          "var_mod",
          "var_mod",
          "var_mod",
          "var_mod",
          "var_mod",
          "var_mod",
          "var_mod",
          "var_mod",
          "var_mod",
          "var_mod",
          "var_mod",
          "var_mod"
         ],
         "x0": " ",
         "xaxis": "x",
         "y": [
          3,
          2,
          3,
          3,
          3,
          4,
          4,
          1,
          4,
          3,
          3,
          3,
          3,
          5,
          5,
          4,
          3,
          4,
          5,
          5,
          1,
          1,
          1,
          2,
          2,
          2,
          2,
          2,
          3,
          2,
          1,
          1,
          1,
          3,
          1,
          1,
          1,
          1,
          2,
          1,
          4,
          2,
          1,
          5,
          2,
          4,
          2,
          1,
          5,
          2,
          2,
          3,
          5,
          5,
          3,
          4,
          3,
          5,
          5,
          4
         ],
         "y0": " ",
         "yaxis": "y"
        },
        {
         "alignmentgroup": "True",
         "boxpoints": "all",
         "hovertemplate": "m=llm_zero_shot_prompting<br>th=%{x}<br>score=%{y}<extra></extra>",
         "legendgroup": "llm_zero_shot_prompting",
         "marker": {
          "color": "rgb(221, 204, 119)"
         },
         "name": "llm_zero_shot_prompting",
         "notched": false,
         "offsetgroup": "llm_zero_shot_prompting",
         "orientation": "v",
         "showlegend": true,
         "type": "box",
         "x": [
          "regular",
          "regular",
          "regular",
          "regular",
          "regular",
          "regular",
          "regular",
          "regular",
          "regular",
          "regular",
          "regular",
          "regular",
          "regular",
          "regular",
          "regular",
          "regular",
          "regular",
          "regular",
          "regular",
          "regular",
          "study_mod",
          "study_mod",
          "study_mod",
          "study_mod",
          "study_mod",
          "study_mod",
          "study_mod",
          "study_mod",
          "study_mod",
          "study_mod",
          "study_mod",
          "study_mod",
          "study_mod",
          "study_mod",
          "study_mod",
          "study_mod",
          "study_mod",
          "study_mod",
          "study_mod",
          "study_mod",
          "var_mod",
          "var_mod",
          "var_mod",
          "var_mod",
          "var_mod",
          "var_mod",
          "var_mod",
          "var_mod",
          "var_mod",
          "var_mod",
          "var_mod",
          "var_mod",
          "var_mod",
          "var_mod",
          "var_mod",
          "var_mod",
          "var_mod",
          "var_mod",
          "var_mod",
          "var_mod"
         ],
         "x0": " ",
         "xaxis": "x",
         "y": [
          2,
          1,
          4,
          2,
          2,
          1,
          3,
          4,
          5,
          3,
          2,
          2,
          1,
          1,
          1,
          2,
          2,
          1,
          1,
          1,
          2,
          2,
          1,
          2,
          2,
          4,
          3,
          1,
          2,
          2,
          4,
          4,
          3,
          5,
          1,
          4,
          4,
          3,
          5,
          1,
          2,
          2,
          1,
          5,
          1,
          4,
          2,
          1,
          5,
          2,
          5,
          3,
          2,
          5,
          3,
          3,
          2,
          2,
          5,
          3
         ],
         "y0": " ",
         "yaxis": "y"
        },
        {
         "alignmentgroup": "True",
         "boxpoints": "all",
         "hovertemplate": "m=anyburl<br>th=%{x}<br>score=%{y}<extra></extra>",
         "legendgroup": "anyburl",
         "marker": {
          "color": "rgb(17, 119, 51)"
         },
         "name": "anyburl",
         "notched": false,
         "offsetgroup": "anyburl",
         "orientation": "v",
         "showlegend": true,
         "type": "box",
         "x": [
          "regular",
          "regular",
          "regular",
          "regular",
          "regular",
          "regular",
          "regular",
          "regular",
          "regular",
          "regular",
          "regular",
          "regular",
          "regular",
          "regular",
          "regular",
          "regular",
          "regular",
          "regular",
          "regular",
          "regular",
          "study_mod",
          "study_mod",
          "study_mod",
          "study_mod",
          "study_mod",
          "study_mod",
          "study_mod",
          "study_mod",
          "study_mod",
          "study_mod",
          "study_mod",
          "study_mod",
          "study_mod",
          "study_mod",
          "study_mod",
          "study_mod",
          "study_mod",
          "study_mod",
          "study_mod",
          "study_mod",
          "var_mod",
          "var_mod",
          "var_mod",
          "var_mod",
          "var_mod",
          "var_mod",
          "var_mod",
          "var_mod",
          "var_mod",
          "var_mod",
          "var_mod",
          "var_mod",
          "var_mod",
          "var_mod",
          "var_mod",
          "var_mod",
          "var_mod",
          "var_mod",
          "var_mod",
          "var_mod"
         ],
         "x0": " ",
         "xaxis": "x",
         "y": [
          5,
          2,
          1,
          5,
          5,
          4,
          4,
          1,
          3,
          3,
          2,
          2,
          1,
          1,
          2,
          3,
          3,
          3,
          5,
          5,
          1,
          1,
          1,
          5,
          1,
          3,
          1,
          1,
          5,
          1,
          3,
          4,
          1,
          2,
          1,
          1,
          1,
          1,
          2,
          1,
          2,
          4,
          1,
          5,
          1,
          2,
          2,
          1,
          5,
          1,
          4,
          4,
          4,
          4,
          3,
          3,
          4,
          5,
          4,
          3
         ],
         "y0": " ",
         "yaxis": "y"
        }
       ],
       "layout": {
        "boxmode": "group",
        "legend": {
         "title": {
          "text": "m"
         },
         "tracegroupgap": 0
        },
        "margin": {
         "t": 60
        },
        "template": {
         "data": {
          "bar": [
           {
            "error_x": {
             "color": "#2a3f5f"
            },
            "error_y": {
             "color": "#2a3f5f"
            },
            "marker": {
             "line": {
              "color": "#E5ECF6",
              "width": 0.5
             },
             "pattern": {
              "fillmode": "overlay",
              "size": 10,
              "solidity": 0.2
             }
            },
            "type": "bar"
           }
          ],
          "barpolar": [
           {
            "marker": {
             "line": {
              "color": "#E5ECF6",
              "width": 0.5
             },
             "pattern": {
              "fillmode": "overlay",
              "size": 10,
              "solidity": 0.2
             }
            },
            "type": "barpolar"
           }
          ],
          "carpet": [
           {
            "aaxis": {
             "endlinecolor": "#2a3f5f",
             "gridcolor": "white",
             "linecolor": "white",
             "minorgridcolor": "white",
             "startlinecolor": "#2a3f5f"
            },
            "baxis": {
             "endlinecolor": "#2a3f5f",
             "gridcolor": "white",
             "linecolor": "white",
             "minorgridcolor": "white",
             "startlinecolor": "#2a3f5f"
            },
            "type": "carpet"
           }
          ],
          "choropleth": [
           {
            "colorbar": {
             "outlinewidth": 0,
             "ticks": ""
            },
            "type": "choropleth"
           }
          ],
          "contour": [
           {
            "colorbar": {
             "outlinewidth": 0,
             "ticks": ""
            },
            "colorscale": [
             [
              0,
              "#0d0887"
             ],
             [
              0.1111111111111111,
              "#46039f"
             ],
             [
              0.2222222222222222,
              "#7201a8"
             ],
             [
              0.3333333333333333,
              "#9c179e"
             ],
             [
              0.4444444444444444,
              "#bd3786"
             ],
             [
              0.5555555555555556,
              "#d8576b"
             ],
             [
              0.6666666666666666,
              "#ed7953"
             ],
             [
              0.7777777777777778,
              "#fb9f3a"
             ],
             [
              0.8888888888888888,
              "#fdca26"
             ],
             [
              1,
              "#f0f921"
             ]
            ],
            "type": "contour"
           }
          ],
          "contourcarpet": [
           {
            "colorbar": {
             "outlinewidth": 0,
             "ticks": ""
            },
            "type": "contourcarpet"
           }
          ],
          "heatmap": [
           {
            "colorbar": {
             "outlinewidth": 0,
             "ticks": ""
            },
            "colorscale": [
             [
              0,
              "#0d0887"
             ],
             [
              0.1111111111111111,
              "#46039f"
             ],
             [
              0.2222222222222222,
              "#7201a8"
             ],
             [
              0.3333333333333333,
              "#9c179e"
             ],
             [
              0.4444444444444444,
              "#bd3786"
             ],
             [
              0.5555555555555556,
              "#d8576b"
             ],
             [
              0.6666666666666666,
              "#ed7953"
             ],
             [
              0.7777777777777778,
              "#fb9f3a"
             ],
             [
              0.8888888888888888,
              "#fdca26"
             ],
             [
              1,
              "#f0f921"
             ]
            ],
            "type": "heatmap"
           }
          ],
          "heatmapgl": [
           {
            "colorbar": {
             "outlinewidth": 0,
             "ticks": ""
            },
            "colorscale": [
             [
              0,
              "#0d0887"
             ],
             [
              0.1111111111111111,
              "#46039f"
             ],
             [
              0.2222222222222222,
              "#7201a8"
             ],
             [
              0.3333333333333333,
              "#9c179e"
             ],
             [
              0.4444444444444444,
              "#bd3786"
             ],
             [
              0.5555555555555556,
              "#d8576b"
             ],
             [
              0.6666666666666666,
              "#ed7953"
             ],
             [
              0.7777777777777778,
              "#fb9f3a"
             ],
             [
              0.8888888888888888,
              "#fdca26"
             ],
             [
              1,
              "#f0f921"
             ]
            ],
            "type": "heatmapgl"
           }
          ],
          "histogram": [
           {
            "marker": {
             "pattern": {
              "fillmode": "overlay",
              "size": 10,
              "solidity": 0.2
             }
            },
            "type": "histogram"
           }
          ],
          "histogram2d": [
           {
            "colorbar": {
             "outlinewidth": 0,
             "ticks": ""
            },
            "colorscale": [
             [
              0,
              "#0d0887"
             ],
             [
              0.1111111111111111,
              "#46039f"
             ],
             [
              0.2222222222222222,
              "#7201a8"
             ],
             [
              0.3333333333333333,
              "#9c179e"
             ],
             [
              0.4444444444444444,
              "#bd3786"
             ],
             [
              0.5555555555555556,
              "#d8576b"
             ],
             [
              0.6666666666666666,
              "#ed7953"
             ],
             [
              0.7777777777777778,
              "#fb9f3a"
             ],
             [
              0.8888888888888888,
              "#fdca26"
             ],
             [
              1,
              "#f0f921"
             ]
            ],
            "type": "histogram2d"
           }
          ],
          "histogram2dcontour": [
           {
            "colorbar": {
             "outlinewidth": 0,
             "ticks": ""
            },
            "colorscale": [
             [
              0,
              "#0d0887"
             ],
             [
              0.1111111111111111,
              "#46039f"
             ],
             [
              0.2222222222222222,
              "#7201a8"
             ],
             [
              0.3333333333333333,
              "#9c179e"
             ],
             [
              0.4444444444444444,
              "#bd3786"
             ],
             [
              0.5555555555555556,
              "#d8576b"
             ],
             [
              0.6666666666666666,
              "#ed7953"
             ],
             [
              0.7777777777777778,
              "#fb9f3a"
             ],
             [
              0.8888888888888888,
              "#fdca26"
             ],
             [
              1,
              "#f0f921"
             ]
            ],
            "type": "histogram2dcontour"
           }
          ],
          "mesh3d": [
           {
            "colorbar": {
             "outlinewidth": 0,
             "ticks": ""
            },
            "type": "mesh3d"
           }
          ],
          "parcoords": [
           {
            "line": {
             "colorbar": {
              "outlinewidth": 0,
              "ticks": ""
             }
            },
            "type": "parcoords"
           }
          ],
          "pie": [
           {
            "automargin": true,
            "type": "pie"
           }
          ],
          "scatter": [
           {
            "fillpattern": {
             "fillmode": "overlay",
             "size": 10,
             "solidity": 0.2
            },
            "type": "scatter"
           }
          ],
          "scatter3d": [
           {
            "line": {
             "colorbar": {
              "outlinewidth": 0,
              "ticks": ""
             }
            },
            "marker": {
             "colorbar": {
              "outlinewidth": 0,
              "ticks": ""
             }
            },
            "type": "scatter3d"
           }
          ],
          "scattercarpet": [
           {
            "marker": {
             "colorbar": {
              "outlinewidth": 0,
              "ticks": ""
             }
            },
            "type": "scattercarpet"
           }
          ],
          "scattergeo": [
           {
            "marker": {
             "colorbar": {
              "outlinewidth": 0,
              "ticks": ""
             }
            },
            "type": "scattergeo"
           }
          ],
          "scattergl": [
           {
            "marker": {
             "colorbar": {
              "outlinewidth": 0,
              "ticks": ""
             }
            },
            "type": "scattergl"
           }
          ],
          "scattermapbox": [
           {
            "marker": {
             "colorbar": {
              "outlinewidth": 0,
              "ticks": ""
             }
            },
            "type": "scattermapbox"
           }
          ],
          "scatterpolar": [
           {
            "marker": {
             "colorbar": {
              "outlinewidth": 0,
              "ticks": ""
             }
            },
            "type": "scatterpolar"
           }
          ],
          "scatterpolargl": [
           {
            "marker": {
             "colorbar": {
              "outlinewidth": 0,
              "ticks": ""
             }
            },
            "type": "scatterpolargl"
           }
          ],
          "scatterternary": [
           {
            "marker": {
             "colorbar": {
              "outlinewidth": 0,
              "ticks": ""
             }
            },
            "type": "scatterternary"
           }
          ],
          "surface": [
           {
            "colorbar": {
             "outlinewidth": 0,
             "ticks": ""
            },
            "colorscale": [
             [
              0,
              "#0d0887"
             ],
             [
              0.1111111111111111,
              "#46039f"
             ],
             [
              0.2222222222222222,
              "#7201a8"
             ],
             [
              0.3333333333333333,
              "#9c179e"
             ],
             [
              0.4444444444444444,
              "#bd3786"
             ],
             [
              0.5555555555555556,
              "#d8576b"
             ],
             [
              0.6666666666666666,
              "#ed7953"
             ],
             [
              0.7777777777777778,
              "#fb9f3a"
             ],
             [
              0.8888888888888888,
              "#fdca26"
             ],
             [
              1,
              "#f0f921"
             ]
            ],
            "type": "surface"
           }
          ],
          "table": [
           {
            "cells": {
             "fill": {
              "color": "#EBF0F8"
             },
             "line": {
              "color": "white"
             }
            },
            "header": {
             "fill": {
              "color": "#C8D4E3"
             },
             "line": {
              "color": "white"
             }
            },
            "type": "table"
           }
          ]
         },
         "layout": {
          "annotationdefaults": {
           "arrowcolor": "#2a3f5f",
           "arrowhead": 0,
           "arrowwidth": 1
          },
          "autotypenumbers": "strict",
          "coloraxis": {
           "colorbar": {
            "outlinewidth": 0,
            "ticks": ""
           }
          },
          "colorscale": {
           "diverging": [
            [
             0,
             "#8e0152"
            ],
            [
             0.1,
             "#c51b7d"
            ],
            [
             0.2,
             "#de77ae"
            ],
            [
             0.3,
             "#f1b6da"
            ],
            [
             0.4,
             "#fde0ef"
            ],
            [
             0.5,
             "#f7f7f7"
            ],
            [
             0.6,
             "#e6f5d0"
            ],
            [
             0.7,
             "#b8e186"
            ],
            [
             0.8,
             "#7fbc41"
            ],
            [
             0.9,
             "#4d9221"
            ],
            [
             1,
             "#276419"
            ]
           ],
           "sequential": [
            [
             0,
             "#0d0887"
            ],
            [
             0.1111111111111111,
             "#46039f"
            ],
            [
             0.2222222222222222,
             "#7201a8"
            ],
            [
             0.3333333333333333,
             "#9c179e"
            ],
            [
             0.4444444444444444,
             "#bd3786"
            ],
            [
             0.5555555555555556,
             "#d8576b"
            ],
            [
             0.6666666666666666,
             "#ed7953"
            ],
            [
             0.7777777777777778,
             "#fb9f3a"
            ],
            [
             0.8888888888888888,
             "#fdca26"
            ],
            [
             1,
             "#f0f921"
            ]
           ],
           "sequentialminus": [
            [
             0,
             "#0d0887"
            ],
            [
             0.1111111111111111,
             "#46039f"
            ],
            [
             0.2222222222222222,
             "#7201a8"
            ],
            [
             0.3333333333333333,
             "#9c179e"
            ],
            [
             0.4444444444444444,
             "#bd3786"
            ],
            [
             0.5555555555555556,
             "#d8576b"
            ],
            [
             0.6666666666666666,
             "#ed7953"
            ],
            [
             0.7777777777777778,
             "#fb9f3a"
            ],
            [
             0.8888888888888888,
             "#fdca26"
            ],
            [
             1,
             "#f0f921"
            ]
           ]
          },
          "colorway": [
           "#636efa",
           "#EF553B",
           "#00cc96",
           "#ab63fa",
           "#FFA15A",
           "#19d3f3",
           "#FF6692",
           "#B6E880",
           "#FF97FF",
           "#FECB52"
          ],
          "font": {
           "color": "#2a3f5f"
          },
          "geo": {
           "bgcolor": "white",
           "lakecolor": "white",
           "landcolor": "#E5ECF6",
           "showlakes": true,
           "showland": true,
           "subunitcolor": "white"
          },
          "hoverlabel": {
           "align": "left"
          },
          "hovermode": "closest",
          "mapbox": {
           "style": "light"
          },
          "paper_bgcolor": "white",
          "plot_bgcolor": "#E5ECF6",
          "polar": {
           "angularaxis": {
            "gridcolor": "white",
            "linecolor": "white",
            "ticks": ""
           },
           "bgcolor": "#E5ECF6",
           "radialaxis": {
            "gridcolor": "white",
            "linecolor": "white",
            "ticks": ""
           }
          },
          "scene": {
           "xaxis": {
            "backgroundcolor": "#E5ECF6",
            "gridcolor": "white",
            "gridwidth": 2,
            "linecolor": "white",
            "showbackground": true,
            "ticks": "",
            "zerolinecolor": "white"
           },
           "yaxis": {
            "backgroundcolor": "#E5ECF6",
            "gridcolor": "white",
            "gridwidth": 2,
            "linecolor": "white",
            "showbackground": true,
            "ticks": "",
            "zerolinecolor": "white"
           },
           "zaxis": {
            "backgroundcolor": "#E5ECF6",
            "gridcolor": "white",
            "gridwidth": 2,
            "linecolor": "white",
            "showbackground": true,
            "ticks": "",
            "zerolinecolor": "white"
           }
          },
          "shapedefaults": {
           "line": {
            "color": "#2a3f5f"
           }
          },
          "ternary": {
           "aaxis": {
            "gridcolor": "white",
            "linecolor": "white",
            "ticks": ""
           },
           "baxis": {
            "gridcolor": "white",
            "linecolor": "white",
            "ticks": ""
           },
           "bgcolor": "#E5ECF6",
           "caxis": {
            "gridcolor": "white",
            "linecolor": "white",
            "ticks": ""
           }
          },
          "title": {
           "x": 0.05
          },
          "xaxis": {
           "automargin": true,
           "gridcolor": "white",
           "linecolor": "white",
           "ticks": "",
           "title": {
            "standoff": 15
           },
           "zerolinecolor": "white",
           "zerolinewidth": 2
          },
          "yaxis": {
           "automargin": true,
           "gridcolor": "white",
           "linecolor": "white",
           "ticks": "",
           "title": {
            "standoff": 15
           },
           "zerolinecolor": "white",
           "zerolinewidth": 2
          }
         }
        },
        "title": {
         "text": "Distribution of Scores by Model and Type of Hypothesis"
        },
        "xaxis": {
         "anchor": "y",
         "domain": [
          0,
          1
         ],
         "title": {
          "text": "th"
         }
        },
        "yaxis": {
         "anchor": "x",
         "domain": [
          0,
          1
         ],
         "title": {
          "text": "score"
         }
        }
       }
      }
     },
     "metadata": {},
     "output_type": "display_data"
    }
   ],
   "source": [
    "fig = px.box(ai_h, x='th', y='score', color='m', points='all',\n",
    "             #labels={'Score': 'Scores', 'Model': 'Models', 'Type of Hypothesis': 'Type of Hypothesis'}\n",
    "             color_discrete_map=COLOR_PALETTE\n",
    "             )\n",
    "fig.update_layout(title='Distribution of Scores by Model and Type of Hypothesis')\n",
    "fig.write_image(\"../visualisations/user_studies_ai_h_scores.pdf\", format='pdf')\n",
    "fig.show()"
   ]
  },
  {
   "cell_type": "code",
   "execution_count": 46,
   "metadata": {},
   "outputs": [
    {
     "data": {
      "application/vnd.plotly.v1+json": {
       "config": {
        "plotlyServerURL": "https://plot.ly"
       },
       "data": [
        {
         "alignmentgroup": "True",
         "boxpoints": "all",
         "hovertemplate": "m=anyburl<br>th=%{x}<br>score=%{y}<extra></extra>",
         "legendgroup": "anyburl",
         "marker": {
          "color": "rgb(17, 119, 51)"
         },
         "name": "anyburl",
         "notched": false,
         "offsetgroup": "anyburl",
         "orientation": "v",
         "showlegend": true,
         "type": "box",
         "x": [
          "regular",
          "regular",
          "regular",
          "regular",
          "study_mod",
          "study_mod",
          "study_mod",
          "study_mod",
          "var_mod",
          "var_mod",
          "var_mod",
          "var_mod"
         ],
         "x0": " ",
         "xaxis": "x",
         "y": [
          1.6,
          3.8,
          3.6,
          3,
          1.8,
          2.2,
          2.2,
          1.2,
          3.8,
          3.8,
          2.6,
          2.2
         ],
         "y0": " ",
         "yaxis": "y"
        },
        {
         "alignmentgroup": "True",
         "boxpoints": "all",
         "hovertemplate": "m=classification<br>th=%{x}<br>score=%{y}<extra></extra>",
         "legendgroup": "classification",
         "marker": {
          "color": "rgb(204, 102, 119)"
         },
         "name": "classification",
         "notched": false,
         "offsetgroup": "classification",
         "orientation": "v",
         "showlegend": true,
         "type": "box",
         "x": [
          "regular",
          "regular",
          "regular",
          "regular",
          "study_mod",
          "study_mod",
          "study_mod",
          "study_mod",
          "var_mod",
          "var_mod",
          "var_mod",
          "var_mod"
         ],
         "x0": " ",
         "xaxis": "x",
         "y": [
          3.8,
          4.2,
          2.8,
          3.2,
          1.4,
          2.2,
          1.4,
          1.2,
          3.6,
          4.2,
          2.8,
          2.8
         ],
         "y0": " ",
         "yaxis": "y"
        },
        {
         "alignmentgroup": "True",
         "boxpoints": "all",
         "hovertemplate": "m=llm_zero_shot_prompting<br>th=%{x}<br>score=%{y}<extra></extra>",
         "legendgroup": "llm_zero_shot_prompting",
         "marker": {
          "color": "rgb(221, 204, 119)"
         },
         "name": "llm_zero_shot_prompting",
         "notched": false,
         "offsetgroup": "llm_zero_shot_prompting",
         "orientation": "v",
         "showlegend": true,
         "type": "box",
         "x": [
          "regular",
          "regular",
          "regular",
          "regular",
          "study_mod",
          "study_mod",
          "study_mod",
          "study_mod",
          "var_mod",
          "var_mod",
          "var_mod",
          "var_mod"
         ],
         "x0": " ",
         "xaxis": "x",
         "y": [
          1.4,
          1.4,
          2.2,
          3.2,
          1.8,
          2.4,
          3.4,
          3.4,
          3.6,
          3,
          2.2,
          2.8
         ],
         "y0": " ",
         "yaxis": "y"
        }
       ],
       "layout": {
        "boxmode": "group",
        "legend": {
         "title": {
          "text": "m"
         },
         "tracegroupgap": 0
        },
        "margin": {
         "t": 60
        },
        "template": {
         "data": {
          "bar": [
           {
            "error_x": {
             "color": "#2a3f5f"
            },
            "error_y": {
             "color": "#2a3f5f"
            },
            "marker": {
             "line": {
              "color": "#E5ECF6",
              "width": 0.5
             },
             "pattern": {
              "fillmode": "overlay",
              "size": 10,
              "solidity": 0.2
             }
            },
            "type": "bar"
           }
          ],
          "barpolar": [
           {
            "marker": {
             "line": {
              "color": "#E5ECF6",
              "width": 0.5
             },
             "pattern": {
              "fillmode": "overlay",
              "size": 10,
              "solidity": 0.2
             }
            },
            "type": "barpolar"
           }
          ],
          "carpet": [
           {
            "aaxis": {
             "endlinecolor": "#2a3f5f",
             "gridcolor": "white",
             "linecolor": "white",
             "minorgridcolor": "white",
             "startlinecolor": "#2a3f5f"
            },
            "baxis": {
             "endlinecolor": "#2a3f5f",
             "gridcolor": "white",
             "linecolor": "white",
             "minorgridcolor": "white",
             "startlinecolor": "#2a3f5f"
            },
            "type": "carpet"
           }
          ],
          "choropleth": [
           {
            "colorbar": {
             "outlinewidth": 0,
             "ticks": ""
            },
            "type": "choropleth"
           }
          ],
          "contour": [
           {
            "colorbar": {
             "outlinewidth": 0,
             "ticks": ""
            },
            "colorscale": [
             [
              0,
              "#0d0887"
             ],
             [
              0.1111111111111111,
              "#46039f"
             ],
             [
              0.2222222222222222,
              "#7201a8"
             ],
             [
              0.3333333333333333,
              "#9c179e"
             ],
             [
              0.4444444444444444,
              "#bd3786"
             ],
             [
              0.5555555555555556,
              "#d8576b"
             ],
             [
              0.6666666666666666,
              "#ed7953"
             ],
             [
              0.7777777777777778,
              "#fb9f3a"
             ],
             [
              0.8888888888888888,
              "#fdca26"
             ],
             [
              1,
              "#f0f921"
             ]
            ],
            "type": "contour"
           }
          ],
          "contourcarpet": [
           {
            "colorbar": {
             "outlinewidth": 0,
             "ticks": ""
            },
            "type": "contourcarpet"
           }
          ],
          "heatmap": [
           {
            "colorbar": {
             "outlinewidth": 0,
             "ticks": ""
            },
            "colorscale": [
             [
              0,
              "#0d0887"
             ],
             [
              0.1111111111111111,
              "#46039f"
             ],
             [
              0.2222222222222222,
              "#7201a8"
             ],
             [
              0.3333333333333333,
              "#9c179e"
             ],
             [
              0.4444444444444444,
              "#bd3786"
             ],
             [
              0.5555555555555556,
              "#d8576b"
             ],
             [
              0.6666666666666666,
              "#ed7953"
             ],
             [
              0.7777777777777778,
              "#fb9f3a"
             ],
             [
              0.8888888888888888,
              "#fdca26"
             ],
             [
              1,
              "#f0f921"
             ]
            ],
            "type": "heatmap"
           }
          ],
          "heatmapgl": [
           {
            "colorbar": {
             "outlinewidth": 0,
             "ticks": ""
            },
            "colorscale": [
             [
              0,
              "#0d0887"
             ],
             [
              0.1111111111111111,
              "#46039f"
             ],
             [
              0.2222222222222222,
              "#7201a8"
             ],
             [
              0.3333333333333333,
              "#9c179e"
             ],
             [
              0.4444444444444444,
              "#bd3786"
             ],
             [
              0.5555555555555556,
              "#d8576b"
             ],
             [
              0.6666666666666666,
              "#ed7953"
             ],
             [
              0.7777777777777778,
              "#fb9f3a"
             ],
             [
              0.8888888888888888,
              "#fdca26"
             ],
             [
              1,
              "#f0f921"
             ]
            ],
            "type": "heatmapgl"
           }
          ],
          "histogram": [
           {
            "marker": {
             "pattern": {
              "fillmode": "overlay",
              "size": 10,
              "solidity": 0.2
             }
            },
            "type": "histogram"
           }
          ],
          "histogram2d": [
           {
            "colorbar": {
             "outlinewidth": 0,
             "ticks": ""
            },
            "colorscale": [
             [
              0,
              "#0d0887"
             ],
             [
              0.1111111111111111,
              "#46039f"
             ],
             [
              0.2222222222222222,
              "#7201a8"
             ],
             [
              0.3333333333333333,
              "#9c179e"
             ],
             [
              0.4444444444444444,
              "#bd3786"
             ],
             [
              0.5555555555555556,
              "#d8576b"
             ],
             [
              0.6666666666666666,
              "#ed7953"
             ],
             [
              0.7777777777777778,
              "#fb9f3a"
             ],
             [
              0.8888888888888888,
              "#fdca26"
             ],
             [
              1,
              "#f0f921"
             ]
            ],
            "type": "histogram2d"
           }
          ],
          "histogram2dcontour": [
           {
            "colorbar": {
             "outlinewidth": 0,
             "ticks": ""
            },
            "colorscale": [
             [
              0,
              "#0d0887"
             ],
             [
              0.1111111111111111,
              "#46039f"
             ],
             [
              0.2222222222222222,
              "#7201a8"
             ],
             [
              0.3333333333333333,
              "#9c179e"
             ],
             [
              0.4444444444444444,
              "#bd3786"
             ],
             [
              0.5555555555555556,
              "#d8576b"
             ],
             [
              0.6666666666666666,
              "#ed7953"
             ],
             [
              0.7777777777777778,
              "#fb9f3a"
             ],
             [
              0.8888888888888888,
              "#fdca26"
             ],
             [
              1,
              "#f0f921"
             ]
            ],
            "type": "histogram2dcontour"
           }
          ],
          "mesh3d": [
           {
            "colorbar": {
             "outlinewidth": 0,
             "ticks": ""
            },
            "type": "mesh3d"
           }
          ],
          "parcoords": [
           {
            "line": {
             "colorbar": {
              "outlinewidth": 0,
              "ticks": ""
             }
            },
            "type": "parcoords"
           }
          ],
          "pie": [
           {
            "automargin": true,
            "type": "pie"
           }
          ],
          "scatter": [
           {
            "fillpattern": {
             "fillmode": "overlay",
             "size": 10,
             "solidity": 0.2
            },
            "type": "scatter"
           }
          ],
          "scatter3d": [
           {
            "line": {
             "colorbar": {
              "outlinewidth": 0,
              "ticks": ""
             }
            },
            "marker": {
             "colorbar": {
              "outlinewidth": 0,
              "ticks": ""
             }
            },
            "type": "scatter3d"
           }
          ],
          "scattercarpet": [
           {
            "marker": {
             "colorbar": {
              "outlinewidth": 0,
              "ticks": ""
             }
            },
            "type": "scattercarpet"
           }
          ],
          "scattergeo": [
           {
            "marker": {
             "colorbar": {
              "outlinewidth": 0,
              "ticks": ""
             }
            },
            "type": "scattergeo"
           }
          ],
          "scattergl": [
           {
            "marker": {
             "colorbar": {
              "outlinewidth": 0,
              "ticks": ""
             }
            },
            "type": "scattergl"
           }
          ],
          "scattermapbox": [
           {
            "marker": {
             "colorbar": {
              "outlinewidth": 0,
              "ticks": ""
             }
            },
            "type": "scattermapbox"
           }
          ],
          "scatterpolar": [
           {
            "marker": {
             "colorbar": {
              "outlinewidth": 0,
              "ticks": ""
             }
            },
            "type": "scatterpolar"
           }
          ],
          "scatterpolargl": [
           {
            "marker": {
             "colorbar": {
              "outlinewidth": 0,
              "ticks": ""
             }
            },
            "type": "scatterpolargl"
           }
          ],
          "scatterternary": [
           {
            "marker": {
             "colorbar": {
              "outlinewidth": 0,
              "ticks": ""
             }
            },
            "type": "scatterternary"
           }
          ],
          "surface": [
           {
            "colorbar": {
             "outlinewidth": 0,
             "ticks": ""
            },
            "colorscale": [
             [
              0,
              "#0d0887"
             ],
             [
              0.1111111111111111,
              "#46039f"
             ],
             [
              0.2222222222222222,
              "#7201a8"
             ],
             [
              0.3333333333333333,
              "#9c179e"
             ],
             [
              0.4444444444444444,
              "#bd3786"
             ],
             [
              0.5555555555555556,
              "#d8576b"
             ],
             [
              0.6666666666666666,
              "#ed7953"
             ],
             [
              0.7777777777777778,
              "#fb9f3a"
             ],
             [
              0.8888888888888888,
              "#fdca26"
             ],
             [
              1,
              "#f0f921"
             ]
            ],
            "type": "surface"
           }
          ],
          "table": [
           {
            "cells": {
             "fill": {
              "color": "#EBF0F8"
             },
             "line": {
              "color": "white"
             }
            },
            "header": {
             "fill": {
              "color": "#C8D4E3"
             },
             "line": {
              "color": "white"
             }
            },
            "type": "table"
           }
          ]
         },
         "layout": {
          "annotationdefaults": {
           "arrowcolor": "#2a3f5f",
           "arrowhead": 0,
           "arrowwidth": 1
          },
          "autotypenumbers": "strict",
          "coloraxis": {
           "colorbar": {
            "outlinewidth": 0,
            "ticks": ""
           }
          },
          "colorscale": {
           "diverging": [
            [
             0,
             "#8e0152"
            ],
            [
             0.1,
             "#c51b7d"
            ],
            [
             0.2,
             "#de77ae"
            ],
            [
             0.3,
             "#f1b6da"
            ],
            [
             0.4,
             "#fde0ef"
            ],
            [
             0.5,
             "#f7f7f7"
            ],
            [
             0.6,
             "#e6f5d0"
            ],
            [
             0.7,
             "#b8e186"
            ],
            [
             0.8,
             "#7fbc41"
            ],
            [
             0.9,
             "#4d9221"
            ],
            [
             1,
             "#276419"
            ]
           ],
           "sequential": [
            [
             0,
             "#0d0887"
            ],
            [
             0.1111111111111111,
             "#46039f"
            ],
            [
             0.2222222222222222,
             "#7201a8"
            ],
            [
             0.3333333333333333,
             "#9c179e"
            ],
            [
             0.4444444444444444,
             "#bd3786"
            ],
            [
             0.5555555555555556,
             "#d8576b"
            ],
            [
             0.6666666666666666,
             "#ed7953"
            ],
            [
             0.7777777777777778,
             "#fb9f3a"
            ],
            [
             0.8888888888888888,
             "#fdca26"
            ],
            [
             1,
             "#f0f921"
            ]
           ],
           "sequentialminus": [
            [
             0,
             "#0d0887"
            ],
            [
             0.1111111111111111,
             "#46039f"
            ],
            [
             0.2222222222222222,
             "#7201a8"
            ],
            [
             0.3333333333333333,
             "#9c179e"
            ],
            [
             0.4444444444444444,
             "#bd3786"
            ],
            [
             0.5555555555555556,
             "#d8576b"
            ],
            [
             0.6666666666666666,
             "#ed7953"
            ],
            [
             0.7777777777777778,
             "#fb9f3a"
            ],
            [
             0.8888888888888888,
             "#fdca26"
            ],
            [
             1,
             "#f0f921"
            ]
           ]
          },
          "colorway": [
           "#636efa",
           "#EF553B",
           "#00cc96",
           "#ab63fa",
           "#FFA15A",
           "#19d3f3",
           "#FF6692",
           "#B6E880",
           "#FF97FF",
           "#FECB52"
          ],
          "font": {
           "color": "#2a3f5f"
          },
          "geo": {
           "bgcolor": "white",
           "lakecolor": "white",
           "landcolor": "#E5ECF6",
           "showlakes": true,
           "showland": true,
           "subunitcolor": "white"
          },
          "hoverlabel": {
           "align": "left"
          },
          "hovermode": "closest",
          "mapbox": {
           "style": "light"
          },
          "paper_bgcolor": "white",
          "plot_bgcolor": "#E5ECF6",
          "polar": {
           "angularaxis": {
            "gridcolor": "white",
            "linecolor": "white",
            "ticks": ""
           },
           "bgcolor": "#E5ECF6",
           "radialaxis": {
            "gridcolor": "white",
            "linecolor": "white",
            "ticks": ""
           }
          },
          "scene": {
           "xaxis": {
            "backgroundcolor": "#E5ECF6",
            "gridcolor": "white",
            "gridwidth": 2,
            "linecolor": "white",
            "showbackground": true,
            "ticks": "",
            "zerolinecolor": "white"
           },
           "yaxis": {
            "backgroundcolor": "#E5ECF6",
            "gridcolor": "white",
            "gridwidth": 2,
            "linecolor": "white",
            "showbackground": true,
            "ticks": "",
            "zerolinecolor": "white"
           },
           "zaxis": {
            "backgroundcolor": "#E5ECF6",
            "gridcolor": "white",
            "gridwidth": 2,
            "linecolor": "white",
            "showbackground": true,
            "ticks": "",
            "zerolinecolor": "white"
           }
          },
          "shapedefaults": {
           "line": {
            "color": "#2a3f5f"
           }
          },
          "ternary": {
           "aaxis": {
            "gridcolor": "white",
            "linecolor": "white",
            "ticks": ""
           },
           "baxis": {
            "gridcolor": "white",
            "linecolor": "white",
            "ticks": ""
           },
           "bgcolor": "#E5ECF6",
           "caxis": {
            "gridcolor": "white",
            "linecolor": "white",
            "ticks": ""
           }
          },
          "title": {
           "x": 0.05
          },
          "xaxis": {
           "automargin": true,
           "gridcolor": "white",
           "linecolor": "white",
           "ticks": "",
           "title": {
            "standoff": 15
           },
           "zerolinecolor": "white",
           "zerolinewidth": 2
          },
          "yaxis": {
           "automargin": true,
           "gridcolor": "white",
           "linecolor": "white",
           "ticks": "",
           "title": {
            "standoff": 15
           },
           "zerolinecolor": "white",
           "zerolinewidth": 2
          }
         }
        },
        "title": {
         "text": "Distribution of Scores by Model and Type of Hypothesis"
        },
        "xaxis": {
         "anchor": "y",
         "domain": [
          0,
          1
         ],
         "title": {
          "text": "th"
         }
        },
        "yaxis": {
         "anchor": "x",
         "domain": [
          0,
          1
         ],
         "title": {
          "text": "score"
         }
        }
       }
      }
     },
     "metadata": {},
     "output_type": "display_data"
    }
   ],
   "source": [
    "columns = [\"user_id\", \"score\", \"th\", \"giv\", \"i_shuffled\", \"m\"]\n",
    "fig = px.box(ai_h[columns].groupby([\"th\", \"giv\", \"i_shuffled\", \"m\"]).agg({\"score\": \"mean\"}).reset_index(), x='th', y='score', color='m', points='all',\n",
    "             #labels={'Score': 'Scores', 'Model': 'Models', 'Type of Hypothesis': 'Type of Hypothesis'}\n",
    "             color_discrete_map=COLOR_PALETTE\n",
    "             )\n",
    "fig.update_layout(title='Distribution of Scores by Model and Type of Hypothesis')\n",
    "fig.write_image(\"../visualisations/user_studies_ai_h_scores_mean.pdf\", format='pdf')\n",
    "fig.show()"
   ]
  },
  {
   "cell_type": "code",
   "execution_count": 60,
   "metadata": {},
   "outputs": [
    {
     "data": {
      "application/vnd.plotly.v1+json": {
       "config": {
        "plotlyServerURL": "https://plot.ly"
       },
       "data": [
        {
         "alignmentgroup": "True",
         "boxpoints": "all",
         "hovertemplate": "m=human<br>th=%{x}<br>score=%{y}<extra></extra>",
         "legendgroup": "human",
         "marker": {
          "color": "rgb(136, 204, 238)"
         },
         "name": "human",
         "notched": false,
         "offsetgroup": "human",
         "orientation": "v",
         "showlegend": true,
         "type": "box",
         "x": [
          "regular",
          "regular",
          "regular",
          "regular",
          "regular",
          "regular",
          "regular",
          "regular",
          "regular",
          "regular",
          "regular",
          "regular",
          "regular",
          "regular",
          "regular",
          "regular",
          "regular",
          "regular",
          "regular",
          "regular",
          "regular",
          "regular",
          "regular",
          "regular",
          "regular",
          "regular",
          "regular",
          "regular",
          "regular",
          "regular",
          "regular",
          "regular",
          "regular",
          "regular",
          "regular",
          "regular",
          "regular",
          "regular",
          "regular",
          "regular",
          "regular",
          "regular",
          "regular",
          "regular",
          "regular",
          "regular",
          "regular",
          "regular",
          "regular",
          "regular",
          "study_mod",
          "study_mod",
          "study_mod",
          "study_mod",
          "study_mod",
          "study_mod",
          "study_mod",
          "study_mod",
          "study_mod",
          "study_mod",
          "study_mod",
          "study_mod",
          "study_mod",
          "study_mod",
          "study_mod",
          "study_mod",
          "study_mod",
          "study_mod",
          "study_mod",
          "study_mod",
          "study_mod",
          "study_mod",
          "study_mod",
          "study_mod",
          "study_mod",
          "study_mod",
          "study_mod",
          "study_mod",
          "study_mod",
          "study_mod",
          "study_mod",
          "study_mod",
          "study_mod",
          "study_mod",
          "study_mod",
          "study_mod",
          "study_mod",
          "study_mod",
          "study_mod",
          "study_mod",
          "study_mod",
          "study_mod",
          "study_mod",
          "study_mod",
          "study_mod",
          "study_mod",
          "study_mod",
          "study_mod",
          "study_mod",
          "study_mod",
          "var_mod",
          "var_mod",
          "var_mod",
          "var_mod",
          "var_mod",
          "var_mod",
          "var_mod",
          "var_mod",
          "var_mod",
          "var_mod",
          "var_mod",
          "var_mod",
          "var_mod",
          "var_mod",
          "var_mod",
          "var_mod",
          "var_mod",
          "var_mod",
          "var_mod",
          "var_mod",
          "var_mod",
          "var_mod",
          "var_mod",
          "var_mod",
          "var_mod",
          "var_mod",
          "var_mod",
          "var_mod",
          "var_mod",
          "var_mod",
          "var_mod",
          "var_mod",
          "var_mod",
          "var_mod",
          "var_mod",
          "var_mod",
          "var_mod",
          "var_mod",
          "var_mod",
          "var_mod",
          "var_mod",
          "var_mod",
          "var_mod",
          "var_mod",
          "var_mod",
          "var_mod",
          "var_mod",
          "var_mod",
          "var_mod",
          "var_mod"
         ],
         "x0": " ",
         "xaxis": "x",
         "y": [
          3,
          5,
          2,
          1,
          4,
          2,
          3,
          4,
          3,
          4,
          5,
          3,
          5,
          4,
          5,
          5,
          5,
          5,
          5,
          3,
          4,
          4,
          3,
          3,
          5,
          1,
          2,
          4,
          3,
          5,
          3,
          3,
          3,
          4,
          4,
          5,
          5,
          4,
          4,
          3,
          5,
          5,
          5,
          5,
          5,
          5,
          5,
          5,
          4,
          3,
          1,
          4,
          2,
          3,
          5,
          4,
          3,
          3,
          4,
          3,
          5,
          5,
          5,
          4,
          4,
          5,
          4,
          4,
          4,
          4,
          4,
          4,
          3,
          3,
          3,
          1,
          5,
          4,
          3,
          2,
          4,
          4,
          3,
          4,
          2,
          5,
          5,
          5,
          4,
          4,
          5,
          5,
          5,
          5,
          5,
          4,
          4,
          3,
          3,
          3,
          2,
          3,
          4,
          1,
          5,
          4,
          5,
          4,
          3,
          3,
          5,
          5,
          5,
          4,
          4,
          4,
          4,
          4,
          4,
          4,
          5,
          5,
          5,
          4,
          4,
          1,
          2,
          5,
          3,
          4,
          5,
          5,
          4,
          4,
          3,
          5,
          5,
          5,
          5,
          4,
          5,
          5,
          5,
          5,
          5,
          5,
          5,
          4,
          4,
          4
         ],
         "y0": " ",
         "yaxis": "y"
        },
        {
         "alignmentgroup": "True",
         "boxpoints": "all",
         "hovertemplate": "m=classification<br>th=%{x}<br>score=%{y}<extra></extra>",
         "legendgroup": "classification",
         "marker": {
          "color": "rgb(204, 102, 119)"
         },
         "name": "classification",
         "notched": false,
         "offsetgroup": "classification",
         "orientation": "v",
         "showlegend": true,
         "type": "box",
         "x": [
          "regular",
          "regular",
          "regular",
          "regular",
          "regular",
          "regular",
          "regular",
          "regular",
          "regular",
          "regular",
          "regular",
          "regular",
          "regular",
          "regular",
          "regular",
          "regular",
          "regular",
          "regular",
          "regular",
          "regular",
          "study_mod",
          "study_mod",
          "study_mod",
          "study_mod",
          "study_mod",
          "study_mod",
          "study_mod",
          "study_mod",
          "study_mod",
          "study_mod",
          "study_mod",
          "study_mod",
          "study_mod",
          "study_mod",
          "study_mod",
          "study_mod",
          "study_mod",
          "study_mod",
          "study_mod",
          "study_mod",
          "var_mod",
          "var_mod",
          "var_mod",
          "var_mod",
          "var_mod",
          "var_mod",
          "var_mod",
          "var_mod",
          "var_mod",
          "var_mod",
          "var_mod",
          "var_mod",
          "var_mod",
          "var_mod",
          "var_mod",
          "var_mod",
          "var_mod",
          "var_mod",
          "var_mod",
          "var_mod"
         ],
         "x0": " ",
         "xaxis": "x",
         "y": [
          3,
          2,
          3,
          3,
          3,
          4,
          4,
          1,
          4,
          3,
          3,
          3,
          3,
          5,
          5,
          4,
          3,
          4,
          5,
          5,
          1,
          1,
          1,
          2,
          2,
          2,
          2,
          2,
          3,
          2,
          1,
          1,
          1,
          3,
          1,
          1,
          1,
          1,
          2,
          1,
          4,
          2,
          1,
          5,
          2,
          4,
          2,
          1,
          5,
          2,
          2,
          3,
          5,
          5,
          3,
          4,
          3,
          5,
          5,
          4
         ],
         "y0": " ",
         "yaxis": "y"
        },
        {
         "alignmentgroup": "True",
         "boxpoints": "all",
         "hovertemplate": "m=llm_zero_shot_prompting<br>th=%{x}<br>score=%{y}<extra></extra>",
         "legendgroup": "llm_zero_shot_prompting",
         "marker": {
          "color": "rgb(221, 204, 119)"
         },
         "name": "llm_zero_shot_prompting",
         "notched": false,
         "offsetgroup": "llm_zero_shot_prompting",
         "orientation": "v",
         "showlegend": true,
         "type": "box",
         "x": [
          "regular",
          "regular",
          "regular",
          "regular",
          "regular",
          "regular",
          "regular",
          "regular",
          "regular",
          "regular",
          "regular",
          "regular",
          "regular",
          "regular",
          "regular",
          "regular",
          "regular",
          "regular",
          "regular",
          "regular",
          "study_mod",
          "study_mod",
          "study_mod",
          "study_mod",
          "study_mod",
          "study_mod",
          "study_mod",
          "study_mod",
          "study_mod",
          "study_mod",
          "study_mod",
          "study_mod",
          "study_mod",
          "study_mod",
          "study_mod",
          "study_mod",
          "study_mod",
          "study_mod",
          "study_mod",
          "study_mod",
          "var_mod",
          "var_mod",
          "var_mod",
          "var_mod",
          "var_mod",
          "var_mod",
          "var_mod",
          "var_mod",
          "var_mod",
          "var_mod",
          "var_mod",
          "var_mod",
          "var_mod",
          "var_mod",
          "var_mod",
          "var_mod",
          "var_mod",
          "var_mod",
          "var_mod",
          "var_mod"
         ],
         "x0": " ",
         "xaxis": "x",
         "y": [
          2,
          1,
          4,
          2,
          2,
          1,
          3,
          4,
          5,
          3,
          2,
          2,
          1,
          1,
          1,
          2,
          2,
          1,
          1,
          1,
          2,
          2,
          1,
          2,
          2,
          4,
          3,
          1,
          2,
          2,
          4,
          4,
          3,
          5,
          1,
          4,
          4,
          3,
          5,
          1,
          2,
          2,
          1,
          5,
          1,
          4,
          2,
          1,
          5,
          2,
          5,
          3,
          2,
          5,
          3,
          3,
          2,
          2,
          5,
          3
         ],
         "y0": " ",
         "yaxis": "y"
        },
        {
         "alignmentgroup": "True",
         "boxpoints": "all",
         "hovertemplate": "m=anyburl<br>th=%{x}<br>score=%{y}<extra></extra>",
         "legendgroup": "anyburl",
         "marker": {
          "color": "rgb(17, 119, 51)"
         },
         "name": "anyburl",
         "notched": false,
         "offsetgroup": "anyburl",
         "orientation": "v",
         "showlegend": true,
         "type": "box",
         "x": [
          "regular",
          "regular",
          "regular",
          "regular",
          "regular",
          "regular",
          "regular",
          "regular",
          "regular",
          "regular",
          "regular",
          "regular",
          "regular",
          "regular",
          "regular",
          "regular",
          "regular",
          "regular",
          "regular",
          "regular",
          "study_mod",
          "study_mod",
          "study_mod",
          "study_mod",
          "study_mod",
          "study_mod",
          "study_mod",
          "study_mod",
          "study_mod",
          "study_mod",
          "study_mod",
          "study_mod",
          "study_mod",
          "study_mod",
          "study_mod",
          "study_mod",
          "study_mod",
          "study_mod",
          "study_mod",
          "study_mod",
          "var_mod",
          "var_mod",
          "var_mod",
          "var_mod",
          "var_mod",
          "var_mod",
          "var_mod",
          "var_mod",
          "var_mod",
          "var_mod",
          "var_mod",
          "var_mod",
          "var_mod",
          "var_mod",
          "var_mod",
          "var_mod",
          "var_mod",
          "var_mod",
          "var_mod",
          "var_mod"
         ],
         "x0": " ",
         "xaxis": "x",
         "y": [
          5,
          2,
          1,
          5,
          5,
          4,
          4,
          1,
          3,
          3,
          2,
          2,
          1,
          1,
          2,
          3,
          3,
          3,
          5,
          5,
          1,
          1,
          1,
          5,
          1,
          3,
          1,
          1,
          5,
          1,
          3,
          4,
          1,
          2,
          1,
          1,
          1,
          1,
          2,
          1,
          2,
          4,
          1,
          5,
          1,
          2,
          2,
          1,
          5,
          1,
          4,
          4,
          4,
          4,
          3,
          3,
          4,
          5,
          4,
          3
         ],
         "y0": " ",
         "yaxis": "y"
        }
       ],
       "layout": {
        "boxmode": "group",
        "legend": {
         "title": {
          "text": "m"
         },
         "tracegroupgap": 0
        },
        "margin": {
         "t": 60
        },
        "template": {
         "data": {
          "bar": [
           {
            "error_x": {
             "color": "#2a3f5f"
            },
            "error_y": {
             "color": "#2a3f5f"
            },
            "marker": {
             "line": {
              "color": "#E5ECF6",
              "width": 0.5
             },
             "pattern": {
              "fillmode": "overlay",
              "size": 10,
              "solidity": 0.2
             }
            },
            "type": "bar"
           }
          ],
          "barpolar": [
           {
            "marker": {
             "line": {
              "color": "#E5ECF6",
              "width": 0.5
             },
             "pattern": {
              "fillmode": "overlay",
              "size": 10,
              "solidity": 0.2
             }
            },
            "type": "barpolar"
           }
          ],
          "carpet": [
           {
            "aaxis": {
             "endlinecolor": "#2a3f5f",
             "gridcolor": "white",
             "linecolor": "white",
             "minorgridcolor": "white",
             "startlinecolor": "#2a3f5f"
            },
            "baxis": {
             "endlinecolor": "#2a3f5f",
             "gridcolor": "white",
             "linecolor": "white",
             "minorgridcolor": "white",
             "startlinecolor": "#2a3f5f"
            },
            "type": "carpet"
           }
          ],
          "choropleth": [
           {
            "colorbar": {
             "outlinewidth": 0,
             "ticks": ""
            },
            "type": "choropleth"
           }
          ],
          "contour": [
           {
            "colorbar": {
             "outlinewidth": 0,
             "ticks": ""
            },
            "colorscale": [
             [
              0,
              "#0d0887"
             ],
             [
              0.1111111111111111,
              "#46039f"
             ],
             [
              0.2222222222222222,
              "#7201a8"
             ],
             [
              0.3333333333333333,
              "#9c179e"
             ],
             [
              0.4444444444444444,
              "#bd3786"
             ],
             [
              0.5555555555555556,
              "#d8576b"
             ],
             [
              0.6666666666666666,
              "#ed7953"
             ],
             [
              0.7777777777777778,
              "#fb9f3a"
             ],
             [
              0.8888888888888888,
              "#fdca26"
             ],
             [
              1,
              "#f0f921"
             ]
            ],
            "type": "contour"
           }
          ],
          "contourcarpet": [
           {
            "colorbar": {
             "outlinewidth": 0,
             "ticks": ""
            },
            "type": "contourcarpet"
           }
          ],
          "heatmap": [
           {
            "colorbar": {
             "outlinewidth": 0,
             "ticks": ""
            },
            "colorscale": [
             [
              0,
              "#0d0887"
             ],
             [
              0.1111111111111111,
              "#46039f"
             ],
             [
              0.2222222222222222,
              "#7201a8"
             ],
             [
              0.3333333333333333,
              "#9c179e"
             ],
             [
              0.4444444444444444,
              "#bd3786"
             ],
             [
              0.5555555555555556,
              "#d8576b"
             ],
             [
              0.6666666666666666,
              "#ed7953"
             ],
             [
              0.7777777777777778,
              "#fb9f3a"
             ],
             [
              0.8888888888888888,
              "#fdca26"
             ],
             [
              1,
              "#f0f921"
             ]
            ],
            "type": "heatmap"
           }
          ],
          "heatmapgl": [
           {
            "colorbar": {
             "outlinewidth": 0,
             "ticks": ""
            },
            "colorscale": [
             [
              0,
              "#0d0887"
             ],
             [
              0.1111111111111111,
              "#46039f"
             ],
             [
              0.2222222222222222,
              "#7201a8"
             ],
             [
              0.3333333333333333,
              "#9c179e"
             ],
             [
              0.4444444444444444,
              "#bd3786"
             ],
             [
              0.5555555555555556,
              "#d8576b"
             ],
             [
              0.6666666666666666,
              "#ed7953"
             ],
             [
              0.7777777777777778,
              "#fb9f3a"
             ],
             [
              0.8888888888888888,
              "#fdca26"
             ],
             [
              1,
              "#f0f921"
             ]
            ],
            "type": "heatmapgl"
           }
          ],
          "histogram": [
           {
            "marker": {
             "pattern": {
              "fillmode": "overlay",
              "size": 10,
              "solidity": 0.2
             }
            },
            "type": "histogram"
           }
          ],
          "histogram2d": [
           {
            "colorbar": {
             "outlinewidth": 0,
             "ticks": ""
            },
            "colorscale": [
             [
              0,
              "#0d0887"
             ],
             [
              0.1111111111111111,
              "#46039f"
             ],
             [
              0.2222222222222222,
              "#7201a8"
             ],
             [
              0.3333333333333333,
              "#9c179e"
             ],
             [
              0.4444444444444444,
              "#bd3786"
             ],
             [
              0.5555555555555556,
              "#d8576b"
             ],
             [
              0.6666666666666666,
              "#ed7953"
             ],
             [
              0.7777777777777778,
              "#fb9f3a"
             ],
             [
              0.8888888888888888,
              "#fdca26"
             ],
             [
              1,
              "#f0f921"
             ]
            ],
            "type": "histogram2d"
           }
          ],
          "histogram2dcontour": [
           {
            "colorbar": {
             "outlinewidth": 0,
             "ticks": ""
            },
            "colorscale": [
             [
              0,
              "#0d0887"
             ],
             [
              0.1111111111111111,
              "#46039f"
             ],
             [
              0.2222222222222222,
              "#7201a8"
             ],
             [
              0.3333333333333333,
              "#9c179e"
             ],
             [
              0.4444444444444444,
              "#bd3786"
             ],
             [
              0.5555555555555556,
              "#d8576b"
             ],
             [
              0.6666666666666666,
              "#ed7953"
             ],
             [
              0.7777777777777778,
              "#fb9f3a"
             ],
             [
              0.8888888888888888,
              "#fdca26"
             ],
             [
              1,
              "#f0f921"
             ]
            ],
            "type": "histogram2dcontour"
           }
          ],
          "mesh3d": [
           {
            "colorbar": {
             "outlinewidth": 0,
             "ticks": ""
            },
            "type": "mesh3d"
           }
          ],
          "parcoords": [
           {
            "line": {
             "colorbar": {
              "outlinewidth": 0,
              "ticks": ""
             }
            },
            "type": "parcoords"
           }
          ],
          "pie": [
           {
            "automargin": true,
            "type": "pie"
           }
          ],
          "scatter": [
           {
            "fillpattern": {
             "fillmode": "overlay",
             "size": 10,
             "solidity": 0.2
            },
            "type": "scatter"
           }
          ],
          "scatter3d": [
           {
            "line": {
             "colorbar": {
              "outlinewidth": 0,
              "ticks": ""
             }
            },
            "marker": {
             "colorbar": {
              "outlinewidth": 0,
              "ticks": ""
             }
            },
            "type": "scatter3d"
           }
          ],
          "scattercarpet": [
           {
            "marker": {
             "colorbar": {
              "outlinewidth": 0,
              "ticks": ""
             }
            },
            "type": "scattercarpet"
           }
          ],
          "scattergeo": [
           {
            "marker": {
             "colorbar": {
              "outlinewidth": 0,
              "ticks": ""
             }
            },
            "type": "scattergeo"
           }
          ],
          "scattergl": [
           {
            "marker": {
             "colorbar": {
              "outlinewidth": 0,
              "ticks": ""
             }
            },
            "type": "scattergl"
           }
          ],
          "scattermapbox": [
           {
            "marker": {
             "colorbar": {
              "outlinewidth": 0,
              "ticks": ""
             }
            },
            "type": "scattermapbox"
           }
          ],
          "scatterpolar": [
           {
            "marker": {
             "colorbar": {
              "outlinewidth": 0,
              "ticks": ""
             }
            },
            "type": "scatterpolar"
           }
          ],
          "scatterpolargl": [
           {
            "marker": {
             "colorbar": {
              "outlinewidth": 0,
              "ticks": ""
             }
            },
            "type": "scatterpolargl"
           }
          ],
          "scatterternary": [
           {
            "marker": {
             "colorbar": {
              "outlinewidth": 0,
              "ticks": ""
             }
            },
            "type": "scatterternary"
           }
          ],
          "surface": [
           {
            "colorbar": {
             "outlinewidth": 0,
             "ticks": ""
            },
            "colorscale": [
             [
              0,
              "#0d0887"
             ],
             [
              0.1111111111111111,
              "#46039f"
             ],
             [
              0.2222222222222222,
              "#7201a8"
             ],
             [
              0.3333333333333333,
              "#9c179e"
             ],
             [
              0.4444444444444444,
              "#bd3786"
             ],
             [
              0.5555555555555556,
              "#d8576b"
             ],
             [
              0.6666666666666666,
              "#ed7953"
             ],
             [
              0.7777777777777778,
              "#fb9f3a"
             ],
             [
              0.8888888888888888,
              "#fdca26"
             ],
             [
              1,
              "#f0f921"
             ]
            ],
            "type": "surface"
           }
          ],
          "table": [
           {
            "cells": {
             "fill": {
              "color": "#EBF0F8"
             },
             "line": {
              "color": "white"
             }
            },
            "header": {
             "fill": {
              "color": "#C8D4E3"
             },
             "line": {
              "color": "white"
             }
            },
            "type": "table"
           }
          ]
         },
         "layout": {
          "annotationdefaults": {
           "arrowcolor": "#2a3f5f",
           "arrowhead": 0,
           "arrowwidth": 1
          },
          "autotypenumbers": "strict",
          "coloraxis": {
           "colorbar": {
            "outlinewidth": 0,
            "ticks": ""
           }
          },
          "colorscale": {
           "diverging": [
            [
             0,
             "#8e0152"
            ],
            [
             0.1,
             "#c51b7d"
            ],
            [
             0.2,
             "#de77ae"
            ],
            [
             0.3,
             "#f1b6da"
            ],
            [
             0.4,
             "#fde0ef"
            ],
            [
             0.5,
             "#f7f7f7"
            ],
            [
             0.6,
             "#e6f5d0"
            ],
            [
             0.7,
             "#b8e186"
            ],
            [
             0.8,
             "#7fbc41"
            ],
            [
             0.9,
             "#4d9221"
            ],
            [
             1,
             "#276419"
            ]
           ],
           "sequential": [
            [
             0,
             "#0d0887"
            ],
            [
             0.1111111111111111,
             "#46039f"
            ],
            [
             0.2222222222222222,
             "#7201a8"
            ],
            [
             0.3333333333333333,
             "#9c179e"
            ],
            [
             0.4444444444444444,
             "#bd3786"
            ],
            [
             0.5555555555555556,
             "#d8576b"
            ],
            [
             0.6666666666666666,
             "#ed7953"
            ],
            [
             0.7777777777777778,
             "#fb9f3a"
            ],
            [
             0.8888888888888888,
             "#fdca26"
            ],
            [
             1,
             "#f0f921"
            ]
           ],
           "sequentialminus": [
            [
             0,
             "#0d0887"
            ],
            [
             0.1111111111111111,
             "#46039f"
            ],
            [
             0.2222222222222222,
             "#7201a8"
            ],
            [
             0.3333333333333333,
             "#9c179e"
            ],
            [
             0.4444444444444444,
             "#bd3786"
            ],
            [
             0.5555555555555556,
             "#d8576b"
            ],
            [
             0.6666666666666666,
             "#ed7953"
            ],
            [
             0.7777777777777778,
             "#fb9f3a"
            ],
            [
             0.8888888888888888,
             "#fdca26"
            ],
            [
             1,
             "#f0f921"
            ]
           ]
          },
          "colorway": [
           "#636efa",
           "#EF553B",
           "#00cc96",
           "#ab63fa",
           "#FFA15A",
           "#19d3f3",
           "#FF6692",
           "#B6E880",
           "#FF97FF",
           "#FECB52"
          ],
          "font": {
           "color": "#2a3f5f"
          },
          "geo": {
           "bgcolor": "white",
           "lakecolor": "white",
           "landcolor": "#E5ECF6",
           "showlakes": true,
           "showland": true,
           "subunitcolor": "white"
          },
          "hoverlabel": {
           "align": "left"
          },
          "hovermode": "closest",
          "mapbox": {
           "style": "light"
          },
          "paper_bgcolor": "white",
          "plot_bgcolor": "#E5ECF6",
          "polar": {
           "angularaxis": {
            "gridcolor": "white",
            "linecolor": "white",
            "ticks": ""
           },
           "bgcolor": "#E5ECF6",
           "radialaxis": {
            "gridcolor": "white",
            "linecolor": "white",
            "ticks": ""
           }
          },
          "scene": {
           "xaxis": {
            "backgroundcolor": "#E5ECF6",
            "gridcolor": "white",
            "gridwidth": 2,
            "linecolor": "white",
            "showbackground": true,
            "ticks": "",
            "zerolinecolor": "white"
           },
           "yaxis": {
            "backgroundcolor": "#E5ECF6",
            "gridcolor": "white",
            "gridwidth": 2,
            "linecolor": "white",
            "showbackground": true,
            "ticks": "",
            "zerolinecolor": "white"
           },
           "zaxis": {
            "backgroundcolor": "#E5ECF6",
            "gridcolor": "white",
            "gridwidth": 2,
            "linecolor": "white",
            "showbackground": true,
            "ticks": "",
            "zerolinecolor": "white"
           }
          },
          "shapedefaults": {
           "line": {
            "color": "#2a3f5f"
           }
          },
          "ternary": {
           "aaxis": {
            "gridcolor": "white",
            "linecolor": "white",
            "ticks": ""
           },
           "baxis": {
            "gridcolor": "white",
            "linecolor": "white",
            "ticks": ""
           },
           "bgcolor": "#E5ECF6",
           "caxis": {
            "gridcolor": "white",
            "linecolor": "white",
            "ticks": ""
           }
          },
          "title": {
           "x": 0.05
          },
          "xaxis": {
           "automargin": true,
           "gridcolor": "white",
           "linecolor": "white",
           "ticks": "",
           "title": {
            "standoff": 15
           },
           "zerolinecolor": "white",
           "zerolinewidth": 2
          },
          "yaxis": {
           "automargin": true,
           "gridcolor": "white",
           "linecolor": "white",
           "ticks": "",
           "title": {
            "standoff": 15
           },
           "zerolinecolor": "white",
           "zerolinewidth": 2
          }
         }
        },
        "title": {
         "text": "Distribution of Scores by Model and Type of Hypothesis"
        },
        "xaxis": {
         "anchor": "y",
         "domain": [
          0,
          1
         ],
         "title": {
          "text": "th"
         }
        },
        "yaxis": {
         "anchor": "x",
         "domain": [
          0,
          1
         ],
         "title": {
          "text": "score"
         }
        }
       }
      }
     },
     "metadata": {},
     "output_type": "display_data"
    }
   ],
   "source": [
    "columns = [\"user_id\", \"score\", \"th\", \"giv\", \"i_shuffled\", \"m\"]\n",
    "df_score_h_ai_human = pd.concat([human_h[columns], ai_h[columns]])\n",
    "\n",
    "fig = px.box(df_score_h_ai_human, x='th', y='score', color='m', points='all',\n",
    "             #labels={'Score': 'Scores', 'Model': 'Models', 'Type of Hypothesis': 'Type of Hypothesis'}\n",
    "             color_discrete_map=COLOR_PALETTE\n",
    "             )\n",
    "fig.update_layout(title='Distribution of Scores by Model and Type of Hypothesis')\n",
    "fig.write_image(\"../visualisations/user_studies_ai_human_h_scores.pdf\", format='pdf')\n",
    "fig.show()"
   ]
  },
  {
   "cell_type": "code",
   "execution_count": 48,
   "metadata": {},
   "outputs": [
    {
     "data": {
      "text/html": [
       "<div>\n",
       "<style scoped>\n",
       "    .dataframe tbody tr th:only-of-type {\n",
       "        vertical-align: middle;\n",
       "    }\n",
       "\n",
       "    .dataframe tbody tr th {\n",
       "        vertical-align: top;\n",
       "    }\n",
       "\n",
       "    .dataframe thead th {\n",
       "        text-align: right;\n",
       "    }\n",
       "</style>\n",
       "<table border=\"1\" class=\"dataframe\">\n",
       "  <thead>\n",
       "    <tr style=\"text-align: right;\">\n",
       "      <th></th>\n",
       "      <th>comparative</th>\n",
       "      <th>giv</th>\n",
       "      <th>hypothesis</th>\n",
       "      <th>i_orig</th>\n",
       "      <th>i_shuffled</th>\n",
       "      <th>m</th>\n",
       "      <th>mod</th>\n",
       "      <th>mod1</th>\n",
       "      <th>mod2</th>\n",
       "      <th>mod_val</th>\n",
       "      <th>score</th>\n",
       "      <th>siv</th>\n",
       "      <th>sivv1</th>\n",
       "      <th>sivv2</th>\n",
       "      <th>th</th>\n",
       "      <th>user_id</th>\n",
       "    </tr>\n",
       "  </thead>\n",
       "  <tbody>\n",
       "    <tr>\n",
       "      <th>0</th>\n",
       "      <td>higher</td>\n",
       "      <td>ReputationVariable</td>\n",
       "      <td>cooperation is significantly higher when anony...</td>\n",
       "      <td>0</td>\n",
       "      <td>0</td>\n",
       "      <td>classification</td>\n",
       "      <td>None</td>\n",
       "      <td>None</td>\n",
       "      <td>None</td>\n",
       "      <td>None</td>\n",
       "      <td>3</td>\n",
       "      <td>anonymity manipulation</td>\n",
       "      <td>low</td>\n",
       "      <td>medium</td>\n",
       "      <td>regular</td>\n",
       "      <td>0</td>\n",
       "    </tr>\n",
       "    <tr>\n",
       "      <th>1</th>\n",
       "      <td>higher</td>\n",
       "      <td>ReputationVariable</td>\n",
       "      <td>cooperation is significantly higher when anony...</td>\n",
       "      <td>0</td>\n",
       "      <td>0</td>\n",
       "      <td>classification</td>\n",
       "      <td>None</td>\n",
       "      <td>None</td>\n",
       "      <td>None</td>\n",
       "      <td>None</td>\n",
       "      <td>2</td>\n",
       "      <td>anonymity manipulation</td>\n",
       "      <td>low</td>\n",
       "      <td>medium</td>\n",
       "      <td>regular</td>\n",
       "      <td>1</td>\n",
       "    </tr>\n",
       "    <tr>\n",
       "      <th>2</th>\n",
       "      <td>higher</td>\n",
       "      <td>ReputationVariable</td>\n",
       "      <td>cooperation is significantly higher when anony...</td>\n",
       "      <td>0</td>\n",
       "      <td>0</td>\n",
       "      <td>classification</td>\n",
       "      <td>None</td>\n",
       "      <td>None</td>\n",
       "      <td>None</td>\n",
       "      <td>None</td>\n",
       "      <td>3</td>\n",
       "      <td>anonymity manipulation</td>\n",
       "      <td>low</td>\n",
       "      <td>medium</td>\n",
       "      <td>regular</td>\n",
       "      <td>2</td>\n",
       "    </tr>\n",
       "    <tr>\n",
       "      <th>3</th>\n",
       "      <td>higher</td>\n",
       "      <td>ReputationVariable</td>\n",
       "      <td>cooperation is significantly higher when anony...</td>\n",
       "      <td>0</td>\n",
       "      <td>0</td>\n",
       "      <td>classification</td>\n",
       "      <td>None</td>\n",
       "      <td>None</td>\n",
       "      <td>None</td>\n",
       "      <td>None</td>\n",
       "      <td>3</td>\n",
       "      <td>anonymity manipulation</td>\n",
       "      <td>low</td>\n",
       "      <td>medium</td>\n",
       "      <td>regular</td>\n",
       "      <td>3</td>\n",
       "    </tr>\n",
       "    <tr>\n",
       "      <th>4</th>\n",
       "      <td>higher</td>\n",
       "      <td>ReputationVariable</td>\n",
       "      <td>cooperation is significantly higher when anony...</td>\n",
       "      <td>0</td>\n",
       "      <td>0</td>\n",
       "      <td>classification</td>\n",
       "      <td>None</td>\n",
       "      <td>None</td>\n",
       "      <td>None</td>\n",
       "      <td>None</td>\n",
       "      <td>3</td>\n",
       "      <td>anonymity manipulation</td>\n",
       "      <td>low</td>\n",
       "      <td>medium</td>\n",
       "      <td>regular</td>\n",
       "      <td>4</td>\n",
       "    </tr>\n",
       "    <tr>\n",
       "      <th>...</th>\n",
       "      <td>...</td>\n",
       "      <td>...</td>\n",
       "      <td>...</td>\n",
       "      <td>...</td>\n",
       "      <td>...</td>\n",
       "      <td>...</td>\n",
       "      <td>...</td>\n",
       "      <td>...</td>\n",
       "      <td>...</td>\n",
       "      <td>...</td>\n",
       "      <td>...</td>\n",
       "      <td>...</td>\n",
       "      <td>...</td>\n",
       "      <td>...</td>\n",
       "      <td>...</td>\n",
       "      <td>...</td>\n",
       "    </tr>\n",
       "    <tr>\n",
       "      <th>175</th>\n",
       "      <td>higher</td>\n",
       "      <td>IdentificationVariable</td>\n",
       "      <td>when comparing studies where partner's group m...</td>\n",
       "      <td>5</td>\n",
       "      <td>5</td>\n",
       "      <td>anyburl</td>\n",
       "      <td>identification level</td>\n",
       "      <td>high</td>\n",
       "      <td>low</td>\n",
       "      <td>None</td>\n",
       "      <td>3</td>\n",
       "      <td>partner's group membership</td>\n",
       "      <td>ingroup</td>\n",
       "      <td>stranger</td>\n",
       "      <td>var_mod</td>\n",
       "      <td>0</td>\n",
       "    </tr>\n",
       "    <tr>\n",
       "      <th>176</th>\n",
       "      <td>higher</td>\n",
       "      <td>IdentificationVariable</td>\n",
       "      <td>when comparing studies where partner's group m...</td>\n",
       "      <td>5</td>\n",
       "      <td>5</td>\n",
       "      <td>anyburl</td>\n",
       "      <td>identification level</td>\n",
       "      <td>high</td>\n",
       "      <td>low</td>\n",
       "      <td>None</td>\n",
       "      <td>4</td>\n",
       "      <td>partner's group membership</td>\n",
       "      <td>ingroup</td>\n",
       "      <td>stranger</td>\n",
       "      <td>var_mod</td>\n",
       "      <td>1</td>\n",
       "    </tr>\n",
       "    <tr>\n",
       "      <th>177</th>\n",
       "      <td>higher</td>\n",
       "      <td>IdentificationVariable</td>\n",
       "      <td>when comparing studies where partner's group m...</td>\n",
       "      <td>5</td>\n",
       "      <td>5</td>\n",
       "      <td>anyburl</td>\n",
       "      <td>identification level</td>\n",
       "      <td>high</td>\n",
       "      <td>low</td>\n",
       "      <td>None</td>\n",
       "      <td>5</td>\n",
       "      <td>partner's group membership</td>\n",
       "      <td>ingroup</td>\n",
       "      <td>stranger</td>\n",
       "      <td>var_mod</td>\n",
       "      <td>2</td>\n",
       "    </tr>\n",
       "    <tr>\n",
       "      <th>178</th>\n",
       "      <td>higher</td>\n",
       "      <td>IdentificationVariable</td>\n",
       "      <td>when comparing studies where partner's group m...</td>\n",
       "      <td>5</td>\n",
       "      <td>5</td>\n",
       "      <td>anyburl</td>\n",
       "      <td>identification level</td>\n",
       "      <td>high</td>\n",
       "      <td>low</td>\n",
       "      <td>None</td>\n",
       "      <td>4</td>\n",
       "      <td>partner's group membership</td>\n",
       "      <td>ingroup</td>\n",
       "      <td>stranger</td>\n",
       "      <td>var_mod</td>\n",
       "      <td>3</td>\n",
       "    </tr>\n",
       "    <tr>\n",
       "      <th>179</th>\n",
       "      <td>higher</td>\n",
       "      <td>IdentificationVariable</td>\n",
       "      <td>when comparing studies where partner's group m...</td>\n",
       "      <td>5</td>\n",
       "      <td>5</td>\n",
       "      <td>anyburl</td>\n",
       "      <td>identification level</td>\n",
       "      <td>high</td>\n",
       "      <td>low</td>\n",
       "      <td>None</td>\n",
       "      <td>3</td>\n",
       "      <td>partner's group membership</td>\n",
       "      <td>ingroup</td>\n",
       "      <td>stranger</td>\n",
       "      <td>var_mod</td>\n",
       "      <td>4</td>\n",
       "    </tr>\n",
       "  </tbody>\n",
       "</table>\n",
       "<p>180 rows × 16 columns</p>\n",
       "</div>"
      ],
      "text/plain": [
       "    comparative                     giv  \\\n",
       "0        higher      ReputationVariable   \n",
       "1        higher      ReputationVariable   \n",
       "2        higher      ReputationVariable   \n",
       "3        higher      ReputationVariable   \n",
       "4        higher      ReputationVariable   \n",
       "..          ...                     ...   \n",
       "175      higher  IdentificationVariable   \n",
       "176      higher  IdentificationVariable   \n",
       "177      higher  IdentificationVariable   \n",
       "178      higher  IdentificationVariable   \n",
       "179      higher  IdentificationVariable   \n",
       "\n",
       "                                            hypothesis  i_orig i_shuffled  \\\n",
       "0    cooperation is significantly higher when anony...       0          0   \n",
       "1    cooperation is significantly higher when anony...       0          0   \n",
       "2    cooperation is significantly higher when anony...       0          0   \n",
       "3    cooperation is significantly higher when anony...       0          0   \n",
       "4    cooperation is significantly higher when anony...       0          0   \n",
       "..                                                 ...     ...        ...   \n",
       "175  when comparing studies where partner's group m...       5          5   \n",
       "176  when comparing studies where partner's group m...       5          5   \n",
       "177  when comparing studies where partner's group m...       5          5   \n",
       "178  when comparing studies where partner's group m...       5          5   \n",
       "179  when comparing studies where partner's group m...       5          5   \n",
       "\n",
       "                  m                   mod  mod1  mod2 mod_val  score  \\\n",
       "0    classification                  None  None  None    None      3   \n",
       "1    classification                  None  None  None    None      2   \n",
       "2    classification                  None  None  None    None      3   \n",
       "3    classification                  None  None  None    None      3   \n",
       "4    classification                  None  None  None    None      3   \n",
       "..              ...                   ...   ...   ...     ...    ...   \n",
       "175         anyburl  identification level  high   low    None      3   \n",
       "176         anyburl  identification level  high   low    None      4   \n",
       "177         anyburl  identification level  high   low    None      5   \n",
       "178         anyburl  identification level  high   low    None      4   \n",
       "179         anyburl  identification level  high   low    None      3   \n",
       "\n",
       "                            siv    sivv1     sivv2       th  user_id  \n",
       "0        anonymity manipulation      low    medium  regular        0  \n",
       "1        anonymity manipulation      low    medium  regular        1  \n",
       "2        anonymity manipulation      low    medium  regular        2  \n",
       "3        anonymity manipulation      low    medium  regular        3  \n",
       "4        anonymity manipulation      low    medium  regular        4  \n",
       "..                          ...      ...       ...      ...      ...  \n",
       "175  partner's group membership  ingroup  stranger  var_mod        0  \n",
       "176  partner's group membership  ingroup  stranger  var_mod        1  \n",
       "177  partner's group membership  ingroup  stranger  var_mod        2  \n",
       "178  partner's group membership  ingroup  stranger  var_mod        3  \n",
       "179  partner's group membership  ingroup  stranger  var_mod        4  \n",
       "\n",
       "[180 rows x 16 columns]"
      ]
     },
     "execution_count": 48,
     "metadata": {},
     "output_type": "execute_result"
    }
   ],
   "source": [
    "ai_h"
   ]
  },
  {
   "cell_type": "code",
   "execution_count": 49,
   "metadata": {},
   "outputs": [
    {
     "data": {
      "text/html": [
       "<div>\n",
       "<style scoped>\n",
       "    .dataframe tbody tr th:only-of-type {\n",
       "        vertical-align: middle;\n",
       "    }\n",
       "\n",
       "    .dataframe tbody tr th {\n",
       "        vertical-align: top;\n",
       "    }\n",
       "\n",
       "    .dataframe thead th {\n",
       "        text-align: right;\n",
       "    }\n",
       "</style>\n",
       "<table border=\"1\" class=\"dataframe\">\n",
       "  <thead>\n",
       "    <tr style=\"text-align: right;\">\n",
       "      <th></th>\n",
       "      <th>hypothesis</th>\n",
       "    </tr>\n",
       "    <tr>\n",
       "      <th>siv</th>\n",
       "      <th></th>\n",
       "    </tr>\n",
       "  </thead>\n",
       "  <tbody>\n",
       "    <tr>\n",
       "      <th>game incentive</th>\n",
       "      <td>30</td>\n",
       "    </tr>\n",
       "    <tr>\n",
       "      <th>leadership assignment rule</th>\n",
       "      <td>30</td>\n",
       "    </tr>\n",
       "    <tr>\n",
       "      <th>gender</th>\n",
       "      <td>20</td>\n",
       "    </tr>\n",
       "    <tr>\n",
       "      <th>svo type</th>\n",
       "      <td>20</td>\n",
       "    </tr>\n",
       "    <tr>\n",
       "      <th>anonymity manipulation</th>\n",
       "      <td>10</td>\n",
       "    </tr>\n",
       "    <tr>\n",
       "      <th>heterogeneous gender</th>\n",
       "      <td>10</td>\n",
       "    </tr>\n",
       "    <tr>\n",
       "      <th>identification level</th>\n",
       "      <td>10</td>\n",
       "    </tr>\n",
       "    <tr>\n",
       "      <th>knowledge of group membership</th>\n",
       "      <td>10</td>\n",
       "    </tr>\n",
       "    <tr>\n",
       "      <th>partner's group membership</th>\n",
       "      <td>10</td>\n",
       "    </tr>\n",
       "    <tr>\n",
       "      <th>knowledge of partner's prior behavior</th>\n",
       "      <td>5</td>\n",
       "    </tr>\n",
       "    <tr>\n",
       "      <th>partner selection</th>\n",
       "      <td>5</td>\n",
       "    </tr>\n",
       "  </tbody>\n",
       "</table>\n",
       "</div>"
      ],
      "text/plain": [
       "                                       hypothesis\n",
       "siv                                              \n",
       "game incentive                                 30\n",
       "leadership assignment rule                     30\n",
       "gender                                         20\n",
       "svo type                                       20\n",
       "anonymity manipulation                         10\n",
       "heterogeneous gender                           10\n",
       "identification level                           10\n",
       "knowledge of group membership                  10\n",
       "partner's group membership                     10\n",
       "knowledge of partner's prior behavior           5\n",
       "partner selection                               5"
      ]
     },
     "execution_count": 49,
     "metadata": {},
     "output_type": "execute_result"
    }
   ],
   "source": [
    "ai_h.groupby([\"siv\"]).agg({\"hypothesis\": \"count\"}).sort_values(by=\"hypothesis\", ascending=False)"
   ]
  },
  {
   "cell_type": "markdown",
   "metadata": {},
   "source": [
    "## Comparing human-generated hypotheses and ai-generated hypotheses"
   ]
  },
  {
   "cell_type": "code",
   "execution_count": 50,
   "metadata": {},
   "outputs": [
    {
     "data": {
      "text/html": [
       "<div>\n",
       "<style scoped>\n",
       "    .dataframe tbody tr th:only-of-type {\n",
       "        vertical-align: middle;\n",
       "    }\n",
       "\n",
       "    .dataframe tbody tr th {\n",
       "        vertical-align: top;\n",
       "    }\n",
       "\n",
       "    .dataframe thead th {\n",
       "        text-align: right;\n",
       "    }\n",
       "</style>\n",
       "<table border=\"1\" class=\"dataframe\">\n",
       "  <thead>\n",
       "    <tr style=\"text-align: right;\">\n",
       "      <th></th>\n",
       "      <th>regular_ReputationVariable_A</th>\n",
       "      <th>regular_ReputationVariable_B</th>\n",
       "      <th>regular_ReputationVariable_C</th>\n",
       "      <th>regular_ReputationVariable_D</th>\n",
       "      <th>regular_ReputationVariable_E</th>\n",
       "      <th>regular_ReputationVariable_H0</th>\n",
       "      <th>regular_ReputationVariable_H1</th>\n",
       "      <th>regular_ReputationVariable_H2</th>\n",
       "      <th>regular_ReputationVariable_H3</th>\n",
       "      <th>regular_ReputationVariable_H4</th>\n",
       "      <th>...</th>\n",
       "      <th>var_mod_IdentificationVariable_B</th>\n",
       "      <th>var_mod_IdentificationVariable_C</th>\n",
       "      <th>var_mod_IdentificationVariable_D</th>\n",
       "      <th>var_mod_IdentificationVariable_E</th>\n",
       "      <th>var_mod_IdentificationVariable_H0</th>\n",
       "      <th>var_mod_IdentificationVariable_H1</th>\n",
       "      <th>var_mod_IdentificationVariable_H2</th>\n",
       "      <th>var_mod_IdentificationVariable_H3</th>\n",
       "      <th>var_mod_IdentificationVariable_H4</th>\n",
       "      <th>var_mod_IdentificationVariable_H5</th>\n",
       "    </tr>\n",
       "  </thead>\n",
       "  <tbody>\n",
       "    <tr>\n",
       "      <th>0</th>\n",
       "      <td>7</td>\n",
       "      <td>2</td>\n",
       "      <td>8</td>\n",
       "      <td>11</td>\n",
       "      <td>5</td>\n",
       "      <td>6</td>\n",
       "      <td>9</td>\n",
       "      <td>3</td>\n",
       "      <td>1</td>\n",
       "      <td>10</td>\n",
       "      <td>...</td>\n",
       "      <td>10</td>\n",
       "      <td>2</td>\n",
       "      <td>6</td>\n",
       "      <td>4</td>\n",
       "      <td>3</td>\n",
       "      <td>1</td>\n",
       "      <td>9</td>\n",
       "      <td>5</td>\n",
       "      <td>7</td>\n",
       "      <td>8</td>\n",
       "    </tr>\n",
       "    <tr>\n",
       "      <th>1</th>\n",
       "      <td>8</td>\n",
       "      <td>7</td>\n",
       "      <td>1</td>\n",
       "      <td>5</td>\n",
       "      <td>3</td>\n",
       "      <td>10</td>\n",
       "      <td>11</td>\n",
       "      <td>2</td>\n",
       "      <td>9</td>\n",
       "      <td>6</td>\n",
       "      <td>...</td>\n",
       "      <td>2</td>\n",
       "      <td>3</td>\n",
       "      <td>5</td>\n",
       "      <td>7</td>\n",
       "      <td>4</td>\n",
       "      <td>8</td>\n",
       "      <td>10</td>\n",
       "      <td>9</td>\n",
       "      <td>11</td>\n",
       "      <td>6</td>\n",
       "    </tr>\n",
       "    <tr>\n",
       "      <th>2</th>\n",
       "      <td>3</td>\n",
       "      <td>8</td>\n",
       "      <td>2</td>\n",
       "      <td>5</td>\n",
       "      <td>1</td>\n",
       "      <td>6</td>\n",
       "      <td>7</td>\n",
       "      <td>9</td>\n",
       "      <td>10</td>\n",
       "      <td>4</td>\n",
       "      <td>...</td>\n",
       "      <td>2</td>\n",
       "      <td>3</td>\n",
       "      <td>4</td>\n",
       "      <td>8</td>\n",
       "      <td>9</td>\n",
       "      <td>10</td>\n",
       "      <td>5</td>\n",
       "      <td>6</td>\n",
       "      <td>11</td>\n",
       "      <td>7</td>\n",
       "    </tr>\n",
       "    <tr>\n",
       "      <th>3</th>\n",
       "      <td>5</td>\n",
       "      <td>1</td>\n",
       "      <td>4</td>\n",
       "      <td>2</td>\n",
       "      <td>7</td>\n",
       "      <td>10</td>\n",
       "      <td>11</td>\n",
       "      <td>8</td>\n",
       "      <td>3</td>\n",
       "      <td>6</td>\n",
       "      <td>...</td>\n",
       "      <td>2</td>\n",
       "      <td>3</td>\n",
       "      <td>4</td>\n",
       "      <td>5</td>\n",
       "      <td>11</td>\n",
       "      <td>6</td>\n",
       "      <td>7</td>\n",
       "      <td>8</td>\n",
       "      <td>9</td>\n",
       "      <td>10</td>\n",
       "    </tr>\n",
       "    <tr>\n",
       "      <th>4</th>\n",
       "      <td>9</td>\n",
       "      <td>10</td>\n",
       "      <td>6</td>\n",
       "      <td>7</td>\n",
       "      <td>11</td>\n",
       "      <td>4</td>\n",
       "      <td>2</td>\n",
       "      <td>8</td>\n",
       "      <td>1</td>\n",
       "      <td>5</td>\n",
       "      <td>...</td>\n",
       "      <td>10</td>\n",
       "      <td>9</td>\n",
       "      <td>8</td>\n",
       "      <td>7</td>\n",
       "      <td>5</td>\n",
       "      <td>4</td>\n",
       "      <td>3</td>\n",
       "      <td>6</td>\n",
       "      <td>2</td>\n",
       "      <td>1</td>\n",
       "    </tr>\n",
       "  </tbody>\n",
       "</table>\n",
       "<p>5 rows × 66 columns</p>\n",
       "</div>"
      ],
      "text/plain": [
       "   regular_ReputationVariable_A  regular_ReputationVariable_B  \\\n",
       "0                             7                             2   \n",
       "1                             8                             7   \n",
       "2                             3                             8   \n",
       "3                             5                             1   \n",
       "4                             9                            10   \n",
       "\n",
       "   regular_ReputationVariable_C  regular_ReputationVariable_D  \\\n",
       "0                             8                            11   \n",
       "1                             1                             5   \n",
       "2                             2                             5   \n",
       "3                             4                             2   \n",
       "4                             6                             7   \n",
       "\n",
       "   regular_ReputationVariable_E  regular_ReputationVariable_H0  \\\n",
       "0                             5                              6   \n",
       "1                             3                             10   \n",
       "2                             1                              6   \n",
       "3                             7                             10   \n",
       "4                            11                              4   \n",
       "\n",
       "   regular_ReputationVariable_H1  regular_ReputationVariable_H2  \\\n",
       "0                              9                              3   \n",
       "1                             11                              2   \n",
       "2                              7                              9   \n",
       "3                             11                              8   \n",
       "4                              2                              8   \n",
       "\n",
       "   regular_ReputationVariable_H3  regular_ReputationVariable_H4  ...  \\\n",
       "0                              1                             10  ...   \n",
       "1                              9                              6  ...   \n",
       "2                             10                              4  ...   \n",
       "3                              3                              6  ...   \n",
       "4                              1                              5  ...   \n",
       "\n",
       "   var_mod_IdentificationVariable_B  var_mod_IdentificationVariable_C  \\\n",
       "0                                10                                 2   \n",
       "1                                 2                                 3   \n",
       "2                                 2                                 3   \n",
       "3                                 2                                 3   \n",
       "4                                10                                 9   \n",
       "\n",
       "   var_mod_IdentificationVariable_D  var_mod_IdentificationVariable_E  \\\n",
       "0                                 6                                 4   \n",
       "1                                 5                                 7   \n",
       "2                                 4                                 8   \n",
       "3                                 4                                 5   \n",
       "4                                 8                                 7   \n",
       "\n",
       "   var_mod_IdentificationVariable_H0  var_mod_IdentificationVariable_H1  \\\n",
       "0                                  3                                  1   \n",
       "1                                  4                                  8   \n",
       "2                                  9                                 10   \n",
       "3                                 11                                  6   \n",
       "4                                  5                                  4   \n",
       "\n",
       "   var_mod_IdentificationVariable_H2  var_mod_IdentificationVariable_H3  \\\n",
       "0                                  9                                  5   \n",
       "1                                 10                                  9   \n",
       "2                                  5                                  6   \n",
       "3                                  7                                  8   \n",
       "4                                  3                                  6   \n",
       "\n",
       "   var_mod_IdentificationVariable_H4  var_mod_IdentificationVariable_H5  \n",
       "0                                  7                                  8  \n",
       "1                                 11                                  6  \n",
       "2                                 11                                  7  \n",
       "3                                  9                                 10  \n",
       "4                                  2                                  1  \n",
       "\n",
       "[5 rows x 66 columns]"
      ]
     },
     "execution_count": 50,
     "metadata": {},
     "output_type": "execute_result"
    }
   ],
   "source": [
    "comparison_h_start_col = \"Please rank all the hypotheses, from the best one (rank = 1) to the worst one (rank = 11).\"\n",
    "comparison_h_orig = all_results[[x for x in all_results.columns if x.startswith(comparison_h_start_col)]]\n",
    "comparison_h_orig.columns = [f\"{ho}_{col}\" for ho in H_ORDER for col in COLS_ALL_H]\n",
    "comparison_h_orig"
   ]
  },
  {
   "cell_type": "code",
   "execution_count": 51,
   "metadata": {},
   "outputs": [
    {
     "data": {
      "text/html": [
       "<div>\n",
       "<style scoped>\n",
       "    .dataframe tbody tr th:only-of-type {\n",
       "        vertical-align: middle;\n",
       "    }\n",
       "\n",
       "    .dataframe tbody tr th {\n",
       "        vertical-align: top;\n",
       "    }\n",
       "\n",
       "    .dataframe thead th {\n",
       "        text-align: right;\n",
       "    }\n",
       "</style>\n",
       "<table border=\"1\" class=\"dataframe\">\n",
       "  <thead>\n",
       "    <tr style=\"text-align: right;\">\n",
       "      <th></th>\n",
       "      <th>user_id</th>\n",
       "      <th>rank</th>\n",
       "      <th>th</th>\n",
       "      <th>giv</th>\n",
       "      <th>i_shuffled</th>\n",
       "      <th>m</th>\n",
       "      <th>i_orig</th>\n",
       "      <th>h</th>\n",
       "    </tr>\n",
       "  </thead>\n",
       "  <tbody>\n",
       "    <tr>\n",
       "      <th>267</th>\n",
       "      <td>2</td>\n",
       "      <td>10</td>\n",
       "      <td>var_mod</td>\n",
       "      <td>LeadershipVariable</td>\n",
       "      <td>4</td>\n",
       "      <td>classification</td>\n",
       "      <td>1.0</td>\n",
       "      <td>When comparing studies where leadership assign...</td>\n",
       "    </tr>\n",
       "    <tr>\n",
       "      <th>61</th>\n",
       "      <td>1</td>\n",
       "      <td>4</td>\n",
       "      <td>regular</td>\n",
       "      <td>PersonalityVariable</td>\n",
       "      <td>B</td>\n",
       "      <td>human</td>\n",
       "      <td>NaN</td>\n",
       "      <td>NaN</td>\n",
       "    </tr>\n",
       "    <tr>\n",
       "      <th>203</th>\n",
       "      <td>3</td>\n",
       "      <td>9</td>\n",
       "      <td>study_mod</td>\n",
       "      <td>IncentivesVariable</td>\n",
       "      <td>2</td>\n",
       "      <td>anyburl</td>\n",
       "      <td>5.0</td>\n",
       "      <td>When comparing studies where game incentive is...</td>\n",
       "    </tr>\n",
       "  </tbody>\n",
       "</table>\n",
       "</div>"
      ],
      "text/plain": [
       "    user_id rank         th                  giv i_shuffled               m  \\\n",
       "267       2   10    var_mod   LeadershipVariable          4  classification   \n",
       "61        1    4    regular  PersonalityVariable          B           human   \n",
       "203       3    9  study_mod   IncentivesVariable          2         anyburl   \n",
       "\n",
       "     i_orig                                                  h  \n",
       "267     1.0  When comparing studies where leadership assign...  \n",
       "61      NaN                                                NaN  \n",
       "203     5.0  When comparing studies where game incentive is...  "
      ]
     },
     "execution_count": 51,
     "metadata": {},
     "output_type": "execute_result"
    }
   ],
   "source": [
    "comparison_h = pd.DataFrame(columns=[\"user_id\", \"rank\", \"th\", \"giv\", \"i_shuffled\"])\n",
    "\n",
    "def update_row_ai(row, val):\n",
    "    th = \"_\".join(val.split(\"_\")[:-1])\n",
    "    row[\"th\"] = th\n",
    "    row[\"giv\"] = val.split(\"_\")[-1]\n",
    "    return row\n",
    "\n",
    "for ho in H_ORDER:\n",
    "    for i in COLS_ALL_H:\n",
    "        curr_df = comparison_h_orig[[f\"{ho}_{i}\"]].rename(columns={f\"{ho}_{i}\": \"rank\"})\n",
    "        curr_df[\"user_id\"] = curr_df.index\n",
    "        curr_df[\"i_shuffled\"] = i.replace(\"H\", \"\")\n",
    "        curr_df = curr_df.apply(lambda row: update_row_ai(row, ho), axis=1)\n",
    "        comparison_h = pd.concat([comparison_h, curr_df])\n",
    "    \n",
    "comparison_h = comparison_h.reset_index(drop=True)\n",
    "ai_h_metadata.i_shuffled = ai_h_metadata.i_shuffled.astype(str)\n",
    "comparison_h = pd.merge(comparison_h, ai_h_metadata, on=['th', 'giv', 'i_shuffled'], how='left')\n",
    "comparison_h[\"m\"] = comparison_h[\"m\"].fillna(\"human\")\n",
    "comparison_h.sample(3)"
   ]
  },
  {
   "cell_type": "code",
   "execution_count": 52,
   "metadata": {},
   "outputs": [
    {
     "name": "stdout",
     "output_type": "stream",
     "text": [
      "0.0345412882966986 0.015436339243862368\n"
     ]
    }
   ],
   "source": [
    "data_agreement = comparison_h[comparison_h.m!=\"human\"][[\"th\", \"giv\", \"i_shuffled\", \"m\", \"rank\", \"user_id\"]]\n",
    "data_agreement[\"q_id\"] = data_agreement[\"th\"] + '_' + data_agreement[\"giv\"] + '_' + \\\n",
    "    data_agreement[\"i_shuffled\"] + '_' + data_agreement[\"m\"]\n",
    "data_agreement = data_agreement[[\"q_id\", \"user_id\", \"rank\"]].values\n",
    "\n",
    "questions_answers_table = pivot_table_frequency(data_agreement[:, 0], data_agreement[:, 2])\n",
    "users_answers_table = pivot_table_frequency(data_agreement[:, 1], data_agreement[:, 2])\n",
    "\n",
    "kappa = cohens_kappa(questions_answers_table, users_answers_table)\n",
    "weighted_kappa = cohens_kappa(questions_answers_table, users_answers_table, weights_kernel=quadratic_kernel)\n",
    "print(kappa, weighted_kappa)\n"
   ]
  },
  {
   "cell_type": "code",
   "execution_count": 53,
   "metadata": {},
   "outputs": [
    {
     "data": {
      "application/vnd.plotly.v1+json": {
       "config": {
        "plotlyServerURL": "https://plot.ly"
       },
       "data": [
        {
         "alignmentgroup": "True",
         "boxpoints": "all",
         "hovertemplate": "m=anyburl<br>th=%{x}<br>rank=%{y}<extra></extra>",
         "legendgroup": "anyburl",
         "marker": {
          "color": "rgb(17, 119, 51)"
         },
         "name": "anyburl",
         "notched": false,
         "offsetgroup": "anyburl",
         "orientation": "v",
         "showlegend": true,
         "type": "box",
         "x": [
          "regular",
          "regular",
          "regular",
          "regular",
          "study_mod",
          "study_mod",
          "study_mod",
          "study_mod",
          "var_mod",
          "var_mod",
          "var_mod",
          "var_mod"
         ],
         "x0": " ",
         "xaxis": "x",
         "y": [
          8.6,
          6.2,
          4.8,
          6.2,
          7.8,
          7,
          6.8,
          8.6,
          6.4,
          6.4,
          4.2,
          5.8
         ],
         "y0": " ",
         "yaxis": "y"
        },
        {
         "alignmentgroup": "True",
         "boxpoints": "all",
         "hovertemplate": "m=classification<br>th=%{x}<br>rank=%{y}<extra></extra>",
         "legendgroup": "classification",
         "marker": {
          "color": "rgb(204, 102, 119)"
         },
         "name": "classification",
         "notched": false,
         "offsetgroup": "classification",
         "orientation": "v",
         "showlegend": true,
         "type": "box",
         "x": [
          "regular",
          "regular",
          "regular",
          "regular",
          "study_mod",
          "study_mod",
          "study_mod",
          "study_mod",
          "var_mod",
          "var_mod",
          "var_mod",
          "var_mod"
         ],
         "x0": " ",
         "xaxis": "x",
         "y": [
          7.2,
          5.6,
          7.2,
          6,
          8,
          6.8,
          8.4,
          8.4,
          6.8,
          6.8,
          6.2,
          6.8
         ],
         "y0": " ",
         "yaxis": "y"
        },
        {
         "alignmentgroup": "True",
         "boxpoints": "all",
         "hovertemplate": "m=llm_zero_shot_prompting<br>th=%{x}<br>rank=%{y}<extra></extra>",
         "legendgroup": "llm_zero_shot_prompting",
         "marker": {
          "color": "rgb(221, 204, 119)"
         },
         "name": "llm_zero_shot_prompting",
         "notched": false,
         "offsetgroup": "llm_zero_shot_prompting",
         "orientation": "v",
         "showlegend": true,
         "type": "box",
         "x": [
          "regular",
          "regular",
          "regular",
          "regular",
          "study_mod",
          "study_mod",
          "study_mod",
          "study_mod",
          "var_mod",
          "var_mod",
          "var_mod",
          "var_mod"
         ],
         "x0": " ",
         "xaxis": "x",
         "y": [
          7.6,
          8.6,
          8,
          6.2,
          7.8,
          6.2,
          4.6,
          5.2,
          5.8,
          8,
          5.6,
          7.4
         ],
         "y0": " ",
         "yaxis": "y"
        }
       ],
       "layout": {
        "boxmode": "group",
        "legend": {
         "title": {
          "text": "m"
         },
         "tracegroupgap": 0
        },
        "margin": {
         "t": 60
        },
        "template": {
         "data": {
          "bar": [
           {
            "error_x": {
             "color": "#2a3f5f"
            },
            "error_y": {
             "color": "#2a3f5f"
            },
            "marker": {
             "line": {
              "color": "#E5ECF6",
              "width": 0.5
             },
             "pattern": {
              "fillmode": "overlay",
              "size": 10,
              "solidity": 0.2
             }
            },
            "type": "bar"
           }
          ],
          "barpolar": [
           {
            "marker": {
             "line": {
              "color": "#E5ECF6",
              "width": 0.5
             },
             "pattern": {
              "fillmode": "overlay",
              "size": 10,
              "solidity": 0.2
             }
            },
            "type": "barpolar"
           }
          ],
          "carpet": [
           {
            "aaxis": {
             "endlinecolor": "#2a3f5f",
             "gridcolor": "white",
             "linecolor": "white",
             "minorgridcolor": "white",
             "startlinecolor": "#2a3f5f"
            },
            "baxis": {
             "endlinecolor": "#2a3f5f",
             "gridcolor": "white",
             "linecolor": "white",
             "minorgridcolor": "white",
             "startlinecolor": "#2a3f5f"
            },
            "type": "carpet"
           }
          ],
          "choropleth": [
           {
            "colorbar": {
             "outlinewidth": 0,
             "ticks": ""
            },
            "type": "choropleth"
           }
          ],
          "contour": [
           {
            "colorbar": {
             "outlinewidth": 0,
             "ticks": ""
            },
            "colorscale": [
             [
              0,
              "#0d0887"
             ],
             [
              0.1111111111111111,
              "#46039f"
             ],
             [
              0.2222222222222222,
              "#7201a8"
             ],
             [
              0.3333333333333333,
              "#9c179e"
             ],
             [
              0.4444444444444444,
              "#bd3786"
             ],
             [
              0.5555555555555556,
              "#d8576b"
             ],
             [
              0.6666666666666666,
              "#ed7953"
             ],
             [
              0.7777777777777778,
              "#fb9f3a"
             ],
             [
              0.8888888888888888,
              "#fdca26"
             ],
             [
              1,
              "#f0f921"
             ]
            ],
            "type": "contour"
           }
          ],
          "contourcarpet": [
           {
            "colorbar": {
             "outlinewidth": 0,
             "ticks": ""
            },
            "type": "contourcarpet"
           }
          ],
          "heatmap": [
           {
            "colorbar": {
             "outlinewidth": 0,
             "ticks": ""
            },
            "colorscale": [
             [
              0,
              "#0d0887"
             ],
             [
              0.1111111111111111,
              "#46039f"
             ],
             [
              0.2222222222222222,
              "#7201a8"
             ],
             [
              0.3333333333333333,
              "#9c179e"
             ],
             [
              0.4444444444444444,
              "#bd3786"
             ],
             [
              0.5555555555555556,
              "#d8576b"
             ],
             [
              0.6666666666666666,
              "#ed7953"
             ],
             [
              0.7777777777777778,
              "#fb9f3a"
             ],
             [
              0.8888888888888888,
              "#fdca26"
             ],
             [
              1,
              "#f0f921"
             ]
            ],
            "type": "heatmap"
           }
          ],
          "heatmapgl": [
           {
            "colorbar": {
             "outlinewidth": 0,
             "ticks": ""
            },
            "colorscale": [
             [
              0,
              "#0d0887"
             ],
             [
              0.1111111111111111,
              "#46039f"
             ],
             [
              0.2222222222222222,
              "#7201a8"
             ],
             [
              0.3333333333333333,
              "#9c179e"
             ],
             [
              0.4444444444444444,
              "#bd3786"
             ],
             [
              0.5555555555555556,
              "#d8576b"
             ],
             [
              0.6666666666666666,
              "#ed7953"
             ],
             [
              0.7777777777777778,
              "#fb9f3a"
             ],
             [
              0.8888888888888888,
              "#fdca26"
             ],
             [
              1,
              "#f0f921"
             ]
            ],
            "type": "heatmapgl"
           }
          ],
          "histogram": [
           {
            "marker": {
             "pattern": {
              "fillmode": "overlay",
              "size": 10,
              "solidity": 0.2
             }
            },
            "type": "histogram"
           }
          ],
          "histogram2d": [
           {
            "colorbar": {
             "outlinewidth": 0,
             "ticks": ""
            },
            "colorscale": [
             [
              0,
              "#0d0887"
             ],
             [
              0.1111111111111111,
              "#46039f"
             ],
             [
              0.2222222222222222,
              "#7201a8"
             ],
             [
              0.3333333333333333,
              "#9c179e"
             ],
             [
              0.4444444444444444,
              "#bd3786"
             ],
             [
              0.5555555555555556,
              "#d8576b"
             ],
             [
              0.6666666666666666,
              "#ed7953"
             ],
             [
              0.7777777777777778,
              "#fb9f3a"
             ],
             [
              0.8888888888888888,
              "#fdca26"
             ],
             [
              1,
              "#f0f921"
             ]
            ],
            "type": "histogram2d"
           }
          ],
          "histogram2dcontour": [
           {
            "colorbar": {
             "outlinewidth": 0,
             "ticks": ""
            },
            "colorscale": [
             [
              0,
              "#0d0887"
             ],
             [
              0.1111111111111111,
              "#46039f"
             ],
             [
              0.2222222222222222,
              "#7201a8"
             ],
             [
              0.3333333333333333,
              "#9c179e"
             ],
             [
              0.4444444444444444,
              "#bd3786"
             ],
             [
              0.5555555555555556,
              "#d8576b"
             ],
             [
              0.6666666666666666,
              "#ed7953"
             ],
             [
              0.7777777777777778,
              "#fb9f3a"
             ],
             [
              0.8888888888888888,
              "#fdca26"
             ],
             [
              1,
              "#f0f921"
             ]
            ],
            "type": "histogram2dcontour"
           }
          ],
          "mesh3d": [
           {
            "colorbar": {
             "outlinewidth": 0,
             "ticks": ""
            },
            "type": "mesh3d"
           }
          ],
          "parcoords": [
           {
            "line": {
             "colorbar": {
              "outlinewidth": 0,
              "ticks": ""
             }
            },
            "type": "parcoords"
           }
          ],
          "pie": [
           {
            "automargin": true,
            "type": "pie"
           }
          ],
          "scatter": [
           {
            "fillpattern": {
             "fillmode": "overlay",
             "size": 10,
             "solidity": 0.2
            },
            "type": "scatter"
           }
          ],
          "scatter3d": [
           {
            "line": {
             "colorbar": {
              "outlinewidth": 0,
              "ticks": ""
             }
            },
            "marker": {
             "colorbar": {
              "outlinewidth": 0,
              "ticks": ""
             }
            },
            "type": "scatter3d"
           }
          ],
          "scattercarpet": [
           {
            "marker": {
             "colorbar": {
              "outlinewidth": 0,
              "ticks": ""
             }
            },
            "type": "scattercarpet"
           }
          ],
          "scattergeo": [
           {
            "marker": {
             "colorbar": {
              "outlinewidth": 0,
              "ticks": ""
             }
            },
            "type": "scattergeo"
           }
          ],
          "scattergl": [
           {
            "marker": {
             "colorbar": {
              "outlinewidth": 0,
              "ticks": ""
             }
            },
            "type": "scattergl"
           }
          ],
          "scattermapbox": [
           {
            "marker": {
             "colorbar": {
              "outlinewidth": 0,
              "ticks": ""
             }
            },
            "type": "scattermapbox"
           }
          ],
          "scatterpolar": [
           {
            "marker": {
             "colorbar": {
              "outlinewidth": 0,
              "ticks": ""
             }
            },
            "type": "scatterpolar"
           }
          ],
          "scatterpolargl": [
           {
            "marker": {
             "colorbar": {
              "outlinewidth": 0,
              "ticks": ""
             }
            },
            "type": "scatterpolargl"
           }
          ],
          "scatterternary": [
           {
            "marker": {
             "colorbar": {
              "outlinewidth": 0,
              "ticks": ""
             }
            },
            "type": "scatterternary"
           }
          ],
          "surface": [
           {
            "colorbar": {
             "outlinewidth": 0,
             "ticks": ""
            },
            "colorscale": [
             [
              0,
              "#0d0887"
             ],
             [
              0.1111111111111111,
              "#46039f"
             ],
             [
              0.2222222222222222,
              "#7201a8"
             ],
             [
              0.3333333333333333,
              "#9c179e"
             ],
             [
              0.4444444444444444,
              "#bd3786"
             ],
             [
              0.5555555555555556,
              "#d8576b"
             ],
             [
              0.6666666666666666,
              "#ed7953"
             ],
             [
              0.7777777777777778,
              "#fb9f3a"
             ],
             [
              0.8888888888888888,
              "#fdca26"
             ],
             [
              1,
              "#f0f921"
             ]
            ],
            "type": "surface"
           }
          ],
          "table": [
           {
            "cells": {
             "fill": {
              "color": "#EBF0F8"
             },
             "line": {
              "color": "white"
             }
            },
            "header": {
             "fill": {
              "color": "#C8D4E3"
             },
             "line": {
              "color": "white"
             }
            },
            "type": "table"
           }
          ]
         },
         "layout": {
          "annotationdefaults": {
           "arrowcolor": "#2a3f5f",
           "arrowhead": 0,
           "arrowwidth": 1
          },
          "autotypenumbers": "strict",
          "coloraxis": {
           "colorbar": {
            "outlinewidth": 0,
            "ticks": ""
           }
          },
          "colorscale": {
           "diverging": [
            [
             0,
             "#8e0152"
            ],
            [
             0.1,
             "#c51b7d"
            ],
            [
             0.2,
             "#de77ae"
            ],
            [
             0.3,
             "#f1b6da"
            ],
            [
             0.4,
             "#fde0ef"
            ],
            [
             0.5,
             "#f7f7f7"
            ],
            [
             0.6,
             "#e6f5d0"
            ],
            [
             0.7,
             "#b8e186"
            ],
            [
             0.8,
             "#7fbc41"
            ],
            [
             0.9,
             "#4d9221"
            ],
            [
             1,
             "#276419"
            ]
           ],
           "sequential": [
            [
             0,
             "#0d0887"
            ],
            [
             0.1111111111111111,
             "#46039f"
            ],
            [
             0.2222222222222222,
             "#7201a8"
            ],
            [
             0.3333333333333333,
             "#9c179e"
            ],
            [
             0.4444444444444444,
             "#bd3786"
            ],
            [
             0.5555555555555556,
             "#d8576b"
            ],
            [
             0.6666666666666666,
             "#ed7953"
            ],
            [
             0.7777777777777778,
             "#fb9f3a"
            ],
            [
             0.8888888888888888,
             "#fdca26"
            ],
            [
             1,
             "#f0f921"
            ]
           ],
           "sequentialminus": [
            [
             0,
             "#0d0887"
            ],
            [
             0.1111111111111111,
             "#46039f"
            ],
            [
             0.2222222222222222,
             "#7201a8"
            ],
            [
             0.3333333333333333,
             "#9c179e"
            ],
            [
             0.4444444444444444,
             "#bd3786"
            ],
            [
             0.5555555555555556,
             "#d8576b"
            ],
            [
             0.6666666666666666,
             "#ed7953"
            ],
            [
             0.7777777777777778,
             "#fb9f3a"
            ],
            [
             0.8888888888888888,
             "#fdca26"
            ],
            [
             1,
             "#f0f921"
            ]
           ]
          },
          "colorway": [
           "#636efa",
           "#EF553B",
           "#00cc96",
           "#ab63fa",
           "#FFA15A",
           "#19d3f3",
           "#FF6692",
           "#B6E880",
           "#FF97FF",
           "#FECB52"
          ],
          "font": {
           "color": "#2a3f5f"
          },
          "geo": {
           "bgcolor": "white",
           "lakecolor": "white",
           "landcolor": "#E5ECF6",
           "showlakes": true,
           "showland": true,
           "subunitcolor": "white"
          },
          "hoverlabel": {
           "align": "left"
          },
          "hovermode": "closest",
          "mapbox": {
           "style": "light"
          },
          "paper_bgcolor": "white",
          "plot_bgcolor": "#E5ECF6",
          "polar": {
           "angularaxis": {
            "gridcolor": "white",
            "linecolor": "white",
            "ticks": ""
           },
           "bgcolor": "#E5ECF6",
           "radialaxis": {
            "gridcolor": "white",
            "linecolor": "white",
            "ticks": ""
           }
          },
          "scene": {
           "xaxis": {
            "backgroundcolor": "#E5ECF6",
            "gridcolor": "white",
            "gridwidth": 2,
            "linecolor": "white",
            "showbackground": true,
            "ticks": "",
            "zerolinecolor": "white"
           },
           "yaxis": {
            "backgroundcolor": "#E5ECF6",
            "gridcolor": "white",
            "gridwidth": 2,
            "linecolor": "white",
            "showbackground": true,
            "ticks": "",
            "zerolinecolor": "white"
           },
           "zaxis": {
            "backgroundcolor": "#E5ECF6",
            "gridcolor": "white",
            "gridwidth": 2,
            "linecolor": "white",
            "showbackground": true,
            "ticks": "",
            "zerolinecolor": "white"
           }
          },
          "shapedefaults": {
           "line": {
            "color": "#2a3f5f"
           }
          },
          "ternary": {
           "aaxis": {
            "gridcolor": "white",
            "linecolor": "white",
            "ticks": ""
           },
           "baxis": {
            "gridcolor": "white",
            "linecolor": "white",
            "ticks": ""
           },
           "bgcolor": "#E5ECF6",
           "caxis": {
            "gridcolor": "white",
            "linecolor": "white",
            "ticks": ""
           }
          },
          "title": {
           "x": 0.05
          },
          "xaxis": {
           "automargin": true,
           "gridcolor": "white",
           "linecolor": "white",
           "ticks": "",
           "title": {
            "standoff": 15
           },
           "zerolinecolor": "white",
           "zerolinewidth": 2
          },
          "yaxis": {
           "automargin": true,
           "gridcolor": "white",
           "linecolor": "white",
           "ticks": "",
           "title": {
            "standoff": 15
           },
           "zerolinecolor": "white",
           "zerolinewidth": 2
          }
         }
        },
        "title": {
         "text": "Distribution of Scores by Model and Type of Hypothesis"
        },
        "xaxis": {
         "anchor": "y",
         "domain": [
          0,
          1
         ],
         "title": {
          "text": "th"
         }
        },
        "yaxis": {
         "anchor": "x",
         "domain": [
          0,
          1
         ],
         "title": {
          "text": "rank"
         }
        }
       }
      }
     },
     "metadata": {},
     "output_type": "display_data"
    }
   ],
   "source": [
    "fig = px.box(comparison_h[comparison_h.m!=\"human\"].groupby([\"th\", \"giv\", \"i_shuffled\", \"m\"]).agg({\"rank\": \"mean\"}).reset_index(), x='th', y='rank', color='m', points='all',\n",
    "             #labels={'Score': 'Scores', 'Model': 'Models', 'Type of Hypothesis': 'Type of Hypothesis'}\n",
    "             color_discrete_map=COLOR_PALETTE\n",
    "             )\n",
    "fig.update_layout(title='Distribution of Scores by Model and Type of Hypothesis')\n",
    "fig.write_image(\"../visualisations/user_studies_ai_h_ranks_mean.pdf\", format='pdf')\n",
    "fig.show()"
   ]
  },
  {
   "cell_type": "code",
   "execution_count": 54,
   "metadata": {},
   "outputs": [
    {
     "data": {
      "application/vnd.plotly.v1+json": {
       "config": {
        "plotlyServerURL": "https://plot.ly"
       },
       "data": [
        {
         "alignmentgroup": "True",
         "boxpoints": "all",
         "hovertemplate": "m=human<br>th=%{x}<br>rank=%{y}<extra></extra>",
         "legendgroup": "human",
         "marker": {
          "color": "rgb(136, 204, 238)"
         },
         "name": "human",
         "notched": false,
         "offsetgroup": "human",
         "orientation": "v",
         "showlegend": true,
         "type": "box",
         "x": [
          "regular",
          "regular",
          "regular",
          "regular",
          "regular",
          "regular",
          "regular",
          "regular",
          "regular",
          "regular",
          "regular",
          "regular",
          "regular",
          "regular",
          "regular",
          "regular",
          "regular",
          "regular",
          "regular",
          "regular",
          "regular",
          "regular",
          "regular",
          "regular",
          "regular",
          "regular",
          "regular",
          "regular",
          "regular",
          "regular",
          "regular",
          "regular",
          "regular",
          "regular",
          "regular",
          "regular",
          "regular",
          "regular",
          "regular",
          "regular",
          "regular",
          "regular",
          "regular",
          "regular",
          "regular",
          "regular",
          "regular",
          "regular",
          "regular",
          "regular",
          "study_mod",
          "study_mod",
          "study_mod",
          "study_mod",
          "study_mod",
          "study_mod",
          "study_mod",
          "study_mod",
          "study_mod",
          "study_mod",
          "study_mod",
          "study_mod",
          "study_mod",
          "study_mod",
          "study_mod",
          "study_mod",
          "study_mod",
          "study_mod",
          "study_mod",
          "study_mod",
          "study_mod",
          "study_mod",
          "study_mod",
          "study_mod",
          "study_mod",
          "study_mod",
          "study_mod",
          "study_mod",
          "study_mod",
          "study_mod",
          "study_mod",
          "study_mod",
          "study_mod",
          "study_mod",
          "study_mod",
          "study_mod",
          "study_mod",
          "study_mod",
          "study_mod",
          "study_mod",
          "study_mod",
          "study_mod",
          "study_mod",
          "study_mod",
          "study_mod",
          "study_mod",
          "study_mod",
          "study_mod",
          "study_mod",
          "study_mod",
          "var_mod",
          "var_mod",
          "var_mod",
          "var_mod",
          "var_mod",
          "var_mod",
          "var_mod",
          "var_mod",
          "var_mod",
          "var_mod",
          "var_mod",
          "var_mod",
          "var_mod",
          "var_mod",
          "var_mod",
          "var_mod",
          "var_mod",
          "var_mod",
          "var_mod",
          "var_mod",
          "var_mod",
          "var_mod",
          "var_mod",
          "var_mod",
          "var_mod",
          "var_mod",
          "var_mod",
          "var_mod",
          "var_mod",
          "var_mod",
          "var_mod",
          "var_mod",
          "var_mod",
          "var_mod",
          "var_mod",
          "var_mod",
          "var_mod",
          "var_mod",
          "var_mod",
          "var_mod",
          "var_mod",
          "var_mod",
          "var_mod",
          "var_mod",
          "var_mod",
          "var_mod",
          "var_mod",
          "var_mod",
          "var_mod",
          "var_mod"
         ],
         "x0": " ",
         "xaxis": "x",
         "y": [
          7,
          8,
          3,
          5,
          9,
          2,
          7,
          8,
          1,
          10,
          8,
          1,
          2,
          4,
          6,
          11,
          5,
          5,
          2,
          7,
          5,
          3,
          1,
          7,
          11,
          9,
          5,
          1,
          1,
          11,
          8,
          4,
          2,
          2,
          10,
          3,
          3,
          3,
          3,
          9,
          5,
          1,
          4,
          4,
          6,
          1,
          2,
          5,
          5,
          4,
          8,
          1,
          1,
          1,
          11,
          2,
          4,
          2,
          2,
          10,
          6,
          3,
          3,
          3,
          9,
          4,
          2,
          4,
          4,
          8,
          1,
          6,
          5,
          5,
          7,
          8,
          1,
          1,
          1,
          11,
          1,
          2,
          2,
          2,
          10,
          2,
          7,
          3,
          3,
          9,
          5,
          4,
          4,
          4,
          8,
          7,
          8,
          5,
          5,
          7,
          7,
          4,
          1,
          7,
          11,
          6,
          1,
          2,
          8,
          10,
          2,
          2,
          3,
          9,
          9,
          11,
          5,
          4,
          10,
          8,
          1,
          6,
          5,
          11,
          7,
          11,
          1,
          1,
          1,
          11,
          10,
          2,
          2,
          2,
          10,
          2,
          3,
          3,
          3,
          9,
          6,
          5,
          4,
          4,
          8,
          4,
          7,
          8,
          5,
          7
         ],
         "y0": " ",
         "yaxis": "y"
        },
        {
         "alignmentgroup": "True",
         "boxpoints": "all",
         "hovertemplate": "m=classification<br>th=%{x}<br>rank=%{y}<extra></extra>",
         "legendgroup": "classification",
         "marker": {
          "color": "rgb(204, 102, 119)"
         },
         "name": "classification",
         "notched": false,
         "offsetgroup": "classification",
         "orientation": "v",
         "showlegend": true,
         "type": "box",
         "x": [
          "regular",
          "regular",
          "regular",
          "regular",
          "regular",
          "regular",
          "regular",
          "regular",
          "regular",
          "regular",
          "regular",
          "regular",
          "regular",
          "regular",
          "regular",
          "regular",
          "regular",
          "regular",
          "regular",
          "regular",
          "study_mod",
          "study_mod",
          "study_mod",
          "study_mod",
          "study_mod",
          "study_mod",
          "study_mod",
          "study_mod",
          "study_mod",
          "study_mod",
          "study_mod",
          "study_mod",
          "study_mod",
          "study_mod",
          "study_mod",
          "study_mod",
          "study_mod",
          "study_mod",
          "study_mod",
          "study_mod",
          "var_mod",
          "var_mod",
          "var_mod",
          "var_mod",
          "var_mod",
          "var_mod",
          "var_mod",
          "var_mod",
          "var_mod",
          "var_mod",
          "var_mod",
          "var_mod",
          "var_mod",
          "var_mod",
          "var_mod",
          "var_mod",
          "var_mod",
          "var_mod",
          "var_mod",
          "var_mod"
         ],
         "x0": " ",
         "xaxis": "x",
         "y": [
          6,
          10,
          6,
          10,
          4,
          3,
          2,
          9,
          8,
          8,
          6,
          8,
          8,
          7,
          7,
          2,
          6,
          7,
          8,
          5,
          9,
          9,
          7,
          9,
          6,
          7,
          8,
          6,
          8,
          5,
          9,
          9,
          9,
          10,
          5,
          11,
          11,
          11,
          8,
          1,
          3,
          9,
          9,
          4,
          6,
          4,
          10,
          10,
          5,
          5,
          9,
          10,
          5,
          7,
          3,
          5,
          9,
          6,
          8,
          6
         ],
         "y0": " ",
         "yaxis": "y"
        },
        {
         "alignmentgroup": "True",
         "boxpoints": "all",
         "hovertemplate": "m=llm_zero_shot_prompting<br>th=%{x}<br>rank=%{y}<extra></extra>",
         "legendgroup": "llm_zero_shot_prompting",
         "marker": {
          "color": "rgb(221, 204, 119)"
         },
         "name": "llm_zero_shot_prompting",
         "notched": false,
         "offsetgroup": "llm_zero_shot_prompting",
         "orientation": "v",
         "showlegend": true,
         "type": "box",
         "x": [
          "regular",
          "regular",
          "regular",
          "regular",
          "regular",
          "regular",
          "regular",
          "regular",
          "regular",
          "regular",
          "regular",
          "regular",
          "regular",
          "regular",
          "regular",
          "regular",
          "regular",
          "regular",
          "regular",
          "regular",
          "study_mod",
          "study_mod",
          "study_mod",
          "study_mod",
          "study_mod",
          "study_mod",
          "study_mod",
          "study_mod",
          "study_mod",
          "study_mod",
          "study_mod",
          "study_mod",
          "study_mod",
          "study_mod",
          "study_mod",
          "study_mod",
          "study_mod",
          "study_mod",
          "study_mod",
          "study_mod",
          "var_mod",
          "var_mod",
          "var_mod",
          "var_mod",
          "var_mod",
          "var_mod",
          "var_mod",
          "var_mod",
          "var_mod",
          "var_mod",
          "var_mod",
          "var_mod",
          "var_mod",
          "var_mod",
          "var_mod",
          "var_mod",
          "var_mod",
          "var_mod",
          "var_mod",
          "var_mod"
         ],
         "x0": " ",
         "xaxis": "x",
         "y": [
          9,
          11,
          7,
          11,
          2,
          10,
          6,
          4,
          6,
          5,
          7,
          9,
          10,
          10,
          2,
          10,
          10,
          11,
          11,
          1,
          10,
          7,
          8,
          10,
          4,
          3,
          5,
          9,
          11,
          3,
          3,
          5,
          6,
          6,
          3,
          4,
          6,
          7,
          7,
          2,
          9,
          8,
          7,
          2,
          2,
          5,
          11,
          11,
          6,
          4,
          1,
          8,
          10,
          6,
          4,
          7,
          11,
          11,
          9,
          2
         ],
         "y0": " ",
         "yaxis": "y"
        },
        {
         "alignmentgroup": "True",
         "boxpoints": "all",
         "hovertemplate": "m=anyburl<br>th=%{x}<br>rank=%{y}<extra></extra>",
         "legendgroup": "anyburl",
         "marker": {
          "color": "rgb(17, 119, 51)"
         },
         "name": "anyburl",
         "notched": false,
         "offsetgroup": "anyburl",
         "orientation": "v",
         "showlegend": true,
         "type": "box",
         "x": [
          "regular",
          "regular",
          "regular",
          "regular",
          "regular",
          "regular",
          "regular",
          "regular",
          "regular",
          "regular",
          "regular",
          "regular",
          "regular",
          "regular",
          "regular",
          "regular",
          "regular",
          "regular",
          "regular",
          "regular",
          "study_mod",
          "study_mod",
          "study_mod",
          "study_mod",
          "study_mod",
          "study_mod",
          "study_mod",
          "study_mod",
          "study_mod",
          "study_mod",
          "study_mod",
          "study_mod",
          "study_mod",
          "study_mod",
          "study_mod",
          "study_mod",
          "study_mod",
          "study_mod",
          "study_mod",
          "study_mod",
          "var_mod",
          "var_mod",
          "var_mod",
          "var_mod",
          "var_mod",
          "var_mod",
          "var_mod",
          "var_mod",
          "var_mod",
          "var_mod",
          "var_mod",
          "var_mod",
          "var_mod",
          "var_mod",
          "var_mod",
          "var_mod",
          "var_mod",
          "var_mod",
          "var_mod",
          "var_mod"
         ],
         "x0": " ",
         "xaxis": "x",
         "y": [
          1,
          9,
          10,
          3,
          1,
          4,
          4,
          11,
          9,
          3,
          11,
          11,
          9,
          9,
          3,
          4,
          7,
          6,
          6,
          8,
          11,
          10,
          10,
          6,
          2,
          5,
          11,
          11,
          7,
          1,
          6,
          3,
          8,
          11,
          6,
          10,
          10,
          10,
          9,
          4,
          8,
          3,
          6,
          1,
          3,
          10,
          7,
          8,
          3,
          1,
          3,
          4,
          9,
          11,
          5,
          8,
          6,
          7,
          10,
          1
         ],
         "y0": " ",
         "yaxis": "y"
        }
       ],
       "layout": {
        "boxmode": "group",
        "legend": {
         "title": {
          "text": "m"
         },
         "tracegroupgap": 0
        },
        "margin": {
         "t": 60
        },
        "template": {
         "data": {
          "bar": [
           {
            "error_x": {
             "color": "#2a3f5f"
            },
            "error_y": {
             "color": "#2a3f5f"
            },
            "marker": {
             "line": {
              "color": "#E5ECF6",
              "width": 0.5
             },
             "pattern": {
              "fillmode": "overlay",
              "size": 10,
              "solidity": 0.2
             }
            },
            "type": "bar"
           }
          ],
          "barpolar": [
           {
            "marker": {
             "line": {
              "color": "#E5ECF6",
              "width": 0.5
             },
             "pattern": {
              "fillmode": "overlay",
              "size": 10,
              "solidity": 0.2
             }
            },
            "type": "barpolar"
           }
          ],
          "carpet": [
           {
            "aaxis": {
             "endlinecolor": "#2a3f5f",
             "gridcolor": "white",
             "linecolor": "white",
             "minorgridcolor": "white",
             "startlinecolor": "#2a3f5f"
            },
            "baxis": {
             "endlinecolor": "#2a3f5f",
             "gridcolor": "white",
             "linecolor": "white",
             "minorgridcolor": "white",
             "startlinecolor": "#2a3f5f"
            },
            "type": "carpet"
           }
          ],
          "choropleth": [
           {
            "colorbar": {
             "outlinewidth": 0,
             "ticks": ""
            },
            "type": "choropleth"
           }
          ],
          "contour": [
           {
            "colorbar": {
             "outlinewidth": 0,
             "ticks": ""
            },
            "colorscale": [
             [
              0,
              "#0d0887"
             ],
             [
              0.1111111111111111,
              "#46039f"
             ],
             [
              0.2222222222222222,
              "#7201a8"
             ],
             [
              0.3333333333333333,
              "#9c179e"
             ],
             [
              0.4444444444444444,
              "#bd3786"
             ],
             [
              0.5555555555555556,
              "#d8576b"
             ],
             [
              0.6666666666666666,
              "#ed7953"
             ],
             [
              0.7777777777777778,
              "#fb9f3a"
             ],
             [
              0.8888888888888888,
              "#fdca26"
             ],
             [
              1,
              "#f0f921"
             ]
            ],
            "type": "contour"
           }
          ],
          "contourcarpet": [
           {
            "colorbar": {
             "outlinewidth": 0,
             "ticks": ""
            },
            "type": "contourcarpet"
           }
          ],
          "heatmap": [
           {
            "colorbar": {
             "outlinewidth": 0,
             "ticks": ""
            },
            "colorscale": [
             [
              0,
              "#0d0887"
             ],
             [
              0.1111111111111111,
              "#46039f"
             ],
             [
              0.2222222222222222,
              "#7201a8"
             ],
             [
              0.3333333333333333,
              "#9c179e"
             ],
             [
              0.4444444444444444,
              "#bd3786"
             ],
             [
              0.5555555555555556,
              "#d8576b"
             ],
             [
              0.6666666666666666,
              "#ed7953"
             ],
             [
              0.7777777777777778,
              "#fb9f3a"
             ],
             [
              0.8888888888888888,
              "#fdca26"
             ],
             [
              1,
              "#f0f921"
             ]
            ],
            "type": "heatmap"
           }
          ],
          "heatmapgl": [
           {
            "colorbar": {
             "outlinewidth": 0,
             "ticks": ""
            },
            "colorscale": [
             [
              0,
              "#0d0887"
             ],
             [
              0.1111111111111111,
              "#46039f"
             ],
             [
              0.2222222222222222,
              "#7201a8"
             ],
             [
              0.3333333333333333,
              "#9c179e"
             ],
             [
              0.4444444444444444,
              "#bd3786"
             ],
             [
              0.5555555555555556,
              "#d8576b"
             ],
             [
              0.6666666666666666,
              "#ed7953"
             ],
             [
              0.7777777777777778,
              "#fb9f3a"
             ],
             [
              0.8888888888888888,
              "#fdca26"
             ],
             [
              1,
              "#f0f921"
             ]
            ],
            "type": "heatmapgl"
           }
          ],
          "histogram": [
           {
            "marker": {
             "pattern": {
              "fillmode": "overlay",
              "size": 10,
              "solidity": 0.2
             }
            },
            "type": "histogram"
           }
          ],
          "histogram2d": [
           {
            "colorbar": {
             "outlinewidth": 0,
             "ticks": ""
            },
            "colorscale": [
             [
              0,
              "#0d0887"
             ],
             [
              0.1111111111111111,
              "#46039f"
             ],
             [
              0.2222222222222222,
              "#7201a8"
             ],
             [
              0.3333333333333333,
              "#9c179e"
             ],
             [
              0.4444444444444444,
              "#bd3786"
             ],
             [
              0.5555555555555556,
              "#d8576b"
             ],
             [
              0.6666666666666666,
              "#ed7953"
             ],
             [
              0.7777777777777778,
              "#fb9f3a"
             ],
             [
              0.8888888888888888,
              "#fdca26"
             ],
             [
              1,
              "#f0f921"
             ]
            ],
            "type": "histogram2d"
           }
          ],
          "histogram2dcontour": [
           {
            "colorbar": {
             "outlinewidth": 0,
             "ticks": ""
            },
            "colorscale": [
             [
              0,
              "#0d0887"
             ],
             [
              0.1111111111111111,
              "#46039f"
             ],
             [
              0.2222222222222222,
              "#7201a8"
             ],
             [
              0.3333333333333333,
              "#9c179e"
             ],
             [
              0.4444444444444444,
              "#bd3786"
             ],
             [
              0.5555555555555556,
              "#d8576b"
             ],
             [
              0.6666666666666666,
              "#ed7953"
             ],
             [
              0.7777777777777778,
              "#fb9f3a"
             ],
             [
              0.8888888888888888,
              "#fdca26"
             ],
             [
              1,
              "#f0f921"
             ]
            ],
            "type": "histogram2dcontour"
           }
          ],
          "mesh3d": [
           {
            "colorbar": {
             "outlinewidth": 0,
             "ticks": ""
            },
            "type": "mesh3d"
           }
          ],
          "parcoords": [
           {
            "line": {
             "colorbar": {
              "outlinewidth": 0,
              "ticks": ""
             }
            },
            "type": "parcoords"
           }
          ],
          "pie": [
           {
            "automargin": true,
            "type": "pie"
           }
          ],
          "scatter": [
           {
            "fillpattern": {
             "fillmode": "overlay",
             "size": 10,
             "solidity": 0.2
            },
            "type": "scatter"
           }
          ],
          "scatter3d": [
           {
            "line": {
             "colorbar": {
              "outlinewidth": 0,
              "ticks": ""
             }
            },
            "marker": {
             "colorbar": {
              "outlinewidth": 0,
              "ticks": ""
             }
            },
            "type": "scatter3d"
           }
          ],
          "scattercarpet": [
           {
            "marker": {
             "colorbar": {
              "outlinewidth": 0,
              "ticks": ""
             }
            },
            "type": "scattercarpet"
           }
          ],
          "scattergeo": [
           {
            "marker": {
             "colorbar": {
              "outlinewidth": 0,
              "ticks": ""
             }
            },
            "type": "scattergeo"
           }
          ],
          "scattergl": [
           {
            "marker": {
             "colorbar": {
              "outlinewidth": 0,
              "ticks": ""
             }
            },
            "type": "scattergl"
           }
          ],
          "scattermapbox": [
           {
            "marker": {
             "colorbar": {
              "outlinewidth": 0,
              "ticks": ""
             }
            },
            "type": "scattermapbox"
           }
          ],
          "scatterpolar": [
           {
            "marker": {
             "colorbar": {
              "outlinewidth": 0,
              "ticks": ""
             }
            },
            "type": "scatterpolar"
           }
          ],
          "scatterpolargl": [
           {
            "marker": {
             "colorbar": {
              "outlinewidth": 0,
              "ticks": ""
             }
            },
            "type": "scatterpolargl"
           }
          ],
          "scatterternary": [
           {
            "marker": {
             "colorbar": {
              "outlinewidth": 0,
              "ticks": ""
             }
            },
            "type": "scatterternary"
           }
          ],
          "surface": [
           {
            "colorbar": {
             "outlinewidth": 0,
             "ticks": ""
            },
            "colorscale": [
             [
              0,
              "#0d0887"
             ],
             [
              0.1111111111111111,
              "#46039f"
             ],
             [
              0.2222222222222222,
              "#7201a8"
             ],
             [
              0.3333333333333333,
              "#9c179e"
             ],
             [
              0.4444444444444444,
              "#bd3786"
             ],
             [
              0.5555555555555556,
              "#d8576b"
             ],
             [
              0.6666666666666666,
              "#ed7953"
             ],
             [
              0.7777777777777778,
              "#fb9f3a"
             ],
             [
              0.8888888888888888,
              "#fdca26"
             ],
             [
              1,
              "#f0f921"
             ]
            ],
            "type": "surface"
           }
          ],
          "table": [
           {
            "cells": {
             "fill": {
              "color": "#EBF0F8"
             },
             "line": {
              "color": "white"
             }
            },
            "header": {
             "fill": {
              "color": "#C8D4E3"
             },
             "line": {
              "color": "white"
             }
            },
            "type": "table"
           }
          ]
         },
         "layout": {
          "annotationdefaults": {
           "arrowcolor": "#2a3f5f",
           "arrowhead": 0,
           "arrowwidth": 1
          },
          "autotypenumbers": "strict",
          "coloraxis": {
           "colorbar": {
            "outlinewidth": 0,
            "ticks": ""
           }
          },
          "colorscale": {
           "diverging": [
            [
             0,
             "#8e0152"
            ],
            [
             0.1,
             "#c51b7d"
            ],
            [
             0.2,
             "#de77ae"
            ],
            [
             0.3,
             "#f1b6da"
            ],
            [
             0.4,
             "#fde0ef"
            ],
            [
             0.5,
             "#f7f7f7"
            ],
            [
             0.6,
             "#e6f5d0"
            ],
            [
             0.7,
             "#b8e186"
            ],
            [
             0.8,
             "#7fbc41"
            ],
            [
             0.9,
             "#4d9221"
            ],
            [
             1,
             "#276419"
            ]
           ],
           "sequential": [
            [
             0,
             "#0d0887"
            ],
            [
             0.1111111111111111,
             "#46039f"
            ],
            [
             0.2222222222222222,
             "#7201a8"
            ],
            [
             0.3333333333333333,
             "#9c179e"
            ],
            [
             0.4444444444444444,
             "#bd3786"
            ],
            [
             0.5555555555555556,
             "#d8576b"
            ],
            [
             0.6666666666666666,
             "#ed7953"
            ],
            [
             0.7777777777777778,
             "#fb9f3a"
            ],
            [
             0.8888888888888888,
             "#fdca26"
            ],
            [
             1,
             "#f0f921"
            ]
           ],
           "sequentialminus": [
            [
             0,
             "#0d0887"
            ],
            [
             0.1111111111111111,
             "#46039f"
            ],
            [
             0.2222222222222222,
             "#7201a8"
            ],
            [
             0.3333333333333333,
             "#9c179e"
            ],
            [
             0.4444444444444444,
             "#bd3786"
            ],
            [
             0.5555555555555556,
             "#d8576b"
            ],
            [
             0.6666666666666666,
             "#ed7953"
            ],
            [
             0.7777777777777778,
             "#fb9f3a"
            ],
            [
             0.8888888888888888,
             "#fdca26"
            ],
            [
             1,
             "#f0f921"
            ]
           ]
          },
          "colorway": [
           "#636efa",
           "#EF553B",
           "#00cc96",
           "#ab63fa",
           "#FFA15A",
           "#19d3f3",
           "#FF6692",
           "#B6E880",
           "#FF97FF",
           "#FECB52"
          ],
          "font": {
           "color": "#2a3f5f"
          },
          "geo": {
           "bgcolor": "white",
           "lakecolor": "white",
           "landcolor": "#E5ECF6",
           "showlakes": true,
           "showland": true,
           "subunitcolor": "white"
          },
          "hoverlabel": {
           "align": "left"
          },
          "hovermode": "closest",
          "mapbox": {
           "style": "light"
          },
          "paper_bgcolor": "white",
          "plot_bgcolor": "#E5ECF6",
          "polar": {
           "angularaxis": {
            "gridcolor": "white",
            "linecolor": "white",
            "ticks": ""
           },
           "bgcolor": "#E5ECF6",
           "radialaxis": {
            "gridcolor": "white",
            "linecolor": "white",
            "ticks": ""
           }
          },
          "scene": {
           "xaxis": {
            "backgroundcolor": "#E5ECF6",
            "gridcolor": "white",
            "gridwidth": 2,
            "linecolor": "white",
            "showbackground": true,
            "ticks": "",
            "zerolinecolor": "white"
           },
           "yaxis": {
            "backgroundcolor": "#E5ECF6",
            "gridcolor": "white",
            "gridwidth": 2,
            "linecolor": "white",
            "showbackground": true,
            "ticks": "",
            "zerolinecolor": "white"
           },
           "zaxis": {
            "backgroundcolor": "#E5ECF6",
            "gridcolor": "white",
            "gridwidth": 2,
            "linecolor": "white",
            "showbackground": true,
            "ticks": "",
            "zerolinecolor": "white"
           }
          },
          "shapedefaults": {
           "line": {
            "color": "#2a3f5f"
           }
          },
          "ternary": {
           "aaxis": {
            "gridcolor": "white",
            "linecolor": "white",
            "ticks": ""
           },
           "baxis": {
            "gridcolor": "white",
            "linecolor": "white",
            "ticks": ""
           },
           "bgcolor": "#E5ECF6",
           "caxis": {
            "gridcolor": "white",
            "linecolor": "white",
            "ticks": ""
           }
          },
          "title": {
           "x": 0.05
          },
          "xaxis": {
           "automargin": true,
           "gridcolor": "white",
           "linecolor": "white",
           "ticks": "",
           "title": {
            "standoff": 15
           },
           "zerolinecolor": "white",
           "zerolinewidth": 2
          },
          "yaxis": {
           "automargin": true,
           "gridcolor": "white",
           "linecolor": "white",
           "ticks": "",
           "title": {
            "standoff": 15
           },
           "zerolinecolor": "white",
           "zerolinewidth": 2
          }
         }
        },
        "title": {
         "text": "Distribution of Scores by Model and Type of Hypothesis"
        },
        "xaxis": {
         "anchor": "y",
         "domain": [
          0,
          1
         ],
         "title": {
          "text": "th"
         }
        },
        "yaxis": {
         "anchor": "x",
         "domain": [
          0,
          1
         ],
         "title": {
          "text": "rank"
         }
        }
       }
      }
     },
     "metadata": {},
     "output_type": "display_data"
    }
   ],
   "source": [
    "fig = px.box(comparison_h, x='th', y='rank', color='m', points='all',\n",
    "             #labels={'Score': 'Scores', 'Model': 'Models', 'Type of Hypothesis': 'Type of Hypothesis'}\n",
    "             color_discrete_map=COLOR_PALETTE\n",
    "             )\n",
    "fig.update_layout(title='Distribution of Scores by Model and Type of Hypothesis')\n",
    "fig.write_image(\"../visualisations/user_studies_ai_human_h_ranks.pdf\", format='pdf')\n",
    "fig.show()"
   ]
  },
  {
   "cell_type": "code",
   "execution_count": 55,
   "metadata": {},
   "outputs": [
    {
     "data": {
      "text/html": [
       "<div>\n",
       "<style scoped>\n",
       "    .dataframe tbody tr th:only-of-type {\n",
       "        vertical-align: middle;\n",
       "    }\n",
       "\n",
       "    .dataframe tbody tr th {\n",
       "        vertical-align: top;\n",
       "    }\n",
       "\n",
       "    .dataframe thead th {\n",
       "        text-align: right;\n",
       "    }\n",
       "</style>\n",
       "<table border=\"1\" class=\"dataframe\">\n",
       "  <thead>\n",
       "    <tr style=\"text-align: right;\">\n",
       "      <th></th>\n",
       "      <th></th>\n",
       "      <th>user_id</th>\n",
       "    </tr>\n",
       "    <tr>\n",
       "      <th>m</th>\n",
       "      <th>user_id</th>\n",
       "      <th></th>\n",
       "    </tr>\n",
       "  </thead>\n",
       "  <tbody>\n",
       "    <tr>\n",
       "      <th rowspan=\"4\" valign=\"top\">anyburl</th>\n",
       "      <th>0</th>\n",
       "      <td>2</td>\n",
       "    </tr>\n",
       "    <tr>\n",
       "      <th>1</th>\n",
       "      <td>2</td>\n",
       "    </tr>\n",
       "    <tr>\n",
       "      <th>3</th>\n",
       "      <td>3</td>\n",
       "    </tr>\n",
       "    <tr>\n",
       "      <th>4</th>\n",
       "      <td>8</td>\n",
       "    </tr>\n",
       "    <tr>\n",
       "      <th rowspan=\"3\" valign=\"top\">classification</th>\n",
       "      <th>0</th>\n",
       "      <td>3</td>\n",
       "    </tr>\n",
       "    <tr>\n",
       "      <th>1</th>\n",
       "      <td>1</td>\n",
       "    </tr>\n",
       "    <tr>\n",
       "      <th>4</th>\n",
       "      <td>2</td>\n",
       "    </tr>\n",
       "    <tr>\n",
       "      <th rowspan=\"4\" valign=\"top\">human</th>\n",
       "      <th>0</th>\n",
       "      <td>10</td>\n",
       "    </tr>\n",
       "    <tr>\n",
       "      <th>1</th>\n",
       "      <td>15</td>\n",
       "    </tr>\n",
       "    <tr>\n",
       "      <th>2</th>\n",
       "      <td>18</td>\n",
       "    </tr>\n",
       "    <tr>\n",
       "      <th>3</th>\n",
       "      <td>14</td>\n",
       "    </tr>\n",
       "    <tr>\n",
       "      <th rowspan=\"3\" valign=\"top\">llm_zero_shot_prompting</th>\n",
       "      <th>0</th>\n",
       "      <td>3</td>\n",
       "    </tr>\n",
       "    <tr>\n",
       "      <th>3</th>\n",
       "      <td>1</td>\n",
       "    </tr>\n",
       "    <tr>\n",
       "      <th>4</th>\n",
       "      <td>8</td>\n",
       "    </tr>\n",
       "  </tbody>\n",
       "</table>\n",
       "</div>"
      ],
      "text/plain": [
       "                                 user_id\n",
       "m                       user_id         \n",
       "anyburl                 0              2\n",
       "                        1              2\n",
       "                        3              3\n",
       "                        4              8\n",
       "classification          0              3\n",
       "                        1              1\n",
       "                        4              2\n",
       "human                   0             10\n",
       "                        1             15\n",
       "                        2             18\n",
       "                        3             14\n",
       "llm_zero_shot_prompting 0              3\n",
       "                        3              1\n",
       "                        4              8"
      ]
     },
     "execution_count": 55,
     "metadata": {},
     "output_type": "execute_result"
    }
   ],
   "source": [
    "comparison_h[comparison_h[\"rank\"]<=3].groupby([\"m\", \"user_id\"]).agg({\"user_id\": \"count\"})"
   ]
  },
  {
   "cell_type": "code",
   "execution_count": 56,
   "metadata": {},
   "outputs": [
    {
     "data": {
      "text/html": [
       "<div>\n",
       "<style scoped>\n",
       "    .dataframe tbody tr th:only-of-type {\n",
       "        vertical-align: middle;\n",
       "    }\n",
       "\n",
       "    .dataframe tbody tr th {\n",
       "        vertical-align: top;\n",
       "    }\n",
       "\n",
       "    .dataframe thead th {\n",
       "        text-align: right;\n",
       "    }\n",
       "</style>\n",
       "<table border=\"1\" class=\"dataframe\">\n",
       "  <thead>\n",
       "    <tr style=\"text-align: right;\">\n",
       "      <th></th>\n",
       "      <th>rank_regular</th>\n",
       "      <th>rank_study_mod</th>\n",
       "      <th>rank_var_mod</th>\n",
       "      <th>score_regular</th>\n",
       "      <th>score_study_mod</th>\n",
       "      <th>score_var_mod</th>\n",
       "    </tr>\n",
       "    <tr>\n",
       "      <th>m</th>\n",
       "      <th></th>\n",
       "      <th></th>\n",
       "      <th></th>\n",
       "      <th></th>\n",
       "      <th></th>\n",
       "      <th></th>\n",
       "    </tr>\n",
       "  </thead>\n",
       "  <tbody>\n",
       "    <tr>\n",
       "      <th>anyburl</th>\n",
       "      <td>6.45</td>\n",
       "      <td>7.55</td>\n",
       "      <td>5.7</td>\n",
       "      <td>3.000000</td>\n",
       "      <td>1.85</td>\n",
       "      <td>3.10</td>\n",
       "    </tr>\n",
       "    <tr>\n",
       "      <th>classification</th>\n",
       "      <td>6.5</td>\n",
       "      <td>7.9</td>\n",
       "      <td>6.65</td>\n",
       "      <td>3.500000</td>\n",
       "      <td>1.55</td>\n",
       "      <td>3.35</td>\n",
       "    </tr>\n",
       "    <tr>\n",
       "      <th>human</th>\n",
       "      <td>4.98</td>\n",
       "      <td>4.64</td>\n",
       "      <td>5.58</td>\n",
       "      <td>3.777778</td>\n",
       "      <td>3.60</td>\n",
       "      <td>4.05</td>\n",
       "    </tr>\n",
       "    <tr>\n",
       "      <th>llm_zero_shot_prompting</th>\n",
       "      <td>7.6</td>\n",
       "      <td>5.95</td>\n",
       "      <td>6.7</td>\n",
       "      <td>2.050000</td>\n",
       "      <td>2.75</td>\n",
       "      <td>2.90</td>\n",
       "    </tr>\n",
       "  </tbody>\n",
       "</table>\n",
       "</div>"
      ],
      "text/plain": [
       "                        rank_regular rank_study_mod rank_var_mod  \\\n",
       "m                                                                  \n",
       "anyburl                         6.45           7.55          5.7   \n",
       "classification                   6.5            7.9         6.65   \n",
       "human                           4.98           4.64         5.58   \n",
       "llm_zero_shot_prompting          7.6           5.95          6.7   \n",
       "\n",
       "                         score_regular  score_study_mod  score_var_mod  \n",
       "m                                                                       \n",
       "anyburl                       3.000000             1.85           3.10  \n",
       "classification                3.500000             1.55           3.35  \n",
       "human                         3.777778             3.60           4.05  \n",
       "llm_zero_shot_prompting       2.050000             2.75           2.90  "
      ]
     },
     "execution_count": 56,
     "metadata": {},
     "output_type": "execute_result"
    }
   ],
   "source": [
    "columns = ['th', 'giv', 'm', 'user_id', 'i_shuffled']\n",
    "data_table = pd.merge(comparison_h[columns + ['rank']], df_score_h_ai_human[columns + ['score']], on=columns, how='left').groupby([\"m\", \"th\"]).agg({\"score\": \"mean\", \"rank\": \"mean\"}).reset_index().pivot_table(index=\"m\", columns=\"th\")\n",
    "data_table.columns = [\"_\".join(x) for x in data_table.columns]\n",
    "data_table"
   ]
  },
  {
   "cell_type": "code",
   "execution_count": 57,
   "metadata": {},
   "outputs": [
    {
     "name": "stdout",
     "output_type": "stream",
     "text": [
      "human & 3.8 & 5.0 & 3.6 & 4.6 & 4.0 & 5.6\\\\ \n",
      "classification & 3.5 & 6.5 & 1.6 & 7.9 & 3.4 & 6.7\\\\ \n",
      "anyburl & 3.0 & 6.5 & 1.8 & 7.5 & 3.1 & 5.7\\\\ \n",
      "llm & 2.0 & 7.6 & 2.8 & 6.0 & 2.9 & 6.7\\\\ \n",
      "\n"
     ]
    }
   ],
   "source": [
    "def get_data_overleaf(df):\n",
    "    res = []\n",
    "    for model in [\"human\", \"classification\", \"anyburl\", \"llm_zero_shot_prompting\"]:\n",
    "        curr_res = [model.split(\"_\")[0]]\n",
    "        curr_df = df[df.index==model]\n",
    "        for th in [\"regular\", \"study_mod\", \"var_mod\"]:\n",
    "            for metric in [\"score\", \"rank\"]:\n",
    "                curr_res.append(str(round(curr_df[f\"{metric}_{th}\"].values[0], 1)))\n",
    "        res.append(\" & \".join(curr_res))\n",
    "    return \"\\\\\\\\ \\n\".join(res) + \"\\\\\\\\ \\n\"\n",
    "\n",
    "print(get_data_overleaf(data_table))"
   ]
  },
  {
   "cell_type": "code",
   "execution_count": null,
   "metadata": {},
   "outputs": [],
   "source": []
  }
 ],
 "metadata": {
  "kernelspec": {
   "display_name": "coda_narratives",
   "language": "python",
   "name": "python3"
  },
  "language_info": {
   "codemirror_mode": {
    "name": "ipython",
    "version": 3
   },
   "file_extension": ".py",
   "mimetype": "text/x-python",
   "name": "python",
   "nbconvert_exporter": "python",
   "pygments_lexer": "ipython3",
   "version": "3.10.8"
  }
 },
 "nbformat": 4,
 "nbformat_minor": 2
}
